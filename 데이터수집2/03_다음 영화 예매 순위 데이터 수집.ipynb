{
 "cells": [
  {
   "cell_type": "code",
   "execution_count": 1,
   "id": "413f79c2-fb47-4df0-be69-eff33c4340e5",
   "metadata": {
    "execution": {
     "iopub.execute_input": "2022-08-11T07:41:23.316593Z",
     "iopub.status.busy": "2022-08-11T07:41:23.316593Z",
     "iopub.status.idle": "2022-08-11T07:41:23.764769Z",
     "shell.execute_reply": "2022-08-11T07:41:23.764769Z",
     "shell.execute_reply.started": "2022-08-11T07:41:23.316593Z"
    },
    "tags": []
   },
   "outputs": [],
   "source": [
    "import bs4\n",
    "import requests\n",
    "import pandas as pd\n",
    "import numpy as np\n",
    "import time\n",
    "import os\n",
    "from IPython.display import clear_output"
   ]
  },
  {
   "cell_type": "code",
   "execution_count": 2,
   "id": "72065f43-206d-4210-a00e-ddc887de07a8",
   "metadata": {
    "execution": {
     "iopub.execute_input": "2022-08-11T07:41:23.765762Z",
     "iopub.status.busy": "2022-08-11T07:41:23.765762Z",
     "iopub.status.idle": "2022-08-11T07:41:23.780781Z",
     "shell.execute_reply": "2022-08-11T07:41:23.780781Z",
     "shell.execute_reply.started": "2022-08-11T07:41:23.765762Z"
    },
    "tags": []
   },
   "outputs": [],
   "source": [
    "# 요청 함수\n",
    "def getSource(site) :\n",
    "    # 해더 정보 셋팅\n",
    "    header_info = {\n",
    "        'User-Agent' : 'Mozilla/5.0 (Windows NT 10.0; Win64; x64) AppleWebKit/537.36 (KHTML, like Gecko) Chrome/104.0.0.0 Safari/537.36'\n",
    "    }\n",
    "    # 요청한다.\n",
    "    response = requests.get(site, headers=header_info)\n",
    "    return response.text"
   ]
  },
  {
   "cell_type": "code",
   "execution_count": 3,
   "id": "b6fce410-917c-4db0-9099-bde80d6a60c6",
   "metadata": {
    "execution": {
     "iopub.execute_input": "2022-08-11T07:41:23.782783Z",
     "iopub.status.busy": "2022-08-11T07:41:23.781773Z",
     "iopub.status.idle": "2022-08-11T07:41:23.796733Z",
     "shell.execute_reply": "2022-08-11T07:41:23.796733Z",
     "shell.execute_reply.started": "2022-08-11T07:41:23.782783Z"
    },
    "tags": []
   },
   "outputs": [],
   "source": [
    "# 한 페이지의 데이터를 수집해 저장하는 함수\n",
    "def getData(source):\n",
    "    \n",
    "    # bs4 객체를 생성한다.\n",
    "    soup = bs4.BeautifulSoup(source)\n",
    "    \n",
    "    # 영화 전체를 가져온다.\n",
    "    li_list = soup.select('#mainContent > div > div.box_ranking > ol > li')\n",
    "    \n",
    "    # 데이터를 담을 딕셔너리\n",
    "    data_dict = {\n",
    "        '영화제목' : [],\n",
    "        '평점' : [],\n",
    "        '예매율' : [],\n",
    "        '개봉일' : [],\n",
    "        '영화설명' : [],\n",
    "        '관람등급' : []\n",
    "    }\n",
    "    \n",
    "    for li_tag in li_list :\n",
    "        # print(li_tag)\n",
    "        # print('---------------------------')\n",
    "        \n",
    "        # 영화제목\n",
    "        a1 = li_tag.select_one('a.link_txt')\n",
    "        data1 = getText(a1)\n",
    "        \n",
    "        # 평점\n",
    "        a2 = li_tag.select_one('span.txt_grade')\n",
    "        data2 = getText(a2)\n",
    "        \n",
    "        # 예매율\n",
    "        a3 = li_tag.select_one('div > div.thumb_cont > span.txt_append > span:nth-child(2) > span')\n",
    "        data3 = getText(a3)[:-1]\n",
    "         \n",
    "        # 개봉일\n",
    "        a4 = li_tag.select_one('div > div.thumb_cont > span.txt_info > span')\n",
    "        data4 = getText(a4)\n",
    "        \n",
    "        # 영화 설명\n",
    "        a5 = li_tag.select_one(' div > div.thumb_item > div.poster_info > a')\n",
    "        data5 = getText(a5)\n",
    "        \n",
    "        # 관람등급\n",
    "        a6 = li_tag.select_one('div > div.thumb_item > div.poster_movie > span.txt_tag > span')\n",
    "        data6 = getText(a6)\n",
    "        \n",
    "        # 포스터\n",
    "        a7 = li_tag.select_one('div > div.thumb_item > div.poster_movie > img')\n",
    "        src = a7.attrs['src']\n",
    "        data7 = a7['src']\n",
    "        \n",
    "        # 이미지 파일 데이터를 받아온다.\n",
    "        img_res = requests.get(src)\n",
    "        \n",
    "        # 파일 이름 정제\n",
    "        file_name = data1\n",
    "        file_name = file_name.replace('\\\\', ' ')\n",
    "        file_name = file_name.replace('/', ' ')\n",
    "        file_name = file_name.replace(':', ' ')\n",
    "        file_name = file_name.replace('?', ' ')\n",
    "        file_name = file_name.replace('\"', ' ')\n",
    "        file_name = file_name.replace('*', ' ')\n",
    "        file_name = file_name.replace('<', ' ')\n",
    "        file_name = file_name.replace('>', ' ')\n",
    "        file_name = file_name.replace('|', ' ')\n",
    "        \n",
    "        # 이미지를 저장한다.\n",
    "        with open(f'./03_poster/{file_name}.jpg', 'wb') as fp :\n",
    "            fp.write(img_res.content)\n",
    "        \n",
    "        # 데이터를 담는다\n",
    "        data_dict['영화제목'].append(data1)\n",
    "        data_dict['평점'].append(data2)\n",
    "        data_dict['예매율'].append(data3)\n",
    "        data_dict['개봉일'].append(data4)\n",
    "        data_dict['영화설명'].append(data5)\n",
    "        data_dict['관람등급'].append(data6)\n",
    "        \n",
    "    # 데이터 프레임 생성\n",
    "    df1 = pd.DataFrame(data_dict)\n",
    "    df1.to_csv('./03_data.csv', encoding='utf-8-sig', index=False)"
   ]
  },
  {
   "cell_type": "code",
   "execution_count": 4,
   "id": "961507b5-df9b-483f-b56a-f9c124f32c67",
   "metadata": {
    "execution": {
     "iopub.execute_input": "2022-08-11T07:41:23.797732Z",
     "iopub.status.busy": "2022-08-11T07:41:23.797732Z",
     "iopub.status.idle": "2022-08-11T07:41:23.813323Z",
     "shell.execute_reply": "2022-08-11T07:41:23.812753Z",
     "shell.execute_reply.started": "2022-08-11T07:41:23.797732Z"
    }
   },
   "outputs": [],
   "source": [
    "# 전달된 태그로 부터 문자열 데이터를 추출해 반환하는 함수\n",
    "def getText(tag):\n",
    "    # 태그가 없다면\n",
    "    if tag == None :\n",
    "        return np.nan\n",
    "    # 문자열을 가져온다.\n",
    "    data = tag.text.strip()\n",
    "    # 길이가 0 이라면...\n",
    "    if len(data) == 0 :\n",
    "        return np.nan\n",
    "    return data"
   ]
  },
  {
   "cell_type": "code",
   "execution_count": 5,
   "id": "b3614207-6ac0-422a-8873-b86c7c46b57e",
   "metadata": {
    "execution": {
     "iopub.execute_input": "2022-08-11T07:41:23.814324Z",
     "iopub.status.busy": "2022-08-11T07:41:23.814324Z",
     "iopub.status.idle": "2022-08-11T07:41:25.687016Z",
     "shell.execute_reply": "2022-08-11T07:41:25.687016Z",
     "shell.execute_reply.started": "2022-08-11T07:41:23.814324Z"
    },
    "tags": []
   },
   "outputs": [
    {
     "name": "stdout",
     "output_type": "stream",
     "text": [
      "수집완료\n"
     ]
    }
   ],
   "source": [
    "# 페이지의 주소\n",
    "site = 'https://movie.daum.net/ranking/reservation'\n",
    "\n",
    "source = getSource(site)\n",
    "\n",
    "getData(source)\n",
    "\n",
    "print('수집완료')"
   ]
  },
  {
   "cell_type": "code",
   "execution_count": null,
   "id": "c872fd3d-78f0-42bd-a41b-80c95ae21524",
   "metadata": {},
   "outputs": [],
   "source": []
  }
 ],
 "metadata": {
  "kernelspec": {
   "display_name": "Python 3 (ipykernel)",
   "language": "python",
   "name": "python3"
  },
  "language_info": {
   "codemirror_mode": {
    "name": "ipython",
    "version": 3
   },
   "file_extension": ".py",
   "mimetype": "text/x-python",
   "name": "python",
   "nbconvert_exporter": "python",
   "pygments_lexer": "ipython3",
   "version": "3.9.12"
  }
 },
 "nbformat": 4,
 "nbformat_minor": 5
}
