{
 "cells": [
  {
   "cell_type": "markdown",
   "id": "daa1583e-d0ac-4cd0-a0e5-d55084a29688",
   "metadata": {},
   "source": [
    "- 페이지 소스보기 했을 때 원하는 데이터가 없다.\n",
    "- 화면에는 원하는 데이터가 있다.\n",
    "- 크롬의 개발자 도구를 띄워주고 network 탭을 눌러준다.\n",
    "- 페이지에 변화를 주고 network 탭에 떠있는 주소 정보에 xhr이라고 되어 있는지 확인한다.\n",
    "- xhr 이라고 되어 있으면 비동기통신이다.\n",
    "- xhr 이라고 되어 있는 곳의 name이 요청 주소가 되며 name 부분을 더블클릭해서 띄워본다."
   ]
  },
  {
   "cell_type": "code",
   "execution_count": 7,
   "id": "d364a705-488e-4e23-8f7f-9c7a8efa3b7d",
   "metadata": {},
   "outputs": [],
   "source": [
    "import bs4\n",
    "import requests\n",
    "import pandas as pd\n",
    "import numpy as np\n",
    "import time\n",
    "import os\n",
    "from IPython.display import clear_output"
   ]
  },
  {
   "cell_type": "code",
   "execution_count": 8,
   "id": "4b3e051d-459c-4bac-8046-ccd48c2aca99",
   "metadata": {},
   "outputs": [],
   "source": [
    "# 요청 함수\n",
    "def getSource(site) :\n",
    "    # 해더 정보 셋팅\n",
    "    header_info = {\n",
    "        'User-Agent' : 'Mozilla/5.0 (Windows NT 10.0; Win64; x64) AppleWebKit/537.36 (KHTML, like Gecko) Chrome/104.0.0.0 Safari/537.36'\n",
    "    }\n",
    "    # 요청한다.\n",
    "    response = requests.get(site, headers=header_info)\n",
    "    return response.text"
   ]
  },
  {
   "cell_type": "code",
   "execution_count": 9,
   "id": "2c2bcdb2-6c31-498e-8c93-514c6f967523",
   "metadata": {},
   "outputs": [],
   "source": [
    "# 한 페이지의 데이터를 가져오는 함수\n",
    "def getData(source) :\n",
    "    # bs4 객체를 생성한다.\n",
    "    soup = bs4.BeautifulSoup(source)\n",
    "    \n",
    "    # 경기 덩어리들을 가져온다.\n",
    "    li_list = soup.select('#todaySchedule > li')\n",
    "    \n",
    "    # 데이터를 담을 딕셔너리\n",
    "    data_dict = {\n",
    "        '팀1이름' : [],\n",
    "        '팀2이름' : [],\n",
    "        '팀1점수' : [],\n",
    "        '팀2점수' : [],\n",
    "    }\n",
    "    \n",
    "    for li_tag in li_list :\n",
    "        # print(li_tag)\n",
    "        \n",
    "        # class 속성이 있는가..\n",
    "        if 'class' in li_tag.attrs :\n",
    "            # class 속성들을 가지고 온다.\n",
    "            a1 = li_tag.attrs['class']\n",
    "            # end 라는 class 속성이 있는가..\n",
    "            if 'end' in a1 :\n",
    "                # print(a1)\n",
    "                \n",
    "                # 팀1 이름\n",
    "                a10 = li_tag.select_one('div.vs_lft > p > strong')\n",
    "                data1 = getText(a10)\n",
    "                \n",
    "                # 팀2 이름\n",
    "                a20 = li_tag.select_one('div.vs_rgt > p > strong')\n",
    "                data2 = getText(a20)\n",
    "                \n",
    "                # 팀1 점수\n",
    "                a30 = li_tag.select_one('div.vs_lft > strong')\n",
    "                data3 = getText(a30)\n",
    "                \n",
    "                # 팀2 점수\n",
    "                a40 = li_tag.select_one('div.vs_rgt > strong')\n",
    "                data4 = getText(a40)\n",
    "                \n",
    "                # print(data1)\n",
    "                # print(data2)\n",
    "                # print(data3)\n",
    "                # print(data4)\n",
    "                # print('----------------------------------------')\n",
    "                \n",
    "                \n",
    "                data_dict['팀1이름'].append(data1)\n",
    "                data_dict['팀2이름'].append(data2)\n",
    "                data_dict['팀1점수'].append(data3)\n",
    "                data_dict['팀2점수'].append(data4)\n",
    "        \n",
    "    df1 = pd.DataFrame(data_dict)\n",
    "    \n",
    "    if os.path.exists('./06_data.csv') == False :\n",
    "        df1.to_csv('./06_data.csv', encoding='utf-8-sig', index=False)\n",
    "    else :\n",
    "        df1.to_csv('./06_data.csv', encoding='utf-8-sig', index=False, header=None, mode='a')"
   ]
  },
  {
   "cell_type": "code",
   "execution_count": 10,
   "id": "4acb89ab-17b0-4fde-a2ff-53a1690e8127",
   "metadata": {
    "tags": []
   },
   "outputs": [],
   "source": [
    "# 전달된 태그로 부터 문자열 데이터를 추출해 반환하는 함수\n",
    "def getText(tag):\n",
    "    # 태그가 없다면\n",
    "    if tag == None :\n",
    "        return np.nan\n",
    "    # 문자열을 가져온다.\n",
    "    data = tag.text.strip()\n",
    "    # 길이가 0 이라면...\n",
    "    if len(data) == 0 :\n",
    "        return np.nan\n",
    "    return data"
   ]
  },
  {
   "cell_type": "code",
   "execution_count": 11,
   "id": "53dd4d63-afc7-445a-a919-5bbe6dcb68a5",
   "metadata": {},
   "outputs": [],
   "source": [
    "# 다음에 수집할 날짜를 가져온다.\n",
    "def getNextDate(source, today) :\n",
    "    \n",
    "    soup = bs4.BeautifulSoup(source)\n",
    "    \n",
    "    # 날짜 덩어리들을 가져온다.\n",
    "    li_list = soup.select('body > div > ul > li')\n",
    "    if today == '20080329':\n",
    "        next_tag = li_list[2]\n",
    "    elif today == '20080330':\n",
    "        next_tag = li_list[3]\n",
    "    elif today == '20080401':\n",
    "        next_tag = li_list[4]\n",
    "    else :\n",
    "        next_tag = li_list[5]\n",
    "        \n",
    "    # print(next_tag)\n",
    "    \n",
    "    # next_tag안의 a태그를 가져온다.\n",
    "    a_tag = next_tag.select_one('a')\n",
    "    # print(a_tag)\n",
    "    # onclick 속성을 가져온다.\n",
    "    onclick = a_tag.attrs['onclick']\n",
    "    # print(onclick)\n",
    "    \n",
    "    # 작은 따옴표를 기준으로 잘라낸다.\n",
    "    a100 = onclick.split(\"'\")\n",
    "    next_day = a100[1]\n",
    "    # print(next_day)\n",
    "    return next_day"
   ]
  },
  {
   "cell_type": "code",
   "execution_count": 12,
   "id": "7031f0cd-adf1-4287-9027-f9365405d631",
   "metadata": {},
   "outputs": [
    {
     "name": "stdout",
     "output_type": "stream",
     "text": [
      "20211118 수집중...\n",
      "수집완료\n"
     ]
    }
   ],
   "source": [
    "today = '20080329'\n",
    "while True :\n",
    "    time.sleep(1)\n",
    "    clear_output(wait=True)\n",
    "    \n",
    "    print(f'{today} 수집중...')\n",
    "    \n",
    "    site = f'https://sports.news.naver.com/schedule/scoreBoard?date={today}&category=kbo&direction=before'\n",
    "\n",
    "    # 요청한다.\n",
    "    source = getSource(site)\n",
    "    # print(source)\n",
    "\n",
    "    # 한 페이지의 데이터를 가져온다.\n",
    "    getData(source)\n",
    "\n",
    "    # 다름 날짜를 가져온다.\n",
    "    today = getNextDate(source, today)\n",
    "    # print(today)\n",
    "    \n",
    "    # 가져온 다음 날짜가 2022로 시작하면 while문을 중단한다.\n",
    "    if today.startswith('2022'):\n",
    "        print('수집완료')\n",
    "        break"
   ]
  },
  {
   "cell_type": "code",
   "execution_count": null,
   "id": "0b7e8b97-2c8b-4b01-a99f-f521352221bf",
   "metadata": {},
   "outputs": [],
   "source": []
  }
 ],
 "metadata": {
  "kernelspec": {
   "display_name": "Python 3 (ipykernel)",
   "language": "python",
   "name": "python3"
  },
  "language_info": {
   "codemirror_mode": {
    "name": "ipython",
    "version": 3
   },
   "file_extension": ".py",
   "mimetype": "text/x-python",
   "name": "python",
   "nbconvert_exporter": "python",
   "pygments_lexer": "ipython3",
   "version": "3.9.12"
  }
 },
 "nbformat": 4,
 "nbformat_minor": 5
}
