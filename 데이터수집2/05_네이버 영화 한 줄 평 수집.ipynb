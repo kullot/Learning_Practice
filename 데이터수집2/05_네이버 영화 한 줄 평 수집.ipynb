{
 "cells": [
  {
   "cell_type": "code",
   "execution_count": 80,
   "id": "53b8cea6-3f91-4af0-8255-ce4afef8409e",
   "metadata": {
    "tags": []
   },
   "outputs": [],
   "source": [
    "import bs4\n",
    "import requests\n",
    "import pandas as pd\n",
    "import numpy as np\n",
    "import time\n",
    "import os\n",
    "from IPython.display import clear_output"
   ]
  },
  {
   "cell_type": "code",
   "execution_count": 81,
   "id": "0a87cc1c-8727-4824-9379-0f81f467822b",
   "metadata": {
    "tags": []
   },
   "outputs": [],
   "source": [
    "# 요청 함수\n",
    "def getSource(site) :\n",
    "    # 해더 정보 셋팅\n",
    "    header_info = {\n",
    "        'User-Agent' : 'Mozilla/5.0 (Windows NT 10.0; Win64; x64) AppleWebKit/537.36 (KHTML, like Gecko) Chrome/104.0.0.0 Safari/537.36'\n",
    "    }\n",
    "    # 요청한다.\n",
    "    response = requests.get(site, headers=header_info)\n",
    "    return response.text"
   ]
  },
  {
   "cell_type": "code",
   "execution_count": 87,
   "id": "c9f3528a-92e3-4ff2-bec0-1db0ce3b1445",
   "metadata": {},
   "outputs": [],
   "source": [
    "# 한 페이지의 데이터를 가져오는 함수\n",
    "def getData(source):\n",
    "    # bs4 객체를 생성한다.\n",
    "    soup = bs4.BeautifulSoup(source)\n",
    "    \n",
    "    # li 태그들을 가져온다.\n",
    "    li_list = soup.select('body > div > div > div.score_result > ul > li')\n",
    "    \n",
    "    data_dict = {\n",
    "        '평점' : [],\n",
    "        '작성자' : [],\n",
    "        '작성시간' : [],\n",
    "        '공감수' : [],\n",
    "        '비공감수' : [],\n",
    "        '평가글' : [],\n",
    "    }\n",
    "    \n",
    "    for idx, li_tag in enumerate(li_list):\n",
    "        # print(li_tag)\n",
    "        # print('-------------------------')\n",
    "        \n",
    "        # 평점\n",
    "        a1 = li_tag.select_one('div.star_score > em')\n",
    "        data1 = getText(a1)\n",
    "        \n",
    "        # 작성자\n",
    "        a2 = li_tag.select_one('a > span')\n",
    "        data2 = getText(a2)\n",
    "        \n",
    "        # 작성시간\n",
    "        a3 = li_tag.select_one('div.score_reple > dl > dt > em:nth-child(2)')\n",
    "        data3 = getText(a3)\n",
    "        \n",
    "        # 공감수\n",
    "        a4 = li_tag.select_one('div.btn_area > a._sympathyButton > strong')\n",
    "        data4 = getText(a4)\n",
    "        \n",
    "        # 비공감수\n",
    "        a5 = li_tag.select_one('div.btn_area > a._notSympathyButton > strong')\n",
    "        data5 = getText(a5)\n",
    "        \n",
    "        # 평가글\n",
    "        # 접혀져 있는 글을 가져온다.\n",
    "        a6 = li_tag.select_one(f'#_unfold_ment{idx} > a')\n",
    "        if a6 != None :\n",
    "            a7 = a6.attrs['data-src']\n",
    "            data6 = a7.strip()\n",
    "        else :\n",
    "            a7 = li_tag.select_one(f'#_filtered_ment_{idx}')\n",
    "            data6 = getText(a7)\n",
    "        \n",
    "        # 데이터를 담는다.\n",
    "        data_dict['평점'].append(data1)\n",
    "        data_dict['작성자'].append(data2)\n",
    "        data_dict['작성시간'].append(data3)\n",
    "        data_dict['공감수'].append(data4)\n",
    "        data_dict['비공감수'].append(data5)\n",
    "        data_dict['평가글'].append(data6)\n",
    "        \n",
    "    df1 = pd.DataFrame(data_dict)\n",
    "    \n",
    "    if os.path.exists('./05_data.csv') == False :\n",
    "        df1.to_csv('./05_data.csv', encoding='utf-8-sig', index=False)\n",
    "    else :\n",
    "        df1.to_csv('./05_data.csv', encoding='utf-8-sig', index=False, header=None, mode='a')\n",
    "\n",
    "        # print(data1)\n",
    "        # print(data2)\n",
    "        # print(data3)\n",
    "        # print(data4)\n",
    "        # print(data5)\n",
    "        # print(data6)\n",
    "        # print('-------------------------')"
   ]
  },
  {
   "cell_type": "code",
   "execution_count": 88,
   "id": "8729e3d0-4f95-402a-8575-4be8fb8643a7",
   "metadata": {
    "tags": []
   },
   "outputs": [],
   "source": [
    "# 전달된 태그로 부터 문자열 데이터를 추출해 반환하는 함수\n",
    "def getText(tag):\n",
    "    # 태그가 없다면\n",
    "    if tag == None :\n",
    "        return np.nan\n",
    "    # 문자열을 가져온다.\n",
    "    data = tag.text.strip()\n",
    "    # 길이가 0 이라면...\n",
    "    if len(data) == 0 :\n",
    "        return np.nan\n",
    "    return data"
   ]
  },
  {
   "cell_type": "code",
   "execution_count": 89,
   "id": "f537a828-cdd3-45cc-b605-5067f74e7720",
   "metadata": {},
   "outputs": [],
   "source": [
    "def getPageCnt(source) :\n",
    "    soup = bs4.BeautifulSoup(source)\n",
    "    \n",
    "    # 전체 글 개수를 가져온다.\n",
    "    a1 = soup.select_one('body > div > div > div.score_total > strong > em')\n",
    "    data1 = getText(a1)\n",
    "    # print(data1)\n",
    "    \n",
    "    # 쉼표를 제거한다.\n",
    "    data1 = data1.replace(',', '')\n",
    "    # 공백 제거한다.\n",
    "    data1 = data1.strip()\n",
    "    # 숫자로 변환한다.\n",
    "    data2 = int(data1)\n",
    "    # 10으로 나눈 몫을 구한다.\n",
    "    page_cnt = data2 // 10\n",
    "    # 10으로 나눈 나머지를 구해 0이 아니면 1을 증가한다.\n",
    "    if data2 % 10 > 0 :\n",
    "        page_cnt = page_cnt + 1\n",
    "    return page_cnt"
   ]
  },
  {
   "cell_type": "code",
   "execution_count": 90,
   "id": "dd86b8fa-9441-44f8-9de4-8707b51fada7",
   "metadata": {
    "tags": []
   },
   "outputs": [
    {
     "name": "stdout",
     "output_type": "stream",
     "text": [
      "code : 214314, 1 / 7\n"
     ]
    },
    {
     "ename": "KeyboardInterrupt",
     "evalue": "",
     "output_type": "error",
     "traceback": [
      "\u001b[1;31m---------------------------------------------------------------------------\u001b[0m",
      "\u001b[1;31mKeyboardInterrupt\u001b[0m                         Traceback (most recent call last)",
      "Input \u001b[1;32mIn [90]\u001b[0m, in \u001b[0;36m<cell line: 10>\u001b[1;34m()\u001b[0m\n\u001b[0;32m     28\u001b[0m \u001b[38;5;66;03m# 페이지 수 만큼 반복한다.\u001b[39;00m\n\u001b[0;32m     29\u001b[0m \u001b[38;5;28;01mfor\u001b[39;00m page \u001b[38;5;129;01min\u001b[39;00m \u001b[38;5;28mrange\u001b[39m(page_cnt):\n\u001b[1;32m---> 30\u001b[0m     \u001b[43mtime\u001b[49m\u001b[38;5;241;43m.\u001b[39;49m\u001b[43msleep\u001b[49m\u001b[43m(\u001b[49m\u001b[38;5;241;43m1\u001b[39;49m\u001b[43m)\u001b[49m\n\u001b[0;32m     31\u001b[0m     clear_output(wait\u001b[38;5;241m=\u001b[39m\u001b[38;5;28;01mTrue\u001b[39;00m)\n\u001b[0;32m     33\u001b[0m     \u001b[38;5;28mprint\u001b[39m(\u001b[38;5;124mf\u001b[39m\u001b[38;5;124m'\u001b[39m\u001b[38;5;124mcode : \u001b[39m\u001b[38;5;132;01m{\u001b[39;00mcode\u001b[38;5;132;01m}\u001b[39;00m\u001b[38;5;124m, \u001b[39m\u001b[38;5;132;01m{\u001b[39;00mpage \u001b[38;5;241m+\u001b[39m \u001b[38;5;241m1\u001b[39m\u001b[38;5;132;01m}\u001b[39;00m\u001b[38;5;124m / \u001b[39m\u001b[38;5;132;01m{\u001b[39;00mpage_cnt\u001b[38;5;132;01m}\u001b[39;00m\u001b[38;5;124m'\u001b[39m)\n",
      "\u001b[1;31mKeyboardInterrupt\u001b[0m: "
     ]
    }
   ],
   "source": [
    "# 데이터를 불러온다.\n",
    "df1 = pd.read_csv('./04_data.csv')\n",
    "\n",
    "# 제목과 영화코드만 추출한다.\n",
    "df2 = df1[['제목', '영화코드']]\n",
    "\n",
    "# 영화의 수만큼 반복한다.\n",
    "movie_cnt = len(df2)\n",
    "\n",
    "for idx in range(movie_cnt):\n",
    "    a1 = df2.iloc[idx]\n",
    "    title = a1['제목']\n",
    "    code = a1['영화코드']\n",
    "    \n",
    "    # print(title)\n",
    "    # print(code)\n",
    "    # print('------------------')\n",
    "    \n",
    "    site = f'https://movie.naver.com/movie/bi/mi/pointWriteFormList.naver?code={code}&type=after&isActualPointWriteExecute=false&isMileageSubscriptionAlready=false&isMileageSubscriptionReject=false'\n",
    "    time.sleep(1)\n",
    "    clear_output(wait=True)\n",
    "    \n",
    "    # 요청한다.\n",
    "    source = getSource(site)\n",
    "    # print(source)\n",
    "    page_cnt = getPageCnt(source)\n",
    "    \n",
    "    # 페이지 수 만큼 반복한다.\n",
    "    for page in range(page_cnt):\n",
    "        time.sleep(1)\n",
    "        clear_output(wait=True)\n",
    "        \n",
    "        print(f'code : {code}, {page + 1} / {page_cnt}')\n",
    "        \n",
    "        site = f'https://movie.naver.com/movie/bi/mi/pointWriteFormList.naver?code={code}&type=after&isActualPointWriteExecute=false&isMileageSubscriptionAlready=false&isMileageSubscriptionReject=false&page={page+1}'\n",
    "        # 현재 페이지를 요청한다.\n",
    "        source2 = getSource(site)\n",
    "        # 현재 페이지의 글정보를 가져온다.\n",
    "        getData(source2)"
   ]
  },
  {
   "cell_type": "code",
   "execution_count": null,
   "id": "106506a7-fc5b-4eb3-8195-438b4d418dbd",
   "metadata": {},
   "outputs": [],
   "source": []
  },
  {
   "cell_type": "code",
   "execution_count": null,
   "id": "26453bdc-add9-4b81-9def-82fe8f80fae8",
   "metadata": {},
   "outputs": [],
   "source": []
  }
 ],
 "metadata": {
  "kernelspec": {
   "display_name": "Python 3 (ipykernel)",
   "language": "python",
   "name": "python3"
  },
  "language_info": {
   "codemirror_mode": {
    "name": "ipython",
    "version": 3
   },
   "file_extension": ".py",
   "mimetype": "text/x-python",
   "name": "python",
   "nbconvert_exporter": "python",
   "pygments_lexer": "ipython3",
   "version": "3.9.12"
  }
 },
 "nbformat": 4,
 "nbformat_minor": 5
}
