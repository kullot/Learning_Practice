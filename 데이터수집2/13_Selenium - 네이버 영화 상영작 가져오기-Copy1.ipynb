{
 "cells": [
  {
   "cell_type": "code",
   "execution_count": 1,
   "id": "4aaf799b-0c4b-481c-9bce-e7d0d822d9da",
   "metadata": {},
   "outputs": [],
   "source": [
    "import bs4\n",
    "import requests\n",
    "import pandas as pd\n",
    "import numpy as np\n",
    "import time\n",
    "import os\n",
    "from IPython.display import clear_output\n",
    "import json\n",
    "from selenium import webdriver\n",
    "from selenium.webdriver.common.by import By\n",
    "from selenium.webdriver.support.ui import Select"
   ]
  },
  {
   "cell_type": "code",
   "execution_count": 2,
   "id": "f068e8fc-fcb2-469a-b02e-0f83dabdc135",
   "metadata": {},
   "outputs": [
    {
     "name": "stderr",
     "output_type": "stream",
     "text": [
      "C:\\Users\\Kullot\\AppData\\Local\\Temp\\ipykernel_61080\\1540666709.py:2: DeprecationWarning: executable_path has been deprecated, please pass in a Service object\n",
      "  driver = webdriver.Chrome('chromedriver.exe')\n"
     ]
    }
   ],
   "source": [
    "# 웹 드라이버 실행\n",
    "driver = webdriver.Chrome('chromedriver.exe')"
   ]
  },
  {
   "cell_type": "code",
   "execution_count": 3,
   "id": "02e82d1e-8b6e-48ee-a021-ff6ee4068b5e",
   "metadata": {},
   "outputs": [],
   "source": [
    "# 네이버 영화 상영작 페이지를 요청한다.\n",
    "site = 'https://movie.naver.com/movie/running/current.naver#'\n",
    "driver.get(site)"
   ]
  },
  {
   "cell_type": "code",
   "execution_count": 4,
   "id": "93cd0b4b-dfea-474c-a541-d26b3036ac53",
   "metadata": {},
   "outputs": [],
   "source": [
    "def find_elements_by_css_selector(tag, selector) :\n",
    "    try:\n",
    "        a1 = tag.find_elements(by=By.CSS_SELECTOR, value=selector)\n",
    "        return a1\n",
    "    except:\n",
    "        return None\n",
    "def find_element_by_css_selector(tag, selector) :\n",
    "    try:\n",
    "        a1 = tag.find_element(by=By.CSS_SELECTOR, value=selector)\n",
    "        return a1\n",
    "    except:\n",
    "        return None"
   ]
  },
  {
   "cell_type": "code",
   "execution_count": 5,
   "id": "4fc06601-69e4-4a1f-955a-ad27020db5ba",
   "metadata": {},
   "outputs": [],
   "source": [
    "# 전달된 태그로 부터 문자열 데이터를 추출해 반환하는 함수\n",
    "def getText(tag):\n",
    "    # 태그가 없다면\n",
    "    if tag == None :\n",
    "        return np.nan\n",
    "    # 문자열을 가져온다.\n",
    "    data = tag.text.strip()\n",
    "    # 길이가 0 이라면...\n",
    "    if len(data) == 0 :\n",
    "        return np.nan\n",
    "    return data"
   ]
  },
  {
   "cell_type": "code",
   "execution_count": 6,
   "id": "9d54e9c4-19d9-4d75-8c82-cc8660be583e",
   "metadata": {},
   "outputs": [],
   "source": [
    "# 영화 정보 전체를 가져온다.\n",
    "s1 = '#content > div.article > div > div.lst_wrap > ul > li'\n",
    "li_list = find_elements_by_css_selector(driver, s1)"
   ]
  },
  {
   "cell_type": "code",
   "execution_count": 7,
   "id": "beba1119-975b-4a41-a89a-b4f194f8825d",
   "metadata": {},
   "outputs": [],
   "source": [
    "# 데이터를 담을 딕셔너리\n",
    "data_dict = {\n",
    "    '제목' : [],\n",
    "    '평점' : [],\n",
    "    '개요' : [],\n",
    "    '감독' : [],\n",
    "    '출연' : []\n",
    "}\n",
    "\n",
    "for li_tag in li_list :\n",
    "    # print(li_tag.text)\n",
    "    \n",
    "    # 제목\n",
    "    title_tag = find_element_by_css_selector(li_tag, 'dl > dt > a')\n",
    "    data1 = getText(title_tag)\n",
    "    \n",
    "    # 평점\n",
    "    rating_tag = find_element_by_css_selector(li_tag, 'dl > dd.star > dl > dd > div > a > span.num')\n",
    "    data2 = getText(rating_tag)\n",
    "    \n",
    "    # 개요\n",
    "    genre_tag = find_element_by_css_selector(li_tag, 'dl > dd:nth-child(3) > dl > dd:nth-child(2) > span.link_txt')\n",
    "    data3 = getText(genre_tag)\n",
    "    \n",
    "    # 감독\n",
    "    dir_tag = find_element_by_css_selector(li_tag, 'dl > dd:nth-child(3) > dl > dd:nth-child(4) > span')\n",
    "    data4 =getText(dir_tag)\n",
    "    \n",
    "     # 출연\n",
    "    act_tag = find_element_by_css_selector(li_tag, 'dl > dd:nth-child(3) > dl > dd:nth-child(6) > span')\n",
    "    data5 = getText(act_tag)\n",
    "    \n",
    "    # print(data1)\n",
    "    # print(data2)\n",
    "    # print(data3)\n",
    "    # print(data4)\n",
    "    # print(data5)\n",
    "    # print('-----------------------')\n",
    "    \n",
    "    data_dict['제목'].append(data1)\n",
    "    data_dict['평점'].append(data2)\n",
    "    data_dict['개요'].append(data3)\n",
    "    data_dict['감독'].append(data4)\n",
    "    data_dict['출연'].append(data5)\n",
    "    \n",
    "df1 = pd.DataFrame(data_dict)\n",
    "if os.path.exists('./13_data.csv') == False :\n",
    "    df1.to_csv('./13_data.csv', encoding='utf-8-sig', index=False)\n",
    "else :\n",
    "    df1.to_csv('./13_data.csv', encoding='utf-8-sig', index=False, header=None, mode='a')"
   ]
  },
  {
   "cell_type": "code",
   "execution_count": null,
   "id": "76574b47-3893-4157-b2d0-bcf14f6a04ec",
   "metadata": {},
   "outputs": [],
   "source": []
  }
 ],
 "metadata": {
  "kernelspec": {
   "display_name": "Python 3 (ipykernel)",
   "language": "python",
   "name": "python3"
  },
  "language_info": {
   "codemirror_mode": {
    "name": "ipython",
    "version": 3
   },
   "file_extension": ".py",
   "mimetype": "text/x-python",
   "name": "python",
   "nbconvert_exporter": "python",
   "pygments_lexer": "ipython3",
   "version": "3.9.12"
  }
 },
 "nbformat": 4,
 "nbformat_minor": 5
}
