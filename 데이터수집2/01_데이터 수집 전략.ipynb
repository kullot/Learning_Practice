{
 "cells": [
  {
   "cell_type": "code",
   "execution_count": 2,
   "id": "c9707d15-efd9-40ab-ba54-79d702d52403",
   "metadata": {
    "execution": {
     "iopub.execute_input": "2022-08-11T02:09:03.193868Z",
     "iopub.status.busy": "2022-08-11T02:09:03.193868Z",
     "iopub.status.idle": "2022-08-11T02:09:03.213816Z",
     "shell.execute_reply": "2022-08-11T02:09:03.213816Z",
     "shell.execute_reply.started": "2022-08-11T02:09:03.193868Z"
    },
    "tags": []
   },
   "outputs": [
    {
     "data": {
      "text/html": [
       "<style>.container { font-weight: bold !important; }</style>"
      ],
      "text/plain": [
       "<IPython.core.display.HTML object>"
      ]
     },
     "metadata": {},
     "output_type": "display_data"
    },
    {
     "data": {
      "text/html": [
       "<style>.container { width: 100% !important; }</style>"
      ],
      "text/plain": [
       "<IPython.core.display.HTML object>"
      ]
     },
     "metadata": {},
     "output_type": "display_data"
    }
   ],
   "source": [
    "# 쥬피터노트북 셀 스타일 조절 \n",
    "from IPython.core.display import display, HTML\n",
    "display(HTML(\"<style>.container { font-weight: bold !important; }</style>\"))\n",
    "display(HTML(\"<style>.container { width: 100% !important; }</style>\"))\n",
    "\n",
    "# 경고 메세지 숨기기 \n",
    "import warnings\n",
    "warnings.filterwarnings(action='ignore')\n",
    "\n",
    "# 라이브러리 임포트 \n",
    "import os\n",
    "import numpy as np\n",
    "import pandas as pd\n",
    "\n",
    "import time\n",
    "from selenium import webdriver\n",
    "from bs4 import BeautifulSoup\n",
    "import requests\n",
    "import urllib.request\n",
    "\n",
    "import matplotlib\n",
    "import matplotlib.pyplot as plt\n",
    "import seaborn as sns\n",
    "import plotly.express as px\n",
    "import plotly.graph_objects as go\n",
    "from plotly.subplots import make_subplots\n",
    "\n",
    "# gp 설정\n",
    "%matplotlib inline\n",
    "plt.rcParams['font.size'] = 11.0\n",
    "plt.rcParams['font.family'] = 'Malgun Gothic'\n",
    "plt.rcParams['axes.unicode_minus'] = False\n",
    "%config InlineBackend.figure_format = 'retina'\n",
    "\n",
    "# 그래프 기본 크기 설정 \n",
    "plt.rcParams['figure.figsize'] = [10, 6]"
   ]
  },
  {
   "cell_type": "markdown",
   "id": "e75567f2-12dc-4de0-b55f-1f0f1f0c8186",
   "metadata": {},
   "source": [
    "### 사용 모듈\n",
    "- requests 모듈 : 직접 주소를 입력하여 요청할 수 있다. requests 모듈을 통해 받아온 데이터는 웹 브라우저에서 소스보기를 했을때 나오는 코드이다. <br/>따라서 requests 모듈을 통해 받아온 데이터에는 브라우저 화면에 있는 데이터가 없을 수도 있다.\n",
    "- selenium : 웹 브라우저를 조작하여 원하는 페이지로 이동한 다음에 데이터를 받아온다. 크롬 개발자 도구의 elements 탭에 있는 데이터를 받아올 수 있다.\n",
    "- bs4 : 받아온 html, xml 데이터를 분석하여 수집한다.\n",
    "- json : 받아온 json데이터를 분석하여 수집한다.\n",
    "- feedparser : 받아온 rss데이터를 분석하여 수집한다."
   ]
  },
  {
   "cell_type": "markdown",
   "id": "0040586c-3780-4538-bdb0-282504b12d86",
   "metadata": {
    "execution": {
     "iopub.execute_input": "2022-08-11T02:31:08.190020Z",
     "iopub.status.busy": "2022-08-11T02:31:08.190020Z",
     "iopub.status.idle": "2022-08-11T02:31:08.198997Z",
     "shell.execute_reply": "2022-08-11T02:31:08.198997Z",
     "shell.execute_reply.started": "2022-08-11T02:31:08.190020Z"
    }
   },
   "source": [
    "### 웹 문서 수집시 알아야할 사항\n",
    "- 요청할 주솟 분석이 가능하다면 requests 모듈로 요청한다.\n",
    "- 요청할 주소 분석이 어렵다면 selenium을 사용한다.\n",
    "- requests 모듈은 수집시간이 짧고 selsenium은 수집시간이 길어진다.\n",
    "- 소스보기 했을 때 데이터가 있다면 : requests 모듈로 요청하고 bs4로 수집한다.\n",
    "- 소스보기 했을 때 데이터가 없고 elements 탭에 데이터가 있을 경우 : ajax인가, 웹소켓인가...\n",
    "- ajax인 경우 : 요청 주소를 파악하여 requests로 요청한다.\n",
    "- iframe인 경우 : iframe 태그의 src속성의 주소를 파악하여 requests로 요청한다.\n",
    "- 웹 소켓인 경우 : selenium을 통해 데이터를 수집한다.\n",
    "- 소스보기 했을때 데이터가 없고 elements 탭에서도 데이터가 없을 경우 : iframe\n",
    "- iframe이 있는지 확인해보고 있다면 src 속성의 주소를 통해 requests 모듈로 요청한다."
   ]
  },
  {
   "cell_type": "markdown",
   "id": "f3de9d6e-2db4-45ae-bac2-6b4884521a87",
   "metadata": {},
   "source": [
    "### 태그를 지칭하기 위해 알아야할 것들\n",
    "- 원하는 데이터를 가지고 있는 태그를 지칭할 수 있어야 필요한 데이터를 수집할 수 있다.\n",
    "- id 속성 : html에서 사용하는 모든 태그에 사용할 수 있는 속성. 이 속성은 하나의 html 문서안에 같은 id를 가지고 있는 태그는 없다. <br/>id는 웹 개발자가 특정 태그 하나를 지칭하기 위해 사용한다. 우리는 데이터를 가지고 있는 특정 태그를 지칭하는 용도로 사용할 수 있다.\n",
    "- class 속성 : css는 html 태그를 꾸미는 용도로 사용한다. 이러한 css들을 미리 정의해놓고 태그에 적용할 때 가용하는것이 class 속성이다. <br/>웹을 개발할 때 특정 영역의 모양을 설정하기 위해 그 영역만을 위한 css를 만들어 사용하는 경우가 있다. 만약 우리가 필요로 하는 데이터가 특정 영역에 있고 그 영역에서만 사용하는 class 속성이 있다면 이를 통해 접근할 수 있다.\n",
    "- nth-child : 같은 태그가 동시에 여러개 나열되어 있는 경우 그 순서를 구분하기 위해 사용한다(1부터 시작)<br/>여러 항목들을 가져오고자 할 때는 그 항목을 둘러 싸고 있는 태그부터 가져온다."
   ]
  },
  {
   "cell_type": "markdown",
   "id": "0892ab70-384b-4948-9a44-00fe3749bbcc",
   "metadata": {
    "execution": {
     "iopub.execute_input": "2022-08-11T02:40:43.574790Z",
     "iopub.status.busy": "2022-08-11T02:40:43.573792Z",
     "iopub.status.idle": "2022-08-11T02:40:43.582769Z",
     "shell.execute_reply": "2022-08-11T02:40:43.582769Z",
     "shell.execute_reply.started": "2022-08-11T02:40:43.574790Z"
    },
    "tags": []
   },
   "source": [
    "### 코드 작성 방법\n",
    "- 한 페이지의 데이터를 수집한다.\n",
    "- 다음 페이지로 넘어갈 수 있는 방법을 찾는다.\n",
    "- 마지막 페이지 여부를 어떻게 확인할 수 있는 방법을 찾는다.\n",
    "- while 문을 만들어 마지막 페이지까지 갈 수 있도록 구성한다.\n",
    "- 반드시 수집을 위해 만든 프로그램이 종료가 되게 만들어야한다(while문의 종료)\n",
    "- 매 요청시마다 딜레이를 줘야 한다(1~3초)"
   ]
  },
  {
   "cell_type": "code",
   "execution_count": null,
   "id": "9bb19709-27e2-4a3e-861a-2f8a0015280f",
   "metadata": {},
   "outputs": [],
   "source": []
  }
 ],
 "metadata": {
  "kernelspec": {
   "display_name": "Python 3 (ipykernel)",
   "language": "python",
   "name": "python3"
  },
  "language_info": {
   "codemirror_mode": {
    "name": "ipython",
    "version": 3
   },
   "file_extension": ".py",
   "mimetype": "text/x-python",
   "name": "python",
   "nbconvert_exporter": "python",
   "pygments_lexer": "ipython3",
   "version": "3.9.12"
  }
 },
 "nbformat": 4,
 "nbformat_minor": 5
}
