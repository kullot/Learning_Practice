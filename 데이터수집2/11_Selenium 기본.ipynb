{
 "cells": [
  {
   "cell_type": "markdown",
   "id": "475da205-1818-41ce-b9d8-96de91dcacdf",
   "metadata": {},
   "source": [
    "- web driver를 내려받아야 한다.\n",
    "- https://chromedriver.chromium.org/downloads\n",
    "- 위의 주소에서 브라우저 버전에 맞는 것을 내려받는다.\n",
    "- 우측 상단의 ... 메뉴를 클릭한다.\n",
    "- 도움말 > 크롬정보\n",
    "- 크롬 버전을 확인한 후 버전에 맞는 웹 드라이버를 내려받는다.\n",
    "- 압축을 풀어주고 작업하는 폴더에 넣어준다."
   ]
  },
  {
   "cell_type": "markdown",
   "id": "ca0c1a1b-53bd-4532-b48a-7dc933935e25",
   "metadata": {},
   "source": [
    "!pip install selenium"
   ]
  },
  {
   "cell_type": "code",
   "execution_count": 1,
   "id": "5a5d1c2c-47b8-43a0-9a03-9451df79a35e",
   "metadata": {},
   "outputs": [],
   "source": [
    "from selenium import webdriver"
   ]
  },
  {
   "cell_type": "code",
   "execution_count": 2,
   "id": "7285d381-4c45-49d6-834b-9ad30abef30f",
   "metadata": {},
   "outputs": [],
   "source": [
    "# 웹 드라이버 가동\n",
    "# 셀레니움이 통제할 웹 드라이버가 실행된다.\n",
    "driver = webdriver.Chrome('chromedriver')"
   ]
  },
  {
   "cell_type": "code",
   "execution_count": 3,
   "id": "2c1b9959-6185-4259-900d-7f397dcbb66c",
   "metadata": {},
   "outputs": [],
   "source": [
    "# google을 요청한다.\n",
    "driver.get('https://google.com')"
   ]
  },
  {
   "cell_type": "code",
   "execution_count": 4,
   "id": "ade1121b-9b64-4557-a311-fd7ac06a9be8",
   "metadata": {},
   "outputs": [],
   "source": [
    "# naver를 요청한다.\n",
    "driver.get('https://naver.com')"
   ]
  }
 ],
 "metadata": {
  "kernelspec": {
   "display_name": "Python 3 (ipykernel)",
   "language": "python",
   "name": "python3"
  },
  "language_info": {
   "codemirror_mode": {
    "name": "ipython",
    "version": 3
   },
   "file_extension": ".py",
   "mimetype": "text/x-python",
   "name": "python",
   "nbconvert_exporter": "python",
   "pygments_lexer": "ipython3",
   "version": "3.9.12"
  }
 },
 "nbformat": 4,
 "nbformat_minor": 5
}
