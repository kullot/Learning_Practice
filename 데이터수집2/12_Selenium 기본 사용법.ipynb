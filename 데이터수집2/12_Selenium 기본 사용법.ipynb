{
 "cells": [
  {
   "cell_type": "code",
   "execution_count": 44,
   "id": "e34bcbd1-4797-4207-9dd9-7cdd650c051f",
   "metadata": {},
   "outputs": [],
   "source": [
    "from selenium import webdriver\n",
    "from selenium.webdriver.common.by import By\n",
    "from selenium.webdriver.support.ui import Select\n",
    "import time"
   ]
  },
  {
   "cell_type": "code",
   "execution_count": 45,
   "id": "ca0332d3-3968-4cf4-87fb-cfe25b24c7ce",
   "metadata": {},
   "outputs": [
    {
     "name": "stderr",
     "output_type": "stream",
     "text": [
      "C:\\Users\\Kullot\\AppData\\Local\\Temp\\ipykernel_60120\\2365870368.py:2: DeprecationWarning: executable_path has been deprecated, please pass in a Service object\n",
      "  driver = webdriver.Chrome('./chromedriver.exe')\n"
     ]
    }
   ],
   "source": [
    "# 웹드라이버 실행\n",
    "driver = webdriver.Chrome('./chromedriver.exe')"
   ]
  },
  {
   "cell_type": "code",
   "execution_count": 46,
   "id": "2f8dcaaf-3828-48d2-a9f4-6d77f32a2d30",
   "metadata": {},
   "outputs": [],
   "source": [
    "# 네이버를 요청한다.\n",
    "time.sleep(1)\n",
    "driver.get('https://naver.com')"
   ]
  },
  {
   "cell_type": "code",
   "execution_count": 47,
   "id": "e0a099a5-7087-4d26-b1de-a1488259f471",
   "metadata": {},
   "outputs": [],
   "source": [
    "# 회원 가입을 누른다.\n",
    "time.sleep(1)\n",
    "join_tag = driver.find_element(by=By.CSS_SELECTOR, value='#account > div > a')\n",
    "join_tag.click()"
   ]
  },
  {
   "cell_type": "code",
   "execution_count": 48,
   "id": "59094a41-2db7-4139-b8f4-acaffb544b25",
   "metadata": {},
   "outputs": [],
   "source": [
    "# 약관 전체 동의를 클릭한다.\n",
    "time.sleep(1)\n",
    "check_tag = driver.find_element(by=By.CSS_SELECTOR, value='#join_form > div.terms_p > p > span > label')\n",
    "check_tag.click()"
   ]
  },
  {
   "cell_type": "code",
   "execution_count": 49,
   "id": "4278d2d4-eefe-44e9-a248-568da51bb2bf",
   "metadata": {},
   "outputs": [],
   "source": [
    "# 확인을 클릭한다.\n",
    "time.sleep(1)\n",
    "agree_btn = driver.find_element(by=By.CSS_SELECTOR, value='#btnAgree')\n",
    "agree_btn.click()"
   ]
  },
  {
   "cell_type": "markdown",
   "id": "a3f79ee0-2b01-43eb-a1d1-522b2f7446f6",
   "metadata": {},
   "source": [
    "#### 테스트용으로 새로고침 코드를 넣어준다.\n",
    "driver.refresh()"
   ]
  },
  {
   "cell_type": "code",
   "execution_count": 50,
   "id": "dfdbef7a-d783-4548-96c8-21ab88241601",
   "metadata": {},
   "outputs": [],
   "source": [
    "# 아이디 입력\n",
    "time.sleep(1)\n",
    "input_id = driver.find_element(by=By.CSS_SELECTOR, value='#id')\n",
    "input_id.send_keys('wlkjsdfoisdlk')"
   ]
  },
  {
   "cell_type": "code",
   "execution_count": 51,
   "id": "4f66b584-a49e-4dcb-9f37-81459fe25d30",
   "metadata": {},
   "outputs": [],
   "source": [
    "# 비밀번호 1 입력\n",
    "time.sleep(1)\n",
    "input_pass1 = driver.find_element(by=By.CSS_SELECTOR, value='#pswd1')\n",
    "input_pass1.send_keys('Aaabbss111!!')"
   ]
  },
  {
   "cell_type": "code",
   "execution_count": 53,
   "id": "ccc4c804-61e9-4d48-9e76-caa95ffa8e54",
   "metadata": {},
   "outputs": [],
   "source": [
    "# 비밀번호 2 입력\n",
    "time.sleep(1)\n",
    "input_pass2 = driver.find_element(by=By.CSS_SELECTOR, value='#pswd2')\n",
    "input_pass2.send_keys('Aaabbss111!!')"
   ]
  },
  {
   "cell_type": "code",
   "execution_count": 54,
   "id": "98be43bd-4abf-478e-aff4-3050dad38f6c",
   "metadata": {},
   "outputs": [],
   "source": [
    "# 이름\n",
    "time.sleep(1)\n",
    "input_name = driver.find_element(by=By.CSS_SELECTOR, value='#name')\n",
    "input_name.send_keys('홍길동')"
   ]
  },
  {
   "cell_type": "code",
   "execution_count": 55,
   "id": "9244e104-0caf-4b35-9a55-032526e0427d",
   "metadata": {},
   "outputs": [],
   "source": [
    "# 생년\n",
    "time.sleep(1)\n",
    "input_yy = driver.find_element(by=By.CSS_SELECTOR, value='#yy')\n",
    "input_yy.send_keys('2000')"
   ]
  },
  {
   "cell_type": "code",
   "execution_count": 56,
   "id": "519daf72-f46b-46fb-840f-668e2f29ba96",
   "metadata": {},
   "outputs": [],
   "source": [
    "# 생월\n",
    "time.sleep(1)\n",
    "input_mm = driver.find_element(by=By.CSS_SELECTOR, value='#mm')\n",
    "\n",
    "# select 태그를 Select 객체로 만들어준다.\n",
    "select_tag1 = Select(input_mm)\n",
    "# 순서를 통한 항목 선택(0부터 1씩 증가)\n",
    "# select_tag1.select_by_index(4)\n",
    "\n",
    "# 항목의 표시되어 있는 문자열을 이용해 선택\n",
    "# select_tag1.select_by_visible_text('4')\n",
    "\n",
    "# html 태그의 option태그의 value 속성 값을 가지고 선택\n",
    "select_tag1.select_by_value('04')\n",
    "\n",
    "# input_yy.send_keys('4')"
   ]
  },
  {
   "cell_type": "code",
   "execution_count": 57,
   "id": "c092d88f-57ab-4a38-9402-36c5b29afeb6",
   "metadata": {},
   "outputs": [],
   "source": [
    "# 생일\n",
    "time.sleep(1)\n",
    "input_dd = driver.find_element(by=By.CSS_SELECTOR, value='#dd')\n",
    "input_dd.send_keys('20')"
   ]
  }
 ],
 "metadata": {
  "kernelspec": {
   "display_name": "Python 3 (ipykernel)",
   "language": "python",
   "name": "python3"
  },
  "language_info": {
   "codemirror_mode": {
    "name": "ipython",
    "version": 3
   },
   "file_extension": ".py",
   "mimetype": "text/x-python",
   "name": "python",
   "nbconvert_exporter": "python",
   "pygments_lexer": "ipython3",
   "version": "3.9.12"
  }
 },
 "nbformat": 4,
 "nbformat_minor": 5
}
