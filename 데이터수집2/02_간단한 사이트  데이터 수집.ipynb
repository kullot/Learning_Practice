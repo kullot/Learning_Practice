{
 "cells": [
  {
   "cell_type": "markdown",
   "id": "3bca89fd-edca-4285-ab34-2b91c5f04a37",
   "metadata": {
    "execution": {
     "iopub.execute_input": "2022-08-11T04:04:16.675926Z",
     "iopub.status.busy": "2022-08-11T04:04:16.674928Z",
     "iopub.status.idle": "2022-08-11T04:04:16.689887Z",
     "shell.execute_reply": "2022-08-11T04:04:16.689887Z",
     "shell.execute_reply.started": "2022-08-11T04:04:16.675926Z"
    }
   },
   "source": [
    "- https://pjt3591oo.github.io/\n",
    "- 소스보기를 통해 서버로 부터 받아오는 소스에 데이터가 있는 것이 확인된 경우\n",
    "- requests 모듈을 통해 요청한다.\n",
    "- bs4를 통해 분석해서 수집한다."
   ]
  },
  {
   "cell_type": "code",
   "execution_count": 1,
   "id": "1eb68cba-c83f-4942-abbf-cf73e52749e1",
   "metadata": {
    "execution": {
     "iopub.execute_input": "2022-08-11T06:25:52.584449Z",
     "iopub.status.busy": "2022-08-11T06:25:52.584449Z",
     "iopub.status.idle": "2022-08-11T06:25:53.038438Z",
     "shell.execute_reply": "2022-08-11T06:25:53.038438Z",
     "shell.execute_reply.started": "2022-08-11T06:25:52.584449Z"
    },
    "tags": []
   },
   "outputs": [],
   "source": [
    "import bs4\n",
    "import requests\n",
    "import pandas as pd\n",
    "import numpy as np\n",
    "import time\n",
    "import os\n",
    "from IPython.display import clear_output"
   ]
  },
  {
   "cell_type": "code",
   "execution_count": 2,
   "id": "2f46bcb3-4ef6-4c02-bdae-0fa8fe50a6d2",
   "metadata": {
    "execution": {
     "iopub.execute_input": "2022-08-11T06:25:53.039441Z",
     "iopub.status.busy": "2022-08-11T06:25:53.039441Z",
     "iopub.status.idle": "2022-08-11T06:25:53.054447Z",
     "shell.execute_reply": "2022-08-11T06:25:53.054447Z",
     "shell.execute_reply.started": "2022-08-11T06:25:53.039441Z"
    },
    "tags": []
   },
   "outputs": [],
   "source": [
    "# 요청 함수\n",
    "def getSource(site) :\n",
    "    # 해더 정보 셋팅\n",
    "    # user-agent : 웹브라우저가 서버로 보내는 문자열이고 서버는 이를 통해\n",
    "    # 브라우저의 정보가 컴퓨터의 정보를 파악한다.\n",
    "    # 일부 사이트는 user-agent를 셋팅해서 지금 요청한 도구가 python코드가 아닌 일반 웹 브라우저 인것 처럼 속일 수 있다.\n",
    "    # http://m.avalon.co.kr/check.html\n",
    "    header_info = {\n",
    "        'User-Agent' : 'Mozilla/5.0 (Windows NT 10.0; Win64; x64) AppleWebKit/537.36 (KHTML, like Gecko) Chrome/104.0.0.0 Safari/537.36'\n",
    "    }\n",
    "    # 요청한다.\n",
    "    response = requests.get(site, headers=header_info)\n",
    "    return response.text"
   ]
  },
  {
   "cell_type": "code",
   "execution_count": 3,
   "id": "4da82ed9-fc9f-4c98-b814-9a931f98480b",
   "metadata": {
    "execution": {
     "iopub.execute_input": "2022-08-11T06:25:53.056437Z",
     "iopub.status.busy": "2022-08-11T06:25:53.056437Z",
     "iopub.status.idle": "2022-08-11T06:25:53.070400Z",
     "shell.execute_reply": "2022-08-11T06:25:53.070400Z",
     "shell.execute_reply.started": "2022-08-11T06:25:53.056437Z"
    },
    "tags": []
   },
   "outputs": [],
   "source": [
    "# 한 페이지의 데이터를 수집해 저장하는 함수\n",
    "def getData(source):\n",
    "    \n",
    "    # bs4 객체를 생성한다.\n",
    "    soup = bs4.BeautifulSoup(source)\n",
    "    \n",
    "    # 데이터가 있는 전체를 가져온다.\n",
    "    root = soup.select('body > main > div > div > div')\n",
    "    # for a1 in root :\n",
    "        # print(a1)\n",
    "        # print('----------------------------')\n",
    "    \n",
    "    # 데이터 프레임을 생성하기 위해 사용할 딕셔너리\n",
    "    data_dict = {\n",
    "        '큰제목' : [],\n",
    "        '작은제목' : [],\n",
    "        '날짜' : [],\n",
    "        '작성자' : []\n",
    "    }\n",
    "    \n",
    "    # 가져온 태그의 수만큼 반복한다.\n",
    "    for div_tag in root[:-1] :\n",
    "        # 큰 제목을 가져온다.\n",
    "        a1 = div_tag.select_one('h3 > a')\n",
    "        data1 = getText(a1)\n",
    "        a2 = div_tag.select_one('h4')\n",
    "        data2 = getText(a2)\n",
    "        a3 = div_tag.select_one('p > span')\n",
    "        a4 = getText(a3)\n",
    "        a5 = a4.split('|')\n",
    "        data3 = a5[0].strip()\n",
    "        data4 = a5[1].strip()\n",
    "        \n",
    "        # 데이터를 담는다.\n",
    "        data_dict['큰제목'].append(data1)\n",
    "        data_dict['작은제목'].append(data2)\n",
    "        data_dict['날짜'].append(data3)\n",
    "        data_dict['작성자'].append(data4)\n",
    "\n",
    "        # print(data1)\n",
    "        # print(data2)\n",
    "        # print(data3)\n",
    "        # print(data4)\n",
    "        # print('----------------------------')\n",
    "        \n",
    "    # 데이터 프레임 생성\n",
    "    df1 = pd.DataFrame(data_dict)\n",
    "    # display(df1)\n",
    "    \n",
    "    # 저장\n",
    "    # 파일이 존재하지 않은다면, 컬럼이름과 함께 저장한다.\n",
    "    if os.path.exists('./02_data.csv') == False :\n",
    "        df1.to_csv('./02_data.csv', encoding='utf-8-sig', index=False)\n",
    "    else :\n",
    "        df1.to_csv('./02_data.csv', encoding='utf-8-sig', index=False, header=None, mode='a') #  mode='a' : 파일 뒤에 이어서 저장"
   ]
  },
  {
   "cell_type": "code",
   "execution_count": 4,
   "id": "9337a646-1f18-47cf-8935-94b11e1a8f16",
   "metadata": {
    "execution": {
     "iopub.execute_input": "2022-08-11T06:25:53.071396Z",
     "iopub.status.busy": "2022-08-11T06:25:53.071396Z",
     "iopub.status.idle": "2022-08-11T06:25:53.086361Z",
     "shell.execute_reply": "2022-08-11T06:25:53.086361Z",
     "shell.execute_reply.started": "2022-08-11T06:25:53.071396Z"
    },
    "tags": []
   },
   "outputs": [],
   "source": [
    "# 전달된 태그로 부터 문자열 데이터를 추출해 반환하는 함수\n",
    "def getText(tag):\n",
    "    # 태그가 없다면\n",
    "    if tag == None :\n",
    "        return np.nan\n",
    "    # 문자열을 가져온다.\n",
    "    data = tag.text.strip()\n",
    "    # 길이가 0 이라면...\n",
    "    if len(data) == 0 :\n",
    "        return np.nan\n",
    "    return data"
   ]
  },
  {
   "cell_type": "code",
   "execution_count": 5,
   "id": "3047dbe6-558f-43ff-872d-fb3e6d931524",
   "metadata": {
    "execution": {
     "iopub.execute_input": "2022-08-11T06:25:53.087361Z",
     "iopub.status.busy": "2022-08-11T06:25:53.087361Z",
     "iopub.status.idle": "2022-08-11T06:25:53.102319Z",
     "shell.execute_reply": "2022-08-11T06:25:53.102319Z",
     "shell.execute_reply.started": "2022-08-11T06:25:53.087361Z"
    }
   },
   "outputs": [],
   "source": [
    "# 마지막 페이지인지 확인하는 함수\n",
    "def check_last_page(source):\n",
    "    # bs4 객체를 생성한다.\n",
    "    soup = bs4.BeautifulSoup(source)\n",
    "    \n",
    "    # Next 버튼 태그를 가져온다.\n",
    "    a1 = soup.select_one('body > main > div > div > div.pagination > ul > li:nth-child(6) > a')\n",
    "    # 가져온 태그가 없다면 마지막 페이지가지 간 것으로 간주한다.\n",
    "    if a1 == None : \n",
    "        return True"
   ]
  },
  {
   "cell_type": "code",
   "execution_count": 6,
   "id": "0f734d33-9850-4512-b77d-4a882bbc40cd",
   "metadata": {
    "execution": {
     "iopub.execute_input": "2022-08-11T06:25:53.103312Z",
     "iopub.status.busy": "2022-08-11T06:25:53.103312Z",
     "iopub.status.idle": "2022-08-11T06:25:58.828989Z",
     "shell.execute_reply": "2022-08-11T06:25:58.828989Z",
     "shell.execute_reply.started": "2022-08-11T06:25:53.103312Z"
    },
    "tags": []
   },
   "outputs": [
    {
     "name": "stdout",
     "output_type": "stream",
     "text": [
      "수집완료\n"
     ]
    }
   ],
   "source": [
    "# 페이지의 주소\n",
    "site = 'https://pjt3591oo.github.io'\n",
    "page = ''\n",
    "page_num = 1\n",
    "\n",
    "while True:\n",
    "    # 딜레이\n",
    "    time.sleep(1)\n",
    "    \n",
    "    # 기존에 출력된 것을 지운다.\n",
    "    clear_output(wait=True)\n",
    "    \n",
    "    print(f'{site}{page} 수집중...')\n",
    "    \n",
    "    # 현재 요청 주소 기록\n",
    "    # 첫 페이지면 덮어 씌운다.\n",
    "    if page == '' :\n",
    "        mode = 'wt'\n",
    "    else:\n",
    "        mode = 'at'\n",
    "    \n",
    "    with open('./02_log.txt', mode, encoding='utf-8') as fp:\n",
    "        fp.write(f'{site}{page}\\n')\n",
    "\n",
    "    # 페이지를 요청한다.\n",
    "    source = getSource(f'{site}{page}')\n",
    "\n",
    "    # 현재 페이지에서 데이터를 가져온다.\n",
    "    getData(source)\n",
    "    \n",
    "    \n",
    "    # 마지막 페이지까지 갔다면 중단한다.\n",
    "    if check_last_page(source) == True:\n",
    "        break\n",
    "\n",
    "    # 다음 페이지 주소\n",
    "    page_num = page_num + 1\n",
    "    page = f'/page{page_num}'\n",
    "\n",
    "clear_output(wait=True)\n",
    "print('수집완료')"
   ]
  },
  {
   "cell_type": "code",
   "execution_count": null,
   "id": "6eefa1f6-ed87-4c1b-aa4c-20596151dcf1",
   "metadata": {},
   "outputs": [],
   "source": []
  }
 ],
 "metadata": {
  "kernelspec": {
   "display_name": "Python 3 (ipykernel)",
   "language": "python",
   "name": "python3"
  },
  "language_info": {
   "codemirror_mode": {
    "name": "ipython",
    "version": 3
   },
   "file_extension": ".py",
   "mimetype": "text/x-python",
   "name": "python",
   "nbconvert_exporter": "python",
   "pygments_lexer": "ipython3",
   "version": "3.9.12"
  }
 },
 "nbformat": 4,
 "nbformat_minor": 5
}
