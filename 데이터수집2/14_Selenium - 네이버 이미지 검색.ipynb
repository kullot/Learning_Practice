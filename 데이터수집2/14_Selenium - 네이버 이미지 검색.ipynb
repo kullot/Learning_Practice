{
 "cells": [
  {
   "cell_type": "code",
   "execution_count": 1,
   "id": "b4fcea6f-61e0-4e63-b84e-078d44c0e50b",
   "metadata": {},
   "outputs": [],
   "source": [
    "import bs4\n",
    "import requests\n",
    "import pandas as pd\n",
    "import numpy as np\n",
    "import time\n",
    "import os\n",
    "from IPython.display import clear_output\n",
    "import json\n",
    "from selenium import webdriver\n",
    "from selenium.webdriver.common.by import By\n",
    "from selenium.webdriver.support.ui import Select"
   ]
  },
  {
   "cell_type": "code",
   "execution_count": 2,
   "id": "c2e0ed4a-57e8-4abc-a07c-d228591b3d8e",
   "metadata": {},
   "outputs": [],
   "source": [
    "def find_elements_by_css_selector(tag, selector) :\n",
    "    try:\n",
    "        a1 = tag.find_elements(by=By.CSS_SELECTOR, value=selector)\n",
    "        return a1\n",
    "    except:\n",
    "        return None\n",
    "def find_element_by_css_selector(tag, selector) :\n",
    "    try:\n",
    "        a1 = tag.find_element(by=By.CSS_SELECTOR, value=selector)\n",
    "        return a1\n",
    "    except:\n",
    "        return None"
   ]
  },
  {
   "cell_type": "code",
   "execution_count": 3,
   "id": "e84e9990-2f51-4bdb-b8fd-c9d52610fc6b",
   "metadata": {},
   "outputs": [],
   "source": [
    "# 전달된 태그로 부터 문자열 데이터를 추출해 반환하는 함수\n",
    "def getText(tag):\n",
    "    # 태그가 없다면\n",
    "    if tag == None :\n",
    "        return np.nan\n",
    "    # 문자열을 가져온다.\n",
    "    data = tag.text.strip()\n",
    "    # 길이가 0 이라면...\n",
    "    if len(data) == 0 :\n",
    "        return np.nan\n",
    "    return data"
   ]
  },
  {
   "cell_type": "code",
   "execution_count": 4,
   "id": "9ca11aad-13a8-45b0-b031-585f91318783",
   "metadata": {},
   "outputs": [
    {
     "name": "stderr",
     "output_type": "stream",
     "text": [
      "C:\\Users\\Kullot\\AppData\\Local\\Temp\\ipykernel_55520\\1540666709.py:2: DeprecationWarning: executable_path has been deprecated, please pass in a Service object\n",
      "  driver = webdriver.Chrome('chromedriver.exe')\n"
     ]
    }
   ],
   "source": [
    "# 웹 드라이버 실행\n",
    "driver = webdriver.Chrome('chromedriver.exe')"
   ]
  },
  {
   "cell_type": "code",
   "execution_count": 36,
   "id": "d9e1fd74-f01a-43a7-897f-66696b61b438",
   "metadata": {},
   "outputs": [],
   "source": [
    "# 네이버를 요청한다.\n",
    "time.sleep(1)\n",
    "driver.get('https://naver.com')"
   ]
  },
  {
   "cell_type": "code",
   "execution_count": 37,
   "id": "e06ecc6e-64ad-4813-8346-cc51b4548eeb",
   "metadata": {},
   "outputs": [
    {
     "name": "stdin",
     "output_type": "stream",
     "text": [
      "검색어를 입력해주세요 : 우영우\n"
     ]
    }
   ],
   "source": [
    "# 검색어를 입력받는다.\n",
    "keyword = input('검색어를 입력해주세요 :')"
   ]
  },
  {
   "cell_type": "code",
   "execution_count": 38,
   "id": "436e1c44-ae9d-4253-8f06-bfca200b5d79",
   "metadata": {},
   "outputs": [],
   "source": [
    "# 검색어를 입력해준다.\n",
    "time.sleep(1)\n",
    "input_tag = find_element_by_css_selector(driver, '#query')\n",
    "input_tag.send_keys(keyword)\n",
    "# input_tag.submit()"
   ]
  },
  {
   "cell_type": "code",
   "execution_count": 39,
   "id": "c195dac3-1e0d-4bfb-9b9a-924a31d9fb80",
   "metadata": {},
   "outputs": [],
   "source": [
    "# 검색 버튼을 누른다.\n",
    "time.sleep(1)\n",
    "search_btn = find_element_by_css_selector(driver, '#search_btn')\n",
    "search_btn.click()"
   ]
  },
  {
   "cell_type": "code",
   "execution_count": 40,
   "id": "5562583b-eb6a-4f0a-a98f-0afbdc7d1d82",
   "metadata": {},
   "outputs": [],
   "source": [
    "# 이미지 탭을 눌러준다.\n",
    "# 이미지 탭의 위치가 검색어따라 달라진다.\n",
    "# 이에 \"이미지\" 라고 적혀져 있는 태그를 가져온다.\n",
    "time.sleep(1)\n",
    "image_tab = driver.find_element(by=By.LINK_TEXT, value='이미지')\n",
    "image_tab.click()"
   ]
  },
  {
   "cell_type": "code",
   "execution_count": 41,
   "id": "e0df5b0d-8d33-469b-8df5-6a71acfffd8a",
   "metadata": {},
   "outputs": [],
   "source": [
    "# 스크롤 한다\n",
    "# 원리 : 브라우저에게 작성한 자바 스크립트 코드를 동작시키게 하는 것이다.\n",
    "for idx in range(10) :\n",
    "    time.sleep(1)\n",
    "    driver.execute_script(\"window.scrollTo(0, document.body.scrollHeight)\")"
   ]
  },
  {
   "cell_type": "code",
   "execution_count": 42,
   "id": "a646e700-bfde-4e86-b428-b91800a090be",
   "metadata": {},
   "outputs": [],
   "source": [
    "# 이미지 div 태그들을 가져온다.\n",
    "div_list = find_elements_by_css_selector(driver, '#main_pack > section.sc_new.sp_nimage._prs_img._imageSearchPC > div > div.photo_group._listGrid > div.photo_tile._grid > div')"
   ]
  },
  {
   "cell_type": "code",
   "execution_count": 43,
   "id": "7fb47c6f-08eb-4b3c-9026-a9322a94e37a",
   "metadata": {},
   "outputs": [],
   "source": [
    "# 이미지의 주소를 담을 리스트\n",
    "image_list = []"
   ]
  },
  {
   "cell_type": "code",
   "execution_count": 46,
   "id": "4e734823-3ce9-4c18-8125-3b81fc092a8c",
   "metadata": {},
   "outputs": [],
   "source": [
    "# div 태그의 수 만큼 반복한다.\n",
    "for div_tag in div_list:\n",
    "    # 이미지 태그를 추출한다.\n",
    "    img_tag = find_element_by_css_selector(div_tag, 'div > div.thumb > a > img')\n",
    "    \n",
    "    if img_tag != None :\n",
    "        # src 속성을 가져온다.\n",
    "        src = img_tag.get_attribute('src')\n",
    "        # print(src)\n",
    "        # print('------------------')\n",
    "        \n",
    "        # http로 시작하는 주소만 담는다.\n",
    "        if src.startswith('http') :\n",
    "            # list에 없는 것만 담는다.\n",
    "            if (src in image_list) == False :\n",
    "                image_list.append(src)"
   ]
  },
  {
   "cell_type": "code",
   "execution_count": 48,
   "id": "f7565c52-55f0-44b3-97e7-504e4f7c27db",
   "metadata": {},
   "outputs": [
    {
     "name": "stdout",
     "output_type": "stream",
     "text": [
      "524 / 524 저장완료\n",
      "저장완료\n"
     ]
    }
   ],
   "source": [
    "# 수집한 주소를 이용해 이미지들을 저장한다.\n",
    "for idx, image_src in enumerate(image_list) :\n",
    "    time.sleep(1)\n",
    "    # 이미지를 요청한다.\n",
    "    img_res = requests.get(image_src)\n",
    "    \n",
    "    # 이미지를 저장한다.\n",
    "    with open(f'./naver_image/{keyword}_{idx}.jpg', 'wb') as fp:\n",
    "        fp.write(img_res.content)\n",
    "\n",
    "    clear_output(wait=True)\n",
    "    print(f'{idx + 1} / {len(image_list)} 저장완료')\n",
    "    \n",
    "print('저장완료')"
   ]
  }
 ],
 "metadata": {
  "kernelspec": {
   "display_name": "Python 3 (ipykernel)",
   "language": "python",
   "name": "python3"
  },
  "language_info": {
   "codemirror_mode": {
    "name": "ipython",
    "version": 3
   },
   "file_extension": ".py",
   "mimetype": "text/x-python",
   "name": "python",
   "nbconvert_exporter": "python",
   "pygments_lexer": "ipython3",
   "version": "3.9.12"
  }
 },
 "nbformat": 4,
 "nbformat_minor": 5
}
