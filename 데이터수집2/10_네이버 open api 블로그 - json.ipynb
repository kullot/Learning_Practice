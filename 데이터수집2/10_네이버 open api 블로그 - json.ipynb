{
 "cells": [
  {
   "cell_type": "code",
   "execution_count": 1,
   "id": "cc4ac54d-5d87-4163-9324-a6efd0e4e146",
   "metadata": {},
   "outputs": [],
   "source": [
    "import bs4\n",
    "import requests\n",
    "import pandas as pd\n",
    "import numpy as np\n",
    "import time\n",
    "import os\n",
    "from IPython.display import clear_output\n",
    "import json"
   ]
  },
  {
   "cell_type": "code",
   "execution_count": 14,
   "id": "44debfcf",
   "metadata": {},
   "outputs": [],
   "source": [
    "dictlist = {'message': '공포', 'image': '/static/img/record3.png'}\n",
    "df1 = pd.DataFrame([dictlist])\n",
    "if os.path.exists('./wav2emo.csv') == False :\n",
    "    df1.to_csv('./wav2emo.csv', encoding='utf-8-sig', index=False)\n",
    "else :\n",
    "    df1.to_csv('./wav2emo.csv', encoding='utf-8-sig', index=False, header=None, mode='a')\n",
    "# print(res, type(res))\n",
    "# print(res['message'], type(res['message']))\n",
    "# print(res['image'], type(res['image']))\n",
    "# return res"
   ]
  },
  {
   "cell_type": "code",
   "execution_count": 17,
   "id": "a1a7126e",
   "metadata": {},
   "outputs": [
    {
     "data": {
      "text/plain": [
       "array(['/static/img/record3.png', '/static/img/record3.png',\n",
       "       '/static/img/record3.png', '/static/img/record3.png',\n",
       "       '/static/img/record3.png'], dtype=object)"
      ]
     },
     "execution_count": 17,
     "metadata": {},
     "output_type": "execute_result"
    }
   ],
   "source": [
    "df1 = pd.read_csv('./wav2emo.csv')\n",
    "df1['image'].values"
   ]
  },
  {
   "cell_type": "code",
   "execution_count": 3,
   "id": "d28d1e61-67d7-44a9-b3c3-17c79fc41946",
   "metadata": {},
   "outputs": [],
   "source": [
    "# 요청 함수\n",
    "def getSource(site, start) :\n",
    "    # 해더 정보 셋팅\n",
    "    header_info = {\n",
    "        'User-Agent' : 'Mozilla/5.0 (Windows NT 10.0; Win64; x64) AppleWebKit/537.36 (KHTML, like Gecko) Chrome/104.0.0.0 Safari/537.36',\n",
    "        'X-Naver-Client-Id' : 'opLaOk6efaoqdcpG3V8j',\n",
    "        'X-Naver-Client-Secret' : 'nvzTR4HuHt',\n",
    "    }\n",
    "    \n",
    "    # 파라미터 데이터\n",
    "    param_info = {\n",
    "        'query' : '코로나',\n",
    "        'display' : 100,\n",
    "        'start' : start,\n",
    "        'sort' : 'sim',\n",
    "    }\n",
    "    # 요청한다.\n",
    "    response = requests.get(site, headers=header_info, params=param_info)\n",
    "    return response.text"
   ]
  },
  {
   "cell_type": "code",
   "execution_count": 37,
   "id": "fbcb0c90-3d5e-4776-9f14-3a1b99a09c46",
   "metadata": {},
   "outputs": [],
   "source": [
    "# 한 페이지의 데이터를 가져오는 함수\n",
    "def getData(source) :\n",
    "    # json 객체를 생성한다.\n",
    "    root = json.loads(source)\n",
    "    # print(root)\n",
    "    \n",
    "    data_dict = {\n",
    "        'title': [],\n",
    "        'link' : [],\n",
    "        'description' : [],\n",
    "        'bloggername' : [],\n",
    "        'bloggerlink' : [],\n",
    "        'postdate' : []\n",
    "    \n",
    "    }\n",
    "    \n",
    "    # item 리스트의 수 만큼 반복한다.\n",
    "    for item in root['items']:\n",
    "        # print(item)\n",
    "        \n",
    "        # title\n",
    "        data1 = item['title']\n",
    "        data1 = removeChar(data1)\n",
    "        \n",
    "        # link\n",
    "        data2 = item['link']\n",
    "        \n",
    "        # description\n",
    "        data3 = item['description']\n",
    "        data3 = removeChar(data3)\n",
    "        \n",
    "        # bloggername\n",
    "        data4 = item['bloggername']\n",
    "        data4 = removeChar(data4)\n",
    "        \n",
    "        \n",
    "        # bloggerlink\n",
    "        data5 = item['bloggerlink']\n",
    "        \n",
    "        # postdate\n",
    "        data6 = item['postdate']\n",
    "        \n",
    "        # print(data1)\n",
    "        # print(data2)\n",
    "        # print(data3)\n",
    "        # print(data4)\n",
    "        # print(data5)\n",
    "        # print(data6)\n",
    "        # print('---------------------')\n",
    "        \n",
    "        data_dict['title'].append(data1)\n",
    "        data_dict['link'].append(data2)\n",
    "        data_dict['description'].append(data3)\n",
    "        data_dict['bloggername'].append(data4)\n",
    "        data_dict['bloggerlink'].append(data5)\n",
    "        data_dict['postdate'].append(data6)\n",
    "        \n",
    "    df1 = pd.DataFrame(data_dict)\n",
    "    if os.path.exists('./10_data.csv') == False :\n",
    "        df1.to_csv('./10_data.csv', encoding='utf-8-sig', index=False)\n",
    "    else :\n",
    "        df1.to_csv('./10_data.csv', encoding='utf-8-sig', index=False, header=None, mode='a')"
   ]
  },
  {
   "cell_type": "code",
   "execution_count": 4,
   "id": "f320b032-1320-49aa-922d-b6f6c1119906",
   "metadata": {},
   "outputs": [],
   "source": [
    "# 문자열 내에서 웹 특수문자를 제거하는 함수\n",
    "# 다른 것들이 더 있으면 같은 방식으로 작성해주세요\n",
    "def removeChar(text) :\n",
    "    # if pd.notna(text) :\n",
    "    if pd.isna(text) == True :\n",
    "        return text\n",
    "    text = text.replace('<b>', '')\n",
    "    text = text.replace('</b>', '')\n",
    "    text = text.replace('&quot;', '\"')\n",
    "    text = text.replace('&lt;', '<')\n",
    "    text = text.replace('&gt;', '>')\n",
    "    text = text.replace('&apos;', \"'\")\n",
    "    text = text.replace('&amp;', \"&\")\n",
    "    return text"
   ]
  },
  {
   "cell_type": "code",
   "execution_count": 5,
   "id": "5735f7ef-1d75-437a-8b31-d937a5268ed8",
   "metadata": {
    "tags": []
   },
   "outputs": [],
   "source": [
    "# 전달된 태그로 부터 문자열 데이터를 추출해 반환하는 함수\n",
    "def getText(tag):\n",
    "    # 태그가 없다면\n",
    "    if tag == None :\n",
    "        return np.nan\n",
    "    # 문자열을 가져온다.\n",
    "    data = tag.text.strip()\n",
    "    # 길이가 0 이라면...\n",
    "    if len(data) == 0 :\n",
    "        return np.nan\n",
    "    return data"
   ]
  },
  {
   "cell_type": "code",
   "execution_count": 38,
   "id": "b4afaa93-a986-4b06-b665-2ff67ec8bf02",
   "metadata": {},
   "outputs": [
    {
     "name": "stdout",
     "output_type": "stream",
     "text": [
      "901 수집중\n",
      "수집완료\n"
     ]
    }
   ],
   "source": [
    "site = 'https://openapi.naver.com/v1/search/blog.json'\n",
    "\n",
    "start = 1\n",
    "# 네이버 오픈 api 에서 start는 1000이 최대므로...\n",
    "while start < 1000 :\n",
    "    time.sleep(1)\n",
    "    clear_output(wait=True)\n",
    "    \n",
    "    print(f'{start} 수집중')\n",
    "    \n",
    "    # 요청한다.\n",
    "    source = getSource(site, start)\n",
    "    # print(source)\n",
    "    \n",
    "    # 한 페이지의 데이터를 가져온다.\n",
    "    getData(source)\n",
    "    \n",
    "    # start를 100 증가시킨다.\n",
    "    start = start + 100\n",
    "print('수집완료')"
   ]
  }
 ],
 "metadata": {
  "kernelspec": {
   "display_name": "Python 3.9.12 ('base')",
   "language": "python",
   "name": "python3"
  },
  "language_info": {
   "codemirror_mode": {
    "name": "ipython",
    "version": 3
   },
   "file_extension": ".py",
   "mimetype": "text/x-python",
   "name": "python",
   "nbconvert_exporter": "python",
   "pygments_lexer": "ipython3",
   "version": "3.9.12"
  },
  "vscode": {
   "interpreter": {
    "hash": "98a2ba9a816aafb3854cf57a00f17401e76b72b0d295088efd39420139db58c5"
   }
  }
 },
 "nbformat": 4,
 "nbformat_minor": 5
}
