{
 "cells": [
  {
   "cell_type": "markdown",
   "id": "d848ed26-0bad-47aa-92a1-400aec1537e5",
   "metadata": {},
   "source": [
    "- 막대 그래프 : 카테고리형 데이터(범주형)에 대해 양을 비교하기 위해서 사용한다.\n",
    "- 파이 그래프 : 카테고리형 데이터(범주형)에 대해 비율을 비교하기 위해서 사용한다.\n",
    "- 히스토그램 : 범위형 데이터에 대해 양을 비교하기 위해서 사용한다. 범위형 데이터에서 구간을 나눠서 구간별로 양이 얼마나 되는지를 보는 그래프.<br> 왜도, 첨도, 지니계수, 등등 다양한 통계해석을 위해 사용한다.\n",
    "- 선그래프 : 데이터 A의 변화 따른 데이터 B의 변화 패턴을 보기 위해 사용한다.\n",
    "- 산점도 : 데이터 A와 데이터 B 간의 관계를 분포로 확인하기 위해 사용한다.\n",
    "- KDE : 히스토그램과 유사하지만 구간별 양이 아닌 구간별 밀도를 확인할 수 있다.<br> 결과 데이터가 다양한 데이터의 히스토그램을 하나의 좌표평면에 그리면 겹쳐져서 보기가 어렵기 때문에 이때, KDE를 그려서 확인한다. KDE는 선그래프로 그려진다.\n",
    "- 히트맵 : 각 컬럼간의 상관관계를 보기 위해 사용한다.\n",
    "- 기타 등등"
   ]
  },
  {
   "cell_type": "code",
   "execution_count": null,
   "id": "0bc75855-10a4-414e-8004-ceb84623b23a",
   "metadata": {},
   "outputs": [],
   "source": []
  }
 ],
 "metadata": {
  "kernelspec": {
   "display_name": "Python 3 (ipykernel)",
   "language": "python",
   "name": "python3"
  },
  "language_info": {
   "codemirror_mode": {
    "name": "ipython",
    "version": 3
   },
   "file_extension": ".py",
   "mimetype": "text/x-python",
   "name": "python",
   "nbconvert_exporter": "python",
   "pygments_lexer": "ipython3",
   "version": "3.9.12"
  }
 },
 "nbformat": 4,
 "nbformat_minor": 5
}
