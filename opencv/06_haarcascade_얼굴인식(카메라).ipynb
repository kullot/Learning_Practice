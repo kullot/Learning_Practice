{
 "cells": [
  {
   "cell_type": "code",
   "execution_count": 1,
   "id": "e6ebfb04-bf82-444e-a24e-9c73fa120e24",
   "metadata": {
    "execution": {
     "iopub.execute_input": "2022-09-14T01:31:24.445451Z",
     "iopub.status.busy": "2022-09-14T01:31:24.444453Z",
     "iopub.status.idle": "2022-09-14T01:31:24.609475Z",
     "shell.execute_reply": "2022-09-14T01:31:24.608486Z",
     "shell.execute_reply.started": "2022-09-14T01:31:24.445451Z"
    }
   },
   "outputs": [],
   "source": [
    "import numpy as np\n",
    "import cv2"
   ]
  },
  {
   "cell_type": "code",
   "execution_count": 2,
   "id": "85269352-dfb1-4f61-ab94-db6060d3059f",
   "metadata": {
    "execution": {
     "iopub.execute_input": "2022-09-13T01:37:11.188857Z",
     "iopub.status.busy": "2022-09-13T01:37:11.187861Z",
     "iopub.status.idle": "2022-09-13T01:37:11.233737Z",
     "shell.execute_reply": "2022-09-13T01:37:11.233737Z",
     "shell.execute_reply.started": "2022-09-13T01:37:11.188857Z"
    }
   },
   "outputs": [],
   "source": [
    "# 카메라에 연결한다.\n",
    "# 매개변수에는 카메라 장비 id 값을 넣어준다.\n",
    "# 노트북에 장착되어 있는 내장카메라 : 0\n",
    "# usb에 연결 되어있는 카메라는 1 ~ n 까지에 해당한다.\n",
    "camera = cv2.VideoCapture(0)"
   ]
  },
  {
   "cell_type": "code",
   "execution_count": 4,
   "id": "4c6f0567-bc7c-448d-a863-61dc5b2648f0",
   "metadata": {
    "execution": {
     "iopub.execute_input": "2022-09-13T01:38:10.036596Z",
     "iopub.status.busy": "2022-09-13T01:38:10.036596Z",
     "iopub.status.idle": "2022-09-13T01:38:10.045572Z",
     "shell.execute_reply": "2022-09-13T01:38:10.045572Z",
     "shell.execute_reply.started": "2022-09-13T01:38:10.036596Z"
    },
    "tags": []
   },
   "outputs": [
    {
     "data": {
      "text/plain": [
       "False"
      ]
     },
     "execution_count": 4,
     "metadata": {},
     "output_type": "execute_result"
    }
   ],
   "source": [
    "# 카메라 사용 가능 여부 확인\n",
    "camera.isOpened()"
   ]
  },
  {
   "cell_type": "code",
   "execution_count": 5,
   "id": "c4c424fb-6c34-4e86-9aba-15eec381f9e8",
   "metadata": {
    "execution": {
     "iopub.execute_input": "2022-09-13T01:39:54.355497Z",
     "iopub.status.busy": "2022-09-13T01:39:54.355497Z",
     "iopub.status.idle": "2022-09-13T01:39:54.375446Z",
     "shell.execute_reply": "2022-09-13T01:39:54.375446Z",
     "shell.execute_reply.started": "2022-09-13T01:39:54.355497Z"
    },
    "tags": []
   },
   "outputs": [
    {
     "data": {
      "text/plain": [
       "False"
      ]
     },
     "execution_count": 5,
     "metadata": {},
     "output_type": "execute_result"
    }
   ],
   "source": [
    "# 촬영 사이즈\n",
    "camera.set(cv2.CAP_PROP_FRAME_WIDTH, 640)\n",
    "camera.set(cv2.CAP_PROP_FRAME_HEIGHT, 640)"
   ]
  },
  {
   "cell_type": "code",
   "execution_count": 2,
   "id": "aadc06b7-133a-431b-9564-d4c68b166e30",
   "metadata": {
    "execution": {
     "iopub.execute_input": "2022-09-14T01:32:03.542551Z",
     "iopub.status.busy": "2022-09-14T01:32:03.542551Z",
     "iopub.status.idle": "2022-09-14T01:32:03.548535Z",
     "shell.execute_reply": "2022-09-14T01:32:03.548535Z",
     "shell.execute_reply.started": "2022-09-14T01:32:03.542551Z"
    },
    "tags": []
   },
   "outputs": [],
   "source": [
    "# CasCade Classifier 생성\n",
    "face_cascade = cv2.CascadeClassifier()\n",
    "eyes_cascade = cv2.CascadeClassifier()"
   ]
  },
  {
   "cell_type": "code",
   "execution_count": 3,
   "id": "2c6bd6fa-1c16-483a-90d7-82b51df6b585",
   "metadata": {
    "execution": {
     "iopub.execute_input": "2022-09-14T01:32:03.772389Z",
     "iopub.status.busy": "2022-09-14T01:32:03.772389Z",
     "iopub.status.idle": "2022-09-14T01:32:03.785353Z",
     "shell.execute_reply": "2022-09-14T01:32:03.785353Z",
     "shell.execute_reply.started": "2022-09-14T01:32:03.772389Z"
    },
    "tags": []
   },
   "outputs": [],
   "source": [
    "# 가중치 데이터가 들어있는 xml 파일명\n",
    "face_xml = './opencv_data/haarcascades/haarcascade_frontalface_alt.xml'\n",
    "eyes_xml = './opencv_data/haarcascades/haarcascade_eye_tree_eyeglasses.xml'"
   ]
  },
  {
   "cell_type": "code",
   "execution_count": 4,
   "id": "d894f7be-e14f-416a-b69b-104a3bf42066",
   "metadata": {
    "execution": {
     "iopub.execute_input": "2022-09-14T01:32:04.248341Z",
     "iopub.status.busy": "2022-09-14T01:32:04.248341Z",
     "iopub.status.idle": "2022-09-14T01:32:04.300209Z",
     "shell.execute_reply": "2022-09-14T01:32:04.300209Z",
     "shell.execute_reply.started": "2022-09-14T01:32:04.248341Z"
    },
    "tags": []
   },
   "outputs": [
    {
     "data": {
      "text/plain": [
       "True"
      ]
     },
     "execution_count": 4,
     "metadata": {},
     "output_type": "execute_result"
    }
   ],
   "source": [
    "# 가중치 데이터를 학습모델에 적용한다.\n",
    "face_cascade.load(cv2.samples.findFile(face_xml))\n",
    "eyes_cascade.load(cv2.samples.findFile(eyes_xml))"
   ]
  },
  {
   "cell_type": "code",
   "execution_count": null,
   "id": "d7ec987a-f412-4384-99b2-bffacd3d7227",
   "metadata": {},
   "outputs": [],
   "source": [
    "# 촬영한다.\n",
    "while cv2.waitKey(33) < 0 :\n",
    "        \n",
    "    # 현재 촬영된 사진을 가져온다.\n",
    "    ret, frame = camera.read()\n",
    "    \n",
    "    # 좌우반전\n",
    "    frame = cv2.flip(frame, 1)\n",
    "    \n",
    "    # 인식률 향상을 이미지 데이터 전처리\n",
    "    # 흑백으로 변환한다.\n",
    "    frame_gray = cv2.cvtColor(frame, cv2.COLOR_BGR2GRAY)\n",
    "    # 데이터를 표준화한다.\n",
    "    frame_gray = cv2.equalizeHist(frame_gray)\n",
    "    \n",
    "    # 얼굴을 인식한다.\n",
    "    # 결과는 인식된 부분의 이미지상의 좌측 상단 x, y 좌표와 가로, 세로 길이를\n",
    "    # 가져온다.\n",
    "    faces = face_cascade.detectMultiScale(frame_gray)\n",
    "    \n",
    "    # 인식한 얼굴의 수 만큼 반복한다.\n",
    "    for x, y, w, h in faces :\n",
    "        # 인식한 얼굴에 네모를 그려준다.\n",
    "        # 이미지, 좌측상단 x, 좌측상단 y, 우측하단 x, 우측하단 y, 색상, 두께\n",
    "        frame = cv2.rectangle(frame, (x, y), (x + w, y + h), (0, 255, 0), 4)\n",
    "\n",
    "        # 현재의 얼굴 부분만 데이터로 가져온다.\n",
    "        faceROI = frame_gray[y:y+h, x:x+h]\n",
    "        # 추출한 얼굴에서 눈을 가져온다.\n",
    "        eyes = eyes_cascade.detectMultiScale(faceROI)\n",
    "        # print(eyes)\n",
    "        # print('---------------------------------------------')\n",
    "\n",
    "        # 검출된 눈의 수 만큼 반복한다.\n",
    "        for x2, y2, w2, h2 in eyes :\n",
    "            # 눈의 중앙점\n",
    "            eye_x = x + x2 + w2 // 2\n",
    "            eye_y = y + y2 + h2 // 2\n",
    "            # 반경을 계산한다.\n",
    "            radius = int(round((w2 + h2) * 0.25))\n",
    "            # 원을 그린다.\n",
    "            # 그릴이미지, 원의 중앙점 xy 좌표, 반경, 색상, 두께\n",
    "            frame = cv2.circle(frame, (eye_x, eye_y), radius, (255, 0, 0), 4)\n",
    "    \n",
    "    # 그린다.\n",
    "    cv2.imshow('Camera', frame)\n",
    "    \n",
    "# 동영상 데이터를 제거한다.\n",
    "camera.release()\n",
    "cv2.destroyAllWindows()"
   ]
  }
 ],
 "metadata": {
  "kernelspec": {
   "display_name": "Python 3 (ipykernel)",
   "language": "python",
   "name": "python3"
  },
  "language_info": {
   "codemirror_mode": {
    "name": "ipython",
    "version": 3
   },
   "file_extension": ".py",
   "mimetype": "text/x-python",
   "name": "python",
   "nbconvert_exporter": "python",
   "pygments_lexer": "ipython3",
   "version": "3.9.12"
  }
 },
 "nbformat": 4,
 "nbformat_minor": 5
}
