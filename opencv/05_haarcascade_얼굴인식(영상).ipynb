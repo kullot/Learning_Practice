{
 "cells": [
  {
   "cell_type": "code",
   "execution_count": 24,
   "id": "b7c9887c-7465-4f6a-bd93-ff9169bc1174",
   "metadata": {
    "execution": {
     "iopub.execute_input": "2022-09-14T01:29:27.484454Z",
     "iopub.status.busy": "2022-09-14T01:29:27.484454Z",
     "iopub.status.idle": "2022-09-14T01:29:27.501409Z",
     "shell.execute_reply": "2022-09-14T01:29:27.501409Z",
     "shell.execute_reply.started": "2022-09-14T01:29:27.484454Z"
    },
    "tags": []
   },
   "outputs": [],
   "source": [
    "import numpy as np\n",
    "import cv2"
   ]
  },
  {
   "cell_type": "code",
   "execution_count": 25,
   "id": "d14d2a21-cd08-4852-b404-9e45f3e7616f",
   "metadata": {
    "execution": {
     "iopub.execute_input": "2022-09-14T01:29:27.728490Z",
     "iopub.status.busy": "2022-09-14T01:29:27.728490Z",
     "iopub.status.idle": "2022-09-14T01:29:27.736462Z",
     "shell.execute_reply": "2022-09-14T01:29:27.736462Z",
     "shell.execute_reply.started": "2022-09-14T01:29:27.728490Z"
    },
    "tags": []
   },
   "outputs": [],
   "source": [
    "# 영상 파일 이름\n",
    "file_name = './opencv_data/video/obama_01.mp4'\n",
    "video = cv2.VideoCapture(file_name)"
   ]
  },
  {
   "cell_type": "code",
   "execution_count": 26,
   "id": "515d809d-3f39-4891-bb2e-780235c40ddc",
   "metadata": {
    "execution": {
     "iopub.execute_input": "2022-09-14T01:29:27.968380Z",
     "iopub.status.busy": "2022-09-14T01:29:27.968380Z",
     "iopub.status.idle": "2022-09-14T01:29:27.984337Z",
     "shell.execute_reply": "2022-09-14T01:29:27.984337Z",
     "shell.execute_reply.started": "2022-09-14T01:29:27.968380Z"
    },
    "tags": []
   },
   "outputs": [],
   "source": [
    "# CasCade Classifier 생성\n",
    "face_cascade = cv2.CascadeClassifier()\n",
    "eyes_cascade = cv2.CascadeClassifier()"
   ]
  },
  {
   "cell_type": "code",
   "execution_count": 27,
   "id": "829e10e9-7417-4dca-8901-2d5a658448da",
   "metadata": {
    "execution": {
     "iopub.execute_input": "2022-09-14T01:29:28.300458Z",
     "iopub.status.busy": "2022-09-14T01:29:28.300458Z",
     "iopub.status.idle": "2022-09-14T01:29:28.311429Z",
     "shell.execute_reply": "2022-09-14T01:29:28.311429Z",
     "shell.execute_reply.started": "2022-09-14T01:29:28.300458Z"
    },
    "tags": []
   },
   "outputs": [],
   "source": [
    "# 가중치 데이터가 들어있는 xml 파일명\n",
    "face_xml = './opencv_data/haarcascades/haarcascade_frontalface_alt.xml'\n",
    "eyes_xml = './opencv_data/haarcascades/haarcascade_eye_tree_eyeglasses.xml'"
   ]
  },
  {
   "cell_type": "code",
   "execution_count": 28,
   "id": "2a3c34bb-f87e-43e1-b8ed-945c331c74d7",
   "metadata": {
    "execution": {
     "iopub.execute_input": "2022-09-14T01:29:28.886460Z",
     "iopub.status.busy": "2022-09-14T01:29:28.885536Z",
     "iopub.status.idle": "2022-09-14T01:29:28.935477Z",
     "shell.execute_reply": "2022-09-14T01:29:28.935477Z",
     "shell.execute_reply.started": "2022-09-14T01:29:28.886460Z"
    },
    "tags": []
   },
   "outputs": [
    {
     "data": {
      "text/plain": [
       "True"
      ]
     },
     "execution_count": 28,
     "metadata": {},
     "output_type": "execute_result"
    }
   ],
   "source": [
    "# 가중치 데이터를 학습모델에 적용한다.\n",
    "face_cascade.load(cv2.samples.findFile(face_xml))\n",
    "eyes_cascade.load(cv2.samples.findFile(eyes_xml))"
   ]
  },
  {
   "cell_type": "code",
   "execution_count": 22,
   "id": "08f8b117-0e27-4e99-9f69-79902786b87f",
   "metadata": {
    "execution": {
     "iopub.execute_input": "2022-09-14T01:27:56.919448Z",
     "iopub.status.busy": "2022-09-14T01:27:56.919448Z",
     "iopub.status.idle": "2022-09-14T01:27:57.004387Z",
     "shell.execute_reply": "2022-09-14T01:27:57.004387Z",
     "shell.execute_reply.started": "2022-09-14T01:27:56.919448Z"
    },
    "tags": []
   },
   "outputs": [
    {
     "ename": "error",
     "evalue": "OpenCV(4.6.0) D:\\a\\opencv-python\\opencv-python\\opencv\\modules\\imgproc\\src\\color.cpp:182: error: (-215:Assertion failed) !_src.empty() in function 'cv::cvtColor'\n",
     "output_type": "error",
     "traceback": [
      "\u001b[1;31m---------------------------------------------------------------------------\u001b[0m",
      "\u001b[1;31merror\u001b[0m                                     Traceback (most recent call last)",
      "Input \u001b[1;32mIn [22]\u001b[0m, in \u001b[0;36m<cell line: 2>\u001b[1;34m()\u001b[0m\n\u001b[0;32m      9\u001b[0m ret, frame \u001b[38;5;241m=\u001b[39m video\u001b[38;5;241m.\u001b[39mread()\n\u001b[0;32m     11\u001b[0m \u001b[38;5;66;03m# 인식률 향상을 이미지 데이터 전처리\u001b[39;00m\n\u001b[0;32m     12\u001b[0m \u001b[38;5;66;03m# 흑백으로 변환한다.\u001b[39;00m\n\u001b[1;32m---> 13\u001b[0m frame_gray \u001b[38;5;241m=\u001b[39m \u001b[43mcv2\u001b[49m\u001b[38;5;241;43m.\u001b[39;49m\u001b[43mcvtColor\u001b[49m\u001b[43m(\u001b[49m\u001b[43mframe\u001b[49m\u001b[43m,\u001b[49m\u001b[43m \u001b[49m\u001b[43mcv2\u001b[49m\u001b[38;5;241;43m.\u001b[39;49m\u001b[43mCOLOR_BGR2GRAY\u001b[49m\u001b[43m)\u001b[49m\n\u001b[0;32m     14\u001b[0m \u001b[38;5;66;03m# 데이터를 표준화한다.\u001b[39;00m\n\u001b[0;32m     15\u001b[0m frame_gray \u001b[38;5;241m=\u001b[39m cv2\u001b[38;5;241m.\u001b[39mequalizeHist(frame_gray)\n",
      "\u001b[1;31merror\u001b[0m: OpenCV(4.6.0) D:\\a\\opencv-python\\opencv-python\\opencv\\modules\\imgproc\\src\\color.cpp:182: error: (-215:Assertion failed) !_src.empty() in function 'cv::cvtColor'\n"
     ]
    }
   ],
   "source": [
    "# 엔터키를 누르지 않는 동안 반복한다.\n",
    "while cv2.waitKey(33) < 0 :\n",
    "    a1 = video.get(cv2.CAP_PROP_POS_FRAMES)\n",
    "    a2 = video.get(cv2.CAP_PROP_FRAME_COUNT)\n",
    "    if a1 == a2 :\n",
    "        video.set(cv2.CAP_PROP_POS_FRAMES, 0)\n",
    "        \n",
    "    # 현재 프레임의 이미지를 추출한다.\n",
    "    ret, frame = video.read()\n",
    "\n",
    "    # 인식률 향상을 이미지 데이터 전처리\n",
    "    # 흑백으로 변환한다.\n",
    "    frame_gray = cv2.cvtColor(frame, cv2.COLOR_BGR2GRAY)\n",
    "    # 데이터를 표준화한다.\n",
    "    frame_gray = cv2.equalizeHist(frame_gray)\n",
    "    \n",
    "    # 얼굴을 인식한다.\n",
    "    # 결과는 인식된 부분의 이미지상의 좌측 상단 x, y 좌표와 가로, 세로 길이를 가져온다.\n",
    "    faces = face_cascade.detectMultiScale(frame_gray)\n",
    "    \n",
    "    # 인식한 얼굴의 수 만큼 반복한다.\n",
    "    for x, y, w, h in faces : \n",
    "        # 인식한 얼굴에 네모를 그려준다.\n",
    "        # 이미지, 좌측상단 x, 좌측상단 y, 우측하단 x, 우측하단 y, 색상, 두께\n",
    "        frame = cv2.rectangle(frame, (x,y), (x+w, y+h), (0, 255, 0), 4)\n",
    "\n",
    "        # 현재의 얼굴 부분만 데이터로 가져온다.\n",
    "        faceROI = frame_gray[y:y+h, x:x+h]\n",
    "        # 추출한 얼굴에서 눈을 가져온다.\n",
    "        eyes = eyes_cascade.detectMultiScale(faceROI)\n",
    "        print(eyes)\n",
    "        print('----------------------------------------------------------------------')\n",
    "\n",
    "        # 검출된 눈의 수 만큼 반복한다.\n",
    "        for x2, y2, w2, h2 in eyes :\n",
    "            # 눈의 중앙점\n",
    "            eye_x = x + x2 + w2 // 2\n",
    "            eye_y = y + y2 + h2 // 2\n",
    "            # 반경을 게산한다.\n",
    "            radius = int(round((w2 + h2) * 0.25))\n",
    "            # 원을 그린다.\n",
    "            # 그릴 이미지, 원의 중앙점 xy 좌표, 반경, 색상, 두께\n",
    "            frame = cv2.circle(frame, (eye_x, eye_y), radius, (255, 0, 0), 4)\n",
    "    \n",
    "    \n",
    "    cv2.imshow('VideoFrame', frame)\n",
    "    \n",
    "video.release()\n",
    "cv2.destroyAllWindows()"
   ]
  },
  {
   "cell_type": "code",
   "execution_count": 29,
   "id": "389665f9-675d-4a85-9b3a-716cf8e97008",
   "metadata": {
    "execution": {
     "iopub.execute_input": "2022-09-14T01:29:31.833448Z",
     "iopub.status.busy": "2022-09-14T01:29:31.833448Z",
     "iopub.status.idle": "2022-09-14T01:29:48.639117Z",
     "shell.execute_reply": "2022-09-14T01:29:48.639117Z",
     "shell.execute_reply.started": "2022-09-14T01:29:31.833448Z"
    },
    "tags": []
   },
   "outputs": [],
   "source": [
    "# 엔터키를 누르지 않는 동안 반복한다.\n",
    "while cv2.waitKey(33) < 0 :\n",
    "    a1 = video.get(cv2.CAP_PROP_POS_FRAMES)\n",
    "    a2 = video.get(cv2.CAP_PROP_FRAME_COUNT)\n",
    "    if a1 == a2 :\n",
    "        video.set(cv2.CAP_PROP_POS_FRAMES, 0)\n",
    "        \n",
    "    # 현재 프레임의 이미지를 추출한다.\n",
    "    ret, frame = video.read()\n",
    "    \n",
    "    # 인식률 향상을 이미지 데이터 전처리\n",
    "    # 흑백으로 변환한다.\n",
    "    frame_gray = cv2.cvtColor(frame, cv2.COLOR_BGR2GRAY)\n",
    "    # 데이터를 표준화한다.\n",
    "    frame_gray = cv2.equalizeHist(frame_gray)\n",
    "    \n",
    "    # 얼굴을 인식한다.\n",
    "    # 결과는 인식된 부분의 이미지상의 좌측 상단 x, y 좌표와 가로, 세로 길이를\n",
    "    # 가져온다.\n",
    "    faces = face_cascade.detectMultiScale(frame_gray)\n",
    "    \n",
    "    # 인식한 얼굴의 수 만큼 반복한다.\n",
    "    for x, y, w, h in faces :\n",
    "        # 인식한 얼굴에 네모를 그려준다.\n",
    "        # 이미지, 좌측상단 x, 좌측상단 y, 우측하단 x, 우측하단 y, 색상, 두께\n",
    "        frame = cv2.rectangle(frame, (x, y), (x + w, y + h), (0, 255, 0), 4)\n",
    "\n",
    "        # 현재의 얼굴 부분만 데이터로 가져온다.\n",
    "        faceROI = frame_gray[y:y+h, x:x+h]\n",
    "        # 추출한 얼굴에서 눈을 가져온다.\n",
    "        eyes = eyes_cascade.detectMultiScale(faceROI)\n",
    "        # print(eyes)\n",
    "        # print('---------------------------------------------')\n",
    "\n",
    "        # 검출된 눈의 수 만큼 반복한다.\n",
    "        for x2, y2, w2, h2 in eyes :\n",
    "            # 눈의 중앙점\n",
    "            eye_x = x + x2 + w2 // 2\n",
    "            eye_y = y + y2 + h2 // 2\n",
    "            # 반경을 계산한다.\n",
    "            radius = int(round((w2 + h2) * 0.25))\n",
    "            # 원을 그린다.\n",
    "            # 그릴이미지, 원의 중앙점 xy 좌표, 반경, 색상, 두께\n",
    "            frame = cv2.circle(frame, (eye_x, eye_y), radius, (255, 0, 0), 4)\n",
    "    \n",
    "    \n",
    "    cv2.imshow('VideoFrame', frame)\n",
    "    \n",
    "video.release()\n",
    "cv2.destroyAllWindows()"
   ]
  },
  {
   "cell_type": "code",
   "execution_count": null,
   "id": "2d0a8009-1816-412e-9466-208624689e70",
   "metadata": {},
   "outputs": [],
   "source": []
  }
 ],
 "metadata": {
  "kernelspec": {
   "display_name": "Python 3 (ipykernel)",
   "language": "python",
   "name": "python3"
  },
  "language_info": {
   "codemirror_mode": {
    "name": "ipython",
    "version": 3
   },
   "file_extension": ".py",
   "mimetype": "text/x-python",
   "name": "python",
   "nbconvert_exporter": "python",
   "pygments_lexer": "ipython3",
   "version": "3.9.12"
  }
 },
 "nbformat": 4,
 "nbformat_minor": 5
}
