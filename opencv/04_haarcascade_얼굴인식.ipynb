{
 "cells": [
  {
   "cell_type": "markdown",
   "id": "c351646b-c2ed-4879-9e83-9569534aa563",
   "metadata": {},
   "source": [
    "- HaarCasCade : openCV에서 제공하는 학습 모델에 적용할 수 있는 가중치가 저장된 파일\n",
    "- 사전 학습 모델 자체를 제공하는 것이 아닌 모델을 구성하기 위한 값들이 저장되어 있는 파일이다."
   ]
  },
  {
   "cell_type": "code",
   "execution_count": 2,
   "id": "7855c017-2e1e-4a05-8e9e-64cf6d58cf61",
   "metadata": {
    "execution": {
     "iopub.execute_input": "2022-09-14T00:20:50.523530Z",
     "iopub.status.busy": "2022-09-14T00:20:50.523530Z",
     "iopub.status.idle": "2022-09-14T00:20:50.530511Z",
     "shell.execute_reply": "2022-09-14T00:20:50.530511Z",
     "shell.execute_reply.started": "2022-09-14T00:20:50.523530Z"
    },
    "tags": []
   },
   "outputs": [],
   "source": [
    "import numpy as np\n",
    "import cv2"
   ]
  },
  {
   "cell_type": "code",
   "execution_count": 62,
   "id": "90331b10-7665-4238-9f58-27a7b9f7633e",
   "metadata": {
    "execution": {
     "iopub.execute_input": "2022-09-14T00:55:25.163356Z",
     "iopub.status.busy": "2022-09-14T00:55:25.163356Z",
     "iopub.status.idle": "2022-09-14T00:55:25.177320Z",
     "shell.execute_reply": "2022-09-14T00:55:25.177320Z",
     "shell.execute_reply.started": "2022-09-14T00:55:25.163356Z"
    },
    "tags": []
   },
   "outputs": [],
   "source": [
    "# 이미지를 불러온다.\n",
    "# img = cv2.imread('./opencv_data/image/marathon_01.jpg')\n",
    "img = cv2.imread('./opencv_data/image/marathon_02.jpg')"
   ]
  },
  {
   "cell_type": "code",
   "execution_count": 63,
   "id": "5bc9c3f8-5989-44f9-89b8-6ef40e85f4cd",
   "metadata": {
    "execution": {
     "iopub.execute_input": "2022-09-14T00:55:25.415925Z",
     "iopub.status.busy": "2022-09-14T00:55:25.415925Z",
     "iopub.status.idle": "2022-09-14T00:55:25.429887Z",
     "shell.execute_reply": "2022-09-14T00:55:25.429887Z",
     "shell.execute_reply.started": "2022-09-14T00:55:25.415925Z"
    },
    "tags": []
   },
   "outputs": [],
   "source": [
    "# CasCade Classifier 생성\n",
    "face_cascade = cv2.CascadeClassifier()\n",
    "eyes_cascade = cv2.CascadeClassifier()"
   ]
  },
  {
   "cell_type": "code",
   "execution_count": 64,
   "id": "f59a5647-5428-4020-8302-01c8952636fe",
   "metadata": {
    "execution": {
     "iopub.execute_input": "2022-09-14T00:55:25.604752Z",
     "iopub.status.busy": "2022-09-14T00:55:25.604752Z",
     "iopub.status.idle": "2022-09-14T00:55:25.616720Z",
     "shell.execute_reply": "2022-09-14T00:55:25.616720Z",
     "shell.execute_reply.started": "2022-09-14T00:55:25.604752Z"
    },
    "tags": []
   },
   "outputs": [],
   "source": [
    "# 가중치 데이터가 들어있는 xml 파일명\n",
    "face_xml = './opencv_data/haarcascades/haarcascade_frontalface_alt.xml'\n",
    "eyes_xml = './opencv_data/haarcascades/haarcascade_eye_tree_eyeglasses.xml'"
   ]
  },
  {
   "cell_type": "code",
   "execution_count": 65,
   "id": "f38b285f-985b-4742-a0d3-cd2b0f8db1a3",
   "metadata": {
    "execution": {
     "iopub.execute_input": "2022-09-14T00:55:25.782285Z",
     "iopub.status.busy": "2022-09-14T00:55:25.782285Z",
     "iopub.status.idle": "2022-09-14T00:55:25.820184Z",
     "shell.execute_reply": "2022-09-14T00:55:25.820184Z",
     "shell.execute_reply.started": "2022-09-14T00:55:25.782285Z"
    },
    "tags": []
   },
   "outputs": [
    {
     "data": {
      "text/plain": [
       "True"
      ]
     },
     "execution_count": 65,
     "metadata": {},
     "output_type": "execute_result"
    }
   ],
   "source": [
    "# 가중치 데이터를 학습모델에 적용한다.\n",
    "face_cascade.load(cv2.samples.findFile(face_xml))\n",
    "eyes_cascade.load(cv2.samples.findFile(eyes_xml))"
   ]
  },
  {
   "cell_type": "code",
   "execution_count": 69,
   "id": "d302319d-9d70-4d35-aac1-5960a1fdb501",
   "metadata": {
    "execution": {
     "iopub.execute_input": "2022-09-14T01:24:57.337443Z",
     "iopub.status.busy": "2022-09-14T01:24:57.337443Z",
     "iopub.status.idle": "2022-09-14T01:24:57.346420Z",
     "shell.execute_reply": "2022-09-14T01:24:57.346420Z",
     "shell.execute_reply.started": "2022-09-14T01:24:57.337443Z"
    },
    "tags": []
   },
   "outputs": [],
   "source": [
    "# 인식률 향상을 이미지 데이터 전처리\n",
    "# 흑백으로 변환한다.\n",
    "frame_gray = cv2.cvtColor(img, cv2.COLOR_BGR2GRAY)\n",
    "# 데이터를 표준화한다.\n",
    "frame_gray = cv2.equalizeHist(frame_gray)"
   ]
  },
  {
   "cell_type": "code",
   "execution_count": 67,
   "id": "238abb38-5b0a-4c0d-93fd-bb1fb9d16304",
   "metadata": {
    "execution": {
     "iopub.execute_input": "2022-09-14T00:55:26.160861Z",
     "iopub.status.busy": "2022-09-14T00:55:26.159864Z",
     "iopub.status.idle": "2022-09-14T00:55:26.180808Z",
     "shell.execute_reply": "2022-09-14T00:55:26.180808Z",
     "shell.execute_reply.started": "2022-09-14T00:55:26.160861Z"
    },
    "tags": []
   },
   "outputs": [
    {
     "data": {
      "text/plain": [
       "array([[ 82,  41, 106, 106]])"
      ]
     },
     "execution_count": 67,
     "metadata": {},
     "output_type": "execute_result"
    }
   ],
   "source": [
    "# 얼굴을 인식한다.\n",
    "# 결과는 인식된 부분의 이미지상의 좌측 상단 x, y 좌표와 가로, 세로 길이를 가져온다.\n",
    "faces = face_cascade.detectMultiScale(frame_gray)\n",
    "faces"
   ]
  },
  {
   "cell_type": "code",
   "execution_count": 68,
   "id": "eafb48d1-3580-4bc9-b023-8dfb2e4274ea",
   "metadata": {
    "execution": {
     "iopub.execute_input": "2022-09-14T00:55:26.408683Z",
     "iopub.status.busy": "2022-09-14T00:55:26.408683Z",
     "iopub.status.idle": "2022-09-14T00:56:21.212956Z",
     "shell.execute_reply": "2022-09-14T00:56:21.212956Z",
     "shell.execute_reply.started": "2022-09-14T00:55:26.408683Z"
    },
    "tags": []
   },
   "outputs": [
    {
     "name": "stdout",
     "output_type": "stream",
     "text": [
      "[[20 31 24 24]\n",
      " [64 30 24 24]]\n",
      "----------------------------------------------------------------------\n"
     ]
    }
   ],
   "source": [
    "# 인식한 얼굴의 수 만큼 반복한다.\n",
    "for x, y, w, h in faces : \n",
    "    # 인식한 얼굴에 네모를 그려준다.\n",
    "    # 이미지, 좌측상단 x, 좌측상단 y, 우측하단 x, 우측하단 y, 색상, 두께\n",
    "    frame = cv2.rectangle(img, (x,y), (x+w, y+h), (0, 255, 0), 4)\n",
    "    \n",
    "    # 현재의 얼굴 부분만 데이터로 가져온다.\n",
    "    faceROI = frame_gray[y:y+h, x:x+h]\n",
    "    # 추출한 얼굴에서 눈을 가져온다.\n",
    "    eyes = eyes_cascade.detectMultiScale(faceROI)\n",
    "    print(eyes)\n",
    "    print('----------------------------------------------------------------------')\n",
    "    \n",
    "    # 검출된 눈의 수 만큼 반복한다.\n",
    "    for x2, y2, w2, h2 in eyes :\n",
    "        # 눈의 중앙점\n",
    "        eye_x = x + x2 + w2 // 2\n",
    "        eye_y = y + y2 + h2 // 2\n",
    "        # 반경을 게산한다.\n",
    "        radius = int(round((w2 + h2) * 0.25))\n",
    "        # 원을 그린다.\n",
    "        # 그릴 이미지, 원의 중앙점 xy 좌표, 반경, 색상, 두께\n",
    "        frame = cv2.circle(frame, (eye_x, eye_y), radius, (255, 0, 0), 4)\n",
    "    \n",
    "# 이미지를 표시한다.\n",
    "cv2.imshow('Face Detection', frame)\n",
    "cv2.waitKey()\n",
    "cv2.destroyAllWindows()"
   ]
  },
  {
   "cell_type": "code",
   "execution_count": null,
   "id": "77fff6a5-2c65-4ac1-a091-4dcf9d9356f0",
   "metadata": {},
   "outputs": [],
   "source": []
  }
 ],
 "metadata": {
  "kernelspec": {
   "display_name": "Python 3 (ipykernel)",
   "language": "python",
   "name": "python3"
  },
  "language_info": {
   "codemirror_mode": {
    "name": "ipython",
    "version": 3
   },
   "file_extension": ".py",
   "mimetype": "text/x-python",
   "name": "python",
   "nbconvert_exporter": "python",
   "pygments_lexer": "ipython3",
   "version": "3.9.12"
  }
 },
 "nbformat": 4,
 "nbformat_minor": 5
}
