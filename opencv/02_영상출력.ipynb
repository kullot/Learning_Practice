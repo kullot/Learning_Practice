{
 "cells": [
  {
   "cell_type": "code",
   "execution_count": 1,
   "id": "e89fef21-d4c6-4d10-a653-77856da02abf",
   "metadata": {
    "execution": {
     "iopub.execute_input": "2022-09-13T01:17:04.617162Z",
     "iopub.status.busy": "2022-09-13T01:17:04.617162Z",
     "iopub.status.idle": "2022-09-13T01:17:04.771732Z",
     "shell.execute_reply": "2022-09-13T01:17:04.771732Z",
     "shell.execute_reply.started": "2022-09-13T01:17:04.617162Z"
    }
   },
   "outputs": [],
   "source": [
    "import cv2"
   ]
  },
  {
   "cell_type": "code",
   "execution_count": 2,
   "id": "85d0634f-b3e7-4e5e-b12e-9da922e23b51",
   "metadata": {
    "execution": {
     "iopub.execute_input": "2022-09-13T01:19:38.794901Z",
     "iopub.status.busy": "2022-09-13T01:19:38.793899Z",
     "iopub.status.idle": "2022-09-13T01:19:38.880823Z",
     "shell.execute_reply": "2022-09-13T01:19:38.880823Z",
     "shell.execute_reply.started": "2022-09-13T01:19:38.793899Z"
    }
   },
   "outputs": [
    {
     "data": {
      "text/plain": [
       "< cv2.VideoCapture 00000206CFB6EB10>"
      ]
     },
     "execution_count": 2,
     "metadata": {},
     "output_type": "execute_result"
    }
   ],
   "source": [
    "# 영상 파일을 설정한다.\n",
    "video = cv2.VideoCapture('./opencv_data/video/yolo_01.mp4')\n",
    "video"
   ]
  },
  {
   "cell_type": "code",
   "execution_count": 3,
   "id": "c93a2abf-d371-45f4-ac08-3be864653491",
   "metadata": {
    "execution": {
     "iopub.execute_input": "2022-09-13T01:24:21.939897Z",
     "iopub.status.busy": "2022-09-13T01:24:21.939897Z",
     "iopub.status.idle": "2022-09-13T01:24:21.949863Z",
     "shell.execute_reply": "2022-09-13T01:24:21.949863Z",
     "shell.execute_reply.started": "2022-09-13T01:24:21.939897Z"
    }
   },
   "outputs": [
    {
     "data": {
      "text/plain": [
       "0.0"
      ]
     },
     "execution_count": 3,
     "metadata": {},
     "output_type": "execute_result"
    }
   ],
   "source": [
    "# 현재 재상되고 있는 프레임의 위치\n",
    "video.get(cv2.CAP_PROP_POS_FRAMES)"
   ]
  },
  {
   "cell_type": "code",
   "execution_count": 4,
   "id": "e7b51f9d-14c2-45c9-9afb-92b5e2d09890",
   "metadata": {
    "execution": {
     "iopub.execute_input": "2022-09-13T01:25:05.559433Z",
     "iopub.status.busy": "2022-09-13T01:25:05.559433Z",
     "iopub.status.idle": "2022-09-13T01:25:05.575372Z",
     "shell.execute_reply": "2022-09-13T01:25:05.575372Z",
     "shell.execute_reply.started": "2022-09-13T01:25:05.559433Z"
    }
   },
   "outputs": [
    {
     "data": {
      "text/plain": [
       "0.0"
      ]
     },
     "execution_count": 4,
     "metadata": {},
     "output_type": "execute_result"
    }
   ],
   "source": [
    "# 현재 재생되고 있는 시간\n",
    "video.get(cv2.CAP_PROP_POS_MSEC)"
   ]
  },
  {
   "cell_type": "code",
   "execution_count": 5,
   "id": "d637dadb-5752-448a-bb61-e32c334f6c39",
   "metadata": {
    "execution": {
     "iopub.execute_input": "2022-09-13T01:26:28.802038Z",
     "iopub.status.busy": "2022-09-13T01:26:28.802038Z",
     "iopub.status.idle": "2022-09-13T01:26:28.816998Z",
     "shell.execute_reply": "2022-09-13T01:26:28.816998Z",
     "shell.execute_reply.started": "2022-09-13T01:26:28.802038Z"
    }
   },
   "outputs": [
    {
     "data": {
      "text/plain": [
       "471.0"
      ]
     },
     "execution_count": 5,
     "metadata": {},
     "output_type": "execute_result"
    }
   ],
   "source": [
    "# 총 프레임 수\n",
    "video.get(cv2.CAP_PROP_FRAME_COUNT)"
   ]
  },
  {
   "cell_type": "code",
   "execution_count": 6,
   "id": "306ed47b-3851-42c7-a8e0-27bfbd997528",
   "metadata": {
    "execution": {
     "iopub.execute_input": "2022-09-13T01:32:46.698799Z",
     "iopub.status.busy": "2022-09-13T01:32:46.698799Z",
     "iopub.status.idle": "2022-09-13T01:33:03.584489Z",
     "shell.execute_reply": "2022-09-13T01:33:03.583483Z",
     "shell.execute_reply.started": "2022-09-13T01:32:46.698799Z"
    }
   },
   "outputs": [],
   "source": [
    "# 영상 재생은 영상에서 프레임을 하나씩 추출하여 그리는 작업이다.\n",
    "# 이에 반복한다.\n",
    "# 엔터키를 누르지 않는 동안 반복한다.\n",
    "while cv2.waitKey(33) < 0 :\n",
    "    # 현재 재생위치\n",
    "    a1 = video.get(cv2.CAP_PROP_POS_FRAMES)\n",
    "    # 전체 프레임수\n",
    "    a2 = video.get(cv2.CAP_PROP_FRAME_COUNT)\n",
    "    # 현재 재생 위치가 전체 프레임 수와 동일(끝까지) 하다면\n",
    "    # 현재 재생 위치를 0으로 설정한다(반복재생 구현)\n",
    "    if a1 == a2 :\n",
    "        video.set(cv2.CAP_PROP_POS_FRAMES, 0)\n",
    "        \n",
    "    # 현재 프레임의 이미지를 추출한다.\n",
    "    ret, frame = video.read()\n",
    "    # 그린다.\n",
    "    cv2.imshow('VideoFrame', frame)\n",
    "    \n",
    "# 동영상 데이터를 제거한다.\n",
    "video.release()\n",
    "cv2.destroyAllWindows()"
   ]
  },
  {
   "cell_type": "code",
   "execution_count": null,
   "id": "58e801a8-7b71-4ef0-98ae-4bf63f3c36da",
   "metadata": {},
   "outputs": [],
   "source": []
  }
 ],
 "metadata": {
  "kernelspec": {
   "display_name": "Python 3 (ipykernel)",
   "language": "python",
   "name": "python3"
  },
  "language_info": {
   "codemirror_mode": {
    "name": "ipython",
    "version": 3
   },
   "file_extension": ".py",
   "mimetype": "text/x-python",
   "name": "python",
   "nbconvert_exporter": "python",
   "pygments_lexer": "ipython3",
   "version": "3.9.12"
  }
 },
 "nbformat": 4,
 "nbformat_minor": 5
}
