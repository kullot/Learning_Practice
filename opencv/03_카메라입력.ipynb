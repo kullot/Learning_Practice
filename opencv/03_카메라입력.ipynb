{
 "cells": [
  {
   "cell_type": "code",
   "execution_count": 1,
   "id": "80465d37-a2f7-47af-88e5-ae5eee696a77",
   "metadata": {
    "execution": {
     "iopub.execute_input": "2022-09-13T01:35:11.513945Z",
     "iopub.status.busy": "2022-09-13T01:35:11.513945Z",
     "iopub.status.idle": "2022-09-13T01:35:11.642787Z",
     "shell.execute_reply": "2022-09-13T01:35:11.642787Z",
     "shell.execute_reply.started": "2022-09-13T01:35:11.513945Z"
    }
   },
   "outputs": [],
   "source": [
    "import cv2"
   ]
  },
  {
   "cell_type": "code",
   "execution_count": 2,
   "id": "0a4e655f-b48a-4462-98fa-d6d59e17a97f",
   "metadata": {
    "execution": {
     "iopub.execute_input": "2022-09-13T01:37:11.188857Z",
     "iopub.status.busy": "2022-09-13T01:37:11.187861Z",
     "iopub.status.idle": "2022-09-13T01:37:11.233737Z",
     "shell.execute_reply": "2022-09-13T01:37:11.233737Z",
     "shell.execute_reply.started": "2022-09-13T01:37:11.188857Z"
    }
   },
   "outputs": [],
   "source": [
    "# 카메라에 연결한다.\n",
    "# 매개변수에는 카메라 장비 id 값을 넣어준다.\n",
    "# 노트북에 장착되어 있는 내장카메라 : 0\n",
    "# usb에 연결 되어있는 카메라는 1 ~ n 까지에 해당한다.\n",
    "camera = cv2.VideoCapture(0)"
   ]
  },
  {
   "cell_type": "code",
   "execution_count": 4,
   "id": "ac68f7ff-9cbb-49ef-8120-6daaea79ab3b",
   "metadata": {
    "execution": {
     "iopub.execute_input": "2022-09-13T01:38:10.036596Z",
     "iopub.status.busy": "2022-09-13T01:38:10.036596Z",
     "iopub.status.idle": "2022-09-13T01:38:10.045572Z",
     "shell.execute_reply": "2022-09-13T01:38:10.045572Z",
     "shell.execute_reply.started": "2022-09-13T01:38:10.036596Z"
    },
    "tags": []
   },
   "outputs": [
    {
     "data": {
      "text/plain": [
       "False"
      ]
     },
     "execution_count": 4,
     "metadata": {},
     "output_type": "execute_result"
    }
   ],
   "source": [
    "# 카메라 사용 가능 여부 확인\n",
    "camera.isOpened()"
   ]
  },
  {
   "cell_type": "code",
   "execution_count": 5,
   "id": "1376561d-4691-4e13-9c5a-5e67c763b2f1",
   "metadata": {
    "execution": {
     "iopub.execute_input": "2022-09-13T01:39:54.355497Z",
     "iopub.status.busy": "2022-09-13T01:39:54.355497Z",
     "iopub.status.idle": "2022-09-13T01:39:54.375446Z",
     "shell.execute_reply": "2022-09-13T01:39:54.375446Z",
     "shell.execute_reply.started": "2022-09-13T01:39:54.355497Z"
    }
   },
   "outputs": [
    {
     "data": {
      "text/plain": [
       "False"
      ]
     },
     "execution_count": 5,
     "metadata": {},
     "output_type": "execute_result"
    }
   ],
   "source": [
    "# 촬영 사이즈\n",
    "camera.set(cv2.CAP_PROP_FRAME_WIDTH, 640)\n",
    "camera.set(cv2.CAP_PROP_FRAME_HEIGHT, 640)"
   ]
  },
  {
   "cell_type": "code",
   "execution_count": null,
   "id": "ce9b5a69-638f-49cc-84e5-9f28114fece0",
   "metadata": {},
   "outputs": [],
   "source": [
    "# 촬영한다.\n",
    "while cv2.waitKey(33) < 0 :\n",
    "        \n",
    "    # 현재 촬영된 사진을 가져온다.\n",
    "    ret, frame = camera.read()\n",
    "    \n",
    "    # 좌우반전\n",
    "    frame = cv2.flip(frame, 1)\n",
    "    \n",
    "    # 그린다.\n",
    "    cv2.imshow('Camera', frame)\n",
    "    \n",
    "# 동영상 데이터를 제거한다.\n",
    "camera.release()\n",
    "cv2.destroyAllWindows()"
   ]
  }
 ],
 "metadata": {
  "kernelspec": {
   "display_name": "Python 3 (ipykernel)",
   "language": "python",
   "name": "python3"
  },
  "language_info": {
   "codemirror_mode": {
    "name": "ipython",
    "version": 3
   },
   "file_extension": ".py",
   "mimetype": "text/x-python",
   "name": "python",
   "nbconvert_exporter": "python",
   "pygments_lexer": "ipython3",
   "version": "3.9.12"
  }
 },
 "nbformat": 4,
 "nbformat_minor": 5
}
