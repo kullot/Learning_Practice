{
 "cells": [
  {
   "cell_type": "code",
   "execution_count": 1,
   "id": "ca2f9872",
   "metadata": {
    "scrolled": true
   },
   "outputs": [
    {
     "name": "stderr",
     "output_type": "stream",
     "text": [
      "C:\\Users\\ness9\\AppData\\Local\\Temp\\ipykernel_16504\\829985655.py:2: DeprecationWarning: Importing display from IPython.core.display is deprecated since IPython 7.14, please import from IPython display\n",
      "  from IPython.core.display import display, HTML\n"
     ]
    },
    {
     "data": {
      "text/html": [
       "<style>.container { font-weight: bold !important; }</style>"
      ],
      "text/plain": [
       "<IPython.core.display.HTML object>"
      ]
     },
     "metadata": {},
     "output_type": "display_data"
    },
    {
     "data": {
      "text/html": [
       "<style>.container { width: 100% !important; }</style>"
      ],
      "text/plain": [
       "<IPython.core.display.HTML object>"
      ]
     },
     "metadata": {},
     "output_type": "display_data"
    }
   ],
   "source": [
    "# 쥬피터노트북 셀 스타일 조절 \n",
    "from IPython.core.display import display, HTML\n",
    "display(HTML(\"<style>.container { font-weight: bold !important; }</style>\"))\n",
    "display(HTML(\"<style>.container { width: 100% !important; }</style>\"))\n",
    "\n",
    "# 경고 메세지 숨기기 \n",
    "import warnings\n",
    "warnings.filterwarnings(action='ignore')"
   ]
  },
  {
   "cell_type": "markdown",
   "id": "521b2192",
   "metadata": {},
   "source": [
    "## 공공데이타포탈의 API 서비스 이용하기\n",
    "- https://www.data.go.kr/\n",
    "- 회원 가입후에 API서비스 신청\n",
    "## 환경부 국립환경과학원_미세먼지(금속성분) 실시간 정보\n",
    "조회날짜, 항목코드, 측정소코드, 시간구분을 기준으로 중금속 성분 측정 결과를 2시간 평균, 24시간 평균 측정 수치 자료로 제공하는 서비스\n",
    "\n",
    "- https://www.data.go.kr/tcs/dss/selectApiDataDetailView.do?publicDataPk=15016368\n",
    "\n",
    "- [활용신청] 클릭후 서비스키 정보 확인\n",
    "\n",
    "- [마이페이지]-[오픈 API]-[개발 계정]\n",
    "\n",
    "- 서비스키 예시\n",
    "```\n",
    "일반 인증키 (Encoding)\n",
    "W7qHt8KLRZawPAd%2BiTUo1nt2EcSMgHwbxxMGhnKn3wfwLcwrVnHHmaVbPIi%2BgecqaouM%2ByjaLydMoXwiJm%2BMjQ%3D%3D\n",
    "일반 인증키(Decoding)    \n",
    "W7qHt8KLRZawPAd+iTUo1nt2EcSMgHwbxxMGhnKn3wfwLcwrVnHHmaVbPIi+gecqaouM+yjaLydMoXwiJm+MjQ==\n",
    "```"
   ]
  },
  {
   "cell_type": "code",
   "execution_count": 2,
   "id": "9bcbd88d",
   "metadata": {},
   "outputs": [],
   "source": [
    "# 0) 관련 모듈 임포트 \n",
    "import json \n",
    "import pandas as pd\n",
    "import requests\n",
    "import urllib.request"
   ]
  },
  {
   "cell_type": "code",
   "execution_count": 3,
   "id": "14105886",
   "metadata": {},
   "outputs": [
    {
     "name": "stdout",
     "output_type": "stream",
     "text": [
      "<Response [200]>\n",
      "{\"MetalService\":{\"header\":{\"code\":\"00\",\"message\":\"NORMAL SERVICE\"},\"item\":[{\"SDATE\":\"20220602000000\",\"STATIONCODE\":1,\"ITEMCODE\":\"90303\",\"TIMECODE\":\"RH02\",\"VALUE\":0.3307},{\"SDATE\":\"20220602020000\",\"STATIONCODE\":1,\"ITEMCODE\":\"90303\",\"TIMECODE\":\"RH02\",\"VALUE\":0.1621},{\"SDATE\":\"20220602040000\",\"STATIONCODE\":1,\"ITEMCODE\":\"90303\",\"TIMECODE\":\"RH02\",\"VALUE\":3.6916},{\"SDATE\":\"20220602060000\",\"STATIONCODE\":1,\"ITEMCODE\":\"90303\",\"TIMECODE\":\"RH02\",\"VALUE\":8.8124},{\"SDATE\":\"20220602080000\",\"STATIONCODE\":1,\"ITEMCODE\":\"90303\",\"TIMECODE\":\"RH02\",\"VALUE\":0.9511},{\"SDATE\":\"20220602100000\",\"STATIONCODE\":1,\"ITEMCODE\":\"90303\",\"TIMECODE\":\"RH02\",\"VALUE\":1.9522},{\"SDATE\":\"20220602120000\",\"STATIONCODE\":1,\"ITEMCODE\":\"90303\",\"TIMECODE\":\"RH02\",\"VALUE\":2.3849},{\"SDATE\":\"20220602140000\",\"STATIONCODE\":1,\"ITEMCODE\":\"90303\",\"TIMECODE\":\"RH02\",\"VALUE\":2.3718},{\"SDATE\":\"20220602160000\",\"STATIONCODE\":1,\"ITEMCODE\":\"90303\",\"TIMECODE\":\"RH02\",\"VALUE\":1.914},{\"SDATE\":\"20220602180000\",\"STATIONCODE\":1,\"ITEMCODE\":\"90303\",\"TIMECODE\":\"RH02\",\"VALUE\":0.6874},{\"SDATE\":\"20220602200000\",\"STATIONCODE\":1,\"ITEMCODE\":\"90303\",\"TIMECODE\":\"RH02\",\"VALUE\":0.0927},{\"SDATE\":\"20220602220000\",\"STATIONCODE\":1,\"ITEMCODE\":\"90303\",\"TIMECODE\":\"RH02\",\"VALUE\":0.4508}],\"rows\":null,\"numOfRows\":12,\"pageNo\":1,\"totalCount\":12}}\n"
     ]
    }
   ],
   "source": [
    "# 1) API 서비스 요청 => response 객체 => json 텍스트 데이타\n",
    "url = 'http://apis.data.go.kr/1480523/MetalMeasuringResultService/MetalService'\n",
    "service_key = 'W7qHt8KLRZawPAd+iTUo1nt2EcSMgHwbxxMGhnKn3wfwLcwrVnHHmaVbPIi+gecqaouM+yjaLydMoXwiJm+MjQ=='\n",
    "params ={'serviceKey' : service_key, \n",
    "         'pageNo' : '1', \n",
    "         'numOfRows' : '12', \n",
    "         'resultType' : 'JSON', \n",
    "         'date' : '20220602', \n",
    "         'stationcode' : '1', \n",
    "         'itemcode' : '90303', \n",
    "         'timecode' : 'RH02'}\n",
    "\n",
    "response = requests.get(url, params=params)\n",
    "print(response)\n",
    "print(response.text)"
   ]
  },
  {
   "cell_type": "code",
   "execution_count": null,
   "id": "0cc38669",
   "metadata": {},
   "outputs": [],
   "source": [
    "# station code 1~10 레코드 저장 \n",
    "# 명세서 참고 stationcode 대기환경연구소 코드 대기환경연구소명 1 수도권 2 백령도 3 호남권 4 중부권 5 제주권 6 영남권 7 경기권 8 충청권 9 전북권 10 강원권"
   ]
  },
  {
   "cell_type": "code",
   "execution_count": 38,
   "id": "0a567bb3",
   "metadata": {},
   "outputs": [
    {
     "name": "stdout",
     "output_type": "stream",
     "text": [
      "<class 'dict'>\n",
      "<class 'list'>\n"
     ]
    },
    {
     "data": {
      "text/plain": [
       "{'SDATE': '20220602000000',\n",
       " 'STATIONCODE': 1,\n",
       " 'ITEMCODE': '90303',\n",
       " 'TIMECODE': 'RH02',\n",
       " 'VALUE': 0.3307}"
      ]
     },
     "execution_count": 38,
     "metadata": {},
     "output_type": "execute_result"
    }
   ],
   "source": [
    "# 4) json 텍스트 => 딕셔너리 => 리스트 딕셔너리\n",
    "\n",
    "# json 텍스트 => 딕셔너리\n",
    "dust_dict = json.loads(response.text)\n",
    "print(type(dust_dict))\n",
    "\n",
    "# 딕셔너리 => 리스트 딕셔너리\n",
    "dust_list = dust_dict['MetalService']['item']\n",
    "print(type(dust_list))\n",
    "dust_list[0]"
   ]
  },
  {
   "cell_type": "code",
   "execution_count": 39,
   "id": "ed98174e",
   "metadata": {},
   "outputs": [
    {
     "data": {
      "text/html": [
       "<div>\n",
       "<style scoped>\n",
       "    .dataframe tbody tr th:only-of-type {\n",
       "        vertical-align: middle;\n",
       "    }\n",
       "\n",
       "    .dataframe tbody tr th {\n",
       "        vertical-align: top;\n",
       "    }\n",
       "\n",
       "    .dataframe thead th {\n",
       "        text-align: right;\n",
       "    }\n",
       "</style>\n",
       "<table border=\"1\" class=\"dataframe\">\n",
       "  <thead>\n",
       "    <tr style=\"text-align: right;\">\n",
       "      <th></th>\n",
       "      <th>SDATE</th>\n",
       "      <th>STATIONCODE</th>\n",
       "      <th>ITEMCODE</th>\n",
       "      <th>TIMECODE</th>\n",
       "      <th>VALUE</th>\n",
       "    </tr>\n",
       "  </thead>\n",
       "  <tbody>\n",
       "    <tr>\n",
       "      <th>0</th>\n",
       "      <td>20220602000000</td>\n",
       "      <td>1</td>\n",
       "      <td>90303</td>\n",
       "      <td>RH02</td>\n",
       "      <td>0.3307</td>\n",
       "    </tr>\n",
       "    <tr>\n",
       "      <th>1</th>\n",
       "      <td>20220602020000</td>\n",
       "      <td>1</td>\n",
       "      <td>90303</td>\n",
       "      <td>RH02</td>\n",
       "      <td>0.1621</td>\n",
       "    </tr>\n",
       "    <tr>\n",
       "      <th>2</th>\n",
       "      <td>20220602040000</td>\n",
       "      <td>1</td>\n",
       "      <td>90303</td>\n",
       "      <td>RH02</td>\n",
       "      <td>3.6916</td>\n",
       "    </tr>\n",
       "    <tr>\n",
       "      <th>3</th>\n",
       "      <td>20220602060000</td>\n",
       "      <td>1</td>\n",
       "      <td>90303</td>\n",
       "      <td>RH02</td>\n",
       "      <td>8.8124</td>\n",
       "    </tr>\n",
       "    <tr>\n",
       "      <th>4</th>\n",
       "      <td>20220602080000</td>\n",
       "      <td>1</td>\n",
       "      <td>90303</td>\n",
       "      <td>RH02</td>\n",
       "      <td>0.9511</td>\n",
       "    </tr>\n",
       "    <tr>\n",
       "      <th>5</th>\n",
       "      <td>20220602100000</td>\n",
       "      <td>1</td>\n",
       "      <td>90303</td>\n",
       "      <td>RH02</td>\n",
       "      <td>1.9522</td>\n",
       "    </tr>\n",
       "    <tr>\n",
       "      <th>6</th>\n",
       "      <td>20220602120000</td>\n",
       "      <td>1</td>\n",
       "      <td>90303</td>\n",
       "      <td>RH02</td>\n",
       "      <td>2.3849</td>\n",
       "    </tr>\n",
       "    <tr>\n",
       "      <th>7</th>\n",
       "      <td>20220602140000</td>\n",
       "      <td>1</td>\n",
       "      <td>90303</td>\n",
       "      <td>RH02</td>\n",
       "      <td>2.3718</td>\n",
       "    </tr>\n",
       "    <tr>\n",
       "      <th>8</th>\n",
       "      <td>20220602160000</td>\n",
       "      <td>1</td>\n",
       "      <td>90303</td>\n",
       "      <td>RH02</td>\n",
       "      <td>1.9140</td>\n",
       "    </tr>\n",
       "    <tr>\n",
       "      <th>9</th>\n",
       "      <td>20220602180000</td>\n",
       "      <td>1</td>\n",
       "      <td>90303</td>\n",
       "      <td>RH02</td>\n",
       "      <td>0.6874</td>\n",
       "    </tr>\n",
       "    <tr>\n",
       "      <th>10</th>\n",
       "      <td>20220602200000</td>\n",
       "      <td>1</td>\n",
       "      <td>90303</td>\n",
       "      <td>RH02</td>\n",
       "      <td>0.0927</td>\n",
       "    </tr>\n",
       "    <tr>\n",
       "      <th>11</th>\n",
       "      <td>20220602220000</td>\n",
       "      <td>1</td>\n",
       "      <td>90303</td>\n",
       "      <td>RH02</td>\n",
       "      <td>0.4508</td>\n",
       "    </tr>\n",
       "  </tbody>\n",
       "</table>\n",
       "</div>"
      ],
      "text/plain": [
       "             SDATE  STATIONCODE ITEMCODE TIMECODE   VALUE\n",
       "0   20220602000000            1    90303     RH02  0.3307\n",
       "1   20220602020000            1    90303     RH02  0.1621\n",
       "2   20220602040000            1    90303     RH02  3.6916\n",
       "3   20220602060000            1    90303     RH02  8.8124\n",
       "4   20220602080000            1    90303     RH02  0.9511\n",
       "5   20220602100000            1    90303     RH02  1.9522\n",
       "6   20220602120000            1    90303     RH02  2.3849\n",
       "7   20220602140000            1    90303     RH02  2.3718\n",
       "8   20220602160000            1    90303     RH02  1.9140\n",
       "9   20220602180000            1    90303     RH02  0.6874\n",
       "10  20220602200000            1    90303     RH02  0.0927\n",
       "11  20220602220000            1    90303     RH02  0.4508"
      ]
     },
     "execution_count": 39,
     "metadata": {},
     "output_type": "execute_result"
    }
   ],
   "source": [
    "# 5) 리스트 딕셔너리 => 데이타프레임화\n",
    "df_dust = pd.DataFrame(dust_dict['MetalService']['item'])\n",
    "df_dust"
   ]
  },
  {
   "cell_type": "markdown",
   "id": "60f04bfe",
   "metadata": {},
   "source": [
    "## 모든 관측소의 데이타\n",
    "\n",
    "- station code 1~10 레코드 저장\n",
    "- station code 1~10 레코드 저장 \n",
    "- 명세서 참고 stationcode 대기환경연구소 코드 대기환경연구소명 1 수도권 2 백령도 3 호남권 4 중부권 5 제주권 6 영남권 7 경기권 8 충청권 9 전북권 10 강원권"
   ]
  },
  {
   "cell_type": "code",
   "execution_count": 40,
   "id": "2917bfe9",
   "metadata": {},
   "outputs": [],
   "source": [
    "# 1) station 코드 => for 문\n",
    "url = 'http://apis.data.go.kr/1480523/MetalMeasuringResultService/MetalService'\n",
    "service_key = 'W7qHt8KLRZawPAd+iTUo1nt2EcSMgHwbxxMGhnKn3wfwLcwrVnHHmaVbPIi+gecqaouM+yjaLydMoXwiJm+MjQ=='\n",
    "for i in range(1,11):\n",
    "    params ={'serviceKey' : service_key, \n",
    "             'pageNo' : '1', \n",
    "             'numOfRows' : '12', \n",
    "             'resultType' : 'JSON', \n",
    "             'date' : '20220602', \n",
    "             'stationcode' : str(i), \n",
    "             'itemcode' : '90303', \n",
    "             'timecode' : 'RH02'}\n",
    "    \n",
    "    response = requests.get(url, params=params)\n",
    "    # json 텍스트 => 딕셔너리 => 리스트 딕셔너리\n",
    "    dust_dict = json.loads(response.text)\n",
    "    \n",
    "    # 리스트 추가\n",
    "    dust_list += dust_dict['MetalService']['item']"
   ]
  },
  {
   "cell_type": "code",
   "execution_count": 41,
   "id": "ad59af41",
   "metadata": {
    "scrolled": true
   },
   "outputs": [
    {
     "data": {
      "text/plain": [
       "120"
      ]
     },
     "execution_count": 41,
     "metadata": {},
     "output_type": "execute_result"
    }
   ],
   "source": [
    "len(dust_list)"
   ]
  },
  {
   "cell_type": "code",
   "execution_count": 44,
   "id": "c7b59c56",
   "metadata": {
    "scrolled": true
   },
   "outputs": [
    {
     "data": {
      "text/html": [
       "<div>\n",
       "<style scoped>\n",
       "    .dataframe tbody tr th:only-of-type {\n",
       "        vertical-align: middle;\n",
       "    }\n",
       "\n",
       "    .dataframe tbody tr th {\n",
       "        vertical-align: top;\n",
       "    }\n",
       "\n",
       "    .dataframe thead th {\n",
       "        text-align: right;\n",
       "    }\n",
       "</style>\n",
       "<table border=\"1\" class=\"dataframe\">\n",
       "  <thead>\n",
       "    <tr style=\"text-align: right;\">\n",
       "      <th></th>\n",
       "      <th>SDATE</th>\n",
       "      <th>STATIONCODE</th>\n",
       "      <th>ITEMCODE</th>\n",
       "      <th>TIMECODE</th>\n",
       "      <th>VALUE</th>\n",
       "    </tr>\n",
       "  </thead>\n",
       "  <tbody>\n",
       "    <tr>\n",
       "      <th>0</th>\n",
       "      <td>20220602000000</td>\n",
       "      <td>1</td>\n",
       "      <td>90303</td>\n",
       "      <td>RH02</td>\n",
       "      <td>0.3307</td>\n",
       "    </tr>\n",
       "    <tr>\n",
       "      <th>1</th>\n",
       "      <td>20220602020000</td>\n",
       "      <td>1</td>\n",
       "      <td>90303</td>\n",
       "      <td>RH02</td>\n",
       "      <td>0.1621</td>\n",
       "    </tr>\n",
       "    <tr>\n",
       "      <th>2</th>\n",
       "      <td>20220602040000</td>\n",
       "      <td>1</td>\n",
       "      <td>90303</td>\n",
       "      <td>RH02</td>\n",
       "      <td>3.6916</td>\n",
       "    </tr>\n",
       "    <tr>\n",
       "      <th>3</th>\n",
       "      <td>20220602060000</td>\n",
       "      <td>1</td>\n",
       "      <td>90303</td>\n",
       "      <td>RH02</td>\n",
       "      <td>8.8124</td>\n",
       "    </tr>\n",
       "    <tr>\n",
       "      <th>4</th>\n",
       "      <td>20220602080000</td>\n",
       "      <td>1</td>\n",
       "      <td>90303</td>\n",
       "      <td>RH02</td>\n",
       "      <td>0.9511</td>\n",
       "    </tr>\n",
       "    <tr>\n",
       "      <th>...</th>\n",
       "      <td>...</td>\n",
       "      <td>...</td>\n",
       "      <td>...</td>\n",
       "      <td>...</td>\n",
       "      <td>...</td>\n",
       "    </tr>\n",
       "    <tr>\n",
       "      <th>115</th>\n",
       "      <td>20220602140000</td>\n",
       "      <td>10</td>\n",
       "      <td>90303</td>\n",
       "      <td>RH02</td>\n",
       "      <td>0.0000</td>\n",
       "    </tr>\n",
       "    <tr>\n",
       "      <th>116</th>\n",
       "      <td>20220602160000</td>\n",
       "      <td>10</td>\n",
       "      <td>90303</td>\n",
       "      <td>RH02</td>\n",
       "      <td>0.1952</td>\n",
       "    </tr>\n",
       "    <tr>\n",
       "      <th>117</th>\n",
       "      <td>20220602180000</td>\n",
       "      <td>10</td>\n",
       "      <td>90303</td>\n",
       "      <td>RH02</td>\n",
       "      <td>0.0000</td>\n",
       "    </tr>\n",
       "    <tr>\n",
       "      <th>118</th>\n",
       "      <td>20220602200000</td>\n",
       "      <td>10</td>\n",
       "      <td>90303</td>\n",
       "      <td>RH02</td>\n",
       "      <td>0.5073</td>\n",
       "    </tr>\n",
       "    <tr>\n",
       "      <th>119</th>\n",
       "      <td>20220602220000</td>\n",
       "      <td>10</td>\n",
       "      <td>90303</td>\n",
       "      <td>RH02</td>\n",
       "      <td>0.7858</td>\n",
       "    </tr>\n",
       "  </tbody>\n",
       "</table>\n",
       "<p>120 rows × 5 columns</p>\n",
       "</div>"
      ],
      "text/plain": [
       "              SDATE  STATIONCODE ITEMCODE TIMECODE   VALUE\n",
       "0    20220602000000            1    90303     RH02  0.3307\n",
       "1    20220602020000            1    90303     RH02  0.1621\n",
       "2    20220602040000            1    90303     RH02  3.6916\n",
       "3    20220602060000            1    90303     RH02  8.8124\n",
       "4    20220602080000            1    90303     RH02  0.9511\n",
       "..              ...          ...      ...      ...     ...\n",
       "115  20220602140000           10    90303     RH02  0.0000\n",
       "116  20220602160000           10    90303     RH02  0.1952\n",
       "117  20220602180000           10    90303     RH02  0.0000\n",
       "118  20220602200000           10    90303     RH02  0.5073\n",
       "119  20220602220000           10    90303     RH02  0.7858\n",
       "\n",
       "[120 rows x 5 columns]"
      ]
     },
     "execution_count": 44,
     "metadata": {},
     "output_type": "execute_result"
    }
   ],
   "source": [
    "df_dust = pd.DataFrame(dust_list)\n",
    "df_dust"
   ]
  },
  {
   "cell_type": "code",
   "execution_count": 47,
   "id": "dfdbdd63",
   "metadata": {},
   "outputs": [
    {
     "name": "stdout",
     "output_type": "stream",
     "text": [
      "<class 'pandas.core.frame.DataFrame'>\n",
      "RangeIndex: 120 entries, 0 to 119\n",
      "Data columns (total 5 columns):\n",
      " #   Column       Non-Null Count  Dtype  \n",
      "---  ------       --------------  -----  \n",
      " 0   SDATE        120 non-null    object \n",
      " 1   STATIONCODE  120 non-null    int64  \n",
      " 2   ITEMCODE     120 non-null    object \n",
      " 3   TIMECODE     120 non-null    object \n",
      " 4   VALUE        120 non-null    float64\n",
      "dtypes: float64(1), int64(1), object(3)\n",
      "memory usage: 4.8+ KB\n"
     ]
    }
   ],
   "source": [
    "# 데이타프레임 데이타형 확인\n",
    "df_dust.info()"
   ]
  },
  {
   "cell_type": "code",
   "execution_count": 51,
   "id": "5968c3c6",
   "metadata": {},
   "outputs": [
    {
     "data": {
      "text/plain": [
       "SDATE          0\n",
       "STATIONCODE    0\n",
       "ITEMCODE       0\n",
       "TIMECODE       0\n",
       "VALUE          0\n",
       "dtype: int64"
      ]
     },
     "execution_count": 51,
     "metadata": {},
     "output_type": "execute_result"
    }
   ],
   "source": [
    "# station 코드값이 4번\n",
    "df_dust[df_dust['STATIONCODE']==4].count()"
   ]
  }
 ],
 "metadata": {
  "kernelspec": {
   "display_name": "Python 3 (ipykernel)",
   "language": "python",
   "name": "python3"
  },
  "language_info": {
   "codemirror_mode": {
    "name": "ipython",
    "version": 3
   },
   "file_extension": ".py",
   "mimetype": "text/x-python",
   "name": "python",
   "nbconvert_exporter": "python",
   "pygments_lexer": "ipython3",
   "version": "3.9.12"
  }
 },
 "nbformat": 4,
 "nbformat_minor": 5
}
