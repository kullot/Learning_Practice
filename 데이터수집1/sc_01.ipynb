{
 "cells": [
  {
   "cell_type": "code",
   "execution_count": 12,
   "id": "a5007f76",
   "metadata": {},
   "outputs": [
    {
     "data": {
      "text/html": [
       "<style>.container { font-weight: bold !important; }</style>"
      ],
      "text/plain": [
       "<IPython.core.display.HTML object>"
      ]
     },
     "metadata": {},
     "output_type": "display_data"
    },
    {
     "data": {
      "text/html": [
       "<style>.container { width: 100% !important; }</style>"
      ],
      "text/plain": [
       "<IPython.core.display.HTML object>"
      ]
     },
     "metadata": {},
     "output_type": "display_data"
    }
   ],
   "source": [
    "# 쥬피터노트북 셀 스타일 조절 \n",
    "from IPython.core.display import display, HTML\n",
    "display(HTML(\"<style>.container { font-weight: bold !important; }</style>\"))\n",
    "display(HTML(\"<style>.container { width: 100% !important; }</style>\"))\n",
    "\n",
    "# 경고 메세지 숨기기 \n",
    "import warnings\n",
    "warnings.filterwarnings(action='ignore')"
   ]
  },
  {
   "cell_type": "markdown",
   "id": "d3763205",
   "metadata": {},
   "source": [
    "## 쥬피터노트북 편집 명령\n",
    "\n",
    "셀 선택 모드인지 먼저 확인\n",
    "\n",
    "명령 변경 : M / Y / R\n",
    "\n",
    "셀 추가 : a / b\n",
    "\n",
    "셀 삭제 : dd\n",
    "\n",
    "명령 실행 : ctrl + enter\n",
    "\n",
    "셀 복사 : c\n",
    "\n",
    "셀 붙여놓기 : v\n",
    "\n",
    "셀 자르기 : x\n"
   ]
  },
  {
   "cell_type": "code",
   "execution_count": 18,
   "id": "46a912f4",
   "metadata": {},
   "outputs": [
    {
     "ename": "SyntaxError",
     "evalue": "invalid syntax (967139617.py, line 4)",
     "output_type": "error",
     "traceback": [
      "\u001b[1;36m  Input \u001b[1;32mIn [18]\u001b[1;36m\u001b[0m\n\u001b[1;33m    pip intall requests\u001b[0m\n\u001b[1;37m        ^\u001b[0m\n\u001b[1;31mSyntaxError\u001b[0m\u001b[1;31m:\u001b[0m invalid syntax\n"
     ]
    }
   ],
   "source": [
    "#버전확인\n",
    "import requests\n",
    "#설치\n",
    "pip intall requests"
   ]
  },
  {
   "cell_type": "code",
   "execution_count": 19,
   "id": "61f4f46b",
   "metadata": {},
   "outputs": [
    {
     "data": {
      "text/plain": [
       "'2.27.1'"
      ]
     },
     "execution_count": 19,
     "metadata": {},
     "output_type": "execute_result"
    }
   ],
   "source": [
    "requests.__version__"
   ]
  },
  {
   "cell_type": "code",
   "execution_count": null,
   "id": "2944c1fc",
   "metadata": {},
   "outputs": [],
   "source": [
    "#모듈에서 제공하는 메소드와 속성확인\n",
    "#dir(모듈명) => 리스트로 반환\n",
    "# dir(requests)\n",
    "print(dir(requests), len(dir(requests)))"
   ]
  },
  {
   "cell_type": "code",
   "execution_count": null,
   "id": "52ee3024",
   "metadata": {},
   "outputs": [],
   "source": [
    "#요청 주소 지정\n",
    "url = \"http://google.com\"\n",
    "# get 방식으로 요청\n",
    "# get(url) 메서드를 이용하여 객체 생성\n",
    "res = requests.get(url)\n",
    "# 200이 출력되면 성공\n",
    "#객체 출력\n",
    "print(res, type(res))\n",
    "#인코딩과 헤더 출력\n",
    "res.encoding, res.headers"
   ]
  },
  {
   "cell_type": "code",
   "execution_count": null,
   "id": "be62202d",
   "metadata": {},
   "outputs": [],
   "source": [
    "# 3 페이지 소스 => 텍스트화\n",
    "html_str = res.text\n",
    "print(type(html_str))\n",
    "html_str"
   ]
  },
  {
   "cell_type": "code",
   "execution_count": null,
   "id": "f2dee32f",
   "metadata": {},
   "outputs": [],
   "source": [
    "# 4 html 파일 저장\n",
    "#out 폴더 생성\n",
    "import os\n",
    "os.mkdir('output')"
   ]
  },
  {
   "cell_type": "code",
   "execution_count": null,
   "id": "ec273b73",
   "metadata": {
    "scrolled": true
   },
   "outputs": [],
   "source": [
    "# 폴더 및 파일 목록 확인\n",
    "# ls 주피터 노트북  명령어\n",
    "# output 폴더 확인"
   ]
  },
  {
   "cell_type": "code",
   "execution_count": null,
   "id": "11caef47",
   "metadata": {},
   "outputs": [],
   "source": [
    "ls"
   ]
  },
  {
   "cell_type": "code",
   "execution_count": null,
   "id": "9557fe11",
   "metadata": {},
   "outputs": [],
   "source": [
    "# html 파일 저장 \n",
    "with open('output/google.html', 'w', encoding='ISO-8859-1') as f:\n",
    "    f.write(html_str)"
   ]
  },
  {
   "cell_type": "code",
   "execution_count": null,
   "id": "0e07abaa",
   "metadata": {},
   "outputs": [],
   "source": [
    "# html 파일 저장"
   ]
  },
  {
   "cell_type": "code",
   "execution_count": null,
   "id": "16ca82d2",
   "metadata": {
    "scrolled": true
   },
   "outputs": [],
   "source": [
    "ls output"
   ]
  },
  {
   "cell_type": "code",
   "execution_count": null,
   "id": "10c14023",
   "metadata": {},
   "outputs": [],
   "source": [
    "#텍스트파일 원본을 쥬피터 노트북에서 확인\n",
    "# !type 파일경로"
   ]
  },
  {
   "cell_type": "code",
   "execution_count": null,
   "id": "2ea29227",
   "metadata": {},
   "outputs": [],
   "source": [
    "!type output\\google.html"
   ]
  },
  {
   "cell_type": "markdown",
   "id": "c166faad",
   "metadata": {},
   "source": [
    "## urllib을 이용한 웹페이지 요청"
   ]
  },
  {
   "cell_type": "code",
   "execution_count": null,
   "id": "83a84f5a",
   "metadata": {},
   "outputs": [],
   "source": [
    "# 0) 모듈 임포트\n",
    "from urllib.request import urlopen"
   ]
  },
  {
   "cell_type": "code",
   "execution_count": null,
   "id": "e313210c",
   "metadata": {},
   "outputs": [],
   "source": [
    "# 문법확인\n",
    "# 메서드?\n",
    "# 메서드() : shift + tab"
   ]
  },
  {
   "cell_type": "code",
   "execution_count": null,
   "id": "a432ffc6",
   "metadata": {},
   "outputs": [],
   "source": [
    "urlopen?"
   ]
  },
  {
   "cell_type": "code",
   "execution_count": null,
   "id": "2742fc2c",
   "metadata": {},
   "outputs": [],
   "source": [
    "# 1) 페이지 요청 => 객체화\n",
    "url = 'http://google.com'\n",
    "res = urlopen(url)\n",
    "res, type(res)"
   ]
  },
  {
   "cell_type": "code",
   "execution_count": null,
   "id": "a2ce7e12",
   "metadata": {},
   "outputs": [],
   "source": [
    "#상태코드 확인\n",
    "res.status, res.headers, res.getheaders()"
   ]
  },
  {
   "cell_type": "code",
   "execution_count": null,
   "id": "ef33a8bb",
   "metadata": {},
   "outputs": [],
   "source": [
    "# 2) res 객체 => html 소스 텍스트화\n",
    "html_str2 = res.read()\n",
    "type(html_str2)"
   ]
  },
  {
   "cell_type": "code",
   "execution_count": null,
   "id": "fa265291",
   "metadata": {
    "scrolled": false
   },
   "outputs": [],
   "source": [
    "html_str2"
   ]
  }
 ],
 "metadata": {
  "interpreter": {
   "hash": "e244c8c54aba2441373a10a34cbcbda881161dcadadcf80dc5e87eb0b5798349"
  },
  "kernelspec": {
   "display_name": "Python 3 (ipykernel)",
   "language": "python",
   "name": "python3"
  },
  "language_info": {
   "codemirror_mode": {
    "name": "ipython",
    "version": 3
   },
   "file_extension": ".py",
   "mimetype": "text/x-python",
   "name": "python",
   "nbconvert_exporter": "python",
   "pygments_lexer": "ipython3",
   "version": "3.9.12"
  }
 },
 "nbformat": 4,
 "nbformat_minor": 5
}
