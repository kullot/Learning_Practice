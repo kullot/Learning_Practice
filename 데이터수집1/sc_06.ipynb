{
 "cells": [
  {
   "cell_type": "code",
   "execution_count": 3,
   "id": "f0dc8258",
   "metadata": {},
   "outputs": [
    {
     "data": {
      "text/html": [
       "<style>.container { font-weight: bold !important; }</style>"
      ],
      "text/plain": [
       "<IPython.core.display.HTML object>"
      ]
     },
     "metadata": {},
     "output_type": "display_data"
    },
    {
     "data": {
      "text/html": [
       "<style>.container { width: 100% !important; }</style>"
      ],
      "text/plain": [
       "<IPython.core.display.HTML object>"
      ]
     },
     "metadata": {},
     "output_type": "display_data"
    }
   ],
   "source": [
    "# 쥬피터노트북 셀 스타일 조절 \n",
    "from IPython.core.display import display, HTML\n",
    "display(HTML(\"<style>.container { font-weight: bold !important; }</style>\"))\n",
    "display(HTML(\"<style>.container { width: 100% !important; }</style>\"))\n",
    "\n",
    "# 경고 메세지 숨기기 \n",
    "import warnings\n",
    "warnings.filterwarnings(action='ignore')"
   ]
  },
  {
   "cell_type": "code",
   "execution_count": 4,
   "id": "70fee634",
   "metadata": {},
   "outputs": [],
   "source": [
    "# 관련 모듈 임포트\n",
    "import requests\n",
    "from bs4 import BeautifulSoup\n",
    "import pandas as pd"
   ]
  },
  {
   "cell_type": "markdown",
   "id": "58e3391f",
   "metadata": {},
   "source": [
    "## Yes24 Bestseller\n",
    "- http://www.yes24.com/24/category/bestseller?CategoryNumber=001&sumgb=06&fetchSize=40&PageNumber=1"
   ]
  },
  {
   "cell_type": "markdown",
   "id": "6e8e4079",
   "metadata": {},
   "source": [
    "## 첫번째 페이지 \n",
    "- 순위, 책제목, 저자, 정가, 할인가, 책상세URL, 표지URL\n",
    "- rank   title   writer   price   discount_price   book_url   img_url"
   ]
  },
  {
   "cell_type": "code",
   "execution_count": null,
   "id": "6db532f5",
   "metadata": {},
   "outputs": [],
   "source": [
    "# (1) html 페이지 => html 문자열화\n",
    "url = 'http://www.yes24.com/24/category/bestseller?CategoryNumber=001&sumgb=06&fetchSize=40&PageNumber=1'\n",
    "res = requests.get(url)\n",
    "html_str = res.text\n",
    "html_str"
   ]
  },
  {
   "cell_type": "code",
   "execution_count": null,
   "id": "ed829a62",
   "metadata": {},
   "outputs": [],
   "source": [
    "# 2) 뷰티풀숩 객체화 \n",
    "# html 페이지 => 숩객체 \n",
    "soup = BeautifulSoup(html_str)\n",
    "soup"
   ]
  },
  {
   "cell_type": "code",
   "execution_count": null,
   "id": "1643d995",
   "metadata": {},
   "outputs": [],
   "source": [
    "# 3) 소스 파악 \n",
    "# 크롬개발자 모드 : f12 , ctrl+shift+i\n",
    "# 순위, 책제목, 저자, 정가, 할인가, 상세URL, 표지URL"
   ]
  },
  {
   "cell_type": "code",
   "execution_count": null,
   "id": "9e02527a",
   "metadata": {},
   "outputs": [],
   "source": [
    "# 테이블 태그 table이가 있는가?\n",
    "len(soup.select('table'))"
   ]
  },
  {
   "cell_type": "code",
   "execution_count": null,
   "id": "52838fd9",
   "metadata": {},
   "outputs": [],
   "source": [
    "target = soup.select('tr')\n",
    "len(target)"
   ]
  },
  {
   "cell_type": "code",
   "execution_count": null,
   "id": "7cba8fe3",
   "metadata": {},
   "outputs": [],
   "source": [
    "# 1위\n",
    "target[0]"
   ]
  },
  {
   "cell_type": "code",
   "execution_count": null,
   "id": "b6192bce",
   "metadata": {},
   "outputs": [],
   "source": [
    "# 짝수번째 소스 확인\n",
    "target[3]"
   ]
  },
  {
   "cell_type": "code",
   "execution_count": null,
   "id": "7df24efe",
   "metadata": {},
   "outputs": [],
   "source": [
    "# 4) 홀수번째 tr만 추출\n",
    "# 순서 선택자 \n",
    "# 태그명:nth-child(숫자|odd|even)\n",
    "# 태그는 주로 순서가 있는 스타일 : li, tr, td, th ~\n",
    "# odd 는 홀수번째, even 은 짝수번째\n",
    "target = soup.select('tr:nth-child(odd)')\n",
    "len(target)"
   ]
  },
  {
   "cell_type": "code",
   "execution_count": null,
   "id": "1d688270",
   "metadata": {},
   "outputs": [],
   "source": [
    "# 2위 컨텐츠인가?\n",
    "target[0]"
   ]
  },
  {
   "cell_type": "code",
   "execution_count": null,
   "id": "56e9327f",
   "metadata": {
    "scrolled": true
   },
   "outputs": [],
   "source": [
    "# 개별 정보 추출 - 1위만\n",
    "base_html = 'http://www.yes24.com/'\n",
    "rank = target[0].select_one('td').text.replace('.','위')\n",
    "title = target[0].select_one('img')['alt']\n",
    "writer = target[0].select_one('div.aupu a').text\n",
    "temp = target[0].select('p')[1].text\n",
    "temp = target[0].select('p')[1].text.split()\n",
    "discount_price = temp[1].replace('→','').split('(')[0]\n",
    "price = target[0].select_one('div.aupu a')\n",
    "book_url = base_html + target[0].select_one('a')['href']\n",
    "img_url = target[0].select_one('img')['src'].replace('S','XL')\n",
    "price = temp[0]\n",
    "print('순위 :', rank)\n",
    "print('제목 :', title)\n",
    "print('저자 :', writer)\n",
    "print('정가 :', price)\n",
    "print('할인가 :', discount_price)\n",
    "print('상세URL :', book_url)\n",
    "print('이미지URL :', img_url)"
   ]
  },
  {
   "cell_type": "code",
   "execution_count": null,
   "id": "4211dcb3",
   "metadata": {},
   "outputs": [],
   "source": [
    "# 6) 2차원 리스트 구조로 변경\n",
    "# 빈리스트 생성\n",
    "book_list = []\n",
    "base_html = 'http://www.yes24.com/'\n",
    "for li in target:\n",
    "    rank = li.select_one('td').text.replace('.','위')\n",
    "    title = li.select_one('img')['alt']\n",
    "    writer = li.select_one('div.aupu a').text\n",
    "    temp = li.select('p')[1].text\n",
    "    temp = li.select('p')[1].text.split()\n",
    "    discount_price = temp[1].replace('→','').split('(')[0]\n",
    "    price = li.select_one('div.aupu a')\n",
    "    book_url = base_html + li.select_one('a')['href']\n",
    "    img_url = li.select_one('img')['src'].replace('S','XL')\n",
    "    price = temp[0]\n",
    "    print(rank, title, writer, discount_price, price, book_url, img_url)\n",
    "    # 리스트에 추가\n",
    "    book_list.append([rank, title, writer, price, discount_price, book_url, img_url])\n",
    "# 2차원 리스트 결과 확인 \n",
    "for rank, title, writer, price, discount_price, book_url, img_url in book_list:\n",
    "    print(rank, title, writer, price, discount_price, book_url, img_url)"
   ]
  },
  {
   "cell_type": "code",
   "execution_count": null,
   "id": "44f1fbbf",
   "metadata": {},
   "outputs": [],
   "source": [
    "# 데이타프레임 변경\n",
    "df = pd.DataFrame(book_list, columns = ['rank', 'title', 'writer', 'price', 'discount_price', 'book_url', 'img_url'])\n",
    "df"
   ]
  },
  {
   "cell_type": "markdown",
   "id": "146e1407",
   "metadata": {},
   "source": [
    "## n개의 페이지\n",
    "- 함수 이용. n은 매개변수로 이용\n",
    "- 순위, 책제목, 저자, 정가, 할인가, 책상세URL, 표지URL\n",
    "- rank, title, writer, price, discount_price, book_url, img_url\n",
    "- yes24(10) 호출하면 1~10페이지의 데이타가 테이타프레임으로 출려되도록 한다."
   ]
  },
  {
   "cell_type": "code",
   "execution_count": null,
   "id": "6112ac79",
   "metadata": {},
   "outputs": [],
   "source": [
    "# 1) 주소 테스트\n",
    "# 함수 정의\n",
    "# n은 페이지 끝번호\n",
    "def yes24(n):\n",
    "    for i in range(1, n+1):\n",
    "        base = 'http://www.yes24.com/24/category/bestseller?CategoryNumber=001&sumgb=06&fetchSize=40&PageNumber='\n",
    "        url = base + str(i)\n",
    "        print(url)"
   ]
  },
  {
   "cell_type": "code",
   "execution_count": null,
   "id": "ed1e9f7d",
   "metadata": {},
   "outputs": [],
   "source": [
    "# 함수 호출\n",
    "yes24(5)"
   ]
  },
  {
   "cell_type": "code",
   "execution_count": null,
   "id": "dc4db5aa",
   "metadata": {},
   "outputs": [],
   "source": [
    "# 2) 데이타 프레임으로 반환되게 함수 변경\n",
    "# 함수 정의\n",
    "# n은 페이지 끝번호\n",
    "def yes24_2(n):\n",
    "    #빈리스트 생성\n",
    "    book_list2 = []\n",
    "    base_html = 'http://www.yes24.com/'\n",
    "    for i in range(1, n+1):\n",
    "        # 접근 페이지 생성\n",
    "        base = 'http://www.yes24.com/24/category/bestseller?CategoryNumber=001&sumgb=06&fetchSize=40&PageNumber='\n",
    "        url = base + str(i)\n",
    "#         print(url)\n",
    "        # 2-1) 웹 페이지접근 및 페이지 추출\n",
    "        res = requests.get(url)\n",
    "        html_str = res.text\n",
    "        # 2-2) 숲 객체화\n",
    "        soup = BeautifulSoup(html_str)\n",
    "        # 2-3) tr 추출\n",
    "        target = soup.select('tr:nth-child(odd)')\n",
    "        # 2-4) 2차원 리스트로 저장\n",
    "        for li in target:\n",
    "            rank = li.select_one('td').text.replace('.','위')\n",
    "            title = li.select_one('img')['alt']\n",
    "            writer = li.select_one('div.aupu a').text\n",
    "            temp = li.select('p')[1].text\n",
    "            temp = li.select('p')[1].text.split()\n",
    "            discount_price = temp[1].replace('→','').split('(')[0]\n",
    "            price = li.select_one('div.aupu a')\n",
    "            book_url = base_html + li.select_one('a')['href']\n",
    "            img_url = li.select_one('img')['src'].replace('S','XL')\n",
    "            price = temp[0]\n",
    "#             print(rank, title, writer, discount_price, price, book_url, img_url)\n",
    "            # 리스트에 추가\n",
    "            book_list2.append([rank, title, writer, price, discount_price, book_url, img_url])\n",
    "    df = pd.DataFrame(book_list2, columns = ['rank', 'title', 'writer', 'price', 'discount_price', 'book_url', 'img_url'])\n",
    "    return df"
   ]
  },
  {
   "cell_type": "code",
   "execution_count": null,
   "id": "dcc8989d",
   "metadata": {},
   "outputs": [],
   "source": [
    "# 함수 호출 테스트\n",
    "yes24_2(5).tail(10)"
   ]
  },
  {
   "cell_type": "markdown",
   "id": "9e6da12c",
   "metadata": {},
   "source": [
    "## 전체 페이지\n",
    "\n",
    "- 순위, 책제목, 저자, 정가, 할인가, 책상세URL, 표지URL\n",
    "- rank, title, writer, price, discount_price, book_url, img_url\n",
    "- 페이지에 책순위 정보가 없는 형태?\n",
    "- http://www.yes24.com/24/category/bestseller?CategoryNumber=001&sumgb=06&fetchSize=40&PageNumber=26\n",
    "- 책정보가 없다면 탈출"
   ]
  },
  {
   "cell_type": "code",
   "execution_count": null,
   "id": "05326a03",
   "metadata": {},
   "outputs": [],
   "source": [
    "# 1) 페이지 출력\n",
    "# 고정 주소\n",
    "base = 'http://www.yes24.com/24/category/bestseller?CategoryNumber=001&sumgb=06&fetchSize=40&PageNumber='\n",
    "page = 1\n",
    "\n",
    "# 함수 정의\n",
    "# n은 페이지 끝번호\n",
    "while True:\n",
    "    # 주소 생성   \n",
    "    url = base + str(page)\n",
    "    # 2-1) 웹 페이지접근 및 페이지 추출\n",
    "    res = requests.get(url)\n",
    "    html_str = res.text\n",
    "    # 2-2) 숲 객체화\n",
    "    soup = BeautifulSoup(html_str)\n",
    "    # 2-3) tr 추출\n",
    "    target = soup.select('tr:nth-child(odd)')\n",
    "    # 내용이 있다면\n",
    "    if len(target):\n",
    "        print(url)\n",
    "        page += 1\n",
    "    else:\n",
    "        print('페이지테스트 종료')\n",
    "        break"
   ]
  },
  {
   "cell_type": "code",
   "execution_count": null,
   "id": "8ca6b15c",
   "metadata": {},
   "outputs": [],
   "source": [
    "# 2) 2차원 리스트로 저장하고 테이타 프레임으로 변경\n",
    "# 고정 주소\n",
    "base_html = 'http://www.yes24.com/'\n",
    "base = 'http://www.yes24.com/24/category/bestseller?CategoryNumber=001&sumgb=06&fetchSize=40&PageNumber='\n",
    "page = 1\n",
    "book_list3 = []\n",
    "# 함수 정의\n",
    "# n은 페이지 끝번호\n",
    "while True:\n",
    "    # 1) 주소 생성   \n",
    "    url = base + str(page)\n",
    "    # 2) 웹 페이지접근 및 페이지 추출\n",
    "    res = requests.get(url)\n",
    "    html_str = res.text\n",
    "    # 3) 숲 객체화\n",
    "    soup = BeautifulSoup(html_str)\n",
    "    # 4) tr 추출\n",
    "    target = soup.select('tr:nth-child(odd)')\n",
    "    # 5) 내용이 있다면\n",
    "    if len(target):\n",
    "        print(url)\n",
    "        # 리스트 추가\n",
    "        for li in target:\n",
    "            rank = li.select_one('td').text.replace('.','위')\n",
    "            title = li.select_one('img')['alt']\n",
    "            writer = li.select_one('div.aupu a').text\n",
    "            temp = li.select('p')[1].text\n",
    "            temp = li.select('p')[1].text.split()\n",
    "            discount_price = temp[1].replace('→','').split('(')[0]\n",
    "            price = li.select_one('div.aupu a')\n",
    "            book_url = base_html + li.select_one('a')['href']\n",
    "            img_url = li.select_one('img')['src'].replace('S','XL')\n",
    "            price = temp[0]\n",
    "#             print(rank, title, writer, discount_price, price, book_url, img_url)\n",
    "            # 리스트에 추가\n",
    "            book_list3.append([rank, title, writer, price, discount_price, book_url, img_url])\n",
    "\n",
    "        # 페이지 번호 증가\n",
    "        page += 1\n",
    "    else:\n",
    "        print('페이지테스트 종료')\n",
    "        break\n",
    "df = pd.DataFrame(book_list3, columns = ['rank', 'title', 'writer', 'price', 'discount_price', 'book_url', 'img_url'])\n",
    "df"
   ]
  },
  {
   "cell_type": "code",
   "execution_count": null,
   "id": "caa10a7b",
   "metadata": {},
   "outputs": [],
   "source": []
  },
  {
   "cell_type": "code",
   "execution_count": null,
   "id": "ad5354eb",
   "metadata": {},
   "outputs": [],
   "source": []
  }
 ],
 "metadata": {
  "kernelspec": {
   "display_name": "Python 3 (ipykernel)",
   "language": "python",
   "name": "python3"
  },
  "language_info": {
   "codemirror_mode": {
    "name": "ipython",
    "version": 3
   },
   "file_extension": ".py",
   "mimetype": "text/x-python",
   "name": "python",
   "nbconvert_exporter": "python",
   "pygments_lexer": "ipython3",
   "version": "3.9.12"
  }
 },
 "nbformat": 4,
 "nbformat_minor": 5
}
