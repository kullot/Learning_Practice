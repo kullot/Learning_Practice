{
 "cells": [
  {
   "cell_type": "code",
   "execution_count": 1,
   "id": "e5e8195b",
   "metadata": {},
   "outputs": [
    {
     "name": "stderr",
     "output_type": "stream",
     "text": [
      "C:\\Users\\pusan\\AppData\\Local\\Temp\\ipykernel_12164\\829985655.py:2: DeprecationWarning: Importing display from IPython.core.display is deprecated since IPython 7.14, please import from IPython display\n",
      "  from IPython.core.display import display, HTML\n"
     ]
    },
    {
     "data": {
      "text/html": [
       "<style>.container { font-weight: bold !important; }</style>"
      ],
      "text/plain": [
       "<IPython.core.display.HTML object>"
      ]
     },
     "metadata": {},
     "output_type": "display_data"
    },
    {
     "data": {
      "text/html": [
       "<style>.container { width: 100% !important; }</style>"
      ],
      "text/plain": [
       "<IPython.core.display.HTML object>"
      ]
     },
     "metadata": {},
     "output_type": "display_data"
    }
   ],
   "source": [
    "# 쥬피터노트북 셀 스타일 조절 \n",
    "from IPython.core.display import display, HTML\n",
    "display(HTML(\"<style>.container { font-weight: bold !important; }</style>\"))\n",
    "display(HTML(\"<style>.container { width: 100% !important; }</style>\"))\n",
    "\n",
    "# 경고 메세지 숨기기 \n",
    "import warnings\n",
    "warnings.filterwarnings(action='ignore')"
   ]
  },
  {
   "cell_type": "markdown",
   "id": "010fd2d0",
   "metadata": {},
   "source": [
    "## XML이란?\n",
    "- eXtensible Markup Language\n",
    "- 다목적의 성격을 가진 마크업언어\n",
    "- XML은 미리 정의된 태그 집합이나 문법을 규정하고 있지 않기 때문에 완전한 확장성을 가진다.\n",
    "- XML 문서 작성자는 원하는 태그를 사용할 수 있으며,\n",
    "태그에 원하는 속성을 지정할 수 있으며,\n",
    "원하는 형태로 태그를 중첩시킬 수 있다.\n",
    "즉, 자신만의 태그 집합과 문법을 만들 수 있다는 것이다.\n",
    "\n",
    "- https://www.w3schools.com/xml/xml_tree.asp\n",
    "\n",
    "#### 짝이 있는 태그 형태\n",
    "\n",
    "<태그 속성=값>\n",
    " 내용\n",
    "</태그>\n",
    "\n",
    "#### 짝이 없는 태그 형태 : 내용이 없음\n",
    "<태그 />\n",
    "\n",
    "\n",
    "#### 예시 - 노트 \n",
    "<?xml version=\"1.0\" encoding=\"UTF-8\"?>\n",
    "<note>\n",
    "  <to>Tove</to>\n",
    "  <from>Jani</from>\n",
    "  <heading>Reminder</heading>\n",
    "  <body>Don't forget me this weekend!</body>\n",
    "</note>\n",
    "\n",
    "## 파이썬의 xml\n",
    "- Beautiful Soup 라이브러리\n",
    "- https://www.crummy.com/software/BeautifulSoup/bs4/doc/\n",
    "- xml.etree.elementtree 라이브러리\n",
    "- https://docs.python.org/ko/3/library/xml.etree.elementtree.html"
   ]
  },
  {
   "cell_type": "markdown",
   "id": "41d5a280",
   "metadata": {},
   "source": [
    "### 별도의 xml 파일을 생성한 후 파이썬으로 처리하기\n",
    "### xml 파일 생성\n",
    "- (0) xml 샘플 파일 만들기 - 1) 아래의 url에서 [An Example XML Document] 의 xml 소스 부분을 복사한다. - https://www.w3schools.com/xml/xml_tree.asp Giada De Laurentiis 2005 30.00 J K. Rowling 2005 29.99 Erik T. Ray 2003 39.95 2) 쥬피터노트북에서는 홈화면에서 [New]-[Text File] 명령을 실행하고 [ctrl+[v]를 눌러 소스를 붙여넣기 한 후 제목 파일을 country_data.xml 로 저장한다. [File]-[Save] 명령을 실행한다 메모장을 이용하여도 된다. 3) ls 명령을 실행하여 쥬피터노트북과 같은 폴더안에 bookstore.xml 파일이 있는지 확인한다\n",
    "- 쥬피터노트북에서 [New] - [Text File] 텍스트파일 편집창에서 ctrl+v 소스 부분을 붙여넣기 한다.\n",
    "- 파일명을 지정 => bookstore.xml\n",
    "- [File]-[Save] 명령 실행해서 저장"
   ]
  },
  {
   "cell_type": "code",
   "execution_count": 4,
   "id": "9e12ebcf",
   "metadata": {
    "scrolled": true
   },
   "outputs": [
    {
     "name": "stdout",
     "output_type": "stream",
     "text": [
      " C 드라이브의 볼륨에는 이름이 없습니다.\n",
      " 볼륨 일련 번호: 629C-402A\n",
      "\n",
      " C:\\Users\\pusan\\Desktop\\workspace202205\\01_Scrap 디렉터리\n",
      "\n",
      "2022-06-08  오전 10:48               553 bookstore.xml\n",
      "               1개 파일                 553 바이트\n",
      "               0개 디렉터리  440,948,965,376 바이트 남음\n"
     ]
    }
   ],
   "source": [
    "ls *.xml"
   ]
  },
  {
   "cell_type": "markdown",
   "id": "6257e701",
   "metadata": {},
   "source": [
    "## BS4를 이용한 파싱"
   ]
  },
  {
   "cell_type": "code",
   "execution_count": 2,
   "id": "1206cb07",
   "metadata": {},
   "outputs": [],
   "source": [
    "import requests\n",
    "from bs4 import BeautifulSoup\n",
    "import pandas as pd"
   ]
  },
  {
   "cell_type": "code",
   "execution_count": 8,
   "id": "42ddfd1e",
   "metadata": {},
   "outputs": [
    {
     "name": "stdout",
     "output_type": "stream",
     "text": [
      "==================================================\n"
     ]
    },
    {
     "data": {
      "text/plain": [
       "<?xml version=\"1.0\" encoding=\"utf-8\"?>\n",
       "<bookstore>\n",
       "<book category=\"cooking\">\n",
       "<title lang=\"en\">Everyday Italian</title>\n",
       "<author>Giada De Laurentiis</author>\n",
       "<year>2005</year>\n",
       "<price>30.00</price>\n",
       "</book>\n",
       "<book category=\"children\">\n",
       "<title lang=\"en\">Harry Potter</title>\n",
       "<author>J K. Rowling</author>\n",
       "<year>2005</year>\n",
       "<price>29.99</price>\n",
       "</book>\n",
       "<book category=\"web\">\n",
       "<title lang=\"en\">Learning XML</title>\n",
       "<author>Erik T. Ray</author>\n",
       "<year>2003</year>\n",
       "<price>39.95</price>\n",
       "</book>\n",
       "</bookstore>"
      ]
     },
     "execution_count": 8,
     "metadata": {},
     "output_type": "execute_result"
    }
   ],
   "source": [
    "# 2) 로컬상에 존재하는 xml 파일 => xml 텍스트 => 뷰티풀숩의 객체\n",
    "with open('bookstore.xml','r') as f:\n",
    "    # 텍스트로 저장\n",
    "    xml_str = f.read()\n",
    "#     print(xml_str)\n",
    "print('='*50)\n",
    "# 숩객체화\n",
    "soup = BeautifulSoup(xml_str, 'xml')\n",
    "soup"
   ]
  },
  {
   "cell_type": "code",
   "execution_count": 25,
   "id": "75ae58f1",
   "metadata": {
    "scrolled": true
   },
   "outputs": [
    {
     "name": "stdout",
     "output_type": "stream",
     "text": [
      "책 제목 => Everyday Italian\n",
      "책 제목 => Everyday Italian\n",
      "책 종류 => cooking\n",
      "책 종류 => cooking\n",
      "책  언어 => en\n",
      "책  언어 => en\n",
      "<book category=\"cooking\">\n",
      "<title lang=\"en\">Everyday Italian</title>\n",
      "<author>Giada De Laurentiis</author>\n",
      "<year>2005</year>\n",
      "<price>30.00</price>\n",
      "</book>\n"
     ]
    }
   ],
   "source": [
    "# 3) 첫번째 책 정보만 추출하기\n",
    "# find(태그명) => 1개만\n",
    "# .text => 내용\n",
    "# [속성], get(속성) => 속성값\n",
    "\n",
    "target = soup.find('book')\n",
    "# 도트(.)을 이용해서 자식태그로 접근\n",
    "print('책 제목 =>', target.title.text)\n",
    "# find() 메서드를 다시 이용해서 특정 태그로 접근\n",
    "print('책 제목 =>', target.find('title').text)\n",
    "# 속성값만 추출\n",
    "print('책 종류 =>', target['category'])\n",
    "print('책 종류 =>', target.get('category'))\n",
    "\n",
    "print('책  언어 =>', target.title['lang'])\n",
    "print('책  언어 =>', target.find('title')['lang'])\n",
    "print(target)"
   ]
  },
  {
   "cell_type": "code",
   "execution_count": 28,
   "id": "5c1fe5db",
   "metadata": {},
   "outputs": [
    {
     "name": "stdout",
     "output_type": "stream",
     "text": [
      "<book category=\"children\">\n",
      "<title lang=\"en\">Harry Potter</title>\n",
      "<author>J K. Rowling</author>\n",
      "<year>2005</year>\n",
      "<price>29.99</price>\n",
      "</book>\n",
      "책 제목 => Harry Potter\n",
      "책 제목 => Harry Potter\n",
      "책 종류 => children\n",
      "책 종류 => children\n",
      "책  언어 => en\n",
      "책  언어 => en\n"
     ]
    }
   ],
   "source": [
    "# 3) 두번째 책 정보만 추출하기\n",
    "# find_all(태그명) => 리스트\n",
    "# find_all(태그명)[i] : i는 인덱스\n",
    "\n",
    "target = soup.find_all('book')[1]\n",
    "print(target)\n",
    "# 도트(.)을 이용해서 자식태그로 접근\n",
    "print('책 제목 =>', target.title.text)\n",
    "# find() 메서드를 다시 이용해서 특정 태그로 접근\n",
    "print('책 제목 =>', target.find('title').text)\n",
    "# 속성값만 추출\n",
    "print('책 종류 =>', target['category'])\n",
    "print('책 종류 =>', target.get('category'))\n",
    "print('책  언어 =>', target.title['lang'])\n",
    "print('책  언어 =>', target.find('title')['lang'])\n"
   ]
  },
  {
   "cell_type": "code",
   "execution_count": null,
   "id": "a2f605a1",
   "metadata": {},
   "outputs": [],
   "source": [
    "# 4) 전체 책 정보를 데이타프레임으로 변경\n",
    "# 책정보 => 2차원 리스트 => 데이타프레임\n",
    "# 책정보 => 리스트 딕셔너리 => 데이타프레임"
   ]
  },
  {
   "cell_type": "code",
   "execution_count": 30,
   "id": "d49a4deb",
   "metadata": {},
   "outputs": [
    {
     "data": {
      "text/plain": [
       "3"
      ]
     },
     "execution_count": 30,
     "metadata": {},
     "output_type": "execute_result"
    }
   ],
   "source": [
    "# 리스트 요소 추출\n",
    "target_list = soup.find_all('book')\n",
    "len(target_list)"
   ]
  },
  {
   "cell_type": "code",
   "execution_count": 38,
   "id": "9c29980f",
   "metadata": {
    "scrolled": true
   },
   "outputs": [
    {
     "data": {
      "text/html": [
       "<div>\n",
       "<style scoped>\n",
       "    .dataframe tbody tr th:only-of-type {\n",
       "        vertical-align: middle;\n",
       "    }\n",
       "\n",
       "    .dataframe tbody tr th {\n",
       "        vertical-align: top;\n",
       "    }\n",
       "\n",
       "    .dataframe thead th {\n",
       "        text-align: right;\n",
       "    }\n",
       "</style>\n",
       "<table border=\"1\" class=\"dataframe\">\n",
       "  <thead>\n",
       "    <tr style=\"text-align: right;\">\n",
       "      <th></th>\n",
       "      <th>종류</th>\n",
       "      <th>제목</th>\n",
       "      <th>저자</th>\n",
       "      <th>출판년도</th>\n",
       "      <th>가격</th>\n",
       "    </tr>\n",
       "  </thead>\n",
       "  <tbody>\n",
       "    <tr>\n",
       "      <th>0</th>\n",
       "      <td>cooking</td>\n",
       "      <td>Everyday Italian</td>\n",
       "      <td>Giada De Laurentiis</td>\n",
       "      <td>2005</td>\n",
       "      <td>$ 30.00</td>\n",
       "    </tr>\n",
       "    <tr>\n",
       "      <th>1</th>\n",
       "      <td>children</td>\n",
       "      <td>Harry Potter</td>\n",
       "      <td>J K. Rowling</td>\n",
       "      <td>2005</td>\n",
       "      <td>$ 29.99</td>\n",
       "    </tr>\n",
       "    <tr>\n",
       "      <th>2</th>\n",
       "      <td>web</td>\n",
       "      <td>Learning XML</td>\n",
       "      <td>Erik T. Ray</td>\n",
       "      <td>2003</td>\n",
       "      <td>$ 39.95</td>\n",
       "    </tr>\n",
       "  </tbody>\n",
       "</table>\n",
       "</div>"
      ],
      "text/plain": [
       "         종류                제목                   저자  출판년도       가격\n",
       "0   cooking  Everyday Italian  Giada De Laurentiis  2005  $ 30.00\n",
       "1  children      Harry Potter         J K. Rowling  2005  $ 29.99\n",
       "2       web      Learning XML          Erik T. Ray  2003  $ 39.95"
      ]
     },
     "execution_count": 38,
     "metadata": {},
     "output_type": "execute_result"
    }
   ],
   "source": [
    "# 2차원 리스트 (종류 , 제목, 저자, 출판년도, 가격)\n",
    "book_list = []\n",
    "for book in target_list:\n",
    "    category = book['category']\n",
    "    title = book.title.text\n",
    "    author = book.author.text\n",
    "    year = book.year.text\n",
    "    price = '$ ' + book.price.text\n",
    "    book_list.append([category, title, author, year, price])\n",
    "# 데이타프레임화\n",
    "df = pd.DataFrame(book_list, columns = ['종류', '제목', '저자', '출판년도', '가격'])\n",
    "df"
   ]
  },
  {
   "cell_type": "code",
   "execution_count": 39,
   "id": "e6368653",
   "metadata": {},
   "outputs": [
    {
     "data": {
      "text/html": [
       "<div>\n",
       "<style scoped>\n",
       "    .dataframe tbody tr th:only-of-type {\n",
       "        vertical-align: middle;\n",
       "    }\n",
       "\n",
       "    .dataframe tbody tr th {\n",
       "        vertical-align: top;\n",
       "    }\n",
       "\n",
       "    .dataframe thead th {\n",
       "        text-align: right;\n",
       "    }\n",
       "</style>\n",
       "<table border=\"1\" class=\"dataframe\">\n",
       "  <thead>\n",
       "    <tr style=\"text-align: right;\">\n",
       "      <th></th>\n",
       "      <th>종류</th>\n",
       "      <th>제목</th>\n",
       "      <th>저자</th>\n",
       "      <th>출판년도</th>\n",
       "      <th>가격</th>\n",
       "    </tr>\n",
       "  </thead>\n",
       "  <tbody>\n",
       "    <tr>\n",
       "      <th>0</th>\n",
       "      <td>cooking</td>\n",
       "      <td>Everyday Italian</td>\n",
       "      <td>Giada De Laurentiis</td>\n",
       "      <td>2005</td>\n",
       "      <td>$ 30.00</td>\n",
       "    </tr>\n",
       "    <tr>\n",
       "      <th>1</th>\n",
       "      <td>children</td>\n",
       "      <td>Harry Potter</td>\n",
       "      <td>J K. Rowling</td>\n",
       "      <td>2005</td>\n",
       "      <td>$ 29.99</td>\n",
       "    </tr>\n",
       "    <tr>\n",
       "      <th>2</th>\n",
       "      <td>web</td>\n",
       "      <td>Learning XML</td>\n",
       "      <td>Erik T. Ray</td>\n",
       "      <td>2003</td>\n",
       "      <td>$ 39.95</td>\n",
       "    </tr>\n",
       "  </tbody>\n",
       "</table>\n",
       "</div>"
      ],
      "text/plain": [
       "         종류                제목                   저자  출판년도       가격\n",
       "0   cooking  Everyday Italian  Giada De Laurentiis  2005  $ 30.00\n",
       "1  children      Harry Potter         J K. Rowling  2005  $ 29.99\n",
       "2       web      Learning XML          Erik T. Ray  2003  $ 39.95"
      ]
     },
     "execution_count": 39,
     "metadata": {},
     "output_type": "execute_result"
    }
   ],
   "source": [
    "# 책정보 => 리스트 딕셔너리 => 데이타프레임\n",
    "# 2차원 리스트 (종류 , 제목, 저자, 출판년도, 가격)\n",
    "book_list2 = []\n",
    "for book in target_list:\n",
    "    category = book['category']\n",
    "    title = book.title.text\n",
    "    author = book.author.text\n",
    "    year = book.year.text\n",
    "    price = '$ ' + book.price.text\n",
    "    book_list2.append({'종류' : category,\n",
    "                       '제목' : title,\n",
    "                       '저자' : author,\n",
    "                       '출판년도' : year,\n",
    "                       '가격' : price})\n",
    "# 데이타프레임화\n",
    "df = pd.DataFrame(book_list2)\n",
    "df"
   ]
  },
  {
   "cell_type": "code",
   "execution_count": 40,
   "id": "4d22560d",
   "metadata": {},
   "outputs": [],
   "source": [
    "# 5) 속성값으로 찾기\n",
    "# find(attribute=value)\n",
    "# find_all(attribute=value)\n",
    "# find(tagName, attribute=value)\n",
    "# find_all(tagName, attribute=value)\n",
    "# find(tagName, {attribute:value})\n",
    "# find_all(tagName, {attribute:value})"
   ]
  },
  {
   "cell_type": "code",
   "execution_count": 49,
   "id": "643fd7cf",
   "metadata": {
    "scrolled": true
   },
   "outputs": [
    {
     "name": "stdout",
     "output_type": "stream",
     "text": [
      "\n",
      "Everyday Italian\n",
      "Giada De Laurentiis\n",
      "2005\n",
      "30.00\n",
      "\n"
     ]
    },
    {
     "data": {
      "text/plain": [
       "<book category=\"cooking\">\n",
       "<title lang=\"en\">Everyday Italian</title>\n",
       "<author>Giada De Laurentiis</author>\n",
       "<year>2005</year>\n",
       "<price>30.00</price>\n",
       "</book>"
      ]
     },
     "execution_count": 49,
     "metadata": {},
     "output_type": "execute_result"
    }
   ],
   "source": [
    "# category=\"cooking\" 속성값을 가진 태그 요소 찾기\n",
    "target = soup.find(category=\"cooking\")\n",
    "print(target.text)\n",
    "target"
   ]
  },
  {
   "cell_type": "code",
   "execution_count": 63,
   "id": "e9dc51ff",
   "metadata": {},
   "outputs": [
    {
     "name": "stdout",
     "output_type": "stream",
     "text": [
      "[<title lang=\"en\">Everyday Italian</title>, <title lang=\"en\">Harry Potter</title>, <title lang=\"en\">Learning XML</title>]\n",
      "[<title lang=\"en\">Everyday Italian</title>, <title lang=\"en\">Harry Potter</title>, <title lang=\"en\">Learning XML</title>]\n",
      "[<title lang=\"en\">Everyday Italian</title>, <title lang=\"en\">Harry Potter</title>, <title lang=\"en\">Learning XML</title>]\n"
     ]
    }
   ],
   "source": [
    "# lang 속성이 'en' 값인 모든 태그 요소 찾기\n",
    "target_list = soup.find_all(lang=\"en\")\n",
    "print(target_list)\n",
    "# lang 속성이 \"en\" 값인 모든 title 태그 요소 찾기 \n",
    "target_list = soup.find_all('title', {'lang':\"en\"})\n",
    "print(target_list)\n",
    "target_list = soup.find_all('title', lang=\"en\")\n",
    "print(target_list)"
   ]
  },
  {
   "cell_type": "code",
   "execution_count": 65,
   "id": "75c4a4ad",
   "metadata": {
    "scrolled": true
   },
   "outputs": [
    {
     "name": "stdout",
     "output_type": "stream",
     "text": [
      "Everyday Italian\n",
      "Harry Potter\n",
      "Learning XML\n"
     ]
    }
   ],
   "source": [
    "# AttributeError\n",
    "# target_list.text\n",
    "for title in target_list:\n",
    "    print(title.text)"
   ]
  },
  {
   "cell_type": "code",
   "execution_count": 41,
   "id": "aa31cd3c",
   "metadata": {
    "scrolled": true
   },
   "outputs": [
    {
     "data": {
      "text/plain": [
       "<?xml version=\"1.0\" encoding=\"utf-8\"?>\n",
       "<bookstore>\n",
       "<book category=\"cooking\">\n",
       "<title lang=\"en\">Everyday Italian</title>\n",
       "<author>Giada De Laurentiis</author>\n",
       "<year>2005</year>\n",
       "<price>30.00</price>\n",
       "</book>\n",
       "<book category=\"children\">\n",
       "<title lang=\"en\">Harry Potter</title>\n",
       "<author>J K. Rowling</author>\n",
       "<year>2005</year>\n",
       "<price>29.99</price>\n",
       "</book>\n",
       "<book category=\"web\">\n",
       "<title lang=\"en\">Learning XML</title>\n",
       "<author>Erik T. Ray</author>\n",
       "<year>2003</year>\n",
       "<price>39.95</price>\n",
       "</book>\n",
       "</bookstore>"
      ]
     },
     "execution_count": 41,
     "metadata": {},
     "output_type": "execute_result"
    }
   ],
   "source": [
    "soup"
   ]
  },
  {
   "cell_type": "code",
   "execution_count": null,
   "id": "49a3a3a1",
   "metadata": {},
   "outputs": [],
   "source": []
  },
  {
   "cell_type": "code",
   "execution_count": null,
   "id": "75906369",
   "metadata": {},
   "outputs": [],
   "source": []
  }
 ],
 "metadata": {
  "kernelspec": {
   "display_name": "Python 3 (ipykernel)",
   "language": "python",
   "name": "python3"
  },
  "language_info": {
   "codemirror_mode": {
    "name": "ipython",
    "version": 3
   },
   "file_extension": ".py",
   "mimetype": "text/x-python",
   "name": "python",
   "nbconvert_exporter": "python",
   "pygments_lexer": "ipython3",
   "version": "3.9.12"
  }
 },
 "nbformat": 4,
 "nbformat_minor": 5
}
