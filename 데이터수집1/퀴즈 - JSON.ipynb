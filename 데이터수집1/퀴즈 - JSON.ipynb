{
 "cells": [
  {
   "cell_type": "code",
   "execution_count": 1,
   "id": "b9496cef",
   "metadata": {},
   "outputs": [
    {
     "name": "stderr",
     "output_type": "stream",
     "text": [
      "C:\\Users\\pusan\\AppData\\Local\\Temp\\ipykernel_15224\\829985655.py:2: DeprecationWarning: Importing display from IPython.core.display is deprecated since IPython 7.14, please import from IPython display\n",
      "  from IPython.core.display import display, HTML\n"
     ]
    },
    {
     "data": {
      "text/html": [
       "<style>.container { font-weight: bold !important; }</style>"
      ],
      "text/plain": [
       "<IPython.core.display.HTML object>"
      ]
     },
     "metadata": {},
     "output_type": "display_data"
    },
    {
     "data": {
      "text/html": [
       "<style>.container { width: 100% !important; }</style>"
      ],
      "text/plain": [
       "<IPython.core.display.HTML object>"
      ]
     },
     "metadata": {},
     "output_type": "display_data"
    }
   ],
   "source": [
    "# 쥬피터노트북 셀 스타일 조절 \n",
    "from IPython.core.display import display, HTML\n",
    "display(HTML(\"<style>.container { font-weight: bold !important; }</style>\"))\n",
    "display(HTML(\"<style>.container { width: 100% !important; }</style>\"))\n",
    "\n",
    "# 경고 메세지 숨기기 \n",
    "import warnings\n",
    "warnings.filterwarnings(action='ignore')"
   ]
  },
  {
   "cell_type": "code",
   "execution_count": 2,
   "id": "3dd18fee",
   "metadata": {},
   "outputs": [],
   "source": [
    "import requests\n",
    "import pandas as pd\n",
    "import json"
   ]
  },
  {
   "cell_type": "code",
   "execution_count": 3,
   "id": "32a655a1",
   "metadata": {},
   "outputs": [
    {
     "name": "stdout",
     "output_type": "stream",
     "text": [
      "<Response [200]>\n"
     ]
    }
   ],
   "source": [
    "res = requests.get(\"http://jsonplaceholder.typicode.com/users\")\n",
    "print(res)\n",
    "json_str = res.text\n",
    "# json_str"
   ]
  },
  {
   "cell_type": "code",
   "execution_count": 4,
   "id": "a2366dfb",
   "metadata": {
    "scrolled": true
   },
   "outputs": [
    {
     "name": "stdout",
     "output_type": "stream",
     "text": [
      "{'id': 1, 'name': 'Leanne Graham', 'username': 'Bret', 'email': 'Sincere@april.biz', 'address': {'street': 'Kulas Light', 'suite': 'Apt. 556', 'city': 'Gwenborough', 'zipcode': '92998-3874', 'geo': {'lat': '-37.3159', 'lng': '81.1496'}}, 'phone': '1-770-736-8031 x56442', 'website': 'hildegard.org', 'company': {'name': 'Romaguera-Crona', 'catchPhrase': 'Multi-layered client-server neural-net', 'bs': 'harness real-time e-markets'}}\n"
     ]
    }
   ],
   "source": [
    "# 1) json 샘플 사이트를 이용하여 딕셔너리 리스트 형태로 변경하고 첫번째 회원의 데이타만 출력하여라\n",
    "todos = json.loads(json_str)\n",
    "print(todos[0])"
   ]
  },
  {
   "cell_type": "code",
   "execution_count": 32,
   "id": "db7b0d64",
   "metadata": {},
   "outputs": [
    {
     "name": "stdout",
     "output_type": "stream",
     "text": [
      "10 명\n"
     ]
    }
   ],
   "source": [
    "# 2) 모두 몇명인가?\n",
    "print(len(todos),\"명\")"
   ]
  },
  {
   "cell_type": "code",
   "execution_count": 152,
   "id": "9e6093fe",
   "metadata": {},
   "outputs": [
    {
     "name": "stdout",
     "output_type": "stream",
     "text": [
      "id : 1 name : Leanne Graham email : Sincere@april.biz\n",
      "id : 2 name : Ervin Howell email : Shanna@melissa.tv\n",
      "id : 3 name : Clementine Bauch email : Nathan@yesenia.net\n",
      "id : 4 name : Patricia Lebsack email : Julianne.OConner@kory.org\n",
      "id : 5 name : Chelsey Dietrich email : Lucio_Hettinger@annie.ca\n",
      "id : 6 name : Mrs. Dennis Schulist email : Karley_Dach@jasper.info\n",
      "id : 7 name : Kurtis Weissnat email : Telly.Hoeger@billy.biz\n",
      "id : 8 name : Nicholas Runolfsdottir V email : Sherwood@rosamond.me\n",
      "id : 9 name : Glenna Reichert email : Chaim_McDermott@dana.io\n",
      "id : 10 name : Clementina DuBuque email : Rey.Padberg@karina.biz\n"
     ]
    }
   ],
   "source": [
    "# 3) id, name, email 만 출력하여라\n",
    "for key in todos:\n",
    "    print('id :', key['id'], 'name :', key['name'], 'email :', key['email'])"
   ]
  },
  {
   "cell_type": "code",
   "execution_count": 159,
   "id": "fdc28573",
   "metadata": {},
   "outputs": [
    {
     "name": "stdout",
     "output_type": "stream",
     "text": [
      "id : 1 city : Gwenborough phone : 1-770-736-8031 x56442\n",
      "id : 2 city : Wisokyburgh phone : 010-692-6593 x09125\n",
      "id : 3 city : McKenziehaven phone : 1-463-123-4447\n",
      "id : 4 city : South Elvis phone : 493-170-9623 x156\n",
      "id : 5 city : Roscoeview phone : (254)954-1289\n",
      "id : 6 city : South Christy phone : 1-477-935-8478 x6430\n",
      "id : 7 city : Howemouth phone : 210.067.6132\n",
      "id : 8 city : Aliyaview phone : 586.493.6943 x140\n",
      "id : 9 city : Bartholomebury phone : (775)976-6794 x41206\n",
      "id : 10 city : Lebsackbury phone : 024-648-3804\n"
     ]
    }
   ],
   "source": [
    "# 4) id, city, phone만 출력하여라\n",
    "address=[]\n",
    "a=0\n",
    "for i in range(len(todos)):\n",
    "    address.append(todos[i]['address']['city'])\n",
    "for key in todos:\n",
    "    print('id :', key['id'], 'city :', address[a],'phone :', key['phone'])\n",
    "    a += 1"
   ]
  },
  {
   "cell_type": "code",
   "execution_count": 155,
   "id": "7b55c6f8",
   "metadata": {},
   "outputs": [
    {
     "name": "stdout",
     "output_type": "stream",
     "text": [
      "id : 7 name : Kurtis Weissnat\n"
     ]
    }
   ],
   "source": [
    "# 5) phone 이 '210.067.6132'인 회원은 누구인가?\n",
    "for key in todos:\n",
    "    if key['phone'] == '210.067.6132':\n",
    "        print('id :', key['id'], 'name :', key['name'])"
   ]
  },
  {
   "cell_type": "code",
   "execution_count": 161,
   "id": "79a10261",
   "metadata": {},
   "outputs": [
    {
     "name": "stdout",
     "output_type": "stream",
     "text": [
      "id : 3 name : Clementine Bauch phone : 1-463-123-4447\n",
      "id : 5 name : Chelsey Dietrich phone : (254)954-1289\n",
      "id : 10 name : Clementina DuBuque phone : 024-648-3804\n"
     ]
    }
   ],
   "source": [
    "# 6) name이 'C'로 시작하는 회원목록만 아래와 같은 형태로 출력하여라\n",
    "for key in todos:\n",
    "    if key['name'][0] == 'C':\n",
    "        print('id :', key['id'], 'name :', key['name'], 'phone :', key['phone'])"
   ]
  },
  {
   "cell_type": "code",
   "execution_count": 163,
   "id": "b00e66a4",
   "metadata": {},
   "outputs": [
    {
     "data": {
      "text/html": [
       "<div>\n",
       "<style scoped>\n",
       "    .dataframe tbody tr th:only-of-type {\n",
       "        vertical-align: middle;\n",
       "    }\n",
       "\n",
       "    .dataframe tbody tr th {\n",
       "        vertical-align: top;\n",
       "    }\n",
       "\n",
       "    .dataframe thead th {\n",
       "        text-align: right;\n",
       "    }\n",
       "</style>\n",
       "<table border=\"1\" class=\"dataframe\">\n",
       "  <thead>\n",
       "    <tr style=\"text-align: right;\">\n",
       "      <th></th>\n",
       "      <th>id</th>\n",
       "      <th>name</th>\n",
       "      <th>username</th>\n",
       "      <th>email</th>\n",
       "      <th>address</th>\n",
       "      <th>phone</th>\n",
       "      <th>website</th>\n",
       "      <th>company</th>\n",
       "    </tr>\n",
       "  </thead>\n",
       "  <tbody>\n",
       "    <tr>\n",
       "      <th>0</th>\n",
       "      <td>1</td>\n",
       "      <td>Leanne Graham</td>\n",
       "      <td>Bret</td>\n",
       "      <td>Sincere@april.biz</td>\n",
       "      <td>{'street': 'Kulas Light', 'suite': 'Apt. 556',...</td>\n",
       "      <td>1-770-736-8031 x56442</td>\n",
       "      <td>hildegard.org</td>\n",
       "      <td>{'name': 'Romaguera-Crona', 'catchPhrase': 'Mu...</td>\n",
       "    </tr>\n",
       "    <tr>\n",
       "      <th>1</th>\n",
       "      <td>2</td>\n",
       "      <td>Ervin Howell</td>\n",
       "      <td>Antonette</td>\n",
       "      <td>Shanna@melissa.tv</td>\n",
       "      <td>{'street': 'Victor Plains', 'suite': 'Suite 87...</td>\n",
       "      <td>010-692-6593 x09125</td>\n",
       "      <td>anastasia.net</td>\n",
       "      <td>{'name': 'Deckow-Crist', 'catchPhrase': 'Proac...</td>\n",
       "    </tr>\n",
       "    <tr>\n",
       "      <th>2</th>\n",
       "      <td>3</td>\n",
       "      <td>Clementine Bauch</td>\n",
       "      <td>Samantha</td>\n",
       "      <td>Nathan@yesenia.net</td>\n",
       "      <td>{'street': 'Douglas Extension', 'suite': 'Suit...</td>\n",
       "      <td>1-463-123-4447</td>\n",
       "      <td>ramiro.info</td>\n",
       "      <td>{'name': 'Romaguera-Jacobson', 'catchPhrase': ...</td>\n",
       "    </tr>\n",
       "    <tr>\n",
       "      <th>3</th>\n",
       "      <td>4</td>\n",
       "      <td>Patricia Lebsack</td>\n",
       "      <td>Karianne</td>\n",
       "      <td>Julianne.OConner@kory.org</td>\n",
       "      <td>{'street': 'Hoeger Mall', 'suite': 'Apt. 692',...</td>\n",
       "      <td>493-170-9623 x156</td>\n",
       "      <td>kale.biz</td>\n",
       "      <td>{'name': 'Robel-Corkery', 'catchPhrase': 'Mult...</td>\n",
       "    </tr>\n",
       "    <tr>\n",
       "      <th>4</th>\n",
       "      <td>5</td>\n",
       "      <td>Chelsey Dietrich</td>\n",
       "      <td>Kamren</td>\n",
       "      <td>Lucio_Hettinger@annie.ca</td>\n",
       "      <td>{'street': 'Skiles Walks', 'suite': 'Suite 351...</td>\n",
       "      <td>(254)954-1289</td>\n",
       "      <td>demarco.info</td>\n",
       "      <td>{'name': 'Keebler LLC', 'catchPhrase': 'User-c...</td>\n",
       "    </tr>\n",
       "    <tr>\n",
       "      <th>5</th>\n",
       "      <td>6</td>\n",
       "      <td>Mrs. Dennis Schulist</td>\n",
       "      <td>Leopoldo_Corkery</td>\n",
       "      <td>Karley_Dach@jasper.info</td>\n",
       "      <td>{'street': 'Norberto Crossing', 'suite': 'Apt....</td>\n",
       "      <td>1-477-935-8478 x6430</td>\n",
       "      <td>ola.org</td>\n",
       "      <td>{'name': 'Considine-Lockman', 'catchPhrase': '...</td>\n",
       "    </tr>\n",
       "    <tr>\n",
       "      <th>6</th>\n",
       "      <td>7</td>\n",
       "      <td>Kurtis Weissnat</td>\n",
       "      <td>Elwyn.Skiles</td>\n",
       "      <td>Telly.Hoeger@billy.biz</td>\n",
       "      <td>{'street': 'Rex Trail', 'suite': 'Suite 280', ...</td>\n",
       "      <td>210.067.6132</td>\n",
       "      <td>elvis.io</td>\n",
       "      <td>{'name': 'Johns Group', 'catchPhrase': 'Config...</td>\n",
       "    </tr>\n",
       "    <tr>\n",
       "      <th>7</th>\n",
       "      <td>8</td>\n",
       "      <td>Nicholas Runolfsdottir V</td>\n",
       "      <td>Maxime_Nienow</td>\n",
       "      <td>Sherwood@rosamond.me</td>\n",
       "      <td>{'street': 'Ellsworth Summit', 'suite': 'Suite...</td>\n",
       "      <td>586.493.6943 x140</td>\n",
       "      <td>jacynthe.com</td>\n",
       "      <td>{'name': 'Abernathy Group', 'catchPhrase': 'Im...</td>\n",
       "    </tr>\n",
       "    <tr>\n",
       "      <th>8</th>\n",
       "      <td>9</td>\n",
       "      <td>Glenna Reichert</td>\n",
       "      <td>Delphine</td>\n",
       "      <td>Chaim_McDermott@dana.io</td>\n",
       "      <td>{'street': 'Dayna Park', 'suite': 'Suite 449',...</td>\n",
       "      <td>(775)976-6794 x41206</td>\n",
       "      <td>conrad.com</td>\n",
       "      <td>{'name': 'Yost and Sons', 'catchPhrase': 'Swit...</td>\n",
       "    </tr>\n",
       "    <tr>\n",
       "      <th>9</th>\n",
       "      <td>10</td>\n",
       "      <td>Clementina DuBuque</td>\n",
       "      <td>Moriah.Stanton</td>\n",
       "      <td>Rey.Padberg@karina.biz</td>\n",
       "      <td>{'street': 'Kattie Turnpike', 'suite': 'Suite ...</td>\n",
       "      <td>024-648-3804</td>\n",
       "      <td>ambrose.net</td>\n",
       "      <td>{'name': 'Hoeger LLC', 'catchPhrase': 'Central...</td>\n",
       "    </tr>\n",
       "  </tbody>\n",
       "</table>\n",
       "</div>"
      ],
      "text/plain": [
       "   id                      name          username                      email  \\\n",
       "0   1             Leanne Graham              Bret          Sincere@april.biz   \n",
       "1   2              Ervin Howell         Antonette          Shanna@melissa.tv   \n",
       "2   3          Clementine Bauch          Samantha         Nathan@yesenia.net   \n",
       "3   4          Patricia Lebsack          Karianne  Julianne.OConner@kory.org   \n",
       "4   5          Chelsey Dietrich            Kamren   Lucio_Hettinger@annie.ca   \n",
       "5   6      Mrs. Dennis Schulist  Leopoldo_Corkery    Karley_Dach@jasper.info   \n",
       "6   7           Kurtis Weissnat      Elwyn.Skiles     Telly.Hoeger@billy.biz   \n",
       "7   8  Nicholas Runolfsdottir V     Maxime_Nienow       Sherwood@rosamond.me   \n",
       "8   9           Glenna Reichert          Delphine    Chaim_McDermott@dana.io   \n",
       "9  10        Clementina DuBuque    Moriah.Stanton     Rey.Padberg@karina.biz   \n",
       "\n",
       "                                             address                  phone  \\\n",
       "0  {'street': 'Kulas Light', 'suite': 'Apt. 556',...  1-770-736-8031 x56442   \n",
       "1  {'street': 'Victor Plains', 'suite': 'Suite 87...    010-692-6593 x09125   \n",
       "2  {'street': 'Douglas Extension', 'suite': 'Suit...         1-463-123-4447   \n",
       "3  {'street': 'Hoeger Mall', 'suite': 'Apt. 692',...      493-170-9623 x156   \n",
       "4  {'street': 'Skiles Walks', 'suite': 'Suite 351...          (254)954-1289   \n",
       "5  {'street': 'Norberto Crossing', 'suite': 'Apt....   1-477-935-8478 x6430   \n",
       "6  {'street': 'Rex Trail', 'suite': 'Suite 280', ...           210.067.6132   \n",
       "7  {'street': 'Ellsworth Summit', 'suite': 'Suite...      586.493.6943 x140   \n",
       "8  {'street': 'Dayna Park', 'suite': 'Suite 449',...   (775)976-6794 x41206   \n",
       "9  {'street': 'Kattie Turnpike', 'suite': 'Suite ...           024-648-3804   \n",
       "\n",
       "         website                                            company  \n",
       "0  hildegard.org  {'name': 'Romaguera-Crona', 'catchPhrase': 'Mu...  \n",
       "1  anastasia.net  {'name': 'Deckow-Crist', 'catchPhrase': 'Proac...  \n",
       "2    ramiro.info  {'name': 'Romaguera-Jacobson', 'catchPhrase': ...  \n",
       "3       kale.biz  {'name': 'Robel-Corkery', 'catchPhrase': 'Mult...  \n",
       "4   demarco.info  {'name': 'Keebler LLC', 'catchPhrase': 'User-c...  \n",
       "5        ola.org  {'name': 'Considine-Lockman', 'catchPhrase': '...  \n",
       "6       elvis.io  {'name': 'Johns Group', 'catchPhrase': 'Config...  \n",
       "7   jacynthe.com  {'name': 'Abernathy Group', 'catchPhrase': 'Im...  \n",
       "8     conrad.com  {'name': 'Yost and Sons', 'catchPhrase': 'Swit...  \n",
       "9    ambrose.net  {'name': 'Hoeger LLC', 'catchPhrase': 'Central...  "
      ]
     },
     "execution_count": 163,
     "metadata": {},
     "output_type": "execute_result"
    }
   ],
   "source": [
    "# 7) 데이타프레임으로 변경하여라\n",
    "df = pd.DataFrame(todos)\n",
    "df"
   ]
  }
 ],
 "metadata": {
  "kernelspec": {
   "display_name": "Python 3 (ipykernel)",
   "language": "python",
   "name": "python3"
  },
  "language_info": {
   "codemirror_mode": {
    "name": "ipython",
    "version": 3
   },
   "file_extension": ".py",
   "mimetype": "text/x-python",
   "name": "python",
   "nbconvert_exporter": "python",
   "pygments_lexer": "ipython3",
   "version": "3.9.12"
  }
 },
 "nbformat": 4,
 "nbformat_minor": 5
}
