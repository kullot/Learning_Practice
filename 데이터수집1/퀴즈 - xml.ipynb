{
 "cells": [
  {
   "cell_type": "code",
   "execution_count": 6,
   "id": "67089dd9",
   "metadata": {
    "scrolled": true
   },
   "outputs": [
    {
     "name": "stderr",
     "output_type": "stream",
     "text": [
      "C:\\Users\\pusan\\AppData\\Local\\Temp\\ipykernel_6844\\1233986334.py:2: DeprecationWarning: Importing display from IPython.core.display is deprecated since IPython 7.14, please import from IPython display\n",
      "  from IPython.core.display import display, HTML\n"
     ]
    },
    {
     "data": {
      "text/html": [
       "<style>.container { font-weight: bold !important; }</style>"
      ],
      "text/plain": [
       "<IPython.core.display.HTML object>"
      ]
     },
     "metadata": {},
     "output_type": "display_data"
    },
    {
     "data": {
      "text/html": [
       "<style>.container { width: 100% !important; }</style>"
      ],
      "text/plain": [
       "<IPython.core.display.HTML object>"
      ]
     },
     "metadata": {},
     "output_type": "display_data"
    }
   ],
   "source": [
    "# 쥬피터노트북 셀 스타일 조절 \n",
    "from IPython.core.display import display, HTML\n",
    "display(HTML(\"<style>.container { font-weight: bold !important; }</style>\"))\n",
    "display(HTML(\"<style>.container { width: 100% !important; }</style>\"))\n",
    "\n",
    "# 경고 메세지 숨기기 \n",
    "import warnings\n",
    "warnings.filterwarnings(action='ignore')\n",
    "\n",
    "import requests\n",
    "from bs4 import BeautifulSoup\n",
    "import pandas as pd"
   ]
  },
  {
   "cell_type": "markdown",
   "id": "b2a0a99c",
   "metadata": {},
   "source": [
    "### 퀴즈 1"
   ]
  },
  {
   "cell_type": "code",
   "execution_count": 2,
   "id": "75aa890c",
   "metadata": {},
   "outputs": [
    {
     "name": "stdout",
     "output_type": "stream",
     "text": [
      " C 드라이브의 볼륨에는 이름이 없습니다.\n",
      " 볼륨 일련 번호: 629C-402A\n",
      "\n",
      " C:\\Users\\pusan\\Desktop\\workspace202205\\01_Scrap 디렉터리\n",
      "\n",
      "2022-06-08  오전 10:48               553 bookstore.xml\n",
      "2022-06-08  오전 11:49               665 country.xml\n",
      "               2개 파일               1,218 바이트\n",
      "               0개 디렉터리  440,910,512,128 바이트 남음\n"
     ]
    }
   ],
   "source": [
    "# 1) 아래 주소의 xml 소스 부분을 country.xml 파일로 저장하여라\n",
    "ls *.xml"
   ]
  },
  {
   "cell_type": "code",
   "execution_count": 12,
   "id": "c6706c4c",
   "metadata": {},
   "outputs": [],
   "source": [
    "# 2) 1번 과정의 country.xml 파일을 open() 함수를 이용하여 불러오기한 후 파싱 과정을 거쳐\n",
    "with open(\"country.xml\",'r') as f:\n",
    "    xml_str = f.read()\n",
    "#     print(xml_str)\n",
    "soup = BeautifulSoup(xml_str, 'xml')\n",
    "# soup"
   ]
  },
  {
   "cell_type": "code",
   "execution_count": 27,
   "id": "35ec99ae",
   "metadata": {},
   "outputs": [
    {
     "data": {
      "text/plain": [
       "<country name=\"Liechtenstein\">\n",
       "<rank>1</rank>\n",
       "<year>2008</year>\n",
       "<gdppc>141100</gdppc>\n",
       "<neighbor direction=\"E\" name=\"Austria\"/>\n",
       "<neighbor direction=\"W\" name=\"Switzerland\"/>\n",
       "</country>"
      ]
     },
     "execution_count": 27,
     "metadata": {},
     "output_type": "execute_result"
    }
   ],
   "source": [
    "c_list = soup.find_all('country')\n",
    "c_list[0]"
   ]
  },
  {
   "cell_type": "code",
   "execution_count": 50,
   "id": "ef86ba6e",
   "metadata": {
    "scrolled": true
   },
   "outputs": [
    {
     "name": "stdout",
     "output_type": "stream",
     "text": [
      "Liechtenstein 1 2008 141100 [('Austria', 'E'), ('Switzerland', 'W')]\n",
      "Singapore 4 2011 59900 [('Malaysia', 'N')]\n",
      "Panama 68 2011 13600 [('Costa Rica', 'W'), ('Colombia', 'E')]\n"
     ]
    },
    {
     "data": {
      "text/html": [
       "<div>\n",
       "<style scoped>\n",
       "    .dataframe tbody tr th:only-of-type {\n",
       "        vertical-align: middle;\n",
       "    }\n",
       "\n",
       "    .dataframe tbody tr th {\n",
       "        vertical-align: top;\n",
       "    }\n",
       "\n",
       "    .dataframe thead th {\n",
       "        text-align: right;\n",
       "    }\n",
       "</style>\n",
       "<table border=\"1\" class=\"dataframe\">\n",
       "  <thead>\n",
       "    <tr style=\"text-align: right;\">\n",
       "      <th></th>\n",
       "      <th>나라명</th>\n",
       "      <th>순위</th>\n",
       "      <th>년도</th>\n",
       "      <th>GDP</th>\n",
       "      <th>이웃나라(나라명, 방향)</th>\n",
       "    </tr>\n",
       "  </thead>\n",
       "  <tbody>\n",
       "    <tr>\n",
       "      <th>0</th>\n",
       "      <td>Liechtenstein</td>\n",
       "      <td>1</td>\n",
       "      <td>2008</td>\n",
       "      <td>141100</td>\n",
       "      <td>[(Austria, E), (Switzerland, W)]</td>\n",
       "    </tr>\n",
       "    <tr>\n",
       "      <th>1</th>\n",
       "      <td>Singapore</td>\n",
       "      <td>4</td>\n",
       "      <td>2011</td>\n",
       "      <td>59900</td>\n",
       "      <td>[(Malaysia, N)]</td>\n",
       "    </tr>\n",
       "    <tr>\n",
       "      <th>2</th>\n",
       "      <td>Panama</td>\n",
       "      <td>68</td>\n",
       "      <td>2011</td>\n",
       "      <td>13600</td>\n",
       "      <td>[(Costa Rica, W), (Colombia, E)]</td>\n",
       "    </tr>\n",
       "  </tbody>\n",
       "</table>\n",
       "</div>"
      ],
      "text/plain": [
       "             나라명  순위    년도     GDP                     이웃나라(나라명, 방향)\n",
       "0  Liechtenstein   1  2008  141100  [(Austria, E), (Switzerland, W)]\n",
       "1      Singapore   4  2011   59900                   [(Malaysia, N)]\n",
       "2         Panama  68  2011   13600  [(Costa Rica, W), (Colombia, E)]"
      ]
     },
     "execution_count": 50,
     "metadata": {},
     "output_type": "execute_result"
    }
   ],
   "source": [
    "country_list = []\n",
    "for li in c_list:\n",
    "    name = li.get('name')\n",
    "#     name = li.['name']\n",
    "    rank = li.rank.text\n",
    "    year = li.year.text\n",
    "    gdppc = li.gdppc.text\n",
    "    # 3) 2차원 리스트 \n",
    "    # 나라명, 순위, 년도, GDP, 이웃나라(나라명, 방향)\n",
    "#     neighbor_list = li.find_all('neighbor')\n",
    "#     if neighbor_list:\n",
    "#         temp=[]\n",
    "#         for neighbor in neighbor_list:\n",
    "#             # 튜플형태\n",
    "#             temp.append((neighbor['name'],neighbor['direction']))\n",
    "#         # neighbor 가 없는 경우\n",
    "#         else:\n",
    "#             temp=[]\n",
    "    neighbor_list = li.find_all('neighbor')\n",
    "    # neighbor 가 있는 경우 \n",
    "    if neighbor_list:\n",
    "        temp = []\n",
    "        for neighbor in neighbor_list:\n",
    "            # 리스트안의 튜플형태로 삽입 \n",
    "            temp.append( (neighbor['name'], neighbor['direction']) )\n",
    "\n",
    "    print(name, rank, year, gdppc, temp)\n",
    "    country_list.append({'나라명' : name,\n",
    "                        '순위' : rank,\n",
    "                        '년도' : year,\n",
    "                        'GDP' : gdppc,\n",
    "                        '이웃나라(나라명, 방향)' : temp})\n",
    "df = pd.DataFrame(country_list)\n",
    "df"
   ]
  },
  {
   "cell_type": "raw",
   "id": "5e68a4ef",
   "metadata": {},
   "source": [
    "country_list = []\n",
    "\n",
    "for country in target_list:\n",
    "    name = country['name']\n",
    "    rank = country.rank.text\n",
    "    year = country.year.text\n",
    "    gdppc = country.gdppc.text\n",
    "    \n",
    "    # 이웃나라 정보 neighbor\n",
    "    # [], [(나라명 name, 방향 direction)...]\n",
    "    neighbor_list = country.find_all('neighbor')\n",
    "    # neighbor 가 있는 경우 \n",
    "    if neighbor_list:\n",
    "        temp = []\n",
    "        for neighbor in neighbor_list:\n",
    "            # 리스트안의 튜플형태로 삽입 \n",
    "            temp.append( (neighbor['name'], neighbor['direction']) )\n",
    "    # neighbor 가 없는 경우 \n",
    "    else:\n",
    "        temp = []\n",
    "        \n",
    "    print(name, rank, year, gdppc, temp)        \n",
    "    country_list.append([ name, rank, year, gdppc, temp ])"
   ]
  },
  {
   "cell_type": "markdown",
   "id": "a05696d2",
   "metadata": {},
   "source": [
    "### 퀴즈 2\n",
    "- 메뉴명\t가격\t칼로리\t메뉴 설명"
   ]
  },
  {
   "cell_type": "code",
   "execution_count": 52,
   "id": "ae0e4b72",
   "metadata": {},
   "outputs": [],
   "source": [
    "# 1) 아래 주소의 xml 소스 부분을 food_menu.xml 파일로 저장하여라\n",
    "# https://gist.github.com/rajabishek/0c35d98e73c9efef08458f97d16576cd"
   ]
  },
  {
   "cell_type": "code",
   "execution_count": 8,
   "id": "931e8803",
   "metadata": {},
   "outputs": [
    {
     "data": {
      "text/plain": [
       "<?xml version=\"1.0\" encoding=\"utf-8\"?>\n",
       "<breakfast_menu>\n",
       "<food>\n",
       "<name>Belgian Waffles</name>\n",
       "<price>$5.95</price>\n",
       "<desc>Two of our famous Belgian Waffles with plenty of real maple syrup</desc>\n",
       "<calories>650</calories>\n",
       "</food>\n",
       "<food>\n",
       "<name>Strawberry Belgian Waffles</name>\n",
       "<price>$7.95</price>\n",
       "<desc>Light Belgian waffles covered with strawberries and whipped cream</desc>\n",
       "<calories>900</calories>\n",
       "</food>\n",
       "<food>\n",
       "<name>Berry-Berry Belgian Waffles</name>\n",
       "<price>$8.95</price>\n",
       "<desc>Light Belgian waffles covered with an assortment of fresh berries and whipped cream</desc>\n",
       "<calories>900</calories>\n",
       "</food>\n",
       "<food>\n",
       "<name>French Toast</name>\n",
       "<price>$4.50</price>\n",
       "<desc>Thick slices made from our homemade sourdough bread</desc>\n",
       "<calories>600</calories>\n",
       "</food>\n",
       "<food>\n",
       "<name>Homestyle Breakfast</name>\n",
       "<price>$6.95</price>\n",
       "<desc>Two eggs, bacon or sausage, toast, and our ever-popular hash browns</desc>\n",
       "<calories>950</calories>\n",
       "</food>\n",
       "</breakfast_menu>"
      ]
     },
     "execution_count": 8,
     "metadata": {},
     "output_type": "execute_result"
    }
   ],
   "source": [
    "# 2) 1번 과정의 food_menu.xml 파일을 open() 함수를 이용하여 불러오기한 후 파싱 과정을 거쳐 아래와 같은 데이타프레임으로 변경하여라\n",
    "with open(\"food_menu.xml\", \"r\") as f:\n",
    "    xml_str = f.read()\n",
    "xml_str\n",
    "soup = BeautifulSoup(xml_str, 'xml')\n",
    "soup"
   ]
  },
  {
   "cell_type": "code",
   "execution_count": 15,
   "id": "337c7055",
   "metadata": {},
   "outputs": [
    {
     "name": "stdout",
     "output_type": "stream",
     "text": [
      "5\n"
     ]
    }
   ],
   "source": [
    "target_list = soup.find_all('food')\n",
    "target_list[0]\n",
    "print(len(target_list))"
   ]
  },
  {
   "cell_type": "code",
   "execution_count": 16,
   "id": "3a07b36b",
   "metadata": {},
   "outputs": [
    {
     "data": {
      "text/plain": [
       "[['Belgian Waffles',\n",
       "  '$5.95',\n",
       "  '650 cal',\n",
       "  'Two of our famous Belgian Waffles with plenty of real maple syrup'],\n",
       " ['Strawberry Belgian Waffles',\n",
       "  '$7.95',\n",
       "  '900 cal',\n",
       "  'Light Belgian waffles covered with strawberries and whipped cream'],\n",
       " ['Berry-Berry Belgian Waffles',\n",
       "  '$8.95',\n",
       "  '900 cal',\n",
       "  'Light Belgian waffles covered with an assortment of fresh berries and whipped cream'],\n",
       " ['French Toast',\n",
       "  '$4.50',\n",
       "  '600 cal',\n",
       "  'Thick slices made from our homemade sourdough bread'],\n",
       " ['Homestyle Breakfast',\n",
       "  '$6.95',\n",
       "  '950 cal',\n",
       "  'Two eggs, bacon or sausage, toast, and our ever-popular hash browns']]"
      ]
     },
     "execution_count": 16,
     "metadata": {},
     "output_type": "execute_result"
    }
   ],
   "source": [
    "food_list = []\n",
    "for food in target_list:\n",
    "    # name 은 속성값으로 사용되어서 아래는 오류 발생 => AttributeError   \n",
    "    # name = food.name.text\n",
    "    name = food.find('name').text\n",
    "    price = food.price.text\n",
    "    calories = food.calories.text + ' cal'\n",
    "    desc = food.desc.text\n",
    "       \n",
    "    food_list.append([name, price, calories, desc])\n",
    "\n",
    "food_list"
   ]
  },
  {
   "cell_type": "code",
   "execution_count": 18,
   "id": "45ca18de",
   "metadata": {},
   "outputs": [
    {
     "data": {
      "text/html": [
       "<div>\n",
       "<style scoped>\n",
       "    .dataframe tbody tr th:only-of-type {\n",
       "        vertical-align: middle;\n",
       "    }\n",
       "\n",
       "    .dataframe tbody tr th {\n",
       "        vertical-align: top;\n",
       "    }\n",
       "\n",
       "    .dataframe thead th {\n",
       "        text-align: right;\n",
       "    }\n",
       "</style>\n",
       "<table border=\"1\" class=\"dataframe\">\n",
       "  <thead>\n",
       "    <tr style=\"text-align: right;\">\n",
       "      <th></th>\n",
       "      <th>메뉴명</th>\n",
       "      <th>가격</th>\n",
       "      <th>칼로리</th>\n",
       "      <th>메뉴설명</th>\n",
       "    </tr>\n",
       "  </thead>\n",
       "  <tbody>\n",
       "    <tr>\n",
       "      <th>0</th>\n",
       "      <td>Belgian Waffles</td>\n",
       "      <td>$5.95</td>\n",
       "      <td>650 cal</td>\n",
       "      <td>Two of our famous Belgian Waffles with plenty ...</td>\n",
       "    </tr>\n",
       "    <tr>\n",
       "      <th>1</th>\n",
       "      <td>Strawberry Belgian Waffles</td>\n",
       "      <td>$7.95</td>\n",
       "      <td>900 cal</td>\n",
       "      <td>Light Belgian waffles covered with strawberrie...</td>\n",
       "    </tr>\n",
       "    <tr>\n",
       "      <th>2</th>\n",
       "      <td>Berry-Berry Belgian Waffles</td>\n",
       "      <td>$8.95</td>\n",
       "      <td>900 cal</td>\n",
       "      <td>Light Belgian waffles covered with an assortme...</td>\n",
       "    </tr>\n",
       "    <tr>\n",
       "      <th>3</th>\n",
       "      <td>French Toast</td>\n",
       "      <td>$4.50</td>\n",
       "      <td>600 cal</td>\n",
       "      <td>Thick slices made from our homemade sourdough ...</td>\n",
       "    </tr>\n",
       "    <tr>\n",
       "      <th>4</th>\n",
       "      <td>Homestyle Breakfast</td>\n",
       "      <td>$6.95</td>\n",
       "      <td>950 cal</td>\n",
       "      <td>Two eggs, bacon or sausage, toast, and our eve...</td>\n",
       "    </tr>\n",
       "  </tbody>\n",
       "</table>\n",
       "</div>"
      ],
      "text/plain": [
       "                           메뉴명     가격      칼로리  \\\n",
       "0              Belgian Waffles  $5.95  650 cal   \n",
       "1   Strawberry Belgian Waffles  $7.95  900 cal   \n",
       "2  Berry-Berry Belgian Waffles  $8.95  900 cal   \n",
       "3                 French Toast  $4.50  600 cal   \n",
       "4          Homestyle Breakfast  $6.95  950 cal   \n",
       "\n",
       "                                                메뉴설명  \n",
       "0  Two of our famous Belgian Waffles with plenty ...  \n",
       "1  Light Belgian waffles covered with strawberrie...  \n",
       "2  Light Belgian waffles covered with an assortme...  \n",
       "3  Thick slices made from our homemade sourdough ...  \n",
       "4  Two eggs, bacon or sausage, toast, and our eve...  "
      ]
     },
     "execution_count": 18,
     "metadata": {},
     "output_type": "execute_result"
    }
   ],
   "source": [
    "df = pd.DataFrame(food_list, columns = ['메뉴명', '가격', '칼로리', '메뉴설명'])\n",
    "df"
   ]
  },
  {
   "cell_type": "code",
   "execution_count": null,
   "id": "14cd675f",
   "metadata": {},
   "outputs": [],
   "source": []
  }
 ],
 "metadata": {
  "kernelspec": {
   "display_name": "Python 3 (ipykernel)",
   "language": "python",
   "name": "python3"
  },
  "language_info": {
   "codemirror_mode": {
    "name": "ipython",
    "version": 3
   },
   "file_extension": ".py",
   "mimetype": "text/x-python",
   "name": "python",
   "nbconvert_exporter": "python",
   "pygments_lexer": "ipython3",
   "version": "3.9.12"
  }
 },
 "nbformat": 4,
 "nbformat_minor": 5
}
