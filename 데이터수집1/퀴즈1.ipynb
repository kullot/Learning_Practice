{
 "cells": [
  {
   "cell_type": "code",
   "execution_count": 8,
   "id": "4e60875f",
   "metadata": {},
   "outputs": [
    {
     "data": {
      "text/html": [
       "<style>.container { font-weight: bold !important; }</style>"
      ],
      "text/plain": [
       "<IPython.core.display.HTML object>"
      ]
     },
     "metadata": {},
     "output_type": "display_data"
    },
    {
     "data": {
      "text/html": [
       "<style>.container { width: 100% !important; }</style>"
      ],
      "text/plain": [
       "<IPython.core.display.HTML object>"
      ]
     },
     "metadata": {},
     "output_type": "display_data"
    }
   ],
   "source": [
    "# 쥬피터노트북 셀 스타일 조절 \n",
    "from IPython.core.display import display, HTML\n",
    "display(HTML(\"<style>.container { font-weight: bold !important; }</style>\"))\n",
    "display(HTML(\"<style>.container { width: 100% !important; }</style>\"))\n",
    "\n",
    "# 경고 메세지 숨기기 \n",
    "import warnings\n",
    "warnings.filterwarnings(action='ignore')"
   ]
  },
  {
   "cell_type": "code",
   "execution_count": 9,
   "id": "a2cf29b4",
   "metadata": {},
   "outputs": [],
   "source": [
    "# 관련 모듈 임포트 \n",
    "import requests\n",
    "from bs4 import BeautifulSoup\n",
    "import pandas as pd"
   ]
  },
  {
   "cell_type": "code",
   "execution_count": 10,
   "id": "bfa1da44",
   "metadata": {
    "scrolled": true
   },
   "outputs": [],
   "source": [
    "url = 'https://comic.naver.com/webtoon/weekday.nhn'\n",
    "res = requests.get(url)\n",
    "html_str = res.text\n",
    "soup = BeautifulSoup(html_str)\n",
    "# soup"
   ]
  },
  {
   "cell_type": "code",
   "execution_count": 11,
   "id": "87266607",
   "metadata": {},
   "outputs": [
    {
     "data": {
      "text/plain": [
       "<li class=\"rank10\">\n",
       "<a href=\"/webtoon/detail?titleId=776255&amp;no=35\" onclick=\"nclk_v2(event,'rnk*p.cont','776255','10')\" title=\"천마육성-35화\">천마육성-35화</a>\n",
       "<span class=\"rankBox\">\n",
       "<img alt=\"변동없음\" height=\"10\" src=\"https://ssl.pstatic.net/static/comic/images/migration/common/arrow_no.gif\" title=\"변동없음\" width=\"7\"/> 0\n",
       "\t\t\t\t\t\t\n",
       "\t\t\t\t\t\n",
       "\t\t\t\t</span>\n",
       "</li>"
      ]
     },
     "execution_count": 11,
     "metadata": {},
     "output_type": "execute_result"
    }
   ],
   "source": [
    "target = soup.select('ol#realTimeRankFavorite > li')\n",
    "target[-1]"
   ]
  },
  {
   "cell_type": "raw",
   "id": "9ad9cae4",
   "metadata": {},
   "source": [
    "# 순위, 제목 url"
   ]
  },
  {
   "cell_type": "code",
   "execution_count": 12,
   "id": "61f9539b",
   "metadata": {},
   "outputs": [
    {
     "name": "stdout",
     "output_type": "stream",
     "text": [
      "순위 : 1\n",
      "제목 : 연애혁명-405. 전야제\n",
      "URL : https://comic.naver.com/webtoon/detail?titleId=570503&no=409\n"
     ]
    }
   ],
   "source": [
    "rank = target[0].select_one('a')['onclick'][-3]\n",
    "title = target[0].select_one('a').text\n",
    "base_url = 'https://comic.naver.com'\n",
    "URL = base_url + target[0].select_one('a')['href']\n",
    "print('순위 :', rank)\n",
    "print('제목 :', title)\n",
    "print('URL :', URL)"
   ]
  },
  {
   "cell_type": "code",
   "execution_count": 13,
   "id": "5eced3af",
   "metadata": {},
   "outputs": [
    {
     "name": "stdout",
     "output_type": "stream",
     "text": [
      "1 연애혁명-405. 전야제 https://comic.naver.com/webtoon/detail?titleId=570503&no=409\n",
      "2 더 복서-더 복서 외전. 악연(18) https://comic.naver.com/webtoon/detail?titleId=736989&no=132\n",
      "3 나노마신-103. 제39장. 대면 (2) https://comic.naver.com/webtoon/detail?titleId=747271&no=103\n",
      "4 독립일기-시즌2 69화 연등회 https://comic.naver.com/webtoon/detail?titleId=748105&no=172\n",
      "5 현실퀘스트-32화 https://comic.naver.com/webtoon/detail?titleId=783888&no=32\n",
      "6 2022 그걸 네가 왜!-1화. <바른연애 길잡이> 지퍼 좀 대신 올려줄래요? https://comic.naver.com/webtoon/detail?titleId=795487&no=1\n",
      "7 이두나!-000! (8) https://comic.naver.com/webtoon/detail?titleId=731130&no=148\n",
      "8 기기괴괴-후기 https://comic.naver.com/webtoon/detail?titleId=557672&no=403\n",
      "9 정글쥬스-74화 https://comic.naver.com/webtoon/detail?titleId=762279&no=74\n",
      "0 천마육성-35화 https://comic.naver.com/webtoon/detail?titleId=776255&no=35\n"
     ]
    }
   ],
   "source": [
    "comic_list = []\n",
    "for i in target:\n",
    "    rank = i.select_one('a')['onclick'][-3]\n",
    "    title = i.select_one('a').text\n",
    "    URL = base_url + i.select_one('a')['href']\n",
    "    print(rank, title, URL)\n",
    "    comic_list.append([rank, title, URL])"
   ]
  },
  {
   "cell_type": "code",
   "execution_count": 14,
   "id": "e73c23f1",
   "metadata": {},
   "outputs": [
    {
     "data": {
      "text/html": [
       "<div>\n",
       "<style scoped>\n",
       "    .dataframe tbody tr th:only-of-type {\n",
       "        vertical-align: middle;\n",
       "    }\n",
       "\n",
       "    .dataframe tbody tr th {\n",
       "        vertical-align: top;\n",
       "    }\n",
       "\n",
       "    .dataframe thead th {\n",
       "        text-align: right;\n",
       "    }\n",
       "</style>\n",
       "<table border=\"1\" class=\"dataframe\">\n",
       "  <thead>\n",
       "    <tr style=\"text-align: right;\">\n",
       "      <th></th>\n",
       "      <th>rank</th>\n",
       "      <th>title</th>\n",
       "      <th>URL</th>\n",
       "    </tr>\n",
       "  </thead>\n",
       "  <tbody>\n",
       "    <tr>\n",
       "      <th>0</th>\n",
       "      <td>1</td>\n",
       "      <td>연애혁명-405. 전야제</td>\n",
       "      <td>https://comic.naver.com/webtoon/detail?titleId...</td>\n",
       "    </tr>\n",
       "    <tr>\n",
       "      <th>1</th>\n",
       "      <td>2</td>\n",
       "      <td>더 복서-더 복서 외전. 악연(18)</td>\n",
       "      <td>https://comic.naver.com/webtoon/detail?titleId...</td>\n",
       "    </tr>\n",
       "    <tr>\n",
       "      <th>2</th>\n",
       "      <td>3</td>\n",
       "      <td>나노마신-103. 제39장. 대면 (2)</td>\n",
       "      <td>https://comic.naver.com/webtoon/detail?titleId...</td>\n",
       "    </tr>\n",
       "    <tr>\n",
       "      <th>3</th>\n",
       "      <td>4</td>\n",
       "      <td>독립일기-시즌2 69화 연등회</td>\n",
       "      <td>https://comic.naver.com/webtoon/detail?titleId...</td>\n",
       "    </tr>\n",
       "    <tr>\n",
       "      <th>4</th>\n",
       "      <td>5</td>\n",
       "      <td>현실퀘스트-32화</td>\n",
       "      <td>https://comic.naver.com/webtoon/detail?titleId...</td>\n",
       "    </tr>\n",
       "    <tr>\n",
       "      <th>5</th>\n",
       "      <td>6</td>\n",
       "      <td>2022 그걸 네가 왜!-1화. &lt;바른연애 길잡이&gt; 지퍼 좀 대신 올려줄래요?</td>\n",
       "      <td>https://comic.naver.com/webtoon/detail?titleId...</td>\n",
       "    </tr>\n",
       "    <tr>\n",
       "      <th>6</th>\n",
       "      <td>7</td>\n",
       "      <td>이두나!-000! (8)</td>\n",
       "      <td>https://comic.naver.com/webtoon/detail?titleId...</td>\n",
       "    </tr>\n",
       "    <tr>\n",
       "      <th>7</th>\n",
       "      <td>8</td>\n",
       "      <td>기기괴괴-후기</td>\n",
       "      <td>https://comic.naver.com/webtoon/detail?titleId...</td>\n",
       "    </tr>\n",
       "    <tr>\n",
       "      <th>8</th>\n",
       "      <td>9</td>\n",
       "      <td>정글쥬스-74화</td>\n",
       "      <td>https://comic.naver.com/webtoon/detail?titleId...</td>\n",
       "    </tr>\n",
       "    <tr>\n",
       "      <th>9</th>\n",
       "      <td>0</td>\n",
       "      <td>천마육성-35화</td>\n",
       "      <td>https://comic.naver.com/webtoon/detail?titleId...</td>\n",
       "    </tr>\n",
       "  </tbody>\n",
       "</table>\n",
       "</div>"
      ],
      "text/plain": [
       "  rank                                        title  \\\n",
       "0    1                                연애혁명-405. 전야제   \n",
       "1    2                         더 복서-더 복서 외전. 악연(18)   \n",
       "2    3                       나노마신-103. 제39장. 대면 (2)   \n",
       "3    4                             독립일기-시즌2 69화 연등회   \n",
       "4    5                                    현실퀘스트-32화   \n",
       "5    6  2022 그걸 네가 왜!-1화. <바른연애 길잡이> 지퍼 좀 대신 올려줄래요?   \n",
       "6    7                                이두나!-000! (8)   \n",
       "7    8                                      기기괴괴-후기   \n",
       "8    9                                     정글쥬스-74화   \n",
       "9    0                                     천마육성-35화   \n",
       "\n",
       "                                                 URL  \n",
       "0  https://comic.naver.com/webtoon/detail?titleId...  \n",
       "1  https://comic.naver.com/webtoon/detail?titleId...  \n",
       "2  https://comic.naver.com/webtoon/detail?titleId...  \n",
       "3  https://comic.naver.com/webtoon/detail?titleId...  \n",
       "4  https://comic.naver.com/webtoon/detail?titleId...  \n",
       "5  https://comic.naver.com/webtoon/detail?titleId...  \n",
       "6  https://comic.naver.com/webtoon/detail?titleId...  \n",
       "7  https://comic.naver.com/webtoon/detail?titleId...  \n",
       "8  https://comic.naver.com/webtoon/detail?titleId...  \n",
       "9  https://comic.naver.com/webtoon/detail?titleId...  "
      ]
     },
     "execution_count": 14,
     "metadata": {},
     "output_type": "execute_result"
    }
   ],
   "source": [
    "df = pd.DataFrame(comic_list, columns=['rank', 'title', 'URL'])\n",
    "df"
   ]
  }
 ],
 "metadata": {
  "kernelspec": {
   "display_name": "Python 3 (ipykernel)",
   "language": "python",
   "name": "python3"
  },
  "language_info": {
   "codemirror_mode": {
    "name": "ipython",
    "version": 3
   },
   "file_extension": ".py",
   "mimetype": "text/x-python",
   "name": "python",
   "nbconvert_exporter": "python",
   "pygments_lexer": "ipython3",
   "version": "3.9.12"
  }
 },
 "nbformat": 4,
 "nbformat_minor": 5
}
