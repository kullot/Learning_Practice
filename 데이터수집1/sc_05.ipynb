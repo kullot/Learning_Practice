{
 "cells": [
  {
   "cell_type": "code",
   "execution_count": 1,
   "id": "09fdb1a5",
   "metadata": {},
   "outputs": [
    {
     "name": "stderr",
     "output_type": "stream",
     "text": [
      "C:\\Users\\pusan\\AppData\\Local\\Temp\\ipykernel_7928\\829985655.py:2: DeprecationWarning: Importing display from IPython.core.display is deprecated since IPython 7.14, please import from IPython display\n",
      "  from IPython.core.display import display, HTML\n"
     ]
    },
    {
     "data": {
      "text/html": [
       "<style>.container { font-weight: bold !important; }</style>"
      ],
      "text/plain": [
       "<IPython.core.display.HTML object>"
      ]
     },
     "metadata": {},
     "output_type": "display_data"
    },
    {
     "data": {
      "text/html": [
       "<style>.container { width: 100% !important; }</style>"
      ],
      "text/plain": [
       "<IPython.core.display.HTML object>"
      ]
     },
     "metadata": {},
     "output_type": "display_data"
    }
   ],
   "source": [
    "# 쥬피터노트북 셀 스타일 조절 \n",
    "from IPython.core.display import display, HTML\n",
    "display(HTML(\"<style>.container { font-weight: bold !important; }</style>\"))\n",
    "display(HTML(\"<style>.container { width: 100% !important; }</style>\"))\n",
    "\n",
    "# 경고 메세지 숨기기 \n",
    "import warnings\n",
    "warnings.filterwarnings(action='ignore')"
   ]
  },
  {
   "cell_type": "code",
   "execution_count": 2,
   "id": "21d83eb4",
   "metadata": {},
   "outputs": [],
   "source": [
    "# 관련 모듈 임포트 \n",
    "import requests\n",
    "from bs4 import BeautifulSoup\n",
    "import pandas as pd"
   ]
  },
  {
   "cell_type": "markdown",
   "id": "48a4714c",
   "metadata": {},
   "source": [
    "## 네이버 영화 댓글\n",
    "- 댓글 한페이지\n",
    "- 댓글 5페이지\n",
    "- 댓글 전체페이지\n",
    "- https://movie.naver.com/movie/point/af/list.naver?st=mcode&sword=167697&target=after&page=1"
   ]
  },
  {
   "cell_type": "code",
   "execution_count": 3,
   "id": "3445e371",
   "metadata": {},
   "outputs": [],
   "source": [
    "# 1) 웹페이지 접근 => reponse 객체 => html 페이지\n",
    "url = \"https://movie.naver.com/movie/point/af/list.naver?st=mcode&sword=167697&target=after&page=1\"\n",
    "res = requests.get(url)\n",
    "html_str = res.text\n",
    "# html_str"
   ]
  },
  {
   "cell_type": "code",
   "execution_count": 4,
   "id": "a3ede66f",
   "metadata": {},
   "outputs": [],
   "source": [
    "# 2) 뷰티풀숩 객체화\n",
    "# html 페이지 => 숩객체\n",
    "soup = BeautifulSoup(html_str)\n",
    "# soup"
   ]
  },
  {
   "cell_type": "code",
   "execution_count": 5,
   "id": "6a0c5e66",
   "metadata": {},
   "outputs": [],
   "source": [
    "# 3) 소스 파악 \n",
    "# 크롬개발자 모드 : f12 , ctrl+shift+i\n",
    "# 영화제목, 댓글내용, 평점, 작성자, 작성날짜"
   ]
  },
  {
   "cell_type": "raw",
   "id": "30560037",
   "metadata": {},
   "source": [
    "<tr>\n",
    "\t<td class=\"ac num\">18090564</td>\n",
    "\t\t<td class=\"title\">\n",
    "            <a href=\"/movie/bi/mi/basic.naver?code=167697\" class=\"movie color_b\">신과함께-인과 연</a>\n",
    "\t\t\t<div class=\"list_netizen_score\">\n",
    "                <span class=\"st_off\"><span class=\"st_on\" style=\"width:70%\">별점 - 총 10점 중</span></span><em>7</em>\n",
    "\t\t\t</div>\n",
    "\t\t\t<br>그냥 저냥 쏘쏘, 1편 만큼에 감동은 없었다 \n",
    "\t\t\t<a href=\"#\" onclick=\"report('geek****', 'AlFT+0QoUBDr6Nx/hOzlErZ9NYKZvSipZu5EYrWZmE4=', '그냥 저냥 쏘쏘, 1편 만큼에 감동은 없었다', '18090564', 'point_after');\" class=\"report\" style=\"color:#8F8F8F\" title=\"새 창\">신고</a>\n",
    "\t\t/td>\n",
    "\t<td class=\"num\"><a href=\"javascript:find_list('nickname','18090564', 'after');\" class=\"author\">geek****</a><br>22.05.23</td>\n",
    "</tr>"
   ]
  },
  {
   "cell_type": "raw",
   "id": "2f817d4c",
   "metadata": {},
   "source": [
    "tr > td*3\n",
    "tr > td.title\n",
    "tr > td.num"
   ]
  },
  {
   "cell_type": "code",
   "execution_count": 23,
   "id": "4298d3f1",
   "metadata": {},
   "outputs": [
    {
     "name": "stdout",
     "output_type": "stream",
     "text": [
      "10\n"
     ]
    },
    {
     "data": {
      "text/plain": [
       "<tr>\n",
       "<td class=\"ac num\">17411084</td>\n",
       "<td class=\"title\">\n",
       "<a class=\"movie color_b\" href=\"/movie/bi/mi/basic.naver?code=13558\">키드</a>\n",
       "<div class=\"list_netizen_score\">\n",
       "<span class=\"st_off\"><span class=\"st_on\" style=\"width:80%\">별점 - 총 10점 중</span></span><em>8</em>\n",
       "</div>\n",
       "<br/>긴 세월 동안 빛이 바랬을지 몰라도 그 순수함과 따뜻함만은 100년을 뛰어넘는다. \n",
       "\t\t\t\n",
       "\t\t\t\n",
       "\t\t\t\n",
       "\t\t\t\t\n",
       "\t\t\t\t\n",
       "\t\t\t\t\n",
       "\t\t\t\t<a class=\"report\" href=\"#\" onclick=\"report('hyun****', 'ib5eInFWtPvadeGnNbS6KI5UzZxevKIIsru9wykVjbA=', '긴 세월 동안 빛이 바랬을지 몰라도 그 순수함과 따뜻함만은 100년을 뛰어넘는다.', '17411084', 'point_after');\" style=\"color:#8F8F8F\" title=\"새 창\">신고</a>\n",
       "</td>\n",
       "<td class=\"num\"><a class=\"author\" href=\"javascript:find_list('nickname','17411084', 'after');\">hyun****</a><br/>21.02.25</td>\n",
       "</tr>"
      ]
     },
     "execution_count": 23,
     "metadata": {},
     "output_type": "execute_result"
    }
   ],
   "source": [
    "# 4) tr 추출\n",
    "target = soup.select('tbody > tr')\n",
    "print(len(target))\n",
    "# 첫번째 댓글 게시물 \n",
    "target[0]\n",
    "target[-1]"
   ]
  },
  {
   "cell_type": "code",
   "execution_count": 30,
   "id": "55e17222",
   "metadata": {},
   "outputs": [
    {
     "name": "stdout",
     "output_type": "stream",
     "text": [
      "영화제목 : 키드\n",
      "댓글 : <br/>\n",
      "평점 : 9\n",
      "작성자 : sjjo****\n",
      "작성일 : 22.05.22\n"
     ]
    },
    {
     "data": {
      "text/plain": [
       "<tr>\n",
       "<td class=\"ac num\">18085732</td>\n",
       "<td class=\"title\">\n",
       "<a class=\"movie color_b\" href=\"/movie/bi/mi/basic.naver?code=13558\">키드</a>\n",
       "<div class=\"list_netizen_score\">\n",
       "<span class=\"st_off\"><span class=\"st_on\" style=\"width:90%\">별점 - 총 10점 중</span></span><em>9</em>\n",
       "</div>\n",
       "<br/>그저 코미디 영화로만 놓고 봐도 100년도 더 된 영화라고 믿기 힘든 감탄스러운 작품이지만, 극중 주제를 생각해보면 그저 웃어넘기기엔 오늘날에도 적용될 사회적 문제라는 점 또한 흥미롭다. \n",
       "\t\t\t\n",
       "\t\t\t\n",
       "\t\t\t\n",
       "\t\t\t\t\n",
       "\t\t\t\t\n",
       "\t\t\t\t\n",
       "\t\t\t\t<a class=\"report\" href=\"#\" onclick=\"report('sjjo****', 'Eka9EbT0PeIQCFzKvS4H9XmVmXHdEuj7YC0qb9aCC98=', '그저 코미디 영화로만 놓고 봐도 100년도 더 된 영화라고 믿기 힘든 감탄스러운 작품이지만, 극중 주제를 생각해보면 그저 웃어넘기기엔 오늘날에도 적용될 사회적 문제라는 점 또한 흥미롭다.', '18085732', 'point_after');\" style=\"color:#8F8F8F\" title=\"새 창\">신고</a>\n",
       "</td>\n",
       "<td class=\"num\"><a class=\"author\" href=\"javascript:find_list('nickname','18085732', 'after');\">sjjo****</a><br/>22.05.22</td>\n",
       "</tr>"
      ]
     },
     "execution_count": 30,
     "metadata": {},
     "output_type": "execute_result"
    }
   ],
   "source": [
    "# 5) 첫댓글에서 각 내용 추출\n",
    "# 영화제목, 댓글내용, 평점, 작성자, 작성날짜\n",
    "title = target[0].select_one('a').text\n",
    "\n",
    "# br 태그의 다음 요소\n",
    "# strip() => 좌우공백 및 개행 문자 삭제\n",
    "comment = target[0].select_one('br').next_sibling.strip()\n",
    "\n",
    "score = target[0].select_one('em').text\n",
    "\n",
    "# author 클래스가 적용된 a 태그의 텍스트\n",
    "writer = target[0].select_one('a.author').text\n",
    "\n",
    "# td 태그의 마지막 요소에서 br 태그 다음의 요소\n",
    "date = target[0].select('td')[-1].select_one('br').next_sibling.strip()\n",
    "print('영화제목 :', title)\n",
    "print('댓글 :', comment)\n",
    "print('평점 :', score)\n",
    "print('작성자 :', writer)\n",
    "print('작성일 :', date)\n",
    "target[0]"
   ]
  },
  {
   "cell_type": "code",
   "execution_count": 8,
   "id": "f130ccbd",
   "metadata": {},
   "outputs": [
    {
     "name": "stdout",
     "output_type": "stream",
     "text": [
      "신과함께-인과 연 그냥 저냥 쏘쏘, 1편 만큼에 감동은 없었다 7 geek**** 22.05.23\n",
      "신과함께-인과 연 마지막 재판씬은 기억남 7 alst**** 22.04.28\n",
      "신과함께-인과 연 영화 재미있게 잘 봄ㅎㅎ 10 sony**** 22.04.24\n",
      "신과함께-인과 연 인물마다 각각의 이야기를 모두 꺼내야하니 끝까지 조급함이 느껴지긴 했지만 성주신을 통해 풀어가는 스토리는 좋았다. 깔끔한 기승전결과 배우들의 연기력이 좋다. 세상에 나쁜사람은 없다 나쁜상황이 있을뿐이라는 성주신의 대사가 기억에 남는다. 한낱 나약한 인간이기에 나쁜상황에 처해 나쁜행동을 했다면 “용서의 기회는 놓치지 말자” 8 srjc**** 22.04.07\n",
      "신과함께-인과 연 원작의 팬으로서 이 작품은 쓰레기라는 평조차 아까울 조차이다이 좋은 이야기를 그저 cg광고를 위한 포트폴리오로 사용한 덱스터 스튜디오에게는 정말....억지 신파에 공감안되는 개발암 주인공을 적절히 섞은 뒤 전체 배우들의 연기가 발연기로 보일정도에 디테일을 위에 끼얹으면 생기는 괴작OO았다 1 tana**** 22.03.27\n",
      "신과함께-인과 연 재밌었어요 감사합니다 10 cmm0**** 22.03.26\n",
      "신과함께-인과 연 재밌었어요 감사합니다 10 cmm0**** 22.03.26\n",
      "신과함께-인과 연 주지훈 연기가 너무 좋았고 1편에 이어서 더 내용과 재미가 커진 것같아서 재미있게 잘 봤습니다감상포인트 는 쥬라기월드 10 juhk**** 22.03.26\n",
      "신과함께-인과 연 주지훈 연기가 너무 좋았고 1편에 이어서 더 내용과 재미가 커진 것같아서 재미있게 잘 봤습니다감상포인트 는 쥬라기월드 10 juhk**** 22.03.26\n",
      "신과함께-인과 연 전 정말 재미있게 봤습니다. 이세상에 악한 인간은 없다는 대사가..잠시 냉정함은 벗고 공감하는 시간을 갖게 했네요.. 좋은 영화였습니다. 8 loli**** 22.03.26\n",
      "신과함께-인과 연 그냥 저냥 쏘쏘, 1편 만큼에 감동은 없었다 7 geek**** 22.05.23\n",
      "\n",
      "신과함께-인과 연 마지막 재판씬은 기억남 7 alst**** 22.04.28\n",
      "\n",
      "신과함께-인과 연 영화 재미있게 잘 봄ㅎㅎ 10 sony**** 22.04.24\n",
      "\n",
      "신과함께-인과 연 인물마다 각각의 이야기를 모두 꺼내야하니 끝까지 조급함이 느껴지긴 했지만 성주신을 통해 풀어가는 스토리는 좋았다. 깔끔한 기승전결과 배우들의 연기력이 좋다. 세상에 나쁜사람은 없다 나쁜상황이 있을뿐이라는 성주신의 대사가 기억에 남는다. 한낱 나약한 인간이기에 나쁜상황에 처해 나쁜행동을 했다면 “용서의 기회는 놓치지 말자” 8 srjc**** 22.04.07\n",
      "\n",
      "신과함께-인과 연 원작의 팬으로서 이 작품은 쓰레기라는 평조차 아까울 조차이다이 좋은 이야기를 그저 cg광고를 위한 포트폴리오로 사용한 덱스터 스튜디오에게는 정말....억지 신파에 공감안되는 개발암 주인공을 적절히 섞은 뒤 전체 배우들의 연기가 발연기로 보일정도에 디테일을 위에 끼얹으면 생기는 괴작OO았다 1 tana**** 22.03.27\n",
      "\n",
      "신과함께-인과 연 재밌었어요 감사합니다 10 cmm0**** 22.03.26\n",
      "\n",
      "신과함께-인과 연 재밌었어요 감사합니다 10 cmm0**** 22.03.26\n",
      "\n",
      "신과함께-인과 연 주지훈 연기가 너무 좋았고 1편에 이어서 더 내용과 재미가 커진 것같아서 재미있게 잘 봤습니다감상포인트 는 쥬라기월드 10 juhk**** 22.03.26\n",
      "\n",
      "신과함께-인과 연 주지훈 연기가 너무 좋았고 1편에 이어서 더 내용과 재미가 커진 것같아서 재미있게 잘 봤습니다감상포인트 는 쥬라기월드 10 juhk**** 22.03.26\n",
      "\n",
      "신과함께-인과 연 전 정말 재미있게 봤습니다. 이세상에 악한 인간은 없다는 대사가..잠시 냉정함은 벗고 공감하는 시간을 갖게 했네요.. 좋은 영화였습니다. 8 loli**** 22.03.26\n",
      "\n"
     ]
    },
    {
     "data": {
      "text/plain": [
       "[['신과함께-인과 연', '그냥 저냥 쏘쏘, 1편 만큼에 감동은 없었다', '7', 'geek****', '22.05.23'],\n",
       " ['신과함께-인과 연', '마지막 재판씬은 기억남', '7', 'alst****', '22.04.28'],\n",
       " ['신과함께-인과 연', '영화 재미있게 잘 봄ㅎㅎ', '10', 'sony****', '22.04.24'],\n",
       " ['신과함께-인과 연',\n",
       "  '인물마다 각각의 이야기를 모두 꺼내야하니 끝까지 조급함이 느껴지긴 했지만 성주신을 통해 풀어가는 스토리는 좋았다. 깔끔한 기승전결과 배우들의 연기력이 좋다. 세상에 나쁜사람은 없다 나쁜상황이 있을뿐이라는 성주신의 대사가 기억에 남는다. 한낱 나약한 인간이기에 나쁜상황에 처해 나쁜행동을 했다면 “용서의 기회는 놓치지 말자”',\n",
       "  '8',\n",
       "  'srjc****',\n",
       "  '22.04.07'],\n",
       " ['신과함께-인과 연',\n",
       "  '원작의 팬으로서 이 작품은 쓰레기라는 평조차 아까울 조차이다이 좋은 이야기를 그저 cg광고를 위한 포트폴리오로 사용한 덱스터 스튜디오에게는 정말....억지 신파에 공감안되는 개발암 주인공을 적절히 섞은 뒤 전체 배우들의 연기가 발연기로 보일정도에 디테일을 위에 끼얹으면 생기는 괴작OO았다',\n",
       "  '1',\n",
       "  'tana****',\n",
       "  '22.03.27'],\n",
       " ['신과함께-인과 연', '재밌었어요 감사합니다', '10', 'cmm0****', '22.03.26'],\n",
       " ['신과함께-인과 연', '재밌었어요 감사합니다', '10', 'cmm0****', '22.03.26'],\n",
       " ['신과함께-인과 연',\n",
       "  '주지훈 연기가 너무 좋았고 1편에 이어서 더 내용과 재미가 커진 것같아서 재미있게 잘 봤습니다감상포인트 는 쥬라기월드',\n",
       "  '10',\n",
       "  'juhk****',\n",
       "  '22.03.26'],\n",
       " ['신과함께-인과 연',\n",
       "  '주지훈 연기가 너무 좋았고 1편에 이어서 더 내용과 재미가 커진 것같아서 재미있게 잘 봤습니다감상포인트 는 쥬라기월드',\n",
       "  '10',\n",
       "  'juhk****',\n",
       "  '22.03.26'],\n",
       " ['신과함께-인과 연',\n",
       "  '전 정말 재미있게 봤습니다. 이세상에 악한 인간은 없다는 대사가..잠시 냉정함은 벗고 공감하는 시간을 갖게 했네요.. 좋은 영화였습니다.',\n",
       "  '8',\n",
       "  'loli****',\n",
       "  '22.03.26']]"
      ]
     },
     "execution_count": 8,
     "metadata": {},
     "output_type": "execute_result"
    }
   ],
   "source": [
    "# 6) 2차원 리스트 구조로 변경\n",
    "# 빈리스트 생성\n",
    "movie_list = []\n",
    "for li in target:\n",
    "    title = li.select_one('a').text\n",
    "    comment = li.select_one('br').next_sibling.strip()\n",
    "    score = li.select_one('em').text\n",
    "    writer = li.select_one('a.author').text\n",
    "    date = li.select('td')[-1].select_one('br').next_sibling.strip()\n",
    "    print(title, comment, score, writer, date)\n",
    "    # 리스트에 추가 \n",
    "    movie_list.append([title, comment, score, writer, date])\n",
    "# 2차원 리스트 결과 확인 \n",
    "for title, comment, score, writer, date in movie_list:\n",
    "    print(title, comment, score, writer, date)\n",
    "    print()\n",
    "\n",
    "movie_list"
   ]
  },
  {
   "cell_type": "code",
   "execution_count": 9,
   "id": "b0d97702",
   "metadata": {
    "scrolled": true
   },
   "outputs": [
    {
     "data": {
      "text/html": [
       "<div>\n",
       "<style scoped>\n",
       "    .dataframe tbody tr th:only-of-type {\n",
       "        vertical-align: middle;\n",
       "    }\n",
       "\n",
       "    .dataframe tbody tr th {\n",
       "        vertical-align: top;\n",
       "    }\n",
       "\n",
       "    .dataframe thead th {\n",
       "        text-align: right;\n",
       "    }\n",
       "</style>\n",
       "<table border=\"1\" class=\"dataframe\">\n",
       "  <thead>\n",
       "    <tr style=\"text-align: right;\">\n",
       "      <th></th>\n",
       "      <th>title</th>\n",
       "      <th>comment</th>\n",
       "      <th>score</th>\n",
       "      <th>writer</th>\n",
       "      <th>date</th>\n",
       "    </tr>\n",
       "  </thead>\n",
       "  <tbody>\n",
       "    <tr>\n",
       "      <th>0</th>\n",
       "      <td>신과함께-인과 연</td>\n",
       "      <td>그냥 저냥 쏘쏘, 1편 만큼에 감동은 없었다</td>\n",
       "      <td>7</td>\n",
       "      <td>geek****</td>\n",
       "      <td>22.05.23</td>\n",
       "    </tr>\n",
       "    <tr>\n",
       "      <th>1</th>\n",
       "      <td>신과함께-인과 연</td>\n",
       "      <td>마지막 재판씬은 기억남</td>\n",
       "      <td>7</td>\n",
       "      <td>alst****</td>\n",
       "      <td>22.04.28</td>\n",
       "    </tr>\n",
       "    <tr>\n",
       "      <th>2</th>\n",
       "      <td>신과함께-인과 연</td>\n",
       "      <td>영화 재미있게 잘 봄ㅎㅎ</td>\n",
       "      <td>10</td>\n",
       "      <td>sony****</td>\n",
       "      <td>22.04.24</td>\n",
       "    </tr>\n",
       "    <tr>\n",
       "      <th>3</th>\n",
       "      <td>신과함께-인과 연</td>\n",
       "      <td>인물마다 각각의 이야기를 모두 꺼내야하니 끝까지 조급함이 느껴지긴 했지만 성주신을 ...</td>\n",
       "      <td>8</td>\n",
       "      <td>srjc****</td>\n",
       "      <td>22.04.07</td>\n",
       "    </tr>\n",
       "    <tr>\n",
       "      <th>4</th>\n",
       "      <td>신과함께-인과 연</td>\n",
       "      <td>원작의 팬으로서 이 작품은 쓰레기라는 평조차 아까울 조차이다이 좋은 이야기를 그저 ...</td>\n",
       "      <td>1</td>\n",
       "      <td>tana****</td>\n",
       "      <td>22.03.27</td>\n",
       "    </tr>\n",
       "    <tr>\n",
       "      <th>5</th>\n",
       "      <td>신과함께-인과 연</td>\n",
       "      <td>재밌었어요 감사합니다</td>\n",
       "      <td>10</td>\n",
       "      <td>cmm0****</td>\n",
       "      <td>22.03.26</td>\n",
       "    </tr>\n",
       "    <tr>\n",
       "      <th>6</th>\n",
       "      <td>신과함께-인과 연</td>\n",
       "      <td>재밌었어요 감사합니다</td>\n",
       "      <td>10</td>\n",
       "      <td>cmm0****</td>\n",
       "      <td>22.03.26</td>\n",
       "    </tr>\n",
       "    <tr>\n",
       "      <th>7</th>\n",
       "      <td>신과함께-인과 연</td>\n",
       "      <td>주지훈 연기가 너무 좋았고 1편에 이어서 더 내용과 재미가 커진 것같아서 재미있게 ...</td>\n",
       "      <td>10</td>\n",
       "      <td>juhk****</td>\n",
       "      <td>22.03.26</td>\n",
       "    </tr>\n",
       "    <tr>\n",
       "      <th>8</th>\n",
       "      <td>신과함께-인과 연</td>\n",
       "      <td>주지훈 연기가 너무 좋았고 1편에 이어서 더 내용과 재미가 커진 것같아서 재미있게 ...</td>\n",
       "      <td>10</td>\n",
       "      <td>juhk****</td>\n",
       "      <td>22.03.26</td>\n",
       "    </tr>\n",
       "    <tr>\n",
       "      <th>9</th>\n",
       "      <td>신과함께-인과 연</td>\n",
       "      <td>전 정말 재미있게 봤습니다. 이세상에 악한 인간은 없다는 대사가..잠시 냉정함은 벗...</td>\n",
       "      <td>8</td>\n",
       "      <td>loli****</td>\n",
       "      <td>22.03.26</td>\n",
       "    </tr>\n",
       "  </tbody>\n",
       "</table>\n",
       "</div>"
      ],
      "text/plain": [
       "       title                                            comment score  \\\n",
       "0  신과함께-인과 연                           그냥 저냥 쏘쏘, 1편 만큼에 감동은 없었다     7   \n",
       "1  신과함께-인과 연                                       마지막 재판씬은 기억남     7   \n",
       "2  신과함께-인과 연                                      영화 재미있게 잘 봄ㅎㅎ    10   \n",
       "3  신과함께-인과 연  인물마다 각각의 이야기를 모두 꺼내야하니 끝까지 조급함이 느껴지긴 했지만 성주신을 ...     8   \n",
       "4  신과함께-인과 연  원작의 팬으로서 이 작품은 쓰레기라는 평조차 아까울 조차이다이 좋은 이야기를 그저 ...     1   \n",
       "5  신과함께-인과 연                                        재밌었어요 감사합니다    10   \n",
       "6  신과함께-인과 연                                        재밌었어요 감사합니다    10   \n",
       "7  신과함께-인과 연  주지훈 연기가 너무 좋았고 1편에 이어서 더 내용과 재미가 커진 것같아서 재미있게 ...    10   \n",
       "8  신과함께-인과 연  주지훈 연기가 너무 좋았고 1편에 이어서 더 내용과 재미가 커진 것같아서 재미있게 ...    10   \n",
       "9  신과함께-인과 연  전 정말 재미있게 봤습니다. 이세상에 악한 인간은 없다는 대사가..잠시 냉정함은 벗...     8   \n",
       "\n",
       "     writer      date  \n",
       "0  geek****  22.05.23  \n",
       "1  alst****  22.04.28  \n",
       "2  sony****  22.04.24  \n",
       "3  srjc****  22.04.07  \n",
       "4  tana****  22.03.27  \n",
       "5  cmm0****  22.03.26  \n",
       "6  cmm0****  22.03.26  \n",
       "7  juhk****  22.03.26  \n",
       "8  juhk****  22.03.26  \n",
       "9  loli****  22.03.26  "
      ]
     },
     "execution_count": 9,
     "metadata": {},
     "output_type": "execute_result"
    }
   ],
   "source": [
    "# 7) 2차원리스트 => 데이타프레임 구조로 변경\n",
    "df = pd.DataFrame(movie_list, columns=['title', 'comment', 'score', 'writer', 'date'])\n",
    "df"
   ]
  },
  {
   "cell_type": "code",
   "execution_count": 10,
   "id": "fc810b5d",
   "metadata": {},
   "outputs": [],
   "source": [
    "# 데이타프레임명.to_csv(csv파일경로, encoding='cp949', index=False)\n",
    "df.to_csv('output/bestmovie.csv', encoding='cp949', index=False)"
   ]
  },
  {
   "cell_type": "code",
   "execution_count": 11,
   "id": "0cb77148",
   "metadata": {},
   "outputs": [
    {
     "name": "stdout",
     "output_type": "stream",
     "text": [
      "title,comment,score,writer,date\n",
      "신과함께-인과 연,\"그냥 저냥 쏘쏘, 1편 만큼에 감동은 없었다\",7,geek****,22.05.23\n",
      "신과함께-인과 연,마지막 재판씬은 기억남,7,alst****,22.04.28\n",
      "신과함께-인과 연,영화 재미있게 잘 봄ㅎㅎ,10,sony****,22.04.24\n",
      "신과함께-인과 연,인물마다 각각의 이야기를 모두 꺼내야하니 끝까지 조급함이 느껴지긴 했지만 성주신을 통해 풀어가는 스토리는 좋았다. 깔끔한 기승전결과 배우들의 연기력이 좋다. 세상에 나쁜사람은 없다 나쁜상황이 있을뿐이라는 성주신의 대사가 기억에 남는다. 한낱 나약한 인간이기에 나쁜상황에 처해 나쁜행동을 했다면 “용서의 기회는 놓치지 말자”,8,srjc****,22.04.07\n",
      "신과함께-인과 연,원작의 팬으로서 이 작품은 쓰레기라는 평조차 아까울 조차이다이 좋은 이야기를 그저 cg광고를 위한 포트폴리오로 사용한 덱스터 스튜디오에게는 정말....억지 신파에 공감안되는 개발암 주인공을 적절히 섞은 뒤 전체 배우들의 연기가 발연기로 보일정도에 디테일을 위에 끼얹으면 생기는 괴작OO았다,1,tana****,22.03.27\n",
      "신과함께-인과 연,재밌었어요 감사합니다,10,cmm0****,22.03.26\n",
      "신과함께-인과 연,재밌었어요 감사합니다,10,cmm0****,22.03.26\n",
      "신과함께-인과 연,주지훈 연기가 너무 좋았고 1편에 이어서 더 내용과 재미가 커진 것같아서 재미있게 잘 봤습니다감상포인트 는 쥬라기월드,10,juhk****,22.03.26\n",
      "신과함께-인과 연,주지훈 연기가 너무 좋았고 1편에 이어서 더 내용과 재미가 커진 것같아서 재미있게 잘 봤습니다감상포인트 는 쥬라기월드,10,juhk****,22.03.26\n",
      "신과함께-인과 연,전 정말 재미있게 봤습니다. 이세상에 악한 인간은 없다는 대사가..잠시 냉정함은 벗고 공감하는 시간을 갖게 했네요.. 좋은 영화였습니다.,8,loli****,22.03.26\n"
     ]
    }
   ],
   "source": [
    "!type output\\bestmovie.csv"
   ]
  },
  {
   "cell_type": "markdown",
   "id": "3b1434de",
   "metadata": {},
   "source": [
    "## n개의 페이지 글"
   ]
  },
  {
   "cell_type": "raw",
   "id": "a93d0d1c",
   "metadata": {},
   "source": [
    "# 1) 페이지 주소 만들기 \n",
    "# 고정주소부분=페이지번호 \n",
    "# 1페이지 주소 \n",
    "https://movie.naver.com/movie/point/af/list.naver?st=mcode&sword=167697&target=after&page=1\n",
    "# 5페이지 주소 \n",
    "https://movie.naver.com/movie/point/af/list.naver?st=mcode&sword=167697&target=after&page=5"
   ]
  },
  {
   "cell_type": "code",
   "execution_count": 12,
   "id": "bb4a3d49",
   "metadata": {},
   "outputs": [
    {
     "name": "stdout",
     "output_type": "stream",
     "text": [
      "https://movie.naver.com/movie/point/af/list.naver?st=mcode&sword=13558&target=after&page=1\n",
      "https://movie.naver.com/movie/point/af/list.naver?st=mcode&sword=13558&target=after&page=2\n",
      "https://movie.naver.com/movie/point/af/list.naver?st=mcode&sword=13558&target=after&page=3\n",
      "https://movie.naver.com/movie/point/af/list.naver?st=mcode&sword=13558&target=after&page=4\n",
      "https://movie.naver.com/movie/point/af/list.naver?st=mcode&sword=13558&target=after&page=5\n",
      "https://movie.naver.com/movie/point/af/list.naver?st=mcode&sword=13558&target=after&page=6\n",
      "https://movie.naver.com/movie/point/af/list.naver?st=mcode&sword=13558&target=after&page=7\n",
      "https://movie.naver.com/movie/point/af/list.naver?st=mcode&sword=13558&target=after&page=8\n",
      "https://movie.naver.com/movie/point/af/list.naver?st=mcode&sword=13558&target=after&page=9\n",
      "https://movie.naver.com/movie/point/af/list.naver?st=mcode&sword=13558&target=after&page=10\n"
     ]
    }
   ],
   "source": [
    "# 고정 주소\n",
    "base_url='https://movie.naver.com/movie/point/af/list.naver?st=mcode&sword=13558&target=after&page='\n",
    "# n개의 페이지 주소\n",
    "n = 10\n",
    "for i in range(1, n+1):\n",
    "    print(base_url + str(i))"
   ]
  },
  {
   "cell_type": "code",
   "execution_count": 13,
   "id": "cdf1df87",
   "metadata": {},
   "outputs": [
    {
     "name": "stdout",
     "output_type": "stream",
     "text": [
      "https://movie.naver.com/movie/point/af/list.naver?st=mcode&sword=167697&target=after&page=1\n",
      "https://movie.naver.com/movie/point/af/list.naver?st=mcode&sword=167697&target=after&page=2\n",
      "https://movie.naver.com/movie/point/af/list.naver?st=mcode&sword=167697&target=after&page=3\n",
      "https://movie.naver.com/movie/point/af/list.naver?st=mcode&sword=167697&target=after&page=4\n",
      "https://movie.naver.com/movie/point/af/list.naver?st=mcode&sword=167697&target=after&page=5\n",
      "https://movie.naver.com/movie/point/af/list.naver?st=mcode&sword=167697&target=after&page=6\n",
      "https://movie.naver.com/movie/point/af/list.naver?st=mcode&sword=167697&target=after&page=7\n",
      "https://movie.naver.com/movie/point/af/list.naver?st=mcode&sword=167697&target=after&page=8\n",
      "https://movie.naver.com/movie/point/af/list.naver?st=mcode&sword=167697&target=after&page=9\n",
      "https://movie.naver.com/movie/point/af/list.naver?st=mcode&sword=167697&target=after&page=10\n"
     ]
    },
    {
     "data": {
      "text/plain": [
       "100"
      ]
     },
     "execution_count": 13,
     "metadata": {},
     "output_type": "execute_result"
    }
   ],
   "source": [
    "# 2) for ~ for 문 형태로 명령 실행\n",
    "\n",
    "# 페이지 끝번호\n",
    "n = 10\n",
    "# 빈리스트 생성 \n",
    "movie_list2 = []\n",
    "# 고정 주소\n",
    "base_url='https://movie.naver.com/movie/point/af/list.naver?st=mcode&sword=167697&target=after&page='\n",
    "\n",
    "for i in range(1, n+1):\n",
    "    # 2-1) 웹페이지 접근 => response 객체 => html 페이지\n",
    "    url = base_url + str(i)\n",
    "    print(url)\n",
    "    res = requests.get(url)\n",
    "    html_str = res.text\n",
    "    \n",
    "    # 2-2) 뷰티풀숩 객체화 : html 페이지 => 숩객체 \n",
    "    soup = BeautifulSoup(html_str)\n",
    "    \n",
    "    # 2-3) tr 추출\n",
    "    target = soup.select('tbody > tr')\n",
    "    \n",
    "    # 2-4) 리스트에 추가 \n",
    "    for tr in target:\n",
    "        title = tr.select_one('a').text\n",
    "        comment = tr.select_one('br').next_sibling.strip()\n",
    "        score = tr.select_one('em').text\n",
    "        writer = tr.select_one('a.author').text\n",
    "        date = tr.select('td')[-1].select_one('br').next_sibling\n",
    "        \n",
    "        # 리스트 안의 리스트 구조로 데이타 추가 \n",
    "        movie_list2.append([title, comment, score, writer, date])\n",
    "\n",
    "\n",
    "len(movie_list2)"
   ]
  },
  {
   "cell_type": "code",
   "execution_count": 14,
   "id": "46bfaad1",
   "metadata": {
    "scrolled": true
   },
   "outputs": [
    {
     "data": {
      "text/plain": [
       "['신과함께-인과 연',\n",
       " '연출은 좋으나 결국 혈연지연으로 저승벼슬 다 헤쳐먹는 헬조선식 스토리 ㅡㅡ',\n",
       " '2',\n",
       " '0401****',\n",
       " '21.05.19']"
      ]
     },
     "execution_count": 14,
     "metadata": {},
     "output_type": "execute_result"
    }
   ],
   "source": [
    "# 10페이지의 마지막 게시글 \n",
    "movie_list2[-1]"
   ]
  },
  {
   "cell_type": "code",
   "execution_count": 15,
   "id": "edc22d36",
   "metadata": {},
   "outputs": [
    {
     "data": {
      "text/html": [
       "<div>\n",
       "<style scoped>\n",
       "    .dataframe tbody tr th:only-of-type {\n",
       "        vertical-align: middle;\n",
       "    }\n",
       "\n",
       "    .dataframe tbody tr th {\n",
       "        vertical-align: top;\n",
       "    }\n",
       "\n",
       "    .dataframe thead th {\n",
       "        text-align: right;\n",
       "    }\n",
       "</style>\n",
       "<table border=\"1\" class=\"dataframe\">\n",
       "  <thead>\n",
       "    <tr style=\"text-align: right;\">\n",
       "      <th></th>\n",
       "      <th>title</th>\n",
       "      <th>comment</th>\n",
       "      <th>score</th>\n",
       "      <th>writer</th>\n",
       "      <th>date</th>\n",
       "    </tr>\n",
       "  </thead>\n",
       "  <tbody>\n",
       "    <tr>\n",
       "      <th>90</th>\n",
       "      <td>신과함께-인과 연</td>\n",
       "      <td>우리주위에서 흔히 일어나는 일들을 영화에 잘 녹여낸것 같다특히 아무 죄없는 사람들이...</td>\n",
       "      <td>6</td>\n",
       "      <td>hoye****</td>\n",
       "      <td>21.07.11</td>\n",
       "    </tr>\n",
       "    <tr>\n",
       "      <th>91</th>\n",
       "      <td>신과함께-인과 연</td>\n",
       "      <td>나는 너~~~무 재밌다.</td>\n",
       "      <td>10</td>\n",
       "      <td>hmhl****</td>\n",
       "      <td>21.07.10</td>\n",
       "    </tr>\n",
       "    <tr>\n",
       "      <th>92</th>\n",
       "      <td>신과함께-인과 연</td>\n",
       "      <td>염라도 주식은 거른다고ㅋㅋㅋㅋ</td>\n",
       "      <td>10</td>\n",
       "      <td>mike****</td>\n",
       "      <td>21.07.10</td>\n",
       "    </tr>\n",
       "    <tr>\n",
       "      <th>93</th>\n",
       "      <td>신과함께-인과 연</td>\n",
       "      <td>1편에 비하면 희대의망작왜케억지스럽지..</td>\n",
       "      <td>2</td>\n",
       "      <td>lees****</td>\n",
       "      <td>21.07.09</td>\n",
       "    </tr>\n",
       "    <tr>\n",
       "      <th>94</th>\n",
       "      <td>신과함께-인과 연</td>\n",
       "      <td>신과함께 3.4 나왔으면 좋겠어요 개인적으로 너무 재밌게 봤고 감동이었어요</td>\n",
       "      <td>10</td>\n",
       "      <td>akfd****</td>\n",
       "      <td>21.06.20</td>\n",
       "    </tr>\n",
       "    <tr>\n",
       "      <th>95</th>\n",
       "      <td>신과함께-인과 연</td>\n",
       "      <td>재밌는데 어쩔겨 ㅋ 밤에 봐서 잠왔는데 다보고 잤음</td>\n",
       "      <td>10</td>\n",
       "      <td>junh****</td>\n",
       "      <td>21.06.09</td>\n",
       "    </tr>\n",
       "    <tr>\n",
       "      <th>96</th>\n",
       "      <td>신과함께-인과 연</td>\n",
       "      <td>풀어 헤쳐놓은 스토리가 너무 많아서 쫓아가기 바빴어요. 그러다보니까 인물의 감정선을...</td>\n",
       "      <td>6</td>\n",
       "      <td>go53****</td>\n",
       "      <td>21.06.08</td>\n",
       "    </tr>\n",
       "    <tr>\n",
       "      <th>97</th>\n",
       "      <td>신과함께-인과 연</td>\n",
       "      <td>요즘에야봤는데 마동석의 대사에 웃기면서도 슬펐다는... 1편보다 훨씬 재밌게봤어요.</td>\n",
       "      <td>10</td>\n",
       "      <td>muze****</td>\n",
       "      <td>21.05.23</td>\n",
       "    </tr>\n",
       "    <tr>\n",
       "      <th>98</th>\n",
       "      <td>신과함께-인과 연</td>\n",
       "      <td></td>\n",
       "      <td>10</td>\n",
       "      <td>haeu****</td>\n",
       "      <td>21.05.19</td>\n",
       "    </tr>\n",
       "    <tr>\n",
       "      <th>99</th>\n",
       "      <td>신과함께-인과 연</td>\n",
       "      <td>연출은 좋으나 결국 혈연지연으로 저승벼슬 다 헤쳐먹는 헬조선식 스토리 ㅡㅡ</td>\n",
       "      <td>2</td>\n",
       "      <td>0401****</td>\n",
       "      <td>21.05.19</td>\n",
       "    </tr>\n",
       "  </tbody>\n",
       "</table>\n",
       "</div>"
      ],
      "text/plain": [
       "        title                                            comment score  \\\n",
       "90  신과함께-인과 연  우리주위에서 흔히 일어나는 일들을 영화에 잘 녹여낸것 같다특히 아무 죄없는 사람들이...     6   \n",
       "91  신과함께-인과 연                                      나는 너~~~무 재밌다.    10   \n",
       "92  신과함께-인과 연                                   염라도 주식은 거른다고ㅋㅋㅋㅋ    10   \n",
       "93  신과함께-인과 연                             1편에 비하면 희대의망작왜케억지스럽지..     2   \n",
       "94  신과함께-인과 연          신과함께 3.4 나왔으면 좋겠어요 개인적으로 너무 재밌게 봤고 감동이었어요    10   \n",
       "95  신과함께-인과 연                       재밌는데 어쩔겨 ㅋ 밤에 봐서 잠왔는데 다보고 잤음    10   \n",
       "96  신과함께-인과 연  풀어 헤쳐놓은 스토리가 너무 많아서 쫓아가기 바빴어요. 그러다보니까 인물의 감정선을...     6   \n",
       "97  신과함께-인과 연     요즘에야봤는데 마동석의 대사에 웃기면서도 슬펐다는... 1편보다 훨씬 재밌게봤어요.    10   \n",
       "98  신과함께-인과 연                                                       10   \n",
       "99  신과함께-인과 연          연출은 좋으나 결국 혈연지연으로 저승벼슬 다 헤쳐먹는 헬조선식 스토리 ㅡㅡ     2   \n",
       "\n",
       "      writer      date  \n",
       "90  hoye****  21.07.11  \n",
       "91  hmhl****  21.07.10  \n",
       "92  mike****  21.07.10  \n",
       "93  lees****  21.07.09  \n",
       "94  akfd****  21.06.20  \n",
       "95  junh****  21.06.09  \n",
       "96  go53****  21.06.08  \n",
       "97  muze****  21.05.23  \n",
       "98  haeu****  21.05.19  \n",
       "99  0401****  21.05.19  "
      ]
     },
     "execution_count": 15,
     "metadata": {},
     "output_type": "execute_result"
    }
   ],
   "source": [
    "# 7) 2차원리스트 => 데이타프레임 구조로 변경\n",
    "df = pd.DataFrame(movie_list2, columns=['title', 'comment', 'score', 'writer', 'date'])\n",
    "# 전체 데이타 프레임 \n",
    "# df \n",
    "# 데이타프레임에서 마지막 데이타중 n개만 출력 \n",
    "# 데이타프레임명.tail(n)\n",
    "df.tail(10)"
   ]
  },
  {
   "cell_type": "code",
   "execution_count": 16,
   "id": "cc0fee3c",
   "metadata": {},
   "outputs": [],
   "source": [
    "# 데이타프레임명.to_csv(csv파일경로, encoding='cp949', index=False)\n",
    "df.to_csv('output/movie100.csv', encoding='cp949', index=False)"
   ]
  },
  {
   "cell_type": "code",
   "execution_count": 17,
   "id": "c033c022",
   "metadata": {},
   "outputs": [
    {
     "name": "stdout",
     "output_type": "stream",
     "text": [
      "title,comment,score,writer,date\n",
      "신과함께-인과 연,\"그냥 저냥 쏘쏘, 1편 만큼에 감동은 없었다\",7,geek****,22.05.23\n",
      "신과함께-인과 연,마지막 재판씬은 기억남,7,alst****,22.04.28\n",
      "신과함께-인과 연,영화 재미있게 잘 봄ㅎㅎ,10,sony****,22.04.24\n",
      "신과함께-인과 연,인물마다 각각의 이야기를 모두 꺼내야하니 끝까지 조급함이 느껴지긴 했지만 성주신을 통해 풀어가는 스토리는 좋았다. 깔끔한 기승전결과 배우들의 연기력이 좋다. 세상에 나쁜사람은 없다 나쁜상황이 있을뿐이라는 성주신의 대사가 기억에 남는다. 한낱 나약한 인간이기에 나쁜상황에 처해 나쁜행동을 했다면 “용서의 기회는 놓치지 말자”,8,srjc****,22.04.07\n",
      "신과함께-인과 연,원작의 팬으로서 이 작품은 쓰레기라는 평조차 아까울 조차이다이 좋은 이야기를 그저 cg광고를 위한 포트폴리오로 사용한 덱스터 스튜디오에게는 정말....억지 신파에 공감안되는 개발암 주인공을 적절히 섞은 뒤 전체 배우들의 연기가 발연기로 보일정도에 디테일을 위에 끼얹으면 생기는 괴작OO았다,1,tana****,22.03.27\n",
      "신과함께-인과 연,재밌었어요 감사합니다,10,cmm0****,22.03.26\n",
      "신과함께-인과 연,재밌었어요 감사합니다,10,cmm0****,22.03.26\n",
      "신과함께-인과 연,주지훈 연기가 너무 좋았고 1편에 이어서 더 내용과 재미가 커진 것같아서 재미있게 잘 봤습니다감상포인트 는 쥬라기월드,10,juhk****,22.03.26\n",
      "신과함께-인과 연,주지훈 연기가 너무 좋았고 1편에 이어서 더 내용과 재미가 커진 것같아서 재미있게 잘 봤습니다감상포인트 는 쥬라기월드,10,juhk****,22.03.26\n",
      "신과함께-인과 연,전 정말 재미있게 봤습니다. 이세상에 악한 인간은 없다는 대사가..잠시 냉정함은 벗고 공감하는 시간을 갖게 했네요.. 좋은 영화였습니다.,8,loli****,22.03.26\n",
      "신과함께-인과 연,\"전개가 정신없는 면이 있었지만, 그 안에 담고 있는 메시지가 너무 좋았고 많이 슬펐어요.\",9,shur****,22.03.26\n",
      "신과함께-인과 연,(1편만 못하다. 죄다 귀인이여,7,luke****,22.03.16\n",
      "신과함께-인과 연,신과 함께 - 죄와 벌만큼 재밌었다,10,mozz****,22.03.06\n",
      "신과함께-인과 연,감독이..     누구라고?... 킁,1,tlsg****,22.02.23\n",
      "신과함께-인과 연,진기한 변호사가 주는 카타르시스를 안느껴본놈들만 별점 10점 준게 확실함.,1,jdc3****,22.02.14\n",
      "신과함께-인과 연,전편보다 나았음.,7,jong****,22.02.12\n",
      "신과함께-인과 연,,10,bbbh****,22.02.12\n",
      "신과함께-인과 연,신과 함께는신파 랑께,4,head****,22.01.31\n",
      "신과함께-인과 연,억지 감성팔이가 줄어서 좋았습니다,7,acec****,22.01.31\n",
      "신과함께-인과 연,어쩐지 셋이 찰떡 궁합이더라..,8,dora****,22.01.23\n",
      "신과함께-인과 연,넷플릭스에서 반쯤 봤는데 시간이 아깝다.,1,salg****,22.01.22\n",
      "신과함께-인과 연,아 진짜 천만관객 영화인 건 다 이유가 있다 이 말이에요... 주지훈 하정우 김향기는 거를 타선이 없음.. 개그요소도 많아서 재밌게 봤고 역시나 오열했네요... 집에서 담요 뒤집어 쓰고 끅끅댔습니다ㅠㅠㅠㅜ,8,army****,22.01.22\n",
      "신과함께-인과 연,과거 이야기로 인해 스토리가 엉켜져 있었다.,6,matt****,22.01.21\n",
      "신과함께-인과 연,완전 재밌음 진짜 인생영화임 특히 해원맥이랑 이덕춘 너무 좋음,10,nahy****,22.01.17\n",
      "신과함께-인과 연,이게 OOO도 영환데 이때도 부동산버블이라는 대사가 있었는데 이때라도 샀다면..,8,ksip****,22.01.06\n",
      "신과함께-인과 연,영화를 잘 만들었다. 최고다. 라는 평은... 글을 영상으로 기가막히게 잘 표현하거나... 상상도 못할 새로운 스토리로 원작의 개연성을 보여줘야하는데... 아... 이건 친숙한 배우들과 본듯한 스토리와 엉성한 결말까지... 중간중간 유명한 영화장면까지 배껴놔서... 보는 내내 짜집기한 느낌이라 많이 아쉽네요...차사들이나 귀빈들은 혈연지연학연으로 묶어버리는 센스가... 대단하시네요ㅋ,5,kdgh****,21.12.28\n",
      "신과함께-인과 연,1편에 이어서 재미있게 잘 봤어요,9,hoho****,21.12.27\n",
      "신과함께-인과 연,정말 보는 내내 울었던 명작,10,sien****,21.12.25\n",
      "신과함께-인과 연,주지훈 연기 쥰나 잘함ㅋ주지훈이 이 영화 다 살린거나 다름없음ㅋ,10,pds8****,21.12.19\n",
      "신과함께-인과 연,,10,phb4****,21.12.09\n",
      "신과함께-인과 연,1편에는 못따라가지만 재밌었음,9,wild****,21.12.07\n",
      "신과함께-인과 연,개인적으로는 1편이 더 재밌긴 했지만 이것도 재밌었어요,8,jeno****,21.12.06\n",
      "신과함께-인과 연,재밌게 잘 봤습니다 ㅎㅎ,8,jemm****,21.11.30\n",
      "신과함께-인과 연,신파만 좀 줄였더라면...,8,zura****,21.11.29\n",
      "신과함께-인과 연,오랜만에 재밌게 잘 봤습니다,8,hoh1****,21.11.29\n",
      "신과함께-인과 연,그냥 그렇네요....,6,wjl1****,21.11.28\n",
      "신과함께-인과 연,정서적으로도 보다 공감할 수 있는 스토리인 것 같네요.,8,sosi****,21.11.28\n",
      "신과함께-인과 연,반전의 반전인데 감동,10,sgw0****,21.11.28\n",
      "신과함께-인과 연,그저 많이 유치하였다.,6,seok****,21.11.27\n",
      "신과함께-인과 연,전편보단 그나마..,5,yh95****,21.11.27\n",
      "신과함께-인과 연,짱짱짱짱 진짜 정말 엄청 진짜 정말 엄청 짱 재밌어요!!! 슬프기도 하고 또 감동적이구,10,mj00****,21.11.26\n",
      "신과함께-인과 연,부모님 보여드렸는데 좋아하시네요,6,bank****,21.11.25\n",
      "신과함께-인과 연,판타지 불모지에서 이 정도면 충분히 즐길 만한 수작,7,andr****,21.11.24\n",
      "신과함께-인과 연,덱스터 기술력 홍보용 영화,6,jins****,21.11.24\n",
      "신과함께-인과 연,신과함께 인과연...,6,95hy****,21.11.24\n",
      "신과함께-인과 연,이제는 이런 영화 넷플릭스에서나 볼 수 있으려나,6,cuth****,21.11.24\n",
      "신과함께-인과 연,천만 영화의 추억,6,jjw2****,21.11.24\n",
      "신과함께-인과 연,다들 연기를 너무 잘 해서 좋았다잉,10,bym8****,21.11.24\n",
      "신과함께-인과 연,조금은 지루한 영화였다.,6,cbc3****,21.11.23\n",
      "신과함께-인과 연,지옥 재현이나 캐릭터 설정은 재미있고 웃음도 터지는데 너무 길다,8,sson****,21.11.23\n",
      "신과함께-인과 연,신파와 함께,5,tori****,21.11.23\n",
      "신과함께-인과 연,개인적으로 지나친 신파로 뒤덮였던 죄와 벌 보단 인과 연이 더 좋았음. 원작의 메인 캐릭터였던 진기한 변호사가 안 나오는게 아쉬웠는데 마지막에 캐릭터 만들어 내는거 보고 다음 시리즈는 드라마로 나오거나 스핀오프로 나와도 괜찮겠다 싶음,8,cine****,21.11.22\n",
      "신과함께-인과 연,1편으로 끝냈어야 하지 않을까 싶은..,6,hhk1****,21.11.22\n",
      "신과함께-인과 연,재밌게 감상했습니다.,6,nana****,21.11.21\n",
      "신과함께-인과 연,전편보다는 매력있게 봄,7,dayo****,21.11.21\n",
      "신과함께-인과 연,\"킬링타임용으로는 괜찮았지만, 작품성으로는 많이 아쉬웠습니다.\",6,fast****,21.11.20\n",
      "신과함께-인과 연,전편보다 좀 아쉬운 속편이었어요.,7,inay****,21.11.19\n",
      "신과함께-인과 연,스토리와 볼거리 모두 충족 가능,9,poip****,21.11.18\n",
      "신과함께-인과 연,외국에서 혼영하러 갔는데 한국인 나밖에 없어서 외국인들은 다 안 우는데 나 혼자 콧물에 질식사 당할뻔 했다.,10,ngy4****,21.11.17\n",
      "신과함께-인과 연,스케일크게 실사화는 잘된것같아요.,8,taki****,21.11.17\n",
      "신과함께-인과 연,신과함께 1보다 2가 훨씬 재밌었음 근데 너무 길어 .... 죄와 벌은  7점  인과 연은  8점,8,jjan****,21.11.16\n",
      "신과함께-인과 연,감동적인 편이고 평타는 칩니다.,8,ahgo****,21.11.15\n",
      "신과함께-인과 연,이 세대도 꾸준히 리메이크될 수 있을지 궁금,7,thdu****,21.11.13\n",
      "신과함께-인과 연,적당히 만든 신파 공산품,7,nex4****,21.11.13\n",
      "신과함께-인과 연,재미있게 잘 봤어용.,8,mks1****,21.11.06\n",
      "신과함께-인과 연,1편에 비해 감동씬은 많지 않았지만 그냥 너무 잘 만든 느낌. 1편 보고 2편까지 보게 됨,10,buen****,21.11.03\n",
      "신과함께-인과 연,\"18.08.04.뭔가 감당 못할 스케일이라 난잡해질 듯 하였으나, 충분히 매력적이다.완벽하진 않았다만 최선의 엔딩.\",9,yujs****,21.10.25\n",
      "신과함께-인과 연,,1,imrk****,21.10.15\n",
      "신과함께-인과 연,\"제가 본 한국영화중 최악이네요. 이건 뭐 SF여, 액션이여. 이저저도 아닌 중간에 붕뜬 초등학생들이 볼만한 영화지, 성인이 보기엔 정말 욕나올정도로 턱없이 부족하네요. 극중 대사중 여기가 지옥이지 사람살데냐???? 장난하니! 그따위 쳐말하는 주제에 미국인이 한국와서 살고 있노! 여기가 지옥이면 그럼 시리아는 지상천국이냐?? 저런 말도 안되는 개코메디 대사 보면서 정말 욕이 절로 나오더라구요. 스토리나 극중대사나 맘에 드는게 단 하나도 없었습니다.  어떻게 저 돈으로 저따위밖에 못만드는지 영화 망한거 같네요. 이 영화가 얼마나 단순하냐면 니가죽였냐, 안죽였냐로 하루종일 저걸로 영화를 이끌어갑니다. 정말 영화가 단순해도 너무단순하고 토나오더라구요. 영화객 평균나이가 초등학생인가! 소재나 주제도 너무 허황되고 말도 안되서 공감이 코딱지만큼도 안되더라구요. TV로 공짜로 보길 다행이지, 극장가서 봤으면 그자리서 박차고 일어나 환불신청하고 집에 갔을꺼에요. 공짜로봤으면 그나마 다행이지 극장안가서 보길 천만다행이더라구요. 저걸 내돈주고 봤다고 생각하면 정말 끔찍할 정도에요. 어쨋든, 내가 본 한국영화중 최악의 하나였습니다. 스토리 뿐만이 아니라 모든게 not good 이었어요. 한국영화는 언제쯤이나 발전할지 참으로 답답하기만 했네요.\",2,yust****,21.10.10\n",
      "신과함께-인과 연,현동이 너무 귀여워서 10점,10,wind****,21.10.10\n",
      "신과함께-인과 연,진짜 눈물 겨우 참아가며 봤던 기억이..,10,whit****,21.10.09\n",
      "신과함께-인과 연,진짜 너무 재미있다 수홍이 때문에 엄청 웃음,10,inde****,21.10.06\n",
      "신과함께-인과 연,아니 1편보다 별로라고 해서 기대 안했는데 ..진짜 존잼인데요…??? 너무 재밌음 ㅠㅠ 스토리 구성이 지루할 틈도 없고 배우들도 너무 멋있고 ..,10,eric****,21.10.02\n",
      "신과함께-인과 연,1편은 눈물 흘리면서 봤는데 인과 연은 보면서 계속 웃었어요. 해원맥이 되게 재미있는 행동을 많이 해줬는데 덕분에 더 재밌게 봤습니다!! 강추드려요~,10,txt_****,21.09.23\n",
      "신과함께-인과 연,이 영화를 2번째 봤는데도 난 나름 재밌게 봤다,8,cmy0****,21.09.21\n",
      "신과함께-인과 연,짱깨 미화와 좌파 사상으로 떡칠된 구태의연+진부+신파투성이 한국식 방화. 나라(고려)를 지킨 군인은 질투심과 자격지심에 눈이 먼 악당으로 묘사하고 굳이 착하고 선량하게 연출한 짱깨 난민을 구하기 위해 나라를 배신한 짱깨 (여진족)는 정많고 정의로운 영웅으로 묘사한 짱깨 찬양 미화 선동영화. 어디서 듣도 보도 못한 짱깨 난민을 입양해와서 아들이랍시고 대놓고 차별대우하는 정신병자같은 애비 때문에 빌런처럼 살수 밖에 없게 만들어 놓고 끝까지 그 인물을 용서받지 못한 빌런으로 묘사한 좌파pc 영화. 그리고 여느 한국영화와 같이 가난하고 못배운 사람들은 정의롭고 정많고 선량한 사람들이고 가진 거 많고 많이 배운 사람들은 악한 악당들이라는 전형적인 좌파식 사상을 주입시키고 정당화시키는 좌파영화.,1,blue****,21.09.19\n",
      "신과함께-인과 연,영화에 대해 잘 모르는 사람이 단순 재미도만으로 주는 평점입니다,7,fewn****,21.09.16\n",
      "신과함께-인과 연,감동과 재미 두마리 토끼를 잡은 영화 ^^ 너무 재밌어요,10,june****,21.09.11\n",
      "신과함께-인과 연,3편 언제 나와요? 도경수 언제 나와요? 원일병 너무 궁금하잖아. 관심병사연기 진짜 잘하네.,10,hanw****,21.09.10\n",
      "신과함께-인과 연,남녀노소 다 같이 보기좋게 만들어서 그렇지 1편과는 좀 다른 깊이가 있었음.,10,choi****,21.09.06\n",
      "신과함께-인과 연,1편도 넘 재밌게 봤는데 2편도 역시 재밌어요!,10,chos****,21.09.05\n",
      "신과함께-인과 연,난 죄와 벌 보고  마지막에 엄청 울었는데 인과 연은 눈 물이 안나옴 왜지?,10,deni****,21.09.03\n",
      "신과함께-인과 연,\"솔직히 이 영화가 1000만을 넘긴 것 자체가 말이 안된다 스토리 자체가 너무 조잡스럽고 1편과 마찬가지로 억지로 감동을 짜내는 듯한 느낌이 든다 배우들의 연기, 촬영 기법이나 CG등의 영상미를 제외하고 스토리 전개만을 본다면 이 영화는 7광구 못지 않은 졸작이다\",3,tjfg****,21.08.20\n",
      "신과함께-인과 연,OO들 ㅋㅋ 영화를 평점맥이려고 보는 애들아 그냥 있는 그대로 즐겨라 ㅋ,10,hsw9****,21.08.17\n",
      "신과함께-인과 연,\"그냥 그런 영화였당 정서를 자극할만한 울림이 있거나,,,치밀하게 짜여진 스토리라인로 드러난 반전! 그를 통한 감정의 극대화 같은것도 없다ㅠ일단 차태현의 연기가 배우의 실제 성격처럼 부정적이거나 슬픈 감정은 잘 드러나지 않아서 몰입이 잘 안됐고ㅠㅠ저승사자 캐릭터들은 뭔가 유쾌하고 여유롭다가도 시니컬한 모습을 보이고 싶었나본데 그냥 그랬다..특히 차태현을 중심으로 과거사를 돌이켜볼때 그 소재가 많이 진부해서 내가 지금 뭘보고 있는걸까...정말 이 영화를 수백만명이 본 영화라고? 생각했다###한줄요약: 2편도 볼랬는데 보고나니 여기까지만 봐도 되겠다\",4,wndm****,21.08.12\n",
      "신과함께-인과 연,신파.. 그만해..,1,stty****,21.08.11\n",
      "신과함께-인과 연,이생과 저생에 대한 인과 연이 좋았어요,10,dado****,21.08.06\n",
      "신과함께-인과 연,,1,loui****,21.08.04\n",
      "신과함께-인과 연,이런게 천만관객?? 수준진짜..,1,phs3****,21.07.27\n",
      "신과함께-인과 연,배우캐스팅을 너무 잘한듯,10,iren****,21.07.25\n",
      "신과함께-인과 연,우리주위에서 흔히 일어나는 일들을 영화에 잘 녹여낸것 같다특히 아무 죄없는 사람들이 피해를 보는것,6,hoye****,21.07.11\n",
      "신과함께-인과 연,나는 너~~~무 재밌다.,10,hmhl****,21.07.10\n",
      "신과함께-인과 연,염라도 주식은 거른다고ㅋㅋㅋㅋ,10,mike****,21.07.10\n",
      "신과함께-인과 연,1편에 비하면 희대의망작왜케억지스럽지..,2,lees****,21.07.09\n",
      "신과함께-인과 연,신과함께 3.4 나왔으면 좋겠어요 개인적으로 너무 재밌게 봤고 감동이었어요,10,akfd****,21.06.20\n",
      "신과함께-인과 연,재밌는데 어쩔겨 ㅋ 밤에 봐서 잠왔는데 다보고 잤음,10,junh****,21.06.09\n",
      "신과함께-인과 연,풀어 헤쳐놓은 스토리가 너무 많아서 쫓아가기 바빴어요. 그러다보니까 인물의 감정선을 전혀 느낄 수 없었습니다. 시원하게 전래동화 한 편 본 느낌이에요. 솔직히 이상한 부분이 한 두개가 아니에요..다만 연기는 정말 훌륭했어요.,6,go53****,21.06.08\n",
      "신과함께-인과 연,요즘에야봤는데 마동석의 대사에 웃기면서도 슬펐다는... 1편보다 훨씬 재밌게봤어요.,10,muze****,21.05.23\n",
      "신과함께-인과 연,,10,haeu****,21.05.19\n",
      "신과함께-인과 연,연출은 좋으나 결국 혈연지연으로 저승벼슬 다 헤쳐먹는 헬조선식 스토리 ㅡㅡ,2,0401****,21.05.19\n"
     ]
    }
   ],
   "source": [
    "!type output\\movie100.csv"
   ]
  },
  {
   "cell_type": "markdown",
   "id": "83351825",
   "metadata": {},
   "source": [
    "## 전체 페이지 댓글 저장\n",
    "\n",
    "- 영화 예시 : 키드\n",
    "- https://movie.naver.com/movie/point/af/list.naver?st=mcode&sword=13558&target=after&page=1\n",
    "- 마지막 페이지는? 15"
   ]
  },
  {
   "cell_type": "raw",
   "id": "a274927e",
   "metadata": {},
   "source": [
    "무한루프\n",
    "\n",
    "while ture : 0빼고 나머지숫자 :\n",
    "    if 조건 = while문에서 빠져나가는 명령 필요\n",
    "        break"
   ]
  },
  {
   "cell_type": "raw",
   "id": "2ed130c4",
   "metadata": {},
   "source": [
    "# 마지막 페이지 조건\n",
    "# 다음 페이지로 이동하는 [>] 부분이 없다.\n",
    "# [>] 소스 확인\n",
    "a.pg_next\n",
    "<a href=\"/movie/point/af/list.naver?st=mcode&amp;sword=13558&amp;target=after&amp;page=15\" title=\"다음\" class=\"pg_next\"><em>다음</em></a>"
   ]
  },
  {
   "cell_type": "markdown",
   "id": "c2437141",
   "metadata": {},
   "source": [
    "### 파이썬의 True/False\n",
    "- True 조건 : True, 0이아닌 숫자, 길이가 0이아닌 문자열, 튜플, 리스트, 딕셔너리\n",
    "- False 조건 : False, 0, '', [], {}, set({}), (), None"
   ]
  },
  {
   "cell_type": "code",
   "execution_count": 18,
   "id": "c5342c8f",
   "metadata": {},
   "outputs": [
    {
     "name": "stdout",
     "output_type": "stream",
     "text": [
      "https://movie.naver.com/movie/point/af/list.naver?st=mcode&sword=13558&target=after&page=1\n",
      "target = <a class=\"pg_next\" href=\"/movie/point/af/list.naver?st=mcode&amp;sword=13558&amp;target=after&amp;page=2\" title=\"다음\"><em>다음</em></a>\n",
      "https://movie.naver.com/movie/point/af/list.naver?st=mcode&sword=13558&target=after&page=2\n",
      "target = <a class=\"pg_next\" href=\"/movie/point/af/list.naver?st=mcode&amp;sword=13558&amp;target=after&amp;page=3\" title=\"다음\"><em>다음</em></a>\n",
      "https://movie.naver.com/movie/point/af/list.naver?st=mcode&sword=13558&target=after&page=3\n",
      "target = <a class=\"pg_next\" href=\"/movie/point/af/list.naver?st=mcode&amp;sword=13558&amp;target=after&amp;page=4\" title=\"다음\"><em>다음</em></a>\n",
      "https://movie.naver.com/movie/point/af/list.naver?st=mcode&sword=13558&target=after&page=4\n",
      "target = <a class=\"pg_next\" href=\"/movie/point/af/list.naver?st=mcode&amp;sword=13558&amp;target=after&amp;page=5\" title=\"다음\"><em>다음</em></a>\n",
      "https://movie.naver.com/movie/point/af/list.naver?st=mcode&sword=13558&target=after&page=5\n",
      "target = <a class=\"pg_next\" href=\"/movie/point/af/list.naver?st=mcode&amp;sword=13558&amp;target=after&amp;page=6\" title=\"다음\"><em>다음</em></a>\n",
      "https://movie.naver.com/movie/point/af/list.naver?st=mcode&sword=13558&target=after&page=6\n",
      "target = <a class=\"pg_next\" href=\"/movie/point/af/list.naver?st=mcode&amp;sword=13558&amp;target=after&amp;page=7\" title=\"다음\"><em>다음</em></a>\n",
      "https://movie.naver.com/movie/point/af/list.naver?st=mcode&sword=13558&target=after&page=7\n",
      "target = <a class=\"pg_next\" href=\"/movie/point/af/list.naver?st=mcode&amp;sword=13558&amp;target=after&amp;page=8\" title=\"다음\"><em>다음</em></a>\n",
      "https://movie.naver.com/movie/point/af/list.naver?st=mcode&sword=13558&target=after&page=8\n",
      "target = <a class=\"pg_next\" href=\"/movie/point/af/list.naver?st=mcode&amp;sword=13558&amp;target=after&amp;page=9\" title=\"다음\"><em>다음</em></a>\n",
      "https://movie.naver.com/movie/point/af/list.naver?st=mcode&sword=13558&target=after&page=9\n",
      "target = <a class=\"pg_next\" href=\"/movie/point/af/list.naver?st=mcode&amp;sword=13558&amp;target=after&amp;page=10\" title=\"다음\"><em>다음</em></a>\n",
      "https://movie.naver.com/movie/point/af/list.naver?st=mcode&sword=13558&target=after&page=10\n",
      "target = <a class=\"pg_next\" href=\"/movie/point/af/list.naver?st=mcode&amp;sword=13558&amp;target=after&amp;page=11\" title=\"다음\"><em>다음</em></a>\n",
      "https://movie.naver.com/movie/point/af/list.naver?st=mcode&sword=13558&target=after&page=11\n",
      "target = <a class=\"pg_next\" href=\"/movie/point/af/list.naver?st=mcode&amp;sword=13558&amp;target=after&amp;page=12\" title=\"다음\"><em>다음</em></a>\n",
      "https://movie.naver.com/movie/point/af/list.naver?st=mcode&sword=13558&target=after&page=12\n",
      "target = <a class=\"pg_next\" href=\"/movie/point/af/list.naver?st=mcode&amp;sword=13558&amp;target=after&amp;page=13\" title=\"다음\"><em>다음</em></a>\n",
      "https://movie.naver.com/movie/point/af/list.naver?st=mcode&sword=13558&target=after&page=13\n",
      "target = <a class=\"pg_next\" href=\"/movie/point/af/list.naver?st=mcode&amp;sword=13558&amp;target=after&amp;page=14\" title=\"다음\"><em>다음</em></a>\n",
      "https://movie.naver.com/movie/point/af/list.naver?st=mcode&sword=13558&target=after&page=14\n",
      "target = <a class=\"pg_next\" href=\"/movie/point/af/list.naver?st=mcode&amp;sword=13558&amp;target=after&amp;page=15\" title=\"다음\"><em>다음</em></a>\n",
      "https://movie.naver.com/movie/point/af/list.naver?st=mcode&sword=13558&target=after&page=15\n",
      "target = None\n",
      "마지막 페이지입니다.\n"
     ]
    }
   ],
   "source": [
    "# 1) 마지막 페이지 판독 테스트\n",
    "# 고정 주소 - 키드 영화\n",
    "base_url='https://movie.naver.com/movie/point/af/list.naver?st=mcode&sword=13558&target=after&page='\n",
    "# 페이지 초기값 지정\n",
    "page = 1\n",
    "while True:\n",
    "    # 1-1) 웹페이지 접근 => response 객체 => html 페이지\n",
    "    url = base_url + str(page)\n",
    "    print(url)\n",
    "    res = requests.get(url)\n",
    "    html_str = res.text\n",
    "    \n",
    "    # 1-2) 뷰티풀숩 객체화 : html 페이지 => 숩객체 \n",
    "    soup = BeautifulSoup(html_str)\n",
    "    \n",
    "    # 1-3) 마지막 다음 버튼 \n",
    "    target = soup.select_one('a.pg_next')\n",
    "    print('target =', target)\n",
    "    if target:\n",
    "        # 페이지 번호 증가\n",
    "        page += 1\n",
    "    else:\n",
    "        print('마지막 페이지입니다.')\n",
    "        break"
   ]
  },
  {
   "cell_type": "code",
   "execution_count": 19,
   "id": "32cd2ed6",
   "metadata": {
    "scrolled": true
   },
   "outputs": [
    {
     "name": "stdout",
     "output_type": "stream",
     "text": [
      "https://movie.naver.com/movie/point/af/list.naver?st=mcode&sword=13558&target=after&page=1\n",
      "target = <a class=\"pg_next\" href=\"/movie/point/af/list.naver?st=mcode&amp;sword=13558&amp;target=after&amp;page=2\" title=\"다음\"><em>다음</em></a>\n"
     ]
    },
    {
     "ename": "NameError",
     "evalue": "name 'movie_list3' is not defined",
     "output_type": "error",
     "traceback": [
      "\u001b[1;31m---------------------------------------------------------------------------\u001b[0m",
      "\u001b[1;31mNameError\u001b[0m                                 Traceback (most recent call last)",
      "Input \u001b[1;32mIn [19]\u001b[0m, in \u001b[0;36m<cell line: 8>\u001b[1;34m()\u001b[0m\n\u001b[0;32m     27\u001b[0m     date \u001b[38;5;241m=\u001b[39m tr\u001b[38;5;241m.\u001b[39mselect(\u001b[38;5;124m'\u001b[39m\u001b[38;5;124mtd\u001b[39m\u001b[38;5;124m'\u001b[39m)[\u001b[38;5;241m-\u001b[39m\u001b[38;5;241m1\u001b[39m]\u001b[38;5;241m.\u001b[39mselect_one(\u001b[38;5;124m'\u001b[39m\u001b[38;5;124mbr\u001b[39m\u001b[38;5;124m'\u001b[39m)\u001b[38;5;241m.\u001b[39mnext_sibling        \n\u001b[0;32m     28\u001b[0m     \u001b[38;5;66;03m# 리스트 안의 리스트 구조로 데이타 추가 \u001b[39;00m\n\u001b[1;32m---> 29\u001b[0m     \u001b[43mmovie_list3\u001b[49m\u001b[38;5;241m.\u001b[39mappend([title, comment, score, writer, date])  \n\u001b[0;32m     30\u001b[0m \u001b[38;5;66;03m# 페이지 번호 증가 \u001b[39;00m\n\u001b[0;32m     31\u001b[0m page \u001b[38;5;241m+\u001b[39m\u001b[38;5;241m=\u001b[39m \u001b[38;5;241m1\u001b[39m\n",
      "\u001b[1;31mNameError\u001b[0m: name 'movie_list3' is not defined"
     ]
    }
   ],
   "source": [
    "# 2) 페이지 주소를 변경하면서 2차원리스트에 데이타 저장\n",
    "# 고정 주소 - 키드 영화\n",
    "base_url='https://movie.naver.com/movie/point/af/list.naver?st=mcode&sword=13558&target=after&page='\n",
    "# 페이지 초기값 지정\n",
    "page = 1\n",
    "while True:\n",
    "    # 2-1) 웹페이지 접근 => response 객체 => html 페이지\n",
    "    url = base_url+str(page)\n",
    "    print(url)\n",
    "    res = requests.get(url)\n",
    "    html_str = res.text    \n",
    "    # 2-2) 뷰티풀숩 객체화 : html 페이지 => 숩객체 \n",
    "    soup = BeautifulSoup(html_str)\n",
    "    # 2-3) 마지막 다음 버튼이 있다면 데이타 추가 \n",
    "    # 마지막 다음 버튼이 없다면 데이타 추가 while 탈출 \n",
    "    target = soup.select_one('a.pg_next')\n",
    "    print('target =', target)\n",
    "    if target:\n",
    "        # tr 추출\n",
    "        target2 = soup.select('tbody > tr')\n",
    "        # 리스트에 추가 \n",
    "        for tr in target2:\n",
    "            title = tr.select_one('a').text\n",
    "            comment = tr.select_one('br').next_sibling.strip()\n",
    "            score = tr.select_one('em').text\n",
    "            writer = tr.select_one('a.author').text\n",
    "            date = tr.select('td')[-1].select_one('br').next_sibling        \n",
    "            # 리스트 안의 리스트 구조로 데이타 추가 \n",
    "            movie_list3.append([title, comment, score, writer, date])  \n",
    "        # 페이지 번호 증가 \n",
    "        page += 1\n",
    "    else:\n",
    "        # tr 추출\n",
    "        target2 = soup.select('tbody > tr')\n",
    "        # 리스트에 추가 \n",
    "        for tr in target2:\n",
    "            title = tr.select_one('a').text\n",
    "            comment = tr.select_one('br').next_sibling.strip()\n",
    "            score = tr.select_one('em').text\n",
    "            writer = tr.select_one('a.author').text\n",
    "            date = tr.select('td')[-1].select_one('br').next_sibling        \n",
    "            # 리스트 안의 리스트 구조로 데이타 추가 \n",
    "            movie_list3.append([title, comment, score, writer, date])          \n",
    "        print('마지막 페이지입니다.')\n",
    "        break\n",
    "        \n"
   ]
  },
  {
   "cell_type": "code",
   "execution_count": null,
   "id": "daa3d895",
   "metadata": {
    "scrolled": true
   },
   "outputs": [],
   "source": [
    "# 2) 페이지 주소를 변경하면서 2차원 리스트에 데이타 저장 (방법2)\n",
    "# 고정 주소 - 키드 영화 \n",
    "base_url = 'https://movie.naver.com/movie/point/af/list.naver?st=mcode&sword=13558&target=after&page='\n",
    "# 페이지 초기값 지정 \n",
    "page = 1\n",
    "# 빈리스트 생성 \n",
    "movie_list3 = []\n",
    "while True:\n",
    "    # 2-1) 웹페이지 접근 => response 객체 => html 페이지\n",
    "    url = base_url+str(page)\n",
    "    print(url)\n",
    "    res = requests.get(url)\n",
    "    html_str = res.text    \n",
    "    # 2-2) 뷰티풀숩 객체화 : html 페이지 => 숩객체 \n",
    "    soup = BeautifulSoup(html_str)\n",
    "    # 2-3) 마지막 다음 버튼이 있다면 데이타 추가후 페이지 번호 증가  \n",
    "    # tr 추출\n",
    "    target2 = soup.select('tbody > tr')\n",
    "    # 리스트에 추가 \n",
    "    for tr in target2:\n",
    "        title = tr.select_one('a').text\n",
    "        comment = tr.select_one('br').next_sibling.strip()\n",
    "        score = tr.select_one('em').text\n",
    "        writer = tr.select_one('a.author').text\n",
    "        date = tr.select('td')[-1].select_one('br').next_sibling        \n",
    "        # 리스트 안의 리스트 구조로 데이타 추가 \n",
    "        movie_list3.append([title, comment, score, writer, date])\n",
    "    # 마지막 다음 버튼이 없다면 데이타 추가 while 탈출 \n",
    "    target = soup.select_one('a.pg_next')\n",
    "    if target:\n",
    "        # 페이지 번호 증가 \n",
    "        page += 1\n",
    "    else: \n",
    "        print('마지막 페이지입니다.')\n",
    "        break\n",
    "   "
   ]
  },
  {
   "cell_type": "code",
   "execution_count": null,
   "id": "2916c86f",
   "metadata": {},
   "outputs": [],
   "source": [
    "len(movie_list3)\n",
    "# 마지막 페이지의 마지막 게시물 확인 \n",
    "movie_list3[-1]"
   ]
  },
  {
   "cell_type": "code",
   "execution_count": null,
   "id": "d2d5d37f",
   "metadata": {},
   "outputs": [],
   "source": [
    "# 7) 2차원리스트 => 데이타프레임 구조로 변경\n",
    "df = pd.DataFrame(movie_list3, columns=['title', 'comment', 'score', 'writer', 'date'])\n",
    "# 전체 데이타 프레임 \n",
    "# df \n",
    "# 데이타프레임에서 마지막 데이타중 n개만 출력 \n",
    "# 데이타프레임명.tail(n)\n",
    "df.tail(10)"
   ]
  },
  {
   "cell_type": "code",
   "execution_count": null,
   "id": "1e54da1d",
   "metadata": {},
   "outputs": [],
   "source": [
    "# 데이타프레임명.to_csv(csv파일경로, encoding='cp949', index=False)\n",
    "df.to_csv('output/kid.csv', encoding='cp949', index=False)"
   ]
  },
  {
   "cell_type": "code",
   "execution_count": null,
   "id": "a3fe6369",
   "metadata": {},
   "outputs": [],
   "source": [
    "!type output\\kid.csv"
   ]
  },
  {
   "cell_type": "code",
   "execution_count": null,
   "id": "5cc81bbb",
   "metadata": {},
   "outputs": [],
   "source": []
  }
 ],
 "metadata": {
  "kernelspec": {
   "display_name": "Python 3 (ipykernel)",
   "language": "python",
   "name": "python3"
  },
  "language_info": {
   "codemirror_mode": {
    "name": "ipython",
    "version": 3
   },
   "file_extension": ".py",
   "mimetype": "text/x-python",
   "name": "python",
   "nbconvert_exporter": "python",
   "pygments_lexer": "ipython3",
   "version": "3.9.12"
  }
 },
 "nbformat": 4,
 "nbformat_minor": 5
}
