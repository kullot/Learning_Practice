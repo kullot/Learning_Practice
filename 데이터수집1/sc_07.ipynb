{
 "cells": [
  {
   "cell_type": "code",
   "execution_count": 2,
   "id": "3f75650c",
   "metadata": {},
   "outputs": [
    {
     "data": {
      "text/html": [
       "<style>.container { font-weight: bold !important; }</style>"
      ],
      "text/plain": [
       "<IPython.core.display.HTML object>"
      ]
     },
     "metadata": {},
     "output_type": "display_data"
    },
    {
     "data": {
      "text/html": [
       "<style>.container { width: 100% !important; }</style>"
      ],
      "text/plain": [
       "<IPython.core.display.HTML object>"
      ]
     },
     "metadata": {},
     "output_type": "display_data"
    }
   ],
   "source": [
    "# 쥬피터노트북 셀 스타일 조절 \n",
    "from IPython.core.display import display, HTML\n",
    "display(HTML(\"<style>.container { font-weight: bold !important; }</style>\"))\n",
    "display(HTML(\"<style>.container { width: 100% !important; }</style>\"))\n",
    "\n",
    "# 경고 메세지 숨기기 \n",
    "import warnings\n",
    "warnings.filterwarnings(action='ignore')"
   ]
  },
  {
   "cell_type": "markdown",
   "id": "be8189d3",
   "metadata": {},
   "source": [
    "## Selenium을 이용한 동적 컨텐츠 수집\n",
    "\n",
    "- 참조 : Scrap_수업자료10_Selenium.html\n",
    "- 동적 컨텐츠?"
   ]
  },
  {
   "cell_type": "code",
   "execution_count": null,
   "id": "d357a173",
   "metadata": {},
   "outputs": [],
   "source": [
    "ls"
   ]
  },
  {
   "cell_type": "code",
   "execution_count": null,
   "id": "36f6f9e5",
   "metadata": {},
   "outputs": [],
   "source": [
    "pip list"
   ]
  },
  {
   "cell_type": "code",
   "execution_count": null,
   "id": "655e7978",
   "metadata": {},
   "outputs": [],
   "source": [
    "pip install selenium"
   ]
  },
  {
   "cell_type": "code",
   "execution_count": 3,
   "id": "5c06607b",
   "metadata": {},
   "outputs": [],
   "source": [
    "# 1) 관련 모듈 임포트 \n",
    "import pandas as pd\n",
    "import time\n",
    "from selenium import webdriver"
   ]
  },
  {
   "cell_type": "code",
   "execution_count": null,
   "id": "a605c4d4",
   "metadata": {},
   "outputs": [],
   "source": [
    "webdriver"
   ]
  },
  {
   "cell_type": "code",
   "execution_count": 4,
   "id": "bd460897",
   "metadata": {},
   "outputs": [],
   "source": [
    "# 2) 셀레니움 드라이버 객체 생성 후 웹브라우저 구동 \n",
    "# 드라이버객체명 = webdriver.Chrome('chromedriver.exe 경로')\n",
    "\n",
    "# 윈도우용\n",
    "driver = webdriver.Chrome('chromedriver.exe')"
   ]
  },
  {
   "cell_type": "markdown",
   "id": "824fd334",
   "metadata": {},
   "source": [
    "## 구글 검색엔진에서 검색어 결과 저장하기\n",
    "\n",
    "- 크롬웹브라우저가 실행된다.\n",
    "- 특정 url(google.com)로 이동한다\n",
    "- 검색어를 입력한다.\n",
    "- 검색어 결과 페이지에서 특정 요소를 접근한다.\n",
    "- 리스트에 저장한다.\n",
    "- 데이타프레임으로 변경한다.\n",
    "- csv 파일로 저장한다"
   ]
  },
  {
   "cell_type": "code",
   "execution_count": 5,
   "id": "88bd5098",
   "metadata": {},
   "outputs": [],
   "source": [
    "# 3) 지연시간 지정 후에 웹브라우저 주소로 이동\n",
    "# 지연시간 주기 time.sleep(시간)\n",
    "time.sleep(2)\n",
    "# 이동 URL\n",
    "url = 'http://www.google.com'\n",
    "# 드라이버객체명.get(이동URL)\n",
    "driver.get(url)"
   ]
  },
  {
   "cell_type": "markdown",
   "id": "a037d95b",
   "metadata": {},
   "source": [
    "## 셀레니움 메소드와 속성\n",
    "- 드라이버객체.find_element_by_name(name속성값) => 객체 1개\n",
    "\n",
    "name 값으로 요소 추출\n",
    "- 드라이버객체.find_element_by_css_selector(선택자) => 객체1개\n",
    "\n",
    "첫번째 선택자로 요소 추출(bs의 select_ont()과 동일\n",
    "- 드라이버객체.find_elements_by_css_selector(선택자) => 객체리스트\n",
    "\n",
    "bs의 select와 동일\n",
    "\n",
    "- 텍스트 접근\n",
    "\n",
    "text => 내용텍스트\n",
    "- 속성값 접근\n",
    "\n",
    "get_attribute(속성) => 속성값"
   ]
  },
  {
   "cell_type": "markdown",
   "id": "88ab75c2",
   "metadata": {},
   "source": [
    "### 이벤트(동작)\n",
    "4) 구글 검색창에 검색어를 입력하고 결과 페이지를 출력하기 \n",
    "\n",
    "find_element_by_name(name속성값)\n",
    "\n",
    "동작은?\n",
    "\n",
    "send_keys(키워드) : 텍스트필드에 값을 입력하는 이벤트 \n",
    "\n",
    "click() => 선택자 요소 클릭 \n",
    "\n",
    "submit() => 전송이벤트 "
   ]
  },
  {
   "cell_type": "raw",
   "id": "366e407b",
   "metadata": {},
   "source": [
    "# 검색창 소스\n",
    "# input 태그 = name 값은 q\n",
    "<input class=\"gLFyf gsfi\" jsaction=\"paste:puy29d;\" maxlength=\"2048\" name=\"q\" type=\"text\" aria-autocomplete=\"both\" aria-haspopup=\"false\" autocapitalize=\"off\" autocomplete=\"off\" autocorrect=\"off\" autofocus=\"\" role=\"combobox\" spellcheck=\"false\" title=\"검색\" value=\"\" aria-label=\"검색\" data-ved=\"0ahUKEwiL6ZH80I34AhUJD6YKHTGBBoYQ39UDCAY\">"
   ]
  },
  {
   "cell_type": "code",
   "execution_count": 6,
   "id": "06a6f53c",
   "metadata": {},
   "outputs": [],
   "source": [
    "# 4) 검색어 입력\n",
    "# 원격 크롬웹브라우저에 입력한 검색어 결과가 출력되어야 한다.\n",
    "\n",
    "time.sleep(2)\n",
    "\n",
    "# q는 입력창의 name 값 \n",
    "driver.find_element_by_name('q').send_keys('파이썬')\n",
    "driver.find_element_by_name('q').submit()"
   ]
  },
  {
   "cell_type": "code",
   "execution_count": 7,
   "id": "3fd77ac7",
   "metadata": {},
   "outputs": [
    {
     "name": "stdout",
     "output_type": "stream",
     "text": [
      "<selenium.webdriver.remote.webelement.WebElement (session=\"07bec463fa8ab97d5006a4fad3bbf80a\", element=\"8c503125-280b-47d6-b669-5d967fc9403d\")>\n",
      "==================================================\n",
      "7\n",
      "[<selenium.webdriver.remote.webelement.WebElement (session=\"07bec463fa8ab97d5006a4fad3bbf80a\", element=\"8c503125-280b-47d6-b669-5d967fc9403d\")>, <selenium.webdriver.remote.webelement.WebElement (session=\"07bec463fa8ab97d5006a4fad3bbf80a\", element=\"3984befd-d6a3-46e1-97a0-3ab5264a486b\")>, <selenium.webdriver.remote.webelement.WebElement (session=\"07bec463fa8ab97d5006a4fad3bbf80a\", element=\"d87c7be7-ab36-46ba-95ce-e4f0be1d48a7\")>, <selenium.webdriver.remote.webelement.WebElement (session=\"07bec463fa8ab97d5006a4fad3bbf80a\", element=\"18e154ec-72f0-4efe-aee0-2c487d33f1f0\")>, <selenium.webdriver.remote.webelement.WebElement (session=\"07bec463fa8ab97d5006a4fad3bbf80a\", element=\"117b8845-aab5-49f6-bba0-296875f7b06d\")>, <selenium.webdriver.remote.webelement.WebElement (session=\"07bec463fa8ab97d5006a4fad3bbf80a\", element=\"8ab6566d-0a56-43aa-9cd0-a92810068155\")>, <selenium.webdriver.remote.webelement.WebElement (session=\"07bec463fa8ab97d5006a4fad3bbf80a\", element=\"6afa5015-1795-41fa-8f19-b5f301798585\")>]\n"
     ]
    }
   ],
   "source": [
    "# 5) 검색된 결과 페이지에서 제목, URL 정보 추출 \n",
    "\n",
    "# 첫번째 검색 결과에서 제목 부분\n",
    "# div.yuRUbf 태그 부분을 셀레니움 객체로 변환해서 변수로 저장 \n",
    "# 선택자를 가진 첫번째 요소 => 1개의 객체\n",
    "target1 = driver.find_element_by_css_selector('div.yuRUbf')\n",
    "# 선택자를 가진 모든 요소 => 리스트\n",
    "target2 = driver.find_elements_by_css_selector('div.yuRUbf')\n",
    "print(target1)\n",
    "print('='*50)\n",
    "print(len(target2))\n",
    "print(target2)"
   ]
  },
  {
   "cell_type": "code",
   "execution_count": 8,
   "id": "e8bc6307",
   "metadata": {},
   "outputs": [
    {
     "name": "stdout",
     "output_type": "stream",
     "text": [
      "<selenium.webdriver.remote.webelement.WebElement (session=\"07bec463fa8ab97d5006a4fad3bbf80a\", element=\"8c503125-280b-47d6-b669-5d967fc9403d\")>\n",
      "==================================================\n",
      "Welcome to Python.org\n",
      "https://www.python.org\n",
      "==================================================\n",
      "<selenium.webdriver.remote.webelement.WebElement (session=\"07bec463fa8ab97d5006a4fad3bbf80a\", element=\"1e52f061-9e52-4951-b96f-d35d64ca64fc\")>\n",
      "==================================================\n",
      "Welcome to Python.org\n",
      "==================================================\n",
      "None\n",
      "https://www.python.org/\n"
     ]
    }
   ],
   "source": [
    "# 한개의 객체에서 내용과 속성값 추출\n",
    "print(target1)\n",
    "print('='*50)\n",
    "print(target1.text)\n",
    "print('='*50)\n",
    "# h3 태그안의 텍스트만\n",
    "print(target1.find_element_by_css_selector('h3'))\n",
    "print('='*50)\n",
    "print(target1.find_element_by_css_selector('h3').text)\n",
    "# a 태그안의 href 속성값 추출\n",
    "print('='*50)\n",
    "print(target1.get_attribute('href'))\n",
    "print(target1.find_element_by_css_selector('a').get_attribute('href'))"
   ]
  },
  {
   "cell_type": "code",
   "execution_count": 9,
   "id": "108e3aa3",
   "metadata": {},
   "outputs": [
    {
     "name": "stdout",
     "output_type": "stream",
     "text": [
      "<class 'list'>\n",
      "제목 => Welcome to Python.org\n",
      "URL => https://www.python.org/\n",
      "==================================================\n",
      "제목 => 파이썬 - 위키백과, 우리 모두의 백과사전\n",
      "URL => https://ko.wikipedia.org/wiki/%ED%8C%8C%EC%9D%B4%EC%8D%AC\n",
      "==================================================\n",
      "제목 => 1. 파이썬 시작하기 - 왕초보를 위한 Python - 위키독스\n",
      "URL => https://wikidocs.net/43\n",
      "==================================================\n",
      "제목 => Python - 나무위키\n",
      "URL => https://namu.wiki/w/Python\n",
      "==================================================\n",
      "제목 => 파이썬(Python) 바로 알기 – 특징, 장점, 활용 사례 - 가비아 ...\n",
      "URL => https://library.gabia.com/contents/9256/\n",
      "==================================================\n",
      "제목 => 모두를 위한 프로그래밍 : 파이썬 강좌소개 - edwith\n",
      "URL => https://www.edwith.org/pythonforeverybody\n",
      "==================================================\n",
      "제목 => [미디어] 파이썬, 남들 다 한다고 시작하나요? 이럴 때 배우세요.\n",
      "URL => https://fastcampus.co.kr/story_article_pythontop3\n",
      "==================================================\n",
      "7\n"
     ]
    }
   ],
   "source": [
    "# 6) 리스트 객체에서 요소 추출 = 2차원 리스트 저장\n",
    "print(type(target2))\n",
    "# 출력만\n",
    "for div in target2:\n",
    "    print('제목 =>', div.find_element_by_css_selector('h3').text)\n",
    "    print('URL =>', div.find_element_by_css_selector('a').get_attribute('href'))\n",
    "    print('='*50)\n",
    "    \n",
    "# 리스트 생성 후 2차원 리스트로 저장\n",
    "result_list = []\n",
    "for div in target2:\n",
    "    title = div.find_element_by_css_selector('h3').text\n",
    "    URL = div.find_element_by_css_selector('a').get_attribute('href')\n",
    "    result_list.append([title, URL])\n",
    "print(len(result_list))"
   ]
  },
  {
   "cell_type": "code",
   "execution_count": 10,
   "id": "15b86ffa",
   "metadata": {
    "scrolled": true
   },
   "outputs": [
    {
     "data": {
      "text/html": [
       "<div>\n",
       "<style scoped>\n",
       "    .dataframe tbody tr th:only-of-type {\n",
       "        vertical-align: middle;\n",
       "    }\n",
       "\n",
       "    .dataframe tbody tr th {\n",
       "        vertical-align: top;\n",
       "    }\n",
       "\n",
       "    .dataframe thead th {\n",
       "        text-align: right;\n",
       "    }\n",
       "</style>\n",
       "<table border=\"1\" class=\"dataframe\">\n",
       "  <thead>\n",
       "    <tr style=\"text-align: right;\">\n",
       "      <th></th>\n",
       "      <th>제목</th>\n",
       "      <th>URL</th>\n",
       "    </tr>\n",
       "  </thead>\n",
       "  <tbody>\n",
       "    <tr>\n",
       "      <th>0</th>\n",
       "      <td>Welcome to Python.org</td>\n",
       "      <td>https://www.python.org/</td>\n",
       "    </tr>\n",
       "    <tr>\n",
       "      <th>1</th>\n",
       "      <td>파이썬 - 위키백과, 우리 모두의 백과사전</td>\n",
       "      <td>https://ko.wikipedia.org/wiki/%ED%8C%8C%EC%9D%...</td>\n",
       "    </tr>\n",
       "    <tr>\n",
       "      <th>2</th>\n",
       "      <td>1. 파이썬 시작하기 - 왕초보를 위한 Python - 위키독스</td>\n",
       "      <td>https://wikidocs.net/43</td>\n",
       "    </tr>\n",
       "    <tr>\n",
       "      <th>3</th>\n",
       "      <td>Python - 나무위키</td>\n",
       "      <td>https://namu.wiki/w/Python</td>\n",
       "    </tr>\n",
       "    <tr>\n",
       "      <th>4</th>\n",
       "      <td>파이썬(Python) 바로 알기 – 특징, 장점, 활용 사례 - 가비아 ...</td>\n",
       "      <td>https://library.gabia.com/contents/9256/</td>\n",
       "    </tr>\n",
       "    <tr>\n",
       "      <th>5</th>\n",
       "      <td>모두를 위한 프로그래밍 : 파이썬 강좌소개 - edwith</td>\n",
       "      <td>https://www.edwith.org/pythonforeverybody</td>\n",
       "    </tr>\n",
       "    <tr>\n",
       "      <th>6</th>\n",
       "      <td>[미디어] 파이썬, 남들 다 한다고 시작하나요? 이럴 때 배우세요.</td>\n",
       "      <td>https://fastcampus.co.kr/story_article_pythontop3</td>\n",
       "    </tr>\n",
       "  </tbody>\n",
       "</table>\n",
       "</div>"
      ],
      "text/plain": [
       "                                            제목  \\\n",
       "0                        Welcome to Python.org   \n",
       "1                      파이썬 - 위키백과, 우리 모두의 백과사전   \n",
       "2          1. 파이썬 시작하기 - 왕초보를 위한 Python - 위키독스   \n",
       "3                                Python - 나무위키   \n",
       "4  파이썬(Python) 바로 알기 – 특징, 장점, 활용 사례 - 가비아 ...   \n",
       "5             모두를 위한 프로그래밍 : 파이썬 강좌소개 - edwith   \n",
       "6        [미디어] 파이썬, 남들 다 한다고 시작하나요? 이럴 때 배우세요.   \n",
       "\n",
       "                                                 URL  \n",
       "0                            https://www.python.org/  \n",
       "1  https://ko.wikipedia.org/wiki/%ED%8C%8C%EC%9D%...  \n",
       "2                            https://wikidocs.net/43  \n",
       "3                         https://namu.wiki/w/Python  \n",
       "4           https://library.gabia.com/contents/9256/  \n",
       "5          https://www.edwith.org/pythonforeverybody  \n",
       "6  https://fastcampus.co.kr/story_article_pythontop3  "
      ]
     },
     "execution_count": 10,
     "metadata": {},
     "output_type": "execute_result"
    }
   ],
   "source": [
    "# 7) 데이타프레임으로 변경한 후 csv 파일로 저장\n",
    "df = pd.DataFrame(result_list, columns=['제목', 'URL'])\n",
    "df.to_csv('output/google_파이썬.csv', index=False)\n",
    "df"
   ]
  },
  {
   "cell_type": "markdown",
   "id": "6d601363",
   "metadata": {},
   "source": [
    "## 다음 페이지로 이동\n",
    "- 다음 페이지로 이동하는 [다음] 버튼 요소 소스 파악"
   ]
  },
  {
   "cell_type": "raw",
   "id": "122c853d",
   "metadata": {},
   "source": [
    "# 소스 파악\n",
    "a#pnnext > span {다음}"
   ]
  },
  {
   "cell_type": "code",
   "execution_count": 11,
   "id": "74f7dae7",
   "metadata": {},
   "outputs": [
    {
     "data": {
      "text/plain": [
       "<selenium.webdriver.remote.webelement.WebElement (session=\"07bec463fa8ab97d5006a4fad3bbf80a\", element=\"556b1be8-52d0-4dfb-9379-5c22abffa5dc\")>"
      ]
     },
     "execution_count": 11,
     "metadata": {},
     "output_type": "execute_result"
    }
   ],
   "source": [
    "target_next = driver.find_element_by_css_selector('a#pnnext')\n",
    "target_next"
   ]
  },
  {
   "cell_type": "code",
   "execution_count": 12,
   "id": "ad844a6c",
   "metadata": {},
   "outputs": [
    {
     "data": {
      "text/plain": [
       "'https://www.google.com/search?q=%ED%8C%8C%EC%9D%B4%EC%8D%AC&ei=XjWYYuDBD5nAoASohYfwBg&start=10&sa=N&ved=2ahUKEwjg6NWi8I34AhUZIIgKHajCAW4Q8NMDegQIAhBO'"
      ]
     },
     "execution_count": 12,
     "metadata": {},
     "output_type": "execute_result"
    }
   ],
   "source": [
    "# 다음 페이지 주소 추출\n",
    "target_next.get_attribute('href')"
   ]
  },
  {
   "cell_type": "code",
   "execution_count": 13,
   "id": "873cc02c",
   "metadata": {},
   "outputs": [],
   "source": [
    "# [다음] 버튼 클릭\n",
    "time.sleep(2)\n",
    "target_next = driver.find_element_by_css_selector('a#pnnext')\n",
    "target_next.click()"
   ]
  },
  {
   "cell_type": "raw",
   "id": "910a2c16",
   "metadata": {},
   "source": [
    "전체 검색 결과 저장하기\n",
    "\n",
    "1) 관련 모듈 임포트\n",
    "2) 드라이버객체 생성 => 크롬웹브라우저 실행\n",
    "3) 구글 사이트로 이동\n",
    "4) 검색어 입력 후 검색 결과 페이지로 이동\n",
    "5) 셀레니움 메서드를 이용하여 추출 영역 부분을 변수로 저장 => 셀레니움 리스트\n",
    "6) 5번에서 제목, url 정보를 추출하여 리스트에 저장\n",
    "7) 다음 페이지로 이동하는 버튼 부분을 추출. click() 이벤트로 다음 페이지로 이동\n",
    "8) 5~7번 과정 반복. 맨 마지막 페이지라면 제어문 밖으로 이동해서 최종 결과 출력"
   ]
  },
  {
   "cell_type": "code",
   "execution_count": 15,
   "id": "8cf2ecb7",
   "metadata": {},
   "outputs": [],
   "source": [
    "# 2) 셀레니움 드라이버 객체 생성 후 웹브라우저 구동 \n",
    "driver = webdriver.Chrome('chromedriver.exe')\n",
    "\n",
    "# 3) 지연시간 지정 후에 웹브라우저 주소로 이동\n",
    "# 지연시간 주기 time.sleep(시간)\n",
    "time.sleep(2)\n",
    "# 이동 URL\n",
    "url = 'http://www.google.com'\n",
    "# 드라이버객체명.get(이동URL)\n",
    "driver.get(url)\n",
    "\n",
    "# 4) 검색어 입력\n",
    "# 원격 크롬웹브라우저에 입력한 검색어 결과가 출력되어야 한다.\n",
    "time.sleep(2)\n",
    "# q는 입력창의 name 값 \n",
    "driver.find_element_by_name('q').send_keys('파이썬')\n",
    "driver.find_element_by_name('q').submit()"
   ]
  },
  {
   "cell_type": "code",
   "execution_count": 16,
   "id": "5a9d915b",
   "metadata": {},
   "outputs": [],
   "source": [
    "# 5) 전체 페이지 저장\n",
    "# 빈리스트 생성\n",
    "# while True 구문을 이용해서 전체페이지에서 데이터 추출\n",
    "# 마지막페이지는 [다음] 버튼이 없음"
   ]
  },
  {
   "cell_type": "code",
   "execution_count": 20,
   "id": "7905eddd",
   "metadata": {},
   "outputs": [
    {
     "name": "stdout",
     "output_type": "stream",
     "text": [
      "1 페이지\n",
      "2 페이지\n",
      "3 페이지\n",
      "4 페이지\n",
      "5 페이지\n",
      "6 페이지\n",
      "7 페이지\n",
      "8 페이지\n",
      "9 페이지\n",
      "10 페이지\n",
      "11 페이지\n",
      "12 페이지\n",
      "마지막 페이지\n"
     ]
    }
   ],
   "source": [
    "# 전체 페이지 번호만 출력하기\n",
    "page = 1\n",
    "while True:\n",
    "    print(page, '페이지')\n",
    "    # 다음 버튼 요소 추출\n",
    "    time.sleep(2)\n",
    "    try:\n",
    "        target_next = driver.find_element_by_css_selector('a#pnnext')\n",
    "        target_next\n",
    "        target_next.click()\n",
    "        time.sleep(2)\n",
    "        #페이지 번호 증가\n",
    "        page += 1\n",
    "    except:\n",
    "        time.sleep(1)\n",
    "        print('마지막 페이지')\n",
    "        break"
   ]
  },
  {
   "cell_type": "raw",
   "id": "edac9f32",
   "metadata": {},
   "source": [
    "# 전체 페이지 순회하면서 2차원 데이터로 저장\n",
    "page = 1\n",
    "# 빈 리스트 생성\n",
    "result_list = []\n",
    "while True:\n",
    "    print(page, '페이지')\n",
    "    # 선택자를 가진 모든 요소 => 리스트\n",
    "    target_list = driver.find_element_by_css_selector('div.yuRUbf')\n",
    "    \n",
    "    for div in target_list:\n",
    "        title = div.find_element_by_css_selector('h3').text\n",
    "        URL = div.find_element_by_css_selector('a').get_attribute('href')\n",
    "        result_list.append([title, URL])\n",
    "    time.sleep(2)\n",
    "    try:\n",
    "        target_next = driver.find_element_by_css_selector('a#pnnext')\n",
    "        target_next\n",
    "        target_next.click()\n",
    "        time.sleep(2)\n",
    "        #페이지 번호 증가\n",
    "        page += 1\n",
    "    except:\n",
    "        time.sleep(1)\n",
    "        print('마지막 페이지')\n",
    "        break"
   ]
  },
  {
   "cell_type": "code",
   "execution_count": 24,
   "id": "63827139",
   "metadata": {},
   "outputs": [
    {
     "name": "stdout",
     "output_type": "stream",
     "text": [
      "1 페이지\n",
      "2 페이지\n",
      "3 페이지\n",
      "4 페이지\n",
      "5 페이지\n",
      "6 페이지\n",
      "7 페이지\n",
      "8 페이지\n",
      "9 페이지\n",
      "10 페이지\n",
      "11 페이지\n",
      "12 페이지\n",
      "마지막 페이지\n"
     ]
    }
   ],
   "source": [
    "#  전체 페이지를 순회하면서 2차원 리스트로 저장 \n",
    "page = 1\n",
    "# 빈 리스트 생성 \n",
    "result_list = []\n",
    "while True:\n",
    "    print(page, '페이지')\n",
    "    time.sleep(2)\n",
    "    # 선택자를 가진 모든 요소  => 리스트 \n",
    "    target_list = driver.find_elements_by_css_selector('div.yuRUbf')\n",
    "    \n",
    "    for div in target_list:\n",
    "        title = div.find_element_by_css_selector('h3').text\n",
    "        url = div.find_element_by_css_selector('a').get_attribute('href')\n",
    "        result_list.append([title, url])\n",
    "    time.sleep(2)\n",
    "    \n",
    "    try:\n",
    "        # 다음 버튼 요소 추출 \n",
    "        target_next = driver.find_element_by_css_selector('a#pnnext')\n",
    "        target_next.click()\n",
    "        time.sleep(2)\n",
    "        # 페이지 번호 증가 \n",
    "        page += 1\n",
    "    except:\n",
    "        time.sleep(1)\n",
    "        print('마지막 페이지')\n",
    "        break"
   ]
  },
  {
   "cell_type": "code",
   "execution_count": 25,
   "id": "e64e535b",
   "metadata": {},
   "outputs": [
    {
     "data": {
      "text/html": [
       "<div>\n",
       "<style scoped>\n",
       "    .dataframe tbody tr th:only-of-type {\n",
       "        vertical-align: middle;\n",
       "    }\n",
       "\n",
       "    .dataframe tbody tr th {\n",
       "        vertical-align: top;\n",
       "    }\n",
       "\n",
       "    .dataframe thead th {\n",
       "        text-align: right;\n",
       "    }\n",
       "</style>\n",
       "<table border=\"1\" class=\"dataframe\">\n",
       "  <thead>\n",
       "    <tr style=\"text-align: right;\">\n",
       "      <th></th>\n",
       "      <th>제목</th>\n",
       "      <th>URL</th>\n",
       "    </tr>\n",
       "  </thead>\n",
       "  <tbody>\n",
       "    <tr>\n",
       "      <th>0</th>\n",
       "      <td>Welcome to Python.org</td>\n",
       "      <td>https://www.python.org/</td>\n",
       "    </tr>\n",
       "    <tr>\n",
       "      <th>1</th>\n",
       "      <td>파이썬 - 위키백과, 우리 모두의 백과사전</td>\n",
       "      <td>https://ko.wikipedia.org/wiki/%ED%8C%8C%EC%9D%...</td>\n",
       "    </tr>\n",
       "    <tr>\n",
       "      <th>2</th>\n",
       "      <td>1. 파이썬 시작하기 - 왕초보를 위한 Python - 위키독스</td>\n",
       "      <td>https://wikidocs.net/43</td>\n",
       "    </tr>\n",
       "    <tr>\n",
       "      <th>3</th>\n",
       "      <td>Python - 나무위키</td>\n",
       "      <td>https://namu.wiki/w/Python</td>\n",
       "    </tr>\n",
       "    <tr>\n",
       "      <th>4</th>\n",
       "      <td>모두를 위한 프로그래밍 : 파이썬 강좌소개 - edwith</td>\n",
       "      <td>https://www.edwith.org/pythonforeverybody</td>\n",
       "    </tr>\n",
       "    <tr>\n",
       "      <th>...</th>\n",
       "      <td>...</td>\n",
       "      <td>...</td>\n",
       "    </tr>\n",
       "    <tr>\n",
       "      <th>112</th>\n",
       "      <td>Executing multiple functions simultaneously - ...</td>\n",
       "      <td>https://stackoverflow.com/questions/18864859/e...</td>\n",
       "    </tr>\n",
       "    <tr>\n",
       "      <th>113</th>\n",
       "      <td>Atomic Simulation Environment — ASE documentation</td>\n",
       "      <td>https://wiki.fysik.dtu.dk/ase/</td>\n",
       "    </tr>\n",
       "    <tr>\n",
       "      <th>114</th>\n",
       "      <td>Ternary Operator in Python - GeeksforGeeks</td>\n",
       "      <td>https://www.geeksforgeeks.org/data-types/</td>\n",
       "    </tr>\n",
       "    <tr>\n",
       "      <th>115</th>\n",
       "      <td>Solo Learn (Python) - Courses | Sololearn</td>\n",
       "      <td>https://www.sololearn.com/learning/1073</td>\n",
       "    </tr>\n",
       "    <tr>\n",
       "      <th>116</th>\n",
       "      <td>2021년 상위 10개 프로그래밍 언어 - Laptop28</td>\n",
       "      <td>https://laptop28.com/ko/2021%EB%85%84-%EC%83%8...</td>\n",
       "    </tr>\n",
       "  </tbody>\n",
       "</table>\n",
       "<p>117 rows × 2 columns</p>\n",
       "</div>"
      ],
      "text/plain": [
       "                                                    제목  \\\n",
       "0                                Welcome to Python.org   \n",
       "1                              파이썬 - 위키백과, 우리 모두의 백과사전   \n",
       "2                  1. 파이썬 시작하기 - 왕초보를 위한 Python - 위키독스   \n",
       "3                                        Python - 나무위키   \n",
       "4                     모두를 위한 프로그래밍 : 파이썬 강좌소개 - edwith   \n",
       "..                                                 ...   \n",
       "112  Executing multiple functions simultaneously - ...   \n",
       "113  Atomic Simulation Environment — ASE documentation   \n",
       "114         Ternary Operator in Python - GeeksforGeeks   \n",
       "115          Solo Learn (Python) - Courses | Sololearn   \n",
       "116                   2021년 상위 10개 프로그래밍 언어 - Laptop28   \n",
       "\n",
       "                                                   URL  \n",
       "0                              https://www.python.org/  \n",
       "1    https://ko.wikipedia.org/wiki/%ED%8C%8C%EC%9D%...  \n",
       "2                              https://wikidocs.net/43  \n",
       "3                           https://namu.wiki/w/Python  \n",
       "4            https://www.edwith.org/pythonforeverybody  \n",
       "..                                                 ...  \n",
       "112  https://stackoverflow.com/questions/18864859/e...  \n",
       "113                     https://wiki.fysik.dtu.dk/ase/  \n",
       "114          https://www.geeksforgeeks.org/data-types/  \n",
       "115            https://www.sololearn.com/learning/1073  \n",
       "116  https://laptop28.com/ko/2021%EB%85%84-%EC%83%8...  \n",
       "\n",
       "[117 rows x 2 columns]"
      ]
     },
     "execution_count": 25,
     "metadata": {},
     "output_type": "execute_result"
    }
   ],
   "source": [
    "# 7) 데이타프레임으로 변경한 후 csv 파일로 저장\n",
    "df = pd.DataFrame(result_list, columns=['제목', 'URL'])\n",
    "df.to_csv('output/google_파이썬2.csv', index=False)\n",
    "df"
   ]
  },
  {
   "cell_type": "code",
   "execution_count": null,
   "id": "cac5c597",
   "metadata": {},
   "outputs": [],
   "source": []
  },
  {
   "cell_type": "code",
   "execution_count": null,
   "id": "7ca35400",
   "metadata": {},
   "outputs": [],
   "source": []
  }
 ],
 "metadata": {
  "kernelspec": {
   "display_name": "Python 3 (ipykernel)",
   "language": "python",
   "name": "python3"
  },
  "language_info": {
   "codemirror_mode": {
    "name": "ipython",
    "version": 3
   },
   "file_extension": ".py",
   "mimetype": "text/x-python",
   "name": "python",
   "nbconvert_exporter": "python",
   "pygments_lexer": "ipython3",
   "version": "3.9.12"
  }
 },
 "nbformat": 4,
 "nbformat_minor": 5
}
