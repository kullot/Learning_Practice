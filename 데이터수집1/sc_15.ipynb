{
 "cells": [
  {
   "cell_type": "code",
   "execution_count": 2,
   "id": "20aa9347",
   "metadata": {
    "scrolled": true
   },
   "outputs": [
    {
     "data": {
      "text/html": [
       "<style>.container { font-weight: bold !important; }</style>"
      ],
      "text/plain": [
       "<IPython.core.display.HTML object>"
      ]
     },
     "metadata": {},
     "output_type": "display_data"
    },
    {
     "data": {
      "text/html": [
       "<style>.container { width: 100% !important; }</style>"
      ],
      "text/plain": [
       "<IPython.core.display.HTML object>"
      ]
     },
     "metadata": {},
     "output_type": "display_data"
    }
   ],
   "source": [
    "# 쥬피터노트북 셀 스타일 조절 \n",
    "from IPython.core.display import display, HTML\n",
    "display(HTML(\"<style>.container { font-weight: bold !important; }</style>\"))\n",
    "display(HTML(\"<style>.container { width: 100% !important; }</style>\"))\n",
    "\n",
    "# 경고 메세지 숨기기 \n",
    "import warnings\n",
    "warnings.filterwarnings(action='ignore')\n",
    "\n",
    "\n",
    "# 0) 관련 모듈 임포트 \n",
    "import requests\n",
    "from bs4 import BeautifulSoup\n",
    "import pandas as pd"
   ]
  },
  {
   "cell_type": "markdown",
   "id": "90c51a4e",
   "metadata": {},
   "source": [
    "### 공공데이터활용지원센터_보건복지부 코로나19 감염 현황\n",
    "- 코로나19감염증으로 인한 일별 확진자, 완치자, 치료중인환자, 사망자등에 대한 현황자료\n",
    "- https://www.data.go.kr/tcs/dss/selectApiDataDetailView.do?publicDataPk=15043376\n",
    "- [활용신청] 클릭후 서비스키 정보 확인 [마이페이지]-[오픈 API]-[개발 계정]\n",
    "\n",
    "일반 인증키 (Encoding)                \n",
    "W7qHt8KLRZawPAd%2BiTUo1nt2EcSMgHwbxxMGhnKn3wfwLcwrVnHHmaVbPIi%2BgecqaouM%2ByjaLydMoXwiJm%2BMjQ%3D%3D\n",
    "\n",
    "일반 인증키(Decoding)    \n",
    "W7qHt8KLRZawPAd+iTUo1nt2EcSMgHwbxxMGhnKn3wfwLcwrVnHHmaVbPIi+gecqaouM+yjaLydMoXwiJm+MjQ=="
   ]
  },
  {
   "cell_type": "code",
   "execution_count": 17,
   "id": "5fcb7c06",
   "metadata": {},
   "outputs": [
    {
     "data": {
      "text/plain": [
       "<?xml version=\"1.0\" encoding=\"utf-8\"?>\n",
       "<response><header><resultCode>00</resultCode><resultMsg>NORMAL SERVICE.</resultMsg></header><body><items><item><createDt>2022-05-31 08:55:39.977</createDt><deathCnt>24176</deathCnt><decideCnt>18103577</decideCnt><seq>896</seq><stateDt>20220531</stateDt><stateTime>00:00</stateTime><updateDt>2022-06-04 08:59:23.637</updateDt></item><item><createDt>2022-05-30 09:01:30.847</createDt><deathCnt>24167</deathCnt><decideCnt>18086392</decideCnt><seq>895</seq><stateDt>20220530</stateDt><stateTime>00:00</stateTime><updateDt>2022-06-04 08:59:37.203</updateDt></item><item><createDt>2022-05-29 09:05:28.382</createDt><deathCnt>24158</deathCnt><decideCnt>18080257</decideCnt><seq>894</seq><stateDt>20220529</stateDt><stateTime>00:00</stateTime><updateDt>2022-06-04 08:59:51.863</updateDt></item><item><createDt>2022-05-28 09:09:18.909</createDt><deathCnt>24139</deathCnt><decideCnt>18067610</decideCnt><seq>893</seq><stateDt>20220528</stateDt><stateTime>00:00</stateTime><updateDt>2022-06-04 09:00:06.316</updateDt></item><item><createDt>2022-05-27 09:03:34.444</createDt><deathCnt>24103</deathCnt><decideCnt>18053236</decideCnt><seq>892</seq><stateDt>20220527</stateDt><stateTime>00:00</stateTime><updateDt>2022-06-03 09:11:10.578</updateDt></item><item><createDt>2022-05-26 09:13:37.732</createDt><deathCnt>24063</deathCnt><decideCnt>18036664</decideCnt><seq>891</seq><stateDt>20220526</stateDt><stateTime>00:00</stateTime><updateDt>2022-06-01 09:08:19.164</updateDt></item><item><createDt>2022-05-25 09:02:44.294</createDt><deathCnt>24029</deathCnt><decideCnt>18017859</decideCnt><seq>890</seq><stateDt>20220525</stateDt><stateTime>00:00</stateTime><updateDt>2022-06-01 09:08:25.254</updateDt></item><item><createDt>2022-05-24 08:49:38.261</createDt><deathCnt>24006</deathCnt><decideCnt>17993923</decideCnt><seq>889</seq><stateDt>20220524</stateDt><stateTime>00:00</stateTime><updateDt>2022-05-31 08:58:44.451</updateDt></item><item><createDt>2022-05-23 08:56:56.412</createDt><deathCnt>23987</deathCnt><decideCnt>17967592</decideCnt><seq>888</seq><stateDt>20220523</stateDt><stateTime>00:00</stateTime><updateDt>2022-05-28 09:10:13.674</updateDt></item><item><createDt>2022-05-22 07:52:40.527</createDt><deathCnt>23965</deathCnt><decideCnt>17957621</decideCnt><seq>887</seq><stateDt>20220522</stateDt><stateTime>00:00</stateTime><updateDt>2022-05-28 09:10:20.33</updateDt></item><item><createDt>2022-05-21 08:39:51.786</createDt><deathCnt>23911</deathCnt><decideCnt>17938332</decideCnt><seq>886</seq><stateDt>20220521</stateDt><stateTime>00:00</stateTime><updateDt>2022-05-28 09:10:27.211</updateDt></item><item><createDt>2022-05-20 09:02:54.987</createDt><deathCnt>23885</deathCnt><decideCnt>17914882</decideCnt><seq>885</seq><stateDt>20220520</stateDt><stateTime>00:00</stateTime><updateDt>2022-05-27 09:04:41.621</updateDt></item><item><createDt>2022-05-19 09:07:11.841</createDt><deathCnt>23842</deathCnt><decideCnt>17889769</decideCnt><seq>884</seq><stateDt>20220519</stateDt><stateTime>00:00</stateTime><updateDt>2022-05-26 09:16:54.036</updateDt></item><item><createDt>2022-05-18 08:58:30.377</createDt><deathCnt>23802</deathCnt><decideCnt>17861660</decideCnt><seq>883</seq><stateDt>20220518</stateDt><stateTime>00:00</stateTime><updateDt>2022-05-25 09:05:49.683</updateDt></item><item><createDt>2022-05-17 09:04:52.287</createDt><deathCnt>23771</deathCnt><decideCnt>17830327</decideCnt><seq>882</seq><stateDt>20220517</stateDt><stateTime>00:00</stateTime><updateDt>2022-05-24 09:18:48.656</updateDt></item><item><createDt>2022-05-16 09:04:43.174</createDt><deathCnt>23744</deathCnt><decideCnt>17795242</decideCnt><seq>881</seq><stateDt>20220516</stateDt><stateTime>00:00</stateTime><updateDt>2022-05-21 08:47:40.875</updateDt></item><item><createDt>2022-05-15 09:27:15.538</createDt><deathCnt>23709</deathCnt><decideCnt>17781952</decideCnt><seq>880</seq><stateDt>20220515</stateDt><stateTime>00:00</stateTime><updateDt>2022-05-21 08:47:54.484</updateDt></item></items><numOfRows>10</numOfRows><pageNo>1</pageNo><totalCount>17</totalCount></body></response>"
      ]
     },
     "execution_count": 17,
     "metadata": {},
     "output_type": "execute_result"
    }
   ],
   "source": [
    "# 2) API 신청 => xml 텍스트 데이타\n",
    "\n",
    "url = 'http://openapi.data.go.kr/openapi/service/rest/Covid19/getCovid19InfStateJson'\n",
    "serviceKey = 'Yhq6n9vlpaKZsCOw0jec8zIdZ8p+Bpuku6WLjVgDhqXRW6dHnfXoauSEj19jpnjv59CUGspyTxVCgCeXOua7dg=='\n",
    "# params ={'serviceKey' : '서비스키', 'pageNo' : '1', 'numOfRows' : '10', 'startCreateDt' : '20200310', 'endCreateDt' : '20200414' }\n",
    "params ={'serviceKey' : serviceKey,\n",
    "         'pageNo' : '1', \n",
    "         'numOfRows' : '10', \n",
    "         'startCreateDt' : '20220515', \n",
    "         'endCreateDt' : '20220531' }\n",
    "\n",
    "response = requests.get(url, params=params)\n",
    "# print(response.content)\n",
    "xml_str = response.text\n",
    "# xml_str\n",
    "soup = BeautifulSoup(xml_str, 'xml')\n",
    "soup"
   ]
  },
  {
   "cell_type": "code",
   "execution_count": 19,
   "id": "e0ffb43b",
   "metadata": {
    "scrolled": true
   },
   "outputs": [
    {
     "data": {
      "text/plain": [
       "17"
      ]
     },
     "execution_count": 19,
     "metadata": {},
     "output_type": "execute_result"
    }
   ],
   "source": [
    "# 3) 소스파악 및 타겟리스트 설정\n",
    "# items > item ...\n",
    "target_list = soup.find_all('item')\n",
    "len(target_list)\n",
    "\n"
   ]
  },
  {
   "cell_type": "code",
   "execution_count": 20,
   "id": "c9994bd7",
   "metadata": {},
   "outputs": [
    {
     "data": {
      "text/plain": [
       "<item><createDt>2022-05-31 08:55:39.977</createDt><deathCnt>24176</deathCnt><decideCnt>18103577</decideCnt><seq>896</seq><stateDt>20220531</stateDt><stateTime>00:00</stateTime><updateDt>2022-06-04 08:59:23.637</updateDt></item>"
      ]
     },
     "execution_count": 20,
     "metadata": {},
     "output_type": "execute_result"
    }
   ],
   "source": [
    "target_list[0]"
   ]
  },
  {
   "cell_type": "code",
   "execution_count": 21,
   "id": "15e9eca4",
   "metadata": {
    "scrolled": true
   },
   "outputs": [
    {
     "data": {
      "text/plain": [
       "<item><createDt>2022-05-15 09:27:15.538</createDt><deathCnt>23709</deathCnt><decideCnt>17781952</decideCnt><seq>880</seq><stateDt>20220515</stateDt><stateTime>00:00</stateTime><updateDt>2022-05-21 08:47:54.484</updateDt></item>"
      ]
     },
     "execution_count": 21,
     "metadata": {},
     "output_type": "execute_result"
    }
   ],
   "source": [
    "target_list[-1]"
   ]
  },
  {
   "cell_type": "code",
   "execution_count": 29,
   "id": "1b46fdaf",
   "metadata": {},
   "outputs": [
    {
     "name": "stdout",
     "output_type": "stream",
     "text": [
      "2022-05-31 08:55:39.977 24176 18103577\n",
      "2022-05-30 09:01:30.847 24167 18086392\n",
      "2022-05-29 09:05:28.382 24158 18080257\n",
      "2022-05-28 09:09:18.909 24139 18067610\n",
      "2022-05-27 09:03:34.444 24103 18053236\n",
      "2022-05-26 09:13:37.732 24063 18036664\n",
      "2022-05-25 09:02:44.294 24029 18017859\n",
      "2022-05-24 08:49:38.261 24006 17993923\n",
      "2022-05-23 08:56:56.412 23987 17967592\n",
      "2022-05-22 07:52:40.527 23965 17957621\n",
      "2022-05-21 08:39:51.786 23911 17938332\n",
      "2022-05-20 09:02:54.987 23885 17914882\n",
      "2022-05-19 09:07:11.841 23842 17889769\n",
      "2022-05-18 08:58:30.377 23802 17861660\n",
      "2022-05-17 09:04:52.287 23771 17830327\n",
      "2022-05-16 09:04:43.174 23744 17795242\n",
      "2022-05-15 09:27:15.538 23709 17781952\n"
     ]
    },
    {
     "data": {
      "text/html": [
       "<div>\n",
       "<style scoped>\n",
       "    .dataframe tbody tr th:only-of-type {\n",
       "        vertical-align: middle;\n",
       "    }\n",
       "\n",
       "    .dataframe tbody tr th {\n",
       "        vertical-align: top;\n",
       "    }\n",
       "\n",
       "    .dataframe thead th {\n",
       "        text-align: right;\n",
       "    }\n",
       "</style>\n",
       "<table border=\"1\" class=\"dataframe\">\n",
       "  <thead>\n",
       "    <tr style=\"text-align: right;\">\n",
       "      <th></th>\n",
       "      <th>등록날짜</th>\n",
       "      <th>사망자수</th>\n",
       "      <th>확진자수</th>\n",
       "    </tr>\n",
       "  </thead>\n",
       "  <tbody>\n",
       "    <tr>\n",
       "      <th>0</th>\n",
       "      <td>2022-05-31 08:55:39.977</td>\n",
       "      <td>24176</td>\n",
       "      <td>18103577</td>\n",
       "    </tr>\n",
       "    <tr>\n",
       "      <th>1</th>\n",
       "      <td>2022-05-30 09:01:30.847</td>\n",
       "      <td>24167</td>\n",
       "      <td>18086392</td>\n",
       "    </tr>\n",
       "    <tr>\n",
       "      <th>2</th>\n",
       "      <td>2022-05-29 09:05:28.382</td>\n",
       "      <td>24158</td>\n",
       "      <td>18080257</td>\n",
       "    </tr>\n",
       "    <tr>\n",
       "      <th>3</th>\n",
       "      <td>2022-05-28 09:09:18.909</td>\n",
       "      <td>24139</td>\n",
       "      <td>18067610</td>\n",
       "    </tr>\n",
       "    <tr>\n",
       "      <th>4</th>\n",
       "      <td>2022-05-27 09:03:34.444</td>\n",
       "      <td>24103</td>\n",
       "      <td>18053236</td>\n",
       "    </tr>\n",
       "    <tr>\n",
       "      <th>5</th>\n",
       "      <td>2022-05-26 09:13:37.732</td>\n",
       "      <td>24063</td>\n",
       "      <td>18036664</td>\n",
       "    </tr>\n",
       "    <tr>\n",
       "      <th>6</th>\n",
       "      <td>2022-05-25 09:02:44.294</td>\n",
       "      <td>24029</td>\n",
       "      <td>18017859</td>\n",
       "    </tr>\n",
       "    <tr>\n",
       "      <th>7</th>\n",
       "      <td>2022-05-24 08:49:38.261</td>\n",
       "      <td>24006</td>\n",
       "      <td>17993923</td>\n",
       "    </tr>\n",
       "    <tr>\n",
       "      <th>8</th>\n",
       "      <td>2022-05-23 08:56:56.412</td>\n",
       "      <td>23987</td>\n",
       "      <td>17967592</td>\n",
       "    </tr>\n",
       "    <tr>\n",
       "      <th>9</th>\n",
       "      <td>2022-05-22 07:52:40.527</td>\n",
       "      <td>23965</td>\n",
       "      <td>17957621</td>\n",
       "    </tr>\n",
       "    <tr>\n",
       "      <th>10</th>\n",
       "      <td>2022-05-21 08:39:51.786</td>\n",
       "      <td>23911</td>\n",
       "      <td>17938332</td>\n",
       "    </tr>\n",
       "    <tr>\n",
       "      <th>11</th>\n",
       "      <td>2022-05-20 09:02:54.987</td>\n",
       "      <td>23885</td>\n",
       "      <td>17914882</td>\n",
       "    </tr>\n",
       "    <tr>\n",
       "      <th>12</th>\n",
       "      <td>2022-05-19 09:07:11.841</td>\n",
       "      <td>23842</td>\n",
       "      <td>17889769</td>\n",
       "    </tr>\n",
       "    <tr>\n",
       "      <th>13</th>\n",
       "      <td>2022-05-18 08:58:30.377</td>\n",
       "      <td>23802</td>\n",
       "      <td>17861660</td>\n",
       "    </tr>\n",
       "    <tr>\n",
       "      <th>14</th>\n",
       "      <td>2022-05-17 09:04:52.287</td>\n",
       "      <td>23771</td>\n",
       "      <td>17830327</td>\n",
       "    </tr>\n",
       "    <tr>\n",
       "      <th>15</th>\n",
       "      <td>2022-05-16 09:04:43.174</td>\n",
       "      <td>23744</td>\n",
       "      <td>17795242</td>\n",
       "    </tr>\n",
       "    <tr>\n",
       "      <th>16</th>\n",
       "      <td>2022-05-15 09:27:15.538</td>\n",
       "      <td>23709</td>\n",
       "      <td>17781952</td>\n",
       "    </tr>\n",
       "  </tbody>\n",
       "</table>\n",
       "</div>"
      ],
      "text/plain": [
       "                       등록날짜   사망자수      확진자수\n",
       "0   2022-05-31 08:55:39.977  24176  18103577\n",
       "1   2022-05-30 09:01:30.847  24167  18086392\n",
       "2   2022-05-29 09:05:28.382  24158  18080257\n",
       "3   2022-05-28 09:09:18.909  24139  18067610\n",
       "4   2022-05-27 09:03:34.444  24103  18053236\n",
       "5   2022-05-26 09:13:37.732  24063  18036664\n",
       "6   2022-05-25 09:02:44.294  24029  18017859\n",
       "7   2022-05-24 08:49:38.261  24006  17993923\n",
       "8   2022-05-23 08:56:56.412  23987  17967592\n",
       "9   2022-05-22 07:52:40.527  23965  17957621\n",
       "10  2022-05-21 08:39:51.786  23911  17938332\n",
       "11  2022-05-20 09:02:54.987  23885  17914882\n",
       "12  2022-05-19 09:07:11.841  23842  17889769\n",
       "13  2022-05-18 08:58:30.377  23802  17861660\n",
       "14  2022-05-17 09:04:52.287  23771  17830327\n",
       "15  2022-05-16 09:04:43.174  23744  17795242\n",
       "16  2022-05-15 09:27:15.538  23709  17781952"
      ]
     },
     "execution_count": 29,
     "metadata": {},
     "output_type": "execute_result"
    }
   ],
   "source": [
    "# 4) 2차원 리스트 => 데이타프레임\n",
    "# 등록일시분초 createdt\n",
    "# 사망자 수 deathCnt\n",
    "# 확진자 수 decideCnt\n",
    "# 기준일 statedt\n",
    "# 기준시간 statetime\n",
    "# 수정일시분초 updateDt \n",
    "\n",
    "covid_list = []\n",
    "for item in target_list:\n",
    "    createDt = item.createDt.text\n",
    "    deathCnt = item.deathCnt.text\n",
    "    decideCnt = item.decideCnt.text\n",
    "    print(createDt, deathCnt, decideCnt)\n",
    "    covid_list.append([createDt, deathCnt, decideCnt])\n",
    "df = pd.DataFrame(covid_list, columns=['등록날짜', '사망자수', '확진자수'])\n",
    "df"
   ]
  }
 ],
 "metadata": {
  "kernelspec": {
   "display_name": "Python 3 (ipykernel)",
   "language": "python",
   "name": "python3"
  },
  "language_info": {
   "codemirror_mode": {
    "name": "ipython",
    "version": 3
   },
   "file_extension": ".py",
   "mimetype": "text/x-python",
   "name": "python",
   "nbconvert_exporter": "python",
   "pygments_lexer": "ipython3",
   "version": "3.9.12"
  }
 },
 "nbformat": 4,
 "nbformat_minor": 5
}
