{
 "cells": [
  {
   "cell_type": "code",
   "execution_count": 4,
   "id": "28400be1",
   "metadata": {},
   "outputs": [
    {
     "data": {
      "text/html": [
       "<style>.container { font-weight: bold !important; }</style>"
      ],
      "text/plain": [
       "<IPython.core.display.HTML object>"
      ]
     },
     "metadata": {},
     "output_type": "display_data"
    },
    {
     "data": {
      "text/html": [
       "<style>.container { width: 100% !important; }</style>"
      ],
      "text/plain": [
       "<IPython.core.display.HTML object>"
      ]
     },
     "metadata": {},
     "output_type": "display_data"
    }
   ],
   "source": [
    "# 쥬피터노트북 셀 스타일 조절 \n",
    "from IPython.core.display import display, HTML\n",
    "display(HTML(\"<style>.container { font-weight: bold !important; }</style>\"))\n",
    "display(HTML(\"<style>.container { width: 100% !important; }</style>\"))\n",
    "\n",
    "# 경고 메세지 숨기기 \n",
    "import warnings\n",
    "warnings.filterwarnings(action='ignore')"
   ]
  },
  {
   "cell_type": "code",
   "execution_count": 1,
   "id": "a39f7178",
   "metadata": {},
   "outputs": [],
   "source": [
    "# 관련 모듈 임포트 \n",
    "import numpy as np\n",
    "import pandas as pd"
   ]
  },
  {
   "cell_type": "markdown",
   "id": "598a5a19",
   "metadata": {},
   "source": [
    "### 판다스(Pandas) 란?\n",
    "- 데이터 처리와 분석을 위한 파이썬 라이브러리\n",
    "- 파이썬계의 엑셀\n",
    "- http://pandas.pydata.org\n",
    "\n",
    "### Pandas의 자료구조\n",
    "- 시리즈(Series) : 리스트와 딕셔너리 두가지의 장점을 섞어놓은 듯한 자료구조\n",
    "- 데이타프레임(DataFrame) : Row와 Column으로 이뤄진 2차원 형태의 자료구조. 시리즈(Series)의 결합체\n",
    "- 넘파이배열 < 시리즈 < 데이타프레임"
   ]
  },
  {
   "cell_type": "code",
   "execution_count": 2,
   "id": "5fa6d322",
   "metadata": {},
   "outputs": [
    {
     "data": {
      "text/plain": [
       "'1.21.5'"
      ]
     },
     "execution_count": 2,
     "metadata": {},
     "output_type": "execute_result"
    }
   ],
   "source": [
    "np.__version__"
   ]
  },
  {
   "cell_type": "code",
   "execution_count": 5,
   "id": "b1fd2321",
   "metadata": {
    "scrolled": true
   },
   "outputs": [
    {
     "data": {
      "text/plain": [
       "'1.4.2'"
      ]
     },
     "execution_count": 5,
     "metadata": {},
     "output_type": "execute_result"
    }
   ],
   "source": [
    "pd.__version__"
   ]
  },
  {
   "cell_type": "markdown",
   "id": "0a4819a9",
   "metadata": {},
   "source": [
    "### 판다스의 자료형태\n",
    "- 시리즈 <= 리스트+딕셔너리\n",
    "- 데이타프레임 <= 시리즈의 집합. 엑셀 자료구조, 컬럼과 셀로 구성\n",
    "\n",
    "### Series 만들기1\n",
    "- 시리즈(Series)란? 인덱스와 값이 자동으로 생성되는 데이터 단위\n",
    "- 1차원 집합형 자료구조\n",
    "- 리스트,딕셔너리와의 차이점은? 키가 있고 세로로 출력\n",
    "- 시리즈이름 = pd.Series([리스트]) : 숫자키\n",
    "- 시리즈이름 = pd.Series({딕셔너리}) : 키\n",
    "- 시리즈이름 = pd.Series(넘파이배열 np.arange() 등) : 숫자키"
   ]
  },
  {
   "cell_type": "code",
   "execution_count": 16,
   "id": "a940bb08",
   "metadata": {},
   "outputs": [
    {
     "data": {
      "text/plain": [
       "0    10\n",
       "1    20\n",
       "2    30\n",
       "3    40\n",
       "dtype: int64"
      ]
     },
     "execution_count": 16,
     "metadata": {},
     "output_type": "execute_result"
    }
   ],
   "source": [
    "# 리스트 => 시리즈\n",
    "s1 = pd.Series([10, 20, 30, 40])\n",
    "s1"
   ]
  },
  {
   "cell_type": "code",
   "execution_count": 26,
   "id": "33ff6954",
   "metadata": {},
   "outputs": [
    {
     "data": {
      "text/plain": [
       "0       100\n",
       "1      True\n",
       "2      3.14\n",
       "3    Python\n",
       "dtype: object"
      ]
     },
     "execution_count": 26,
     "metadata": {},
     "output_type": "execute_result"
    }
   ],
   "source": [
    "# 리스트(혼합형) => 시리즈\n",
    "s2 = pd.Series([100, True, 3.14, 'Python'])\n",
    "s2"
   ]
  },
  {
   "cell_type": "code",
   "execution_count": 18,
   "id": "97d5b270",
   "metadata": {},
   "outputs": [
    {
     "data": {
      "text/plain": [
       "pandas.core.series.Series"
      ]
     },
     "execution_count": 18,
     "metadata": {},
     "output_type": "execute_result"
    }
   ],
   "source": [
    "# 시리즈의 데이타형 확인\n",
    "type(s1)"
   ]
  },
  {
   "cell_type": "code",
   "execution_count": 27,
   "id": "4ca50c56",
   "metadata": {
    "scrolled": true
   },
   "outputs": [
    {
     "name": "stdout",
     "output_type": "stream",
     "text": [
      "0       100\n",
      "1      True\n",
      "2      3.14\n",
      "3    Python\n",
      "dtype: object\n",
      "\n",
      "100 <class 'int'>\n",
      "True <class 'bool'>\n",
      "3.14 <class 'float'>\n"
     ]
    }
   ],
   "source": [
    "# 각 값들의 데이타형 확인 => 혼합형\n",
    "print(s2)\n",
    "print()\n",
    "# 인덱싱\n",
    "print(s2[0], type(s2[0]))\n",
    "print(s2[1], type(s2[1]))\n",
    "print(s2[2], type(s2[2]))"
   ]
  },
  {
   "cell_type": "code",
   "execution_count": 29,
   "id": "09f2f84f",
   "metadata": {},
   "outputs": [
    {
     "data": {
      "text/plain": [
       "a    apple\n",
       "b     boat\n",
       "c      cup\n",
       "dtype: object"
      ]
     },
     "execution_count": 29,
     "metadata": {},
     "output_type": "execute_result"
    }
   ],
   "source": [
    "# 딕셔너리 => 시리즈 \n",
    "# 딕셔너리 키가 시리즈의 인덱스로 변경된다. \n",
    "s1 = pd.Series({'a':'apple', 'b':'boat', 'c':'cup'})\n",
    "s1"
   ]
  },
  {
   "cell_type": "code",
   "execution_count": 31,
   "id": "d3e17883",
   "metadata": {},
   "outputs": [
    {
     "data": {
      "text/plain": [
       "('boat', 'boat', 'cup', 'cup')"
      ]
     },
     "execution_count": 31,
     "metadata": {},
     "output_type": "execute_result"
    }
   ],
   "source": [
    "# 키인덱싱, 숫자인덱싱도 가능\n",
    "s1[1], s1['b'], s1[-1], s1['c']"
   ]
  },
  {
   "cell_type": "code",
   "execution_count": 32,
   "id": "2ce5dc6b",
   "metadata": {},
   "outputs": [
    {
     "data": {
      "text/plain": [
       "a    apart\n",
       "b     boat\n",
       "c      cup\n",
       "dtype: object"
      ]
     },
     "execution_count": 32,
     "metadata": {},
     "output_type": "execute_result"
    }
   ],
   "source": [
    "# 중복키가 있다면? => 마지막만 유효\n",
    "s2 = pd.Series({'a':'apple', 'b':'boat', 'c':'cup', 'a':'apart'})\n",
    "s2"
   ]
  },
  {
   "cell_type": "code",
   "execution_count": 35,
   "id": "5b78f91b",
   "metadata": {
    "scrolled": true
   },
   "outputs": [
    {
     "name": "stdout",
     "output_type": "stream",
     "text": [
      "['1' '2' '3' '파이썬'] <U11\n"
     ]
    },
    {
     "data": {
      "text/plain": [
       "0      1\n",
       "1      2\n",
       "2      3\n",
       "3    파이썬\n",
       "dtype: object"
      ]
     },
     "execution_count": 35,
     "metadata": {},
     "output_type": "execute_result"
    }
   ],
   "source": [
    "# 넘파이배열 => 시리즈\n",
    "arr = np.array([1,2,3,'파이썬'])\n",
    "print(arr, arr.dtype)\n",
    "s1 = pd.Series(arr)\n",
    "s1"
   ]
  },
  {
   "cell_type": "code",
   "execution_count": 37,
   "id": "3daefc56",
   "metadata": {},
   "outputs": [
    {
     "name": "stdout",
     "output_type": "stream",
     "text": [
      "<class 'str'>\n"
     ]
    }
   ],
   "source": [
    "print(type(s1[0]))"
   ]
  },
  {
   "cell_type": "code",
   "execution_count": 46,
   "id": "55507f9d",
   "metadata": {
    "scrolled": true
   },
   "outputs": [
    {
     "data": {
      "text/plain": [
       "array([[1, 2, 3],\n",
       "       [4, 5, 6],\n",
       "       [7, 8, 9]])"
      ]
     },
     "execution_count": 46,
     "metadata": {},
     "output_type": "execute_result"
    }
   ],
   "source": [
    "# 2차원 넘파이배열 => 시리즈 ?\n",
    "arr = np.arange(1,10).reshape(3,3)\n",
    "arr"
   ]
  },
  {
   "cell_type": "code",
   "execution_count": 42,
   "id": "76411281",
   "metadata": {
    "collapsed": true
   },
   "outputs": [
    {
     "ename": "ValueError",
     "evalue": "Data must be 1-dimensional",
     "output_type": "error",
     "traceback": [
      "\u001b[1;31m---------------------------------------------------------------------------\u001b[0m",
      "\u001b[1;31mValueError\u001b[0m                                Traceback (most recent call last)",
      "Input \u001b[1;32mIn [42]\u001b[0m, in \u001b[0;36m<cell line: 1>\u001b[1;34m()\u001b[0m\n\u001b[1;32m----> 1\u001b[0m s2 \u001b[38;5;241m=\u001b[39m \u001b[43mpd\u001b[49m\u001b[38;5;241;43m.\u001b[39;49m\u001b[43mSeries\u001b[49m\u001b[43m(\u001b[49m\u001b[43marr\u001b[49m\u001b[43m)\u001b[49m\n\u001b[0;32m      2\u001b[0m s2\n",
      "File \u001b[1;32m~\\anaconda3\\lib\\site-packages\\pandas\\core\\series.py:451\u001b[0m, in \u001b[0;36mSeries.__init__\u001b[1;34m(self, data, index, dtype, name, copy, fastpath)\u001b[0m\n\u001b[0;32m    449\u001b[0m         data \u001b[38;5;241m=\u001b[39m data\u001b[38;5;241m.\u001b[39mcopy()\n\u001b[0;32m    450\u001b[0m \u001b[38;5;28;01melse\u001b[39;00m:\n\u001b[1;32m--> 451\u001b[0m     data \u001b[38;5;241m=\u001b[39m \u001b[43msanitize_array\u001b[49m\u001b[43m(\u001b[49m\u001b[43mdata\u001b[49m\u001b[43m,\u001b[49m\u001b[43m \u001b[49m\u001b[43mindex\u001b[49m\u001b[43m,\u001b[49m\u001b[43m \u001b[49m\u001b[43mdtype\u001b[49m\u001b[43m,\u001b[49m\u001b[43m \u001b[49m\u001b[43mcopy\u001b[49m\u001b[43m)\u001b[49m\n\u001b[0;32m    453\u001b[0m     manager \u001b[38;5;241m=\u001b[39m get_option(\u001b[38;5;124m\"\u001b[39m\u001b[38;5;124mmode.data_manager\u001b[39m\u001b[38;5;124m\"\u001b[39m)\n\u001b[0;32m    454\u001b[0m     \u001b[38;5;28;01mif\u001b[39;00m manager \u001b[38;5;241m==\u001b[39m \u001b[38;5;124m\"\u001b[39m\u001b[38;5;124mblock\u001b[39m\u001b[38;5;124m\"\u001b[39m:\n",
      "File \u001b[1;32m~\\anaconda3\\lib\\site-packages\\pandas\\core\\construction.py:598\u001b[0m, in \u001b[0;36msanitize_array\u001b[1;34m(data, index, dtype, copy, raise_cast_failure, allow_2d)\u001b[0m\n\u001b[0;32m    595\u001b[0m             subarr \u001b[38;5;241m=\u001b[39m cast(np\u001b[38;5;241m.\u001b[39mndarray, subarr)\n\u001b[0;32m    596\u001b[0m             subarr \u001b[38;5;241m=\u001b[39m maybe_infer_to_datetimelike(subarr)\n\u001b[1;32m--> 598\u001b[0m subarr \u001b[38;5;241m=\u001b[39m \u001b[43m_sanitize_ndim\u001b[49m\u001b[43m(\u001b[49m\u001b[43msubarr\u001b[49m\u001b[43m,\u001b[49m\u001b[43m \u001b[49m\u001b[43mdata\u001b[49m\u001b[43m,\u001b[49m\u001b[43m \u001b[49m\u001b[43mdtype\u001b[49m\u001b[43m,\u001b[49m\u001b[43m \u001b[49m\u001b[43mindex\u001b[49m\u001b[43m,\u001b[49m\u001b[43m \u001b[49m\u001b[43mallow_2d\u001b[49m\u001b[38;5;241;43m=\u001b[39;49m\u001b[43mallow_2d\u001b[49m\u001b[43m)\u001b[49m\n\u001b[0;32m    600\u001b[0m \u001b[38;5;28;01mif\u001b[39;00m \u001b[38;5;28misinstance\u001b[39m(subarr, np\u001b[38;5;241m.\u001b[39mndarray):\n\u001b[0;32m    601\u001b[0m     \u001b[38;5;66;03m# at this point we should have dtype be None or subarr.dtype == dtype\u001b[39;00m\n\u001b[0;32m    602\u001b[0m     dtype \u001b[38;5;241m=\u001b[39m cast(np\u001b[38;5;241m.\u001b[39mdtype, dtype)\n",
      "File \u001b[1;32m~\\anaconda3\\lib\\site-packages\\pandas\\core\\construction.py:649\u001b[0m, in \u001b[0;36m_sanitize_ndim\u001b[1;34m(result, data, dtype, index, allow_2d)\u001b[0m\n\u001b[0;32m    647\u001b[0m     \u001b[38;5;28;01mif\u001b[39;00m allow_2d:\n\u001b[0;32m    648\u001b[0m         \u001b[38;5;28;01mreturn\u001b[39;00m result\n\u001b[1;32m--> 649\u001b[0m     \u001b[38;5;28;01mraise\u001b[39;00m \u001b[38;5;167;01mValueError\u001b[39;00m(\u001b[38;5;124m\"\u001b[39m\u001b[38;5;124mData must be 1-dimensional\u001b[39m\u001b[38;5;124m\"\u001b[39m)\n\u001b[0;32m    650\u001b[0m \u001b[38;5;28;01mif\u001b[39;00m is_object_dtype(dtype) \u001b[38;5;129;01mand\u001b[39;00m \u001b[38;5;28misinstance\u001b[39m(dtype, ExtensionDtype):\n\u001b[0;32m    651\u001b[0m     \u001b[38;5;66;03m# i.e. PandasDtype(\"O\")\u001b[39;00m\n\u001b[0;32m    653\u001b[0m     result \u001b[38;5;241m=\u001b[39m com\u001b[38;5;241m.\u001b[39masarray_tuplesafe(data, dtype\u001b[38;5;241m=\u001b[39mnp\u001b[38;5;241m.\u001b[39mdtype(\u001b[38;5;124m\"\u001b[39m\u001b[38;5;124mobject\u001b[39m\u001b[38;5;124m\"\u001b[39m))\n",
      "\u001b[1;31mValueError\u001b[0m: Data must be 1-dimensional"
     ]
    }
   ],
   "source": [
    "# ValueError: Data must be 1-dimensional\n",
    "s2 = pd.Series(arr)\n",
    "s2"
   ]
  },
  {
   "cell_type": "markdown",
   "id": "041a91db",
   "metadata": {},
   "source": [
    "### 시리즈 속성\n",
    "- 인덱스값 보기 : 시리즈변수.index\n",
    "- 데이타값 보기 : 시리즈변수.values\n",
    "- 시리즈이름\n",
    "- 시리즈인덱스이름 : 시리즈변수.index.name"
   ]
  },
  {
   "cell_type": "code",
   "execution_count": 50,
   "id": "ee437389",
   "metadata": {},
   "outputs": [
    {
     "data": {
      "text/plain": [
       "0    11\n",
       "1    12\n",
       "2    13\n",
       "3    14\n",
       "4    15\n",
       "5    16\n",
       "6    17\n",
       "dtype: int32"
      ]
     },
     "execution_count": 50,
     "metadata": {},
     "output_type": "execute_result"
    }
   ],
   "source": [
    "s1 = pd.Series(np.arange(11,18))\n",
    "s1"
   ]
  },
  {
   "cell_type": "code",
   "execution_count": 51,
   "id": "cb6f1aed",
   "metadata": {},
   "outputs": [
    {
     "data": {
      "text/plain": [
       "RangeIndex(start=0, stop=7, step=1)"
      ]
     },
     "execution_count": 51,
     "metadata": {},
     "output_type": "execute_result"
    }
   ],
   "source": [
    "# 시리즈의 인덱스\n",
    "s1.index"
   ]
  },
  {
   "cell_type": "code",
   "execution_count": 53,
   "id": "f6e703c6",
   "metadata": {},
   "outputs": [
    {
     "data": {
      "text/plain": [
       "(array([11, 12, 13, 14, 15, 16, 17]), numpy.ndarray)"
      ]
     },
     "execution_count": 53,
     "metadata": {},
     "output_type": "execute_result"
    }
   ],
   "source": [
    "# 시리즈의 실제값 => 넘파이배열\n",
    "s1.values, type(s1.values)"
   ]
  },
  {
   "cell_type": "code",
   "execution_count": 55,
   "id": "d846d933",
   "metadata": {
    "scrolled": true
   },
   "outputs": [
    {
     "data": {
      "text/plain": [
       "하나    11\n",
       "둘     12\n",
       "셋     13\n",
       "넷     14\n",
       "dtype: int32"
      ]
     },
     "execution_count": 55,
     "metadata": {},
     "output_type": "execute_result"
    }
   ],
   "source": [
    "# 인덱스값을 별도 지정하면서 시리즈 생성\n",
    "s2 = pd.Series(np.arange(11,15), index=['하나', '둘', '셋', '넷'])\n",
    "s2"
   ]
  },
  {
   "cell_type": "code",
   "execution_count": 58,
   "id": "636d4c23",
   "metadata": {
    "scrolled": true
   },
   "outputs": [
    {
     "data": {
      "text/plain": [
       "(Index(['하나', '둘', '셋', '넷'], dtype='object'),\n",
       " ['하나', '둘', '셋', '넷'],\n",
       " pandas.core.indexes.base.Index)"
      ]
     },
     "execution_count": 58,
     "metadata": {},
     "output_type": "execute_result"
    }
   ],
   "source": [
    "s2.index, list(s2.index), type(s2.index)"
   ]
  },
  {
   "cell_type": "code",
   "execution_count": 60,
   "id": "23939688",
   "metadata": {},
   "outputs": [
    {
     "data": {
      "text/plain": [
       "(11, 11)"
      ]
     },
     "execution_count": 60,
     "metadata": {},
     "output_type": "execute_result"
    }
   ],
   "source": [
    "s2['하나'], s2.하나"
   ]
  },
  {
   "cell_type": "code",
   "execution_count": 61,
   "id": "d29967d0",
   "metadata": {},
   "outputs": [
    {
     "data": {
      "text/plain": [
       "step1    11\n",
       "step2    12\n",
       "step3    13\n",
       "step4    14\n",
       "dtype: int32"
      ]
     },
     "execution_count": 61,
     "metadata": {},
     "output_type": "execute_result"
    }
   ],
   "source": [
    "# 인덱스 재설정\n",
    "s2.index = ['step1','step2','step3','step4']\n",
    "s2"
   ]
  },
  {
   "cell_type": "code",
   "execution_count": 62,
   "id": "d534d50b",
   "metadata": {},
   "outputs": [
    {
     "data": {
      "text/plain": [
       "인덱스명\n",
       "step1    11\n",
       "step2    12\n",
       "step3    13\n",
       "step4    14\n",
       "dtype: int32"
      ]
     },
     "execution_count": 62,
     "metadata": {},
     "output_type": "execute_result"
    }
   ],
   "source": [
    "# 시리즈의 인덱스 대표이름 설정\n",
    "s2.index.name = '인덱스명'\n",
    "s2"
   ]
  },
  {
   "cell_type": "code",
   "execution_count": 63,
   "id": "9f6823dd",
   "metadata": {
    "scrolled": true
   },
   "outputs": [
    {
     "data": {
      "text/plain": [
       "인덱스명\n",
       "step1    11\n",
       "step2    12\n",
       "step3    13\n",
       "step4    14\n",
       "Name: 시리즈이름, dtype: int32"
      ]
     },
     "execution_count": 63,
     "metadata": {},
     "output_type": "execute_result"
    }
   ],
   "source": [
    "# 시리즈의 인덱스 대표이름 설정\n",
    "s2.name = '시리즈이름'\n",
    "s2"
   ]
  },
  {
   "cell_type": "raw",
   "id": "8c5c84a8",
   "metadata": {},
   "source": [
    "Quiz 1\n",
    "1) 딕셔너리 생성 \n",
    "   {'a': 'apart', 'b': 'banana', 'c': 'cat'}\n",
    "2) 리스트 생성 \n",
    "  ['아파트', '바나나', '고양이']\n",
    "3) 1번의 키값 + 2번의 데이타 => 시리즈생성 \n",
    "  'a'   '아파트'\n",
    "  'b'   '바나나'\n",
    "  'c'   '고양이'"
   ]
  },
  {
   "cell_type": "code",
   "execution_count": 64,
   "id": "b0699347",
   "metadata": {
    "scrolled": true
   },
   "outputs": [
    {
     "data": {
      "text/plain": [
       "a     apart\n",
       "b    banana\n",
       "c       cat\n",
       "dtype: object"
      ]
     },
     "execution_count": 64,
     "metadata": {},
     "output_type": "execute_result"
    }
   ],
   "source": [
    "s1 = pd.Series({'a':'apart', 'b':'banana', 'c':'cat'})\n",
    "s1"
   ]
  },
  {
   "cell_type": "code",
   "execution_count": 66,
   "id": "f73dbb5d",
   "metadata": {},
   "outputs": [
    {
     "data": {
      "text/plain": [
       "0    아파트\n",
       "1    바나나\n",
       "2    고양이\n",
       "dtype: object"
      ]
     },
     "execution_count": 66,
     "metadata": {},
     "output_type": "execute_result"
    }
   ],
   "source": [
    "s2 = pd.Series(['아파트','바나나','고양이'])\n",
    "s2"
   ]
  },
  {
   "cell_type": "code",
   "execution_count": 68,
   "id": "71b71f0d",
   "metadata": {
    "scrolled": true
   },
   "outputs": [
    {
     "data": {
      "text/plain": [
       "['a', 'b', 'c']"
      ]
     },
     "execution_count": 68,
     "metadata": {},
     "output_type": "execute_result"
    }
   ],
   "source": [
    "list(s1.index)"
   ]
  },
  {
   "cell_type": "code",
   "execution_count": 69,
   "id": "0490f148",
   "metadata": {
    "scrolled": false
   },
   "outputs": [
    {
     "data": {
      "text/plain": [
       "a    아파트\n",
       "b    바나나\n",
       "c    고양이\n",
       "dtype: object"
      ]
     },
     "execution_count": 69,
     "metadata": {},
     "output_type": "execute_result"
    }
   ],
   "source": [
    "s2.index = list(s1.index)\n",
    "s2"
   ]
  },
  {
   "cell_type": "code",
   "execution_count": null,
   "id": "526b237e",
   "metadata": {},
   "outputs": [],
   "source": [
    "# 풀이"
   ]
  },
  {
   "cell_type": "code",
   "execution_count": 79,
   "id": "7091d9be",
   "metadata": {
    "scrolled": true
   },
   "outputs": [
    {
     "data": {
      "text/plain": [
       "({'a': 'apart', 'b': 'banana', 'c': 'cat'}, ['아파트', '바나나', '고양이'])"
      ]
     },
     "execution_count": 79,
     "metadata": {},
     "output_type": "execute_result"
    }
   ],
   "source": [
    "myDict = {'a': 'apart', 'b': 'banana', 'c': 'cat'}\n",
    "myList = ['아파트', '바나나', '고양이']\n",
    "myDict , myList"
   ]
  },
  {
   "cell_type": "code",
   "execution_count": 80,
   "id": "490e3a19",
   "metadata": {},
   "outputs": [
    {
     "data": {
      "text/plain": [
       "dict_keys(['a', 'b', 'c'])"
      ]
     },
     "execution_count": 80,
     "metadata": {},
     "output_type": "execute_result"
    }
   ],
   "source": [
    "myDict.keys()"
   ]
  },
  {
   "cell_type": "code",
   "execution_count": 81,
   "id": "23f45f6b",
   "metadata": {},
   "outputs": [
    {
     "data": {
      "text/plain": [
       "a    아파트\n",
       "b    바나나\n",
       "c    고양이\n",
       "dtype: object"
      ]
     },
     "execution_count": 81,
     "metadata": {},
     "output_type": "execute_result"
    }
   ],
   "source": [
    "mySeries = pd.Series(myList, index=myDict.keys())\n",
    "mySeries"
   ]
  },
  {
   "cell_type": "raw",
   "id": "9fa9c42e",
   "metadata": {},
   "source": [
    "Quiz 2\n",
    "아래와 같은 형태로 시리즈를 생성하고 평균값을 출력하여라\n",
    "\n",
    "과목 \n",
    "국어    90\n",
    "수학    80\n",
    "영어    100\n",
    "과학    55\n",
    "역사    70 \n",
    "Name:중간고사성적표, dtype=?\n",
    "---------\n",
    "평균 = ?"
   ]
  },
  {
   "cell_type": "code",
   "execution_count": 78,
   "id": "054fe1f5",
   "metadata": {},
   "outputs": [
    {
     "name": "stdout",
     "output_type": "stream",
     "text": [
      "국어     90\n",
      "수학     80\n",
      "영어    100\n",
      "과학     55\n",
      "역사     70\n",
      "Name: 중간고사 성적표, dtype: int32\n",
      "----------\n",
      "평균 = 79.0\n"
     ]
    }
   ],
   "source": [
    "arr= np.array([90,80,100,55,70])\n",
    "s1 = pd.Series(arr)\n",
    "s1.index = ['국어', '수학', '영어', '과학', '역사']\n",
    "s1.name = '중간고사 성적표'\n",
    "print(s1)\n",
    "print('-'*10)\n",
    "print('평균 =', arr.mean())"
   ]
  },
  {
   "cell_type": "code",
   "execution_count": null,
   "id": "da0d132a",
   "metadata": {},
   "outputs": [],
   "source": [
    "# 풀이"
   ]
  },
  {
   "cell_type": "code",
   "execution_count": 82,
   "id": "dabbc6ed",
   "metadata": {
    "scrolled": true
   },
   "outputs": [
    {
     "data": {
      "text/plain": [
       "과목\n",
       "국어     90\n",
       "수학     80\n",
       "영어    100\n",
       "과학     55\n",
       "역사     70\n",
       "Name: 중간고사성적표, dtype: int64"
      ]
     },
     "execution_count": 82,
     "metadata": {},
     "output_type": "execute_result"
    }
   ],
   "source": [
    "score = {'국어':90,'수학':80,'영어':100,'과학':55,'역사':70}\n",
    "s = pd.Series(score)\n",
    "s.name = '중간고사성적표'\n",
    "s.index.name = '과목'\n",
    "s"
   ]
  },
  {
   "cell_type": "code",
   "execution_count": 83,
   "id": "7fc40ca0",
   "metadata": {},
   "outputs": [
    {
     "name": "stdout",
     "output_type": "stream",
     "text": [
      "---------\n",
      "평균 = 79.0\n"
     ]
    }
   ],
   "source": [
    "# 평균구하기 1\n",
    "tot = 0\n",
    "for i in s:\n",
    "    tot = tot + i\n",
    "print(\"---------\")\n",
    "print(\"평균 =\",tot/len(s))"
   ]
  },
  {
   "cell_type": "code",
   "execution_count": 84,
   "id": "46bab49e",
   "metadata": {
    "scrolled": true
   },
   "outputs": [
    {
     "name": "stdout",
     "output_type": "stream",
     "text": [
      "과목\n",
      "국어     90\n",
      "수학     80\n",
      "영어    100\n",
      "과학     55\n",
      "역사     70\n",
      "Name: 중간고사성적표, dtype: int64\n",
      "---------\n",
      "평균 = 79.0\n"
     ]
    }
   ],
   "source": [
    "tot = 0\n",
    "for i in s:\n",
    "    tot = tot + i\n",
    "\n",
    "print(s)    \n",
    "print(\"---------\")\n",
    "print(\"평균 =\",tot/len(s))"
   ]
  },
  {
   "cell_type": "code",
   "execution_count": 86,
   "id": "c0474569",
   "metadata": {},
   "outputs": [
    {
     "name": "stdout",
     "output_type": "stream",
     "text": [
      "과목\n",
      "국어     90\n",
      "수학     80\n",
      "영어    100\n",
      "과학     55\n",
      "역사     70\n",
      "Name: 중간고사성적표, dtype: int64\n",
      "---------\n",
      "평균 = 79.0\n"
     ]
    }
   ],
   "source": [
    "# 평균구하기 2\n",
    "print(s)    \n",
    "print(\"---------\")\n",
    "print(\"평균 =\", np.mean(s.values))"
   ]
  }
 ],
 "metadata": {
  "kernelspec": {
   "display_name": "Python 3 (ipykernel)",
   "language": "python",
   "name": "python3"
  },
  "language_info": {
   "codemirror_mode": {
    "name": "ipython",
    "version": 3
   },
   "file_extension": ".py",
   "mimetype": "text/x-python",
   "name": "python",
   "nbconvert_exporter": "python",
   "pygments_lexer": "ipython3",
   "version": "3.9.12"
  }
 },
 "nbformat": 4,
 "nbformat_minor": 5
}
