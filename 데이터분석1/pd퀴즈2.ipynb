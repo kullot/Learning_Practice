{
 "cells": [
  {
   "cell_type": "code",
   "execution_count": 1,
   "id": "78ae6c3d",
   "metadata": {},
   "outputs": [
    {
     "name": "stderr",
     "output_type": "stream",
     "text": [
      "C:\\Users\\pusan\\AppData\\Local\\Temp\\ipykernel_21200\\829985655.py:2: DeprecationWarning: Importing display from IPython.core.display is deprecated since IPython 7.14, please import from IPython display\n",
      "  from IPython.core.display import display, HTML\n"
     ]
    },
    {
     "data": {
      "text/html": [
       "<style>.container { font-weight: bold !important; }</style>"
      ],
      "text/plain": [
       "<IPython.core.display.HTML object>"
      ]
     },
     "metadata": {},
     "output_type": "display_data"
    },
    {
     "data": {
      "text/html": [
       "<style>.container { width: 100% !important; }</style>"
      ],
      "text/plain": [
       "<IPython.core.display.HTML object>"
      ]
     },
     "metadata": {},
     "output_type": "display_data"
    }
   ],
   "source": [
    "# 쥬피터노트북 셀 스타일 조절 \n",
    "from IPython.core.display import display, HTML\n",
    "display(HTML(\"<style>.container { font-weight: bold !important; }</style>\"))\n",
    "display(HTML(\"<style>.container { width: 100% !important; }</style>\"))\n",
    "\n",
    "# 경고 메세지 숨기기 \n",
    "import warnings\n",
    "warnings.filterwarnings(action='ignore')"
   ]
  },
  {
   "cell_type": "code",
   "execution_count": 2,
   "id": "8f929a4b",
   "metadata": {},
   "outputs": [],
   "source": [
    "import pandas as pd\n",
    "import numpy as np\n",
    "import os"
   ]
  },
  {
   "cell_type": "markdown",
   "id": "366f5d31",
   "metadata": {},
   "source": [
    "### Q1\n",
    "```\n",
    "아래의 CSV 파일을 df_weather 데이타프레임으로 생성하여라. \n",
    "이때 컬럼은 일시, 평균기온, 최고기온, 최저기온 으로만 한다 \n",
    "\n",
    "기상온도_서울202012.csv\n",
    "\n",
    "pd.read_csv('data/기상온도_서울202012.csv', encoding='cp949', usecols=[2, 3, 5, 8])\n",
    "```"
   ]
  },
  {
   "cell_type": "code",
   "execution_count": 3,
   "id": "9a4c921b",
   "metadata": {
    "scrolled": true
   },
   "outputs": [
    {
     "name": "stdout",
     "output_type": "stream",
     "text": [
      " C 드라이브의 볼륨에는 이름이 없습니다.\n",
      " 볼륨 일련 번호: 629C-402A\n",
      "\n",
      " C:\\Users\\pusan\\Desktop\\workspace202205\\03_DS\\data 디렉터리\n",
      "\n",
      "2020-12-27  오후 11:31            93,517 기상온도_서울202012.csv\n",
      "2020-12-28  오전 01:59            29,386 기상온도_전국202012.csv\n",
      "               2개 파일             122,903 바이트\n",
      "               0개 디렉터리  422,978,646,016 바이트 남음\n"
     ]
    }
   ],
   "source": [
    "ls data\\기*.csv"
   ]
  },
  {
   "cell_type": "markdown",
   "id": "2b28bd2c",
   "metadata": {},
   "source": [
    "### Q2\n",
    "df_weather 데이타프레임에서 결측값이 각 컬럼별로 몇개가 있는지 출력하여라"
   ]
  },
  {
   "cell_type": "code",
   "execution_count": 4,
   "id": "c1ea1788",
   "metadata": {
    "scrolled": true
   },
   "outputs": [
    {
     "data": {
      "text/plain": [
       "(1353, 4)"
      ]
     },
     "execution_count": 4,
     "metadata": {},
     "output_type": "execute_result"
    }
   ],
   "source": [
    "df_weather = pd.read_csv('data/기상온도_서울202012.csv', encoding='cp949',usecols=[2, 3, 5, 8])\n",
    "df_weather.shape"
   ]
  },
  {
   "cell_type": "code",
   "execution_count": 5,
   "id": "66d643be",
   "metadata": {},
   "outputs": [
    {
     "name": "stdout",
     "output_type": "stream",
     "text": [
      "<class 'pandas.core.frame.DataFrame'>\n",
      "RangeIndex: 1353 entries, 0 to 1352\n",
      "Data columns (total 4 columns):\n",
      " #   Column   Non-Null Count  Dtype  \n",
      "---  ------   --------------  -----  \n",
      " 0   일시       1345 non-null   object \n",
      " 1   평균기온(℃)  1320 non-null   float64\n",
      " 2   최고기온(℃)  1320 non-null   float64\n",
      " 3   최저기온(℃)  1320 non-null   float64\n",
      "dtypes: float64(3), object(1)\n",
      "memory usage: 42.4+ KB\n"
     ]
    }
   ],
   "source": [
    "df_weather.info()"
   ]
  },
  {
   "cell_type": "markdown",
   "id": "c52a232a",
   "metadata": {},
   "source": [
    "### Q7\n",
    "df_weather 데이타프레임에서 아래의 조건식을 이용하여 1988년도 데이타만 별도 데이타프레임 df_weather_1988 로 저장하여라\n",
    "\n",
    "df_weather['일시'].str[:4] == '1988'"
   ]
  },
  {
   "cell_type": "code",
   "execution_count": 6,
   "id": "8280bed2",
   "metadata": {},
   "outputs": [
    {
     "data": {
      "text/html": [
       "<div>\n",
       "<style scoped>\n",
       "    .dataframe tbody tr th:only-of-type {\n",
       "        vertical-align: middle;\n",
       "    }\n",
       "\n",
       "    .dataframe tbody tr th {\n",
       "        vertical-align: top;\n",
       "    }\n",
       "\n",
       "    .dataframe thead th {\n",
       "        text-align: right;\n",
       "    }\n",
       "</style>\n",
       "<table border=\"1\" class=\"dataframe\">\n",
       "  <thead>\n",
       "    <tr style=\"text-align: right;\">\n",
       "      <th></th>\n",
       "      <th>일시</th>\n",
       "      <th>평균기온(℃)</th>\n",
       "      <th>최고기온(℃)</th>\n",
       "      <th>최저기온(℃)</th>\n",
       "    </tr>\n",
       "  </thead>\n",
       "  <tbody>\n",
       "    <tr>\n",
       "      <th>949</th>\n",
       "      <td>1988-01-01</td>\n",
       "      <td>-2.1</td>\n",
       "      <td>10.1</td>\n",
       "      <td>-12.1</td>\n",
       "    </tr>\n",
       "    <tr>\n",
       "      <th>950</th>\n",
       "      <td>1988-02-01</td>\n",
       "      <td>-1.5</td>\n",
       "      <td>12.2</td>\n",
       "      <td>-12.9</td>\n",
       "    </tr>\n",
       "    <tr>\n",
       "      <th>951</th>\n",
       "      <td>1988-03-01</td>\n",
       "      <td>4.3</td>\n",
       "      <td>16.1</td>\n",
       "      <td>-6.8</td>\n",
       "    </tr>\n",
       "    <tr>\n",
       "      <th>952</th>\n",
       "      <td>1988-04-01</td>\n",
       "      <td>11.3</td>\n",
       "      <td>23.8</td>\n",
       "      <td>3.2</td>\n",
       "    </tr>\n",
       "    <tr>\n",
       "      <th>953</th>\n",
       "      <td>1988-05-01</td>\n",
       "      <td>17.9</td>\n",
       "      <td>31.7</td>\n",
       "      <td>9.1</td>\n",
       "    </tr>\n",
       "    <tr>\n",
       "      <th>954</th>\n",
       "      <td>1988-06-01</td>\n",
       "      <td>22.3</td>\n",
       "      <td>32.8</td>\n",
       "      <td>13.9</td>\n",
       "    </tr>\n",
       "    <tr>\n",
       "      <th>955</th>\n",
       "      <td>1988-07-01</td>\n",
       "      <td>24.4</td>\n",
       "      <td>31.6</td>\n",
       "      <td>19.0</td>\n",
       "    </tr>\n",
       "    <tr>\n",
       "      <th>956</th>\n",
       "      <td>1988-08-01</td>\n",
       "      <td>26.4</td>\n",
       "      <td>36.6</td>\n",
       "      <td>18.4</td>\n",
       "    </tr>\n",
       "    <tr>\n",
       "      <th>957</th>\n",
       "      <td>1988-09-01</td>\n",
       "      <td>21.4</td>\n",
       "      <td>30.8</td>\n",
       "      <td>11.0</td>\n",
       "    </tr>\n",
       "    <tr>\n",
       "      <th>958</th>\n",
       "      <td>1988-10-01</td>\n",
       "      <td>15.0</td>\n",
       "      <td>25.6</td>\n",
       "      <td>2.2</td>\n",
       "    </tr>\n",
       "    <tr>\n",
       "      <th>959</th>\n",
       "      <td>1988-11-01</td>\n",
       "      <td>5.5</td>\n",
       "      <td>17.9</td>\n",
       "      <td>-5.6</td>\n",
       "    </tr>\n",
       "    <tr>\n",
       "      <th>960</th>\n",
       "      <td>1988-12-01</td>\n",
       "      <td>0.1</td>\n",
       "      <td>13.9</td>\n",
       "      <td>-12.2</td>\n",
       "    </tr>\n",
       "  </tbody>\n",
       "</table>\n",
       "</div>"
      ],
      "text/plain": [
       "             일시  평균기온(℃)  최고기온(℃)  최저기온(℃)\n",
       "949  1988-01-01     -2.1     10.1    -12.1\n",
       "950  1988-02-01     -1.5     12.2    -12.9\n",
       "951  1988-03-01      4.3     16.1     -6.8\n",
       "952  1988-04-01     11.3     23.8      3.2\n",
       "953  1988-05-01     17.9     31.7      9.1\n",
       "954  1988-06-01     22.3     32.8     13.9\n",
       "955  1988-07-01     24.4     31.6     19.0\n",
       "956  1988-08-01     26.4     36.6     18.4\n",
       "957  1988-09-01     21.4     30.8     11.0\n",
       "958  1988-10-01     15.0     25.6      2.2\n",
       "959  1988-11-01      5.5     17.9     -5.6\n",
       "960  1988-12-01      0.1     13.9    -12.2"
      ]
     },
     "execution_count": 6,
     "metadata": {},
     "output_type": "execute_result"
    }
   ],
   "source": [
    "df_weather_1988 = df_weather[df_weather['일시'].str[:4] == '1988'].copy()\n",
    "df_weather_1988"
   ]
  },
  {
   "cell_type": "code",
   "execution_count": 7,
   "id": "a8a7e419",
   "metadata": {},
   "outputs": [
    {
     "data": {
      "text/plain": [
       "array(['1907-10-01', '1907-11-01', '1907-12-01', ..., '2020-11-01',\n",
       "       '2020-12-01', nan], dtype=object)"
      ]
     },
     "execution_count": 7,
     "metadata": {},
     "output_type": "execute_result"
    }
   ],
   "source": [
    "df_weather['일시'].unique()"
   ]
  },
  {
   "cell_type": "code",
   "execution_count": 8,
   "id": "9e19b0fa",
   "metadata": {},
   "outputs": [
    {
     "data": {
      "text/html": [
       "<div>\n",
       "<style scoped>\n",
       "    .dataframe tbody tr th:only-of-type {\n",
       "        vertical-align: middle;\n",
       "    }\n",
       "\n",
       "    .dataframe tbody tr th {\n",
       "        vertical-align: top;\n",
       "    }\n",
       "\n",
       "    .dataframe thead th {\n",
       "        text-align: right;\n",
       "    }\n",
       "</style>\n",
       "<table border=\"1\" class=\"dataframe\">\n",
       "  <thead>\n",
       "    <tr style=\"text-align: right;\">\n",
       "      <th></th>\n",
       "      <th>일시</th>\n",
       "      <th>평균기온(℃)</th>\n",
       "      <th>최고기온(℃)</th>\n",
       "      <th>최저기온(℃)</th>\n",
       "    </tr>\n",
       "  </thead>\n",
       "  <tbody>\n",
       "    <tr>\n",
       "      <th>949</th>\n",
       "      <td>1988-01-01</td>\n",
       "      <td>-2.1</td>\n",
       "      <td>10.1</td>\n",
       "      <td>-12.1</td>\n",
       "    </tr>\n",
       "    <tr>\n",
       "      <th>950</th>\n",
       "      <td>1988-02-01</td>\n",
       "      <td>-1.5</td>\n",
       "      <td>12.2</td>\n",
       "      <td>-12.9</td>\n",
       "    </tr>\n",
       "    <tr>\n",
       "      <th>951</th>\n",
       "      <td>1988-03-01</td>\n",
       "      <td>4.3</td>\n",
       "      <td>16.1</td>\n",
       "      <td>-6.8</td>\n",
       "    </tr>\n",
       "    <tr>\n",
       "      <th>952</th>\n",
       "      <td>1988-04-01</td>\n",
       "      <td>11.3</td>\n",
       "      <td>23.8</td>\n",
       "      <td>3.2</td>\n",
       "    </tr>\n",
       "    <tr>\n",
       "      <th>953</th>\n",
       "      <td>1988-05-01</td>\n",
       "      <td>17.9</td>\n",
       "      <td>31.7</td>\n",
       "      <td>9.1</td>\n",
       "    </tr>\n",
       "    <tr>\n",
       "      <th>954</th>\n",
       "      <td>1988-06-01</td>\n",
       "      <td>22.3</td>\n",
       "      <td>32.8</td>\n",
       "      <td>13.9</td>\n",
       "    </tr>\n",
       "    <tr>\n",
       "      <th>955</th>\n",
       "      <td>1988-07-01</td>\n",
       "      <td>24.4</td>\n",
       "      <td>31.6</td>\n",
       "      <td>19.0</td>\n",
       "    </tr>\n",
       "    <tr>\n",
       "      <th>956</th>\n",
       "      <td>1988-08-01</td>\n",
       "      <td>26.4</td>\n",
       "      <td>36.6</td>\n",
       "      <td>18.4</td>\n",
       "    </tr>\n",
       "    <tr>\n",
       "      <th>957</th>\n",
       "      <td>1988-09-01</td>\n",
       "      <td>21.4</td>\n",
       "      <td>30.8</td>\n",
       "      <td>11.0</td>\n",
       "    </tr>\n",
       "    <tr>\n",
       "      <th>958</th>\n",
       "      <td>1988-10-01</td>\n",
       "      <td>15.0</td>\n",
       "      <td>25.6</td>\n",
       "      <td>2.2</td>\n",
       "    </tr>\n",
       "    <tr>\n",
       "      <th>959</th>\n",
       "      <td>1988-11-01</td>\n",
       "      <td>5.5</td>\n",
       "      <td>17.9</td>\n",
       "      <td>-5.6</td>\n",
       "    </tr>\n",
       "    <tr>\n",
       "      <th>960</th>\n",
       "      <td>1988-12-01</td>\n",
       "      <td>0.1</td>\n",
       "      <td>13.9</td>\n",
       "      <td>-12.2</td>\n",
       "    </tr>\n",
       "  </tbody>\n",
       "</table>\n",
       "</div>"
      ],
      "text/plain": [
       "             일시  평균기온(℃)  최고기온(℃)  최저기온(℃)\n",
       "949  1988-01-01     -2.1     10.1    -12.1\n",
       "950  1988-02-01     -1.5     12.2    -12.9\n",
       "951  1988-03-01      4.3     16.1     -6.8\n",
       "952  1988-04-01     11.3     23.8      3.2\n",
       "953  1988-05-01     17.9     31.7      9.1\n",
       "954  1988-06-01     22.3     32.8     13.9\n",
       "955  1988-07-01     24.4     31.6     19.0\n",
       "956  1988-08-01     26.4     36.6     18.4\n",
       "957  1988-09-01     21.4     30.8     11.0\n",
       "958  1988-10-01     15.0     25.6      2.2\n",
       "959  1988-11-01      5.5     17.9     -5.6\n",
       "960  1988-12-01      0.1     13.9    -12.2"
      ]
     },
     "execution_count": 8,
     "metadata": {},
     "output_type": "execute_result"
    }
   ],
   "source": [
    "# 데이타프레임[컬럼명].str => 파이썬의 자료형(문자열|리스트|딕셔너리...)\n",
    "df_weather_1988"
   ]
  },
  {
   "cell_type": "code",
   "execution_count": 9,
   "id": "e995dbd8",
   "metadata": {},
   "outputs": [
    {
     "data": {
      "text/plain": [
       "0         1\n",
       "1         1\n",
       "2         1\n",
       "3         1\n",
       "4         1\n",
       "       ... \n",
       "1348    NaN\n",
       "1349    NaN\n",
       "1350    NaN\n",
       "1351    NaN\n",
       "1352    NaN\n",
       "Name: 일시, Length: 1353, dtype: object"
      ]
     },
     "execution_count": 9,
     "metadata": {},
     "output_type": "execute_result"
    }
   ],
   "source": [
    "# 첫글자만 추출\n",
    "df_weather['일시'].str[0]"
   ]
  },
  {
   "cell_type": "code",
   "execution_count": 10,
   "id": "6a953ce1",
   "metadata": {},
   "outputs": [
    {
     "data": {
      "text/plain": [
       "0         1\n",
       "1         1\n",
       "2         1\n",
       "3         1\n",
       "4         1\n",
       "       ... \n",
       "1348    NaN\n",
       "1349    NaN\n",
       "1350    NaN\n",
       "1351    NaN\n",
       "1352    NaN\n",
       "Name: 일시, Length: 1353, dtype: object"
      ]
     },
     "execution_count": 10,
     "metadata": {},
     "output_type": "execute_result"
    }
   ],
   "source": [
    "# 마지막 글자만 추출\n",
    "df_weather['일시'].str[-1]"
   ]
  },
  {
   "cell_type": "code",
   "execution_count": 11,
   "id": "a27d7e11",
   "metadata": {},
   "outputs": [
    {
     "data": {
      "text/plain": [
       "0       1907\n",
       "1       1907\n",
       "2       1907\n",
       "3       1908\n",
       "4       1908\n",
       "        ... \n",
       "1348     NaN\n",
       "1349     NaN\n",
       "1350     NaN\n",
       "1351     NaN\n",
       "1352     NaN\n",
       "Name: 일시, Length: 1353, dtype: object"
      ]
     },
     "execution_count": 11,
     "metadata": {},
     "output_type": "execute_result"
    }
   ],
   "source": [
    "# 4자리만 슬라이싱 \n",
    "df_weather['일시'].str[:4]"
   ]
  },
  {
   "cell_type": "code",
   "execution_count": 12,
   "id": "9bcc4655",
   "metadata": {},
   "outputs": [
    {
     "data": {
      "text/html": [
       "<div>\n",
       "<style scoped>\n",
       "    .dataframe tbody tr th:only-of-type {\n",
       "        vertical-align: middle;\n",
       "    }\n",
       "\n",
       "    .dataframe tbody tr th {\n",
       "        vertical-align: top;\n",
       "    }\n",
       "\n",
       "    .dataframe thead th {\n",
       "        text-align: right;\n",
       "    }\n",
       "</style>\n",
       "<table border=\"1\" class=\"dataframe\">\n",
       "  <thead>\n",
       "    <tr style=\"text-align: right;\">\n",
       "      <th></th>\n",
       "      <th>일시</th>\n",
       "      <th>평균기온(℃)</th>\n",
       "      <th>최고기온(℃)</th>\n",
       "      <th>최저기온(℃)</th>\n",
       "    </tr>\n",
       "  </thead>\n",
       "  <tbody>\n",
       "    <tr>\n",
       "      <th>949</th>\n",
       "      <td>1988-01-01</td>\n",
       "      <td>-2.1</td>\n",
       "      <td>10.1</td>\n",
       "      <td>-12.1</td>\n",
       "    </tr>\n",
       "    <tr>\n",
       "      <th>950</th>\n",
       "      <td>1988-02-01</td>\n",
       "      <td>-1.5</td>\n",
       "      <td>12.2</td>\n",
       "      <td>-12.9</td>\n",
       "    </tr>\n",
       "    <tr>\n",
       "      <th>951</th>\n",
       "      <td>1988-03-01</td>\n",
       "      <td>4.3</td>\n",
       "      <td>16.1</td>\n",
       "      <td>-6.8</td>\n",
       "    </tr>\n",
       "    <tr>\n",
       "      <th>952</th>\n",
       "      <td>1988-04-01</td>\n",
       "      <td>11.3</td>\n",
       "      <td>23.8</td>\n",
       "      <td>3.2</td>\n",
       "    </tr>\n",
       "    <tr>\n",
       "      <th>953</th>\n",
       "      <td>1988-05-01</td>\n",
       "      <td>17.9</td>\n",
       "      <td>31.7</td>\n",
       "      <td>9.1</td>\n",
       "    </tr>\n",
       "    <tr>\n",
       "      <th>954</th>\n",
       "      <td>1988-06-01</td>\n",
       "      <td>22.3</td>\n",
       "      <td>32.8</td>\n",
       "      <td>13.9</td>\n",
       "    </tr>\n",
       "    <tr>\n",
       "      <th>955</th>\n",
       "      <td>1988-07-01</td>\n",
       "      <td>24.4</td>\n",
       "      <td>31.6</td>\n",
       "      <td>19.0</td>\n",
       "    </tr>\n",
       "    <tr>\n",
       "      <th>956</th>\n",
       "      <td>1988-08-01</td>\n",
       "      <td>26.4</td>\n",
       "      <td>36.6</td>\n",
       "      <td>18.4</td>\n",
       "    </tr>\n",
       "    <tr>\n",
       "      <th>957</th>\n",
       "      <td>1988-09-01</td>\n",
       "      <td>21.4</td>\n",
       "      <td>30.8</td>\n",
       "      <td>11.0</td>\n",
       "    </tr>\n",
       "    <tr>\n",
       "      <th>958</th>\n",
       "      <td>1988-10-01</td>\n",
       "      <td>15.0</td>\n",
       "      <td>25.6</td>\n",
       "      <td>2.2</td>\n",
       "    </tr>\n",
       "    <tr>\n",
       "      <th>959</th>\n",
       "      <td>1988-11-01</td>\n",
       "      <td>5.5</td>\n",
       "      <td>17.9</td>\n",
       "      <td>-5.6</td>\n",
       "    </tr>\n",
       "    <tr>\n",
       "      <th>960</th>\n",
       "      <td>1988-12-01</td>\n",
       "      <td>0.1</td>\n",
       "      <td>13.9</td>\n",
       "      <td>-12.2</td>\n",
       "    </tr>\n",
       "  </tbody>\n",
       "</table>\n",
       "</div>"
      ],
      "text/plain": [
       "             일시  평균기온(℃)  최고기온(℃)  최저기온(℃)\n",
       "949  1988-01-01     -2.1     10.1    -12.1\n",
       "950  1988-02-01     -1.5     12.2    -12.9\n",
       "951  1988-03-01      4.3     16.1     -6.8\n",
       "952  1988-04-01     11.3     23.8      3.2\n",
       "953  1988-05-01     17.9     31.7      9.1\n",
       "954  1988-06-01     22.3     32.8     13.9\n",
       "955  1988-07-01     24.4     31.6     19.0\n",
       "956  1988-08-01     26.4     36.6     18.4\n",
       "957  1988-09-01     21.4     30.8     11.0\n",
       "958  1988-10-01     15.0     25.6      2.2\n",
       "959  1988-11-01      5.5     17.9     -5.6\n",
       "960  1988-12-01      0.1     13.9    -12.2"
      ]
     },
     "execution_count": 12,
     "metadata": {},
     "output_type": "execute_result"
    }
   ],
   "source": [
    "df_weather[df_weather['일시'].str[:4] == '1988']"
   ]
  },
  {
   "cell_type": "markdown",
   "id": "5fc64bce-2c21-4ebf-ad15-26764521c443",
   "metadata": {
    "tags": []
   },
   "source": [
    "### Q 8\n",
    "Q7의 df_weather_1988 데이타프레임에서 여름(6~8)월의 평균 기온은?"
   ]
  },
  {
   "cell_type": "code",
   "execution_count": 13,
   "id": "4281baf3-d8e5-48e8-9963-6846871c29b2",
   "metadata": {},
   "outputs": [
    {
     "data": {
      "text/html": [
       "<div>\n",
       "<style scoped>\n",
       "    .dataframe tbody tr th:only-of-type {\n",
       "        vertical-align: middle;\n",
       "    }\n",
       "\n",
       "    .dataframe tbody tr th {\n",
       "        vertical-align: top;\n",
       "    }\n",
       "\n",
       "    .dataframe thead th {\n",
       "        text-align: right;\n",
       "    }\n",
       "</style>\n",
       "<table border=\"1\" class=\"dataframe\">\n",
       "  <thead>\n",
       "    <tr style=\"text-align: right;\">\n",
       "      <th></th>\n",
       "      <th>일시</th>\n",
       "      <th>평균기온(℃)</th>\n",
       "      <th>최고기온(℃)</th>\n",
       "      <th>최저기온(℃)</th>\n",
       "    </tr>\n",
       "  </thead>\n",
       "  <tbody>\n",
       "    <tr>\n",
       "      <th>954</th>\n",
       "      <td>1988-06-01</td>\n",
       "      <td>22.3</td>\n",
       "      <td>32.8</td>\n",
       "      <td>13.9</td>\n",
       "    </tr>\n",
       "    <tr>\n",
       "      <th>955</th>\n",
       "      <td>1988-07-01</td>\n",
       "      <td>24.4</td>\n",
       "      <td>31.6</td>\n",
       "      <td>19.0</td>\n",
       "    </tr>\n",
       "    <tr>\n",
       "      <th>956</th>\n",
       "      <td>1988-08-01</td>\n",
       "      <td>26.4</td>\n",
       "      <td>36.6</td>\n",
       "      <td>18.4</td>\n",
       "    </tr>\n",
       "  </tbody>\n",
       "</table>\n",
       "</div>"
      ],
      "text/plain": [
       "             일시  평균기온(℃)  최고기온(℃)  최저기온(℃)\n",
       "954  1988-06-01     22.3     32.8     13.9\n",
       "955  1988-07-01     24.4     31.6     19.0\n",
       "956  1988-08-01     26.4     36.6     18.4"
      ]
     },
     "execution_count": 13,
     "metadata": {},
     "output_type": "execute_result"
    }
   ],
   "source": [
    "# 여름(6~8)월 만 \n",
    "df_weather_1988.loc[954:956]"
   ]
  },
  {
   "cell_type": "code",
   "execution_count": 14,
   "id": "6501edee-306d-4b4d-9295-e72533280fab",
   "metadata": {},
   "outputs": [
    {
     "data": {
      "text/plain": [
       "954    22.3\n",
       "955    24.4\n",
       "956    26.4\n",
       "Name: 평균기온(℃), dtype: float64"
      ]
     },
     "execution_count": 14,
     "metadata": {},
     "output_type": "execute_result"
    }
   ],
   "source": [
    "df_weather_1988.loc[954:956, '평균기온(℃)']"
   ]
  },
  {
   "cell_type": "code",
   "execution_count": 15,
   "id": "9cf02de2-5095-49f7-a55c-47fd7478ffb4",
   "metadata": {},
   "outputs": [
    {
     "data": {
      "text/plain": [
       "24.366666666666664"
      ]
     },
     "execution_count": 15,
     "metadata": {},
     "output_type": "execute_result"
    }
   ],
   "source": [
    "df_weather_1988.loc[954:956, '평균기온(℃)'].mean()"
   ]
  },
  {
   "cell_type": "code",
   "execution_count": 16,
   "id": "81860e20-7103-409d-a958-956b24c8e485",
   "metadata": {},
   "outputs": [
    {
     "data": {
      "text/plain": [
       "24.366666666666664"
      ]
     },
     "execution_count": 16,
     "metadata": {},
     "output_type": "execute_result"
    }
   ],
   "source": [
    "# 6~8월 불린인덱싱 사용\n",
    "df_weather_1988.loc[(df_weather_1988['일시'].str[5:7].astype(int) >= 6) & (df_weather_1988['일시'].str[5:7].astype(int) <= 8)]['평균기온(℃)'].mean()"
   ]
  },
  {
   "cell_type": "code",
   "execution_count": 17,
   "id": "b2e34f95-c21d-4d03-b579-16d86288a32c",
   "metadata": {},
   "outputs": [],
   "source": [
    "# 월부분 출력"
   ]
  },
  {
   "cell_type": "code",
   "execution_count": 18,
   "id": "244b999f-3896-4a07-8920-266990b513f5",
   "metadata": {},
   "outputs": [
    {
     "data": {
      "text/plain": [
       "949     1\n",
       "950     2\n",
       "951     3\n",
       "952     4\n",
       "953     5\n",
       "954     6\n",
       "955     7\n",
       "956     8\n",
       "957     9\n",
       "958    10\n",
       "959    11\n",
       "960    12\n",
       "Name: 일시, dtype: int32"
      ]
     },
     "execution_count": 18,
     "metadata": {},
     "output_type": "execute_result"
    }
   ],
   "source": [
    "df_weather_1988['일시'].str[5:7].astype(int)"
   ]
  },
  {
   "cell_type": "markdown",
   "id": "b1233786-2cb9-430c-8d9e-600d59e9180b",
   "metadata": {},
   "source": [
    "### Q 9\n",
    "1990년대(1990~1999) 데이타만 별도의 df_weather_1990_ped 데이타로 저장하여라 \n",
    "형변환 astype(정수형) 활용"
   ]
  },
  {
   "cell_type": "code",
   "execution_count": 24,
   "id": "c584895b-b577-432d-8a0e-8c532b9c20f5",
   "metadata": {},
   "outputs": [
    {
     "data": {
      "text/plain": [
       "0       1907\n",
       "1       1907\n",
       "2       1907\n",
       "3       1908\n",
       "4       1908\n",
       "        ... \n",
       "1348     NaN\n",
       "1349     NaN\n",
       "1350     NaN\n",
       "1351     NaN\n",
       "1352     NaN\n",
       "Name: 일시, Length: 1353, dtype: object"
      ]
     },
     "execution_count": 24,
     "metadata": {},
     "output_type": "execute_result"
    }
   ],
   "source": [
    "# 1990~1999\n",
    "# 년도 4자리 추출 => 정수형 형변환 => 조건식\n",
    "df_weather['일시'].str[:4]"
   ]
  },
  {
   "cell_type": "code",
   "execution_count": null,
   "id": "33ace422-1acb-41b8-8a01-b35d7e80b73c",
   "metadata": {},
   "outputs": [],
   "source": []
  }
 ],
 "metadata": {
  "kernelspec": {
   "display_name": "Python 3 (ipykernel)",
   "language": "python",
   "name": "python3"
  },
  "language_info": {
   "codemirror_mode": {
    "name": "ipython",
    "version": 3
   },
   "file_extension": ".py",
   "mimetype": "text/x-python",
   "name": "python",
   "nbconvert_exporter": "python",
   "pygments_lexer": "ipython3",
   "version": "3.9.12"
  },
  "vscode": {
   "interpreter": {
    "hash": "55983821ad1eb94986fec512762632662549869fe77af25c498282581f310801"
   }
  }
 },
 "nbformat": 4,
 "nbformat_minor": 5
}
