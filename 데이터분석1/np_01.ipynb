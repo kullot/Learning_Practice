{
 "cells": [
  {
   "cell_type": "code",
   "execution_count": 1,
   "id": "51d74d6f",
   "metadata": {},
   "outputs": [
    {
     "name": "stderr",
     "output_type": "stream",
     "text": [
      "C:\\Users\\pusan\\AppData\\Local\\Temp\\ipykernel_12080\\365181345.py:2: DeprecationWarning: Importing display from IPython.core.display is deprecated since IPython 7.14, please import from IPython display\n",
      "  from IPython.core.display import display, HTML\n"
     ]
    },
    {
     "data": {
      "text/html": [
       "<style>.container { width:100% !important; font-weight:bold }</style>"
      ],
      "text/plain": [
       "<IPython.core.display.HTML object>"
      ]
     },
     "metadata": {},
     "output_type": "display_data"
    }
   ],
   "source": [
    "# 쥬피터 노트북 셀 크기 설정 \n",
    "from IPython.core.display import display, HTML\n",
    "display(HTML(\"<style>.container { width:100% !important; font-weight:bold }</style>\"))\n",
    "\n",
    "# 경고 메세지 X\n",
    "import warnings\n",
    "warnings.filterwarnings(action='ignore')"
   ]
  },
  {
   "cell_type": "markdown",
   "id": "47943700",
   "metadata": {},
   "source": [
    "### Numpy 개요\n",
    "- Numpy란? Numeric + Python = Numpy(넘파이, 늄파이)\n",
    "- 수학 및 과학 연산을 위한 파이썬 패키지\n",
    "- 관련 사이트 : http://www.numpy.org\n",
    "- 리스트와의 차이점\n",
    "    - 하나의 데이터형만 지원\n",
    "    - np.array 함수를 활용하여 ndarray 배열을 생성함\n",
    "    - 행렬 연산 가능\n",
    "\n",
    "### Numpy 모듈 임포트\n",
    "- import numpy as 별칭(np)"
   ]
  },
  {
   "cell_type": "code",
   "execution_count": 2,
   "id": "dd0a9985",
   "metadata": {},
   "outputs": [],
   "source": [
    "import numpy as np"
   ]
  },
  {
   "cell_type": "markdown",
   "id": "73d7659a",
   "metadata": {},
   "source": [
    "### Numpy 버전 확인하기\n",
    "- numpy(또는 별칭 np).version"
   ]
  },
  {
   "cell_type": "code",
   "execution_count": 6,
   "id": "2cc4986b",
   "metadata": {},
   "outputs": [
    {
     "data": {
      "text/plain": [
       "'1.21.5'"
      ]
     },
     "execution_count": 6,
     "metadata": {},
     "output_type": "execute_result"
    }
   ],
   "source": [
    "np.__version__"
   ]
  },
  {
   "cell_type": "code",
   "execution_count": 7,
   "id": "44a76dae",
   "metadata": {
    "collapsed": true,
    "jupyter": {
     "outputs_hidden": true
    }
   },
   "outputs": [
    {
     "data": {
      "text/plain": [
       "['ALLOW_THREADS',\n",
       " 'AxisError',\n",
       " 'BUFSIZE',\n",
       " 'Bytes0',\n",
       " 'CLIP',\n",
       " 'ComplexWarning',\n",
       " 'DataSource',\n",
       " 'Datetime64',\n",
       " 'ERR_CALL',\n",
       " 'ERR_DEFAULT',\n",
       " 'ERR_IGNORE',\n",
       " 'ERR_LOG',\n",
       " 'ERR_PRINT',\n",
       " 'ERR_RAISE',\n",
       " 'ERR_WARN',\n",
       " 'FLOATING_POINT_SUPPORT',\n",
       " 'FPE_DIVIDEBYZERO',\n",
       " 'FPE_INVALID',\n",
       " 'FPE_OVERFLOW',\n",
       " 'FPE_UNDERFLOW',\n",
       " 'False_',\n",
       " 'Inf',\n",
       " 'Infinity',\n",
       " 'MAXDIMS',\n",
       " 'MAY_SHARE_BOUNDS',\n",
       " 'MAY_SHARE_EXACT',\n",
       " 'MachAr',\n",
       " 'ModuleDeprecationWarning',\n",
       " 'NAN',\n",
       " 'NINF',\n",
       " 'NZERO',\n",
       " 'NaN',\n",
       " 'PINF',\n",
       " 'PZERO',\n",
       " 'RAISE',\n",
       " 'RankWarning',\n",
       " 'SHIFT_DIVIDEBYZERO',\n",
       " 'SHIFT_INVALID',\n",
       " 'SHIFT_OVERFLOW',\n",
       " 'SHIFT_UNDERFLOW',\n",
       " 'ScalarType',\n",
       " 'Str0',\n",
       " 'Tester',\n",
       " 'TooHardError',\n",
       " 'True_',\n",
       " 'UFUNC_BUFSIZE_DEFAULT',\n",
       " 'UFUNC_PYVALS_NAME',\n",
       " 'Uint64',\n",
       " 'VisibleDeprecationWarning',\n",
       " 'WRAP',\n",
       " '_NoValue',\n",
       " '_UFUNC_API',\n",
       " '__NUMPY_SETUP__',\n",
       " '__all__',\n",
       " '__builtins__',\n",
       " '__cached__',\n",
       " '__config__',\n",
       " '__deprecated_attrs__',\n",
       " '__dir__',\n",
       " '__doc__',\n",
       " '__expired_functions__',\n",
       " '__file__',\n",
       " '__getattr__',\n",
       " '__git_version__',\n",
       " '__loader__',\n",
       " '__mkl_version__',\n",
       " '__name__',\n",
       " '__package__',\n",
       " '__path__',\n",
       " '__spec__',\n",
       " '__version__',\n",
       " '_add_newdoc_ufunc',\n",
       " '_distributor_init',\n",
       " '_financial_names',\n",
       " '_globals',\n",
       " '_mat',\n",
       " '_pytesttester',\n",
       " '_version',\n",
       " 'abs',\n",
       " 'absolute',\n",
       " 'add',\n",
       " 'add_docstring',\n",
       " 'add_newdoc',\n",
       " 'add_newdoc_ufunc',\n",
       " 'alen',\n",
       " 'all',\n",
       " 'allclose',\n",
       " 'alltrue',\n",
       " 'amax',\n",
       " 'amin',\n",
       " 'angle',\n",
       " 'any',\n",
       " 'append',\n",
       " 'apply_along_axis',\n",
       " 'apply_over_axes',\n",
       " 'arange',\n",
       " 'arccos',\n",
       " 'arccosh',\n",
       " 'arcsin',\n",
       " 'arcsinh',\n",
       " 'arctan',\n",
       " 'arctan2',\n",
       " 'arctanh',\n",
       " 'argmax',\n",
       " 'argmin',\n",
       " 'argpartition',\n",
       " 'argsort',\n",
       " 'argwhere',\n",
       " 'around',\n",
       " 'array',\n",
       " 'array2string',\n",
       " 'array_equal',\n",
       " 'array_equiv',\n",
       " 'array_repr',\n",
       " 'array_split',\n",
       " 'array_str',\n",
       " 'asanyarray',\n",
       " 'asarray',\n",
       " 'asarray_chkfinite',\n",
       " 'ascontiguousarray',\n",
       " 'asfarray',\n",
       " 'asfortranarray',\n",
       " 'asmatrix',\n",
       " 'asscalar',\n",
       " 'atleast_1d',\n",
       " 'atleast_2d',\n",
       " 'atleast_3d',\n",
       " 'average',\n",
       " 'bartlett',\n",
       " 'base_repr',\n",
       " 'binary_repr',\n",
       " 'bincount',\n",
       " 'bitwise_and',\n",
       " 'bitwise_not',\n",
       " 'bitwise_or',\n",
       " 'bitwise_xor',\n",
       " 'blackman',\n",
       " 'block',\n",
       " 'bmat',\n",
       " 'bool8',\n",
       " 'bool_',\n",
       " 'broadcast',\n",
       " 'broadcast_arrays',\n",
       " 'broadcast_shapes',\n",
       " 'broadcast_to',\n",
       " 'busday_count',\n",
       " 'busday_offset',\n",
       " 'busdaycalendar',\n",
       " 'byte',\n",
       " 'byte_bounds',\n",
       " 'bytes0',\n",
       " 'bytes_',\n",
       " 'c_',\n",
       " 'can_cast',\n",
       " 'cast',\n",
       " 'cbrt',\n",
       " 'cdouble',\n",
       " 'ceil',\n",
       " 'cfloat',\n",
       " 'char',\n",
       " 'character',\n",
       " 'chararray',\n",
       " 'choose',\n",
       " 'clip',\n",
       " 'clongdouble',\n",
       " 'clongfloat',\n",
       " 'column_stack',\n",
       " 'common_type',\n",
       " 'compare_chararrays',\n",
       " 'compat',\n",
       " 'complex128',\n",
       " 'complex64',\n",
       " 'complex_',\n",
       " 'complexfloating',\n",
       " 'compress',\n",
       " 'concatenate',\n",
       " 'conj',\n",
       " 'conjugate',\n",
       " 'convolve',\n",
       " 'copy',\n",
       " 'copysign',\n",
       " 'copyto',\n",
       " 'core',\n",
       " 'corrcoef',\n",
       " 'correlate',\n",
       " 'cos',\n",
       " 'cosh',\n",
       " 'count_nonzero',\n",
       " 'cov',\n",
       " 'cross',\n",
       " 'csingle',\n",
       " 'ctypeslib',\n",
       " 'cumprod',\n",
       " 'cumproduct',\n",
       " 'cumsum',\n",
       " 'datetime64',\n",
       " 'datetime_as_string',\n",
       " 'datetime_data',\n",
       " 'deg2rad',\n",
       " 'degrees',\n",
       " 'delete',\n",
       " 'deprecate',\n",
       " 'deprecate_with_doc',\n",
       " 'diag',\n",
       " 'diag_indices',\n",
       " 'diag_indices_from',\n",
       " 'diagflat',\n",
       " 'diagonal',\n",
       " 'diff',\n",
       " 'digitize',\n",
       " 'disp',\n",
       " 'divide',\n",
       " 'divmod',\n",
       " 'dot',\n",
       " 'double',\n",
       " 'dsplit',\n",
       " 'dstack',\n",
       " 'dtype',\n",
       " 'e',\n",
       " 'ediff1d',\n",
       " 'einsum',\n",
       " 'einsum_path',\n",
       " 'emath',\n",
       " 'empty',\n",
       " 'empty_like',\n",
       " 'equal',\n",
       " 'errstate',\n",
       " 'euler_gamma',\n",
       " 'exp',\n",
       " 'exp2',\n",
       " 'expand_dims',\n",
       " 'expm1',\n",
       " 'extract',\n",
       " 'eye',\n",
       " 'fabs',\n",
       " 'fastCopyAndTranspose',\n",
       " 'fft',\n",
       " 'fill_diagonal',\n",
       " 'find_common_type',\n",
       " 'finfo',\n",
       " 'fix',\n",
       " 'flatiter',\n",
       " 'flatnonzero',\n",
       " 'flexible',\n",
       " 'flip',\n",
       " 'fliplr',\n",
       " 'flipud',\n",
       " 'float16',\n",
       " 'float32',\n",
       " 'float64',\n",
       " 'float_',\n",
       " 'float_power',\n",
       " 'floating',\n",
       " 'floor',\n",
       " 'floor_divide',\n",
       " 'fmax',\n",
       " 'fmin',\n",
       " 'fmod',\n",
       " 'format_float_positional',\n",
       " 'format_float_scientific',\n",
       " 'format_parser',\n",
       " 'frexp',\n",
       " 'frombuffer',\n",
       " 'fromfile',\n",
       " 'fromfunction',\n",
       " 'fromiter',\n",
       " 'frompyfunc',\n",
       " 'fromregex',\n",
       " 'fromstring',\n",
       " 'full',\n",
       " 'full_like',\n",
       " 'gcd',\n",
       " 'generic',\n",
       " 'genfromtxt',\n",
       " 'geomspace',\n",
       " 'get_array_wrap',\n",
       " 'get_include',\n",
       " 'get_printoptions',\n",
       " 'getbufsize',\n",
       " 'geterr',\n",
       " 'geterrcall',\n",
       " 'geterrobj',\n",
       " 'gradient',\n",
       " 'greater',\n",
       " 'greater_equal',\n",
       " 'half',\n",
       " 'hamming',\n",
       " 'hanning',\n",
       " 'heaviside',\n",
       " 'histogram',\n",
       " 'histogram2d',\n",
       " 'histogram_bin_edges',\n",
       " 'histogramdd',\n",
       " 'hsplit',\n",
       " 'hstack',\n",
       " 'hypot',\n",
       " 'i0',\n",
       " 'identity',\n",
       " 'iinfo',\n",
       " 'imag',\n",
       " 'in1d',\n",
       " 'index_exp',\n",
       " 'indices',\n",
       " 'inexact',\n",
       " 'inf',\n",
       " 'info',\n",
       " 'infty',\n",
       " 'inner',\n",
       " 'insert',\n",
       " 'int0',\n",
       " 'int16',\n",
       " 'int32',\n",
       " 'int64',\n",
       " 'int8',\n",
       " 'int_',\n",
       " 'intc',\n",
       " 'integer',\n",
       " 'interp',\n",
       " 'intersect1d',\n",
       " 'intp',\n",
       " 'invert',\n",
       " 'is_busday',\n",
       " 'isclose',\n",
       " 'iscomplex',\n",
       " 'iscomplexobj',\n",
       " 'isfinite',\n",
       " 'isfortran',\n",
       " 'isin',\n",
       " 'isinf',\n",
       " 'isnan',\n",
       " 'isnat',\n",
       " 'isneginf',\n",
       " 'isposinf',\n",
       " 'isreal',\n",
       " 'isrealobj',\n",
       " 'isscalar',\n",
       " 'issctype',\n",
       " 'issubclass_',\n",
       " 'issubdtype',\n",
       " 'issubsctype',\n",
       " 'iterable',\n",
       " 'ix_',\n",
       " 'kaiser',\n",
       " 'kron',\n",
       " 'lcm',\n",
       " 'ldexp',\n",
       " 'left_shift',\n",
       " 'less',\n",
       " 'less_equal',\n",
       " 'lexsort',\n",
       " 'lib',\n",
       " 'linalg',\n",
       " 'linspace',\n",
       " 'little_endian',\n",
       " 'load',\n",
       " 'loads',\n",
       " 'loadtxt',\n",
       " 'log',\n",
       " 'log10',\n",
       " 'log1p',\n",
       " 'log2',\n",
       " 'logaddexp',\n",
       " 'logaddexp2',\n",
       " 'logical_and',\n",
       " 'logical_not',\n",
       " 'logical_or',\n",
       " 'logical_xor',\n",
       " 'logspace',\n",
       " 'longcomplex',\n",
       " 'longdouble',\n",
       " 'longfloat',\n",
       " 'longlong',\n",
       " 'lookfor',\n",
       " 'ma',\n",
       " 'mafromtxt',\n",
       " 'mask_indices',\n",
       " 'mat',\n",
       " 'math',\n",
       " 'matmul',\n",
       " 'matrix',\n",
       " 'matrixlib',\n",
       " 'max',\n",
       " 'maximum',\n",
       " 'maximum_sctype',\n",
       " 'may_share_memory',\n",
       " 'mean',\n",
       " 'median',\n",
       " 'memmap',\n",
       " 'meshgrid',\n",
       " 'mgrid',\n",
       " 'min',\n",
       " 'min_scalar_type',\n",
       " 'minimum',\n",
       " 'mintypecode',\n",
       " 'mkl',\n",
       " 'mod',\n",
       " 'modf',\n",
       " 'moveaxis',\n",
       " 'msort',\n",
       " 'multiply',\n",
       " 'nan',\n",
       " 'nan_to_num',\n",
       " 'nanargmax',\n",
       " 'nanargmin',\n",
       " 'nancumprod',\n",
       " 'nancumsum',\n",
       " 'nanmax',\n",
       " 'nanmean',\n",
       " 'nanmedian',\n",
       " 'nanmin',\n",
       " 'nanpercentile',\n",
       " 'nanprod',\n",
       " 'nanquantile',\n",
       " 'nanstd',\n",
       " 'nansum',\n",
       " 'nanvar',\n",
       " 'nbytes',\n",
       " 'ndarray',\n",
       " 'ndenumerate',\n",
       " 'ndfromtxt',\n",
       " 'ndim',\n",
       " 'ndindex',\n",
       " 'nditer',\n",
       " 'negative',\n",
       " 'nested_iters',\n",
       " 'newaxis',\n",
       " 'nextafter',\n",
       " 'nonzero',\n",
       " 'not_equal',\n",
       " 'numarray',\n",
       " 'number',\n",
       " 'obj2sctype',\n",
       " 'object0',\n",
       " 'object_',\n",
       " 'ogrid',\n",
       " 'oldnumeric',\n",
       " 'ones',\n",
       " 'ones_like',\n",
       " 'os',\n",
       " 'outer',\n",
       " 'packbits',\n",
       " 'pad',\n",
       " 'partition',\n",
       " 'percentile',\n",
       " 'pi',\n",
       " 'piecewise',\n",
       " 'place',\n",
       " 'poly',\n",
       " 'poly1d',\n",
       " 'polyadd',\n",
       " 'polyder',\n",
       " 'polydiv',\n",
       " 'polyfit',\n",
       " 'polyint',\n",
       " 'polymul',\n",
       " 'polynomial',\n",
       " 'polysub',\n",
       " 'polyval',\n",
       " 'positive',\n",
       " 'power',\n",
       " 'printoptions',\n",
       " 'prod',\n",
       " 'product',\n",
       " 'promote_types',\n",
       " 'ptp',\n",
       " 'put',\n",
       " 'put_along_axis',\n",
       " 'putmask',\n",
       " 'quantile',\n",
       " 'r_',\n",
       " 'rad2deg',\n",
       " 'radians',\n",
       " 'random',\n",
       " 'ravel',\n",
       " 'ravel_multi_index',\n",
       " 'real',\n",
       " 'real_if_close',\n",
       " 'rec',\n",
       " 'recarray',\n",
       " 'recfromcsv',\n",
       " 'recfromtxt',\n",
       " 'reciprocal',\n",
       " 'record',\n",
       " 'remainder',\n",
       " 'repeat',\n",
       " 'require',\n",
       " 'reshape',\n",
       " 'resize',\n",
       " 'result_type',\n",
       " 'right_shift',\n",
       " 'rint',\n",
       " 'roll',\n",
       " 'rollaxis',\n",
       " 'roots',\n",
       " 'rot90',\n",
       " 'round',\n",
       " 'round_',\n",
       " 'row_stack',\n",
       " 's_',\n",
       " 'safe_eval',\n",
       " 'save',\n",
       " 'savetxt',\n",
       " 'savez',\n",
       " 'savez_compressed',\n",
       " 'sctype2char',\n",
       " 'sctypeDict',\n",
       " 'sctypes',\n",
       " 'searchsorted',\n",
       " 'select',\n",
       " 'set_numeric_ops',\n",
       " 'set_printoptions',\n",
       " 'set_string_function',\n",
       " 'setbufsize',\n",
       " 'setdiff1d',\n",
       " 'seterr',\n",
       " 'seterrcall',\n",
       " 'seterrobj',\n",
       " 'setxor1d',\n",
       " 'shape',\n",
       " 'shares_memory',\n",
       " 'short',\n",
       " 'show_config',\n",
       " 'sign',\n",
       " 'signbit',\n",
       " 'signedinteger',\n",
       " 'sin',\n",
       " 'sinc',\n",
       " 'single',\n",
       " 'singlecomplex',\n",
       " 'sinh',\n",
       " 'size',\n",
       " 'sometrue',\n",
       " 'sort',\n",
       " 'sort_complex',\n",
       " 'source',\n",
       " 'spacing',\n",
       " 'split',\n",
       " 'sqrt',\n",
       " 'square',\n",
       " 'squeeze',\n",
       " 'stack',\n",
       " 'std',\n",
       " 'str0',\n",
       " 'str_',\n",
       " 'string_',\n",
       " 'subtract',\n",
       " 'sum',\n",
       " 'swapaxes',\n",
       " 'sys',\n",
       " 'take',\n",
       " 'take_along_axis',\n",
       " 'tan',\n",
       " 'tanh',\n",
       " 'tensordot',\n",
       " 'test',\n",
       " 'testing',\n",
       " 'tile',\n",
       " 'timedelta64',\n",
       " 'trace',\n",
       " 'tracemalloc_domain',\n",
       " 'transpose',\n",
       " 'trapz',\n",
       " 'tri',\n",
       " 'tril',\n",
       " 'tril_indices',\n",
       " 'tril_indices_from',\n",
       " 'trim_zeros',\n",
       " 'triu',\n",
       " 'triu_indices',\n",
       " 'triu_indices_from',\n",
       " 'true_divide',\n",
       " 'trunc',\n",
       " 'typecodes',\n",
       " 'typename',\n",
       " 'ubyte',\n",
       " 'ufunc',\n",
       " 'uint',\n",
       " 'uint0',\n",
       " 'uint16',\n",
       " 'uint32',\n",
       " 'uint64',\n",
       " 'uint8',\n",
       " 'uintc',\n",
       " 'uintp',\n",
       " 'ulonglong',\n",
       " 'unicode_',\n",
       " 'union1d',\n",
       " 'unique',\n",
       " 'unpackbits',\n",
       " 'unravel_index',\n",
       " 'unsignedinteger',\n",
       " 'unwrap',\n",
       " 'use_hugepage',\n",
       " 'ushort',\n",
       " 'vander',\n",
       " 'var',\n",
       " 'vdot',\n",
       " 'vectorize',\n",
       " 'version',\n",
       " 'void',\n",
       " 'void0',\n",
       " 'vsplit',\n",
       " 'vstack',\n",
       " 'warnings',\n",
       " 'where',\n",
       " 'who',\n",
       " 'zeros',\n",
       " 'zeros_like']"
      ]
     },
     "execution_count": 7,
     "metadata": {},
     "output_type": "execute_result"
    }
   ],
   "source": [
    "# 전체 모듈에 지원되는 메서드랑 속성 확인\n",
    "dir(np)"
   ]
  },
  {
   "cell_type": "markdown",
   "id": "3edd175c",
   "metadata": {},
   "source": [
    "### 넘파이 배열 만들기\n",
    "- 넘파이 배열을 생성하는 방법들\n",
    "    - 1) np.array(리스트)\n",
    "    - 2) 초기화함수\n",
    "    - 3) 외부파일\n",
    "    \n",
    "### 파이썬리스트(list) => 넘파이 배열화(numpy.ndarray)\n",
    "- np.array(리스트)\n",
    "- 리스트변수 생성후 np.array(리스트명)\n",
    "- np.array([값1, 값2....])\n",
    "- 리스트 형태는 실수, 정수, 문자 넘파이 배열 가능\n",
    "- 넘파이배열명 = np.array(리스트)"
   ]
  },
  {
   "cell_type": "code",
   "execution_count": 9,
   "id": "2d5a0541",
   "metadata": {},
   "outputs": [
    {
     "data": {
      "text/plain": [
       "(list, [1, 2, 3, 4, 5])"
      ]
     },
     "execution_count": 9,
     "metadata": {},
     "output_type": "execute_result"
    }
   ],
   "source": [
    "mylist = [1, 2, 3, 4, 5]\n",
    "type(mylist),mylist"
   ]
  },
  {
   "cell_type": "code",
   "execution_count": 10,
   "id": "1ac5619a",
   "metadata": {},
   "outputs": [
    {
     "data": {
      "text/plain": [
       "(numpy.ndarray, array([1, 2, 3, 4, 5]))"
      ]
     },
     "execution_count": 10,
     "metadata": {},
     "output_type": "execute_result"
    }
   ],
   "source": [
    "# 넘파이배열화\n",
    "arr = np.array(mylist)\n",
    "type(arr),arr"
   ]
  },
  {
   "cell_type": "code",
   "execution_count": 11,
   "id": "841d0e95",
   "metadata": {},
   "outputs": [
    {
     "name": "stdout",
     "output_type": "stream",
     "text": [
      "[1 2 3 4 5]\n"
     ]
    }
   ],
   "source": [
    "print(arr)"
   ]
  },
  {
   "cell_type": "code",
   "execution_count": 13,
   "id": "a0a07859",
   "metadata": {},
   "outputs": [
    {
     "name": "stdout",
     "output_type": "stream",
     "text": [
      "[1 2 3 4 5]\n",
      "<class 'numpy.ndarray'>\n"
     ]
    }
   ],
   "source": [
    "#  넘파이배열 + print()\n",
    "print(arr)\n",
    "print(type(arr))"
   ]
  },
  {
   "cell_type": "code",
   "execution_count": 15,
   "id": "8d2484ac",
   "metadata": {},
   "outputs": [
    {
     "data": {
      "text/plain": [
       "array([  0. ,   1. ,   3.5, 100. ,  -6.7])"
      ]
     },
     "execution_count": 15,
     "metadata": {},
     "output_type": "execute_result"
    }
   ],
   "source": [
    "# 실수형 넘파이 배열 생성\n",
    "# [정수+실수형] => 실수형 넘파이 배열\n",
    "# 데이타형을 혼합하지 않음 => 단일화\n",
    "arr = np.array([0, 1 , 3.5, 100 ,-6.7])\n",
    "arr"
   ]
  },
  {
   "cell_type": "code",
   "execution_count": 17,
   "id": "20e3f573",
   "metadata": {},
   "outputs": [
    {
     "data": {
      "text/plain": [
       "[0, 1, 3.5, 100, -6.7]"
      ]
     },
     "execution_count": 17,
     "metadata": {},
     "output_type": "execute_result"
    }
   ],
   "source": [
    "# 리스트는 데이타형 혼합가능 \n",
    "mylist = [0, 1, 3.5, 100, -6.7]\n",
    "mylist"
   ]
  },
  {
   "cell_type": "code",
   "execution_count": 20,
   "id": "15c143e5",
   "metadata": {},
   "outputs": [
    {
     "data": {
      "text/plain": [
       "array(['파이썬 판다스 넘파이 머신러닝', '자바', 'HTML', '100', 'True'], dtype='<U16')"
      ]
     },
     "execution_count": 20,
     "metadata": {},
     "output_type": "execute_result"
    }
   ],
   "source": [
    "# 문자열형태의 넘파이 배열 생성 \n",
    "# [문자열+정수+불형] => 문자열 넘파이 배열 \n",
    "arr = np.array(['파이썬 판다스 넘파이 머신러닝', '자바', 'HTML', 100, True])\n",
    "arr"
   ]
  },
  {
   "cell_type": "markdown",
   "id": "dbd6c408",
   "metadata": {},
   "source": [
    "### 넘파이 구조 확인하기\n",
    "- 넘파이배열명.shape\n",
    "- 1차원 넘파이 배열의 구조(형태) = (갯수,) = tuple 구조\n",
    "- 2차원 넘파이 배열의 구조(형태) = (행수,열수) = tuple 구조\n",
    "- (전체갯수,)   (해숭, 열수)   (행수, 열수, 면수)\n",
    "- ndim 차원 => 정수형 \n",
    "- size 전체길이 => 정수형"
   ]
  },
  {
   "cell_type": "code",
   "execution_count": 22,
   "id": "d5e8bff3",
   "metadata": {},
   "outputs": [
    {
     "name": "stdout",
     "output_type": "stream",
     "text": [
      "[1 2 3 4 5]\n"
     ]
    },
    {
     "data": {
      "text/plain": [
       "((5,), 1, 5, 5)"
      ]
     },
     "execution_count": 22,
     "metadata": {},
     "output_type": "execute_result"
    }
   ],
   "source": [
    "arr1 = np.array([1,2,3,4,5])\n",
    "print(arr1)\n",
    "arr1.shape, arr1.ndim, arr1.size, len(arr1)"
   ]
  },
  {
   "cell_type": "code",
   "execution_count": 25,
   "id": "08fb4b70",
   "metadata": {},
   "outputs": [
    {
     "data": {
      "text/plain": [
       "[[1, 2, 3], [100, 200], [1000]]"
      ]
     },
     "execution_count": 25,
     "metadata": {},
     "output_type": "execute_result"
    }
   ],
   "source": [
    "# 2차원 리스트 생성\n",
    "# 리스트의 경우 구성 리스트의 길이가 틀려도 된다.\n",
    "myList1 = [[1,2,3],[100,200],[1000]]\n",
    "myList1"
   ]
  },
  {
   "cell_type": "code",
   "execution_count": 28,
   "id": "241036a6",
   "metadata": {},
   "outputs": [
    {
     "name": "stdout",
     "output_type": "stream",
     "text": [
      "[list([1, 2, 3]) list([100, 200]) list([1000])]\n"
     ]
    },
    {
     "data": {
      "text/plain": [
       "((3,), 1, 3, 3)"
      ]
     },
     "execution_count": 28,
     "metadata": {},
     "output_type": "execute_result"
    }
   ],
   "source": [
    "# 2차원 넘파이 배열 생성 - 길이가 서로 다른 경우\n",
    "# 1차원\n",
    "arr2 = np.array([[1,2,3],[100,200],[1000]])\n",
    "print(arr2)\n",
    "arr2.shape, arr2.ndim, arr2.size, len(arr2)"
   ]
  },
  {
   "cell_type": "code",
   "execution_count": 32,
   "id": "b14c467a",
   "metadata": {},
   "outputs": [
    {
     "name": "stdout",
     "output_type": "stream",
     "text": [
      "[[   1    2    3]\n",
      " [ 100  200  300]\n",
      " [1000 2000 3000]]\n"
     ]
    },
    {
     "data": {
      "text/plain": [
       "((3, 3), 2, 9, 3)"
      ]
     },
     "execution_count": 32,
     "metadata": {},
     "output_type": "execute_result"
    }
   ],
   "source": [
    "# 2차원 넘파이 배열 생성 - 구성 요소의 길이가 서로 같은 경우\n",
    "arr3 = np.array([[1,2,3],[100,200,300],[1000,2000,3000]])\n",
    "print(arr3)\n",
    "arr3.shape, arr3.ndim, arr3.size, len(arr3)"
   ]
  },
  {
   "cell_type": "markdown",
   "id": "6e8c69b0",
   "metadata": {},
   "source": [
    "### 넘파이배열과 리스트의 차이점은?\n",
    "```\n",
    "- 리스트의 경우 데이형이 다중인 경우 => 데이타형이 그대로 유지\n",
    "- 넘파이배열의 경우는 하나의 데이터형만 유지\n",
    "    문자 > 실수 > 정수\n",
    "    \n",
    "- 리스트인 경우에는 2차원 이상일때 각 차원의 길이가 달라도 된다\n",
    "- 넘파이 배열인 경우에는 2차원 이상일때 각 차원의 길이가 달라진다면 1차원으로 정의된다.\n",
    "\n",
    "- 리스트 연산자는 +, * 만 존재 \n",
    "- 2개 이상의 넘파이 배열간의 행렬 연산이 가능하다.\n",
    "\n",
    "- 인덱싱\n",
    "1차원은 인덱싱이 리스트와 넘파이배열이 동일 \n",
    "2차원 이상의 리스트 인덱싱 : 리스트명[i][j]\n",
    "2차원 이상의 넘파이배열 인덱싱 : 넘파이배열명[i][j], 넘파이배열명[i,j]\n",
    "```"
   ]
  },
  {
   "cell_type": "code",
   "execution_count": 34,
   "id": "feda57fd",
   "metadata": {},
   "outputs": [
    {
     "data": {
      "text/plain": [
       "(1, 5)"
      ]
     },
     "execution_count": 34,
     "metadata": {},
     "output_type": "execute_result"
    }
   ],
   "source": [
    "# 리스트 인덱싱 - 1차원\n",
    "myList1 = [1,2,3,4,5]\n",
    "myList1[0], myList1[-1]"
   ]
  },
  {
   "cell_type": "code",
   "execution_count": 38,
   "id": "71a412df",
   "metadata": {},
   "outputs": [
    {
     "data": {
      "text/plain": [
       "([1, 2, 3], 1, [1000], 1000)"
      ]
     },
     "execution_count": 38,
     "metadata": {},
     "output_type": "execute_result"
    }
   ],
   "source": [
    "myList2 = [[1,2,3],[100,200],[1000]]\n",
    "myList2[0], myList2[0][0], myList2[-1], myList2[-1][0]"
   ]
  },
  {
   "cell_type": "code",
   "execution_count": 39,
   "id": "c1c54b71",
   "metadata": {},
   "outputs": [
    {
     "data": {
      "text/plain": [
       "(1, 5)"
      ]
     },
     "execution_count": 39,
     "metadata": {},
     "output_type": "execute_result"
    }
   ],
   "source": [
    "# 넘파이배열 인덱싱 - 1 차원\n",
    "arr1 = np.array([1, 2, 3, 4, 5])\n",
    "arr1[0], arr1[-1]"
   ]
  },
  {
   "cell_type": "code",
   "execution_count": 41,
   "id": "d3c47fd8",
   "metadata": {},
   "outputs": [
    {
     "name": "stdout",
     "output_type": "stream",
     "text": [
      "[[   1    2    3]\n",
      " [ 100  200  300]\n",
      " [1000 2000 3000]]\n",
      "\n"
     ]
    },
    {
     "data": {
      "text/plain": [
       "(array([1, 2, 3]), 1, array([1000, 2000, 3000]), 1000)"
      ]
     },
     "execution_count": 41,
     "metadata": {},
     "output_type": "execute_result"
    }
   ],
   "source": [
    "# 넘파이배열 인덱싱 - 2 차원 \n",
    "# 넘파이배열명[행인덱스][열인덱스]\n",
    "# 넘파이배열명[행인덱스,열인덱스]\n",
    "arr2 = np.array([ [1, 2, 3], [100, 200, 300], [1000, 2000, 3000] ])\n",
    "print(arr2)\n",
    "print()\n",
    "arr2[0], arr2[0][0], arr2[-1], arr2[-1][0]"
   ]
  },
  {
   "cell_type": "markdown",
   "id": "2c9d1d7e",
   "metadata": {},
   "source": [
    "### 리스트 구조의 연산 테스트"
   ]
  },
  {
   "cell_type": "code",
   "execution_count": 43,
   "id": "5122169e",
   "metadata": {},
   "outputs": [
    {
     "data": {
      "text/plain": [
       "[1, 2, 3, 4, 5, 10, 20, 30, 40, 50]"
      ]
     },
     "execution_count": 43,
     "metadata": {},
     "output_type": "execute_result"
    }
   ],
   "source": [
    "list_a = [1,2,3,4,5]\n",
    "list_b = [10,20,30,40,50]\n",
    "# +는 연결의 의미 => 합집합\n",
    "list_a+list_b"
   ]
  },
  {
   "cell_type": "code",
   "execution_count": 46,
   "id": "a8b8a39e",
   "metadata": {},
   "outputs": [],
   "source": [
    "# TypeError\n",
    "# list_a-list_b\n",
    "# list_a*list_b"
   ]
  },
  {
   "cell_type": "code",
   "execution_count": 48,
   "id": "28f261b0",
   "metadata": {},
   "outputs": [
    {
     "data": {
      "text/plain": [
       "[1, 2, 3, 4, 5, 1, 2, 3, 4, 5]"
      ]
     },
     "execution_count": 48,
     "metadata": {},
     "output_type": "execute_result"
    }
   ],
   "source": [
    "# 리스트*숫자 => 반복의 의미\n",
    "list_a*2"
   ]
  },
  {
   "cell_type": "code",
   "execution_count": 51,
   "id": "e2642518",
   "metadata": {},
   "outputs": [
    {
     "data": {
      "text/plain": [
       "[-9, -18, -27, -36, -45]"
      ]
     },
     "execution_count": 51,
     "metadata": {},
     "output_type": "execute_result"
    }
   ],
   "source": [
    "# 리스트 구조에서 같은 위치의 값들을 연산하려면?\n",
    "result = []\n",
    "for i in range(len(list_a)):\n",
    "    # 같은 위치의 인덱스끼리 연산\n",
    "    temp = list_a[i] - list_b[i]\n",
    "    result.append(temp)\n",
    "result"
   ]
  },
  {
   "cell_type": "markdown",
   "id": "92d0436b",
   "metadata": {},
   "source": [
    "### 리스트 구조의 연산 테스트"
   ]
  },
  {
   "cell_type": "code",
   "execution_count": 53,
   "id": "91ba5f1a",
   "metadata": {},
   "outputs": [
    {
     "data": {
      "text/plain": [
       "(array([1, 2, 3, 4, 5]), array([10, 20, 30, 40, 50]))"
      ]
     },
     "execution_count": 53,
     "metadata": {},
     "output_type": "execute_result"
    }
   ],
   "source": [
    "# 1차원 넘파이 배열 생성\n",
    "arr_a = np.array([1,2,3,4,5])\n",
    "arr_b = np.array([10,20,30,40,50])\n",
    "arr_a, arr_b"
   ]
  },
  {
   "cell_type": "code",
   "execution_count": 56,
   "id": "1c2071bb",
   "metadata": {
    "scrolled": true
   },
   "outputs": [
    {
     "data": {
      "text/plain": [
       "array([ -9, -18, -27, -36, -45])"
      ]
     },
     "execution_count": 56,
     "metadata": {},
     "output_type": "execute_result"
    }
   ],
   "source": [
    "# 두 배열간의 연산자 적용\n",
    "# 같은 인덱스 끼리 연산\n",
    "arr_a - arr_b"
   ]
  },
  {
   "cell_type": "code",
   "execution_count": 55,
   "id": "46767508",
   "metadata": {},
   "outputs": [
    {
     "data": {
      "text/plain": [
       "array([0.1, 0.1, 0.1, 0.1, 0.1])"
      ]
     },
     "execution_count": 55,
     "metadata": {},
     "output_type": "execute_result"
    }
   ],
   "source": [
    "# 실수몫\n",
    "arr_a / arr_b"
   ]
  },
  {
   "cell_type": "code",
   "execution_count": 57,
   "id": "279841da",
   "metadata": {},
   "outputs": [
    {
     "data": {
      "text/plain": [
       "array([0, 0, 0, 0, 0], dtype=int32)"
      ]
     },
     "execution_count": 57,
     "metadata": {},
     "output_type": "execute_result"
    }
   ],
   "source": [
    "# 정수몫\n",
    "arr_a // arr_b"
   ]
  },
  {
   "cell_type": "markdown",
   "id": "890a9853",
   "metadata": {},
   "source": [
    "### 넘파이 배열에 특정 숫자 곱하기\n",
    "브로드캐스팅(Broadcasting) : 1차원 또는 2차원 배열 모두 각각 원소에 값이 합쳐진다"
   ]
  },
  {
   "cell_type": "code",
   "execution_count": 58,
   "id": "0b2b158b",
   "metadata": {},
   "outputs": [
    {
     "data": {
      "text/plain": [
       "array([ 5, 10, 15, 20, 25])"
      ]
     },
     "execution_count": 58,
     "metadata": {},
     "output_type": "execute_result"
    }
   ],
   "source": [
    "arr1 = np.array([1,2,3,4,5])\n",
    "arr1*5"
   ]
  },
  {
   "cell_type": "code",
   "execution_count": 59,
   "id": "6316f8e9",
   "metadata": {},
   "outputs": [
    {
     "data": {
      "text/plain": [
       "array([[   1,    2,    3],\n",
       "       [ 100,  200,  300],\n",
       "       [1000, 2000, 3000]])"
      ]
     },
     "execution_count": 59,
     "metadata": {},
     "output_type": "execute_result"
    }
   ],
   "source": [
    "arr2 = np.array([ [1, 2, 3], [100, 200, 300], [1000, 2000, 3000] ])\n",
    "arr2"
   ]
  },
  {
   "cell_type": "code",
   "execution_count": 61,
   "id": "5f4c5e4b",
   "metadata": {},
   "outputs": [
    {
     "data": {
      "text/plain": [
       "array([[1, 0, 1],\n",
       "       [0, 0, 0],\n",
       "       [0, 0, 0]], dtype=int32)"
      ]
     },
     "execution_count": 61,
     "metadata": {},
     "output_type": "execute_result"
    }
   ],
   "source": [
    "arr2%2"
   ]
  },
  {
   "cell_type": "markdown",
   "id": "6c32bf51",
   "metadata": {},
   "source": [
    "### 넘파이 초기화함수\n",
    "- np.zeros(갯수) : 0으로 구성된 1차원 넘파이 배열\n",
    "- np.zeros([행수,열수]) : 0으로 구성된 2차원 넘파이 배열\n",
    "- np.ones(갯수) : 1로 구성된 1차원 넘파이 배열\n",
    "- np.ones([행수,열수]) : 1로 구성된 2차원 넘파이 배열\n",
    "- np.empty(갯수) : 1차원 비어있는 배열. 0과 비슷. 초기화되지 않아서 기존 메모리 위치에 존재하는 값이 있을 수 있다.\n",
    "- np.empty([행수,열수]) : 2차원 비어있는 배열. 0과 비슷하지만 실수로 구성될 수 있음\n",
    "- np.full(갯수, 초기값) : 모든 요소를 지정한 값으로 지정하는 1차원 넘파이 배열\n",
    "- np.full([행수,열수], 초기값) : 모든 요소를 지정한 값으로 지정하는 2차원 넘파이 배열\n",
    "- np.eye(갯수) : 주대각선의 원소가 모두 1이고 나머지 원소는 모두 0일 정사각형인 2차원 넘파이 배열\n",
    "- np.tri(갯수) : 주대각선을 기준으로 삼각형 형태의 1로 지정되는 정사각형 2차원 넘파이 배열\n",
    "- np.?_like(넘파이배열명) : 지정된 넘파이배열과 shape 가 같은 넘파이 배열 생성\n",
    "    -   np.zeros_like(넘파이배열명)\n",
    "    -   np.ones_like(넘파이배열명)\n",
    "    -   np.full_like(넘파이배열명, 값)\n",
    "    -   np.empty_like(넘파이배열명)"
   ]
  },
  {
   "cell_type": "code",
   "execution_count": 66,
   "id": "897d90e0",
   "metadata": {
    "scrolled": true
   },
   "outputs": [
    {
     "data": {
      "text/plain": [
       "array([0., 0., 0., 0., 0., 0., 0., 0., 0., 0.])"
      ]
     },
     "execution_count": 66,
     "metadata": {},
     "output_type": "execute_result"
    }
   ],
   "source": [
    "# 1차원 넘파이 배열 길이 10인데 초기값은 모두 0 => 실수형 배열\n",
    "np.zeros(10)"
   ]
  },
  {
   "cell_type": "code",
   "execution_count": 65,
   "id": "ee4c3b41",
   "metadata": {},
   "outputs": [
    {
     "data": {
      "text/plain": [
       "array([0, 0, 0, 0, 0, 0, 0, 0, 0, 0])"
      ]
     },
     "execution_count": 65,
     "metadata": {},
     "output_type": "execute_result"
    }
   ],
   "source": [
    "# 초기값은 모두 0 => 정수형 배열 \n",
    "np.zeros(10, dtype=int)"
   ]
  },
  {
   "cell_type": "code",
   "execution_count": 85,
   "id": "3ba1fb0c",
   "metadata": {},
   "outputs": [
    {
     "data": {
      "text/plain": [
       "array([[0., 0., 0.],\n",
       "       [0., 0., 0.],\n",
       "       [0., 0., 0.]])"
      ]
     },
     "execution_count": 85,
     "metadata": {},
     "output_type": "execute_result"
    }
   ],
   "source": [
    "# 2차원 넘파이 배열 3행3열 , 초기값은 모두 0 => 실수형 배열\n",
    "np.zeros([3,3])"
   ]
  },
  {
   "cell_type": "code",
   "execution_count": 71,
   "id": "b9c9e40d",
   "metadata": {},
   "outputs": [
    {
     "data": {
      "text/plain": [
       "array([[0, 0, 0],\n",
       "       [0, 0, 0],\n",
       "       [0, 0, 0]])"
      ]
     },
     "execution_count": 71,
     "metadata": {},
     "output_type": "execute_result"
    }
   ],
   "source": [
    "# 2차원 넘파이 배열 3행3열 , 초기값은 모두 0 => 정수형 배열 \n",
    "np.zeros([3,3],dtype=int)"
   ]
  },
  {
   "cell_type": "code",
   "execution_count": 83,
   "id": "8cfbafd2",
   "metadata": {},
   "outputs": [
    {
     "data": {
      "text/plain": [
       "array([[1, 1, 1],\n",
       "       [1, 1, 1],\n",
       "       [1, 1, 1]])"
      ]
     },
     "execution_count": 83,
     "metadata": {},
     "output_type": "execute_result"
    }
   ],
   "source": [
    "# 2차원 넘파이 배열 3행3열 , 초기값은 모두 10 => 실수형 배열\n",
    "np.ones([3,3],dtype=int)"
   ]
  },
  {
   "cell_type": "code",
   "execution_count": 80,
   "id": "a0357ebf",
   "metadata": {},
   "outputs": [
    {
     "data": {
      "text/plain": [
       "array([[10., 10., 10.],\n",
       "       [10., 10., 10.],\n",
       "       [10., 10., 10.]])"
      ]
     },
     "execution_count": 80,
     "metadata": {},
     "output_type": "execute_result"
    }
   ],
   "source": [
    "# 2차원 넘파이 배열 3행3열 , 초기값은 모두 10. => 실수형 배열\n",
    "np.full([3,3],10.)"
   ]
  },
  {
   "cell_type": "code",
   "execution_count": 86,
   "id": "5bb218c1",
   "metadata": {},
   "outputs": [
    {
     "data": {
      "text/plain": [
       "array([[0., 0., 0.],\n",
       "       [0., 0., 0.],\n",
       "       [0., 0., 0.]])"
      ]
     },
     "execution_count": 86,
     "metadata": {},
     "output_type": "execute_result"
    }
   ],
   "source": [
    "np.empty([3,3])"
   ]
  },
  {
   "cell_type": "code",
   "execution_count": 88,
   "id": "8bad7797",
   "metadata": {
    "scrolled": true
   },
   "outputs": [
    {
     "data": {
      "text/plain": [
       "array([[1., 0., 0.],\n",
       "       [0., 1., 0.],\n",
       "       [0., 0., 1.]])"
      ]
     },
     "execution_count": 88,
     "metadata": {},
     "output_type": "execute_result"
    }
   ],
   "source": [
    "# 행과 열의 개수가 같다\n",
    "np.eye(3)"
   ]
  },
  {
   "cell_type": "code",
   "execution_count": 89,
   "id": "b25c03f6",
   "metadata": {},
   "outputs": [
    {
     "data": {
      "text/plain": [
       "array([[1, 0, 0, 0],\n",
       "       [0, 1, 0, 0],\n",
       "       [0, 0, 1, 0],\n",
       "       [0, 0, 0, 1]])"
      ]
     },
     "execution_count": 89,
     "metadata": {},
     "output_type": "execute_result"
    }
   ],
   "source": [
    "# 행과 열의 개수가 같다\n",
    "np.eye(4, dtype=int)"
   ]
  },
  {
   "cell_type": "code",
   "execution_count": 92,
   "id": "1eaf7d29",
   "metadata": {},
   "outputs": [
    {
     "data": {
      "text/plain": [
       "array([[1., 0., 0.],\n",
       "       [1., 1., 0.],\n",
       "       [1., 1., 1.]])"
      ]
     },
     "execution_count": 92,
     "metadata": {},
     "output_type": "execute_result"
    }
   ],
   "source": [
    "np.tri(3)"
   ]
  },
  {
   "cell_type": "code",
   "execution_count": 93,
   "id": "366b47c5",
   "metadata": {},
   "outputs": [
    {
     "data": {
      "text/plain": [
       "array([[1, 0, 0],\n",
       "       [1, 1, 0],\n",
       "       [1, 1, 1]])"
      ]
     },
     "execution_count": 93,
     "metadata": {},
     "output_type": "execute_result"
    }
   ],
   "source": [
    "np.tri(3, dtype=int)"
   ]
  },
  {
   "cell_type": "code",
   "execution_count": 95,
   "id": "c105e5a1",
   "metadata": {},
   "outputs": [
    {
     "data": {
      "text/plain": [
       "array([[1, 2, 3],\n",
       "       [4, 5, 6],\n",
       "       [6, 7, 8]])"
      ]
     },
     "execution_count": 95,
     "metadata": {},
     "output_type": "execute_result"
    }
   ],
   "source": [
    "arr = np.array([[1,2,3],[4,5,6],[6,7,8]])\n",
    "arr"
   ]
  },
  {
   "cell_type": "code",
   "execution_count": 96,
   "id": "d02f4431",
   "metadata": {},
   "outputs": [
    {
     "data": {
      "text/plain": [
       "array([[0, 0, 0],\n",
       "       [0, 0, 0],\n",
       "       [0, 0, 0]])"
      ]
     },
     "execution_count": 96,
     "metadata": {},
     "output_type": "execute_result"
    }
   ],
   "source": [
    "# arr과 같은 너파이 배열 구조인데 초기값은 0\n",
    "np.zeros_like(arr)"
   ]
  },
  {
   "cell_type": "code",
   "execution_count": 97,
   "id": "a3f4b825",
   "metadata": {},
   "outputs": [
    {
     "data": {
      "text/plain": [
       "array([[5.5, 5.5, 5.5],\n",
       "       [5.5, 5.5, 5.5],\n",
       "       [5.5, 5.5, 5.5]])"
      ]
     },
     "execution_count": 97,
     "metadata": {},
     "output_type": "execute_result"
    }
   ],
   "source": [
    "# arr 과 같은 넘파이 배열 구조인데 특정값으로 초기화  =>  실수형 \n",
    "np.full_like(arr, 5.5, dtype=float)"
   ]
  },
  {
   "cell_type": "code",
   "execution_count": 98,
   "id": "75e734c0",
   "metadata": {},
   "outputs": [
    {
     "data": {
      "text/plain": [
       "array([[4128860, 6029375, 3801155],\n",
       "       [5570652, 6619251, 7536754],\n",
       "       [ -65536,      -1, 7208960]])"
      ]
     },
     "execution_count": 98,
     "metadata": {},
     "output_type": "execute_result"
    }
   ],
   "source": [
    "# arr과 같은 넘파이 배열 구조인데 기존 메모리에 적재되어 있는 값으로 출력\n",
    "np.empty_like(arr)"
   ]
  },
  {
   "cell_type": "code",
   "execution_count": 102,
   "id": "eec288ec",
   "metadata": {},
   "outputs": [
    {
     "data": {
      "text/plain": [
       "(range(0, 10), range, [0, 1, 2, 3, 4, 5, 6, 7, 8, 9])"
      ]
     },
     "execution_count": 102,
     "metadata": {},
     "output_type": "execute_result"
    }
   ],
   "source": [
    "# 파이썬의 range() 함수 테스트\n",
    "# range(start, end, step)\n",
    "# start ~ end -1 : 자동숫자생성\n",
    "range(10), type(range(10)), list(range(10))"
   ]
  },
  {
   "cell_type": "code",
   "execution_count": 105,
   "id": "5597d068",
   "metadata": {
    "scrolled": true
   },
   "outputs": [
    {
     "name": "stdout",
     "output_type": "stream",
     "text": [
      "[1, 3, 5, 7, 9, 11, 13, 15, 17, 19, 21, 23, 25, 27, 29, 31, 33, 35, 37, 39, 41, 43, 45, 47, 49, 51, 53, 55, 57, 59, 61, 63, 65, 67, 69, 71, 73, 75, 77, 79, 81, 83, 85, 87, 89, 91, 93, 95, 97, 99]\n"
     ]
    }
   ],
   "source": [
    "# 1~100 사이에서 홀수만 리스트로 생성\n",
    "print(list(range(1,101,2)))"
   ]
  },
  {
   "cell_type": "code",
   "execution_count": 107,
   "id": "2db09bd7",
   "metadata": {},
   "outputs": [
    {
     "data": {
      "text/plain": [
       "array([ 1,  2,  3,  4,  5,  6,  7,  8,  9, 10])"
      ]
     },
     "execution_count": 107,
     "metadata": {},
     "output_type": "execute_result"
    }
   ],
   "source": [
    "# 1~10까지 넘파이 배열 생성\n",
    "np.arange(1,11)"
   ]
  },
  {
   "cell_type": "code",
   "execution_count": 109,
   "id": "8982f68d",
   "metadata": {},
   "outputs": [
    {
     "data": {
      "text/plain": [
       "array([10,  9,  8,  7,  6,  5,  4,  3,  2,  1])"
      ]
     },
     "execution_count": 109,
     "metadata": {},
     "output_type": "execute_result"
    }
   ],
   "source": [
    "# 10~1까지 넘파이 배열 생성\n",
    "np.arange(10,0,-1)"
   ]
  },
  {
   "cell_type": "code",
   "execution_count": 119,
   "id": "781d2df0",
   "metadata": {
    "collapsed": true,
    "jupyter": {
     "outputs_hidden": true
    }
   },
   "outputs": [
    {
     "name": "stdout",
     "output_type": "stream",
     "text": [
      "[ 1  2  3  4  5  6  7  8  9 10]\n",
      "1\n",
      "2\n",
      "3\n",
      "4\n",
      "5\n",
      "6\n",
      "7\n",
      "8\n",
      "9\n",
      "10\n",
      "0  =  1\n",
      "1  =  2\n",
      "2  =  3\n",
      "3  =  4\n",
      "4  =  5\n",
      "5  =  6\n",
      "6  =  7\n",
      "7  =  8\n",
      "8  =  9\n",
      "9  =  10\n"
     ]
    }
   ],
   "source": [
    "# for문 + 넘파이 배열\n",
    "arr1 = np.arange(1,11)\n",
    "print(arr1)\n",
    "for item in arr1:\n",
    "    print(item)\n",
    "for i in range(len(arr1)):\n",
    "    print(i,' = ', arr1[i])"
   ]
  },
  {
   "cell_type": "code",
   "execution_count": 121,
   "id": "4e314b60",
   "metadata": {},
   "outputs": [
    {
     "data": {
      "text/plain": [
       "array([ 0. ,  2.5,  5. ,  7.5, 10. ])"
      ]
     },
     "execution_count": 121,
     "metadata": {},
     "output_type": "execute_result"
    }
   ],
   "source": [
    "# 0~10범위를 5등분\n",
    "np.linspace(0,10,5)"
   ]
  },
  {
   "cell_type": "code",
   "execution_count": 123,
   "id": "ffc2e369",
   "metadata": {},
   "outputs": [
    {
     "data": {
      "text/plain": [
       "array([-10,  -5,   0,   5,  10])"
      ]
     },
     "execution_count": 123,
     "metadata": {},
     "output_type": "execute_result"
    }
   ],
   "source": [
    "# -10~10범위를 5등분 => 정수형# 0~10범위를 5등분\n",
    "np.linspace(0,10,5)\n",
    "np.linspace(-10,10,5, dtype=int)"
   ]
  },
  {
   "cell_type": "markdown",
   "id": "b25d450b",
   "metadata": {},
   "source": [
    "### 넘파이배열의 데이터형 확인하기\n",
    "- type(변수/값) => 전체객체의 자료형\n",
    "- 넘파이배열.dtype : int32, <U2 , float64\n",
    "- dtype : data type\n",
    "- 넘파이배열생성시 자료형함께 지정하기\n",
    "    - np.array(리스트, dtype=자료형)\n",
    "\n",
    "### 리스트의 데이타형 확인"
   ]
  },
  {
   "cell_type": "code",
   "execution_count": 124,
   "id": "37e3f258",
   "metadata": {},
   "outputs": [
    {
     "data": {
      "text/plain": [
       "(list, int, float, bool, str)"
      ]
     },
     "execution_count": 124,
     "metadata": {},
     "output_type": "execute_result"
    }
   ],
   "source": [
    "# 리스트 + type() 테스트 \n",
    "myList = [1, 2, 3.14, True, '강아지']\n",
    "type(myList), type(myList[0]), type(myList[2]), type(myList[3]), type(myList[-1])"
   ]
  },
  {
   "cell_type": "code",
   "execution_count": null,
   "id": "9730e628",
   "metadata": {},
   "outputs": [],
   "source": [
    "# AttributeError\n",
    "# myList[0].dtype"
   ]
  },
  {
   "cell_type": "code",
   "execution_count": 135,
   "id": "2ec2c812",
   "metadata": {},
   "outputs": [
    {
     "data": {
      "text/plain": [
       "(numpy.ndarray, numpy.ndarray, numpy.ndarray)"
      ]
     },
     "execution_count": 135,
     "metadata": {},
     "output_type": "execute_result"
    }
   ],
   "source": [
    "# # 넘파이배열 + type() + dtype 테스트 \n",
    "# arr1 = np.array(([1, 2, 3])\n",
    "# arr2 = np.array([1.3, 4.5, 4.56])\n",
    "# arr3 = np.array(['파이썬', '자바', 'DB'])\n",
    "# type(arr1),type(arr2),type(arr3)\n",
    "# 넘파이배열 + type() + dtype 테스트 \n",
    "arr1 = np.array([1, 2, 3])\n",
    "arr2 = np.array([1.3, 4.5, 4.56])\n",
    "arr3 = np.array(['파이썬프로그래밍', '자바', 'DB'])\n",
    "type(arr1), type(arr2), type(arr3)"
   ]
  },
  {
   "cell_type": "code",
   "execution_count": 136,
   "id": "361f5df2",
   "metadata": {},
   "outputs": [
    {
     "data": {
      "text/plain": [
       "(dtype('int32'), dtype('float64'), dtype('<U8'))"
      ]
     },
     "execution_count": 136,
     "metadata": {},
     "output_type": "execute_result"
    }
   ],
   "source": [
    "arr1.dtype, arr2.dtype, arr3.dtype"
   ]
  },
  {
   "cell_type": "code",
   "execution_count": 137,
   "id": "403eda69",
   "metadata": {
    "scrolled": true
   },
   "outputs": [
    {
     "name": "stdout",
     "output_type": "stream",
     "text": [
      "<class 'numpy.ndarray'>\n"
     ]
    }
   ],
   "source": [
    "print(type(arr1))"
   ]
  },
  {
   "cell_type": "markdown",
   "id": "839ba387",
   "metadata": {},
   "source": [
    "# 넘파이 배열 생성시 자료형 설정\n",
    "\n",
    "np.array(리스트, dtype=자료형)\n",
    "자료형은? int, float, str, '<U숫자', bool"
   ]
  },
  {
   "cell_type": "code",
   "execution_count": 139,
   "id": "81131165",
   "metadata": {},
   "outputs": [
    {
     "data": {
      "text/plain": [
       "(array(['1', '2', '3', '4', '5'], dtype='<U1'), dtype('<U1'))"
      ]
     },
     "execution_count": 139,
     "metadata": {},
     "output_type": "execute_result"
    }
   ],
   "source": [
    "# 문자숫자로 구성된 넘파이 배열 생성 \n",
    "arr1 = np.array([1, 2, 3, 4, 5], dtype=str)\n",
    "arr1, arr1.dtype"
   ]
  },
  {
   "cell_type": "code",
   "execution_count": 144,
   "id": "36c7bab0",
   "metadata": {
    "scrolled": true
   },
   "outputs": [
    {
     "data": {
      "text/plain": [
       "(array([ True, False,  True, False,  True]), dtype('bool'))"
      ]
     },
     "execution_count": 144,
     "metadata": {},
     "output_type": "execute_result"
    }
   ],
   "source": [
    "# 논리형(불형 bool)으로 구성된 넘파이 배열 생성\n",
    "# 0 은 False, 나머지 숫자 모두는 True\n",
    "arr2 = np.array([1, 0,-11,0,5], dtype=bool)\n",
    "arr2, arr2.dtype"
   ]
  },
  {
   "cell_type": "markdown",
   "id": "72db8280",
   "metadata": {},
   "source": [
    "### 데이터 형변환하기(캐스팅)\n",
    "- 새배열변수 = 배열이름.astype(데이터형)\n",
    "- 데이터형 : float, int, '<U2', np.str"
   ]
  },
  {
   "cell_type": "markdown",
   "id": "3a4b702f",
   "metadata": {},
   "source": [
    "### 자료형변환\n",
    "- 자동형 => 정수 < 실수 < 문자열\n",
    "- 강제형 -> 캐스팅(casting)"
   ]
  },
  {
   "cell_type": "code",
   "execution_count": 145,
   "id": "8e522e8c",
   "metadata": {},
   "outputs": [
    {
     "data": {
      "text/plain": [
       "(array(['1', '3.14', '100', 'True'], dtype='<U32'), dtype('<U32'))"
      ]
     },
     "execution_count": 145,
     "metadata": {},
     "output_type": "execute_result"
    }
   ],
   "source": [
    "# 자동 형변환\n",
    "# 정수 + 실수 + 문자열 + 논리 => 문자열\n",
    "arr = np.array([1,3.14,'100',True])\n",
    "arr, arr.dtype"
   ]
  },
  {
   "cell_type": "code",
   "execution_count": 147,
   "id": "9fd5ce09",
   "metadata": {},
   "outputs": [
    {
     "data": {
      "text/plain": [
       "(dtype('int32'), dtype('float64'), dtype('<U3'))"
      ]
     },
     "execution_count": 147,
     "metadata": {},
     "output_type": "execute_result"
    }
   ],
   "source": [
    "# 캐스팅\n",
    "# 배열이름.astype(데이터형)\n",
    "arr1 = np.array([1, 2, 3])\n",
    "arr2 = np.array([1.3, 4.5, 4.56])\n",
    "arr3 = np.array(['100', '200', '300'])\n",
    "arr1.dtype, arr2.dtype, arr3.dtype"
   ]
  },
  {
   "cell_type": "code",
   "execution_count": 149,
   "id": "f5bef1b9",
   "metadata": {},
   "outputs": [
    {
     "data": {
      "text/plain": [
       "array([ True,  True,  True])"
      ]
     },
     "execution_count": 149,
     "metadata": {},
     "output_type": "execute_result"
    }
   ],
   "source": [
    "# 정수형 => 논리형 (원본X, 미리보기)\n",
    "arr1.astype(bool)"
   ]
  },
  {
   "cell_type": "code",
   "execution_count": 150,
   "id": "9a2e304c",
   "metadata": {},
   "outputs": [
    {
     "data": {
      "text/plain": [
       "(array([ True,  True,  True]), array([1, 2, 3]))"
      ]
     },
     "execution_count": 150,
     "metadata": {},
     "output_type": "execute_result"
    }
   ],
   "source": [
    "# 정수형 => 논리형 (원본X, 미리보기)\n",
    "arr1.astype(bool), arr1"
   ]
  },
  {
   "cell_type": "code",
   "execution_count": 151,
   "id": "f79b5b7a",
   "metadata": {},
   "outputs": [
    {
     "data": {
      "text/plain": [
       "(array([ True,  True,  True]), array([1, 2, 3]))"
      ]
     },
     "execution_count": 151,
     "metadata": {},
     "output_type": "execute_result"
    }
   ],
   "source": [
    "# 정수형 => 논리형 (원본X, 미리보기)\n",
    "arr1.astype(bool), arr1"
   ]
  },
  {
   "cell_type": "code",
   "execution_count": 152,
   "id": "0639652d",
   "metadata": {},
   "outputs": [
    {
     "data": {
      "text/plain": [
       "array([ True,  True,  True])"
      ]
     },
     "execution_count": 152,
     "metadata": {},
     "output_type": "execute_result"
    }
   ],
   "source": [
    "# 원본도 함께 변경\n",
    "arr1 = arr1.astype(bool)\n",
    "arr1"
   ]
  },
  {
   "cell_type": "code",
   "execution_count": 152,
   "id": "327b4e96",
   "metadata": {},
   "outputs": [
    {
     "data": {
      "text/plain": [
       "array([ True,  True,  True])"
      ]
     },
     "execution_count": 152,
     "metadata": {},
     "output_type": "execute_result"
    }
   ],
   "source": [
    "# 원본도 함께 변경\n",
    "arr1 = arr1.astype(bool)\n",
    "arr1"
   ]
  },
  {
   "cell_type": "code",
   "execution_count": 153,
   "id": "94b95c70",
   "metadata": {},
   "outputs": [
    {
     "data": {
      "text/plain": [
       "(array([1.3 , 4.5 , 4.56]), array([1, 4, 4]))"
      ]
     },
     "execution_count": 153,
     "metadata": {},
     "output_type": "execute_result"
    }
   ],
   "source": [
    "# 실수형 => 정수형 \n",
    "arr2, arr2.astype(int)"
   ]
  },
  {
   "cell_type": "code",
   "execution_count": 154,
   "id": "7e5a0cfc",
   "metadata": {},
   "outputs": [
    {
     "data": {
      "text/plain": [
       "(array([1.3 , 4.5 , 4.56]), array([1, 4, 4]))"
      ]
     },
     "execution_count": 154,
     "metadata": {},
     "output_type": "execute_result"
    }
   ],
   "source": [
    "# 실수형 => 정수형 \n",
    "# 소숫점 이하는 무조건 잘림 => 값의 손실\n",
    "arr2, arr2.astype(int)"
   ]
  },
  {
   "cell_type": "code",
   "execution_count": 155,
   "id": "9b124fae",
   "metadata": {},
   "outputs": [
    {
     "data": {
      "text/plain": [
       "(array(['100', '200', '300'], dtype='<U3'), array([100., 200., 300.]))"
      ]
     },
     "execution_count": 155,
     "metadata": {},
     "output_type": "execute_result"
    }
   ],
   "source": [
    "# 문자열 => 실수형 \n",
    "arr3, arr3.astype(float)"
   ]
  },
  {
   "cell_type": "code",
   "execution_count": 157,
   "id": "bb09f89e",
   "metadata": {},
   "outputs": [
    {
     "data": {
      "text/plain": [
       "array([100.  , 200.  , 300.  ,   3.14])"
      ]
     },
     "execution_count": 157,
     "metadata": {},
     "output_type": "execute_result"
    }
   ],
   "source": [
    "arr4 = np.array(['100', '200', '300', '3.14'])\n",
    "# 문자열 => 정수형 \n",
    "# ValueError\n",
    "# arr4.astype(int)\n",
    "\n",
    "# 문자열 => 실수형 \n",
    "arr4.astype(float)"
   ]
  },
  {
   "cell_type": "code",
   "execution_count": 158,
   "id": "0f7b7197",
   "metadata": {},
   "outputs": [
    {
     "data": {
      "text/plain": [
       "array([100, 200, 300,   3])"
      ]
     },
     "execution_count": 158,
     "metadata": {},
     "output_type": "execute_result"
    }
   ],
   "source": [
    "# 문자열 => 실수형 => 정수형 \n",
    "arr4.astype(float).astype(int)"
   ]
  },
  {
   "cell_type": "markdown",
   "id": "bdcd7a81",
   "metadata": {},
   "source": [
    "### Numpy 배열의 구조 변경\n",
    "- 1차원 => 2차원 / 2차원=>1차원\n",
    "- 넘파이배열명.reshape(행수,열수) : 1차원=>2차원, 2차원=>2차원\n",
    "- 넘파이배열명.flatten() : 2차원 => 1차원\n",
    "- 넘파이배열명.reshape(-1,?) : 전체요소(size)기준. 2차원. size를기반으로 row 개수 선정\n",
    "\n",
    "### 1차원(5) => 2차원(5행1열)"
   ]
  },
  {
   "cell_type": "code",
   "execution_count": 162,
   "id": "ed872ee7",
   "metadata": {
    "scrolled": true
   },
   "outputs": [
    {
     "data": {
      "text/plain": [
       "(array([1, 2, 3, 4, 5, 6, 7, 8, 9]), 1, (9,))"
      ]
     },
     "execution_count": 162,
     "metadata": {},
     "output_type": "execute_result"
    }
   ],
   "source": [
    "# 1~9 1차원 배열 생성\n",
    "arr = np.arange(1,10)\n",
    "arr, arr.ndim, arr.shape"
   ]
  },
  {
   "cell_type": "code",
   "execution_count": 161,
   "id": "bede1569",
   "metadata": {},
   "outputs": [
    {
     "data": {
      "text/plain": [
       "(array([[1, 2, 3],\n",
       "        [4, 5, 6],\n",
       "        [7, 8, 9]]),\n",
       " 2,\n",
       " (3, 3))"
      ]
     },
     "execution_count": 161,
     "metadata": {},
     "output_type": "execute_result"
    }
   ],
   "source": [
    "# 1차원 => 2차원\n",
    "arr_a = arr.reshape(3,3)\n",
    "arr_a, arr_a.ndim, arr_a.shape"
   ]
  },
  {
   "cell_type": "code",
   "execution_count": 163,
   "id": "27f27d03",
   "metadata": {},
   "outputs": [
    {
     "data": {
      "text/plain": [
       "(array([[1, 2, 3, 4, 5, 6, 7, 8, 9]]), 2, (1, 9))"
      ]
     },
     "execution_count": 163,
     "metadata": {},
     "output_type": "execute_result"
    }
   ],
   "source": [
    "# 1차원 => 2차원\n",
    "arr_b = arr.reshape(1,9)\n",
    "arr_b, arr_b.ndim, arr_b.shape"
   ]
  },
  {
   "cell_type": "code",
   "execution_count": 165,
   "id": "ab816dc2",
   "metadata": {},
   "outputs": [
    {
     "data": {
      "text/plain": [
       "(array([[ 1,  2,  3,  4,  5],\n",
       "        [ 6,  7,  8,  9, 10]]),\n",
       " 2,\n",
       " (2, 5))"
      ]
     },
     "execution_count": 165,
     "metadata": {},
     "output_type": "execute_result"
    }
   ],
   "source": [
    "# 2차원 => 1차원\n",
    "# 1~10 사이의 숫자로 구성된 넘파이 배열, 2행 5열\n",
    "arr2 = np.arange(1,11).reshape(2,5)\n",
    "arr2, arr2.ndim, arr2.shape"
   ]
  },
  {
   "cell_type": "code",
   "execution_count": 173,
   "id": "f8ebecf5",
   "metadata": {
    "scrolled": true
   },
   "outputs": [
    {
     "data": {
      "text/plain": [
       "array([ 1,  2,  3,  4,  5,  6,  7,  8,  9, 10])"
      ]
     },
     "execution_count": 173,
     "metadata": {},
     "output_type": "execute_result"
    }
   ],
   "source": [
    "arr2.flatten()"
   ]
  },
  {
   "cell_type": "code",
   "execution_count": 176,
   "id": "5a0b866a",
   "metadata": {},
   "outputs": [
    {
     "data": {
      "text/plain": [
       "(array([ 1,  2,  3,  4,  5,  6,  7,  8,  9, 10]), 1, (10,))"
      ]
     },
     "execution_count": 176,
     "metadata": {},
     "output_type": "execute_result"
    }
   ],
   "source": [
    "arr3 = arr2.reshape(-1)\n",
    "arr3, arr3.ndim, arr3.shape"
   ]
  },
  {
   "cell_type": "code",
   "execution_count": 178,
   "id": "753536ff",
   "metadata": {},
   "outputs": [
    {
     "data": {
      "text/plain": [
       "(array([[ 1,  2,  3,  4,  5],\n",
       "        [ 6,  7,  8,  9, 10]]),\n",
       " 2,\n",
       " (2, 5))"
      ]
     },
     "execution_count": 178,
     "metadata": {},
     "output_type": "execute_result"
    }
   ],
   "source": [
    "# 2차원 => 2차원 구조 변경\n",
    "# 넘파이배열명.reshape(-1,?) : 전체요소(size)기준. 2차원. size를기반으로 row 개수 선정\n",
    "arr2, arr2.ndim, arr2.shape"
   ]
  },
  {
   "cell_type": "code",
   "execution_count": 182,
   "id": "dd29f08c",
   "metadata": {},
   "outputs": [
    {
     "data": {
      "text/plain": [
       "array([[ 1,  2],\n",
       "       [ 3,  4],\n",
       "       [ 5,  6],\n",
       "       [ 7,  8],\n",
       "       [ 9, 10]])"
      ]
     },
     "execution_count": 182,
     "metadata": {},
     "output_type": "execute_result"
    }
   ],
   "source": [
    "# 5행 2열\n",
    "arr2.reshape(5,2)\n",
    "arr2.reshape(-1,2)"
   ]
  },
  {
   "cell_type": "markdown",
   "id": "ec45e320",
   "metadata": {},
   "source": [
    "### Numpy 배열의 크기 변경\n",
    "- 배열의 모양만 변경된다.\n",
    "- 넘파이배열명.resize(행수,열수, refcheck=False)\n",
    "- 배열 크기 증가시 남은 공간은 0으로 채워진다.\n",
    "- 배열의 크기 감소시 포함되지 않은 값은 삭제된다.\n",
    "- 원본에 바로적용"
   ]
  },
  {
   "cell_type": "code",
   "execution_count": 192,
   "id": "fcfe0bef",
   "metadata": {},
   "outputs": [
    {
     "data": {
      "text/plain": [
       "array([[100, 200, 300],\n",
       "       [400, 500, 600]])"
      ]
     },
     "execution_count": 192,
     "metadata": {},
     "output_type": "execute_result"
    }
   ],
   "source": [
    "# 100~600 구성된 넘파이 배열 생성 => 2행 3열\n",
    "# arr1 = np.arange(100,601,100).reshape(2,3)\n",
    "arr1 = np.array([[100, 200, 300],\n",
    "       [400, 500, 600]])\n",
    "arr1"
   ]
  },
  {
   "cell_type": "code",
   "execution_count": 185,
   "id": "080d488c",
   "metadata": {
    "scrolled": true
   },
   "outputs": [
    {
     "ename": "ValueError",
     "evalue": "cannot reshape array of size 6 into shape (3,3)",
     "output_type": "error",
     "traceback": [
      "\u001b[1;31m---------------------------------------------------------------------------\u001b[0m",
      "\u001b[1;31mValueError\u001b[0m                                Traceback (most recent call last)",
      "Input \u001b[1;32mIn [185]\u001b[0m, in \u001b[0;36m<cell line: 2>\u001b[1;34m()\u001b[0m\n\u001b[0;32m      1\u001b[0m \u001b[38;5;66;03m# 2행 3열 => 3행 3열\u001b[39;00m\n\u001b[1;32m----> 2\u001b[0m \u001b[43marr1\u001b[49m\u001b[38;5;241;43m.\u001b[39;49m\u001b[43mreshape\u001b[49m\u001b[43m(\u001b[49m\u001b[38;5;241;43m3\u001b[39;49m\u001b[43m,\u001b[49m\u001b[38;5;241;43m3\u001b[39;49m\u001b[43m)\u001b[49m\n",
      "\u001b[1;31mValueError\u001b[0m: cannot reshape array of size 6 into shape (3,3)"
     ]
    }
   ],
   "source": [
    "# 2행 3열 => 3행 3열\n",
    "# ValueError\n",
    "# arr1.reshape(3,3)"
   ]
  },
  {
   "cell_type": "code",
   "execution_count": 194,
   "id": "f326e1e6",
   "metadata": {},
   "outputs": [
    {
     "data": {
      "text/plain": [
       "array([[100, 200, 300],\n",
       "       [400, 500, 600],\n",
       "       [  0,   0,   0]])"
      ]
     },
     "execution_count": 194,
     "metadata": {},
     "output_type": "execute_result"
    }
   ],
   "source": [
    "arr1.resize(3,3, refcheck=False)\n",
    "arr1"
   ]
  },
  {
   "cell_type": "code",
   "execution_count": 198,
   "id": "38268ed2",
   "metadata": {
    "scrolled": true
   },
   "outputs": [
    {
     "name": "stdout",
     "output_type": "stream",
     "text": [
      "[[100 200 300]\n",
      " [400 500 600]]\n"
     ]
    },
    {
     "data": {
      "text/plain": [
       "array([[100, 200],\n",
       "       [300, 400]])"
      ]
     },
     "execution_count": 198,
     "metadata": {},
     "output_type": "execute_result"
    }
   ],
   "source": [
    "# 2행 3열 => 2행 2열\n",
    "arr2 = np.array([[100, 200, 300],[400, 500, 600]])\n",
    "print(arr2)\n",
    "arr2.resize(2,2)\n",
    "arr2"
   ]
  },
  {
   "cell_type": "markdown",
   "id": "c6d51844",
   "metadata": {},
   "source": [
    "### Numpy 배열의 축 변경\n",
    "- 넘파이배열명.T\n",
    "- T는 Transpose. 행과 열이 서로 변경된다.\n",
    "- 넘파이배열명.swapaxes(축1,축2)"
   ]
  },
  {
   "cell_type": "code",
   "execution_count": 203,
   "id": "9df81a3e",
   "metadata": {},
   "outputs": [
    {
     "data": {
      "text/plain": [
       "(array([[11, 12, 13, 14, 15],\n",
       "        [16, 17, 18, 19, 20]]),\n",
       " (2, 5))"
      ]
     },
     "execution_count": 203,
     "metadata": {},
     "output_type": "execute_result"
    }
   ],
   "source": [
    "# 2행 5열\n",
    "arr = np.arange(11,21).reshape(2,5)\n",
    "arr, arr.shape"
   ]
  },
  {
   "cell_type": "code",
   "execution_count": 204,
   "id": "3e2a04ea",
   "metadata": {},
   "outputs": [
    {
     "data": {
      "text/plain": [
       "(array([[11, 16],\n",
       "        [12, 17],\n",
       "        [13, 18],\n",
       "        [14, 19],\n",
       "        [15, 20]]),\n",
       " (5, 2))"
      ]
     },
     "execution_count": 204,
     "metadata": {},
     "output_type": "execute_result"
    }
   ],
   "source": [
    "# 5행 2열\n",
    "arr.T, arr.T.shape"
   ]
  },
  {
   "cell_type": "code",
   "execution_count": 206,
   "id": "dd4b75f3",
   "metadata": {
    "scrolled": true
   },
   "outputs": [
    {
     "data": {
      "text/plain": [
       "array([[11, 16],\n",
       "       [12, 17],\n",
       "       [13, 18],\n",
       "       [14, 19],\n",
       "       [15, 20]])"
      ]
     },
     "execution_count": 206,
     "metadata": {},
     "output_type": "execute_result"
    }
   ],
   "source": [
    "arr.swapaxes(0,1)"
   ]
  },
  {
   "cell_type": "code",
   "execution_count": 207,
   "id": "71dacd7c",
   "metadata": {},
   "outputs": [
    {
     "name": "stdout",
     "output_type": "stream",
     "text": [
      "[[11 12 13 14 15]\n",
      " [16 17 18 19 20]]\n"
     ]
    },
    {
     "data": {
      "text/plain": [
       "array([[11, 16],\n",
       "       [12, 17],\n",
       "       [13, 18],\n",
       "       [14, 19],\n",
       "       [15, 20]])"
      ]
     },
     "execution_count": 207,
     "metadata": {},
     "output_type": "execute_result"
    }
   ],
   "source": [
    "print(arr)\n",
    "arr.swapaxes(0,1)"
   ]
  },
  {
   "cell_type": "code",
   "execution_count": 208,
   "id": "23b443aa",
   "metadata": {
    "scrolled": true
   },
   "outputs": [
    {
     "name": "stdout",
     "output_type": "stream",
     "text": [
      "[[11 12 13 14 15]\n",
      " [16 17 18 19 20]]\n"
     ]
    },
    {
     "data": {
      "text/plain": [
       "array([[11, 16],\n",
       "       [12, 17],\n",
       "       [13, 18],\n",
       "       [14, 19],\n",
       "       [15, 20]])"
      ]
     },
     "execution_count": 208,
     "metadata": {},
     "output_type": "execute_result"
    }
   ],
   "source": [
    "print(arr)\n",
    "arr.swapaxes(1,0)"
   ]
  },
  {
   "cell_type": "markdown",
   "id": "f186b3a6",
   "metadata": {},
   "source": [
    "### 1차원인 경우\n",
    "-  넘파이배열이름[start:end]\n",
    "-  넘파이배열이름[start:]\n",
    "-  넘파이배열이름[:end]\n",
    "-  넘파이배열이름[:]\n",
    "-  넘파이배열이름[start:end:step]\n",
    "-  넘파이배열이름[start::step]\n",
    "-  넘파이배열이름[:end:step]\n",
    "-  넘파이배열이름[::]\n",
    "\n",
    "### 2차원인 경우\n",
    "-  넘파이배열이름[start1:end1, start2:end2]\n",
    "-  넘파이배열이름[start1:, start2:]\n",
    "-  넘파이배열이름[:,:] = 넘파이배열이름[::,::] \n",
    "-  넘파이배열이름[start1:end1:step1, start2:end2:step2]\n",
    "-  넘파이배열이름[start1::step1, start2::step2]"
   ]
  },
  {
   "cell_type": "code",
   "execution_count": 209,
   "id": "2f53c518",
   "metadata": {},
   "outputs": [
    {
     "data": {
      "text/plain": [
       "array([[ 1,  2,  3,  4,  5],\n",
       "       [ 6,  7,  8,  9, 10],\n",
       "       [11, 12, 13, 14, 15],\n",
       "       [16, 17, 18, 19, 20]])"
      ]
     },
     "execution_count": 209,
     "metadata": {},
     "output_type": "execute_result"
    }
   ],
   "source": [
    "# 4행 5열의 넘파이 배열 생성 \n",
    "arr = np.arange(1,21).reshape(4, 5)\n",
    "arr"
   ]
  },
  {
   "cell_type": "code",
   "execution_count": 210,
   "id": "d866d25c",
   "metadata": {},
   "outputs": [
    {
     "data": {
      "text/plain": [
       "array([[ 1,  2,  3,  4,  5],\n",
       "       [ 6,  7,  8,  9, 10],\n",
       "       [11, 12, 13, 14, 15],\n",
       "       [16, 17, 18, 19, 20]])"
      ]
     },
     "execution_count": 210,
     "metadata": {},
     "output_type": "execute_result"
    }
   ],
   "source": [
    "# 1행만 출력\n",
    "arr[::]"
   ]
  },
  {
   "cell_type": "code",
   "execution_count": 211,
   "id": "d6ae0702",
   "metadata": {
    "scrolled": true
   },
   "outputs": [
    {
     "data": {
      "text/plain": [
       "array([1, 2, 3, 4, 5])"
      ]
     },
     "execution_count": 211,
     "metadata": {},
     "output_type": "execute_result"
    }
   ],
   "source": [
    "arr[0,:]"
   ]
  },
  {
   "cell_type": "code",
   "execution_count": 212,
   "id": "da193d04",
   "metadata": {},
   "outputs": [
    {
     "data": {
      "text/plain": [
       "array([ 1,  6, 11, 16])"
      ]
     },
     "execution_count": 212,
     "metadata": {},
     "output_type": "execute_result"
    }
   ],
   "source": [
    "# 1열만 출력\n",
    "arr[:,0]"
   ]
  },
  {
   "cell_type": "code",
   "execution_count": 213,
   "id": "bf21da0e",
   "metadata": {},
   "outputs": [
    {
     "data": {
      "text/plain": [
       "array([ 5, 10, 15, 20])"
      ]
     },
     "execution_count": 213,
     "metadata": {},
     "output_type": "execute_result"
    }
   ],
   "source": [
    "# 마지막 열만 출력\n",
    "arr[:,-1]"
   ]
  },
  {
   "cell_type": "code",
   "execution_count": 215,
   "id": "02a15546",
   "metadata": {
    "scrolled": true
   },
   "outputs": [
    {
     "data": {
      "text/plain": [
       "array([[ 1,  2,  3,  4,  5],\n",
       "       [11, 12, 13, 14, 15]])"
      ]
     },
     "execution_count": 215,
     "metadata": {},
     "output_type": "execute_result"
    }
   ],
   "source": [
    "# 홀수번째 행만 출력 => 1,3행\n",
    "arr[::2,::]\n",
    "# arr[::2,:]\n",
    "# arr[::2]"
   ]
  },
  {
   "cell_type": "code",
   "execution_count": 216,
   "id": "9391e1ad",
   "metadata": {},
   "outputs": [
    {
     "data": {
      "text/plain": [
       "array([[ 6,  7,  8,  9, 10],\n",
       "       [16, 17, 18, 19, 20]])"
      ]
     },
     "execution_count": 216,
     "metadata": {},
     "output_type": "execute_result"
    }
   ],
   "source": [
    "# 짝수번째 행만 출력 => 1,3행\n",
    "arr[1::2,::]\n",
    "# arr[1::2,:]\n",
    "# arr[1::2]"
   ]
  },
  {
   "cell_type": "code",
   "execution_count": 220,
   "id": "7171ec6d",
   "metadata": {},
   "outputs": [
    {
     "data": {
      "text/plain": [
       "array([[ 1,  3,  5],\n",
       "       [ 6,  8, 10],\n",
       "       [11, 13, 15],\n",
       "       [16, 18, 20]])"
      ]
     },
     "execution_count": 220,
     "metadata": {},
     "output_type": "execute_result"
    }
   ],
   "source": [
    "# 홀수번째 열만 출력 => 1,3,5열\n",
    "arr[::,::2]\n",
    "# arr[:,::2]"
   ]
  },
  {
   "cell_type": "code",
   "execution_count": 221,
   "id": "9d06a352",
   "metadata": {
    "scrolled": true
   },
   "outputs": [
    {
     "data": {
      "text/plain": [
       "array([[ 2,  4],\n",
       "       [ 7,  9],\n",
       "       [12, 14],\n",
       "       [17, 19]])"
      ]
     },
     "execution_count": 221,
     "metadata": {},
     "output_type": "execute_result"
    }
   ],
   "source": [
    "# 짝수번째 열만 출력 => 2,4열\n",
    "arr[::,1::2]\n",
    "# arr[:,1::2]"
   ]
  },
  {
   "cell_type": "code",
   "execution_count": 222,
   "id": "6d8ab859",
   "metadata": {},
   "outputs": [
    {
     "data": {
      "text/plain": [
       "array([[1, 2],\n",
       "       [6, 7]])"
      ]
     },
     "execution_count": 222,
     "metadata": {},
     "output_type": "execute_result"
    }
   ],
   "source": [
    "# 1~2행 범위에서 1~2열 범위만\n",
    "arr[:2,:2]"
   ]
  },
  {
   "cell_type": "code",
   "execution_count": 223,
   "id": "d5bba39a",
   "metadata": {},
   "outputs": [
    {
     "data": {
      "text/plain": [
       "array([[12, 13, 14],\n",
       "       [17, 18, 19]])"
      ]
     },
     "execution_count": 223,
     "metadata": {},
     "output_type": "execute_result"
    }
   ],
   "source": [
    "# 3~4행 범위에서 2~4열 범위만\n",
    "arr[2:,1:4]"
   ]
  },
  {
   "cell_type": "code",
   "execution_count": 224,
   "id": "15cced94",
   "metadata": {},
   "outputs": [
    {
     "data": {
      "text/plain": [
       "array([[ 1,  3,  5],\n",
       "       [11, 13, 15]])"
      ]
     },
     "execution_count": 224,
     "metadata": {},
     "output_type": "execute_result"
    }
   ],
   "source": [
    "# 홀수번째 행에서 홀수번째 컬럼만\n",
    "arr[::2,::2]"
   ]
  },
  {
   "cell_type": "code",
   "execution_count": 225,
   "id": "abc7332d",
   "metadata": {},
   "outputs": [
    {
     "data": {
      "text/plain": [
       "array([[ 7,  9],\n",
       "       [17, 19]])"
      ]
     },
     "execution_count": 225,
     "metadata": {},
     "output_type": "execute_result"
    }
   ],
   "source": [
    "# 짝수번째 행에서 짝수번째 컬럼만\n",
    "arr[1::2,1::2]"
   ]
  },
  {
   "cell_type": "code",
   "execution_count": 226,
   "id": "b986d723",
   "metadata": {
    "scrolled": true
   },
   "outputs": [
    {
     "data": {
      "text/plain": [
       "(13, 13)"
      ]
     },
     "execution_count": 226,
     "metadata": {},
     "output_type": "execute_result"
    }
   ],
   "source": [
    "# 3행 3열의 값만 출력\n",
    "arr[2,2], arr[2][2]"
   ]
  },
  {
   "cell_type": "markdown",
   "id": "2542dab8",
   "metadata": {},
   "source": [
    "### Numpy 배열의 값 교체하기\n",
    "- 넘파이배열명[index] = 값\n",
    "- 넘파이배열명[rowIndex][columnIndex] = 값"
   ]
  },
  {
   "cell_type": "code",
   "execution_count": 232,
   "id": "c8062291",
   "metadata": {},
   "outputs": [
    {
     "data": {
      "text/plain": [
       "array([0, 1, 2, 3, 4, 5, 6, 7, 8, 9])"
      ]
     },
     "execution_count": 232,
     "metadata": {},
     "output_type": "execute_result"
    }
   ],
   "source": [
    "# 1차원 넘파이 배열 테스트\n",
    "arr = np.arange(10)\n",
    "arr"
   ]
  },
  {
   "cell_type": "code",
   "execution_count": 233,
   "id": "2a04f16e",
   "metadata": {},
   "outputs": [
    {
     "data": {
      "text/plain": [
       "array([1000,    1,    2,    3,    4,    5,    6,    7,    8,    9])"
      ]
     },
     "execution_count": 233,
     "metadata": {},
     "output_type": "execute_result"
    }
   ],
   "source": [
    "arr[0] = 1000\n",
    "arr"
   ]
  },
  {
   "cell_type": "code",
   "execution_count": 234,
   "id": "4f4ced40",
   "metadata": {},
   "outputs": [
    {
     "data": {
      "text/plain": [
       "array([[0, 1],\n",
       "       [2, 3],\n",
       "       [4, 5],\n",
       "       [6, 7],\n",
       "       [8, 9]])"
      ]
     },
     "execution_count": 234,
     "metadata": {},
     "output_type": "execute_result"
    }
   ],
   "source": [
    "# 2차원 넘파이 배열 테스트\n",
    "arr2 = np.arange(10).reshape(5,2)\n",
    "arr2"
   ]
  },
  {
   "cell_type": "code",
   "execution_count": 238,
   "id": "50794603",
   "metadata": {},
   "outputs": [
    {
     "data": {
      "text/plain": [
       "array([[   0,    1],\n",
       "       [   2,    3],\n",
       "       [   4,    5],\n",
       "       [   6,    7],\n",
       "       [   8, -999]])"
      ]
     },
     "execution_count": 238,
     "metadata": {},
     "output_type": "execute_result"
    }
   ],
   "source": [
    "# 마지막행 마지막열의 값을 교체\n",
    "# arr2[-1][-1] = -999\n",
    "arr2[-1,-1] = -999\n",
    "arr2"
   ]
  },
  {
   "cell_type": "code",
   "execution_count": 242,
   "id": "5a282871",
   "metadata": {
    "scrolled": true
   },
   "outputs": [
    {
     "data": {
      "text/plain": [
       "array([[   0,    1],\n",
       "       [ 100,  100],\n",
       "       [   4,    5],\n",
       "       [   6,    7],\n",
       "       [   8, -999]])"
      ]
     },
     "execution_count": 242,
     "metadata": {},
     "output_type": "execute_result"
    }
   ],
   "source": [
    "# 2행을 모두 100으로 교체\n",
    "arr2[1] = 100\n",
    "arr2"
   ]
  },
  {
   "cell_type": "code",
   "execution_count": 245,
   "id": "2331474f",
   "metadata": {},
   "outputs": [
    {
     "data": {
      "text/plain": [
       "array([[  77,    1],\n",
       "       [  77,  100],\n",
       "       [  77,  999],\n",
       "       [  77,  999],\n",
       "       [  77, -999]])"
      ]
     },
     "execution_count": 245,
     "metadata": {},
     "output_type": "execute_result"
    }
   ],
   "source": [
    "# 3~4에서 2열만 999로 교체\n",
    "arr2[2:4,1] = 999\n",
    "arr2"
   ]
  },
  {
   "cell_type": "markdown",
   "id": "f96d6b3e",
   "metadata": {},
   "source": [
    "### Numpy 배열의 값 삽입하기\n",
    "- np.insert(배열명, 인덱스, 값) : 1차원 배열의 특정 위치에 값 삽입\n",
    "- np.insert(배열명, 인덱스, 값, axis=0/1) : 2차원 배열의 특정 위치에 값 삽입\n",
    "- 축(axis)를 지정하지 않으면 1차원 배열로 반환\n",
    "- 추가할 방향을 axis로 지정\n",
    "- 원본 배열 변경없이 새로운 배열 반환"
   ]
  },
  {
   "cell_type": "code",
   "execution_count": 247,
   "id": "f0498a8c",
   "metadata": {},
   "outputs": [
    {
     "data": {
      "text/plain": [
       "array([0., 0., 0., 0., 0.])"
      ]
     },
     "execution_count": 247,
     "metadata": {},
     "output_type": "execute_result"
    }
   ],
   "source": [
    "# 1차원 넘파이배열 테스트\n",
    "arr1 = np.zeros(5)\n",
    "arr1"
   ]
  },
  {
   "cell_type": "code",
   "execution_count": 249,
   "id": "d7fdf7c7",
   "metadata": {},
   "outputs": [
    {
     "data": {
      "text/plain": [
       "array([100.,   0.,   0.,   0.,   0.,   0.])"
      ]
     },
     "execution_count": 249,
     "metadata": {},
     "output_type": "execute_result"
    }
   ],
   "source": [
    "# 첫번째 위치에 100 삽입 => 원본 배열에 반영\n",
    "arr1 = np.insert(arr1,0,100)\n",
    "arr1"
   ]
  },
  {
   "cell_type": "code",
   "execution_count": 253,
   "id": "2fb34da1",
   "metadata": {},
   "outputs": [
    {
     "data": {
      "text/plain": [
       "array([ 100.,    0.,    0.,    0.,    0.,  100.,  100., -999.,    0.])"
      ]
     },
     "execution_count": 253,
     "metadata": {},
     "output_type": "execute_result"
    }
   ],
   "source": [
    "# 끝에서 2번째 위치에 -999 삽입\n",
    "arr1 = np.insert(arr1,-1,-999)\n",
    "arr1"
   ]
  },
  {
   "cell_type": "code",
   "execution_count": 254,
   "id": "cd71be49",
   "metadata": {},
   "outputs": [
    {
     "data": {
      "text/plain": [
       "array([ 100.,    0.,    0.,    0.,    0.,  100.,  100., -999.,    0.,\n",
       "       -999.])"
      ]
     },
     "execution_count": 254,
     "metadata": {},
     "output_type": "execute_result"
    }
   ],
   "source": [
    "# 마지막 위치에 -999 삽입\n",
    "arr1 = np.insert(arr1,len(arr1),-999)\n",
    "arr1"
   ]
  },
  {
   "cell_type": "code",
   "execution_count": 261,
   "id": "3e386504",
   "metadata": {},
   "outputs": [
    {
     "data": {
      "text/plain": [
       "array([[0, 1],\n",
       "       [2, 3],\n",
       "       [4, 5],\n",
       "       [6, 7],\n",
       "       [8, 9]])"
      ]
     },
     "execution_count": 261,
     "metadata": {},
     "output_type": "execute_result"
    }
   ],
   "source": [
    "# 2차원 넘파이 배열 테스트\n",
    "arr2 = np.arange(10).reshape(5,2)\n",
    "arr2"
   ]
  },
  {
   "cell_type": "code",
   "execution_count": 256,
   "id": "30d39887",
   "metadata": {},
   "outputs": [
    {
     "data": {
      "text/plain": [
       "array([100, 200,   0,   1,   2,   3,   4,   5,   6,   7,   8,   9])"
      ]
     },
     "execution_count": 256,
     "metadata": {},
     "output_type": "execute_result"
    }
   ],
   "source": [
    "# axes 속성이 없는 경우 => 1차원 변경 => 특정 위치에 값 삽입\n",
    "np.insert(arr2, 0 ,[100, 200])"
   ]
  },
  {
   "cell_type": "code",
   "execution_count": 257,
   "id": "3e70241a",
   "metadata": {},
   "outputs": [
    {
     "data": {
      "text/plain": [
       "array([[100, 200],\n",
       "       [  0,   1],\n",
       "       [  2,   3],\n",
       "       [  4,   5],\n",
       "       [  6,   7],\n",
       "       [  8,   9]])"
      ]
     },
     "execution_count": 257,
     "metadata": {},
     "output_type": "execute_result"
    }
   ],
   "source": [
    "# 첫번째 행으로 삽입\n",
    "np.insert(arr2, 0 ,[100, 200], axis=0)"
   ]
  },
  {
   "cell_type": "code",
   "execution_count": 258,
   "id": "d614a7e7",
   "metadata": {},
   "outputs": [
    {
     "data": {
      "text/plain": [
       "array([[   0,    1],\n",
       "       [   2,    3],\n",
       "       [   4,    5],\n",
       "       [   6,    7],\n",
       "       [-999, -999],\n",
       "       [   8,    9]])"
      ]
     },
     "execution_count": 258,
     "metadata": {},
     "output_type": "execute_result"
    }
   ],
   "source": [
    "# 끝에서 2번째에 삽입\n",
    "np.insert(arr2, -1 ,[-999, -999], axis=0)"
   ]
  },
  {
   "cell_type": "code",
   "execution_count": 264,
   "id": "fed67570",
   "metadata": {},
   "outputs": [
    {
     "name": "stdout",
     "output_type": "stream",
     "text": [
      "(5, 2) 행의 길이는?  5 열의 길이는?  2\n"
     ]
    },
    {
     "data": {
      "text/plain": [
       "array([[   0,    1],\n",
       "       [   2,    3],\n",
       "       [   4,    5],\n",
       "       [   6,    7],\n",
       "       [   8,    9],\n",
       "       [-999, -999]])"
      ]
     },
     "execution_count": 264,
     "metadata": {},
     "output_type": "execute_result"
    }
   ],
   "source": [
    "# 마지막 행으로 삽입\n",
    "print(arr2.shape, '행의 길이는? ', arr2.shape[0],'열의 길이는? ', arr2.shape[1])\n",
    "np.insert(arr2, arr2.shape[0] ,[-999, -999], axis=0)"
   ]
  },
  {
   "cell_type": "code",
   "execution_count": 265,
   "id": "77d6bdf7",
   "metadata": {
    "scrolled": true
   },
   "outputs": [
    {
     "data": {
      "text/plain": [
       "array([[-1,  0,  1],\n",
       "       [-2,  2,  3],\n",
       "       [-3,  4,  5],\n",
       "       [-4,  6,  7],\n",
       "       [-5,  8,  9]])"
      ]
     },
     "execution_count": 265,
     "metadata": {},
     "output_type": "execute_result"
    }
   ],
   "source": [
    "# 1열로 삽입\n",
    "np.insert(arr2, 0 ,[-1, -2, -3, -4, -5], axis=1)"
   ]
  },
  {
   "cell_type": "code",
   "execution_count": 267,
   "id": "4e268eb3",
   "metadata": {
    "scrolled": true
   },
   "outputs": [
    {
     "data": {
      "text/plain": [
       "array([[ 0,  1, -1],\n",
       "       [ 2,  3, -2],\n",
       "       [ 4,  5, -3],\n",
       "       [ 6,  7, -4],\n",
       "       [ 8,  9, -5]])"
      ]
     },
     "execution_count": 267,
     "metadata": {},
     "output_type": "execute_result"
    }
   ],
   "source": [
    "# 마지막 열로 삽입\n",
    "np.insert(arr2, arr2.shape[1] ,[-1, -2, -3, -4, -5], axis=1)"
   ]
  },
  {
   "cell_type": "markdown",
   "id": "39f88acd",
   "metadata": {},
   "source": [
    "### Numpy 배열의 값 삭제하기\n",
    "- np.delete(배열명, 인덱스) : 1차원 배열에서 인덱스에 해당하는 값 삭제\n",
    "- np.delete(배열명, 인덱스, axis=0/1) : 2차원 배열에서 인덱스에 해당하는 값 삭제.\n",
    "- 축(axis)를 지정하지 않으면 1차원 배열로 반환\n",
    "- 삭제할 방향을 axis로 지정\n",
    "- 원본 배열 변경없이 새로운 배열 반환"
   ]
  },
  {
   "cell_type": "code",
   "execution_count": 269,
   "id": "65482cd1",
   "metadata": {
    "scrolled": true
   },
   "outputs": [
    {
     "data": {
      "text/plain": [
       "array([0, 1, 2, 3, 4, 5, 6, 7, 8, 9])"
      ]
     },
     "execution_count": 269,
     "metadata": {},
     "output_type": "execute_result"
    }
   ],
   "source": [
    "# 1차원 삭제 테스트\n",
    "arr1 = np.arange(10)\n",
    "arr1"
   ]
  },
  {
   "cell_type": "code",
   "execution_count": 271,
   "id": "23ee19b4",
   "metadata": {},
   "outputs": [
    {
     "data": {
      "text/plain": [
       "array([1, 2, 3, 4, 5, 6, 7, 8, 9])"
      ]
     },
     "execution_count": 271,
     "metadata": {},
     "output_type": "execute_result"
    }
   ],
   "source": [
    "# 첫번째 요소 삭제\n",
    "np.delete(arr1, 0)"
   ]
  },
  {
   "cell_type": "code",
   "execution_count": 273,
   "id": "729f16fa",
   "metadata": {},
   "outputs": [
    {
     "data": {
      "text/plain": [
       "array([0, 1, 2, 3, 4, 5, 6, 7, 8])"
      ]
     },
     "execution_count": 273,
     "metadata": {},
     "output_type": "execute_result"
    }
   ],
   "source": [
    "# 마지막 요소 삭제\n",
    "np.delete(arr1, -1)"
   ]
  },
  {
   "cell_type": "code",
   "execution_count": 275,
   "id": "1e9388c9",
   "metadata": {},
   "outputs": [
    {
     "data": {
      "text/plain": [
       "array([[ 1,  2,  3,  4,  5],\n",
       "       [ 6,  7,  8,  9, 10],\n",
       "       [11, 12, 13, 14, 15],\n",
       "       [16, 17, 18, 19, 20]])"
      ]
     },
     "execution_count": 275,
     "metadata": {},
     "output_type": "execute_result"
    }
   ],
   "source": [
    "# 2차원 삭제 테스트\n",
    "arr2 = np.arange(1,21).reshape(4,5)\n",
    "arr2"
   ]
  },
  {
   "cell_type": "code",
   "execution_count": 277,
   "id": "ffd93df2",
   "metadata": {},
   "outputs": [
    {
     "data": {
      "text/plain": [
       "array([ 2,  3,  4,  5,  6,  7,  8,  9, 10, 11, 12, 13, 14, 15, 16, 17, 18,\n",
       "       19, 20])"
      ]
     },
     "execution_count": 277,
     "metadata": {},
     "output_type": "execute_result"
    }
   ],
   "source": [
    "# 2차원에서 축을 지정하지 않는다면?\n",
    "# 1차원으로 변경된 후 해당 인덱스가 삭제\n",
    "np.delete(arr2,0)"
   ]
  },
  {
   "cell_type": "code",
   "execution_count": 279,
   "id": "5766196e",
   "metadata": {},
   "outputs": [
    {
     "data": {
      "text/plain": [
       "array([[ 6,  7,  8,  9, 10],\n",
       "       [11, 12, 13, 14, 15],\n",
       "       [16, 17, 18, 19, 20]])"
      ]
     },
     "execution_count": 279,
     "metadata": {},
     "output_type": "execute_result"
    }
   ],
   "source": [
    "# axis=0 축지정\n",
    "# 첫열 삭제\n",
    "np.delete(arr2,0,axis=0)"
   ]
  },
  {
   "cell_type": "code",
   "execution_count": 278,
   "id": "b645a29e",
   "metadata": {
    "scrolled": true
   },
   "outputs": [
    {
     "data": {
      "text/plain": [
       "array([[ 2,  3,  4,  5],\n",
       "       [ 7,  8,  9, 10],\n",
       "       [12, 13, 14, 15],\n",
       "       [17, 18, 19, 20]])"
      ]
     },
     "execution_count": 278,
     "metadata": {},
     "output_type": "execute_result"
    }
   ],
   "source": [
    "# axis=1 축지정\n",
    "# 첫행 삭제\n",
    "np.delete(arr2,0,axis=1)"
   ]
  },
  {
   "cell_type": "markdown",
   "id": "fd04e1dd",
   "metadata": {},
   "source": [
    "### 얕은 복사(Shallow Copy) 와 깊은 복사(Deep Copy)\n",
    "- 얕은 복사 : 객체를 새로운 객체로 복사하지만 원본 객체의 주소값을 복사. 원본이 변경되면 함께 변경\n",
    "- 깊은 복사 : 전체 복사로 참조값의 복사가 아닌 참조된 객체 자체를 복사. 원본과 별개"
   ]
  },
  {
   "cell_type": "code",
   "execution_count": 284,
   "id": "e4e4d8ba",
   "metadata": {},
   "outputs": [
    {
     "name": "stdout",
     "output_type": "stream",
     "text": [
      "100 100\n",
      "2001329542608 2001329542608\n",
      "100 300\n",
      "2001329542608 1999341808272\n"
     ]
    }
   ],
   "source": [
    "# 파이썬 변수 복사\n",
    "x = 100\n",
    "# y는 x의 복사 변수\n",
    "y = x\n",
    "print(x,y)\n",
    "# id() 주소번지 반환\n",
    "print(id(x), id(y))\n",
    "\n",
    "# 복사본의 값을 교체한다면?\n",
    "y = 300\n",
    "# 원본 불변 => 깊은 복사\n",
    "print(x,y)\n",
    "print(id(x), id(y))"
   ]
  },
  {
   "cell_type": "code",
   "execution_count": 289,
   "id": "e2830c6b",
   "metadata": {
    "scrolled": true
   },
   "outputs": [
    {
     "name": "stdout",
     "output_type": "stream",
     "text": [
      "1999340557056 1999340557056\n",
      "[1, 2, 3, 4, 5] [1, 2, 3, 4, 5]\n",
      "\n",
      "1999340557056 1999340557056\n",
      "[100, 2, 3, 4, 5] [100, 2, 3, 4, 5]\n"
     ]
    }
   ],
   "source": [
    "# 파이썬의 리스트 => 얕은 복사\n",
    "list_a = [1,2,3,4,5]\n",
    "# list_b는 list_a의 복사본\n",
    "list_b = list_a\n",
    "print(id(list_a), id(list_b))\n",
    "print(list_a, list_b)\n",
    "print()\n",
    "\n",
    "# 복사본 리스트의 특정 값 변경\n",
    "# 원본 리스트에도 반영\n",
    "\n",
    "list_b[0] = 100\n",
    "print(id(list_a), id(list_b))\n",
    "print(list_a, list_b)"
   ]
  },
  {
   "cell_type": "code",
   "execution_count": 302,
   "id": "7e57312d",
   "metadata": {},
   "outputs": [
    {
     "name": "stdout",
     "output_type": "stream",
     "text": [
      "1999339735104 1999317756352\n",
      "[1, 2, 3, 4, 5] [1, 2, 3, 4, 5]\n",
      "\n",
      "1999339735104 1999317756352\n",
      "[1, 2, 3, 4, 5] [100, 2, 3, 4, 5]\n"
     ]
    }
   ],
   "source": [
    "# 파이썬의 리스트 => 깊은 복사 스타일로 변경하려면?\n",
    "# 리스트명.copy()\n",
    "list_a=[1,2,3,4,5]\n",
    "list_c=list_a.copy()\n",
    "print(id(list_a), id(list_c))\n",
    "print(list_a, list_c)\n",
    "print()\n",
    "\n",
    "# 복사본 리스트의 특정 값 변경\n",
    "# 원본 리스트에도 반영\n",
    "\n",
    "list_c[0] = 100\n",
    "print(id(list_a), id(list_c))\n",
    "print(list_a, list_c)"
   ]
  },
  {
   "cell_type": "code",
   "execution_count": 336,
   "id": "e5fedfab",
   "metadata": {
    "scrolled": true
   },
   "outputs": [
    {
     "name": "stdout",
     "output_type": "stream",
     "text": [
      "1999327107856 1999327107856 1999337064560\n",
      "[1 2 0 0] [1 2 0 0] [1 2 0 0]\n",
      "1999327107856 1999327107856 1999337064560\n",
      "[  1   2   0 777] [  1   2   0 777] [100   2   0   0]\n"
     ]
    }
   ],
   "source": [
    "# 넘파이배열 => 얕은 복사\n",
    "arr_a = np.array([1,2,0,0])\n",
    "arr_b = arr_a\n",
    "# 깊은 복사 방식으로 복제본 생성 => copy() 매서드 필요\n",
    "arr_c = arr_a.copy()\n",
    "print(id(arr_a), id(arr_b), id(arr_c))\n",
    "print(arr_a, arr_b, arr_c)\n",
    "\n",
    "# 복사본 배열 값 변경 => 원본 배열에도 반영\n",
    "arr_b[-1] = 777\n",
    "arr_c[0] = 100\n",
    "print(id(arr_a), id(arr_b), id(arr_c))\n",
    "print(arr_a, arr_b, arr_c)"
   ]
  },
  {
   "cell_type": "markdown",
   "id": "19b4781f",
   "metadata": {},
   "source": [
    "### 리스트의 슬라이싱 테스트"
   ]
  },
  {
   "cell_type": "code",
   "execution_count": 344,
   "id": "a034ed61",
   "metadata": {
    "scrolled": true
   },
   "outputs": [
    {
     "name": "stdout",
     "output_type": "stream",
     "text": [
      "[1, 2, 3, 4, 5] [1, 2, 3]\n",
      "1999311177024 1999318240448\n",
      "[1, 2, 3, 4, 5] [-777, 2, 3]\n",
      "1999311177024 1999318240448\n"
     ]
    }
   ],
   "source": [
    "myList=[1,2,3,4,5]\n",
    "# 리스트의 일부를 새로운 리스트로 생성\n",
    "myList_sub = myList[:3]\n",
    "print(myList, myList_sub)\n",
    "print(id(myList), id(myList_sub))\n",
    "\n",
    "# 복사본 값 변경후?\n",
    "myList_sub[0] = -777\n",
    "print(myList, myList_sub)\n",
    "print(id(myList), id(myList_sub))"
   ]
  },
  {
   "cell_type": "markdown",
   "id": "767dcc55",
   "metadata": {},
   "source": [
    "### 넘파이배열의 슬라이싱 테스트"
   ]
  },
  {
   "cell_type": "code",
   "execution_count": 347,
   "id": "d1567942",
   "metadata": {},
   "outputs": [
    {
     "name": "stdout",
     "output_type": "stream",
     "text": [
      "[1 2 3 4 5] [1 2 3]\n",
      "1999337577136 1999337575696\n",
      "[-777    2    3    4    5] [-777    2    3]\n",
      "1999337577136 1999337575696\n"
     ]
    }
   ],
   "source": [
    "myArr=np.array([1,2,3,4,5])\n",
    "# 일부를 새로운 넘파이배열로 생성 => 얕은 복사\n",
    "# 주소번지는 서로 별개\n",
    "myArr_sub = myArr[:3]\n",
    "print(myArr, myArr_sub)\n",
    "print(id(myArr), id(myArr_sub))\n",
    "\n",
    "# 복사본 값 변경후?\n",
    "myArr_sub[0] = -777\n",
    "print(myArr, myArr_sub)\n",
    "print(id(myArr), id(myArr_sub))"
   ]
  },
  {
   "cell_type": "code",
   "execution_count": 4,
   "id": "e7fa7770",
   "metadata": {},
   "outputs": [],
   "source": [
    "a=np.arange(6).reshape(2,3)"
   ]
  },
  {
   "cell_type": "code",
   "execution_count": 3,
   "id": "3be20876",
   "metadata": {},
   "outputs": [
    {
     "data": {
      "text/plain": [
       "array([0, 1, 2, 3, 4, 5])"
      ]
     },
     "execution_count": 3,
     "metadata": {},
     "output_type": "execute_result"
    }
   ],
   "source": [
    "np.arange(6)"
   ]
  },
  {
   "cell_type": "code",
   "execution_count": 6,
   "id": "20290582",
   "metadata": {},
   "outputs": [],
   "source": [
    "b=a>4"
   ]
  },
  {
   "cell_type": "code",
   "execution_count": 7,
   "id": "4154ffd0-a2cc-4a7a-b996-8577571a3698",
   "metadata": {},
   "outputs": [
    {
     "data": {
      "text/plain": [
       "array([5])"
      ]
     },
     "execution_count": 7,
     "metadata": {},
     "output_type": "execute_result"
    }
   ],
   "source": [
    "a[b]"
   ]
  }
 ],
 "metadata": {
  "kernelspec": {
   "display_name": "Python 3 (ipykernel)",
   "language": "python",
   "name": "python3"
  },
  "language_info": {
   "codemirror_mode": {
    "name": "ipython",
    "version": 3
   },
   "file_extension": ".py",
   "mimetype": "text/x-python",
   "name": "python",
   "nbconvert_exporter": "python",
   "pygments_lexer": "ipython3",
   "version": "3.9.12"
  }
 },
 "nbformat": 4,
 "nbformat_minor": 5
}
