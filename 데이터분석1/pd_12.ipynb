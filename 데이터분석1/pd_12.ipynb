{
 "cells": [
  {
   "cell_type": "code",
   "execution_count": 1,
   "id": "9540c09c-92b1-4a9e-aff4-a310d5f8ddb2",
   "metadata": {},
   "outputs": [
    {
     "name": "stderr",
     "output_type": "stream",
     "text": [
      "C:\\Users\\pusan\\AppData\\Local\\Temp\\ipykernel_8636\\2634226238.py:2: DeprecationWarning: Importing display from IPython.core.display is deprecated since IPython 7.14, please import from IPython display\n",
      "  from IPython.core.display import display, HTML\n"
     ]
    },
    {
     "data": {
      "text/html": [
       "<style>.container { width:100% !important; font-weight:bold }</style>"
      ],
      "text/plain": [
       "<IPython.core.display.HTML object>"
      ]
     },
     "metadata": {},
     "output_type": "display_data"
    }
   ],
   "source": [
    "# 쥬피터 노트북 셀 크기 설정 \n",
    "from IPython.core.display import display, HTML\n",
    "display(HTML(\"<style>.container { width:100% !important; font-weight:bold }</style>\"))\n",
    "\n",
    "# 경고메세지 숨기기\n",
    "import warnings\n",
    "warnings.filterwarnings(action='ignore')"
   ]
  },
  {
   "cell_type": "code",
   "execution_count": 2,
   "id": "177eafac-84fc-47c6-b0fa-44674c3baaab",
   "metadata": {},
   "outputs": [],
   "source": [
    "import pandas as pd\n",
    "import numpy as np"
   ]
  },
  {
   "cell_type": "markdown",
   "id": "0af39f08-2915-41ee-8200-d811c7777d34",
   "metadata": {},
   "source": [
    "### 특정값의 수 - value_counts()\n",
    "\n",
    "- 카테고리컬 데이타, 이산형 데이타일때 사용\n",
    "- 특정값의 갯수\n",
    "- 데이타프레임[컬럼].value_counts()"
   ]
  },
  {
   "cell_type": "code",
   "execution_count": 17,
   "id": "a11ca5ef-bd25-431b-bcbf-0014d1690fea",
   "metadata": {},
   "outputs": [
    {
     "data": {
      "text/html": [
       "<div>\n",
       "<style scoped>\n",
       "    .dataframe tbody tr th:only-of-type {\n",
       "        vertical-align: middle;\n",
       "    }\n",
       "\n",
       "    .dataframe tbody tr th {\n",
       "        vertical-align: top;\n",
       "    }\n",
       "\n",
       "    .dataframe thead th {\n",
       "        text-align: right;\n",
       "    }\n",
       "</style>\n",
       "<table border=\"1\" class=\"dataframe\">\n",
       "  <thead>\n",
       "    <tr style=\"text-align: right;\">\n",
       "      <th></th>\n",
       "      <th>earn</th>\n",
       "      <th>height</th>\n",
       "      <th>sex</th>\n",
       "      <th>race</th>\n",
       "      <th>ed</th>\n",
       "      <th>age</th>\n",
       "    </tr>\n",
       "  </thead>\n",
       "  <tbody>\n",
       "    <tr>\n",
       "      <th>261</th>\n",
       "      <td>32796.950872</td>\n",
       "      <td>63.87</td>\n",
       "      <td>female</td>\n",
       "      <td>black</td>\n",
       "      <td>13</td>\n",
       "      <td>43</td>\n",
       "    </tr>\n",
       "    <tr>\n",
       "      <th>949</th>\n",
       "      <td>30161.929346</td>\n",
       "      <td>72.16</td>\n",
       "      <td>male</td>\n",
       "      <td>white</td>\n",
       "      <td>12</td>\n",
       "      <td>32</td>\n",
       "    </tr>\n",
       "    <tr>\n",
       "      <th>80</th>\n",
       "      <td>991.599966</td>\n",
       "      <td>64.79</td>\n",
       "      <td>female</td>\n",
       "      <td>white</td>\n",
       "      <td>13</td>\n",
       "      <td>67</td>\n",
       "    </tr>\n",
       "  </tbody>\n",
       "</table>\n",
       "</div>"
      ],
      "text/plain": [
       "             earn  height     sex   race  ed  age\n",
       "261  32796.950872   63.87  female  black  13   43\n",
       "949  30161.929346   72.16    male  white  12   32\n",
       "80     991.599966   64.79  female  white  13   67"
      ]
     },
     "execution_count": 17,
     "metadata": {},
     "output_type": "execute_result"
    }
   ],
   "source": [
    "df = pd.read_csv(\"data/wages.csv\")\n",
    "df.sample(3)"
   ]
  },
  {
   "cell_type": "code",
   "execution_count": 18,
   "id": "fe663c6b-3fbf-4bdd-8e19-ef0a5de087e1",
   "metadata": {},
   "outputs": [
    {
     "data": {
      "text/plain": [
       "(array(['male', 'female'], dtype=object),\n",
       " array(['white', 'other', 'hispanic', 'black'], dtype=object))"
      ]
     },
     "execution_count": 18,
     "metadata": {},
     "output_type": "execute_result"
    }
   ],
   "source": [
    "# 카테고리컬 데이타 찾기\n",
    "df['sex'].unique(), df['race'].unique()"
   ]
  },
  {
   "cell_type": "code",
   "execution_count": 19,
   "id": "27d68257-4e66-4f1b-9275-f4223d8af351",
   "metadata": {},
   "outputs": [
    {
     "data": {
      "text/plain": [
       "(array([49, 62, 33, 95, 43, 30, 53, 50, 25, 69, 54, 38, 31, 55, 39, 48, 59,\n",
       "        26, 45, 64, 42, 37, 23, 29, 35, 82, 61, 34, 36, 22, 60, 32, 67, 47,\n",
       "        72, 56, 57, 51, 71, 65, 40, 27, 63, 24, 77, 93, 83, 70, 41, 44, 28,\n",
       "        46, 66, 75, 73, 52, 68, 78, 81, 58, 86, 80, 79, 85, 76, 88, 87, 89,\n",
       "        92, 91, 74, 84, 90], dtype=int64),\n",
       " array([79571.29901102, 96396.98864331, 48710.66694739, ...,\n",
       "        13710.67131164, 95426.01441029,  9575.46185684]))"
      ]
     },
     "execution_count": 19,
     "metadata": {},
     "output_type": "execute_result"
    }
   ],
   "source": [
    "# 연속형 테이타 찾기\n",
    "df['age'].unique(), df['earn'].unique()"
   ]
  },
  {
   "cell_type": "code",
   "execution_count": 21,
   "id": "d8717def-3b71-4e80-8d0b-487cd90ac5f0",
   "metadata": {},
   "outputs": [
    {
     "name": "stdout",
     "output_type": "stream",
     "text": [
      "['male' 'female']\n"
     ]
    },
    {
     "data": {
      "text/plain": [
       "female    859\n",
       "male      520\n",
       "Name: sex, dtype: int64"
      ]
     },
     "execution_count": 21,
     "metadata": {},
     "output_type": "execute_result"
    }
   ],
   "source": [
    "# value_counts() 적용\n",
    "# 남녀별 데이타 갯수\n",
    "print(df['sex'].unique())\n",
    "df['sex'].value_counts()"
   ]
  },
  {
   "cell_type": "code",
   "execution_count": 22,
   "id": "bfa32ee0-bad3-445e-a648-81d42de54f9d",
   "metadata": {},
   "outputs": [
    {
     "data": {
      "text/plain": [
       "1379"
      ]
     },
     "execution_count": 22,
     "metadata": {},
     "output_type": "execute_result"
    }
   ],
   "source": [
    "# NaN을 제외한 실제 값이 몇개인가?\n",
    "df['sex'].count()"
   ]
  },
  {
   "cell_type": "code",
   "execution_count": 23,
   "id": "950bee56-ef5a-4d94-8e35-e4b7401163e9",
   "metadata": {},
   "outputs": [
    {
     "name": "stdout",
     "output_type": "stream",
     "text": [
      "<class 'pandas.core.frame.DataFrame'>\n",
      "RangeIndex: 1379 entries, 0 to 1378\n",
      "Data columns (total 6 columns):\n",
      " #   Column  Non-Null Count  Dtype  \n",
      "---  ------  --------------  -----  \n",
      " 0   earn    1379 non-null   float64\n",
      " 1   height  1379 non-null   float64\n",
      " 2   sex     1379 non-null   object \n",
      " 3   race    1379 non-null   object \n",
      " 4   ed      1379 non-null   int64  \n",
      " 5   age     1379 non-null   int64  \n",
      "dtypes: float64(2), int64(2), object(2)\n",
      "memory usage: 64.8+ KB\n"
     ]
    }
   ],
   "source": [
    "df.info()"
   ]
  },
  {
   "cell_type": "code",
   "execution_count": 24,
   "id": "2434bb8a-2578-4b9c-8717-3af0be41f2e8",
   "metadata": {},
   "outputs": [
    {
     "data": {
      "text/html": [
       "<div>\n",
       "<style scoped>\n",
       "    .dataframe tbody tr th:only-of-type {\n",
       "        vertical-align: middle;\n",
       "    }\n",
       "\n",
       "    .dataframe tbody tr th {\n",
       "        vertical-align: top;\n",
       "    }\n",
       "\n",
       "    .dataframe thead th {\n",
       "        text-align: right;\n",
       "    }\n",
       "</style>\n",
       "<table border=\"1\" class=\"dataframe\">\n",
       "  <thead>\n",
       "    <tr style=\"text-align: right;\">\n",
       "      <th></th>\n",
       "      <th>earn</th>\n",
       "      <th>height</th>\n",
       "      <th>sex</th>\n",
       "      <th>race</th>\n",
       "      <th>ed</th>\n",
       "      <th>age</th>\n",
       "    </tr>\n",
       "  </thead>\n",
       "  <tbody>\n",
       "    <tr>\n",
       "      <th>1</th>\n",
       "      <td>96396.988643</td>\n",
       "      <td>66.23</td>\n",
       "      <td>female</td>\n",
       "      <td>white</td>\n",
       "      <td>16</td>\n",
       "      <td>62</td>\n",
       "    </tr>\n",
       "    <tr>\n",
       "      <th>2</th>\n",
       "      <td>48710.666947</td>\n",
       "      <td>63.77</td>\n",
       "      <td>female</td>\n",
       "      <td>white</td>\n",
       "      <td>16</td>\n",
       "      <td>33</td>\n",
       "    </tr>\n",
       "    <tr>\n",
       "      <th>3</th>\n",
       "      <td>80478.096153</td>\n",
       "      <td>63.22</td>\n",
       "      <td>female</td>\n",
       "      <td>other</td>\n",
       "      <td>16</td>\n",
       "      <td>95</td>\n",
       "    </tr>\n",
       "    <tr>\n",
       "      <th>4</th>\n",
       "      <td>82089.345498</td>\n",
       "      <td>63.08</td>\n",
       "      <td>female</td>\n",
       "      <td>white</td>\n",
       "      <td>17</td>\n",
       "      <td>43</td>\n",
       "    </tr>\n",
       "    <tr>\n",
       "      <th>5</th>\n",
       "      <td>15313.352901</td>\n",
       "      <td>64.53</td>\n",
       "      <td>female</td>\n",
       "      <td>white</td>\n",
       "      <td>15</td>\n",
       "      <td>30</td>\n",
       "    </tr>\n",
       "    <tr>\n",
       "      <th>...</th>\n",
       "      <td>...</td>\n",
       "      <td>...</td>\n",
       "      <td>...</td>\n",
       "      <td>...</td>\n",
       "      <td>...</td>\n",
       "      <td>...</td>\n",
       "    </tr>\n",
       "    <tr>\n",
       "      <th>1368</th>\n",
       "      <td>4184.222685</td>\n",
       "      <td>60.19</td>\n",
       "      <td>female</td>\n",
       "      <td>hispanic</td>\n",
       "      <td>6</td>\n",
       "      <td>71</td>\n",
       "    </tr>\n",
       "    <tr>\n",
       "      <th>1370</th>\n",
       "      <td>175901.453598</td>\n",
       "      <td>65.90</td>\n",
       "      <td>female</td>\n",
       "      <td>other</td>\n",
       "      <td>18</td>\n",
       "      <td>52</td>\n",
       "    </tr>\n",
       "    <tr>\n",
       "      <th>1373</th>\n",
       "      <td>16905.557851</td>\n",
       "      <td>70.08</td>\n",
       "      <td>female</td>\n",
       "      <td>white</td>\n",
       "      <td>16</td>\n",
       "      <td>40</td>\n",
       "    </tr>\n",
       "    <tr>\n",
       "      <th>1375</th>\n",
       "      <td>24853.519514</td>\n",
       "      <td>61.31</td>\n",
       "      <td>female</td>\n",
       "      <td>white</td>\n",
       "      <td>18</td>\n",
       "      <td>86</td>\n",
       "    </tr>\n",
       "    <tr>\n",
       "      <th>1376</th>\n",
       "      <td>13710.671312</td>\n",
       "      <td>63.64</td>\n",
       "      <td>female</td>\n",
       "      <td>white</td>\n",
       "      <td>12</td>\n",
       "      <td>37</td>\n",
       "    </tr>\n",
       "  </tbody>\n",
       "</table>\n",
       "<p>859 rows × 6 columns</p>\n",
       "</div>"
      ],
      "text/plain": [
       "               earn  height     sex      race  ed  age\n",
       "1      96396.988643   66.23  female     white  16   62\n",
       "2      48710.666947   63.77  female     white  16   33\n",
       "3      80478.096153   63.22  female     other  16   95\n",
       "4      82089.345498   63.08  female     white  17   43\n",
       "5      15313.352901   64.53  female     white  15   30\n",
       "...             ...     ...     ...       ...  ..  ...\n",
       "1368    4184.222685   60.19  female  hispanic   6   71\n",
       "1370  175901.453598   65.90  female     other  18   52\n",
       "1373   16905.557851   70.08  female     white  16   40\n",
       "1375   24853.519514   61.31  female     white  18   86\n",
       "1376   13710.671312   63.64  female     white  12   37\n",
       "\n",
       "[859 rows x 6 columns]"
      ]
     },
     "execution_count": 24,
     "metadata": {},
     "output_type": "execute_result"
    }
   ],
   "source": [
    "df[df['sex'] == 'female']"
   ]
  },
  {
   "cell_type": "code",
   "execution_count": 26,
   "id": "fd2b80af-0d40-40d0-a4d4-d2a37e5f9590",
   "metadata": {},
   "outputs": [
    {
     "data": {
      "text/plain": [
       "white       1147\n",
       "black        126\n",
       "hispanic      77\n",
       "other         29\n",
       "Name: race, dtype: int64"
      ]
     },
     "execution_count": 26,
     "metadata": {},
     "output_type": "execute_result"
    }
   ],
   "source": [
    "# race의 각각의 값 분포\n",
    "df['race'].value_counts()"
   ]
  },
  {
   "cell_type": "code",
   "execution_count": 33,
   "id": "d0465a0c-141e-48ab-92bf-aa3d730674a3",
   "metadata": {},
   "outputs": [
    {
     "data": {
      "text/plain": [
       "36    45\n",
       "32    43\n",
       "33    42\n",
       "34    41\n",
       "43    40\n",
       "      ..\n",
       "83     1\n",
       "89     1\n",
       "88     1\n",
       "93     1\n",
       "90     1\n",
       "Name: age, Length: 73, dtype: int64"
      ]
     },
     "execution_count": 33,
     "metadata": {},
     "output_type": "execute_result"
    }
   ],
   "source": [
    " # 나이 age값의 분포\n",
    "df['age'].value_counts()"
   ]
  },
  {
   "cell_type": "code",
   "execution_count": 32,
   "id": "e3fde92d-3795-4f79-b053-c546a46f7e5c",
   "metadata": {},
   "outputs": [
    {
     "data": {
      "text/plain": [
       "36    45\n",
       "32    43\n",
       "33    42\n",
       "34    41\n",
       "43    40\n",
       "30    40\n",
       "35    39\n",
       "37    39\n",
       "38    38\n",
       "45    38\n",
       "Name: age, dtype: int64"
      ]
     },
     "execution_count": 32,
     "metadata": {},
     "output_type": "execute_result"
    }
   ],
   "source": [
    "# 1~10위까지 나이의 분포\n",
    "df['age'].value_counts()[:10]"
   ]
  },
  {
   "cell_type": "code",
   "execution_count": 34,
   "id": "850b9424-1cc8-4955-85b4-26ebe78636a1",
   "metadata": {
    "collapsed": true,
    "jupyter": {
     "outputs_hidden": true
    },
    "tags": []
   },
   "outputs": [
    {
     "data": {
      "text/plain": [
       "79571.299011    1\n",
       "23809.447738    1\n",
       "45529.938971    1\n",
       "33388.298766    1\n",
       "8012.349072     1\n",
       "               ..\n",
       "13735.407524    1\n",
       "19065.517947    1\n",
       "13712.766222    1\n",
       "71637.552888    1\n",
       "9575.461857     1\n",
       "Name: earn, Length: 1379, dtype: int64"
      ]
     },
     "execution_count": 34,
     "metadata": {},
     "output_type": "execute_result"
    }
   ],
   "source": [
    "df['earn'].value_counts()"
   ]
  },
  {
   "cell_type": "markdown",
   "id": "96f37425-2de8-492c-848a-7c358b5e0e00",
   "metadata": {
    "tags": []
   },
   "source": [
    "### cut(), qcut()\n",
    "- 연속 수치형 변수를 동일한 구간으로 나눈 범주형 레이블로 변경\n",
    "- pd.cut(데이타프레임[컬럼명], 구간의 갯수, labels = 라벨리스트)\n",
    "    - 동일한 갯수로 구간을 나누는 함수\n",
    "- pd.qcut(데이타프레임[컬럼명], 구간의 갯수, labels = 라벨리스트)\n",
    "- 예시) 1~100 세  구간 나누기 \n",
    "```\n",
    " 1~10 => age1\n",
    " 11~20 => age2\n",
    " ...\n",
    " 91~100 => age10\n",
    "```"
   ]
  },
  {
   "cell_type": "code",
   "execution_count": 37,
   "id": "3f82418a-b394-4483-9f8e-c92d949a2b90",
   "metadata": {},
   "outputs": [
    {
     "data": {
      "text/plain": [
       "(95, 22)"
      ]
     },
     "execution_count": 37,
     "metadata": {},
     "output_type": "execute_result"
    }
   ],
   "source": [
    "# age 컬럼의 최대값과 최소값 확인\n",
    "df['age'].max(), df['age'].min()\n",
    "# df['age'].value_counts()"
   ]
  },
  {
   "cell_type": "code",
   "execution_count": 38,
   "id": "3a3c5431-684e-4dd9-9274-c8c080650940",
   "metadata": {},
   "outputs": [
    {
     "data": {
      "text/plain": [
       "36    45\n",
       "32    43\n",
       "33    42\n",
       "34    41\n",
       "43    40\n",
       "      ..\n",
       "83     1\n",
       "89     1\n",
       "88     1\n",
       "93     1\n",
       "90     1\n",
       "Name: age, Length: 73, dtype: int64"
      ]
     },
     "execution_count": 38,
     "metadata": {},
     "output_type": "execute_result"
    }
   ],
   "source": [
    "# age 컬럼의 최대값과 최소값 확인\n",
    "df['age'].value_counts()"
   ]
  },
  {
   "cell_type": "code",
   "execution_count": 69,
   "id": "bc8d5e30-36a5-476f-b270-bb1712f794ac",
   "metadata": {},
   "outputs": [],
   "source": [
    "# age 컬럼의 3개의 구간으로 분리\n",
    "# pd.cut(데이타프레임[컬럼명], 구간의 갯수, labels = 라벨리스트)\n",
    "df['age_class'] = pd.cut(df['age'], 3, labels = ['young', 'adult', 'old'])"
   ]
  },
  {
   "cell_type": "code",
   "execution_count": 70,
   "id": "32b62e0d-97c4-4725-b49c-d9e2db27a82e",
   "metadata": {},
   "outputs": [
    {
     "data": {
      "text/html": [
       "<div>\n",
       "<style scoped>\n",
       "    .dataframe tbody tr th:only-of-type {\n",
       "        vertical-align: middle;\n",
       "    }\n",
       "\n",
       "    .dataframe tbody tr th {\n",
       "        vertical-align: top;\n",
       "    }\n",
       "\n",
       "    .dataframe thead th {\n",
       "        text-align: right;\n",
       "    }\n",
       "</style>\n",
       "<table border=\"1\" class=\"dataframe\">\n",
       "  <thead>\n",
       "    <tr style=\"text-align: right;\">\n",
       "      <th></th>\n",
       "      <th>earn</th>\n",
       "      <th>height</th>\n",
       "      <th>sex</th>\n",
       "      <th>race</th>\n",
       "      <th>ed</th>\n",
       "      <th>age</th>\n",
       "      <th>age_class</th>\n",
       "    </tr>\n",
       "  </thead>\n",
       "  <tbody>\n",
       "    <tr>\n",
       "      <th>303</th>\n",
       "      <td>16889.515855</td>\n",
       "      <td>65.01</td>\n",
       "      <td>female</td>\n",
       "      <td>white</td>\n",
       "      <td>14</td>\n",
       "      <td>71</td>\n",
       "      <td>old</td>\n",
       "    </tr>\n",
       "    <tr>\n",
       "      <th>424</th>\n",
       "      <td>988.758787</td>\n",
       "      <td>65.93</td>\n",
       "      <td>female</td>\n",
       "      <td>white</td>\n",
       "      <td>10</td>\n",
       "      <td>42</td>\n",
       "      <td>young</td>\n",
       "    </tr>\n",
       "    <tr>\n",
       "      <th>1316</th>\n",
       "      <td>82711.753363</td>\n",
       "      <td>60.14</td>\n",
       "      <td>male</td>\n",
       "      <td>white</td>\n",
       "      <td>15</td>\n",
       "      <td>54</td>\n",
       "      <td>adult</td>\n",
       "    </tr>\n",
       "  </tbody>\n",
       "</table>\n",
       "</div>"
      ],
      "text/plain": [
       "              earn  height     sex   race  ed  age age_class\n",
       "303   16889.515855   65.01  female  white  14   71       old\n",
       "424     988.758787   65.93  female  white  10   42     young\n",
       "1316  82711.753363   60.14    male  white  15   54     adult"
      ]
     },
     "execution_count": 70,
     "metadata": {},
     "output_type": "execute_result"
    }
   ],
   "source": [
    "df.sample(3)"
   ]
  },
  {
   "cell_type": "code",
   "execution_count": 71,
   "id": "edf77cec-34fc-47a4-9eef-900539dfa686",
   "metadata": {},
   "outputs": [
    {
     "data": {
      "text/plain": [
       "young    834\n",
       "adult    430\n",
       "old      115\n",
       "Name: age_class, dtype: int64"
      ]
     },
     "execution_count": 71,
     "metadata": {},
     "output_type": "execute_result"
    }
   ],
   "source": [
    "df['age_class'].value_counts()"
   ]
  },
  {
   "cell_type": "code",
   "execution_count": 72,
   "id": "c3823ecb-5395-4c70-9c70-6fa6b6806eef",
   "metadata": {},
   "outputs": [],
   "source": [
    "# age 컬럼의 3개의 구간으로 분리\n",
    "# pd.qcut(데이타프레임[컬럼명], 구간의 갯수, labels = 라벨리스트)\n",
    "df['age_class2'] = pd.qcut(df['age'], 3, labels = ['young2', 'adult2', 'old2'])"
   ]
  },
  {
   "cell_type": "code",
   "execution_count": 78,
   "id": "664d46db-dbc3-4fb0-829d-4c38fa6123ba",
   "metadata": {},
   "outputs": [
    {
     "data": {
      "text/html": [
       "<div>\n",
       "<style scoped>\n",
       "    .dataframe tbody tr th:only-of-type {\n",
       "        vertical-align: middle;\n",
       "    }\n",
       "\n",
       "    .dataframe tbody tr th {\n",
       "        vertical-align: top;\n",
       "    }\n",
       "\n",
       "    .dataframe thead th {\n",
       "        text-align: right;\n",
       "    }\n",
       "</style>\n",
       "<table border=\"1\" class=\"dataframe\">\n",
       "  <thead>\n",
       "    <tr style=\"text-align: right;\">\n",
       "      <th></th>\n",
       "      <th>earn</th>\n",
       "      <th>height</th>\n",
       "      <th>sex</th>\n",
       "      <th>race</th>\n",
       "      <th>ed</th>\n",
       "      <th>age</th>\n",
       "      <th>age_class</th>\n",
       "      <th>age_class2</th>\n",
       "    </tr>\n",
       "  </thead>\n",
       "  <tbody>\n",
       "    <tr>\n",
       "      <th>543</th>\n",
       "      <td>35983.455717</td>\n",
       "      <td>59.68</td>\n",
       "      <td>female</td>\n",
       "      <td>white</td>\n",
       "      <td>12</td>\n",
       "      <td>45</td>\n",
       "      <td>young</td>\n",
       "      <td>adult2</td>\n",
       "    </tr>\n",
       "    <tr>\n",
       "      <th>1092</th>\n",
       "      <td>36593.693242</td>\n",
       "      <td>64.16</td>\n",
       "      <td>male</td>\n",
       "      <td>white</td>\n",
       "      <td>13</td>\n",
       "      <td>36</td>\n",
       "      <td>young</td>\n",
       "      <td>young2</td>\n",
       "    </tr>\n",
       "    <tr>\n",
       "      <th>1145</th>\n",
       "      <td>5771.771149</td>\n",
       "      <td>68.35</td>\n",
       "      <td>female</td>\n",
       "      <td>white</td>\n",
       "      <td>12</td>\n",
       "      <td>27</td>\n",
       "      <td>young</td>\n",
       "      <td>young2</td>\n",
       "    </tr>\n",
       "  </tbody>\n",
       "</table>\n",
       "</div>"
      ],
      "text/plain": [
       "              earn  height     sex   race  ed  age age_class age_class2\n",
       "543   35983.455717   59.68  female  white  12   45     young     adult2\n",
       "1092  36593.693242   64.16    male  white  13   36     young     young2\n",
       "1145   5771.771149   68.35  female  white  12   27     young     young2"
      ]
     },
     "execution_count": 78,
     "metadata": {},
     "output_type": "execute_result"
    }
   ],
   "source": [
    "df.sample(3)"
   ]
  },
  {
   "cell_type": "code",
   "execution_count": 79,
   "id": "8257043b-3b44-4607-a726-190c10e36797",
   "metadata": {},
   "outputs": [
    {
     "data": {
      "text/plain": [
       "young2    487\n",
       "adult2    456\n",
       "old2      436\n",
       "Name: age_class2, dtype: int64"
      ]
     },
     "execution_count": 79,
     "metadata": {},
     "output_type": "execute_result"
    }
   ],
   "source": [
    "df['age_class2'].value_counts()"
   ]
  },
  {
   "cell_type": "code",
   "execution_count": 92,
   "id": "2ff14497-bcac-4672-9295-486a1207b57b",
   "metadata": {},
   "outputs": [
    {
     "name": "stdout",
     "output_type": "stream",
     "text": [
      "22 46\n",
      "47 70\n",
      "71 95\n"
     ]
    }
   ],
   "source": [
    "# cut() 함수의 데이타 확인\n",
    "print(df[df['age_class'] == 'young']['age'].min(),df[df['age_class'] == 'young']['age'].max())\n",
    "print(df[df['age_class'] == 'adult']['age'].min(),df[df['age_class'] == 'adult']['age'].max())\n",
    "print(df[df['age_class'] == 'old']['age'].min(),df[df['age_class'] == 'old']['age'].max())"
   ]
  },
  {
   "cell_type": "code",
   "execution_count": 93,
   "id": "386ded72-ade7-4386-abba-1c6403ae23c5",
   "metadata": {},
   "outputs": [
    {
     "name": "stdout",
     "output_type": "stream",
     "text": [
      "22 36\n",
      "37 50\n",
      "51 95\n"
     ]
    }
   ],
   "source": [
    "# qcut() 함수의 데이타 확인\n",
    "print(df[df['age_class2'] == 'young2']['age'].min(),df[df['age_class2'] == 'young2']['age'].max())\n",
    "print(df[df['age_class2'] == 'adult2']['age'].min(),df[df['age_class2'] == 'adult2']['age'].max())\n",
    "print(df[df['age_class2'] == 'old2']['age'].min(),df[df['age_class2'] == 'old2']['age'].max())"
   ]
  },
  {
   "cell_type": "markdown",
   "id": "54bcef40-f036-42d2-92da-f7a5be4c80cb",
   "metadata": {},
   "source": [
    "### Python의 lambda\n",
    "- 익명함수\n",
    "- 한즐함수\n",
    "- lambda 입력변수:출력문"
   ]
  },
  {
   "cell_type": "code",
   "execution_count": 94,
   "id": "5306f05d-d4b0-434c-9313-855b7ae2b070",
   "metadata": {},
   "outputs": [
    {
     "data": {
      "text/plain": [
       "300"
      ]
     },
     "execution_count": 94,
     "metadata": {},
     "output_type": "execute_result"
    }
   ],
   "source": [
    "# 일반함수 - 두수의 합\n",
    "def f1(x,y):\n",
    "    return x+y\n",
    "f1(100,200)"
   ]
  },
  {
   "cell_type": "code",
   "execution_count": 96,
   "id": "01a059d0-b0f1-448c-9cbe-4b503753a2a8",
   "metadata": {},
   "outputs": [
    {
     "data": {
      "text/plain": [
       "300"
      ]
     },
     "execution_count": 96,
     "metadata": {},
     "output_type": "execute_result"
    }
   ],
   "source": [
    "# 람다함수 - 두 수의 합\n",
    "# lambda 입력변수:출력문\n",
    "f2 = lambda x,y:x+y\n",
    "f2(100,200)"
   ]
  },
  {
   "cell_type": "code",
   "execution_count": 97,
   "id": "3e25d175-b795-4d78-83bb-6f3f6958d10a",
   "metadata": {},
   "outputs": [
    {
     "data": {
      "text/plain": [
       "300"
      ]
     },
     "execution_count": 97,
     "metadata": {},
     "output_type": "execute_result"
    }
   ],
   "source": [
    "(lambda x, y:x+y)(100,200)"
   ]
  },
  {
   "cell_type": "markdown",
   "id": "1fcaef9a-9cc1-4d98-8d5c-dcdcd672f346",
   "metadata": {},
   "source": [
    "### Pandas : lambda + map\n",
    "- 데이타프레임 컬럼(즉 시리즈) 값에 함수를 적용할 때 사용\n",
    "- 데이타프레임.컬럼.map(람다함수|함수명)\n",
    "- 데이타프레임[컬럼].map(람다함수|함수명)\n",
    "- 데이타프레임.컬럼.map({ 기존값:새로운값} )"
   ]
  },
  {
   "cell_type": "code",
   "execution_count": 98,
   "id": "1fb89d3b-f1a9-4703-b495-032fa562ab7d",
   "metadata": {},
   "outputs": [
    {
     "data": {
      "text/plain": [
       "0     1\n",
       "1     2\n",
       "2     3\n",
       "3     4\n",
       "4     5\n",
       "5     6\n",
       "6     7\n",
       "7     8\n",
       "8     9\n",
       "9    10\n",
       "dtype: int32"
      ]
     },
     "execution_count": 98,
     "metadata": {},
     "output_type": "execute_result"
    }
   ],
   "source": [
    "# 시리즈 + map()\n",
    "s = pd.Series(np.arange(1,11))\n",
    "s"
   ]
  },
  {
   "cell_type": "code",
   "execution_count": 100,
   "id": "516a8280-95b8-4e39-8995-8005c6bec3ed",
   "metadata": {},
   "outputs": [
    {
     "data": {
      "text/plain": [
       "'100번'"
      ]
     },
     "execution_count": 100,
     "metadata": {},
     "output_type": "execute_result"
    }
   ],
   "source": [
    "# 숫자 => 숫자 번 (10 => 10번)\n",
    "# 람다함수로 구현\n",
    "(lambda x:str(x)+'번')(100)"
   ]
  },
  {
   "cell_type": "code",
   "execution_count": 103,
   "id": "c2bb8d77-d238-4d0b-9a04-77ca94a88272",
   "metadata": {},
   "outputs": [
    {
     "data": {
      "text/plain": [
       "0     1번\n",
       "1     2번\n",
       "2     3번\n",
       "3     4번\n",
       "4     5번\n",
       "5     6번\n",
       "6     7번\n",
       "7     8번\n",
       "8     9번\n",
       "9    10번\n",
       "dtype: object"
      ]
     },
     "execution_count": 103,
     "metadata": {},
     "output_type": "execute_result"
    }
   ],
   "source": [
    "# 시리즈에 적용\n",
    "s.map(lambda x:str(x)+'번')"
   ]
  },
  {
   "cell_type": "markdown",
   "id": "8fa51aa5-41c1-4501-8aa9-9ee2c89c36f1",
   "metadata": {},
   "source": [
    "### 데이타프레임과 map()"
   ]
  },
  {
   "cell_type": "code",
   "execution_count": 125,
   "id": "c3dd5c15-c5d9-4e3c-9162-8506a902958f",
   "metadata": {},
   "outputs": [
    {
     "data": {
      "text/html": [
       "<div>\n",
       "<style scoped>\n",
       "    .dataframe tbody tr th:only-of-type {\n",
       "        vertical-align: middle;\n",
       "    }\n",
       "\n",
       "    .dataframe tbody tr th {\n",
       "        vertical-align: top;\n",
       "    }\n",
       "\n",
       "    .dataframe thead th {\n",
       "        text-align: right;\n",
       "    }\n",
       "</style>\n",
       "<table border=\"1\" class=\"dataframe\">\n",
       "  <thead>\n",
       "    <tr style=\"text-align: right;\">\n",
       "      <th></th>\n",
       "      <th>earn</th>\n",
       "      <th>height</th>\n",
       "      <th>sex</th>\n",
       "      <th>race</th>\n",
       "      <th>ed</th>\n",
       "      <th>age</th>\n",
       "    </tr>\n",
       "  </thead>\n",
       "  <tbody>\n",
       "    <tr>\n",
       "      <th>0</th>\n",
       "      <td>79571.299011</td>\n",
       "      <td>73.89</td>\n",
       "      <td>male</td>\n",
       "      <td>white</td>\n",
       "      <td>16</td>\n",
       "      <td>49</td>\n",
       "    </tr>\n",
       "    <tr>\n",
       "      <th>1</th>\n",
       "      <td>96396.988643</td>\n",
       "      <td>66.23</td>\n",
       "      <td>female</td>\n",
       "      <td>white</td>\n",
       "      <td>16</td>\n",
       "      <td>62</td>\n",
       "    </tr>\n",
       "    <tr>\n",
       "      <th>2</th>\n",
       "      <td>48710.666947</td>\n",
       "      <td>63.77</td>\n",
       "      <td>female</td>\n",
       "      <td>white</td>\n",
       "      <td>16</td>\n",
       "      <td>33</td>\n",
       "    </tr>\n",
       "    <tr>\n",
       "      <th>3</th>\n",
       "      <td>80478.096153</td>\n",
       "      <td>63.22</td>\n",
       "      <td>female</td>\n",
       "      <td>other</td>\n",
       "      <td>16</td>\n",
       "      <td>95</td>\n",
       "    </tr>\n",
       "    <tr>\n",
       "      <th>4</th>\n",
       "      <td>82089.345498</td>\n",
       "      <td>63.08</td>\n",
       "      <td>female</td>\n",
       "      <td>white</td>\n",
       "      <td>17</td>\n",
       "      <td>43</td>\n",
       "    </tr>\n",
       "  </tbody>\n",
       "</table>\n",
       "</div>"
      ],
      "text/plain": [
       "           earn  height     sex   race  ed  age\n",
       "0  79571.299011   73.89    male  white  16   49\n",
       "1  96396.988643   66.23  female  white  16   62\n",
       "2  48710.666947   63.77  female  white  16   33\n",
       "3  80478.096153   63.22  female  other  16   95\n",
       "4  82089.345498   63.08  female  white  17   43"
      ]
     },
     "execution_count": 125,
     "metadata": {},
     "output_type": "execute_result"
    }
   ],
   "source": [
    "df = pd.read_csv('data/wages.csv')\n",
    "df.head()"
   ]
  },
  {
   "cell_type": "code",
   "execution_count": 107,
   "id": "c32c24f8-1a46-4eda-9283-f742a988e53e",
   "metadata": {},
   "outputs": [
    {
     "name": "stdout",
     "output_type": "stream",
     "text": [
      "<class 'pandas.core.frame.DataFrame'>\n",
      "RangeIndex: 1379 entries, 0 to 1378\n",
      "Data columns (total 6 columns):\n",
      " #   Column  Non-Null Count  Dtype  \n",
      "---  ------  --------------  -----  \n",
      " 0   earn    1379 non-null   float64\n",
      " 1   height  1379 non-null   float64\n",
      " 2   sex     1379 non-null   object \n",
      " 3   race    1379 non-null   object \n",
      " 4   ed      1379 non-null   int64  \n",
      " 5   age     1379 non-null   int64  \n",
      "dtypes: float64(2), int64(2), object(2)\n",
      "memory usage: 64.8+ KB\n"
     ]
    }
   ],
   "source": [
    "df.info()"
   ]
  },
  {
   "cell_type": "code",
   "execution_count": 148,
   "id": "0b10137f-aac2-4714-91c6-4970168bc4ce",
   "metadata": {},
   "outputs": [
    {
     "data": {
      "text/plain": [
       "'$ 79571.299011'"
      ]
     },
     "execution_count": 148,
     "metadata": {},
     "output_type": "execute_result"
    }
   ],
   "source": [
    "# earn 컬럼의 갑 앞에 모두 $ 삽입\n",
    "(lambda x:'$ ' + str(x))(79571.299011)"
   ]
  },
  {
   "cell_type": "code",
   "execution_count": 149,
   "id": "bed72866-249c-4569-a1d0-920b6c96999d",
   "metadata": {},
   "outputs": [
    {
     "data": {
      "text/plain": [
       "0        $ 79571.299011024\n",
       "1       $ 96396.9886433106\n",
       "2        $ 48710.666947391\n",
       "3       $ 80478.0961525837\n",
       "4       $ 82089.3454983326\n",
       "               ...        \n",
       "1374    $ 30173.3803632981\n",
       "1375    $ 24853.5195136729\n",
       "1376    $ 13710.6713116427\n",
       "1377    $ 95426.0144102907\n",
       "1378    $ 9575.46185684499\n",
       "Name: earn, Length: 1379, dtype: object"
      ]
     },
     "execution_count": 149,
     "metadata": {},
     "output_type": "execute_result"
    }
   ],
   "source": [
    "# 데이타프레임.컬럼.map(람다함수|함수명)\n",
    "# 데이타프레임[컬럼].map(람다함수|함수명)\n",
    "df['earn'].map(lambda x:'$ ' + str(x))"
   ]
  },
  {
   "cell_type": "code",
   "execution_count": 150,
   "id": "8245108f-c3f2-45e8-9077-45e93a90672e",
   "metadata": {},
   "outputs": [
    {
     "data": {
      "text/html": [
       "<div>\n",
       "<style scoped>\n",
       "    .dataframe tbody tr th:only-of-type {\n",
       "        vertical-align: middle;\n",
       "    }\n",
       "\n",
       "    .dataframe tbody tr th {\n",
       "        vertical-align: top;\n",
       "    }\n",
       "\n",
       "    .dataframe thead th {\n",
       "        text-align: right;\n",
       "    }\n",
       "</style>\n",
       "<table border=\"1\" class=\"dataframe\">\n",
       "  <thead>\n",
       "    <tr style=\"text-align: right;\">\n",
       "      <th></th>\n",
       "      <th>earn</th>\n",
       "      <th>height</th>\n",
       "      <th>sex</th>\n",
       "      <th>race</th>\n",
       "      <th>ed</th>\n",
       "      <th>age</th>\n",
       "      <th>race2</th>\n",
       "    </tr>\n",
       "  </thead>\n",
       "  <tbody>\n",
       "    <tr>\n",
       "      <th>0</th>\n",
       "      <td>$ 79571.299011024</td>\n",
       "      <td>73.89</td>\n",
       "      <td>male</td>\n",
       "      <td>white</td>\n",
       "      <td>16</td>\n",
       "      <td>49</td>\n",
       "      <td>0</td>\n",
       "    </tr>\n",
       "    <tr>\n",
       "      <th>1</th>\n",
       "      <td>$ 96396.9886433106</td>\n",
       "      <td>66.23</td>\n",
       "      <td>female</td>\n",
       "      <td>white</td>\n",
       "      <td>16</td>\n",
       "      <td>62</td>\n",
       "      <td>0</td>\n",
       "    </tr>\n",
       "    <tr>\n",
       "      <th>2</th>\n",
       "      <td>$ 48710.666947391</td>\n",
       "      <td>63.77</td>\n",
       "      <td>female</td>\n",
       "      <td>white</td>\n",
       "      <td>16</td>\n",
       "      <td>33</td>\n",
       "      <td>0</td>\n",
       "    </tr>\n",
       "    <tr>\n",
       "      <th>3</th>\n",
       "      <td>$ 80478.0961525837</td>\n",
       "      <td>63.22</td>\n",
       "      <td>female</td>\n",
       "      <td>other</td>\n",
       "      <td>16</td>\n",
       "      <td>95</td>\n",
       "      <td>1</td>\n",
       "    </tr>\n",
       "    <tr>\n",
       "      <th>4</th>\n",
       "      <td>$ 82089.3454983326</td>\n",
       "      <td>63.08</td>\n",
       "      <td>female</td>\n",
       "      <td>white</td>\n",
       "      <td>17</td>\n",
       "      <td>43</td>\n",
       "      <td>0</td>\n",
       "    </tr>\n",
       "    <tr>\n",
       "      <th>...</th>\n",
       "      <td>...</td>\n",
       "      <td>...</td>\n",
       "      <td>...</td>\n",
       "      <td>...</td>\n",
       "      <td>...</td>\n",
       "      <td>...</td>\n",
       "      <td>...</td>\n",
       "    </tr>\n",
       "    <tr>\n",
       "      <th>1374</th>\n",
       "      <td>$ 30173.3803632981</td>\n",
       "      <td>71.68</td>\n",
       "      <td>male</td>\n",
       "      <td>white</td>\n",
       "      <td>12</td>\n",
       "      <td>33</td>\n",
       "      <td>0</td>\n",
       "    </tr>\n",
       "    <tr>\n",
       "      <th>1375</th>\n",
       "      <td>$ 24853.5195136729</td>\n",
       "      <td>61.31</td>\n",
       "      <td>female</td>\n",
       "      <td>white</td>\n",
       "      <td>18</td>\n",
       "      <td>86</td>\n",
       "      <td>0</td>\n",
       "    </tr>\n",
       "    <tr>\n",
       "      <th>1376</th>\n",
       "      <td>$ 13710.6713116427</td>\n",
       "      <td>63.64</td>\n",
       "      <td>female</td>\n",
       "      <td>white</td>\n",
       "      <td>12</td>\n",
       "      <td>37</td>\n",
       "      <td>0</td>\n",
       "    </tr>\n",
       "    <tr>\n",
       "      <th>1377</th>\n",
       "      <td>$ 95426.0144102907</td>\n",
       "      <td>71.65</td>\n",
       "      <td>male</td>\n",
       "      <td>white</td>\n",
       "      <td>12</td>\n",
       "      <td>54</td>\n",
       "      <td>0</td>\n",
       "    </tr>\n",
       "    <tr>\n",
       "      <th>1378</th>\n",
       "      <td>$ 9575.46185684499</td>\n",
       "      <td>68.22</td>\n",
       "      <td>male</td>\n",
       "      <td>white</td>\n",
       "      <td>12</td>\n",
       "      <td>31</td>\n",
       "      <td>0</td>\n",
       "    </tr>\n",
       "  </tbody>\n",
       "</table>\n",
       "<p>1379 rows × 7 columns</p>\n",
       "</div>"
      ],
      "text/plain": [
       "                    earn  height     sex   race  ed  age  race2\n",
       "0      $ 79571.299011024   73.89    male  white  16   49      0\n",
       "1     $ 96396.9886433106   66.23  female  white  16   62      0\n",
       "2      $ 48710.666947391   63.77  female  white  16   33      0\n",
       "3     $ 80478.0961525837   63.22  female  other  16   95      1\n",
       "4     $ 82089.3454983326   63.08  female  white  17   43      0\n",
       "...                  ...     ...     ...    ...  ..  ...    ...\n",
       "1374  $ 30173.3803632981   71.68    male  white  12   33      0\n",
       "1375  $ 24853.5195136729   61.31  female  white  18   86      0\n",
       "1376  $ 13710.6713116427   63.64  female  white  12   37      0\n",
       "1377  $ 95426.0144102907   71.65    male  white  12   54      0\n",
       "1378  $ 9575.46185684499   68.22    male  white  12   31      0\n",
       "\n",
       "[1379 rows x 7 columns]"
      ]
     },
     "execution_count": 150,
     "metadata": {},
     "output_type": "execute_result"
    }
   ],
   "source": [
    "df['earn'] = df['earn'].map(lambda x:'$ ' + str(x))\n",
    "df"
   ]
  },
  {
   "cell_type": "code",
   "execution_count": 127,
   "id": "32009c63-dcb8-4bde-b530-a041aa3ce26e",
   "metadata": {},
   "outputs": [
    {
     "data": {
      "text/plain": [
       "(0, 1, 2, 3)"
      ]
     },
     "execution_count": 127,
     "metadata": {},
     "output_type": "execute_result"
    }
   ],
   "source": [
    "def f(x):\n",
    "    race_dict = {'white':0, 'other':1, 'hispanic':2, 'black':3}\n",
    "    return race_dict[x]\n",
    "\n",
    "f('white'), f('other'), f('hispanic'), f('black')"
   ]
  },
  {
   "cell_type": "code",
   "execution_count": 128,
   "id": "acffdf28-4a96-4340-a426-ecacee9b89ad",
   "metadata": {},
   "outputs": [
    {
     "data": {
      "text/plain": [
       "0       0\n",
       "1       0\n",
       "2       0\n",
       "3       1\n",
       "4       0\n",
       "       ..\n",
       "1374    0\n",
       "1375    0\n",
       "1376    0\n",
       "1377    0\n",
       "1378    0\n",
       "Name: race, Length: 1379, dtype: int64"
      ]
     },
     "execution_count": 128,
     "metadata": {},
     "output_type": "execute_result"
    }
   ],
   "source": [
    "# race 컬럼에 적용 \n",
    "df['race'].map(f)"
   ]
  },
  {
   "cell_type": "code",
   "execution_count": 129,
   "id": "7a6e71e6-8216-47b2-a349-4e773d92498b",
   "metadata": {},
   "outputs": [],
   "source": [
    "# 별도 컬럼에 함수 값을  추가\n",
    "df['race2'] = df['race'].map(f)"
   ]
  },
  {
   "cell_type": "code",
   "execution_count": 126,
   "id": "acf1768d-0423-40bd-a77c-39012bdd1553",
   "metadata": {
    "collapsed": true,
    "jupyter": {
     "outputs_hidden": true,
     "source_hidden": true
    },
    "tags": []
   },
   "outputs": [
    {
     "ename": "NameError",
     "evalue": "name 'race_dict' is not defined",
     "output_type": "error",
     "traceback": [
      "\u001b[1;31m---------------------------------------------------------------------------\u001b[0m",
      "\u001b[1;31mNameError\u001b[0m                                 Traceback (most recent call last)",
      "Input \u001b[1;32mIn [126]\u001b[0m, in \u001b[0;36m<cell line: 7>\u001b[1;34m()\u001b[0m\n\u001b[0;32m      4\u001b[0m     race_dict[x] \u001b[38;5;241m=\u001b[39m {\u001b[38;5;124m'\u001b[39m\u001b[38;5;124mwhite\u001b[39m\u001b[38;5;124m'\u001b[39m : \u001b[38;5;241m0\u001b[39m , \u001b[38;5;124m'\u001b[39m\u001b[38;5;124mother\u001b[39m\u001b[38;5;124m'\u001b[39m : \u001b[38;5;241m1\u001b[39m, \u001b[38;5;124m'\u001b[39m\u001b[38;5;124mhispanic\u001b[39m\u001b[38;5;124m'\u001b[39m : \u001b[38;5;241m2\u001b[39m, \u001b[38;5;124m'\u001b[39m\u001b[38;5;124mblack\u001b[39m\u001b[38;5;124m'\u001b[39m : \u001b[38;5;241m3\u001b[39m}\n\u001b[0;32m      5\u001b[0m     \u001b[38;5;28;01mreturn\u001b[39;00m race_dict[x]\n\u001b[1;32m----> 7\u001b[0m \u001b[43mf\u001b[49m\u001b[43m(\u001b[49m\u001b[38;5;124;43m'\u001b[39;49m\u001b[38;5;124;43mwhite\u001b[39;49m\u001b[38;5;124;43m'\u001b[39;49m\u001b[43m)\u001b[49m, f(\u001b[38;5;124m'\u001b[39m\u001b[38;5;124mother\u001b[39m\u001b[38;5;124m'\u001b[39m), f(\u001b[38;5;124m'\u001b[39m\u001b[38;5;124mhispanic\u001b[39m\u001b[38;5;124m'\u001b[39m), f(\u001b[38;5;124m'\u001b[39m\u001b[38;5;124mblack\u001b[39m\u001b[38;5;124m'\u001b[39m)\n",
      "Input \u001b[1;32mIn [126]\u001b[0m, in \u001b[0;36mf\u001b[1;34m(x)\u001b[0m\n\u001b[0;32m      3\u001b[0m \u001b[38;5;28;01mdef\u001b[39;00m \u001b[38;5;21mf\u001b[39m(x):\n\u001b[1;32m----> 4\u001b[0m     \u001b[43mrace_dict\u001b[49m[x] \u001b[38;5;241m=\u001b[39m {\u001b[38;5;124m'\u001b[39m\u001b[38;5;124mwhite\u001b[39m\u001b[38;5;124m'\u001b[39m : \u001b[38;5;241m0\u001b[39m , \u001b[38;5;124m'\u001b[39m\u001b[38;5;124mother\u001b[39m\u001b[38;5;124m'\u001b[39m : \u001b[38;5;241m1\u001b[39m, \u001b[38;5;124m'\u001b[39m\u001b[38;5;124mhispanic\u001b[39m\u001b[38;5;124m'\u001b[39m : \u001b[38;5;241m2\u001b[39m, \u001b[38;5;124m'\u001b[39m\u001b[38;5;124mblack\u001b[39m\u001b[38;5;124m'\u001b[39m : \u001b[38;5;241m3\u001b[39m}\n\u001b[0;32m      5\u001b[0m     \u001b[38;5;28;01mreturn\u001b[39;00m race_dict[x]\n",
      "\u001b[1;31mNameError\u001b[0m: name 'race_dict' is not defined"
     ]
    }
   ],
   "source": [
    "# map + 일반함수\n",
    "# 함수 정의\n",
    "def f(x):\n",
    "    race_dict[x] = {'white' : 0 , 'other' : 1, 'hispanic' : 2, 'black' : 3}\n",
    "    return race_dict[x]\n",
    "\n",
    "f('white'), f('other'), f('hispanic'), f('black')"
   ]
  },
  {
   "cell_type": "code",
   "execution_count": 160,
   "id": "93910dc0-8b3a-4858-8879-cb3f70e60a6d",
   "metadata": {},
   "outputs": [
    {
     "data": {
      "text/html": [
       "<div>\n",
       "<style scoped>\n",
       "    .dataframe tbody tr th:only-of-type {\n",
       "        vertical-align: middle;\n",
       "    }\n",
       "\n",
       "    .dataframe tbody tr th {\n",
       "        vertical-align: top;\n",
       "    }\n",
       "\n",
       "    .dataframe thead th {\n",
       "        text-align: right;\n",
       "    }\n",
       "</style>\n",
       "<table border=\"1\" class=\"dataframe\">\n",
       "  <thead>\n",
       "    <tr style=\"text-align: right;\">\n",
       "      <th></th>\n",
       "      <th>earn</th>\n",
       "      <th>height</th>\n",
       "      <th>sex</th>\n",
       "      <th>race</th>\n",
       "      <th>ed</th>\n",
       "      <th>age</th>\n",
       "      <th>race2</th>\n",
       "    </tr>\n",
       "  </thead>\n",
       "  <tbody>\n",
       "    <tr>\n",
       "      <th>915</th>\n",
       "      <td>$ 47648.579482433</td>\n",
       "      <td>70.72</td>\n",
       "      <td>male</td>\n",
       "      <td>white</td>\n",
       "      <td>18</td>\n",
       "      <td>41</td>\n",
       "      <td>0</td>\n",
       "    </tr>\n",
       "    <tr>\n",
       "      <th>515</th>\n",
       "      <td>$ 47728.0991250952</td>\n",
       "      <td>69.40</td>\n",
       "      <td>male</td>\n",
       "      <td>black</td>\n",
       "      <td>11</td>\n",
       "      <td>55</td>\n",
       "      <td>3</td>\n",
       "    </tr>\n",
       "    <tr>\n",
       "      <th>592</th>\n",
       "      <td>$ 39730.4007784177</td>\n",
       "      <td>73.13</td>\n",
       "      <td>male</td>\n",
       "      <td>white</td>\n",
       "      <td>10</td>\n",
       "      <td>25</td>\n",
       "      <td>0</td>\n",
       "    </tr>\n",
       "    <tr>\n",
       "      <th>712</th>\n",
       "      <td>$ 34939.3171908471</td>\n",
       "      <td>61.12</td>\n",
       "      <td>male</td>\n",
       "      <td>white</td>\n",
       "      <td>12</td>\n",
       "      <td>28</td>\n",
       "      <td>0</td>\n",
       "    </tr>\n",
       "    <tr>\n",
       "      <th>1355</th>\n",
       "      <td>$ 20065.0827364581</td>\n",
       "      <td>62.98</td>\n",
       "      <td>female</td>\n",
       "      <td>white</td>\n",
       "      <td>16</td>\n",
       "      <td>30</td>\n",
       "      <td>0</td>\n",
       "    </tr>\n",
       "  </tbody>\n",
       "</table>\n",
       "</div>"
      ],
      "text/plain": [
       "                    earn  height     sex   race  ed  age  race2\n",
       "915    $ 47648.579482433   70.72    male  white  18   41      0\n",
       "515   $ 47728.0991250952   69.40    male  black  11   55      3\n",
       "592   $ 39730.4007784177   73.13    male  white  10   25      0\n",
       "712   $ 34939.3171908471   61.12    male  white  12   28      0\n",
       "1355  $ 20065.0827364581   62.98  female  white  16   30      0"
      ]
     },
     "execution_count": 160,
     "metadata": {},
     "output_type": "execute_result"
    }
   ],
   "source": [
    "df.sample(5)"
   ]
  },
  {
   "cell_type": "markdown",
   "id": "aed58e47-6d79-4f42-a589-2f332696ace0",
   "metadata": {},
   "source": [
    "### 범주형 데이타의 값 변경\n",
    "\n",
    "- 데이타프레임.컬럼.map({기존값:새로운값}), 데이타프레임[컬럼].map({기존값:새로운값})\n",
    "- 데이타프레임.컬럼.replace({기존값:새로운값}), 데이타프레임[컬럼].replace({기존값:새로운값})"
   ]
  },
  {
   "cell_type": "code",
   "execution_count": 3,
   "id": "75bfd8dc-ee01-4a86-9269-b36db7fd0b79",
   "metadata": {},
   "outputs": [
    {
     "data": {
      "text/html": [
       "<div>\n",
       "<style scoped>\n",
       "    .dataframe tbody tr th:only-of-type {\n",
       "        vertical-align: middle;\n",
       "    }\n",
       "\n",
       "    .dataframe tbody tr th {\n",
       "        vertical-align: top;\n",
       "    }\n",
       "\n",
       "    .dataframe thead th {\n",
       "        text-align: right;\n",
       "    }\n",
       "</style>\n",
       "<table border=\"1\" class=\"dataframe\">\n",
       "  <thead>\n",
       "    <tr style=\"text-align: right;\">\n",
       "      <th></th>\n",
       "      <th>earn</th>\n",
       "      <th>height</th>\n",
       "      <th>sex</th>\n",
       "      <th>race</th>\n",
       "      <th>ed</th>\n",
       "      <th>age</th>\n",
       "    </tr>\n",
       "  </thead>\n",
       "  <tbody>\n",
       "    <tr>\n",
       "      <th>0</th>\n",
       "      <td>79571.299011</td>\n",
       "      <td>73.89</td>\n",
       "      <td>male</td>\n",
       "      <td>white</td>\n",
       "      <td>16</td>\n",
       "      <td>49</td>\n",
       "    </tr>\n",
       "    <tr>\n",
       "      <th>1</th>\n",
       "      <td>96396.988643</td>\n",
       "      <td>66.23</td>\n",
       "      <td>female</td>\n",
       "      <td>white</td>\n",
       "      <td>16</td>\n",
       "      <td>62</td>\n",
       "    </tr>\n",
       "    <tr>\n",
       "      <th>2</th>\n",
       "      <td>48710.666947</td>\n",
       "      <td>63.77</td>\n",
       "      <td>female</td>\n",
       "      <td>white</td>\n",
       "      <td>16</td>\n",
       "      <td>33</td>\n",
       "    </tr>\n",
       "    <tr>\n",
       "      <th>3</th>\n",
       "      <td>80478.096153</td>\n",
       "      <td>63.22</td>\n",
       "      <td>female</td>\n",
       "      <td>other</td>\n",
       "      <td>16</td>\n",
       "      <td>95</td>\n",
       "    </tr>\n",
       "    <tr>\n",
       "      <th>4</th>\n",
       "      <td>82089.345498</td>\n",
       "      <td>63.08</td>\n",
       "      <td>female</td>\n",
       "      <td>white</td>\n",
       "      <td>17</td>\n",
       "      <td>43</td>\n",
       "    </tr>\n",
       "  </tbody>\n",
       "</table>\n",
       "</div>"
      ],
      "text/plain": [
       "           earn  height     sex   race  ed  age\n",
       "0  79571.299011   73.89    male  white  16   49\n",
       "1  96396.988643   66.23  female  white  16   62\n",
       "2  48710.666947   63.77  female  white  16   33\n",
       "3  80478.096153   63.22  female  other  16   95\n",
       "4  82089.345498   63.08  female  white  17   43"
      ]
     },
     "execution_count": 3,
     "metadata": {},
     "output_type": "execute_result"
    }
   ],
   "source": [
    "df = pd.read_csv(\"data/wages.csv\")\n",
    "df.head()"
   ]
  },
  {
   "cell_type": "code",
   "execution_count": 5,
   "id": "03a2c90a-8065-4c52-90dd-fc9d64a6f010",
   "metadata": {},
   "outputs": [
    {
     "data": {
      "text/plain": [
       "(array(['white', 'other', 'hispanic', 'black'], dtype=object),\n",
       " array(['male', 'female'], dtype=object))"
      ]
     },
     "execution_count": 5,
     "metadata": {},
     "output_type": "execute_result"
    }
   ],
   "source": [
    "# 범주형 데이타 => race, sex\n",
    "df['race'].unique(), df['sex'].unique()"
   ]
  },
  {
   "cell_type": "code",
   "execution_count": 8,
   "id": "c93752d8-d08f-4f1f-9495-c113f20b69f6",
   "metadata": {},
   "outputs": [
    {
     "name": "stdout",
     "output_type": "stream",
     "text": [
      "<class 'pandas.core.frame.DataFrame'>\n",
      "RangeIndex: 1379 entries, 0 to 1378\n",
      "Data columns (total 6 columns):\n",
      " #   Column  Non-Null Count  Dtype  \n",
      "---  ------  --------------  -----  \n",
      " 0   earn    1379 non-null   float64\n",
      " 1   height  1379 non-null   float64\n",
      " 2   sex     1379 non-null   object \n",
      " 3   race    1379 non-null   object \n",
      " 4   ed      1379 non-null   int64  \n",
      " 5   age     1379 non-null   int64  \n",
      "dtypes: float64(2), int64(2), object(2)\n",
      "memory usage: 64.8+ KB\n"
     ]
    }
   ],
   "source": [
    "# 결측값 확인\n",
    "df.info()"
   ]
  },
  {
   "cell_type": "code",
   "execution_count": 11,
   "id": "e6974059-8474-4cda-9962-c048d9d8596f",
   "metadata": {},
   "outputs": [],
   "source": [
    "# race\n",
    "# ['white', 'other', 'hispanic', 'black']\n",
    "# w, o, h, b\n",
    "# 데이타프레임.컬럼.replace({기존값:새로운값})\n",
    "df['race2'] = df.race.replace({'white':'w', 'other':'o','hisanic':'h','black':'b'})"
   ]
  },
  {
   "cell_type": "code",
   "execution_count": 17,
   "id": "134d50a3-bbf5-41a3-9bd7-26b655701c6a",
   "metadata": {},
   "outputs": [
    {
     "data": {
      "text/html": [
       "<div>\n",
       "<style scoped>\n",
       "    .dataframe tbody tr th:only-of-type {\n",
       "        vertical-align: middle;\n",
       "    }\n",
       "\n",
       "    .dataframe tbody tr th {\n",
       "        vertical-align: top;\n",
       "    }\n",
       "\n",
       "    .dataframe thead th {\n",
       "        text-align: right;\n",
       "    }\n",
       "</style>\n",
       "<table border=\"1\" class=\"dataframe\">\n",
       "  <thead>\n",
       "    <tr style=\"text-align: right;\">\n",
       "      <th></th>\n",
       "      <th>earn</th>\n",
       "      <th>height</th>\n",
       "      <th>sex</th>\n",
       "      <th>race</th>\n",
       "      <th>ed</th>\n",
       "      <th>age</th>\n",
       "      <th>race2</th>\n",
       "      <th>race3</th>\n",
       "    </tr>\n",
       "  </thead>\n",
       "  <tbody>\n",
       "    <tr>\n",
       "      <th>1266</th>\n",
       "      <td>12132.502770</td>\n",
       "      <td>65.95</td>\n",
       "      <td>female</td>\n",
       "      <td>white</td>\n",
       "      <td>13</td>\n",
       "      <td>47</td>\n",
       "      <td>w</td>\n",
       "      <td>1</td>\n",
       "    </tr>\n",
       "    <tr>\n",
       "      <th>1290</th>\n",
       "      <td>9521.391852</td>\n",
       "      <td>64.41</td>\n",
       "      <td>male</td>\n",
       "      <td>hispanic</td>\n",
       "      <td>10</td>\n",
       "      <td>40</td>\n",
       "      <td>hispanic</td>\n",
       "      <td>hispanic</td>\n",
       "    </tr>\n",
       "    <tr>\n",
       "      <th>1180</th>\n",
       "      <td>63629.143685</td>\n",
       "      <td>71.62</td>\n",
       "      <td>male</td>\n",
       "      <td>white</td>\n",
       "      <td>16</td>\n",
       "      <td>37</td>\n",
       "      <td>w</td>\n",
       "      <td>1</td>\n",
       "    </tr>\n",
       "    <tr>\n",
       "      <th>529</th>\n",
       "      <td>19100.612680</td>\n",
       "      <td>66.85</td>\n",
       "      <td>male</td>\n",
       "      <td>white</td>\n",
       "      <td>13</td>\n",
       "      <td>71</td>\n",
       "      <td>w</td>\n",
       "      <td>1</td>\n",
       "    </tr>\n",
       "    <tr>\n",
       "      <th>15</th>\n",
       "      <td>992.832346</td>\n",
       "      <td>60.06</td>\n",
       "      <td>female</td>\n",
       "      <td>white</td>\n",
       "      <td>12</td>\n",
       "      <td>31</td>\n",
       "      <td>w</td>\n",
       "      <td>1</td>\n",
       "    </tr>\n",
       "  </tbody>\n",
       "</table>\n",
       "</div>"
      ],
      "text/plain": [
       "              earn  height     sex      race  ed  age     race2     race3\n",
       "1266  12132.502770   65.95  female     white  13   47         w         1\n",
       "1290   9521.391852   64.41    male  hispanic  10   40  hispanic  hispanic\n",
       "1180  63629.143685   71.62    male     white  16   37         w         1\n",
       "529   19100.612680   66.85    male     white  13   71         w         1\n",
       "15      992.832346   60.06  female     white  12   31         w         1"
      ]
     },
     "execution_count": 17,
     "metadata": {},
     "output_type": "execute_result"
    }
   ],
   "source": [
    "df.sample(5)"
   ]
  },
  {
   "cell_type": "code",
   "execution_count": 13,
   "id": "96834e29-6791-4165-b017-acd00a067e0e",
   "metadata": {},
   "outputs": [],
   "source": [
    "# race\n",
    "# ['white', 'other', 'hispanic', 'black']\n",
    "# w, o, h, b\n",
    "# 데이타프레임.컬럼.replace({기존값:새로운값})\n",
    "df['race3'] = df.race.replace({'white':'1', 'other':'2','hisanic':'3','black':'4'})"
   ]
  },
  {
   "cell_type": "code",
   "execution_count": 18,
   "id": "6e593ad4-b46e-4fd2-9bba-3763f6e97509",
   "metadata": {},
   "outputs": [
    {
     "data": {
      "text/html": [
       "<div>\n",
       "<style scoped>\n",
       "    .dataframe tbody tr th:only-of-type {\n",
       "        vertical-align: middle;\n",
       "    }\n",
       "\n",
       "    .dataframe tbody tr th {\n",
       "        vertical-align: top;\n",
       "    }\n",
       "\n",
       "    .dataframe thead th {\n",
       "        text-align: right;\n",
       "    }\n",
       "</style>\n",
       "<table border=\"1\" class=\"dataframe\">\n",
       "  <thead>\n",
       "    <tr style=\"text-align: right;\">\n",
       "      <th></th>\n",
       "      <th>earn</th>\n",
       "      <th>height</th>\n",
       "      <th>sex</th>\n",
       "      <th>race</th>\n",
       "      <th>ed</th>\n",
       "      <th>age</th>\n",
       "      <th>race2</th>\n",
       "      <th>race3</th>\n",
       "    </tr>\n",
       "  </thead>\n",
       "  <tbody>\n",
       "    <tr>\n",
       "      <th>260</th>\n",
       "      <td>13718.454392</td>\n",
       "      <td>64.51</td>\n",
       "      <td>female</td>\n",
       "      <td>other</td>\n",
       "      <td>10</td>\n",
       "      <td>86</td>\n",
       "      <td>o</td>\n",
       "      <td>2</td>\n",
       "    </tr>\n",
       "    <tr>\n",
       "      <th>491</th>\n",
       "      <td>64581.952054</td>\n",
       "      <td>57.94</td>\n",
       "      <td>female</td>\n",
       "      <td>black</td>\n",
       "      <td>12</td>\n",
       "      <td>60</td>\n",
       "      <td>b</td>\n",
       "      <td>4</td>\n",
       "    </tr>\n",
       "    <tr>\n",
       "      <th>1355</th>\n",
       "      <td>20065.082736</td>\n",
       "      <td>62.98</td>\n",
       "      <td>female</td>\n",
       "      <td>white</td>\n",
       "      <td>16</td>\n",
       "      <td>30</td>\n",
       "      <td>w</td>\n",
       "      <td>1</td>\n",
       "    </tr>\n",
       "    <tr>\n",
       "      <th>79</th>\n",
       "      <td>13729.672025</td>\n",
       "      <td>69.96</td>\n",
       "      <td>female</td>\n",
       "      <td>white</td>\n",
       "      <td>13</td>\n",
       "      <td>26</td>\n",
       "      <td>w</td>\n",
       "      <td>1</td>\n",
       "    </tr>\n",
       "    <tr>\n",
       "      <th>303</th>\n",
       "      <td>16889.515855</td>\n",
       "      <td>65.01</td>\n",
       "      <td>female</td>\n",
       "      <td>white</td>\n",
       "      <td>14</td>\n",
       "      <td>71</td>\n",
       "      <td>w</td>\n",
       "      <td>1</td>\n",
       "    </tr>\n",
       "  </tbody>\n",
       "</table>\n",
       "</div>"
      ],
      "text/plain": [
       "              earn  height     sex   race  ed  age race2 race3\n",
       "260   13718.454392   64.51  female  other  10   86     o     2\n",
       "491   64581.952054   57.94  female  black  12   60     b     4\n",
       "1355  20065.082736   62.98  female  white  16   30     w     1\n",
       "79    13729.672025   69.96  female  white  13   26     w     1\n",
       "303   16889.515855   65.01  female  white  14   71     w     1"
      ]
     },
     "execution_count": 18,
     "metadata": {},
     "output_type": "execute_result"
    }
   ],
   "source": [
    "df.sample(5)"
   ]
  },
  {
   "cell_type": "markdown",
   "id": "4932e427-a0fc-4a5b-8b89-f65b957af8c9",
   "metadata": {
    "tags": []
   },
   "source": [
    "### height 컬럼 값 변경 \n",
    "\n",
    "- 인치(in) => 센티미터(cm)\n",
    "- 1 인치는 2.54 cm\n",
    "- 참조 : https://search.naver.com/search.naver?where=nexearch&sm=tab_etc&mra=blM0&qvt=0&query=%EA%B8%B8%EC%9D%B4%EB%B3%80%ED%99%98"
   ]
  },
  {
   "cell_type": "code",
   "execution_count": 30,
   "id": "68745b83-62ea-4b45-b16a-239d37267eb1",
   "metadata": {},
   "outputs": [],
   "source": [
    "# 데이타프레임[컬럼명].map(람다함수|함수)\n",
    "\n",
    "# 함수 정의 (인치 단위 => 센티미터 단위 + (cm))\n",
    "def change(x):\n",
    "    return str(round(x*2.54,2)) + '(cm)'"
   ]
  },
  {
   "cell_type": "code",
   "execution_count": 31,
   "id": "fc6195a5-55d2-4ee8-a82b-6c3b20d47477",
   "metadata": {},
   "outputs": [
    {
     "data": {
      "text/plain": [
       "'155.24(cm)'"
      ]
     },
     "execution_count": 31,
     "metadata": {},
     "output_type": "execute_result"
    }
   ],
   "source": [
    "# 함수 호출\n",
    "change(61.12)"
   ]
  },
  {
   "cell_type": "code",
   "execution_count": 34,
   "id": "aae7978f-d00c-453e-9bd1-020f32726b4c",
   "metadata": {},
   "outputs": [],
   "source": [
    "# map 함수 적용 1\n",
    "df['height2'] = df['height'].map(change)"
   ]
  },
  {
   "cell_type": "code",
   "execution_count": 55,
   "id": "13aebe5d-c3f0-4647-9a38-bba651c414ea",
   "metadata": {},
   "outputs": [
    {
     "data": {
      "text/html": [
       "<div>\n",
       "<style scoped>\n",
       "    .dataframe tbody tr th:only-of-type {\n",
       "        vertical-align: middle;\n",
       "    }\n",
       "\n",
       "    .dataframe tbody tr th {\n",
       "        vertical-align: top;\n",
       "    }\n",
       "\n",
       "    .dataframe thead th {\n",
       "        text-align: right;\n",
       "    }\n",
       "</style>\n",
       "<table border=\"1\" class=\"dataframe\">\n",
       "  <thead>\n",
       "    <tr style=\"text-align: right;\">\n",
       "      <th></th>\n",
       "      <th>earn</th>\n",
       "      <th>height</th>\n",
       "      <th>sex</th>\n",
       "      <th>race</th>\n",
       "      <th>ed</th>\n",
       "      <th>age</th>\n",
       "      <th>race2</th>\n",
       "      <th>race3</th>\n",
       "      <th>height2</th>\n",
       "    </tr>\n",
       "  </thead>\n",
       "  <tbody>\n",
       "    <tr>\n",
       "      <th>45</th>\n",
       "      <td>5782.248948</td>\n",
       "      <td>66.49</td>\n",
       "      <td>female</td>\n",
       "      <td>white</td>\n",
       "      <td>15</td>\n",
       "      <td>69</td>\n",
       "      <td>w</td>\n",
       "      <td>1</td>\n",
       "      <td>168.88(cm)</td>\n",
       "    </tr>\n",
       "    <tr>\n",
       "      <th>193</th>\n",
       "      <td>32804.654550</td>\n",
       "      <td>64.76</td>\n",
       "      <td>female</td>\n",
       "      <td>white</td>\n",
       "      <td>12</td>\n",
       "      <td>46</td>\n",
       "      <td>w</td>\n",
       "      <td>1</td>\n",
       "      <td>164.49(cm)</td>\n",
       "    </tr>\n",
       "    <tr>\n",
       "      <th>720</th>\n",
       "      <td>34400.790169</td>\n",
       "      <td>67.26</td>\n",
       "      <td>female</td>\n",
       "      <td>white</td>\n",
       "      <td>12</td>\n",
       "      <td>49</td>\n",
       "      <td>w</td>\n",
       "      <td>1</td>\n",
       "      <td>170.84(cm)</td>\n",
       "    </tr>\n",
       "  </tbody>\n",
       "</table>\n",
       "</div>"
      ],
      "text/plain": [
       "             earn  height     sex   race  ed  age race2 race3     height2\n",
       "45    5782.248948   66.49  female  white  15   69     w     1  168.88(cm)\n",
       "193  32804.654550   64.76  female  white  12   46     w     1  164.49(cm)\n",
       "720  34400.790169   67.26  female  white  12   49     w     1  170.84(cm)"
      ]
     },
     "execution_count": 55,
     "metadata": {},
     "output_type": "execute_result"
    }
   ],
   "source": [
    "df.sample(3)"
   ]
  },
  {
   "cell_type": "code",
   "execution_count": 58,
   "id": "aa78fb21-2a6d-41fb-af1e-ff463ac38e40",
   "metadata": {},
   "outputs": [
    {
     "data": {
      "text/plain": [
       "'155.24(cm)'"
      ]
     },
     "execution_count": 58,
     "metadata": {},
     "output_type": "execute_result"
    }
   ],
   "source": [
    "# map 함수 적용 2 -람다 함수 적용\n",
    "\n",
    "# 람다함수 테스트\n",
    "(lambda x:str(round(x*2.54,2)) + '(cm)')(61.12)\n",
    "# df['height2'] = df['height'].map(change)"
   ]
  },
  {
   "cell_type": "code",
   "execution_count": 61,
   "id": "1fc49483-c628-43af-969c-6a96351762e9",
   "metadata": {},
   "outputs": [],
   "source": [
    "df['height3'] = df['height'].map(lambda x:str(round(x*2.54,2)) + '(cm)')"
   ]
  },
  {
   "cell_type": "code",
   "execution_count": 62,
   "id": "b14071fe-9990-4cd5-8a9f-ebc1b695cab1",
   "metadata": {},
   "outputs": [
    {
     "data": {
      "text/html": [
       "<div>\n",
       "<style scoped>\n",
       "    .dataframe tbody tr th:only-of-type {\n",
       "        vertical-align: middle;\n",
       "    }\n",
       "\n",
       "    .dataframe tbody tr th {\n",
       "        vertical-align: top;\n",
       "    }\n",
       "\n",
       "    .dataframe thead th {\n",
       "        text-align: right;\n",
       "    }\n",
       "</style>\n",
       "<table border=\"1\" class=\"dataframe\">\n",
       "  <thead>\n",
       "    <tr style=\"text-align: right;\">\n",
       "      <th></th>\n",
       "      <th>earn</th>\n",
       "      <th>height</th>\n",
       "      <th>sex</th>\n",
       "      <th>race</th>\n",
       "      <th>ed</th>\n",
       "      <th>age</th>\n",
       "      <th>race2</th>\n",
       "      <th>race3</th>\n",
       "      <th>height2</th>\n",
       "      <th>height3</th>\n",
       "    </tr>\n",
       "  </thead>\n",
       "  <tbody>\n",
       "    <tr>\n",
       "      <th>0</th>\n",
       "      <td>79571.299011</td>\n",
       "      <td>73.89</td>\n",
       "      <td>male</td>\n",
       "      <td>white</td>\n",
       "      <td>16</td>\n",
       "      <td>49</td>\n",
       "      <td>w</td>\n",
       "      <td>1</td>\n",
       "      <td>187.68(cm)</td>\n",
       "      <td>187.68(cm)</td>\n",
       "    </tr>\n",
       "    <tr>\n",
       "      <th>1</th>\n",
       "      <td>96396.988643</td>\n",
       "      <td>66.23</td>\n",
       "      <td>female</td>\n",
       "      <td>white</td>\n",
       "      <td>16</td>\n",
       "      <td>62</td>\n",
       "      <td>w</td>\n",
       "      <td>1</td>\n",
       "      <td>168.22(cm)</td>\n",
       "      <td>168.22(cm)</td>\n",
       "    </tr>\n",
       "    <tr>\n",
       "      <th>2</th>\n",
       "      <td>48710.666947</td>\n",
       "      <td>63.77</td>\n",
       "      <td>female</td>\n",
       "      <td>white</td>\n",
       "      <td>16</td>\n",
       "      <td>33</td>\n",
       "      <td>w</td>\n",
       "      <td>1</td>\n",
       "      <td>161.98(cm)</td>\n",
       "      <td>161.98(cm)</td>\n",
       "    </tr>\n",
       "    <tr>\n",
       "      <th>3</th>\n",
       "      <td>80478.096153</td>\n",
       "      <td>63.22</td>\n",
       "      <td>female</td>\n",
       "      <td>other</td>\n",
       "      <td>16</td>\n",
       "      <td>95</td>\n",
       "      <td>o</td>\n",
       "      <td>2</td>\n",
       "      <td>160.58(cm)</td>\n",
       "      <td>160.58(cm)</td>\n",
       "    </tr>\n",
       "    <tr>\n",
       "      <th>4</th>\n",
       "      <td>82089.345498</td>\n",
       "      <td>63.08</td>\n",
       "      <td>female</td>\n",
       "      <td>white</td>\n",
       "      <td>17</td>\n",
       "      <td>43</td>\n",
       "      <td>w</td>\n",
       "      <td>1</td>\n",
       "      <td>160.22(cm)</td>\n",
       "      <td>160.22(cm)</td>\n",
       "    </tr>\n",
       "    <tr>\n",
       "      <th>...</th>\n",
       "      <td>...</td>\n",
       "      <td>...</td>\n",
       "      <td>...</td>\n",
       "      <td>...</td>\n",
       "      <td>...</td>\n",
       "      <td>...</td>\n",
       "      <td>...</td>\n",
       "      <td>...</td>\n",
       "      <td>...</td>\n",
       "      <td>...</td>\n",
       "    </tr>\n",
       "    <tr>\n",
       "      <th>1374</th>\n",
       "      <td>30173.380363</td>\n",
       "      <td>71.68</td>\n",
       "      <td>male</td>\n",
       "      <td>white</td>\n",
       "      <td>12</td>\n",
       "      <td>33</td>\n",
       "      <td>w</td>\n",
       "      <td>1</td>\n",
       "      <td>182.07(cm)</td>\n",
       "      <td>182.07(cm)</td>\n",
       "    </tr>\n",
       "    <tr>\n",
       "      <th>1375</th>\n",
       "      <td>24853.519514</td>\n",
       "      <td>61.31</td>\n",
       "      <td>female</td>\n",
       "      <td>white</td>\n",
       "      <td>18</td>\n",
       "      <td>86</td>\n",
       "      <td>w</td>\n",
       "      <td>1</td>\n",
       "      <td>155.73(cm)</td>\n",
       "      <td>155.73(cm)</td>\n",
       "    </tr>\n",
       "    <tr>\n",
       "      <th>1376</th>\n",
       "      <td>13710.671312</td>\n",
       "      <td>63.64</td>\n",
       "      <td>female</td>\n",
       "      <td>white</td>\n",
       "      <td>12</td>\n",
       "      <td>37</td>\n",
       "      <td>w</td>\n",
       "      <td>1</td>\n",
       "      <td>161.65(cm)</td>\n",
       "      <td>161.65(cm)</td>\n",
       "    </tr>\n",
       "    <tr>\n",
       "      <th>1377</th>\n",
       "      <td>95426.014410</td>\n",
       "      <td>71.65</td>\n",
       "      <td>male</td>\n",
       "      <td>white</td>\n",
       "      <td>12</td>\n",
       "      <td>54</td>\n",
       "      <td>w</td>\n",
       "      <td>1</td>\n",
       "      <td>181.99(cm)</td>\n",
       "      <td>181.99(cm)</td>\n",
       "    </tr>\n",
       "    <tr>\n",
       "      <th>1378</th>\n",
       "      <td>9575.461857</td>\n",
       "      <td>68.22</td>\n",
       "      <td>male</td>\n",
       "      <td>white</td>\n",
       "      <td>12</td>\n",
       "      <td>31</td>\n",
       "      <td>w</td>\n",
       "      <td>1</td>\n",
       "      <td>173.28(cm)</td>\n",
       "      <td>173.28(cm)</td>\n",
       "    </tr>\n",
       "  </tbody>\n",
       "</table>\n",
       "<p>1379 rows × 10 columns</p>\n",
       "</div>"
      ],
      "text/plain": [
       "              earn  height     sex   race  ed  age race2 race3     height2  \\\n",
       "0     79571.299011   73.89    male  white  16   49     w     1  187.68(cm)   \n",
       "1     96396.988643   66.23  female  white  16   62     w     1  168.22(cm)   \n",
       "2     48710.666947   63.77  female  white  16   33     w     1  161.98(cm)   \n",
       "3     80478.096153   63.22  female  other  16   95     o     2  160.58(cm)   \n",
       "4     82089.345498   63.08  female  white  17   43     w     1  160.22(cm)   \n",
       "...            ...     ...     ...    ...  ..  ...   ...   ...         ...   \n",
       "1374  30173.380363   71.68    male  white  12   33     w     1  182.07(cm)   \n",
       "1375  24853.519514   61.31  female  white  18   86     w     1  155.73(cm)   \n",
       "1376  13710.671312   63.64  female  white  12   37     w     1  161.65(cm)   \n",
       "1377  95426.014410   71.65    male  white  12   54     w     1  181.99(cm)   \n",
       "1378   9575.461857   68.22    male  white  12   31     w     1  173.28(cm)   \n",
       "\n",
       "         height3  \n",
       "0     187.68(cm)  \n",
       "1     168.22(cm)  \n",
       "2     161.98(cm)  \n",
       "3     160.58(cm)  \n",
       "4     160.22(cm)  \n",
       "...          ...  \n",
       "1374  182.07(cm)  \n",
       "1375  155.73(cm)  \n",
       "1376  161.65(cm)  \n",
       "1377  181.99(cm)  \n",
       "1378  173.28(cm)  \n",
       "\n",
       "[1379 rows x 10 columns]"
      ]
     },
     "execution_count": 62,
     "metadata": {},
     "output_type": "execute_result"
    }
   ],
   "source": [
    "df"
   ]
  },
  {
   "cell_type": "code",
   "execution_count": 65,
   "id": "ee3f8600-bc90-407b-8237-08bc7fa12ada",
   "metadata": {},
   "outputs": [],
   "source": [
    "# apply() 함수 적용 + 람다 \n",
    "df['height4'] = df['height'].apply(lambda x:str(round(x*2.54 , 2)) + '(cm)')"
   ]
  },
  {
   "cell_type": "code",
   "execution_count": 66,
   "id": "654ddda6-8b62-4a7e-8f7a-748416070e59",
   "metadata": {},
   "outputs": [
    {
     "data": {
      "text/html": [
       "<div>\n",
       "<style scoped>\n",
       "    .dataframe tbody tr th:only-of-type {\n",
       "        vertical-align: middle;\n",
       "    }\n",
       "\n",
       "    .dataframe tbody tr th {\n",
       "        vertical-align: top;\n",
       "    }\n",
       "\n",
       "    .dataframe thead th {\n",
       "        text-align: right;\n",
       "    }\n",
       "</style>\n",
       "<table border=\"1\" class=\"dataframe\">\n",
       "  <thead>\n",
       "    <tr style=\"text-align: right;\">\n",
       "      <th></th>\n",
       "      <th>earn</th>\n",
       "      <th>height</th>\n",
       "      <th>sex</th>\n",
       "      <th>race</th>\n",
       "      <th>ed</th>\n",
       "      <th>age</th>\n",
       "      <th>race2</th>\n",
       "      <th>race3</th>\n",
       "      <th>height2</th>\n",
       "      <th>height3</th>\n",
       "      <th>height4</th>\n",
       "    </tr>\n",
       "  </thead>\n",
       "  <tbody>\n",
       "    <tr>\n",
       "      <th>1340</th>\n",
       "      <td>79603.456464</td>\n",
       "      <td>71.36</td>\n",
       "      <td>male</td>\n",
       "      <td>white</td>\n",
       "      <td>12</td>\n",
       "      <td>54</td>\n",
       "      <td>w</td>\n",
       "      <td>1</td>\n",
       "      <td>181.25(cm)</td>\n",
       "      <td>181.25(cm)</td>\n",
       "      <td>181.25(cm)</td>\n",
       "    </tr>\n",
       "    <tr>\n",
       "      <th>234</th>\n",
       "      <td>55728.589916</td>\n",
       "      <td>66.90</td>\n",
       "      <td>male</td>\n",
       "      <td>white</td>\n",
       "      <td>16</td>\n",
       "      <td>37</td>\n",
       "      <td>w</td>\n",
       "      <td>1</td>\n",
       "      <td>169.93(cm)</td>\n",
       "      <td>169.93(cm)</td>\n",
       "      <td>169.93(cm)</td>\n",
       "    </tr>\n",
       "    <tr>\n",
       "      <th>154</th>\n",
       "      <td>995.465757</td>\n",
       "      <td>66.19</td>\n",
       "      <td>female</td>\n",
       "      <td>black</td>\n",
       "      <td>5</td>\n",
       "      <td>55</td>\n",
       "      <td>b</td>\n",
       "      <td>4</td>\n",
       "      <td>168.12(cm)</td>\n",
       "      <td>168.12(cm)</td>\n",
       "      <td>168.12(cm)</td>\n",
       "    </tr>\n",
       "  </tbody>\n",
       "</table>\n",
       "</div>"
      ],
      "text/plain": [
       "              earn  height     sex   race  ed  age race2 race3     height2  \\\n",
       "1340  79603.456464   71.36    male  white  12   54     w     1  181.25(cm)   \n",
       "234   55728.589916   66.90    male  white  16   37     w     1  169.93(cm)   \n",
       "154     995.465757   66.19  female  black   5   55     b     4  168.12(cm)   \n",
       "\n",
       "         height3     height4  \n",
       "1340  181.25(cm)  181.25(cm)  \n",
       "234   169.93(cm)  169.93(cm)  \n",
       "154   168.12(cm)  168.12(cm)  "
      ]
     },
     "execution_count": 66,
     "metadata": {},
     "output_type": "execute_result"
    }
   ],
   "source": [
    "df.sample(3)"
   ]
  },
  {
   "cell_type": "markdown",
   "id": "bec57834-928d-4707-9d84-a51d674c999a",
   "metadata": {},
   "source": [
    "### 모든 데이타프레임의 컬럼에 동이한 함수 적용\n",
    "- 데이타프레임.applymap(함수명|람다)\n"
   ]
  },
  {
   "cell_type": "code",
   "execution_count": 67,
   "id": "77987f70-e875-406e-ba73-8f19207ffcd6",
   "metadata": {},
   "outputs": [
    {
     "data": {
      "text/html": [
       "<div>\n",
       "<style scoped>\n",
       "    .dataframe tbody tr th:only-of-type {\n",
       "        vertical-align: middle;\n",
       "    }\n",
       "\n",
       "    .dataframe tbody tr th {\n",
       "        vertical-align: top;\n",
       "    }\n",
       "\n",
       "    .dataframe thead th {\n",
       "        text-align: right;\n",
       "    }\n",
       "</style>\n",
       "<table border=\"1\" class=\"dataframe\">\n",
       "  <thead>\n",
       "    <tr style=\"text-align: right;\">\n",
       "      <th></th>\n",
       "      <th>earn</th>\n",
       "      <th>height</th>\n",
       "      <th>ed</th>\n",
       "      <th>age</th>\n",
       "    </tr>\n",
       "  </thead>\n",
       "  <tbody>\n",
       "    <tr>\n",
       "      <th>0</th>\n",
       "      <td>79571.299011</td>\n",
       "      <td>73.89</td>\n",
       "      <td>16</td>\n",
       "      <td>49</td>\n",
       "    </tr>\n",
       "    <tr>\n",
       "      <th>1</th>\n",
       "      <td>96396.988643</td>\n",
       "      <td>66.23</td>\n",
       "      <td>16</td>\n",
       "      <td>62</td>\n",
       "    </tr>\n",
       "    <tr>\n",
       "      <th>2</th>\n",
       "      <td>48710.666947</td>\n",
       "      <td>63.77</td>\n",
       "      <td>16</td>\n",
       "      <td>33</td>\n",
       "    </tr>\n",
       "    <tr>\n",
       "      <th>3</th>\n",
       "      <td>80478.096153</td>\n",
       "      <td>63.22</td>\n",
       "      <td>16</td>\n",
       "      <td>95</td>\n",
       "    </tr>\n",
       "    <tr>\n",
       "      <th>4</th>\n",
       "      <td>82089.345498</td>\n",
       "      <td>63.08</td>\n",
       "      <td>17</td>\n",
       "      <td>43</td>\n",
       "    </tr>\n",
       "    <tr>\n",
       "      <th>...</th>\n",
       "      <td>...</td>\n",
       "      <td>...</td>\n",
       "      <td>...</td>\n",
       "      <td>...</td>\n",
       "    </tr>\n",
       "    <tr>\n",
       "      <th>1374</th>\n",
       "      <td>30173.380363</td>\n",
       "      <td>71.68</td>\n",
       "      <td>12</td>\n",
       "      <td>33</td>\n",
       "    </tr>\n",
       "    <tr>\n",
       "      <th>1375</th>\n",
       "      <td>24853.519514</td>\n",
       "      <td>61.31</td>\n",
       "      <td>18</td>\n",
       "      <td>86</td>\n",
       "    </tr>\n",
       "    <tr>\n",
       "      <th>1376</th>\n",
       "      <td>13710.671312</td>\n",
       "      <td>63.64</td>\n",
       "      <td>12</td>\n",
       "      <td>37</td>\n",
       "    </tr>\n",
       "    <tr>\n",
       "      <th>1377</th>\n",
       "      <td>95426.014410</td>\n",
       "      <td>71.65</td>\n",
       "      <td>12</td>\n",
       "      <td>54</td>\n",
       "    </tr>\n",
       "    <tr>\n",
       "      <th>1378</th>\n",
       "      <td>9575.461857</td>\n",
       "      <td>68.22</td>\n",
       "      <td>12</td>\n",
       "      <td>31</td>\n",
       "    </tr>\n",
       "  </tbody>\n",
       "</table>\n",
       "<p>1379 rows × 4 columns</p>\n",
       "</div>"
      ],
      "text/plain": [
       "              earn  height  ed  age\n",
       "0     79571.299011   73.89  16   49\n",
       "1     96396.988643   66.23  16   62\n",
       "2     48710.666947   63.77  16   33\n",
       "3     80478.096153   63.22  16   95\n",
       "4     82089.345498   63.08  17   43\n",
       "...            ...     ...  ..  ...\n",
       "1374  30173.380363   71.68  12   33\n",
       "1375  24853.519514   61.31  18   86\n",
       "1376  13710.671312   63.64  12   37\n",
       "1377  95426.014410   71.65  12   54\n",
       "1378   9575.461857   68.22  12   31\n",
       "\n",
       "[1379 rows x 4 columns]"
      ]
     },
     "execution_count": 67,
     "metadata": {},
     "output_type": "execute_result"
    }
   ],
   "source": [
    "# 수치형 컬럼만 데이타프레임으로 재구성\n",
    "df2 = df[['earn', 'height','ed', 'age']].copy()\n",
    "df2"
   ]
  },
  {
   "cell_type": "code",
   "execution_count": 69,
   "id": "8ae71a3b-8b24-4e6d-9260-fb9f5e1d3e93",
   "metadata": {},
   "outputs": [
    {
     "name": "stdout",
     "output_type": "stream",
     "text": [
      "9575.5\n"
     ]
    },
    {
     "data": {
      "text/plain": [
       "9575.5"
      ]
     },
     "execution_count": 69,
     "metadata": {},
     "output_type": "execute_result"
    }
   ],
   "source": [
    "# 모든 컬럼값을 소숫점 1 자리로 변경 \n",
    "\n",
    "# 람다 구현 \n",
    "print((lambda x:round(x,1))(9575.461857))\n",
    "\n",
    "# 함수 구현\n",
    "def f(x):\n",
    "    return round(x,1)\n",
    "\n",
    "f(9575.461857)"
   ]
  },
  {
   "cell_type": "code",
   "execution_count": 71,
   "id": "65cfc692-7593-4f3b-acdc-4287519291f9",
   "metadata": {},
   "outputs": [
    {
     "data": {
      "text/plain": [
       "0       79571.3\n",
       "1       96397.0\n",
       "2       48710.7\n",
       "3       80478.1\n",
       "4       82089.3\n",
       "         ...   \n",
       "1374    30173.4\n",
       "1375    24853.5\n",
       "1376    13710.7\n",
       "1377    95426.0\n",
       "1378     9575.5\n",
       "Name: earn, Length: 1379, dtype: float64"
      ]
     },
     "execution_count": 71,
     "metadata": {},
     "output_type": "execute_result"
    }
   ],
   "source": [
    "# map 적용\n",
    "df['earn'].map(lambda x:round(x,1))"
   ]
  },
  {
   "cell_type": "code",
   "execution_count": 72,
   "id": "c16a43c0-1395-4f42-a66d-a8d10f5c73a1",
   "metadata": {},
   "outputs": [
    {
     "data": {
      "text/plain": [
       "0       79571.3\n",
       "1       96397.0\n",
       "2       48710.7\n",
       "3       80478.1\n",
       "4       82089.3\n",
       "         ...   \n",
       "1374    30173.4\n",
       "1375    24853.5\n",
       "1376    13710.7\n",
       "1377    95426.0\n",
       "1378     9575.5\n",
       "Name: earn, Length: 1379, dtype: float64"
      ]
     },
     "execution_count": 72,
     "metadata": {},
     "output_type": "execute_result"
    }
   ],
   "source": [
    "# apply 적용\n",
    "df['earn'].apply(lambda x:round(x,1))"
   ]
  },
  {
   "cell_type": "code",
   "execution_count": 84,
   "id": "1c72e04f-cad8-474a-bccd-57fae8aca456",
   "metadata": {
    "jp-MarkdownHeadingCollapsed": true,
    "tags": []
   },
   "outputs": [
    {
     "data": {
      "text/html": [
       "<div>\n",
       "<style scoped>\n",
       "    .dataframe tbody tr th:only-of-type {\n",
       "        vertical-align: middle;\n",
       "    }\n",
       "\n",
       "    .dataframe tbody tr th {\n",
       "        vertical-align: top;\n",
       "    }\n",
       "\n",
       "    .dataframe thead th {\n",
       "        text-align: right;\n",
       "    }\n",
       "</style>\n",
       "<table border=\"1\" class=\"dataframe\">\n",
       "  <thead>\n",
       "    <tr style=\"text-align: right;\">\n",
       "      <th></th>\n",
       "      <th>earn</th>\n",
       "      <th>height</th>\n",
       "      <th>ed</th>\n",
       "      <th>age</th>\n",
       "    </tr>\n",
       "  </thead>\n",
       "  <tbody>\n",
       "    <tr>\n",
       "      <th>0</th>\n",
       "      <td>79571.3</td>\n",
       "      <td>73.9</td>\n",
       "      <td>16</td>\n",
       "      <td>49</td>\n",
       "    </tr>\n",
       "    <tr>\n",
       "      <th>1</th>\n",
       "      <td>96397.0</td>\n",
       "      <td>66.2</td>\n",
       "      <td>16</td>\n",
       "      <td>62</td>\n",
       "    </tr>\n",
       "    <tr>\n",
       "      <th>2</th>\n",
       "      <td>48710.7</td>\n",
       "      <td>63.8</td>\n",
       "      <td>16</td>\n",
       "      <td>33</td>\n",
       "    </tr>\n",
       "    <tr>\n",
       "      <th>3</th>\n",
       "      <td>80478.1</td>\n",
       "      <td>63.2</td>\n",
       "      <td>16</td>\n",
       "      <td>95</td>\n",
       "    </tr>\n",
       "    <tr>\n",
       "      <th>4</th>\n",
       "      <td>82089.3</td>\n",
       "      <td>63.1</td>\n",
       "      <td>17</td>\n",
       "      <td>43</td>\n",
       "    </tr>\n",
       "    <tr>\n",
       "      <th>...</th>\n",
       "      <td>...</td>\n",
       "      <td>...</td>\n",
       "      <td>...</td>\n",
       "      <td>...</td>\n",
       "    </tr>\n",
       "    <tr>\n",
       "      <th>1374</th>\n",
       "      <td>30173.4</td>\n",
       "      <td>71.7</td>\n",
       "      <td>12</td>\n",
       "      <td>33</td>\n",
       "    </tr>\n",
       "    <tr>\n",
       "      <th>1375</th>\n",
       "      <td>24853.5</td>\n",
       "      <td>61.3</td>\n",
       "      <td>18</td>\n",
       "      <td>86</td>\n",
       "    </tr>\n",
       "    <tr>\n",
       "      <th>1376</th>\n",
       "      <td>13710.7</td>\n",
       "      <td>63.6</td>\n",
       "      <td>12</td>\n",
       "      <td>37</td>\n",
       "    </tr>\n",
       "    <tr>\n",
       "      <th>1377</th>\n",
       "      <td>95426.0</td>\n",
       "      <td>71.7</td>\n",
       "      <td>12</td>\n",
       "      <td>54</td>\n",
       "    </tr>\n",
       "    <tr>\n",
       "      <th>1378</th>\n",
       "      <td>9575.5</td>\n",
       "      <td>68.2</td>\n",
       "      <td>12</td>\n",
       "      <td>31</td>\n",
       "    </tr>\n",
       "  </tbody>\n",
       "</table>\n",
       "<p>1379 rows × 4 columns</p>\n",
       "</div>"
      ],
      "text/plain": [
       "         earn  height  ed  age\n",
       "0     79571.3    73.9  16   49\n",
       "1     96397.0    66.2  16   62\n",
       "2     48710.7    63.8  16   33\n",
       "3     80478.1    63.2  16   95\n",
       "4     82089.3    63.1  17   43\n",
       "...       ...     ...  ..  ...\n",
       "1374  30173.4    71.7  12   33\n",
       "1375  24853.5    61.3  18   86\n",
       "1376  13710.7    63.6  12   37\n",
       "1377  95426.0    71.7  12   54\n",
       "1378   9575.5    68.2  12   31\n",
       "\n",
       "[1379 rows x 4 columns]"
      ]
     },
     "execution_count": 84,
     "metadata": {},
     "output_type": "execute_result"
    }
   ],
   "source": [
    "# 모든 컬럼값에 함수 적용\n",
    "# 데이타프레임.apply(lambda)\n",
    "df2.applymap(f)"
   ]
  },
  {
   "cell_type": "code",
   "execution_count": 85,
   "id": "2ee2eb70-2ce8-4fbb-9b20-0391863bbd88",
   "metadata": {},
   "outputs": [
    {
     "data": {
      "text/html": [
       "<div>\n",
       "<style scoped>\n",
       "    .dataframe tbody tr th:only-of-type {\n",
       "        vertical-align: middle;\n",
       "    }\n",
       "\n",
       "    .dataframe tbody tr th {\n",
       "        vertical-align: top;\n",
       "    }\n",
       "\n",
       "    .dataframe thead th {\n",
       "        text-align: right;\n",
       "    }\n",
       "</style>\n",
       "<table border=\"1\" class=\"dataframe\">\n",
       "  <thead>\n",
       "    <tr style=\"text-align: right;\">\n",
       "      <th></th>\n",
       "      <th>earn</th>\n",
       "      <th>height</th>\n",
       "      <th>ed</th>\n",
       "      <th>age</th>\n",
       "    </tr>\n",
       "  </thead>\n",
       "  <tbody>\n",
       "    <tr>\n",
       "      <th>0</th>\n",
       "      <td>79571.3</td>\n",
       "      <td>73.9</td>\n",
       "      <td>16</td>\n",
       "      <td>49</td>\n",
       "    </tr>\n",
       "    <tr>\n",
       "      <th>1</th>\n",
       "      <td>96397.0</td>\n",
       "      <td>66.2</td>\n",
       "      <td>16</td>\n",
       "      <td>62</td>\n",
       "    </tr>\n",
       "    <tr>\n",
       "      <th>2</th>\n",
       "      <td>48710.7</td>\n",
       "      <td>63.8</td>\n",
       "      <td>16</td>\n",
       "      <td>33</td>\n",
       "    </tr>\n",
       "    <tr>\n",
       "      <th>3</th>\n",
       "      <td>80478.1</td>\n",
       "      <td>63.2</td>\n",
       "      <td>16</td>\n",
       "      <td>95</td>\n",
       "    </tr>\n",
       "    <tr>\n",
       "      <th>4</th>\n",
       "      <td>82089.3</td>\n",
       "      <td>63.1</td>\n",
       "      <td>17</td>\n",
       "      <td>43</td>\n",
       "    </tr>\n",
       "    <tr>\n",
       "      <th>...</th>\n",
       "      <td>...</td>\n",
       "      <td>...</td>\n",
       "      <td>...</td>\n",
       "      <td>...</td>\n",
       "    </tr>\n",
       "    <tr>\n",
       "      <th>1374</th>\n",
       "      <td>30173.4</td>\n",
       "      <td>71.7</td>\n",
       "      <td>12</td>\n",
       "      <td>33</td>\n",
       "    </tr>\n",
       "    <tr>\n",
       "      <th>1375</th>\n",
       "      <td>24853.5</td>\n",
       "      <td>61.3</td>\n",
       "      <td>18</td>\n",
       "      <td>86</td>\n",
       "    </tr>\n",
       "    <tr>\n",
       "      <th>1376</th>\n",
       "      <td>13710.7</td>\n",
       "      <td>63.6</td>\n",
       "      <td>12</td>\n",
       "      <td>37</td>\n",
       "    </tr>\n",
       "    <tr>\n",
       "      <th>1377</th>\n",
       "      <td>95426.0</td>\n",
       "      <td>71.7</td>\n",
       "      <td>12</td>\n",
       "      <td>54</td>\n",
       "    </tr>\n",
       "    <tr>\n",
       "      <th>1378</th>\n",
       "      <td>9575.5</td>\n",
       "      <td>68.2</td>\n",
       "      <td>12</td>\n",
       "      <td>31</td>\n",
       "    </tr>\n",
       "  </tbody>\n",
       "</table>\n",
       "<p>1379 rows × 4 columns</p>\n",
       "</div>"
      ],
      "text/plain": [
       "         earn  height  ed  age\n",
       "0     79571.3    73.9  16   49\n",
       "1     96397.0    66.2  16   62\n",
       "2     48710.7    63.8  16   33\n",
       "3     80478.1    63.2  16   95\n",
       "4     82089.3    63.1  17   43\n",
       "...       ...     ...  ..  ...\n",
       "1374  30173.4    71.7  12   33\n",
       "1375  24853.5    61.3  18   86\n",
       "1376  13710.7    63.6  12   37\n",
       "1377  95426.0    71.7  12   54\n",
       "1378   9575.5    68.2  12   31\n",
       "\n",
       "[1379 rows x 4 columns]"
      ]
     },
     "execution_count": 85,
     "metadata": {},
     "output_type": "execute_result"
    }
   ],
   "source": [
    "df2.applymap(lambda x:round(x,1))"
   ]
  },
  {
   "cell_type": "code",
   "execution_count": 87,
   "id": "c5e32a79-1313-4c40-bd98-d8cfb57737b4",
   "metadata": {},
   "outputs": [
    {
     "data": {
      "text/html": [
       "<div>\n",
       "<style scoped>\n",
       "    .dataframe tbody tr th:only-of-type {\n",
       "        vertical-align: middle;\n",
       "    }\n",
       "\n",
       "    .dataframe tbody tr th {\n",
       "        vertical-align: top;\n",
       "    }\n",
       "\n",
       "    .dataframe thead th {\n",
       "        text-align: right;\n",
       "    }\n",
       "</style>\n",
       "<table border=\"1\" class=\"dataframe\">\n",
       "  <thead>\n",
       "    <tr style=\"text-align: right;\">\n",
       "      <th></th>\n",
       "      <th>earn</th>\n",
       "      <th>height</th>\n",
       "      <th>ed</th>\n",
       "      <th>age</th>\n",
       "    </tr>\n",
       "  </thead>\n",
       "  <tbody>\n",
       "    <tr>\n",
       "      <th>0</th>\n",
       "      <td>79571.3</td>\n",
       "      <td>73.9</td>\n",
       "      <td>16</td>\n",
       "      <td>49</td>\n",
       "    </tr>\n",
       "    <tr>\n",
       "      <th>1</th>\n",
       "      <td>96397.0</td>\n",
       "      <td>66.2</td>\n",
       "      <td>16</td>\n",
       "      <td>62</td>\n",
       "    </tr>\n",
       "    <tr>\n",
       "      <th>2</th>\n",
       "      <td>48710.7</td>\n",
       "      <td>63.8</td>\n",
       "      <td>16</td>\n",
       "      <td>33</td>\n",
       "    </tr>\n",
       "    <tr>\n",
       "      <th>3</th>\n",
       "      <td>80478.1</td>\n",
       "      <td>63.2</td>\n",
       "      <td>16</td>\n",
       "      <td>95</td>\n",
       "    </tr>\n",
       "    <tr>\n",
       "      <th>4</th>\n",
       "      <td>82089.3</td>\n",
       "      <td>63.1</td>\n",
       "      <td>17</td>\n",
       "      <td>43</td>\n",
       "    </tr>\n",
       "    <tr>\n",
       "      <th>...</th>\n",
       "      <td>...</td>\n",
       "      <td>...</td>\n",
       "      <td>...</td>\n",
       "      <td>...</td>\n",
       "    </tr>\n",
       "    <tr>\n",
       "      <th>1374</th>\n",
       "      <td>30173.4</td>\n",
       "      <td>71.7</td>\n",
       "      <td>12</td>\n",
       "      <td>33</td>\n",
       "    </tr>\n",
       "    <tr>\n",
       "      <th>1375</th>\n",
       "      <td>24853.5</td>\n",
       "      <td>61.3</td>\n",
       "      <td>18</td>\n",
       "      <td>86</td>\n",
       "    </tr>\n",
       "    <tr>\n",
       "      <th>1376</th>\n",
       "      <td>13710.7</td>\n",
       "      <td>63.6</td>\n",
       "      <td>12</td>\n",
       "      <td>37</td>\n",
       "    </tr>\n",
       "    <tr>\n",
       "      <th>1377</th>\n",
       "      <td>95426.0</td>\n",
       "      <td>71.7</td>\n",
       "      <td>12</td>\n",
       "      <td>54</td>\n",
       "    </tr>\n",
       "    <tr>\n",
       "      <th>1378</th>\n",
       "      <td>9575.5</td>\n",
       "      <td>68.2</td>\n",
       "      <td>12</td>\n",
       "      <td>31</td>\n",
       "    </tr>\n",
       "  </tbody>\n",
       "</table>\n",
       "<p>1379 rows × 4 columns</p>\n",
       "</div>"
      ],
      "text/plain": [
       "         earn  height  ed  age\n",
       "0     79571.3    73.9  16   49\n",
       "1     96397.0    66.2  16   62\n",
       "2     48710.7    63.8  16   33\n",
       "3     80478.1    63.2  16   95\n",
       "4     82089.3    63.1  17   43\n",
       "...       ...     ...  ..  ...\n",
       "1374  30173.4    71.7  12   33\n",
       "1375  24853.5    61.3  18   86\n",
       "1376  13710.7    63.6  12   37\n",
       "1377  95426.0    71.7  12   54\n",
       "1378   9575.5    68.2  12   31\n",
       "\n",
       "[1379 rows x 4 columns]"
      ]
     },
     "execution_count": 87,
     "metadata": {},
     "output_type": "execute_result"
    }
   ],
   "source": [
    "# applymap() 적용후 복사본 생성\n",
    "df3 = df2.applymap(lambda x:round(x,1)).copy()\n",
    "df3"
   ]
  },
  {
   "cell_type": "code",
   "execution_count": 93,
   "id": "d4c3e4ac-41be-4297-822a-611086032e38",
   "metadata": {},
   "outputs": [
    {
     "data": {
      "text/html": [
       "<div>\n",
       "<style scoped>\n",
       "    .dataframe tbody tr th:only-of-type {\n",
       "        vertical-align: middle;\n",
       "    }\n",
       "\n",
       "    .dataframe tbody tr th {\n",
       "        vertical-align: top;\n",
       "    }\n",
       "\n",
       "    .dataframe thead th {\n",
       "        text-align: right;\n",
       "    }\n",
       "</style>\n",
       "<table border=\"1\" class=\"dataframe\">\n",
       "  <thead>\n",
       "    <tr style=\"text-align: right;\">\n",
       "      <th></th>\n",
       "      <th>earn</th>\n",
       "      <th>height</th>\n",
       "    </tr>\n",
       "  </thead>\n",
       "  <tbody>\n",
       "    <tr>\n",
       "      <th>0</th>\n",
       "      <td>79571.3</td>\n",
       "      <td>73.9</td>\n",
       "    </tr>\n",
       "    <tr>\n",
       "      <th>1</th>\n",
       "      <td>96397.0</td>\n",
       "      <td>66.2</td>\n",
       "    </tr>\n",
       "    <tr>\n",
       "      <th>2</th>\n",
       "      <td>48710.7</td>\n",
       "      <td>63.8</td>\n",
       "    </tr>\n",
       "    <tr>\n",
       "      <th>3</th>\n",
       "      <td>80478.1</td>\n",
       "      <td>63.2</td>\n",
       "    </tr>\n",
       "    <tr>\n",
       "      <th>4</th>\n",
       "      <td>82089.3</td>\n",
       "      <td>63.1</td>\n",
       "    </tr>\n",
       "    <tr>\n",
       "      <th>...</th>\n",
       "      <td>...</td>\n",
       "      <td>...</td>\n",
       "    </tr>\n",
       "    <tr>\n",
       "      <th>1374</th>\n",
       "      <td>30173.4</td>\n",
       "      <td>71.7</td>\n",
       "    </tr>\n",
       "    <tr>\n",
       "      <th>1375</th>\n",
       "      <td>24853.5</td>\n",
       "      <td>61.3</td>\n",
       "    </tr>\n",
       "    <tr>\n",
       "      <th>1376</th>\n",
       "      <td>13710.7</td>\n",
       "      <td>63.6</td>\n",
       "    </tr>\n",
       "    <tr>\n",
       "      <th>1377</th>\n",
       "      <td>95426.0</td>\n",
       "      <td>71.7</td>\n",
       "    </tr>\n",
       "    <tr>\n",
       "      <th>1378</th>\n",
       "      <td>9575.5</td>\n",
       "      <td>68.2</td>\n",
       "    </tr>\n",
       "  </tbody>\n",
       "</table>\n",
       "<p>1379 rows × 2 columns</p>\n",
       "</div>"
      ],
      "text/plain": [
       "         earn  height\n",
       "0     79571.3    73.9\n",
       "1     96397.0    66.2\n",
       "2     48710.7    63.8\n",
       "3     80478.1    63.2\n",
       "4     82089.3    63.1\n",
       "...       ...     ...\n",
       "1374  30173.4    71.7\n",
       "1375  24853.5    61.3\n",
       "1376  13710.7    63.6\n",
       "1377  95426.0    71.7\n",
       "1378   9575.5    68.2\n",
       "\n",
       "[1379 rows x 2 columns]"
      ]
     },
     "execution_count": 93,
     "metadata": {},
     "output_type": "execute_result"
    }
   ],
   "source": [
    "# 데이타프레임 슬라이싱 + applymap() 적용은?\n",
    "df4 = df[['earn', 'height']].applymap(lambda x:round(x,1)).copy()\n",
    "df4"
   ]
  },
  {
   "cell_type": "markdown",
   "id": "56c3ac87-7487-48cf-a3f8-3affc774c720",
   "metadata": {
    "tags": []
   },
   "source": [
    "### 퀴즈\n",
    "-  1) ratings.dat, users.dat, movies.dat 파일을 하나의 데이타프레임(df)로 공통 컬럼과 공통 키값을 이용하여 조인하여라. \n",
    "-  이때 df의 컬럼은 ['userID', 'gender', 'age', 'occupation', 'movieID', 'title', 'genres', 'rating'] 으로 제한한다"
   ]
  },
  {
   "cell_type": "code",
   "execution_count": 95,
   "id": "a8c28f9d-ee05-44d5-a0b4-7986a9439433",
   "metadata": {},
   "outputs": [
    {
     "data": {
      "text/plain": [
       "Index(['userID', 'gender', 'age', 'occupation', 'zip-code', 'movieID',\n",
       "       'rating', 'timestamp', 'title', 'genres'],\n",
       "      dtype='object')"
      ]
     },
     "execution_count": 95,
     "metadata": {},
     "output_type": "execute_result"
    }
   ],
   "source": [
    "df_ratings = pd.read_csv('data/ratings.dat', sep='::', header=None, names=['userID','movieID','rating', 'timestamp'])\n",
    "df_users = pd.read_csv('data/users.dat', sep='::', names=['userID', 'gender', 'age', 'occupation', 'zip-code'])\n",
    "df_movies = pd.read_csv('data/movies.dat', sep='::', names=['movieID', 'title', 'genres'])\n",
    "\n",
    "df_temp = pd.merge(df_users, df_ratings)\n",
    "df = pd.merge(df_temp, df_movies)\n",
    "df.columns"
   ]
  },
  {
   "cell_type": "code",
   "execution_count": 101,
   "id": "47699990-cff8-4b8c-a90b-d070d145b989",
   "metadata": {},
   "outputs": [
    {
     "data": {
      "text/html": [
       "<div>\n",
       "<style scoped>\n",
       "    .dataframe tbody tr th:only-of-type {\n",
       "        vertical-align: middle;\n",
       "    }\n",
       "\n",
       "    .dataframe tbody tr th {\n",
       "        vertical-align: top;\n",
       "    }\n",
       "\n",
       "    .dataframe thead th {\n",
       "        text-align: right;\n",
       "    }\n",
       "</style>\n",
       "<table border=\"1\" class=\"dataframe\">\n",
       "  <thead>\n",
       "    <tr style=\"text-align: right;\">\n",
       "      <th></th>\n",
       "      <th>userID</th>\n",
       "      <th>gender</th>\n",
       "      <th>age</th>\n",
       "      <th>occupation</th>\n",
       "      <th>zip-code</th>\n",
       "      <th>movieID</th>\n",
       "      <th>rating</th>\n",
       "      <th>timestamp</th>\n",
       "      <th>title</th>\n",
       "      <th>genres</th>\n",
       "    </tr>\n",
       "  </thead>\n",
       "  <tbody>\n",
       "    <tr>\n",
       "      <th>615750</th>\n",
       "      <td>2917</td>\n",
       "      <td>M</td>\n",
       "      <td>25</td>\n",
       "      <td>0</td>\n",
       "      <td>60201</td>\n",
       "      <td>2605</td>\n",
       "      <td>1</td>\n",
       "      <td>971730216</td>\n",
       "      <td>Entrapment (1999)</td>\n",
       "      <td>Crime|Thriller</td>\n",
       "    </tr>\n",
       "    <tr>\n",
       "      <th>415133</th>\n",
       "      <td>679</td>\n",
       "      <td>M</td>\n",
       "      <td>35</td>\n",
       "      <td>16</td>\n",
       "      <td>29681</td>\n",
       "      <td>778</td>\n",
       "      <td>3</td>\n",
       "      <td>975607279</td>\n",
       "      <td>Trainspotting (1996)</td>\n",
       "      <td>Drama</td>\n",
       "    </tr>\n",
       "    <tr>\n",
       "      <th>455401</th>\n",
       "      <td>5570</td>\n",
       "      <td>M</td>\n",
       "      <td>25</td>\n",
       "      <td>1</td>\n",
       "      <td>07666</td>\n",
       "      <td>750</td>\n",
       "      <td>5</td>\n",
       "      <td>959771629</td>\n",
       "      <td>Dr. Strangelove or: How I Learned to Stop Worr...</td>\n",
       "      <td>Sci-Fi|War</td>\n",
       "    </tr>\n",
       "  </tbody>\n",
       "</table>\n",
       "</div>"
      ],
      "text/plain": [
       "        userID gender  age  occupation zip-code  movieID  rating  timestamp  \\\n",
       "615750    2917      M   25           0    60201     2605       1  971730216   \n",
       "415133     679      M   35          16    29681      778       3  975607279   \n",
       "455401    5570      M   25           1    07666      750       5  959771629   \n",
       "\n",
       "                                                    title          genres  \n",
       "615750                                  Entrapment (1999)  Crime|Thriller  \n",
       "415133                               Trainspotting (1996)           Drama  \n",
       "455401  Dr. Strangelove or: How I Learned to Stop Worr...      Sci-Fi|War  "
      ]
     },
     "execution_count": 101,
     "metadata": {},
     "output_type": "execute_result"
    }
   ],
   "source": [
    "df = df[['userID', 'gender', 'age', 'occupation', 'zip-code', 'movieID','rating', 'timestamp', 'title', 'genres']]\n",
    "df.sample(3)"
   ]
  },
  {
   "cell_type": "code",
   "execution_count": 110,
   "id": "5ba82b36-3d34-4d04-be23-4ad744ac26f4",
   "metadata": {
    "tags": []
   },
   "outputs": [],
   "source": [
    "### 2) 1의 데이타프레임 df에서 아래의 직업 코드를 참고하여 'occupation' 컬럼값을 변경하여 'job' 컬럼으로 추가하여라 \n",
    "# 딕셔너리 정의\n",
    "occ_dict = {0: 'other',\n",
    "1: 'academic/educator',\n",
    "2: 'artist',\n",
    "3: 'clerical/admin',\n",
    "4: 'college/grad student',\n",
    "5: 'customer service',\n",
    "6: 'doctor/health care',\n",
    "7: 'executive/managerial',\n",
    "8: 'farmer',\n",
    "9: 'homemaker',\n",
    "10: 'K-12 student',\n",
    "11: 'lawyer',\n",
    "12: 'programmer',\n",
    "13: 'retired',\n",
    "14: 'sales/marketing',\n",
    "15: 'scientist',\n",
    "16: 'self-employed',\n",
    "17: 'technician/engineer',\n",
    "18: 'tradesman/craftsman',\n",
    "19: 'unemployed',\n",
    "20: 'writer'}\n",
    "# occ_dict"
   ]
  },
  {
   "cell_type": "code",
   "execution_count": 109,
   "id": "62d73ceb-a232-4533-83ec-d739aee4d226",
   "metadata": {},
   "outputs": [
    {
     "data": {
      "text/plain": [
       "array([ 0,  1,  2,  3,  4,  5,  6,  7,  8,  9, 10, 11, 12, 13, 14, 15, 16,\n",
       "       17, 18, 19, 20], dtype=int64)"
      ]
     },
     "execution_count": 109,
     "metadata": {},
     "output_type": "execute_result"
    }
   ],
   "source": [
    "# occupation 컬럼값 확인\n",
    "np.sort(df['occupation'].unique())"
   ]
  },
  {
   "cell_type": "code",
   "execution_count": 113,
   "id": "59e7fa6d-5ec6-4136-b8f7-ff5a2b4cdd42",
   "metadata": {},
   "outputs": [],
   "source": [
    "# 값을 교체하는 함수로 정의\n",
    "def change_occ(x):\n",
    "    # 딕셔너리 정의\n",
    "    occ_dict = {0: 'other',\n",
    "                1: 'academic/educator',\n",
    "                2: 'artist',\n",
    "                3: 'clerical/admin',\n",
    "                4: 'college/grad student',\n",
    "                5: 'customer service',\n",
    "                6: 'doctor/health care',\n",
    "                7: 'executive/managerial',\n",
    "                8: 'farmer',\n",
    "                9: 'homemaker',\n",
    "                10: 'K-12 student',\n",
    "                11: 'lawyer',\n",
    "                12: 'programmer',\n",
    "                13: 'retired',\n",
    "                14: 'sales/marketing',\n",
    "                15: 'scientist',\n",
    "                16: 'self-employed',\n",
    "                17: 'technician/engineer',\n",
    "                18: 'tradesman/craftsman',\n",
    "                19: 'unemployed',\n",
    "                20: 'writer'}\n",
    "    return occ_dict[x]"
   ]
  },
  {
   "cell_type": "code",
   "execution_count": 117,
   "id": "ccf52497-b1da-48f0-b698-deeedbcf074d",
   "metadata": {},
   "outputs": [
    {
     "data": {
      "text/plain": [
       "('writer', 'other')"
      ]
     },
     "execution_count": 117,
     "metadata": {},
     "output_type": "execute_result"
    }
   ],
   "source": [
    "# 함수 작동 확인\n",
    "change_occ(20),change_occ(0)"
   ]
  },
  {
   "cell_type": "code",
   "execution_count": 119,
   "id": "56176da7-b2d2-4a18-8b61-1ec39ac726cb",
   "metadata": {},
   "outputs": [],
   "source": [
    "# 새로운 컬럼 생성 및 함수 적용\n",
    "df['job'] = df['occupation'].apply(change_occ)"
   ]
  },
  {
   "cell_type": "code",
   "execution_count": 122,
   "id": "2d74ae10-c686-411a-978f-1564af23ed7d",
   "metadata": {},
   "outputs": [
    {
     "data": {
      "text/html": [
       "<div>\n",
       "<style scoped>\n",
       "    .dataframe tbody tr th:only-of-type {\n",
       "        vertical-align: middle;\n",
       "    }\n",
       "\n",
       "    .dataframe tbody tr th {\n",
       "        vertical-align: top;\n",
       "    }\n",
       "\n",
       "    .dataframe thead th {\n",
       "        text-align: right;\n",
       "    }\n",
       "</style>\n",
       "<table border=\"1\" class=\"dataframe\">\n",
       "  <thead>\n",
       "    <tr style=\"text-align: right;\">\n",
       "      <th></th>\n",
       "      <th>userID</th>\n",
       "      <th>gender</th>\n",
       "      <th>age</th>\n",
       "      <th>occupation</th>\n",
       "      <th>zip-code</th>\n",
       "      <th>movieID</th>\n",
       "      <th>rating</th>\n",
       "      <th>timestamp</th>\n",
       "      <th>title</th>\n",
       "      <th>genres</th>\n",
       "      <th>job</th>\n",
       "    </tr>\n",
       "  </thead>\n",
       "  <tbody>\n",
       "    <tr>\n",
       "      <th>536829</th>\n",
       "      <td>5448</td>\n",
       "      <td>M</td>\n",
       "      <td>45</td>\n",
       "      <td>19</td>\n",
       "      <td>60626</td>\n",
       "      <td>2529</td>\n",
       "      <td>3</td>\n",
       "      <td>959967267</td>\n",
       "      <td>Planet of the Apes (1968)</td>\n",
       "      <td>Action|Sci-Fi</td>\n",
       "      <td>unemployed</td>\n",
       "    </tr>\n",
       "    <tr>\n",
       "      <th>933403</th>\n",
       "      <td>3197</td>\n",
       "      <td>F</td>\n",
       "      <td>18</td>\n",
       "      <td>14</td>\n",
       "      <td>94110</td>\n",
       "      <td>1260</td>\n",
       "      <td>5</td>\n",
       "      <td>968636234</td>\n",
       "      <td>M (1931)</td>\n",
       "      <td>Crime|Film-Noir|Thriller</td>\n",
       "      <td>sales/marketing</td>\n",
       "    </tr>\n",
       "    <tr>\n",
       "      <th>629667</th>\n",
       "      <td>3211</td>\n",
       "      <td>M</td>\n",
       "      <td>50</td>\n",
       "      <td>16</td>\n",
       "      <td>20015</td>\n",
       "      <td>164</td>\n",
       "      <td>4</td>\n",
       "      <td>968545545</td>\n",
       "      <td>Devil in a Blue Dress (1995)</td>\n",
       "      <td>Crime|Film-Noir|Mystery|Thriller</td>\n",
       "      <td>self-employed</td>\n",
       "    </tr>\n",
       "    <tr>\n",
       "      <th>749944</th>\n",
       "      <td>5501</td>\n",
       "      <td>M</td>\n",
       "      <td>25</td>\n",
       "      <td>2</td>\n",
       "      <td>33334</td>\n",
       "      <td>1212</td>\n",
       "      <td>4</td>\n",
       "      <td>959796559</td>\n",
       "      <td>Third Man, The (1949)</td>\n",
       "      <td>Mystery|Thriller</td>\n",
       "      <td>artist</td>\n",
       "    </tr>\n",
       "    <tr>\n",
       "      <th>904093</th>\n",
       "      <td>3224</td>\n",
       "      <td>F</td>\n",
       "      <td>25</td>\n",
       "      <td>14</td>\n",
       "      <td>93428</td>\n",
       "      <td>3672</td>\n",
       "      <td>3</td>\n",
       "      <td>968519522</td>\n",
       "      <td>Benji (1974)</td>\n",
       "      <td>Adventure|Children's</td>\n",
       "      <td>sales/marketing</td>\n",
       "    </tr>\n",
       "  </tbody>\n",
       "</table>\n",
       "</div>"
      ],
      "text/plain": [
       "        userID gender  age  occupation zip-code  movieID  rating  timestamp  \\\n",
       "536829    5448      M   45          19    60626     2529       3  959967267   \n",
       "933403    3197      F   18          14    94110     1260       5  968636234   \n",
       "629667    3211      M   50          16    20015      164       4  968545545   \n",
       "749944    5501      M   25           2    33334     1212       4  959796559   \n",
       "904093    3224      F   25          14    93428     3672       3  968519522   \n",
       "\n",
       "                               title                            genres  \\\n",
       "536829     Planet of the Apes (1968)                     Action|Sci-Fi   \n",
       "933403                      M (1931)          Crime|Film-Noir|Thriller   \n",
       "629667  Devil in a Blue Dress (1995)  Crime|Film-Noir|Mystery|Thriller   \n",
       "749944         Third Man, The (1949)                  Mystery|Thriller   \n",
       "904093                  Benji (1974)              Adventure|Children's   \n",
       "\n",
       "                    job  \n",
       "536829       unemployed  \n",
       "933403  sales/marketing  \n",
       "629667    self-employed  \n",
       "749944           artist  \n",
       "904093  sales/marketing  "
      ]
     },
     "execution_count": 122,
     "metadata": {},
     "output_type": "execute_result"
    }
   ],
   "source": [
    "df.sample(5)"
   ]
  },
  {
   "cell_type": "code",
   "execution_count": 123,
   "id": "c1de7432-c804-4c27-b827-61e9e19834fd",
   "metadata": {},
   "outputs": [
    {
     "data": {
      "text/html": [
       "<div>\n",
       "<style scoped>\n",
       "    .dataframe tbody tr th:only-of-type {\n",
       "        vertical-align: middle;\n",
       "    }\n",
       "\n",
       "    .dataframe tbody tr th {\n",
       "        vertical-align: top;\n",
       "    }\n",
       "\n",
       "    .dataframe thead th {\n",
       "        text-align: right;\n",
       "    }\n",
       "</style>\n",
       "<table border=\"1\" class=\"dataframe\">\n",
       "  <thead>\n",
       "    <tr style=\"text-align: right;\">\n",
       "      <th></th>\n",
       "      <th>occupation</th>\n",
       "      <th>job</th>\n",
       "    </tr>\n",
       "  </thead>\n",
       "  <tbody>\n",
       "    <tr>\n",
       "      <th>162056</th>\n",
       "      <td>7</td>\n",
       "      <td>executive/managerial</td>\n",
       "    </tr>\n",
       "    <tr>\n",
       "      <th>774978</th>\n",
       "      <td>4</td>\n",
       "      <td>college/grad student</td>\n",
       "    </tr>\n",
       "    <tr>\n",
       "      <th>388310</th>\n",
       "      <td>17</td>\n",
       "      <td>technician/engineer</td>\n",
       "    </tr>\n",
       "    <tr>\n",
       "      <th>433668</th>\n",
       "      <td>7</td>\n",
       "      <td>executive/managerial</td>\n",
       "    </tr>\n",
       "    <tr>\n",
       "      <th>864687</th>\n",
       "      <td>14</td>\n",
       "      <td>sales/marketing</td>\n",
       "    </tr>\n",
       "  </tbody>\n",
       "</table>\n",
       "</div>"
      ],
      "text/plain": [
       "        occupation                   job\n",
       "162056           7  executive/managerial\n",
       "774978           4  college/grad student\n",
       "388310          17   technician/engineer\n",
       "433668           7  executive/managerial\n",
       "864687          14       sales/marketing"
      ]
     },
     "execution_count": 123,
     "metadata": {},
     "output_type": "execute_result"
    }
   ],
   "source": [
    "df.sample(5) [['occupation', 'job']]"
   ]
  },
  {
   "cell_type": "code",
   "execution_count": 126,
   "id": "2a231e36-8d57-4c6f-bbcc-c0f09ea87909",
   "metadata": {},
   "outputs": [],
   "source": [
    "# 3) gender 컬럼 값을 이용하여 M=>0, F=>1로 변경하고 다른 컬럼으로 추가하여라\n",
    "def change_gen(x):\n",
    "    # 딕셔너리 정의\n",
    "    occ_gen = {'M':0,\n",
    "               'F':1}\n",
    "    return occ_gen[x]"
   ]
  },
  {
   "cell_type": "code",
   "execution_count": 159,
   "id": "a47de21a-bfb3-474c-a148-cded90fce1f4",
   "metadata": {},
   "outputs": [],
   "source": [
    "df['sex'] = df['gender'].apply(change_gen)\n",
    "# df['gender1'] = df['gender'].map({'M':0, 'F':1})\n",
    "# df['gender1'] = df['gender'].replace({'M':0, 'F':1})"
   ]
  },
  {
   "cell_type": "code",
   "execution_count": 128,
   "id": "dd8074df-89d5-4e0f-88c1-047fa9895ea0",
   "metadata": {
    "tags": []
   },
   "outputs": [
    {
     "data": {
      "text/html": [
       "<div>\n",
       "<style scoped>\n",
       "    .dataframe tbody tr th:only-of-type {\n",
       "        vertical-align: middle;\n",
       "    }\n",
       "\n",
       "    .dataframe tbody tr th {\n",
       "        vertical-align: top;\n",
       "    }\n",
       "\n",
       "    .dataframe thead th {\n",
       "        text-align: right;\n",
       "    }\n",
       "</style>\n",
       "<table border=\"1\" class=\"dataframe\">\n",
       "  <thead>\n",
       "    <tr style=\"text-align: right;\">\n",
       "      <th></th>\n",
       "      <th>userID</th>\n",
       "      <th>gender</th>\n",
       "      <th>age</th>\n",
       "      <th>occupation</th>\n",
       "      <th>zip-code</th>\n",
       "      <th>movieID</th>\n",
       "      <th>rating</th>\n",
       "      <th>timestamp</th>\n",
       "      <th>title</th>\n",
       "      <th>genres</th>\n",
       "      <th>job</th>\n",
       "      <th>sex</th>\n",
       "    </tr>\n",
       "  </thead>\n",
       "  <tbody>\n",
       "    <tr>\n",
       "      <th>0</th>\n",
       "      <td>1</td>\n",
       "      <td>F</td>\n",
       "      <td>1</td>\n",
       "      <td>10</td>\n",
       "      <td>48067</td>\n",
       "      <td>1193</td>\n",
       "      <td>5</td>\n",
       "      <td>978300760</td>\n",
       "      <td>One Flew Over the Cuckoo's Nest (1975)</td>\n",
       "      <td>Drama</td>\n",
       "      <td>K-12 student</td>\n",
       "      <td>1</td>\n",
       "    </tr>\n",
       "    <tr>\n",
       "      <th>1</th>\n",
       "      <td>2</td>\n",
       "      <td>M</td>\n",
       "      <td>56</td>\n",
       "      <td>16</td>\n",
       "      <td>70072</td>\n",
       "      <td>1193</td>\n",
       "      <td>5</td>\n",
       "      <td>978298413</td>\n",
       "      <td>One Flew Over the Cuckoo's Nest (1975)</td>\n",
       "      <td>Drama</td>\n",
       "      <td>self-employed</td>\n",
       "      <td>0</td>\n",
       "    </tr>\n",
       "    <tr>\n",
       "      <th>2</th>\n",
       "      <td>12</td>\n",
       "      <td>M</td>\n",
       "      <td>25</td>\n",
       "      <td>12</td>\n",
       "      <td>32793</td>\n",
       "      <td>1193</td>\n",
       "      <td>4</td>\n",
       "      <td>978220179</td>\n",
       "      <td>One Flew Over the Cuckoo's Nest (1975)</td>\n",
       "      <td>Drama</td>\n",
       "      <td>programmer</td>\n",
       "      <td>0</td>\n",
       "    </tr>\n",
       "    <tr>\n",
       "      <th>3</th>\n",
       "      <td>15</td>\n",
       "      <td>M</td>\n",
       "      <td>25</td>\n",
       "      <td>7</td>\n",
       "      <td>22903</td>\n",
       "      <td>1193</td>\n",
       "      <td>4</td>\n",
       "      <td>978199279</td>\n",
       "      <td>One Flew Over the Cuckoo's Nest (1975)</td>\n",
       "      <td>Drama</td>\n",
       "      <td>executive/managerial</td>\n",
       "      <td>0</td>\n",
       "    </tr>\n",
       "    <tr>\n",
       "      <th>4</th>\n",
       "      <td>17</td>\n",
       "      <td>M</td>\n",
       "      <td>50</td>\n",
       "      <td>1</td>\n",
       "      <td>95350</td>\n",
       "      <td>1193</td>\n",
       "      <td>5</td>\n",
       "      <td>978158471</td>\n",
       "      <td>One Flew Over the Cuckoo's Nest (1975)</td>\n",
       "      <td>Drama</td>\n",
       "      <td>academic/educator</td>\n",
       "      <td>0</td>\n",
       "    </tr>\n",
       "    <tr>\n",
       "      <th>...</th>\n",
       "      <td>...</td>\n",
       "      <td>...</td>\n",
       "      <td>...</td>\n",
       "      <td>...</td>\n",
       "      <td>...</td>\n",
       "      <td>...</td>\n",
       "      <td>...</td>\n",
       "      <td>...</td>\n",
       "      <td>...</td>\n",
       "      <td>...</td>\n",
       "      <td>...</td>\n",
       "      <td>...</td>\n",
       "    </tr>\n",
       "    <tr>\n",
       "      <th>1000204</th>\n",
       "      <td>5949</td>\n",
       "      <td>M</td>\n",
       "      <td>18</td>\n",
       "      <td>17</td>\n",
       "      <td>47901</td>\n",
       "      <td>2198</td>\n",
       "      <td>5</td>\n",
       "      <td>958846401</td>\n",
       "      <td>Modulations (1998)</td>\n",
       "      <td>Documentary</td>\n",
       "      <td>technician/engineer</td>\n",
       "      <td>0</td>\n",
       "    </tr>\n",
       "    <tr>\n",
       "      <th>1000205</th>\n",
       "      <td>5675</td>\n",
       "      <td>M</td>\n",
       "      <td>35</td>\n",
       "      <td>14</td>\n",
       "      <td>30030</td>\n",
       "      <td>2703</td>\n",
       "      <td>3</td>\n",
       "      <td>976029116</td>\n",
       "      <td>Broken Vessels (1998)</td>\n",
       "      <td>Drama</td>\n",
       "      <td>sales/marketing</td>\n",
       "      <td>0</td>\n",
       "    </tr>\n",
       "    <tr>\n",
       "      <th>1000206</th>\n",
       "      <td>5780</td>\n",
       "      <td>M</td>\n",
       "      <td>18</td>\n",
       "      <td>17</td>\n",
       "      <td>92886</td>\n",
       "      <td>2845</td>\n",
       "      <td>1</td>\n",
       "      <td>958153068</td>\n",
       "      <td>White Boys (1999)</td>\n",
       "      <td>Drama</td>\n",
       "      <td>technician/engineer</td>\n",
       "      <td>0</td>\n",
       "    </tr>\n",
       "    <tr>\n",
       "      <th>1000207</th>\n",
       "      <td>5851</td>\n",
       "      <td>F</td>\n",
       "      <td>18</td>\n",
       "      <td>20</td>\n",
       "      <td>55410</td>\n",
       "      <td>3607</td>\n",
       "      <td>5</td>\n",
       "      <td>957756608</td>\n",
       "      <td>One Little Indian (1973)</td>\n",
       "      <td>Comedy|Drama|Western</td>\n",
       "      <td>writer</td>\n",
       "      <td>1</td>\n",
       "    </tr>\n",
       "    <tr>\n",
       "      <th>1000208</th>\n",
       "      <td>5938</td>\n",
       "      <td>M</td>\n",
       "      <td>25</td>\n",
       "      <td>1</td>\n",
       "      <td>35401</td>\n",
       "      <td>2909</td>\n",
       "      <td>4</td>\n",
       "      <td>957273353</td>\n",
       "      <td>Five Wives, Three Secretaries and Me (1998)</td>\n",
       "      <td>Documentary</td>\n",
       "      <td>academic/educator</td>\n",
       "      <td>0</td>\n",
       "    </tr>\n",
       "  </tbody>\n",
       "</table>\n",
       "<p>1000209 rows × 12 columns</p>\n",
       "</div>"
      ],
      "text/plain": [
       "         userID gender  age  occupation zip-code  movieID  rating  timestamp  \\\n",
       "0             1      F    1          10    48067     1193       5  978300760   \n",
       "1             2      M   56          16    70072     1193       5  978298413   \n",
       "2            12      M   25          12    32793     1193       4  978220179   \n",
       "3            15      M   25           7    22903     1193       4  978199279   \n",
       "4            17      M   50           1    95350     1193       5  978158471   \n",
       "...         ...    ...  ...         ...      ...      ...     ...        ...   \n",
       "1000204    5949      M   18          17    47901     2198       5  958846401   \n",
       "1000205    5675      M   35          14    30030     2703       3  976029116   \n",
       "1000206    5780      M   18          17    92886     2845       1  958153068   \n",
       "1000207    5851      F   18          20    55410     3607       5  957756608   \n",
       "1000208    5938      M   25           1    35401     2909       4  957273353   \n",
       "\n",
       "                                               title                genres  \\\n",
       "0             One Flew Over the Cuckoo's Nest (1975)                 Drama   \n",
       "1             One Flew Over the Cuckoo's Nest (1975)                 Drama   \n",
       "2             One Flew Over the Cuckoo's Nest (1975)                 Drama   \n",
       "3             One Flew Over the Cuckoo's Nest (1975)                 Drama   \n",
       "4             One Flew Over the Cuckoo's Nest (1975)                 Drama   \n",
       "...                                              ...                   ...   \n",
       "1000204                           Modulations (1998)           Documentary   \n",
       "1000205                        Broken Vessels (1998)                 Drama   \n",
       "1000206                            White Boys (1999)                 Drama   \n",
       "1000207                     One Little Indian (1973)  Comedy|Drama|Western   \n",
       "1000208  Five Wives, Three Secretaries and Me (1998)           Documentary   \n",
       "\n",
       "                          job  sex  \n",
       "0                K-12 student    1  \n",
       "1               self-employed    0  \n",
       "2                  programmer    0  \n",
       "3        executive/managerial    0  \n",
       "4           academic/educator    0  \n",
       "...                       ...  ...  \n",
       "1000204   technician/engineer    0  \n",
       "1000205       sales/marketing    0  \n",
       "1000206   technician/engineer    0  \n",
       "1000207                writer    1  \n",
       "1000208     academic/educator    0  \n",
       "\n",
       "[1000209 rows x 12 columns]"
      ]
     },
     "execution_count": 128,
     "metadata": {},
     "output_type": "execute_result"
    }
   ],
   "source": [
    "df"
   ]
  },
  {
   "cell_type": "code",
   "execution_count": 162,
   "id": "26df8fa1-5492-4dcd-a3e3-ee0c97b77e8f",
   "metadata": {
    "tags": []
   },
   "outputs": [
    {
     "name": "stdout",
     "output_type": "stream",
     "text": [
      "133953 개\n",
      "133953 개\n",
      "133953 개\n"
     ]
    }
   ],
   "source": [
    "# 4) genres 컬럼에서 Adventure 는 모두 몇개인가?\n",
    "print(len(df[df['genres'].str.contains('Adventure')]),'개')\n",
    "print(df[df['genres'].str.contains('Adventure')].shape[0],'개')\n",
    "print(df['genres'].str.contains('Adventure').sum(),'개')"
   ]
  },
  {
   "cell_type": "code",
   "execution_count": null,
   "id": "3e6bb6cf-0244-42f0-bca8-86b392353427",
   "metadata": {},
   "outputs": [],
   "source": [
    "# 5) 'Adventure' 컬럼을 추가하고 0의 값으로 모두 초기화하여라  \n",
    "# genres 컬럼값에서 Adventure 가 있다면 'Adventure' 컬럼 값을 1로 변경하여라."
   ]
  },
  {
   "cell_type": "code",
   "execution_count": 149,
   "id": "5a09d435-bf48-46db-841e-f491deee3e4e",
   "metadata": {},
   "outputs": [
    {
     "data": {
      "text/plain": [
       "0          False\n",
       "1          False\n",
       "2          False\n",
       "3          False\n",
       "4          False\n",
       "           ...  \n",
       "1000204    False\n",
       "1000205    False\n",
       "1000206    False\n",
       "1000207    False\n",
       "1000208    False\n",
       "Name: genres, Length: 1000209, dtype: bool"
      ]
     },
     "execution_count": 149,
     "metadata": {},
     "output_type": "execute_result"
    }
   ],
   "source": [
    "df['genres'].str.contains('Adventure')"
   ]
  },
  {
   "cell_type": "code",
   "execution_count": 153,
   "id": "4c9a9ad9-9be8-446e-bbcd-0b7c025ecfe7",
   "metadata": {},
   "outputs": [],
   "source": [
    "def change_ad(x):\n",
    "    # 딕셔너리 정의\n",
    "    occ_ad = {False :0,\n",
    "               True : 1}\n",
    "    return occ_ad[x]"
   ]
  },
  {
   "cell_type": "code",
   "execution_count": 154,
   "id": "625ccfd8-93ba-45c4-a583-1392f59a30df",
   "metadata": {},
   "outputs": [],
   "source": [
    "df['Adventure'] = df['genres'].str.contains('Adventure').apply(change_ad)"
   ]
  },
  {
   "cell_type": "code",
   "execution_count": 157,
   "id": "999fc56c-dadb-425f-8be4-dfe74d566b89",
   "metadata": {},
   "outputs": [
    {
     "data": {
      "text/html": [
       "<div>\n",
       "<style scoped>\n",
       "    .dataframe tbody tr th:only-of-type {\n",
       "        vertical-align: middle;\n",
       "    }\n",
       "\n",
       "    .dataframe tbody tr th {\n",
       "        vertical-align: top;\n",
       "    }\n",
       "\n",
       "    .dataframe thead th {\n",
       "        text-align: right;\n",
       "    }\n",
       "</style>\n",
       "<table border=\"1\" class=\"dataframe\">\n",
       "  <thead>\n",
       "    <tr style=\"text-align: right;\">\n",
       "      <th></th>\n",
       "      <th>userID</th>\n",
       "      <th>gender</th>\n",
       "      <th>age</th>\n",
       "      <th>occupation</th>\n",
       "      <th>zip-code</th>\n",
       "      <th>movieID</th>\n",
       "      <th>rating</th>\n",
       "      <th>timestamp</th>\n",
       "      <th>title</th>\n",
       "      <th>genres</th>\n",
       "      <th>job</th>\n",
       "      <th>sex</th>\n",
       "      <th>Adventure</th>\n",
       "    </tr>\n",
       "  </thead>\n",
       "  <tbody>\n",
       "    <tr>\n",
       "      <th>730151</th>\n",
       "      <td>5806</td>\n",
       "      <td>F</td>\n",
       "      <td>50</td>\n",
       "      <td>1</td>\n",
       "      <td>08826</td>\n",
       "      <td>1248</td>\n",
       "      <td>5</td>\n",
       "      <td>957985208</td>\n",
       "      <td>Touch of Evil (1958)</td>\n",
       "      <td>Crime|Film-Noir|Thriller</td>\n",
       "      <td>academic/educator</td>\n",
       "      <td>1</td>\n",
       "      <td>0</td>\n",
       "    </tr>\n",
       "    <tr>\n",
       "      <th>258540</th>\n",
       "      <td>5046</td>\n",
       "      <td>M</td>\n",
       "      <td>25</td>\n",
       "      <td>16</td>\n",
       "      <td>60614</td>\n",
       "      <td>1912</td>\n",
       "      <td>5</td>\n",
       "      <td>962504980</td>\n",
       "      <td>Out of Sight (1998)</td>\n",
       "      <td>Action|Crime|Romance</td>\n",
       "      <td>self-employed</td>\n",
       "      <td>0</td>\n",
       "      <td>0</td>\n",
       "    </tr>\n",
       "    <tr>\n",
       "      <th>868681</th>\n",
       "      <td>699</td>\n",
       "      <td>M</td>\n",
       "      <td>18</td>\n",
       "      <td>0</td>\n",
       "      <td>73505</td>\n",
       "      <td>1398</td>\n",
       "      <td>3</td>\n",
       "      <td>975564494</td>\n",
       "      <td>In Love and War (1996)</td>\n",
       "      <td>Romance|War</td>\n",
       "      <td>other</td>\n",
       "      <td>0</td>\n",
       "      <td>0</td>\n",
       "    </tr>\n",
       "    <tr>\n",
       "      <th>552824</th>\n",
       "      <td>4939</td>\n",
       "      <td>M</td>\n",
       "      <td>25</td>\n",
       "      <td>7</td>\n",
       "      <td>63105</td>\n",
       "      <td>208</td>\n",
       "      <td>2</td>\n",
       "      <td>962642980</td>\n",
       "      <td>Waterworld (1995)</td>\n",
       "      <td>Action|Adventure</td>\n",
       "      <td>executive/managerial</td>\n",
       "      <td>0</td>\n",
       "      <td>1</td>\n",
       "    </tr>\n",
       "    <tr>\n",
       "      <th>887883</th>\n",
       "      <td>150</td>\n",
       "      <td>M</td>\n",
       "      <td>35</td>\n",
       "      <td>7</td>\n",
       "      <td>98144</td>\n",
       "      <td>1280</td>\n",
       "      <td>4</td>\n",
       "      <td>977303316</td>\n",
       "      <td>Raise the Red Lantern (1991)</td>\n",
       "      <td>Drama</td>\n",
       "      <td>executive/managerial</td>\n",
       "      <td>0</td>\n",
       "      <td>0</td>\n",
       "    </tr>\n",
       "  </tbody>\n",
       "</table>\n",
       "</div>"
      ],
      "text/plain": [
       "        userID gender  age  occupation zip-code  movieID  rating  timestamp  \\\n",
       "730151    5806      F   50           1    08826     1248       5  957985208   \n",
       "258540    5046      M   25          16    60614     1912       5  962504980   \n",
       "868681     699      M   18           0    73505     1398       3  975564494   \n",
       "552824    4939      M   25           7    63105      208       2  962642980   \n",
       "887883     150      M   35           7    98144     1280       4  977303316   \n",
       "\n",
       "                               title                    genres  \\\n",
       "730151          Touch of Evil (1958)  Crime|Film-Noir|Thriller   \n",
       "258540           Out of Sight (1998)      Action|Crime|Romance   \n",
       "868681        In Love and War (1996)               Romance|War   \n",
       "552824             Waterworld (1995)          Action|Adventure   \n",
       "887883  Raise the Red Lantern (1991)                     Drama   \n",
       "\n",
       "                         job  sex  Adventure  \n",
       "730151     academic/educator    1          0  \n",
       "258540         self-employed    0          0  \n",
       "868681                 other    0          0  \n",
       "552824  executive/managerial    0          1  \n",
       "887883  executive/managerial    0          0  "
      ]
     },
     "execution_count": 157,
     "metadata": {},
     "output_type": "execute_result"
    }
   ],
   "source": [
    "df.sample(5)"
   ]
  },
  {
   "cell_type": "code",
   "execution_count": 158,
   "id": "1ab65030-4c98-49d8-84e5-f64349a17fec",
   "metadata": {},
   "outputs": [
    {
     "data": {
      "text/plain": [
       "0    866256\n",
       "1    133953\n",
       "Name: Adventure, dtype: int64"
      ]
     },
     "execution_count": 158,
     "metadata": {},
     "output_type": "execute_result"
    }
   ],
   "source": [
    "df['Adventure'].value_counts()"
   ]
  },
  {
   "cell_type": "code",
   "execution_count": 163,
   "id": "454103e7-d459-42eb-99b9-66b084b90b9e",
   "metadata": {},
   "outputs": [
    {
     "data": {
      "text/html": [
       "<div>\n",
       "<style scoped>\n",
       "    .dataframe tbody tr th:only-of-type {\n",
       "        vertical-align: middle;\n",
       "    }\n",
       "\n",
       "    .dataframe tbody tr th {\n",
       "        vertical-align: top;\n",
       "    }\n",
       "\n",
       "    .dataframe thead th {\n",
       "        text-align: right;\n",
       "    }\n",
       "</style>\n",
       "<table border=\"1\" class=\"dataframe\">\n",
       "  <thead>\n",
       "    <tr style=\"text-align: right;\">\n",
       "      <th></th>\n",
       "      <th>userID</th>\n",
       "      <th>gender</th>\n",
       "      <th>age</th>\n",
       "      <th>occupation</th>\n",
       "      <th>zip-code</th>\n",
       "      <th>movieID</th>\n",
       "      <th>rating</th>\n",
       "      <th>timestamp</th>\n",
       "      <th>title</th>\n",
       "      <th>genres</th>\n",
       "      <th>job</th>\n",
       "      <th>sex</th>\n",
       "      <th>Adventure</th>\n",
       "    </tr>\n",
       "  </thead>\n",
       "  <tbody>\n",
       "    <tr>\n",
       "      <th>932186</th>\n",
       "      <td>4995</td>\n",
       "      <td>M</td>\n",
       "      <td>50</td>\n",
       "      <td>20</td>\n",
       "      <td>55419</td>\n",
       "      <td>417</td>\n",
       "      <td>3</td>\n",
       "      <td>962592619</td>\n",
       "      <td>Barcelona (1994)</td>\n",
       "      <td>Comedy|Romance</td>\n",
       "      <td>writer</td>\n",
       "      <td>0</td>\n",
       "      <td>0</td>\n",
       "    </tr>\n",
       "    <tr>\n",
       "      <th>358080</th>\n",
       "      <td>2840</td>\n",
       "      <td>M</td>\n",
       "      <td>25</td>\n",
       "      <td>0</td>\n",
       "      <td>60660</td>\n",
       "      <td>42</td>\n",
       "      <td>2</td>\n",
       "      <td>972570656</td>\n",
       "      <td>Dead Presidents (1995)</td>\n",
       "      <td>Action|Crime|Drama</td>\n",
       "      <td>other</td>\n",
       "      <td>0</td>\n",
       "      <td>0</td>\n",
       "    </tr>\n",
       "    <tr>\n",
       "      <th>802736</th>\n",
       "      <td>846</td>\n",
       "      <td>M</td>\n",
       "      <td>25</td>\n",
       "      <td>5</td>\n",
       "      <td>80209</td>\n",
       "      <td>3726</td>\n",
       "      <td>5</td>\n",
       "      <td>975542983</td>\n",
       "      <td>Assault on Precinct 13 (1976)</td>\n",
       "      <td>Action|Thriller</td>\n",
       "      <td>customer service</td>\n",
       "      <td>0</td>\n",
       "      <td>0</td>\n",
       "    </tr>\n",
       "    <tr>\n",
       "      <th>169338</th>\n",
       "      <td>5776</td>\n",
       "      <td>M</td>\n",
       "      <td>18</td>\n",
       "      <td>12</td>\n",
       "      <td>97205</td>\n",
       "      <td>780</td>\n",
       "      <td>4</td>\n",
       "      <td>958169196</td>\n",
       "      <td>Independence Day (ID4) (1996)</td>\n",
       "      <td>Action|Sci-Fi|War</td>\n",
       "      <td>programmer</td>\n",
       "      <td>0</td>\n",
       "      <td>0</td>\n",
       "    </tr>\n",
       "    <tr>\n",
       "      <th>316500</th>\n",
       "      <td>195</td>\n",
       "      <td>M</td>\n",
       "      <td>25</td>\n",
       "      <td>12</td>\n",
       "      <td>10458</td>\n",
       "      <td>353</td>\n",
       "      <td>5</td>\n",
       "      <td>977547733</td>\n",
       "      <td>Crow, The (1994)</td>\n",
       "      <td>Action|Romance|Thriller</td>\n",
       "      <td>programmer</td>\n",
       "      <td>0</td>\n",
       "      <td>0</td>\n",
       "    </tr>\n",
       "  </tbody>\n",
       "</table>\n",
       "</div>"
      ],
      "text/plain": [
       "        userID gender  age  occupation zip-code  movieID  rating  timestamp  \\\n",
       "932186    4995      M   50          20    55419      417       3  962592619   \n",
       "358080    2840      M   25           0    60660       42       2  972570656   \n",
       "802736     846      M   25           5    80209     3726       5  975542983   \n",
       "169338    5776      M   18          12    97205      780       4  958169196   \n",
       "316500     195      M   25          12    10458      353       5  977547733   \n",
       "\n",
       "                                title                   genres  \\\n",
       "932186               Barcelona (1994)           Comedy|Romance   \n",
       "358080         Dead Presidents (1995)       Action|Crime|Drama   \n",
       "802736  Assault on Precinct 13 (1976)          Action|Thriller   \n",
       "169338  Independence Day (ID4) (1996)        Action|Sci-Fi|War   \n",
       "316500               Crow, The (1994)  Action|Romance|Thriller   \n",
       "\n",
       "                     job  sex  Adventure  \n",
       "932186            writer    0          0  \n",
       "358080             other    0          0  \n",
       "802736  customer service    0          0  \n",
       "169338        programmer    0          0  \n",
       "316500        programmer    0          0  "
      ]
     },
     "execution_count": 163,
     "metadata": {},
     "output_type": "execute_result"
    }
   ],
   "source": [
    "# 불린 마스크 이용 \n",
    "# 'Adventure' 컬럼을 추가하고 0의 값으로 모두 초기화\n",
    "df['Adventure'] = 0\n",
    "df.sample(5)"
   ]
  },
  {
   "cell_type": "code",
   "execution_count": 165,
   "id": "ce131bc1-d7c8-4e95-bfac-55aa7cb338ff",
   "metadata": {},
   "outputs": [],
   "source": [
    "df.loc[df['genres'].str.contains('Adventure'), 'Adventure'] = 1"
   ]
  },
  {
   "cell_type": "code",
   "execution_count": 166,
   "id": "b30fb704-501e-4c44-bf0d-15b63b2dddcb",
   "metadata": {},
   "outputs": [
    {
     "data": {
      "text/html": [
       "<div>\n",
       "<style scoped>\n",
       "    .dataframe tbody tr th:only-of-type {\n",
       "        vertical-align: middle;\n",
       "    }\n",
       "\n",
       "    .dataframe tbody tr th {\n",
       "        vertical-align: top;\n",
       "    }\n",
       "\n",
       "    .dataframe thead th {\n",
       "        text-align: right;\n",
       "    }\n",
       "</style>\n",
       "<table border=\"1\" class=\"dataframe\">\n",
       "  <thead>\n",
       "    <tr style=\"text-align: right;\">\n",
       "      <th></th>\n",
       "      <th>userID</th>\n",
       "      <th>gender</th>\n",
       "      <th>age</th>\n",
       "      <th>occupation</th>\n",
       "      <th>zip-code</th>\n",
       "      <th>movieID</th>\n",
       "      <th>rating</th>\n",
       "      <th>timestamp</th>\n",
       "      <th>title</th>\n",
       "      <th>genres</th>\n",
       "      <th>job</th>\n",
       "      <th>sex</th>\n",
       "      <th>Adventure</th>\n",
       "    </tr>\n",
       "  </thead>\n",
       "  <tbody>\n",
       "    <tr>\n",
       "      <th>124328</th>\n",
       "      <td>4083</td>\n",
       "      <td>M</td>\n",
       "      <td>56</td>\n",
       "      <td>14</td>\n",
       "      <td>92630</td>\n",
       "      <td>1372</td>\n",
       "      <td>4</td>\n",
       "      <td>965460084</td>\n",
       "      <td>Star Trek VI: The Undiscovered Country (1991)</td>\n",
       "      <td>Action|Adventure|Sci-Fi</td>\n",
       "      <td>sales/marketing</td>\n",
       "      <td>0</td>\n",
       "      <td>1</td>\n",
       "    </tr>\n",
       "    <tr>\n",
       "      <th>93828</th>\n",
       "      <td>2857</td>\n",
       "      <td>M</td>\n",
       "      <td>25</td>\n",
       "      <td>0</td>\n",
       "      <td>10469</td>\n",
       "      <td>3255</td>\n",
       "      <td>4</td>\n",
       "      <td>972511482</td>\n",
       "      <td>League of Their Own, A (1992)</td>\n",
       "      <td>Comedy|Drama</td>\n",
       "      <td>other</td>\n",
       "      <td>0</td>\n",
       "      <td>0</td>\n",
       "    </tr>\n",
       "    <tr>\n",
       "      <th>189147</th>\n",
       "      <td>2691</td>\n",
       "      <td>M</td>\n",
       "      <td>18</td>\n",
       "      <td>4</td>\n",
       "      <td>06459</td>\n",
       "      <td>1079</td>\n",
       "      <td>4</td>\n",
       "      <td>976387362</td>\n",
       "      <td>Fish Called Wanda, A (1988)</td>\n",
       "      <td>Comedy</td>\n",
       "      <td>college/grad student</td>\n",
       "      <td>0</td>\n",
       "      <td>0</td>\n",
       "    </tr>\n",
       "    <tr>\n",
       "      <th>482695</th>\n",
       "      <td>3401</td>\n",
       "      <td>M</td>\n",
       "      <td>35</td>\n",
       "      <td>7</td>\n",
       "      <td>76109</td>\n",
       "      <td>277</td>\n",
       "      <td>3</td>\n",
       "      <td>980119775</td>\n",
       "      <td>Miracle on 34th Street (1994)</td>\n",
       "      <td>Drama</td>\n",
       "      <td>executive/managerial</td>\n",
       "      <td>0</td>\n",
       "      <td>0</td>\n",
       "    </tr>\n",
       "    <tr>\n",
       "      <th>534055</th>\n",
       "      <td>5284</td>\n",
       "      <td>M</td>\n",
       "      <td>25</td>\n",
       "      <td>16</td>\n",
       "      <td>55426</td>\n",
       "      <td>541</td>\n",
       "      <td>4</td>\n",
       "      <td>961098613</td>\n",
       "      <td>Blade Runner (1982)</td>\n",
       "      <td>Film-Noir|Sci-Fi</td>\n",
       "      <td>self-employed</td>\n",
       "      <td>0</td>\n",
       "      <td>0</td>\n",
       "    </tr>\n",
       "  </tbody>\n",
       "</table>\n",
       "</div>"
      ],
      "text/plain": [
       "        userID gender  age  occupation zip-code  movieID  rating  timestamp  \\\n",
       "124328    4083      M   56          14    92630     1372       4  965460084   \n",
       "93828     2857      M   25           0    10469     3255       4  972511482   \n",
       "189147    2691      M   18           4    06459     1079       4  976387362   \n",
       "482695    3401      M   35           7    76109      277       3  980119775   \n",
       "534055    5284      M   25          16    55426      541       4  961098613   \n",
       "\n",
       "                                                title  \\\n",
       "124328  Star Trek VI: The Undiscovered Country (1991)   \n",
       "93828                   League of Their Own, A (1992)   \n",
       "189147                    Fish Called Wanda, A (1988)   \n",
       "482695                  Miracle on 34th Street (1994)   \n",
       "534055                            Blade Runner (1982)   \n",
       "\n",
       "                         genres                   job  sex  Adventure  \n",
       "124328  Action|Adventure|Sci-Fi       sales/marketing    0          1  \n",
       "93828              Comedy|Drama                 other    0          0  \n",
       "189147                   Comedy  college/grad student    0          0  \n",
       "482695                    Drama  executive/managerial    0          0  \n",
       "534055         Film-Noir|Sci-Fi         self-employed    0          0  "
      ]
     },
     "execution_count": 166,
     "metadata": {},
     "output_type": "execute_result"
    }
   ],
   "source": [
    "df.sample(5)"
   ]
  },
  {
   "cell_type": "code",
   "execution_count": 169,
   "id": "5c5d6007-2ec0-4137-bcfb-150b6faed9f8",
   "metadata": {},
   "outputs": [
    {
     "name": "stdout",
     "output_type": "stream",
     "text": [
      "True\n",
      "False\n"
     ]
    }
   ],
   "source": [
    "# map(), apply() + 람다 이용 \n",
    "\n",
    "# 람다 테스트 \n",
    "print((lambda x: 'Adventure' in x)('Action|Adventure|Sci-Fi'))\n",
    "print((lambda x: 'Adventure' in x)('Sci-Fi'))"
   ]
  },
  {
   "cell_type": "code",
   "execution_count": 170,
   "id": "4e865038-d413-431b-8ad0-51c314b95a71",
   "metadata": {},
   "outputs": [
    {
     "name": "stdout",
     "output_type": "stream",
     "text": [
      "1\n",
      "0\n"
     ]
    }
   ],
   "source": [
    "# map(), apply() + 람다 이용 \n",
    "\n",
    "# 람다 테스트 - 1 또는 0 반환 \n",
    "print((lambda x: int('Adventure' in x))('Action|Adventure|Sci-Fi'))\n",
    "print((lambda x: int('Adventure' in x))('Sci-Fi'))"
   ]
  },
  {
   "cell_type": "code",
   "execution_count": 172,
   "id": "1a0e39a0-272b-47d8-9d3a-ce2fab40c94a",
   "metadata": {},
   "outputs": [],
   "source": [
    "df['Adventure2'] = df['genres'].apply(lambda x: int('Adventure' in x))"
   ]
  },
  {
   "cell_type": "code",
   "execution_count": 182,
   "id": "16fe7960-3b5f-40d9-82f8-3f8e27d3d1ba",
   "metadata": {
    "collapsed": true,
    "jupyter": {
     "outputs_hidden": true
    },
    "tags": []
   },
   "outputs": [
    {
     "data": {
      "text/html": [
       "<div>\n",
       "<style scoped>\n",
       "    .dataframe tbody tr th:only-of-type {\n",
       "        vertical-align: middle;\n",
       "    }\n",
       "\n",
       "    .dataframe tbody tr th {\n",
       "        vertical-align: top;\n",
       "    }\n",
       "\n",
       "    .dataframe thead th {\n",
       "        text-align: right;\n",
       "    }\n",
       "</style>\n",
       "<table border=\"1\" class=\"dataframe\">\n",
       "  <thead>\n",
       "    <tr style=\"text-align: right;\">\n",
       "      <th></th>\n",
       "      <th>userID</th>\n",
       "      <th>gender</th>\n",
       "      <th>age</th>\n",
       "      <th>occupation</th>\n",
       "      <th>zip-code</th>\n",
       "      <th>movieID</th>\n",
       "      <th>rating</th>\n",
       "      <th>timestamp</th>\n",
       "      <th>title</th>\n",
       "      <th>genres</th>\n",
       "      <th>job</th>\n",
       "      <th>sex</th>\n",
       "      <th>Adventure</th>\n",
       "      <th>Adventure2</th>\n",
       "    </tr>\n",
       "  </thead>\n",
       "  <tbody>\n",
       "    <tr>\n",
       "      <th>93915</th>\n",
       "      <td>3362</td>\n",
       "      <td>F</td>\n",
       "      <td>25</td>\n",
       "      <td>0</td>\n",
       "      <td>90212</td>\n",
       "      <td>3255</td>\n",
       "      <td>3</td>\n",
       "      <td>967672703</td>\n",
       "      <td>League of Their Own, A (1992)</td>\n",
       "      <td>Comedy|Drama</td>\n",
       "      <td>other</td>\n",
       "      <td>1</td>\n",
       "      <td>0</td>\n",
       "      <td>0</td>\n",
       "    </tr>\n",
       "    <tr>\n",
       "      <th>441262</th>\n",
       "      <td>3410</td>\n",
       "      <td>M</td>\n",
       "      <td>35</td>\n",
       "      <td>1</td>\n",
       "      <td>20653</td>\n",
       "      <td>596</td>\n",
       "      <td>5</td>\n",
       "      <td>967420473</td>\n",
       "      <td>Pinocchio (1940)</td>\n",
       "      <td>Animation|Children's</td>\n",
       "      <td>academic/educator</td>\n",
       "      <td>0</td>\n",
       "      <td>0</td>\n",
       "      <td>0</td>\n",
       "    </tr>\n",
       "    <tr>\n",
       "      <th>588511</th>\n",
       "      <td>2110</td>\n",
       "      <td>M</td>\n",
       "      <td>50</td>\n",
       "      <td>11</td>\n",
       "      <td>46802</td>\n",
       "      <td>3033</td>\n",
       "      <td>4</td>\n",
       "      <td>974652713</td>\n",
       "      <td>Spaceballs (1987)</td>\n",
       "      <td>Comedy|Sci-Fi</td>\n",
       "      <td>lawyer</td>\n",
       "      <td>0</td>\n",
       "      <td>0</td>\n",
       "      <td>0</td>\n",
       "    </tr>\n",
       "    <tr>\n",
       "      <th>380241</th>\n",
       "      <td>4460</td>\n",
       "      <td>M</td>\n",
       "      <td>25</td>\n",
       "      <td>14</td>\n",
       "      <td>70005</td>\n",
       "      <td>555</td>\n",
       "      <td>4</td>\n",
       "      <td>965073062</td>\n",
       "      <td>True Romance (1993)</td>\n",
       "      <td>Action|Crime|Romance</td>\n",
       "      <td>sales/marketing</td>\n",
       "      <td>0</td>\n",
       "      <td>0</td>\n",
       "      <td>0</td>\n",
       "    </tr>\n",
       "    <tr>\n",
       "      <th>6596</th>\n",
       "      <td>1866</td>\n",
       "      <td>M</td>\n",
       "      <td>25</td>\n",
       "      <td>7</td>\n",
       "      <td>94043</td>\n",
       "      <td>1197</td>\n",
       "      <td>4</td>\n",
       "      <td>974753173</td>\n",
       "      <td>Princess Bride, The (1987)</td>\n",
       "      <td>Action|Adventure|Comedy|Romance</td>\n",
       "      <td>executive/managerial</td>\n",
       "      <td>0</td>\n",
       "      <td>1</td>\n",
       "      <td>1</td>\n",
       "    </tr>\n",
       "    <tr>\n",
       "      <th>263912</th>\n",
       "      <td>3281</td>\n",
       "      <td>M</td>\n",
       "      <td>25</td>\n",
       "      <td>17</td>\n",
       "      <td>79705</td>\n",
       "      <td>1127</td>\n",
       "      <td>4</td>\n",
       "      <td>968167681</td>\n",
       "      <td>Abyss, The (1989)</td>\n",
       "      <td>Action|Adventure|Sci-Fi|Thriller</td>\n",
       "      <td>technician/engineer</td>\n",
       "      <td>0</td>\n",
       "      <td>1</td>\n",
       "      <td>1</td>\n",
       "    </tr>\n",
       "    <tr>\n",
       "      <th>956523</th>\n",
       "      <td>3031</td>\n",
       "      <td>M</td>\n",
       "      <td>18</td>\n",
       "      <td>4</td>\n",
       "      <td>48135</td>\n",
       "      <td>1053</td>\n",
       "      <td>2</td>\n",
       "      <td>972526871</td>\n",
       "      <td>Normal Life (1996)</td>\n",
       "      <td>Crime|Drama</td>\n",
       "      <td>college/grad student</td>\n",
       "      <td>0</td>\n",
       "      <td>0</td>\n",
       "      <td>0</td>\n",
       "    </tr>\n",
       "    <tr>\n",
       "      <th>645700</th>\n",
       "      <td>1080</td>\n",
       "      <td>M</td>\n",
       "      <td>56</td>\n",
       "      <td>7</td>\n",
       "      <td>08854</td>\n",
       "      <td>2454</td>\n",
       "      <td>5</td>\n",
       "      <td>974943185</td>\n",
       "      <td>Fly, The (1958)</td>\n",
       "      <td>Horror|Sci-Fi</td>\n",
       "      <td>executive/managerial</td>\n",
       "      <td>0</td>\n",
       "      <td>0</td>\n",
       "      <td>0</td>\n",
       "    </tr>\n",
       "    <tr>\n",
       "      <th>247616</th>\n",
       "      <td>1902</td>\n",
       "      <td>M</td>\n",
       "      <td>25</td>\n",
       "      <td>19</td>\n",
       "      <td>93536</td>\n",
       "      <td>3728</td>\n",
       "      <td>4</td>\n",
       "      <td>975899388</td>\n",
       "      <td>One False Move (1991)</td>\n",
       "      <td>Thriller</td>\n",
       "      <td>unemployed</td>\n",
       "      <td>0</td>\n",
       "      <td>0</td>\n",
       "      <td>0</td>\n",
       "    </tr>\n",
       "    <tr>\n",
       "      <th>933832</th>\n",
       "      <td>2895</td>\n",
       "      <td>M</td>\n",
       "      <td>25</td>\n",
       "      <td>11</td>\n",
       "      <td>07039</td>\n",
       "      <td>2924</td>\n",
       "      <td>3</td>\n",
       "      <td>972056081</td>\n",
       "      <td>Drunken Master (Zui quan) (1979)</td>\n",
       "      <td>Action|Comedy</td>\n",
       "      <td>lawyer</td>\n",
       "      <td>0</td>\n",
       "      <td>0</td>\n",
       "      <td>0</td>\n",
       "    </tr>\n",
       "  </tbody>\n",
       "</table>\n",
       "</div>"
      ],
      "text/plain": [
       "        userID gender  age  occupation zip-code  movieID  rating  timestamp  \\\n",
       "93915     3362      F   25           0    90212     3255       3  967672703   \n",
       "441262    3410      M   35           1    20653      596       5  967420473   \n",
       "588511    2110      M   50          11    46802     3033       4  974652713   \n",
       "380241    4460      M   25          14    70005      555       4  965073062   \n",
       "6596      1866      M   25           7    94043     1197       4  974753173   \n",
       "263912    3281      M   25          17    79705     1127       4  968167681   \n",
       "956523    3031      M   18           4    48135     1053       2  972526871   \n",
       "645700    1080      M   56           7    08854     2454       5  974943185   \n",
       "247616    1902      M   25          19    93536     3728       4  975899388   \n",
       "933832    2895      M   25          11    07039     2924       3  972056081   \n",
       "\n",
       "                                   title                            genres  \\\n",
       "93915      League of Their Own, A (1992)                      Comedy|Drama   \n",
       "441262                  Pinocchio (1940)              Animation|Children's   \n",
       "588511                 Spaceballs (1987)                     Comedy|Sci-Fi   \n",
       "380241               True Romance (1993)              Action|Crime|Romance   \n",
       "6596          Princess Bride, The (1987)   Action|Adventure|Comedy|Romance   \n",
       "263912                 Abyss, The (1989)  Action|Adventure|Sci-Fi|Thriller   \n",
       "956523                Normal Life (1996)                       Crime|Drama   \n",
       "645700                   Fly, The (1958)                     Horror|Sci-Fi   \n",
       "247616             One False Move (1991)                          Thriller   \n",
       "933832  Drunken Master (Zui quan) (1979)                     Action|Comedy   \n",
       "\n",
       "                         job  sex  Adventure  Adventure2  \n",
       "93915                  other    1          0           0  \n",
       "441262     academic/educator    0          0           0  \n",
       "588511                lawyer    0          0           0  \n",
       "380241       sales/marketing    0          0           0  \n",
       "6596    executive/managerial    0          1           1  \n",
       "263912   technician/engineer    0          1           1  \n",
       "956523  college/grad student    0          0           0  \n",
       "645700  executive/managerial    0          0           0  \n",
       "247616            unemployed    0          0           0  \n",
       "933832                lawyer    0          0           0  "
      ]
     },
     "execution_count": 182,
     "metadata": {},
     "output_type": "execute_result"
    }
   ],
   "source": [
    "df.sample(10)"
   ]
  },
  {
   "cell_type": "code",
   "execution_count": 173,
   "id": "efae6d9c-6dae-40fb-8bf9-2321447a8939",
   "metadata": {},
   "outputs": [
    {
     "data": {
      "text/plain": [
       "(133953,\n",
       " 0    866256\n",
       " 1    133953\n",
       " Name: Adventure, dtype: int64)"
      ]
     },
     "execution_count": 173,
     "metadata": {},
     "output_type": "execute_result"
    }
   ],
   "source": [
    "df['genres'].str.contains('Adventure').sum(), df['Adventure'].value_counts()"
   ]
  },
  {
   "cell_type": "code",
   "execution_count": 184,
   "id": "e5f0c08f-aacc-4d9c-891f-d88e18399658",
   "metadata": {},
   "outputs": [
    {
     "data": {
      "text/plain": [
       "(133953,\n",
       " 0    866256\n",
       " 1    133953\n",
       " Name: Adventure2, dtype: int64)"
      ]
     },
     "execution_count": 184,
     "metadata": {},
     "output_type": "execute_result"
    }
   ],
   "source": [
    "df['genres'].str.contains('Adventure').sum(), df['Adventure2'].value_counts()"
   ]
  },
  {
   "cell_type": "code",
   "execution_count": null,
   "id": "0e8135c5-6d06-434f-bb51-66c6cc2d5811",
   "metadata": {},
   "outputs": [],
   "source": [
    "print"
   ]
  }
 ],
 "metadata": {
  "kernelspec": {
   "display_name": "Python 3 (ipykernel)",
   "language": "python",
   "name": "python3"
  },
  "language_info": {
   "codemirror_mode": {
    "name": "ipython",
    "version": 3
   },
   "file_extension": ".py",
   "mimetype": "text/x-python",
   "name": "python",
   "nbconvert_exporter": "python",
   "pygments_lexer": "ipython3",
   "version": "3.9.12"
  }
 },
 "nbformat": 4,
 "nbformat_minor": 5
}
