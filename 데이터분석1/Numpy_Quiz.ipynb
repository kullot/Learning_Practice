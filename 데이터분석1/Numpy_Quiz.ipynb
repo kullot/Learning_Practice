{
 "cells": [
  {
   "cell_type": "code",
   "execution_count": 2,
   "id": "97c79412",
   "metadata": {
    "scrolled": true
   },
   "outputs": [
    {
     "data": {
      "text/html": [
       "<style>.container { width:100% !important; font-weight:bold }</style>"
      ],
      "text/plain": [
       "<IPython.core.display.HTML object>"
      ]
     },
     "metadata": {},
     "output_type": "display_data"
    }
   ],
   "source": [
    "# 쥬피터 노트북 셀 크기 설정 \n",
    "from IPython.core.display import display, HTML\n",
    "display(HTML(\"<style>.container { width:100% !important; font-weight:bold }</style>\"))\n",
    "\n",
    "# 경고 메세지 X\n",
    "import warnings\n",
    "warnings.filterwarnings(action='ignore')"
   ]
  },
  {
   "cell_type": "markdown",
   "id": "08a301bf",
   "metadata": {},
   "source": [
    "### Q1 넘파이 모듈을 np 별칭으로 임포트해라"
   ]
  },
  {
   "cell_type": "code",
   "execution_count": 4,
   "id": "a4cf2e72",
   "metadata": {},
   "outputs": [],
   "source": [
    "import numpy as np"
   ]
  },
  {
   "cell_type": "markdown",
   "id": "cd0f69c6",
   "metadata": {},
   "source": [
    "#### Q2 다음과 같은 리스트를 이용하여\n",
    "-  넘파이 배열을 만들고\n",
    "-  전체 갯수, 차원, 데이터형, 구조를 출력하여라\n",
    "-  ['강아지', '원숭이', '꽃', '45', '100']\n",
    "\n",
    "-  array(['강아지', '원숭이', '꽃', '45', '100'], dtype='<U3')\n",
    "-  차원 ? 1\n",
    "-  전체 갯수 ? 5\n",
    "-  데이터형 ? <U3"
   ]
  },
  {
   "cell_type": "code",
   "execution_count": 10,
   "id": "8d97b048",
   "metadata": {
    "scrolled": true
   },
   "outputs": [
    {
     "name": "stdout",
     "output_type": "stream",
     "text": [
      "차원 ? 1\n",
      "전체 갯수 ? 5\n",
      "데이터형 ? <U3\n"
     ]
    }
   ],
   "source": [
    "mylist = ['강아지', '원숭이', '꽃', '45', '100']\n",
    "arr = np.array(mylist)\n",
    "print('차원 ?', arr.ndim)\n",
    "print('전체 갯수 ?', arr.size)\n",
    "print('데이터형 ?', arr.dtype)"
   ]
  },
  {
   "cell_type": "markdown",
   "id": "1f81ef2e",
   "metadata": {
    "tags": []
   },
   "source": [
    "### Q3 np.ones()를 이용하여\n",
    "- 2행 3열의 넘파이 배열을 생성하여라\n",
    "- \n",
    "- array([[1., 1., 1.],\n",
    "-        [1., 1., 1.]])"
   ]
  },
  {
   "cell_type": "code",
   "execution_count": 17,
   "id": "d4e24d1d",
   "metadata": {
    "scrolled": true
   },
   "outputs": [
    {
     "name": "stdout",
     "output_type": "stream",
     "text": [
      "[[1. 1. 1.]\n",
      " [1. 1. 1.]]\n"
     ]
    }
   ],
   "source": [
    "arr = np.ones([2,3])\n",
    "print(arr)"
   ]
  },
  {
   "cell_type": "markdown",
   "id": "f4dd84ea",
   "metadata": {},
   "source": [
    "### Q4. np.arange(), np.reshape()를 이용하여\n",
    "- 다음과 같은 넘파이 배열을 생성하여라\n",
    "- array([[51, 52, 53, 54, 55],\n",
    "-        [56, 57, 58, 59, 60],\n",
    "-        [61, 62, 63, 64, 65],\n",
    "-        [66, 67, 68, 69, 70],\n",
    "-        [71, 72, 73, 74, 75],\n",
    "-        [76, 77, 78, 79, 80]])"
   ]
  },
  {
   "cell_type": "code",
   "execution_count": 25,
   "id": "79fa8fe5",
   "metadata": {},
   "outputs": [
    {
     "data": {
      "text/plain": [
       "array([[51, 52, 53, 54, 55],\n",
       "       [56, 57, 58, 59, 60],\n",
       "       [61, 62, 63, 64, 65],\n",
       "       [66, 67, 68, 69, 70],\n",
       "       [71, 72, 73, 74, 75],\n",
       "       [76, 77, 78, 79, 80]])"
      ]
     },
     "execution_count": 25,
     "metadata": {},
     "output_type": "execute_result"
    }
   ],
   "source": [
    "arr = np.arange(51,81).reshape([6,5])\n",
    "arr"
   ]
  },
  {
   "cell_type": "markdown",
   "id": "7e3c724c",
   "metadata": {},
   "source": [
    "### Q5. Q4의 넘파이 배열의 자료형을\n",
    "- float로 변경하고 데이터형을 출력하여라\n",
    "- \n",
    "- array([[51., 52., 53., 54., 55.],\n",
    "-        [56., 57., 58., 59., 60.],\n",
    "-        [61., 62., 63., 64., 65.],\n",
    "-        [66., 67., 68., 69., 70.],\n",
    "-        [71., 72., 73., 74., 75.],\n",
    "-        [76., 77., 78., 79., 80.]])\n",
    "- -------------------------------------  \n",
    "- dtype('float64')"
   ]
  },
  {
   "cell_type": "code",
   "execution_count": 29,
   "id": "b8cf450e",
   "metadata": {},
   "outputs": [
    {
     "data": {
      "text/plain": [
       "dtype('float64')"
      ]
     },
     "execution_count": 29,
     "metadata": {},
     "output_type": "execute_result"
    }
   ],
   "source": [
    "arr = np.arange(51,81, dtype=float).reshape([6,5])\n",
    "arr.dtype"
   ]
  },
  {
   "cell_type": "raw",
   "id": "702c3c17",
   "metadata": {},
   "source": [
    "Q6. 다음과 같이 넘파이 배열을 생성한 후\n",
    "1차원 배열로 변경하고 슬라이싱하여라\n",
    "array([[ 1,  4,  5,  6],\n",
    "       [56, 23, 45, 67],\n",
    "       [ 8,  4,  6, 10]])\n",
    "\n",
    "array([ 1,  4,  5,  6, 56, 23, 45, 67,  8,  4,  6, 10])\n",
    "\n",
    "\n",
    "array([23, 45, 67,  8,  4,  6])\n"
   ]
  },
  {
   "cell_type": "code",
   "execution_count": 58,
   "id": "576af71e",
   "metadata": {},
   "outputs": [
    {
     "data": {
      "text/plain": [
       "array([ 9,  8, 11, 16])"
      ]
     },
     "execution_count": 58,
     "metadata": {},
     "output_type": "execute_result"
    }
   ],
   "source": [
    "list = [ 1,  4,  5,  6],[56, 23, 45, 67],[ 8,  4,  6, 10]\n",
    "arr = np.array(list)\n",
    "arr[0]"
   ]
  },
  {
   "cell_type": "code",
   "execution_count": 80,
   "id": "6a6e63d0",
   "metadata": {
    "scrolled": true
   },
   "outputs": [
    {
     "data": {
      "text/plain": [
       "array([ 1,  4,  5,  6, 56, 23, 45, 67,  8,  4,  6, 10])"
      ]
     },
     "execution_count": 80,
     "metadata": {},
     "output_type": "execute_result"
    }
   ],
   "source": [
    "arr = arr.flatten()\n",
    "arr"
   ]
  },
  {
   "cell_type": "code",
   "execution_count": 81,
   "id": "a887c4d7",
   "metadata": {},
   "outputs": [
    {
     "data": {
      "text/plain": [
       "array([23, 45, 67,  8,  4,  6])"
      ]
     },
     "execution_count": 81,
     "metadata": {},
     "output_type": "execute_result"
    }
   ],
   "source": [
    "arr[5:11]"
   ]
  },
  {
   "cell_type": "raw",
   "id": "2b853b57",
   "metadata": {},
   "source": [
    "Q7. 다음과 같은 넘파이 배열을 생성한 후\n",
    "아이템을 교체하여라\n",
    "array([ 1,  2,  3,  4,  5,  6,  7,  8,  9, 10])\n",
    "\n",
    "array([10,  2,  3,  4,  5,  6,  7,  0,  0,  0])"
   ]
  },
  {
   "cell_type": "code",
   "execution_count": 147,
   "id": "432884cf",
   "metadata": {},
   "outputs": [
    {
     "data": {
      "text/plain": [
       "array([ 1,  2,  3,  4,  5,  6,  7,  8,  9, 10])"
      ]
     },
     "execution_count": 147,
     "metadata": {},
     "output_type": "execute_result"
    }
   ],
   "source": [
    "arr1 = np.array([ 1,  2,  3,  4,  5,  6,  7,  8,  9, 10])\n",
    "arr1"
   ]
  },
  {
   "cell_type": "code",
   "execution_count": 148,
   "id": "0108b7fa",
   "metadata": {},
   "outputs": [
    {
     "data": {
      "text/plain": [
       "array([10,  2,  3,  4,  5,  6,  7,  0,  0,  0])"
      ]
     },
     "execution_count": 148,
     "metadata": {},
     "output_type": "execute_result"
    }
   ],
   "source": [
    "arr1[0]=10\n",
    "arr1[7:]=0\n",
    "arr1"
   ]
  },
  {
   "cell_type": "raw",
   "id": "6f547416",
   "metadata": {},
   "source": [
    "Q8. 2자리의 숫자로 구성된 넘파이 배열(5행5열)을 만들어라.\n",
    "숫자는 난수를 이용한다.\n",
    "[[63 85 71 67 15]\n",
    " [31 81 69 17 97]\n",
    " [25 41 33 23 39]\n",
    " [39 43 59 33 43]\n",
    " [23 51 65 91 23]]"
   ]
  },
  {
   "cell_type": "code",
   "execution_count": 96,
   "id": "862c3e17",
   "metadata": {},
   "outputs": [],
   "source": [
    "import random"
   ]
  },
  {
   "cell_type": "code",
   "execution_count": 163,
   "id": "96a83362",
   "metadata": {},
   "outputs": [
    {
     "name": "stdout",
     "output_type": "stream",
     "text": [
      "[[56 58 50 15 29]\n",
      " [13 93 57 65 97]\n",
      " [33 69 60 59 62]\n",
      " [55 40 76 95 73]\n",
      " [58 21 91 29 36]]\n"
     ]
    }
   ],
   "source": [
    "arr = np.random.randint(10,99,(5,5))\n",
    "print(arr)"
   ]
  },
  {
   "cell_type": "code",
   "execution_count": null,
   "id": "236b27ae",
   "metadata": {},
   "outputs": [],
   "source": [
    "Q9. 1~100 사이의 정수중 7개의 숫자를 무작위로 추출한 후 가장 큰값과 가장 작은 값을 출력하여라."
   ]
  },
  {
   "cell_type": "code",
   "execution_count": 169,
   "id": "d116c532",
   "metadata": {
    "scrolled": true
   },
   "outputs": [
    {
     "data": {
      "text/plain": [
       "array([16, 27, 60,  9, 33, 51, 55])"
      ]
     },
     "execution_count": 169,
     "metadata": {},
     "output_type": "execute_result"
    }
   ],
   "source": [
    "arr = np.random.randint(1,100,7)\n",
    "arr"
   ]
  },
  {
   "cell_type": "code",
   "execution_count": 170,
   "id": "bfad94d5",
   "metadata": {
    "scrolled": true
   },
   "outputs": [
    {
     "name": "stdout",
     "output_type": "stream",
     "text": [
      "60 9\n"
     ]
    }
   ],
   "source": [
    "print(arr.max(),arr.min())"
   ]
  },
  {
   "cell_type": "raw",
   "id": "d208b0ce",
   "metadata": {},
   "source": [
    "Q10. 다음과 같은 3개의 넘파이 배열을 생성한 후 다음과 같이 합쳐라\n",
    "[[1, 2, 3],\n",
    " [4, 5, 6],\n",
    " [7, 8, 9]]\n",
    "\n",
    "[[11, 12, 13],\n",
    " [14, 15, 16],\n",
    " [17, 18, 19]]\n",
    "\n",
    "[[21, 22, 23],\n",
    " [24, 25, 26],\n",
    " [27, 28, 29]]\n",
    "\n",
    " ----------\n",
    "  Result1 \n",
    " [[ 1,  2,  3, 11, 12, 13, 21, 22, 23],\n",
    "  [ 4,  5,  6, 14, 15, 16, 24, 25, 26],\n",
    "  [ 7,  8,  9, 17, 18, 19, 27, 28, 29]] \n",
    "\n",
    "  ----------\n",
    "  Result2\n",
    " [[ 1,  2,  3],\n",
    "  [ 4,  5,  6],\n",
    "  [ 7,  8,  9],\n",
    "  [11, 12, 13],\n",
    "  [14, 15, 16],\n",
    "  [17, 18, 19],\n",
    "  [21, 22, 23],\n",
    "  [24, 25, 26],\n",
    "  [27, 28, 29]]"
   ]
  },
  {
   "cell_type": "code",
   "execution_count": 197,
   "id": "a3f975ca",
   "metadata": {},
   "outputs": [
    {
     "data": {
      "text/plain": [
       "(array([[1, 2, 3],\n",
       "        [4, 5, 6],\n",
       "        [7, 8, 9]]),\n",
       " array([[11, 12, 13],\n",
       "        [14, 15, 16],\n",
       "        [17, 18, 19]]),\n",
       " array([[21, 22, 23],\n",
       "        [24, 25, 26],\n",
       "        [27, 28, 29]]))"
      ]
     },
     "execution_count": 197,
     "metadata": {},
     "output_type": "execute_result"
    }
   ],
   "source": [
    "arr1 = np.arange(1,10).reshape(3,3)\n",
    "arr2 = np.arange(11,20).reshape(3,3)\n",
    "arr3 = np.arange(21,30).reshape(3,3)\n",
    "arr1,arr2,arr3"
   ]
  },
  {
   "cell_type": "code",
   "execution_count": 198,
   "id": "477a155b",
   "metadata": {},
   "outputs": [
    {
     "data": {
      "text/plain": [
       "array([[ 1,  2,  3, 11, 12, 13, 21, 22, 23],\n",
       "       [ 4,  5,  6, 14, 15, 16, 24, 25, 26],\n",
       "       [ 7,  8,  9, 17, 18, 19, 27, 28, 29]])"
      ]
     },
     "execution_count": 198,
     "metadata": {},
     "output_type": "execute_result"
    }
   ],
   "source": [
    "np.hstack((arr1, arr2, arr3))"
   ]
  },
  {
   "cell_type": "code",
   "execution_count": 199,
   "id": "bfa0d5bb",
   "metadata": {},
   "outputs": [
    {
     "data": {
      "text/plain": [
       "array([[ 1,  2,  3],\n",
       "       [ 4,  5,  6],\n",
       "       [ 7,  8,  9],\n",
       "       [11, 12, 13],\n",
       "       [14, 15, 16],\n",
       "       [17, 18, 19],\n",
       "       [21, 22, 23],\n",
       "       [24, 25, 26],\n",
       "       [27, 28, 29]])"
      ]
     },
     "execution_count": 199,
     "metadata": {},
     "output_type": "execute_result"
    }
   ],
   "source": [
    "np.vstack((arr1, arr2, arr3))"
   ]
  }
 ],
 "metadata": {
  "kernelspec": {
   "display_name": "Python 3 (ipykernel)",
   "language": "python",
   "name": "python3"
  },
  "language_info": {
   "codemirror_mode": {
    "name": "ipython",
    "version": 3
   },
   "file_extension": ".py",
   "mimetype": "text/x-python",
   "name": "python",
   "nbconvert_exporter": "python",
   "pygments_lexer": "ipython3",
   "version": "3.9.12"
  }
 },
 "nbformat": 4,
 "nbformat_minor": 5
}
