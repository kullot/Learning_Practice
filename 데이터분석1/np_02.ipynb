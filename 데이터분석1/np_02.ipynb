{
 "cells": [
  {
   "cell_type": "code",
   "execution_count": 1,
   "id": "102dce4f",
   "metadata": {},
   "outputs": [
    {
     "name": "stderr",
     "output_type": "stream",
     "text": [
      "C:\\Users\\pusan\\AppData\\Local\\Temp\\ipykernel_17304\\365181345.py:2: DeprecationWarning: Importing display from IPython.core.display is deprecated since IPython 7.14, please import from IPython display\n",
      "  from IPython.core.display import display, HTML\n"
     ]
    },
    {
     "data": {
      "text/html": [
       "<style>.container { width:100% !important; font-weight:bold }</style>"
      ],
      "text/plain": [
       "<IPython.core.display.HTML object>"
      ]
     },
     "metadata": {},
     "output_type": "display_data"
    }
   ],
   "source": [
    "# 쥬피터 노트북 셀 크기 설정 \n",
    "from IPython.core.display import display, HTML\n",
    "display(HTML(\"<style>.container { width:100% !important; font-weight:bold }</style>\"))\n",
    "\n",
    "# 경고 메세지 X\n",
    "import warnings\n",
    "warnings.filterwarnings(action='ignore')"
   ]
  },
  {
   "cell_type": "markdown",
   "id": "7a8fc489",
   "metadata": {},
   "source": [
    "### Numpy 모듈 임포트"
   ]
  },
  {
   "cell_type": "code",
   "execution_count": 2,
   "id": "fae8731d",
   "metadata": {},
   "outputs": [],
   "source": [
    "import numpy as np"
   ]
  },
  {
   "cell_type": "markdown",
   "id": "15be8893",
   "metadata": {},
   "source": [
    "### 일반난수 : random 모듈\n",
    "- 내장모듈 임포트 : import random\n",
    "- random.random() : 0 부터 1 사이의 부동소수점(float) 숫자를 리턴한다\n",
    "- random.randint(최소, 최대) : 입력 파라미터인 최소부터 최대까지 중 임의의 정수를 리턴한다\n",
    "- random.randrange(시작,끝[,간격]) : 입력 파라미터인 시작부터 끝값까지 (지정된 간격으로 나열된) 숫자 중 임의의 정수를 리턴한다\n",
    "- random.uniform(최소, 최대) : 입력 파라미터인 최소부터 최대까지 중 임의의 부동소수점(float) 숫자를 리턴한다\n",
    "\n",
    "### random 모듈 임포트"
   ]
  },
  {
   "cell_type": "code",
   "execution_count": 3,
   "id": "0287498c",
   "metadata": {},
   "outputs": [],
   "source": [
    "import random"
   ]
  },
  {
   "cell_type": "code",
   "execution_count": 18,
   "id": "45b8c6de",
   "metadata": {},
   "outputs": [
    {
     "name": "stdout",
     "output_type": "stream",
     "text": [
      "0.5921010894577713\n",
      "0.5905675966900633\n",
      "0.021471465360924147\n"
     ]
    }
   ],
   "source": [
    "# 실수형 데이타\n",
    "# random.random() - 0~1사이\n",
    "print(random.random())\n",
    "print(random.random())\n",
    "print(random.random())"
   ]
  },
  {
   "cell_type": "code",
   "execution_count": 66,
   "id": "e1c0e904",
   "metadata": {},
   "outputs": [
    {
     "name": "stdout",
     "output_type": "stream",
     "text": [
      "[-0.89, -2.72, 1.21, -2.89, 4.83, 3.71, 1.77, -1.94, -3.45, -2.37]\n"
     ]
    }
   ],
   "source": [
    "# 실수형 데이타 2\n",
    "# random.uniform(최소, 최대) - 최소~최대 사이\n",
    "# -5~5 사이 숫자 10개를 리스트로 저장 (소수점 2자리까지만)\n",
    "result_list = []\n",
    "for i in range(10):\n",
    "    result_list.append(round(random.uniform(-5,5),2))\n",
    "print(result_list)\n",
    "# print(random.uniform(-5,5))\n",
    "# print(random.uniform(1,10))\n",
    "# print(random.uniform(1,10))"
   ]
  },
  {
   "cell_type": "code",
   "execution_count": 71,
   "id": "52a96a09",
   "metadata": {},
   "outputs": [
    {
     "name": "stdout",
     "output_type": "stream",
     "text": [
      "[72, 85, 40, 99, 64, 87, 85, 36, 90, 94, 48, 35, 80, 85, 36, 58, 3, 61, 57, 41, 5, 44, 48, 21, 86, 31, 52, 78, 22, 36]\n"
     ]
    }
   ],
   "source": [
    "# 정수형 데이타\n",
    "# random.randint(최소, 최대)\n",
    "result_list = []\n",
    "for i in range(30):\n",
    "    result_list.append(random.randint(1,100))\n",
    "print(result_list)"
   ]
  },
  {
   "cell_type": "code",
   "execution_count": 93,
   "id": "99449933",
   "metadata": {},
   "outputs": [
    {
     "name": "stdout",
     "output_type": "stream",
     "text": [
      "[23, 55, 59, 95, 83, 45, 65, 85, 3, 9]\n"
     ]
    }
   ],
   "source": [
    "# 정수형 데이타 2\n",
    "# random.randrange(시작, 끝, 간격)\n",
    "# 1~100 사이 숫자중에서 홀수만 10개 생성\n",
    "result_list = []\n",
    "for i in range(10):\n",
    "    result_list.append(random.randrange(1,100, 2))\n",
    "print(result_list)"
   ]
  },
  {
   "cell_type": "code",
   "execution_count": 107,
   "id": "262a2e50",
   "metadata": {},
   "outputs": [
    {
     "name": "stdout",
     "output_type": "stream",
     "text": [
      "오늘의 청소당번은? 지원\n",
      "내일의 청소당번은? 수영\n"
     ]
    }
   ],
   "source": [
    "# 리스트에 뽑기 1\n",
    "# random.choice(리스트) : 1개만 출력\n",
    "student_list = ['영희', '철수', '지원', '수영', '지훈']\n",
    "print(f'오늘의 청소당번은? {random.choice(student_list)}')\n",
    "print(f'내일의 청소당번은? {random.choice(student_list)}')"
   ]
  },
  {
   "cell_type": "code",
   "execution_count": 111,
   "id": "2dc376d4",
   "metadata": {},
   "outputs": [
    {
     "name": "stdout",
     "output_type": "stream",
     "text": [
      "오늘의 청소당번은? ['영희', '철수']\n",
      "내일의 청소당번은? ['철수', '수영']\n"
     ]
    }
   ],
   "source": [
    "# 리스트에 뽑기 2\n",
    "# random.sample(리스트, n) : n개만 출력\n",
    "print(f'오늘의 청소당번은? {random.sample(student_list,2)}')\n",
    "print(f'내일의 청소당번은? {random.sample(student_list,2)}')"
   ]
  },
  {
   "cell_type": "code",
   "execution_count": 137,
   "id": "cdf55935",
   "metadata": {},
   "outputs": [
    {
     "name": "stdout",
     "output_type": "stream",
     "text": [
      "['영희', '철수', '지원', '수영', '지훈']\n",
      "['지원', '철수', '영희', '지훈', '수영']\n",
      "오늘의 청소당번은? 지원, 수영\n"
     ]
    }
   ],
   "source": [
    "# 리스트 섞기\n",
    "# random.shuffle(리스트) => 원본 리스트에 바로 반영\n",
    "student_list = ['영희', '철수', '지원', '수영', '지훈']\n",
    "print(student_list)\n",
    "random.shuffle(student_list)\n",
    "print(student_list)\n",
    "print(f'오늘의 청소당번은? {student_list[0]}, {student_list[-1]}')"
   ]
  },
  {
   "cell_type": "markdown",
   "id": "aae14920",
   "metadata": {},
   "source": [
    "#### 퀴즈\n",
    "- 로또 번호 뽑기 (1~45 숫자중에서 6개를 뽑아 로또 리스트를 생성한다.) \n",
    "- 조건 - 로또 번호는 중복값이 없어야 한다. 넘파이 배열이어야한다 \n",
    "- 예시 로또 번호 [36 10 43 15 16 25]"
   ]
  },
  {
   "cell_type": "code",
   "execution_count": 148,
   "id": "9ef9f8e1",
   "metadata": {
    "scrolled": true
   },
   "outputs": [
    {
     "name": "stdout",
     "output_type": "stream",
     "text": [
      "[1, 2, 3, 4, 5, 6, 7, 8, 9, 10, 11, 12, 13, 14, 15, 16, 17, 18, 19, 20, 21, 22, 23, 24, 25, 26, 27, 28, 29, 30, 31, 32, 33, 34, 35, 36, 37, 38, 39, 40, 41, 42, 43, 44, 45]\n",
      "이번주 로또번호는? [44, 19, 3, 11, 42, 27]\n"
     ]
    }
   ],
   "source": [
    "num_list = list(range(1,46))\n",
    "print(num_list)\n",
    "lotto_list = random.sample(num_list, 6)\n",
    "print(f'이번주 로또번호는? {lotto_list}')"
   ]
  },
  {
   "cell_type": "markdown",
   "id": "927de0bf",
   "metadata": {},
   "source": [
    "### Numpy 배열의 난수"
   ]
  },
  {
   "cell_type": "code",
   "execution_count": 9,
   "id": "d81d2fe7",
   "metadata": {},
   "outputs": [
    {
     "name": "stdout",
     "output_type": "stream",
     "text": [
      "[0.14374706 0.90289245 0.54766001 0.86352045 0.8798326  0.27502691\n",
      " 0.37324322 0.03410481 0.80875488 0.66444279] 1 (10,) float64\n"
     ]
    }
   ],
   "source": [
    "# 실수형 넘파이 배열 생성\n",
    "# np.random.randn(n)\n",
    "# np.random.randn(row, column)\n",
    "\n",
    "# 1차원\n",
    "arr = np.random.rand(10)\n",
    "print(arr, arr.ndim, arr.shape, arr.dtype)"
   ]
  },
  {
   "cell_type": "code",
   "execution_count": 8,
   "id": "456c1e11",
   "metadata": {},
   "outputs": [
    {
     "name": "stdout",
     "output_type": "stream",
     "text": [
      "[[0.39194489 0.67376716 0.77697919]\n",
      " [0.66845152 0.07016164 0.71333275]\n",
      " [0.68533575 0.13184838 0.55326314]\n",
      " [0.10678376 0.86009682 0.71259822]\n",
      " [0.0556145  0.2084844  0.73303956]] 2 (5, 3) float64\n"
     ]
    }
   ],
   "source": [
    "# 2차원\n",
    "arr = np.random.rand(5,3)\n",
    "print(arr, arr.ndim, arr.shape, arr.dtype)"
   ]
  },
  {
   "cell_type": "code",
   "execution_count": 17,
   "id": "340642dd",
   "metadata": {},
   "outputs": [
    {
     "name": "stdout",
     "output_type": "stream",
     "text": [
      "[[-3.7577017   2.21579911 -0.32169648]\n",
      " [-7.60298529  5.00396882 -1.56801217]\n",
      " [ 7.31575519  2.6811432   8.44338494]] 2 (3, 3) float64\n"
     ]
    }
   ],
   "source": [
    "# 실수형 넘파이 배열 생성 2\n",
    "# np.random.uniform(최소, 최대,데이터수)\n",
    "# np.random.uniform(최소, 최대, (행수,열수))\n",
    "\n",
    "# 2차원 -10~10 사이 실수 3행 3열\n",
    "arr = np.random.uniform(-10, 10, (3,3))\n",
    "print(arr, arr.ndim, arr.shape, arr.dtype)"
   ]
  },
  {
   "cell_type": "code",
   "execution_count": 19,
   "id": "8cbf8ee0",
   "metadata": {},
   "outputs": [],
   "source": [
    "np.random.randint?"
   ]
  },
  {
   "cell_type": "code",
   "execution_count": 30,
   "id": "8816cc5e",
   "metadata": {},
   "outputs": [
    {
     "name": "stdout",
     "output_type": "stream",
     "text": [
      "[[-42 -67  -6  12  78]\n",
      " [-62 -97  94  28 -11]\n",
      " [ 71  52 -25  88  -3]\n",
      " [-68 -22 -13  51 -89]\n",
      " [ -4  55 -18  44   4]] 2 (5, 5) int32\n"
     ]
    }
   ],
   "source": [
    "# 정수형 넘파이 배열\n",
    "# np.random.randint(start,end,size=갯수)\n",
    "# np.random.randint(start,end,size=(행수,열수))\n",
    "\n",
    "# 2차원\n",
    "arr = np.random.randint(-100, 100, (5, 5))\n",
    "print(arr, arr.ndim, arr.shape, arr.dtype)"
   ]
  },
  {
   "cell_type": "code",
   "execution_count": 31,
   "id": "a1a831a3",
   "metadata": {},
   "outputs": [
    {
     "name": "stdout",
     "output_type": "stream",
     "text": [
      "[-44 -47 -90 -81   5 -66  68  77 -42  82] 1 (10,) int32\n"
     ]
    }
   ],
   "source": [
    "arr = np.random.randint(-100, 100, 10)\n",
    "print(arr, arr.ndim, arr.shape, arr.dtype)"
   ]
  },
  {
   "cell_type": "markdown",
   "id": "a21d04f2",
   "metadata": {},
   "source": [
    "### np.random.choice()\n",
    "- 리스트에서 무작위로 n개의 데이터를 추출할 때 사용한다.\n",
    "- np.random.choice(데이타형은숫자/리스트, size=샘플숫자, replace=True/False, p=리스트)\n",
    "- 데이타형이 리스트이면 데이터, 정수이면 arange(a) 명령으로 데이터를 생성한다.\n",
    "- size : 정수. 샘플 숫자\n",
    "- replace : 불리언. True이면 한번 선택한 데이터를 다시 선택 가능하다. 중복허용\n",
    "- p : 리스트형태. 각 데이터가 선택될 수 있는 확률로 소숫점 단위로 지정. 합은 1이어야한다"
   ]
  },
  {
   "cell_type": "code",
   "execution_count": 79,
   "id": "cec5def1",
   "metadata": {},
   "outputs": [
    {
     "name": "stdout",
     "output_type": "stream",
     "text": [
      "당첨 상품은? ['꽝']\n",
      "당첨 상품은? ['오징어땅콩']\n",
      "당첨 상품은? ['꽝']\n",
      "당첨 상품은? ['꽝']\n",
      "당첨 상품은? ['꽝']\n",
      "당첨 상품은? ['꽝']\n",
      "당첨 상품은? ['꽝']\n",
      "당첨 상품은? ['꽝']\n",
      "당첨 상품은? ['꽝']\n",
      "당첨 상품은? ['꽝']\n"
     ]
    }
   ],
   "source": [
    "# 리스트에서 뽑기 => 넘파이배열\n",
    "# np.random.choice(데이타형은숫자/리스트, size=샘플숫자, replace=True/False, p=리스트)\n",
    "# p는 확률\n",
    "event_list = ['꽝', '스타버스 상품권 10만원', '라면 한상자', '오징어땅콩', '순금 30돈']\n",
    "for i in range(10):\n",
    "    item = np.random. choice(event_list, size=1, p=[0.7, 0.03, 0.06, 0.2, 0.01])\n",
    "    print(f'당첨 상품은? {item}')"
   ]
  },
  {
   "cell_type": "code",
   "execution_count": 80,
   "id": "8fb68d4d",
   "metadata": {},
   "outputs": [
    {
     "name": "stdout",
     "output_type": "stream",
     "text": [
      "[ 1  2  3  4  5  6  7  8  9 10]\n",
      "[ 3  8  2  6  5 10  1  4  9  7]\n"
     ]
    }
   ],
   "source": [
    "# 섞기 => 넘파이배열\n",
    "# np.random.shuffle(리스트)\n",
    "arr = np.arange(1,11)\n",
    "print(arr)\n",
    "np.random.shuffle(arr)\n",
    "print(arr)"
   ]
  },
  {
   "cell_type": "markdown",
   "id": "341e0423",
   "metadata": {},
   "source": [
    "### np.random.seed()\n",
    "- 한번 발생한 난수를 다시 표시할 때 사용\n",
    "- np.random.seed(0~양수)\n",
    "\n",
    "### 순서\n",
    "- np.seed(숫자) # 시드설정 = 난수발생 1\n",
    "- 난수발생 \n",
    "- np.seed(숫자) # 설정된 시드의 난수 \n",
    "- 난수발생"
   ]
  },
  {
   "cell_type": "code",
   "execution_count": 99,
   "id": "2fa90336",
   "metadata": {},
   "outputs": [
    {
     "data": {
      "text/plain": [
       "array([0.0680984 , 0.13103736, 0.71155109])"
      ]
     },
     "execution_count": 99,
     "metadata": {},
     "output_type": "execute_result"
    }
   ],
   "source": [
    "np.random.rand(3)"
   ]
  },
  {
   "cell_type": "code",
   "execution_count": 100,
   "id": "9ea319da",
   "metadata": {},
   "outputs": [
    {
     "data": {
      "text/plain": [
       "array([0.77132064, 0.02075195, 0.63364823])"
      ]
     },
     "execution_count": 100,
     "metadata": {},
     "output_type": "execute_result"
    }
   ],
   "source": [
    "# 시드 설정\n",
    "np.random.seed(10)\n",
    "# 무작위 실수 생성\n",
    "np.random.rand(3)"
   ]
  },
  {
   "cell_type": "code",
   "execution_count": 105,
   "id": "417c7934",
   "metadata": {},
   "outputs": [
    {
     "data": {
      "text/plain": [
       "array([0.19806286, 0.76053071, 0.16911084])"
      ]
     },
     "execution_count": 105,
     "metadata": {},
     "output_type": "execute_result"
    }
   ],
   "source": [
    "# 시드를 호출하지 않은 경우\n",
    "np.random.rand(3)"
   ]
  },
  {
   "cell_type": "code",
   "execution_count": 109,
   "id": "c04679a6",
   "metadata": {
    "scrolled": true
   },
   "outputs": [
    {
     "data": {
      "text/plain": [
       "array([0.77132064, 0.02075195, 0.63364823])"
      ]
     },
     "execution_count": 109,
     "metadata": {},
     "output_type": "execute_result"
    }
   ],
   "source": [
    "# 시드 호출 후 다시 랜덤계열 함수 호출 \n",
    "# 값이 같은지 확은 \n",
    "np.random.seed(10)\n",
    "np.random.rand(3)"
   ]
  },
  {
   "cell_type": "code",
   "execution_count": 110,
   "id": "4e88d13e",
   "metadata": {},
   "outputs": [],
   "source": [
    "# 넘파이 배열에서 지원되는 함수 확인\n",
    "# print(dir(np))"
   ]
  },
  {
   "cell_type": "markdown",
   "id": "7075fa8e",
   "metadata": {},
   "source": [
    "## Numpy 배열의 수학 함수 이용하기\n",
    "### 제곱근과 로그 구하기\n",
    "- np.sqrt(배열명) : 제곱근 구하기\n",
    "- np.log10(배열명) : 로그 구하기"
   ]
  },
  {
   "cell_type": "code",
   "execution_count": 113,
   "id": "511fa206",
   "metadata": {},
   "outputs": [
    {
     "data": {
      "text/plain": [
       "array([ 1,  2,  3,  4,  5,  6,  7,  8,  9, 10])"
      ]
     },
     "execution_count": 113,
     "metadata": {},
     "output_type": "execute_result"
    }
   ],
   "source": [
    "arr = np.arange(1,11)\n",
    "arr"
   ]
  },
  {
   "cell_type": "code",
   "execution_count": 114,
   "id": "506a5eb3",
   "metadata": {
    "scrolled": true
   },
   "outputs": [
    {
     "data": {
      "text/plain": [
       "array([1.        , 1.41421356, 1.73205081, 2.        , 2.23606798,\n",
       "       2.44948974, 2.64575131, 2.82842712, 3.        , 3.16227766])"
      ]
     },
     "execution_count": 114,
     "metadata": {},
     "output_type": "execute_result"
    }
   ],
   "source": [
    "np.sqrt(arr)"
   ]
  },
  {
   "cell_type": "code",
   "execution_count": 115,
   "id": "3fe0020c",
   "metadata": {},
   "outputs": [
    {
     "data": {
      "text/plain": [
       "array([0.        , 0.30103   , 0.47712125, 0.60205999, 0.69897   ,\n",
       "       0.77815125, 0.84509804, 0.90308999, 0.95424251, 1.        ])"
      ]
     },
     "execution_count": 115,
     "metadata": {},
     "output_type": "execute_result"
    }
   ],
   "source": [
    "np.log10(arr)"
   ]
  },
  {
   "cell_type": "code",
   "execution_count": 116,
   "id": "f42d3ceb",
   "metadata": {},
   "outputs": [
    {
     "data": {
      "text/plain": [
       "array([0.        , 0.69314718, 1.09861229, 1.38629436, 1.60943791,\n",
       "       1.79175947, 1.94591015, 2.07944154, 2.19722458, 2.30258509])"
      ]
     },
     "execution_count": 116,
     "metadata": {},
     "output_type": "execute_result"
    }
   ],
   "source": [
    "np.log(arr)"
   ]
  },
  {
   "cell_type": "code",
   "execution_count": 117,
   "id": "57106894",
   "metadata": {},
   "outputs": [
    {
     "data": {
      "text/plain": [
       "array([0.        , 1.        , 1.5849625 , 2.        , 2.32192809,\n",
       "       2.5849625 , 2.80735492, 3.        , 3.169925  , 3.32192809])"
      ]
     },
     "execution_count": 117,
     "metadata": {},
     "output_type": "execute_result"
    }
   ],
   "source": [
    "np.log2(arr)"
   ]
  },
  {
   "cell_type": "code",
   "execution_count": 118,
   "id": "3a036d26",
   "metadata": {},
   "outputs": [
    {
     "data": {
      "text/plain": [
       "3.141592653589793"
      ]
     },
     "execution_count": 118,
     "metadata": {},
     "output_type": "execute_result"
    }
   ],
   "source": [
    "# 원주율 \n",
    "np.pi"
   ]
  },
  {
   "cell_type": "code",
   "execution_count": 119,
   "id": "e3c7dc75",
   "metadata": {},
   "outputs": [
    {
     "data": {
      "text/plain": [
       "2.718281828459045"
      ]
     },
     "execution_count": 119,
     "metadata": {},
     "output_type": "execute_result"
    }
   ],
   "source": [
    "# 자연상수 \n",
    "np.e"
   ]
  },
  {
   "cell_type": "markdown",
   "id": "f2bd55b5",
   "metadata": {},
   "source": [
    "### 삼각 함수(Trigonometrical Function)\n",
    "- np.sin(배열 또는 리스트)\n",
    "- np.cos(배열 또는 리스트)\n",
    "- np.tan(배열 또는 리스트)"
   ]
  },
  {
   "cell_type": "code",
   "execution_count": 120,
   "id": "7cb7dbfb",
   "metadata": {
    "scrolled": false
   },
   "outputs": [
    {
     "data": {
      "text/plain": [
       "array([-0.54402111,  0.91294525,  0.89399666])"
      ]
     },
     "execution_count": 120,
     "metadata": {},
     "output_type": "execute_result"
    }
   ],
   "source": [
    "np.sin([10, 20, 90])"
   ]
  },
  {
   "cell_type": "markdown",
   "id": "abccdbb4",
   "metadata": {},
   "source": [
    "### 최댓값과 최솟값 출력하기\n",
    "- 같은 배열에서 큰수나 작은수 출력 (최댓값, 최솟값)\n",
    "- 조건은 넘파이배열형태의 숫자 자료형만 가능\n",
    "    - np.max(배열), np.max(배열, axis=0/1)\n",
    "    - np.min(배열), np.min(배열, axis=0/1) \n",
    "    - np.maximum(배열1, 배열2)\n",
    "    - np.minimum(배열1, 배열2)"
   ]
  },
  {
   "cell_type": "code",
   "execution_count": 130,
   "id": "b74d3076",
   "metadata": {},
   "outputs": [
    {
     "name": "stdout",
     "output_type": "stream",
     "text": [
      "[41 90 74 38  1 19 24  4 30 17]\n",
      "90 1\n"
     ]
    }
   ],
   "source": [
    "# 1차원 테스트 => 최댓값, 최솟값\n",
    "# 1~100 사이에서 10개만 샘플 데이타 생성\n",
    "arr = np.random.randint(1, 100, 10)\n",
    "print(arr)\n",
    "print(np.max(arr), np.min(arr))"
   ]
  },
  {
   "cell_type": "code",
   "execution_count": 133,
   "id": "3d3c73c4",
   "metadata": {},
   "outputs": [
    {
     "name": "stdout",
     "output_type": "stream",
     "text": [
      "[[39 23 97 67 68]\n",
      " [63 96 28 83 63]\n",
      " [78 49 94 76 87]\n",
      " [38 12 22 34 96]\n",
      " [44 89 97 74 41]]\n",
      "97 12\n"
     ]
    }
   ],
   "source": [
    "# 2차원 테스트 => 최댓값, 최솟값\n",
    "# 1~100 사이에서 25개만 샘플 데이타 생성 => 5행, 5열 구조\n",
    "arr = np.random.randint(1, 100, (5,5))\n",
    "print(arr)\n",
    "print(np.max(arr), np.min(arr))"
   ]
  },
  {
   "cell_type": "code",
   "execution_count": 146,
   "id": "0c713acf",
   "metadata": {},
   "outputs": [
    {
     "name": "stdout",
     "output_type": "stream",
     "text": [
      "컬럼의 최대값 =>  [78 96 97 83 96]\n",
      "행의 최대값 =>  [97 96 94 96 97]\n"
     ]
    }
   ],
   "source": [
    "# np.min(배열), np.min(배열, axis=0/1)\n",
    "print('컬럼의 최대값 => ', np.max(arr, axis=0))\n",
    "print('행의 최대값 => ', np.max(arr, axis=1))"
   ]
  },
  {
   "cell_type": "code",
   "execution_count": 147,
   "id": "ca35bf12",
   "metadata": {},
   "outputs": [
    {
     "name": "stdout",
     "output_type": "stream",
     "text": [
      "컬럼의 최대값 =>  97\n",
      "행의 최대값 =>  12\n"
     ]
    }
   ],
   "source": [
    "# axis 속성을 지원하지 않는다면? 최댓값과 최솟값으로 반환\n",
    "print('컬럼의 최대값 => ', np.max(arr))\n",
    "print('행의 최대값 => ', np.min(arr))"
   ]
  },
  {
   "cell_type": "markdown",
   "id": "f2432c71",
   "metadata": {},
   "source": [
    "### 서로 다른 배열간의 최댓값과 최솟값\n",
    "- np.maximum(배열1, 배열2)\n",
    "- np.minimum(배열1, 배열2)"
   ]
  },
  {
   "cell_type": "code",
   "execution_count": 152,
   "id": "415e5c0c",
   "metadata": {},
   "outputs": [
    {
     "name": "stdout",
     "output_type": "stream",
     "text": [
      "[29 40 92 10  8]\n",
      "[23 33  4 10 53]\n"
     ]
    }
   ],
   "source": [
    "arr1 = np.random.randint(1, 100, 5)\n",
    "arr2 = np.random.randint(1, 100, 5)\n",
    "print(arr1)\n",
    "print(arr2)"
   ]
  },
  {
   "cell_type": "code",
   "execution_count": 154,
   "id": "fb7e3481",
   "metadata": {},
   "outputs": [
    {
     "name": "stdout",
     "output_type": "stream",
     "text": [
      "[29 40 92 10 53]\n",
      "[23 33  4 10  8]\n"
     ]
    }
   ],
   "source": [
    "print(np.maximum(arr1, arr2))\n",
    "print(np.minimum(arr1, arr2))"
   ]
  },
  {
   "cell_type": "markdown",
   "id": "06e384fd",
   "metadata": {},
   "source": [
    "### 배열 원소 전체의 합과 평균 구하기\n",
    "\n",
    "- 배열이름.sum(axis=0)/배열이름.mean(axis=0) : 컬럼의 합과 평균\n",
    "- 배열이름.sum(axis=1)/배열이름.mean(axis=1) : 행의 합과 평균"
   ]
  },
  {
   "cell_type": "code",
   "execution_count": 157,
   "id": "965c22cd",
   "metadata": {},
   "outputs": [
    {
     "data": {
      "text/plain": [
       "(156, 52.0)"
      ]
     },
     "execution_count": 157,
     "metadata": {},
     "output_type": "execute_result"
    }
   ],
   "source": [
    "# 리스트의 합계와 평균은?\n",
    "myList = [1,100,55]\n",
    "sum(myList), sum(myList)/len(myList)"
   ]
  },
  {
   "cell_type": "code",
   "execution_count": 164,
   "id": "1c8d372b",
   "metadata": {},
   "outputs": [
    {
     "name": "stdout",
     "output_type": "stream",
     "text": [
      "[76 40 59 82 40 50 98 12 79 80]\n",
      "616 61.6\n",
      "616 61.6\n"
     ]
    }
   ],
   "source": [
    "# 1차원 배열의 합과 평균\n",
    "arr = np.random.randint(1, 100, 10)\n",
    "print(arr)\n",
    "print(arr.sum(), arr.mean())\n",
    "print(np.sum(arr), np.mean(arr))"
   ]
  },
  {
   "cell_type": "code",
   "execution_count": 188,
   "id": "d0f1e8f6",
   "metadata": {
    "scrolled": false
   },
   "outputs": [
    {
     "name": "stdout",
     "output_type": "stream",
     "text": [
      "[[98 65 67  9 78]\n",
      " [55 22 66 85 57]\n",
      " [32 40 43 34 15]\n",
      " [77 25 86 82 49]\n",
      " [10 29 35 77 74]]\n",
      "컬럼 기준 => [272 181 297 287 273] [54.4 36.2 59.4 57.4 54.6]\n",
      "컬럼 기준 => [272 181 297 287 273] [54.4 36.2 59.4 57.4 54.6]\n",
      "행 기준 => [317 285 164 319 225] [63.4 57.  32.8 63.8 45. ]\n",
      "행 기준 => [317 285 164 319 225] [63.4 57.  32.8 63.8 45. ]\n"
     ]
    }
   ],
   "source": [
    "# 2차원 배열의 합과 평균\n",
    "arr = np.random.randint(1, 100, (5,5))\n",
    "print(arr)\n",
    "print('컬럼 기준 =>',arr.sum(axis=0), arr.mean(axis=0))\n",
    "print('컬럼 기준 =>',np.sum(arr, axis=0), np.mean(arr, axis=0))\n",
    "print('행 기준 =>',arr.sum(axis=1), arr.mean(axis=1))\n",
    "print('행 기준 =>',np.sum(arr, axis=1), np.mean(arr, axis=1))"
   ]
  },
  {
   "cell_type": "markdown",
   "id": "5a4a351c",
   "metadata": {},
   "source": [
    "### 배열의 최대값/최소값의 인덱스\n",
    "- np.argmax(넘파이배열) : 1차원 최대값 인덱스\n",
    "- np.argmin(넘파이배열) : 1차원 최소값 인덱스\n",
    "- np.argmax(넘파이배열, axis=0) : 2차원 최대값 인덱스\n",
    "- np.argmin(넘파이배열, axis=1) : 2차원 최소값 인덱스"
   ]
  },
  {
   "cell_type": "code",
   "execution_count": 193,
   "id": "e9163605",
   "metadata": {
    "scrolled": true
   },
   "outputs": [
    {
     "name": "stdout",
     "output_type": "stream",
     "text": [
      "[ 3 74 36 82 37 29 48 20  3 65]\n",
      "최댓값은? 82 최댓값의 인덱스는? 3\n"
     ]
    }
   ],
   "source": [
    "# 1차원 테스트\n",
    "arr = np.random.randint(1,100,10)\n",
    "print(arr)\n",
    "print(f'최댓값은? {np.max(arr)} 최댓값의 인덱스는? {np.argmax(arr)}')"
   ]
  },
  {
   "cell_type": "code",
   "execution_count": 205,
   "id": "71d9a61a",
   "metadata": {},
   "outputs": [
    {
     "name": "stdout",
     "output_type": "stream",
     "text": [
      "[[90 79 79 53 67]\n",
      " [51 27 21 31 45]\n",
      " [55 60 72 48 65]\n",
      " [45 70 14  2 84]\n",
      " [73 99 54 69 86]]\n",
      "각 컬럼의 최댓값은? [90 99 79 69 86]\n",
      "각 컬럼의 최댓값 인덱스 반환 [0 4 0 4 4]\n"
     ]
    }
   ],
   "source": [
    "# 2차원 테스트 => 최댓값, 최솟값\n",
    "# 1~100 사이에서 25개만 샘플 데이타 생성 => 5행, 5열 구조\n",
    "arr = np.random.randint(1, 100, (5,5))\n",
    "print(arr)\n",
    "print('각 컬럼의 최댓값은?',np.max(arr, axis=0))\n",
    "print('각 컬럼의 최댓값 인덱스 반환',np.argmax(arr, axis=0))"
   ]
  },
  {
   "cell_type": "markdown",
   "id": "f3b84c45",
   "metadata": {},
   "source": [
    "### 중앙값\n",
    "- np.median(넘파이배열명)"
   ]
  },
  {
   "cell_type": "code",
   "execution_count": 208,
   "id": "8c937acc",
   "metadata": {
    "scrolled": true
   },
   "outputs": [
    {
     "name": "stdout",
     "output_type": "stream",
     "text": [
      "[17 37 70 50 83 65 22 83 35]\n",
      "평균 = 51.333333333333336\n",
      "중앙값 = 50.0\n"
     ]
    }
   ],
   "source": [
    "# 1차원에서 중앙값 확인 \n",
    "arr = np.random.randint(1, 100, 9)\n",
    "print(arr)\n",
    "print('평균 =',np.mean(arr))\n",
    "print('중앙값 =',np.median(arr))"
   ]
  },
  {
   "cell_type": "code",
   "execution_count": 209,
   "id": "d3d51718",
   "metadata": {
    "scrolled": true
   },
   "outputs": [
    {
     "data": {
      "text/plain": [
       "array([17, 22, 35, 37, 50, 65, 70, 83, 83])"
      ]
     },
     "execution_count": 209,
     "metadata": {},
     "output_type": "execute_result"
    }
   ],
   "source": [
    "np.sort(arr)"
   ]
  },
  {
   "cell_type": "code",
   "execution_count": 217,
   "id": "46ca79cd",
   "metadata": {},
   "outputs": [
    {
     "name": "stdout",
     "output_type": "stream",
     "text": [
      "[12, 55, 66, 199, -90]\n",
      "[-90, 12, 55, 66, 199]\n",
      "None\n"
     ]
    }
   ],
   "source": [
    "# 리스트의 정렬\n",
    "# 리스트명. sort()\n",
    "# 원본에 바로 적용\n",
    "myList = [12, 55, 66, 199, -90]\n",
    "print(myList)\n",
    "myList.sort()\n",
    "print(myList)\n",
    "print(myList.sort())"
   ]
  },
  {
   "cell_type": "markdown",
   "id": "f353f346",
   "metadata": {},
   "source": [
    "### 정렬과 관련된 함수 이용하기\n",
    "- np.sort(배열1차) / 배열명.sort() : 오름차순\n",
    "- np.sort(배열1차)[::-1] : 내림차순\n",
    "- np.sort(배열2차, axis=0/1)\n",
    "    - np.sort(배열이름, axis=0) – 열방향으로 정렬하기\n",
    "    - np.sort(배열이름, axis=1) – 행방향으로 정렬하기\n",
    "    - np.flip(배열, axis=0 ) => 역순 뒤집기\n",
    "- np.argsort(배열2차, axis=0/1) - 정렬시 인덱스 위치값 표시"
   ]
  },
  {
   "cell_type": "code",
   "execution_count": 231,
   "id": "f0106e8e",
   "metadata": {},
   "outputs": [
    {
     "name": "stdout",
     "output_type": "stream",
     "text": [
      "[38 64 99 64 14 30 47 69 20 98]\n",
      "오름차순으로 정렬 : [14 20 30 38 47 64 64 69 98 99]\n",
      "내림차순으로 정렬 : [99 98 69 64 64 47 38 30 20 14]\n",
      "내림차순으로 정렬 : [99 98 69 64 64 47 38 30 20 14]\n"
     ]
    }
   ],
   "source": [
    "# 1차원에서 중앙값 확인 \n",
    "arr = np.random.randint(1, 100, 10)\n",
    "print(arr)\n",
    "print('오름차순으로 정렬 :',np.sort(arr))\n",
    "print('내림차순으로 정렬 :',np.sort(arr)[::-1])\n",
    "print('내림차순으로 정렬 :',np.flip(np.sort(arr)))"
   ]
  },
  {
   "cell_type": "code",
   "execution_count": 234,
   "id": "f1b33586",
   "metadata": {},
   "outputs": [
    {
     "name": "stdout",
     "output_type": "stream",
     "text": [
      "[[14 40  5 26  1]\n",
      " [95 56 84 56  4]\n",
      " [51 37 85 36 62]\n",
      " [50 24 96 50 38]\n",
      " [54 71 58 47 26]]\n",
      "컬럼 기준 => [264 228 328 215 131] [52.8 45.6 65.6 43.  26.2]\n",
      "행 기준 오름차순으로 정렬 : \n",
      " [[ 1  5 14 26 40]\n",
      " [ 4 56 56 84 95]\n",
      " [36 37 51 62 85]\n",
      " [24 38 50 50 96]\n",
      " [26 47 54 58 71]]\n",
      "컬럼 기준 오름차순으로 정렬 : \n",
      " [[14 24  5 26  1]\n",
      " [50 37 58 36  4]\n",
      " [51 40 84 47 26]\n",
      " [54 56 85 50 38]\n",
      " [95 71 96 56 62]]\n",
      "행 기준 오름차순으로 정렬 : \n",
      " [[ 1  5 14 26 40]\n",
      " [ 4 56 56 84 95]\n",
      " [36 37 51 62 85]\n",
      " [24 38 50 50 96]\n",
      " [26 47 54 58 71]]\n"
     ]
    }
   ],
   "source": [
    "# 2차원 배열의 합과 평균\n",
    "arr = np.random.randint(1, 100, (5,5))\n",
    "print(arr)\n",
    "print('컬럼 기준 =>',arr.sum(axis=0), arr.mean(axis=0))\n",
    "print('행 기준 오름차순으로 정렬 : \\n', np.sort(arr, axis=1))\n",
    "print('컬럼 기준 오름차순으로 정렬 : \\n', np.sort(arr, axis=0))\n",
    "print('행 기준 오름차순으로 정렬 : \\n', np.sort(arr, axis=1))"
   ]
  },
  {
   "cell_type": "code",
   "execution_count": 236,
   "id": "977f7d8d",
   "metadata": {},
   "outputs": [],
   "source": [
    "# 정렬시 인덱스 위치값 표시\n",
    "# np.argsort(배열2차, axis=0/1)"
   ]
  },
  {
   "cell_type": "code",
   "execution_count": 237,
   "id": "9fedd97f",
   "metadata": {},
   "outputs": [
    {
     "name": "stdout",
     "output_type": "stream",
     "text": [
      "[34 72 10 34  7 33 32 35 91 92]\n",
      "오름차순으로 정렬 :  [ 7 10 32 33 34 34 35 72 91 92]\n"
     ]
    },
    {
     "data": {
      "text/plain": [
       "array([4, 2, 6, 5, 0, 3, 7, 1, 8, 9], dtype=int64)"
      ]
     },
     "execution_count": 237,
     "metadata": {},
     "output_type": "execute_result"
    }
   ],
   "source": [
    "# 1차원 테스트 \n",
    "arr = np.random.randint(1, 100, size=10)\n",
    "print(arr) \n",
    "print('오름차순으로 정렬 : ', np.sort(arr))\n",
    "np.argsort(arr)"
   ]
  },
  {
   "cell_type": "code",
   "execution_count": 238,
   "id": "c7c50486",
   "metadata": {
    "scrolled": true
   },
   "outputs": [
    {
     "name": "stdout",
     "output_type": "stream",
     "text": [
      "[[ 3 87 73 22 29]\n",
      " [82 28 40 34 50]\n",
      " [98 94 19 22 76]\n",
      " [ 2 41 95 51  6]\n",
      " [76 41 74 94 84]]\n",
      "\n",
      "컬럼 기준 오름차순으로 정렬 : \n",
      " [[ 2 28 19 22  6]\n",
      " [ 3 41 40 22 29]\n",
      " [76 41 73 34 50]\n",
      " [82 87 74 51 76]\n",
      " [98 94 95 94 84]]\n"
     ]
    },
    {
     "data": {
      "text/plain": [
       "array([[3, 1, 2, 0, 3],\n",
       "       [0, 3, 1, 2, 0],\n",
       "       [4, 4, 0, 1, 1],\n",
       "       [1, 0, 4, 3, 2],\n",
       "       [2, 2, 3, 4, 4]], dtype=int64)"
      ]
     },
     "execution_count": 238,
     "metadata": {},
     "output_type": "execute_result"
    }
   ],
   "source": [
    "# 2차원  테스트 \n",
    "# 1~100 사이에서 25개만 샘플 데이타 생성 => 5행 5열 구조 \n",
    "arr = np.random.randint(1, 100, size=(5,5))\n",
    "print(arr) \n",
    "print()\n",
    "print('컬럼 기준 오름차순으로 정렬 : \\n', np.sort(arr, axis=0))\n",
    "np.argsort(arr, axis=0)"
   ]
  },
  {
   "cell_type": "markdown",
   "id": "b60ed441",
   "metadata": {},
   "source": [
    "## 배열 합치기 \n",
    "\n",
    "```\n",
    "np.vstack((배열1, 배열2)) : 행으로 합치기\n",
    "np.hstack((배열1, 배열2)) : 열로 합치기\n",
    "np.concatenate((배열1, 배열2, axis=1/0))\n",
    "np.append(배열1, 배열2, axis=1/0)\n",
    "```"
   ]
  },
  {
   "cell_type": "code",
   "execution_count": 239,
   "id": "cd018b99",
   "metadata": {},
   "outputs": [
    {
     "data": {
      "text/plain": [
       "(array([1, 2, 3, 4, 5]), array([11, 12, 13, 14, 15]))"
      ]
     },
     "execution_count": 239,
     "metadata": {},
     "output_type": "execute_result"
    }
   ],
   "source": [
    "arr_1 = np.arange(1, 6)\n",
    "arr_2 = np.arange(11, 16)\n",
    "arr_1, arr_2"
   ]
  },
  {
   "cell_type": "code",
   "execution_count": 242,
   "id": "8dc5e5f0",
   "metadata": {},
   "outputs": [
    {
     "data": {
      "text/plain": [
       "(array([[ 1,  2,  3,  4,  5],\n",
       "        [11, 12, 13, 14, 15]]),\n",
       " 2,\n",
       " (2, 5))"
      ]
     },
     "execution_count": 242,
     "metadata": {},
     "output_type": "execute_result"
    }
   ],
   "source": [
    "# 행으로 합치기\n",
    "# 1차원 + 1차원 => 2차원(2,5)\n",
    "arr_3 = np.vstack((arr_1, arr_2))\n",
    "arr_3, arr_3.ndim, arr_3.shape"
   ]
  },
  {
   "cell_type": "code",
   "execution_count": 241,
   "id": "29245025",
   "metadata": {},
   "outputs": [
    {
     "data": {
      "text/plain": [
       "(array([ 1,  2,  3,  4,  5, 11, 12, 13, 14, 15]), 1, (10,))"
      ]
     },
     "execution_count": 241,
     "metadata": {},
     "output_type": "execute_result"
    }
   ],
   "source": [
    "# 열로 합치기 \n",
    "# 1차원 (5,) + 1차원 (5,) => 1차원 (10,)\n",
    "arr_4 = np.hstack((arr_1, arr_2))\n",
    "arr_4, arr_4.ndim, arr_4.shape"
   ]
  },
  {
   "cell_type": "code",
   "execution_count": 243,
   "id": "9b72d9b3",
   "metadata": {
    "scrolled": true
   },
   "outputs": [
    {
     "name": "stdout",
     "output_type": "stream",
     "text": [
      "[[1 2 3]\n",
      " [4 5 6]]\n",
      "\n",
      "[[11 12 13]\n",
      " [14 15 16]]\n"
     ]
    }
   ],
   "source": [
    "# 2차원 배열로 합치기 테스트 \n",
    "arr_1 = np.arange(1, 7).reshape(2,3)\n",
    "arr_2 = np.arange(11, 17).reshape(2,3)\n",
    "print(arr_1)\n",
    "print()\n",
    "print(arr_2)"
   ]
  },
  {
   "cell_type": "code",
   "execution_count": 245,
   "id": "318a510b",
   "metadata": {},
   "outputs": [
    {
     "data": {
      "text/plain": [
       "(array([[ 1,  2,  3],\n",
       "        [ 4,  5,  6],\n",
       "        [11, 12, 13],\n",
       "        [14, 15, 16]]),\n",
       " 2,\n",
       " (4, 3))"
      ]
     },
     "execution_count": 245,
     "metadata": {},
     "output_type": "execute_result"
    }
   ],
   "source": [
    "# 행으로 합치기 \n",
    "# 2차원 (2,3) + 2차원 (2,3) => 2차원(4, 3)\n",
    "arr_3 = np.vstack((arr_1, arr_2))\n",
    "arr_3, arr_3.ndim, arr_3.shape"
   ]
  },
  {
   "cell_type": "code",
   "execution_count": 246,
   "id": "85ba7fab",
   "metadata": {},
   "outputs": [
    {
     "data": {
      "text/plain": [
       "(array([[ 1,  2,  3, 11, 12, 13],\n",
       "        [ 4,  5,  6, 14, 15, 16]]),\n",
       " 2,\n",
       " (2, 6))"
      ]
     },
     "execution_count": 246,
     "metadata": {},
     "output_type": "execute_result"
    }
   ],
   "source": [
    "# 열로 합치기 \n",
    "# 2차원 (2,3) + 2차원 (2,3) => 2차원(2,6)\n",
    "arr_4 = np.hstack((arr_1, arr_2))\n",
    "arr_4, arr_4.ndim, arr_4.shape"
   ]
  },
  {
   "cell_type": "code",
   "execution_count": 248,
   "id": "43a3054b",
   "metadata": {},
   "outputs": [
    {
     "data": {
      "text/plain": [
       "(array([1, 2, 3, 4, 5]), array([11, 12, 13, 14, 15]))"
      ]
     },
     "execution_count": 248,
     "metadata": {},
     "output_type": "execute_result"
    }
   ],
   "source": [
    "# concatenate()를 이용한 넘파이 배열 합치기\n",
    "# np.concatenate((배열1, 배열2), axis=1/0))\n",
    "# np.concatenate([배열1, 배열2], axis=1/0))\n",
    "# 1차원\n",
    "arr_1 = np.arange(1, 6)\n",
    "arr_2 = np.arange(11, 16)\n",
    "arr_1, arr_2"
   ]
  },
  {
   "cell_type": "code",
   "execution_count": 249,
   "id": "5c41570c",
   "metadata": {},
   "outputs": [
    {
     "data": {
      "text/plain": [
       "array([ 1,  2,  3,  4,  5, 11, 12, 13, 14, 15])"
      ]
     },
     "execution_count": 249,
     "metadata": {},
     "output_type": "execute_result"
    }
   ],
   "source": [
    "np.concatenate((arr_1, arr_2), axis=0)"
   ]
  },
  {
   "cell_type": "code",
   "execution_count": 252,
   "id": "c8f2481b",
   "metadata": {
    "scrolled": true
   },
   "outputs": [],
   "source": [
    "# np.concatenate((arr_1, arr_2), axis=1)\n",
    "# 1차원 + 1차원 != 2차원\n",
    "#A xisError: axis 1 is out of bounds for array of dimension 1"
   ]
  },
  {
   "cell_type": "code",
   "execution_count": 255,
   "id": "71ec8f69",
   "metadata": {
    "scrolled": true
   },
   "outputs": [
    {
     "name": "stdout",
     "output_type": "stream",
     "text": [
      "[[1 2 3]\n",
      " [4 5 6]]\n",
      "\n",
      "[[11 12 13]\n",
      " [14 15 16]]\n"
     ]
    },
    {
     "data": {
      "text/plain": [
       "array([[ 1,  2,  3, 11, 12, 13],\n",
       "       [ 4,  5,  6, 14, 15, 16]])"
      ]
     },
     "execution_count": 255,
     "metadata": {},
     "output_type": "execute_result"
    }
   ],
   "source": [
    "# 2차원 배열로 합치기 테스트 \n",
    "arr_1 = np.arange(1, 7).reshape(2,3)\n",
    "arr_2 = np.arange(11, 17).reshape(2,3)\n",
    "print(arr_1)\n",
    "print()\n",
    "print(arr_2)\n",
    "np.concatenate((arr_1, arr_2), axis=1)"
   ]
  },
  {
   "cell_type": "markdown",
   "id": "b3841401",
   "metadata": {},
   "source": [
    "### 리스트의 append(), insert()"
   ]
  },
  {
   "cell_type": "code",
   "execution_count": 260,
   "id": "0186d9b1",
   "metadata": {},
   "outputs": [
    {
     "data": {
      "text/plain": [
       "[1, 2, 3, 4, 5]"
      ]
     },
     "execution_count": 260,
     "metadata": {},
     "output_type": "execute_result"
    }
   ],
   "source": [
    "myList = list(range(1,6))\n",
    "myList"
   ]
  },
  {
   "cell_type": "code",
   "execution_count": 261,
   "id": "7a309a9f",
   "metadata": {},
   "outputs": [
    {
     "name": "stdout",
     "output_type": "stream",
     "text": [
      "None\n",
      "[1, 2, 3, 4, 5, 100]\n"
     ]
    }
   ],
   "source": [
    "print(myList.append(100))\n",
    "print(myList)"
   ]
  },
  {
   "cell_type": "code",
   "execution_count": 263,
   "id": "22e19207",
   "metadata": {},
   "outputs": [
    {
     "data": {
      "text/plain": [
       "[-999, 1, 2, 3, 4, 5, 100]"
      ]
     },
     "execution_count": 263,
     "metadata": {},
     "output_type": "execute_result"
    }
   ],
   "source": [
    "# 첫밴째 위치에 값 삽입\n",
    "myList.insert(0,-999)\n",
    "myList"
   ]
  },
  {
   "cell_type": "code",
   "execution_count": 264,
   "id": "38102c14",
   "metadata": {
    "scrolled": true
   },
   "outputs": [
    {
     "data": {
      "text/plain": [
       "[-999, 1, 2, 3, 4, 5, 100, -999]"
      ]
     },
     "execution_count": 264,
     "metadata": {},
     "output_type": "execute_result"
    }
   ],
   "source": [
    "# 마지막 위치에 값 삽입 \n",
    "myList.insert(len(myList), -999)\n",
    "myList"
   ]
  },
  {
   "cell_type": "markdown",
   "id": "d2ecdba7",
   "metadata": {},
   "source": [
    "### 넘파이의 append(), insert()"
   ]
  },
  {
   "cell_type": "code",
   "execution_count": 283,
   "id": "074337da",
   "metadata": {},
   "outputs": [
    {
     "data": {
      "text/plain": [
       "array([1, 2, 3, 4, 5])"
      ]
     },
     "execution_count": 283,
     "metadata": {},
     "output_type": "execute_result"
    }
   ],
   "source": [
    "arr = np.arange(1,6)\n",
    "arr"
   ]
  },
  {
   "cell_type": "code",
   "execution_count": 284,
   "id": "c1369bb6",
   "metadata": {},
   "outputs": [
    {
     "data": {
      "text/plain": [
       "array([100,   1,   2,   3,   4,   5])"
      ]
     },
     "execution_count": 284,
     "metadata": {},
     "output_type": "execute_result"
    }
   ],
   "source": [
    "# insert()릴 이용한 값 추가\n",
    "np.insert(arr,0, 100)"
   ]
  },
  {
   "cell_type": "code",
   "execution_count": 285,
   "id": "cf6152c3",
   "metadata": {},
   "outputs": [
    {
     "data": {
      "text/plain": [
       "array([100,   1,   2,   3,   4,   5])"
      ]
     },
     "execution_count": 285,
     "metadata": {},
     "output_type": "execute_result"
    }
   ],
   "source": [
    "# 원본 배열에 적용\n",
    "arr = np.insert(arr,0, 100)\n",
    "arr"
   ]
  },
  {
   "cell_type": "code",
   "execution_count": 286,
   "id": "24767985",
   "metadata": {},
   "outputs": [
    {
     "data": {
      "text/plain": [
       "array([100,   1,   2,   3,   4,   5, 100])"
      ]
     },
     "execution_count": 286,
     "metadata": {},
     "output_type": "execute_result"
    }
   ],
   "source": [
    "# 마지막 위치에 값을 추가해서 배열에 적용\n",
    "arr = np.insert(arr, len(arr), 100)\n",
    "arr"
   ]
  },
  {
   "cell_type": "code",
   "execution_count": 287,
   "id": "46772e9c",
   "metadata": {},
   "outputs": [
    {
     "data": {
      "text/plain": [
       "array([100,   1,   2,   3,   4,   5, 100, -88])"
      ]
     },
     "execution_count": 287,
     "metadata": {},
     "output_type": "execute_result"
    }
   ],
   "source": [
    "# append()를 이용한 값 추가\n",
    "# np.append(배열명, 값)\n",
    "arr = np.append(arr, -88)\n",
    "arr"
   ]
  },
  {
   "cell_type": "code",
   "execution_count": 289,
   "id": "a0568d86",
   "metadata": {},
   "outputs": [
    {
     "data": {
      "text/plain": [
       "array([100,   1,   2,   3,   4,   5, 100, -88, 100, 200, 300])"
      ]
     },
     "execution_count": 289,
     "metadata": {},
     "output_type": "execute_result"
    }
   ],
   "source": [
    "# np.append(배열명, [값1, 값2 ....])\n",
    "arr = np.append(arr, [100, 200, 300])\n",
    "arr"
   ]
  },
  {
   "cell_type": "code",
   "execution_count": 291,
   "id": "70ba543e",
   "metadata": {},
   "outputs": [
    {
     "data": {
      "text/plain": [
       "array([ 1,  2,  3,  4,  5, 11, 12, 13, 14, 15])"
      ]
     },
     "execution_count": 291,
     "metadata": {},
     "output_type": "execute_result"
    }
   ],
   "source": [
    "# 서로 다른 1차원 배열 합치기 - append() 활용\n",
    "arr_1 = np.arange(1, 6)\n",
    "arr_2 = np.arange(11, 16)\n",
    "arr_3 = np.append(arr_1, arr_2)\n",
    "# arr_3 = np.append(arr_1, arr_2, axis=0)\n",
    "arr_3"
   ]
  },
  {
   "cell_type": "code",
   "execution_count": null,
   "id": "f9363a04",
   "metadata": {},
   "outputs": [],
   "source": [
    "# AxisError: axis 1 is out of bounds for array of dimension 1\n",
    "# 1차원 + 1차원 != 2차원\n",
    "# np.append(arr_1, arr_2, axis=1)"
   ]
  },
  {
   "cell_type": "code",
   "execution_count": 294,
   "id": "267f2cd3",
   "metadata": {
    "scrolled": true
   },
   "outputs": [
    {
     "name": "stdout",
     "output_type": "stream",
     "text": [
      "[[1 2 3]\n",
      " [4 5 6]]\n",
      "\n",
      "[[11 12 13]\n",
      " [14 15 16]]\n",
      "\n",
      "[[ 1  2  3]\n",
      " [ 4  5  6]\n",
      " [11 12 13]\n",
      " [14 15 16]]\n",
      "\n",
      "[[ 1  2  3 11 12 13]\n",
      " [ 4  5  6 14 15 16]]\n",
      "\n",
      "[ 1  2  3  4  5  6 11 12 13 14 15 16]\n"
     ]
    }
   ],
   "source": [
    "# 2차원 배열로 합치기 테스트 - append() 활용 \n",
    "arr_1 = np.arange(1, 7).reshape(2,3)\n",
    "arr_2 = np.arange(11, 17).reshape(2,3)\n",
    "print(arr_1)\n",
    "print()\n",
    "print(arr_2)\n",
    "arr_3 = np.append(arr_1, arr_2, axis=0)\n",
    "print()\n",
    "print(arr_3)\n",
    "arr_4 = np.append(arr_1, arr_2, axis=1)\n",
    "print()\n",
    "print(arr_4)\n",
    "# 2차원 + 2차원 인데 축 지정을 하지 않는다면? => 1차원\n",
    "arr_5 = np.append(arr_1, arr_2)\n",
    "print()\n",
    "print(arr_5)"
   ]
  },
  {
   "cell_type": "markdown",
   "id": "547d701f",
   "metadata": {},
   "source": [
    "### 배열 분할 \n",
    "\n",
    "```\n",
    "배열명1, 배열명2 ... = np.split(분할배열명, [v1, v2 ...]) : 특정값을 기준으로 배열 분할\n",
    "배열명1, 배열명2 ... = np.vsplit(분할배열명, [index]) : 수직 분할, 1차원으로 분할. 인덱스는 0 제외\n",
    "배열명1, 배열명2 ... = np.hsplit(분할배열명, [index]) : 배열 분할, 2차원으로 분할. 인덱스는 0 제외\n",
    "```"
   ]
  },
  {
   "cell_type": "code",
   "execution_count": 299,
   "id": "0771eb1e",
   "metadata": {},
   "outputs": [
    {
     "data": {
      "text/plain": [
       "array([0, 1, 2, 3, 4, 5, 6, 7, 8, 9])"
      ]
     },
     "execution_count": 299,
     "metadata": {},
     "output_type": "execute_result"
    }
   ],
   "source": [
    "arr = np.arange(10)\n",
    "arr"
   ]
  },
  {
   "cell_type": "code",
   "execution_count": 300,
   "id": "adf659dc",
   "metadata": {},
   "outputs": [
    {
     "data": {
      "text/plain": [
       "[array([0, 1, 2, 3, 4]), array([5, 6, 7, 8, 9])]"
      ]
     },
     "execution_count": 300,
     "metadata": {},
     "output_type": "execute_result"
    }
   ],
   "source": [
    "# 2개의 배열로 분할 - 0~4, 5~9\n",
    "np.split(arr, [5])"
   ]
  },
  {
   "cell_type": "code",
   "execution_count": 303,
   "id": "f7af398c",
   "metadata": {},
   "outputs": [
    {
     "name": "stdout",
     "output_type": "stream",
     "text": [
      "100\n",
      "200\n",
      "300\n"
     ]
    }
   ],
   "source": [
    "# 파이썬의 변수값 할당\n",
    "x, y, z = 100, 200, 300\n",
    "print(x)\n",
    "print(y)\n",
    "print(z)\n"
   ]
  },
  {
   "cell_type": "code",
   "execution_count": 305,
   "id": "5bde49e1",
   "metadata": {},
   "outputs": [
    {
     "name": "stdout",
     "output_type": "stream",
     "text": [
      "[0 1 2 3 4 5 6 7 8 9]\n",
      "[0 1 2 3 4]\n",
      "[5 6 7 8 9]\n"
     ]
    }
   ],
   "source": [
    "# 2개의 배열로 분할한 후 각 배열로 할당  \n",
    "arr_a, arr_b = np.split(arr, [5])\n",
    "print(arr)\n",
    "print(arr_a)\n",
    "print(arr_b)"
   ]
  },
  {
   "cell_type": "code",
   "execution_count": 306,
   "id": "7831d78d",
   "metadata": {},
   "outputs": [
    {
     "name": "stdout",
     "output_type": "stream",
     "text": [
      "[0 1 2 3 4 5 6 7 8 9]\n",
      "[0 1]\n",
      "[2 3 4]\n",
      "[5 6 7]\n",
      "[8 9]\n"
     ]
    }
   ],
   "source": [
    "# 4개의 배열로 분할한 후 각 배열로 할당  \n",
    "arr_a, arr_b, arr_c, arr_d = np.split(arr, [2, 5, 8])\n",
    "print(arr)\n",
    "print(arr_a)\n",
    "print(arr_b)\n",
    "print(arr_c)\n",
    "print(arr_d)"
   ]
  },
  {
   "cell_type": "code",
   "execution_count": 307,
   "id": "52b56fe1",
   "metadata": {},
   "outputs": [
    {
     "data": {
      "text/plain": [
       "array([[1, 2, 3],\n",
       "       [4, 5, 6],\n",
       "       [7, 8, 9]])"
      ]
     },
     "execution_count": 307,
     "metadata": {},
     "output_type": "execute_result"
    }
   ],
   "source": [
    "# 2차원 테스트\n",
    "arr = np.arange(1,10).reshape(3,3)\n",
    "arr"
   ]
  },
  {
   "cell_type": "code",
   "execution_count": 309,
   "id": "d79c7ca9",
   "metadata": {},
   "outputs": [
    {
     "name": "stdout",
     "output_type": "stream",
     "text": [
      "[[1 2 3]\n",
      " [4 5 6]\n",
      " [7 8 9]]\n",
      "\n",
      "[[1 2 3]]\n",
      "\n",
      "[[4 5 6]\n",
      " [7 8 9]]\n"
     ]
    }
   ],
   "source": [
    "# np.vsplit(분할배열명, [index])\n",
    "arr_a, arr_b = np.vsplit(arr, [1])\n",
    "print(arr)\n",
    "print()\n",
    "print(arr_a)\n",
    "print()\n",
    "print(arr_b)"
   ]
  },
  {
   "cell_type": "code",
   "execution_count": null,
   "id": "4c0a7160",
   "metadata": {},
   "outputs": [],
   "source": []
  },
  {
   "cell_type": "code",
   "execution_count": 310,
   "id": "ec9ac138",
   "metadata": {
    "scrolled": true
   },
   "outputs": [
    {
     "name": "stdout",
     "output_type": "stream",
     "text": [
      "[[1 2 3]\n",
      " [4 5 6]\n",
      " [7 8 9]]\n",
      "\n",
      "[[1]\n",
      " [4]\n",
      " [7]]\n",
      "\n",
      "[[2 3]\n",
      " [5 6]\n",
      " [8 9]]\n"
     ]
    }
   ],
   "source": [
    "# np.hsplit(분할배열명, [index])\n",
    "arr_a, arr_b = np.hsplit(arr, [1])\n",
    "print(arr)\n",
    "print()\n",
    "print(arr_a)\n",
    "print()\n",
    "print(arr_b)"
   ]
  },
  {
   "cell_type": "code",
   "execution_count": 312,
   "id": "ca97bef8",
   "metadata": {
    "scrolled": true
   },
   "outputs": [
    {
     "name": "stdout",
     "output_type": "stream",
     "text": [
      "[[1 2 3]\n",
      " [4 5 6]\n",
      " [7 8 9]]\n",
      "\n",
      "[[1]\n",
      " [4]\n",
      " [7]]\n",
      "\n",
      "[[2]\n",
      " [5]\n",
      " [8]]\n",
      "\n",
      "[[3]\n",
      " [6]\n",
      " [9]]\n"
     ]
    }
   ],
   "source": [
    "# np.hsplit(분할배열명, [index])\n",
    "arr_a, arr_b, arr_c = np.hsplit(arr, [1, 2])\n",
    "print(arr)\n",
    "print()\n",
    "print(arr_a)\n",
    "print()\n",
    "print(arr_b)\n",
    "print()\n",
    "print(arr_c)"
   ]
  },
  {
   "cell_type": "markdown",
   "id": "9ea7805d",
   "metadata": {},
   "source": [
    "### 중복값 제거하기\n",
    "- set(리스트) \n",
    "- np.unique(넘파배열명)"
   ]
  },
  {
   "cell_type": "code",
   "execution_count": 317,
   "id": "e444e0fc",
   "metadata": {},
   "outputs": [
    {
     "name": "stdout",
     "output_type": "stream",
     "text": [
      "[1, 2, 3, 4, 5, 6, 5, 8, 8] 9\n",
      "[1, 2, 3, 4, 5, 6, 8] 7\n"
     ]
    }
   ],
   "source": [
    "# 중복값이 있는 리스트\n",
    "myList = [1, 2, 3, 4, 5, 6, 5, 8, 8]\n",
    "print(myList, len(myList))\n",
    "\n",
    "# 집합 구조로 변경 : 리스트 => 집합 => 리스트\n",
    "myList2 = list(set(myList))\n",
    "print(myList2, len(myList2))"
   ]
  },
  {
   "cell_type": "code",
   "execution_count": 316,
   "id": "d015e8d7",
   "metadata": {},
   "outputs": [
    {
     "name": "stdout",
     "output_type": "stream",
     "text": [
      "[1 2 3 4 5 6 5 8 8] 9\n",
      "[1 2 3 4 5 6 8] 7\n"
     ]
    }
   ],
   "source": [
    "# 넘파이배열의 중복값 제거\n",
    "arr = np.array([1, 2, 3, 4, 5, 6, 5, 8, 8])\n",
    "print(arr, len(arr))\n",
    "\n",
    "# 중복값 제거\n",
    "arr2 = np.unique(arr)\n",
    "print(arr2, len(arr2))"
   ]
  },
  {
   "cell_type": "code",
   "execution_count": 318,
   "id": "1d4bfd86",
   "metadata": {},
   "outputs": [
    {
     "data": {
      "text/plain": [
       "array([-91, -89,  59,  57, -97,  52,  14,  12,  47, -97])"
      ]
     },
     "execution_count": 318,
     "metadata": {},
     "output_type": "execute_result"
    }
   ],
   "source": [
    "# 1차원 테스트\n",
    "arr = np.random.randint(-100, 100, 10)\n",
    "arr"
   ]
  },
  {
   "cell_type": "markdown",
   "id": "8d318a85",
   "metadata": {},
   "source": [
    "### 비교와 논리 연산"
   ]
  },
  {
   "cell_type": "code",
   "execution_count": 325,
   "id": "0b60c60d",
   "metadata": {},
   "outputs": [
    {
     "data": {
      "text/plain": [
       "array([ 87,  18, -50,  37,  57,  61, -51,   7,  63, -81])"
      ]
     },
     "execution_count": 325,
     "metadata": {},
     "output_type": "execute_result"
    }
   ],
   "source": [
    "# 1차원 테스트 \n",
    "arr = np.random.randint(-100, 100, 10)\n",
    "arr"
   ]
  },
  {
   "cell_type": "code",
   "execution_count": 326,
   "id": "048d24c9",
   "metadata": {
    "scrolled": true
   },
   "outputs": [
    {
     "data": {
      "text/plain": [
       "array([ True,  True, False,  True,  True,  True, False,  True,  True,\n",
       "       False])"
      ]
     },
     "execution_count": 326,
     "metadata": {},
     "output_type": "execute_result"
    }
   ],
   "source": [
    "# 음수일 경우 False, 양수이거나 0인 경우 True\n",
    "arr >= 0"
   ]
  },
  {
   "cell_type": "code",
   "execution_count": 329,
   "id": "9bf559bf",
   "metadata": {
    "scrolled": true
   },
   "outputs": [
    {
     "data": {
      "text/plain": [
       "array([[ 50, -29,  80],\n",
       "       [-75, -20, -61],\n",
       "       [-79,  52,  21]])"
      ]
     },
     "execution_count": 329,
     "metadata": {},
     "output_type": "execute_result"
    }
   ],
   "source": [
    "# 2차원 테스트 \n",
    "# arr = np.random.randint(-100, 100, 9).reshape(3,3)\n",
    "arr = np.random.randint(-100, 100,(3,3))\n",
    "arr"
   ]
  },
  {
   "cell_type": "code",
   "execution_count": 330,
   "id": "3e1616a1",
   "metadata": {
    "scrolled": true
   },
   "outputs": [
    {
     "data": {
      "text/plain": [
       "array([[ True, False,  True],\n",
       "       [False, False, False],\n",
       "       [False,  True,  True]])"
      ]
     },
     "execution_count": 330,
     "metadata": {},
     "output_type": "execute_result"
    }
   ],
   "source": [
    "# 음수일 경우 False, 양수이거나 0인 경우 True\n",
    "arr >= 0"
   ]
  },
  {
   "cell_type": "markdown",
   "id": "ee9a9c8b",
   "metadata": {},
   "source": [
    "### All & Any\n",
    "- 넘파이배열을 이용한 조건식 => True/False 배열수만큼 리턴\n",
    "- np.all(조건식) => 모든 값이 조건식에 만족 => True (And)\n",
    "- np.any(조건식) => 값 중 하나만 만족 => True (Or)"
   ]
  },
  {
   "cell_type": "code",
   "execution_count": 339,
   "id": "46f5a4b2",
   "metadata": {},
   "outputs": [
    {
     "name": "stdout",
     "output_type": "stream",
     "text": [
      "[False False False False  True]\n",
      "True\n",
      "[ True  True  True  True False]\n",
      "False\n"
     ]
    }
   ],
   "source": [
    "arr = np.array([-76, -93, -17, -59, 81])\n",
    "\n",
    "# 배열 중 양수가 하나라도 존재한는가?\n",
    "print(arr > 0)\n",
    "print(np.any(arr > 0))\n",
    "# 배열 값은 모두 음수인가?\n",
    "print(arr < 0)\n",
    "print(np.all(arr < 0))"
   ]
  },
  {
   "cell_type": "code",
   "execution_count": 340,
   "id": "4548e83f",
   "metadata": {},
   "outputs": [
    {
     "data": {
      "text/plain": [
       "array([[-81, -37, -21],\n",
       "       [-63, -97,  -5]])"
      ]
     },
     "execution_count": 340,
     "metadata": {},
     "output_type": "execute_result"
    }
   ],
   "source": [
    "# 2차원 테스트 - 모두 음수\n",
    "arr = np.array([[-81, -37, -21], [-63, -97, -5]])\n",
    "arr"
   ]
  },
  {
   "cell_type": "code",
   "execution_count": 346,
   "id": "86a9dc35",
   "metadata": {},
   "outputs": [
    {
     "name": "stdout",
     "output_type": "stream",
     "text": [
      "\n",
      "[[ True  True  True]\n",
      " [ True  True  True]]\n",
      "True\n",
      "\n",
      "[[False False False]\n",
      " [False False False]]\n",
      "False\n"
     ]
    }
   ],
   "source": [
    "# 배열 값은 모두 음수인가?\n",
    "print()\n",
    "print(arr < 0)\n",
    "print(np.all(arr < 0))\n",
    "print()\n",
    "# 배열 중 양수가 하나라도 존재한는가?\n",
    "print(arr > 0)\n",
    "print(np.any(arr > 0))"
   ]
  },
  {
   "cell_type": "markdown",
   "id": "ec19cd02",
   "metadata": {},
   "source": [
    "### 두 개의 넘파이 배열의 비교"
   ]
  },
  {
   "cell_type": "code",
   "execution_count": 349,
   "id": "dbf8c772",
   "metadata": {},
   "outputs": [
    {
     "data": {
      "text/plain": [
       "array([False, False,  True, False,  True])"
      ]
     },
     "execution_count": 349,
     "metadata": {},
     "output_type": "execute_result"
    }
   ],
   "source": [
    "arr_a = np.array([1, 1, 3, 4, 5])\n",
    "arr_b = np.array([3, 3, 3, 0, 5])\n",
    "# 같은 위치를 기준으로 값이 같으면 True\n",
    "arr_a == arr_b"
   ]
  },
  {
   "cell_type": "markdown",
   "id": "416f21c7",
   "metadata": {},
   "source": [
    "### 논리 연산 함수\n",
    "- np.logical_and (조건식1, 조건식2)\n",
    "- np.logical_not (조건식)\n",
    "- np.logical_or (조건식1, 조건식2)"
   ]
  },
  {
   "cell_type": "code",
   "execution_count": 353,
   "id": "6fe8060c",
   "metadata": {},
   "outputs": [
    {
     "data": {
      "text/plain": [
       "array([False, False, False,  True, False])"
      ]
     },
     "execution_count": 353,
     "metadata": {},
     "output_type": "execute_result"
    }
   ],
   "source": [
    "arr = np.array([7, 93, 10, 59, 81])\n",
    "np.logical_and(arr>10, arr<60)"
   ]
  },
  {
   "cell_type": "code",
   "execution_count": 354,
   "id": "245f2f7f",
   "metadata": {},
   "outputs": [
    {
     "data": {
      "text/plain": [
       "array([ True,  True, False, False,  True])"
      ]
     },
     "execution_count": 354,
     "metadata": {},
     "output_type": "execute_result"
    }
   ],
   "source": [
    "np.logical_or(arr<10, arr>60)"
   ]
  },
  {
   "cell_type": "code",
   "execution_count": 355,
   "id": "bff76ad2",
   "metadata": {},
   "outputs": [
    {
     "data": {
      "text/plain": [
       "array([ True,  True, False,  True,  True])"
      ]
     },
     "execution_count": 355,
     "metadata": {},
     "output_type": "execute_result"
    }
   ],
   "source": [
    "np.logical_not(arr == 10)"
   ]
  },
  {
   "cell_type": "markdown",
   "id": "0a89e5e5",
   "metadata": {},
   "source": [
    "### np.where()\n",
    "- np.where(조건식, True, False) : 조건식에 만족하면 True 해당하는 값 표시, 그렇지 않으면 False에 해당하는 값 표시\n",
    "- np.where(조건식) : 조건식에 만족하면 값 표시"
   ]
  },
  {
   "cell_type": "code",
   "execution_count": 356,
   "id": "aaa7fd57",
   "metadata": {},
   "outputs": [
    {
     "data": {
      "text/plain": [
       "array(['참', '참', '거짓', '거짓', '참'], dtype='<U2')"
      ]
     },
     "execution_count": 356,
     "metadata": {},
     "output_type": "execute_result"
    }
   ],
   "source": [
    "arr = np.array([7, 93, -10, -59, 81])\n",
    "# 양수면 참, 음수면 거짓\n",
    "np.where(arr>0, '참', '거짓')"
   ]
  },
  {
   "cell_type": "code",
   "execution_count": 359,
   "id": "eb50c064",
   "metadata": {
    "scrolled": true
   },
   "outputs": [
    {
     "name": "stdout",
     "output_type": "stream",
     "text": [
      "(array([0, 1, 4], dtype=int64),)\n",
      "[ 7 93 81]\n"
     ]
    }
   ],
   "source": [
    "# 넘파이 배열에서 조건식에 만족하는 값의 인덱스가 반환\n",
    "arr = np.array([7, 93, -10, -59, 81])\n",
    "# 조건에 만족하는 인덱스가 반환\n",
    "print(np.where(arr>0))\n",
    "# 실제값은?\n",
    "print(arr[np.where(arr>0)])"
   ]
  },
  {
   "cell_type": "markdown",
   "id": "ef58063c",
   "metadata": {},
   "source": [
    "###  np.NaN 과 np.isnan()\n",
    "- 넘파이배열에서 Null 값은? np.NaN\n",
    "- np.isnan(넘파이배열명)\n",
    "- Null 값인지 True / False로 표시"
   ]
  },
  {
   "cell_type": "code",
   "execution_count": 360,
   "id": "05da5048",
   "metadata": {},
   "outputs": [
    {
     "data": {
      "text/plain": [
       "(nan, float)"
      ]
     },
     "execution_count": 360,
     "metadata": {},
     "output_type": "execute_result"
    }
   ],
   "source": [
    "np.NaN, type(np.NaN)"
   ]
  },
  {
   "cell_type": "code",
   "execution_count": 361,
   "id": "2862b776",
   "metadata": {},
   "outputs": [
    {
     "data": {
      "text/plain": [
       "array([ 7., 93., nan, nan, 81.])"
      ]
     },
     "execution_count": 361,
     "metadata": {},
     "output_type": "execute_result"
    }
   ],
   "source": [
    "# np.NaN 이 삽입된 넘파이 배열 생성 \n",
    "arr = np.array([ 7, 93, np.NaN, np.NaN, 81])\n",
    "arr"
   ]
  },
  {
   "cell_type": "code",
   "execution_count": 362,
   "id": "d2b67652",
   "metadata": {},
   "outputs": [
    {
     "data": {
      "text/plain": [
       "array([False, False, False, False, False])"
      ]
     },
     "execution_count": 362,
     "metadata": {},
     "output_type": "execute_result"
    }
   ],
   "source": [
    "# np.NaN 값은 비교연산자를 적용할 수 없다.\n",
    "arr == np.NaN"
   ]
  },
  {
   "cell_type": "code",
   "execution_count": 364,
   "id": "3cf044ff",
   "metadata": {},
   "outputs": [
    {
     "data": {
      "text/plain": [
       "array([False, False,  True,  True, False])"
      ]
     },
     "execution_count": 364,
     "metadata": {},
     "output_type": "execute_result"
    }
   ],
   "source": [
    "# nan 이면 True, 아니면 False\n",
    "np.isnan(arr)"
   ]
  },
  {
   "cell_type": "code",
   "execution_count": 365,
   "id": "6606b37f",
   "metadata": {},
   "outputs": [
    {
     "data": {
      "text/plain": [
       "array([nan, nan])"
      ]
     },
     "execution_count": 365,
     "metadata": {},
     "output_type": "execute_result"
    }
   ],
   "source": [
    "# 배열에 다시 적용 = 배열명[np.isnan(배열명)]\n",
    "arr[np.isnan(arr)]"
   ]
  },
  {
   "cell_type": "markdown",
   "id": "ee382cca",
   "metadata": {},
   "source": [
    "### 넘파이의 인덱싱\n",
    "- 일반 인덱싱\n",
    "    - 넘파이배열[행, 열], 넘파이배열[행][열]\n",
    "\n",
    "- 불린 인덱싱 (Boolean Indexing)\n",
    "    - 넘파이배열[조건식]\n",
    "\n",
    "- 팬시 인덱싱 (Fancy Indexing)\n",
    "    - 넘파이배열[ 넘파이정수배열 ]"
   ]
  },
  {
   "cell_type": "code",
   "execution_count": 368,
   "id": "37860522",
   "metadata": {},
   "outputs": [
    {
     "name": "stdout",
     "output_type": "stream",
     "text": [
      "[29 10 63 56 46 50 33 79 70 58]\n",
      "10\n"
     ]
    }
   ],
   "source": [
    "# 일반 인덱싱 - 1차원\n",
    "arr = np.random.randint(1, 100, 10)\n",
    "print(arr)\n",
    "print(arr[1])"
   ]
  },
  {
   "cell_type": "code",
   "execution_count": 391,
   "id": "39e486e8",
   "metadata": {
    "scrolled": false
   },
   "outputs": [
    {
     "name": "stdout",
     "output_type": "stream",
     "text": [
      "[False False  True  True False  True False  True  True  True]\n",
      "[63 56 50 79 70 58]\n"
     ]
    }
   ],
   "source": [
    "# 불린 인덱싱 : 넘파이배열[조건식] - 1차원\n",
    "# 조건식에서 True인 값만 출력\n",
    "# 50이상의 값만 추출하려면?\n",
    "print(arr>=50)\n",
    "print(arr[arr>=50])"
   ]
  },
  {
   "cell_type": "code",
   "execution_count": 394,
   "id": "e31fbdce",
   "metadata": {},
   "outputs": [
    {
     "name": "stdout",
     "output_type": "stream",
     "text": [
      "[[84 65 42]\n",
      " [44 87 53]\n",
      " [97 79 49]]\n",
      "87 87\n"
     ]
    }
   ],
   "source": [
    "# 일반 인덱싱 - 2차원\n",
    "arr = np.random.randint(1, 100, (3,3))\n",
    "print(arr)\n",
    "print(arr[1,1], arr[1][1])"
   ]
  },
  {
   "cell_type": "code",
   "execution_count": 395,
   "id": "d5e16455",
   "metadata": {
    "scrolled": true
   },
   "outputs": [
    {
     "name": "stdout",
     "output_type": "stream",
     "text": [
      "[[ True  True False]\n",
      " [False  True  True]\n",
      " [ True  True False]]\n",
      "[84 65 87 53 97 79]\n"
     ]
    }
   ],
   "source": [
    "# 불린 인덱싱 : 넘파이배열[조건식] - 2차원\n",
    "# 조건식에서 True인 값만 출력\n",
    "# 50이상의 값만 추출하려면?\n",
    "print(arr>=50)\n",
    "print(arr[arr>=50])"
   ]
  },
  {
   "cell_type": "markdown",
   "id": "41a464df",
   "metadata": {},
   "source": [
    "### 넘파이 배열의 논리 연산자 \n",
    "- |(or 연산자), &(and 연산자), ~(not 연산자) 가능"
   ]
  },
  {
   "cell_type": "code",
   "execution_count": 399,
   "id": "09951237",
   "metadata": {},
   "outputs": [
    {
     "name": "stdout",
     "output_type": "stream",
     "text": [
      "False\n",
      "True\n",
      "False\n"
     ]
    }
   ],
   "source": [
    "# 파이썬의 논리 연산자\n",
    "x = 100\n",
    "# 50 < x < 70\n",
    "print((x>50) and (x<70))\n",
    "print((x>50) or (x<70))\n",
    "print(not(x>50))"
   ]
  },
  {
   "cell_type": "code",
   "execution_count": 415,
   "id": "1ddaec9f",
   "metadata": {},
   "outputs": [
    {
     "name": "stdout",
     "output_type": "stream",
     "text": [
      "[ -4  48  -1  90   9  26 -84  43 -62  33]\n",
      "[False  True False  True  True  True False  True False  True]\n",
      "[48 90  9 26 43 33]\n"
     ]
    }
   ],
   "source": [
    "# 넘파이 배열의 논리연산자\n",
    "arr = np.random.randint(-100, 100, 10)\n",
    "print(arr)\n",
    "print(arr>0)\n",
    "print(arr[arr>0])"
   ]
  },
  {
   "cell_type": "code",
   "execution_count": 423,
   "id": "9675cf23",
   "metadata": {},
   "outputs": [
    {
     "name": "stdout",
     "output_type": "stream",
     "text": [
      "[False False False False  True False False False False False]\n",
      "[9]\n"
     ]
    }
   ],
   "source": [
    "# 1~10 사이의 숫자만\n",
    "# ValueError: The truth value of an array with more than one element is ambiguous.\n",
    "# Use a.any() or a.all()\n",
    "# print((arr>1) and (arr<=10))\n",
    "print((arr>1) & (arr<=10))\n",
    "print(arr[(arr>1) & (arr<=10)])"
   ]
  },
  {
   "cell_type": "code",
   "execution_count": 428,
   "id": "ac37926c",
   "metadata": {},
   "outputs": [
    {
     "name": "stdout",
     "output_type": "stream",
     "text": [
      "[False  True False  True False  True  True  True False  True]\n",
      "[ 48  90  26 -84  43  33]\n"
     ]
    }
   ],
   "source": [
    "# 50보다 크거나 -70보다 작거나\n",
    "print((arr>=10) | (arr<=-70))\n",
    "print(arr[(arr>=10) | (arr<=-70)])"
   ]
  },
  {
   "cell_type": "code",
   "execution_count": 430,
   "id": "6fcf7fc4",
   "metadata": {},
   "outputs": [
    {
     "name": "stdout",
     "output_type": "stream",
     "text": [
      "[ True False  True False  True False False False  True False]\n",
      "[ -4  -1   9 -62]\n"
     ]
    }
   ],
   "source": [
    "# 50보다 크거나 -70보다 작은 숫자는 제외\n",
    "# not 대신 ~\n",
    "print(~((arr>=10) | (arr<=-70)))\n",
    "print(arr[~((arr>=10) | (arr<=-70))])"
   ]
  },
  {
   "cell_type": "markdown",
   "id": "8128a9fb",
   "metadata": {},
   "source": [
    "### Fancy Index\n",
    "- 배열을 index value로 사용해서 값을 얻는 방법\n",
    "- 넘파이배열1[정수형넘파이배열]\n",
    "- 넘파이배열1[정수형넘파이배열1, 정수형넘파이배열2]"
   ]
  },
  {
   "cell_type": "code",
   "execution_count": 431,
   "id": "5000c378",
   "metadata": {},
   "outputs": [
    {
     "name": "stdout",
     "output_type": "stream",
     "text": [
      "[ -98  -91   78   33  -29   -6   12 -100   25   28]\n"
     ]
    }
   ],
   "source": [
    "# 1차원 배열 테스트\n",
    "arr = np.random.randint(-100, 100, 10)\n",
    "print(arr)"
   ]
  },
  {
   "cell_type": "code",
   "execution_count": 433,
   "id": "b69798a1",
   "metadata": {},
   "outputs": [
    {
     "data": {
      "text/plain": [
       "-98"
      ]
     },
     "execution_count": 433,
     "metadata": {},
     "output_type": "execute_result"
    }
   ],
   "source": [
    "arr[0]"
   ]
  },
  {
   "cell_type": "code",
   "execution_count": 432,
   "id": "9613b8b1",
   "metadata": {},
   "outputs": [
    {
     "data": {
      "text/plain": [
       "array([-98,  78,  78,  -6])"
      ]
     },
     "execution_count": 432,
     "metadata": {},
     "output_type": "execute_result"
    }
   ],
   "source": [
    "# 넘파이배열명[[인덱스1, 인덱스2 .....]]\n",
    "arr[[0, 2, 2, 5]]"
   ]
  },
  {
   "cell_type": "code",
   "execution_count": 441,
   "id": "73051fb6",
   "metadata": {},
   "outputs": [
    {
     "data": {
      "text/plain": [
       "array([[1, 2, 3],\n",
       "       [4, 5, 6],\n",
       "       [7, 8, 9]])"
      ]
     },
     "execution_count": 441,
     "metadata": {},
     "output_type": "execute_result"
    }
   ],
   "source": [
    "# 2차원 배열 테스트\n",
    "# 넘파이배열명[[인덱스1, 인덱스2 .....],[인덱스1, 인덱스2 .....]]\n",
    "arr = np.arange(1, 10).reshape(3,3)\n",
    "arr"
   ]
  },
  {
   "cell_type": "code",
   "execution_count": 444,
   "id": "ea5bfc8a",
   "metadata": {},
   "outputs": [
    {
     "data": {
      "text/plain": [
       "(9, 9, 9)"
      ]
     },
     "execution_count": 444,
     "metadata": {},
     "output_type": "execute_result"
    }
   ],
   "source": [
    "arr[2,2], arr[2][2], arr[-1][-1]"
   ]
  },
  {
   "cell_type": "code",
   "execution_count": 446,
   "id": "7b950619",
   "metadata": {
    "scrolled": true
   },
   "outputs": [
    {
     "data": {
      "text/plain": [
       "array([1, 5, 9])"
      ]
     },
     "execution_count": 446,
     "metadata": {},
     "output_type": "execute_result"
    }
   ],
   "source": [
    "# 대각선 방향으로 추출 (0,0), (1, 1), (2,2)\n",
    "arr[[0, 1, 2],[0, 1, 2]]"
   ]
  },
  {
   "cell_type": "code",
   "execution_count": 447,
   "id": "1169b342",
   "metadata": {},
   "outputs": [
    {
     "data": {
      "text/plain": [
       "array([1, 5, 9, 9])"
      ]
     },
     "execution_count": 447,
     "metadata": {},
     "output_type": "execute_result"
    }
   ],
   "source": [
    "# 대각선 방향으로 추출 (0,0), (1, 1), (2,2)\n",
    "arr[[0, 1, 2, 2],[0, 1, 2, 2]]"
   ]
  },
  {
   "cell_type": "markdown",
   "id": "9f29b7e5",
   "metadata": {},
   "source": [
    "### 외부파일을 넘파이배열로 생성하기\n",
    "```\n",
    "배열명변수 = np.loadtxt('파일경로', \n",
    "                        delimiter='구분자',\n",
    "                        dtype=데이타형)\n",
    "```"
   ]
  },
  {
   "cell_type": "code",
   "execution_count": 449,
   "id": "5cd7ae73",
   "metadata": {},
   "outputs": [],
   "source": [
    "# 현재위치확인"
   ]
  },
  {
   "cell_type": "code",
   "execution_count": 450,
   "id": "39b3e39b",
   "metadata": {
    "collapsed": true
   },
   "outputs": [
    {
     "name": "stdout",
     "output_type": "stream",
     "text": [
      " C 드라이브의 볼륨에는 이름이 없습니다.\n",
      " 볼륨 일련 번호: 629C-402A\n",
      "\n",
      " C:\\Users\\pusan\\Desktop\\workspace202205\\03_DS 디렉터리\n",
      "\n",
      "2022-06-17  오후 04:36    <DIR>          .\n",
      "2022-06-17  오후 04:36    <DIR>          ..\n",
      "2022-06-17  오전 09:23    <DIR>          .ipynb_checkpoints\n",
      "2022-06-16  오후 04:00    <DIR>          data\n",
      "2022-06-16  오후 05:30            93,310 np_01.ipynb\n",
      "2022-06-17  오후 04:36            73,319 np_02.ipynb\n",
      "2022-06-16  오후 03:41           607,605 Numpy_Quiz.html\n",
      "2022-06-16  오전 11:44           862,310 Numpy_수업자료1.html\n",
      "2022-06-16  오후 02:48           652,266 Numpy_수업자료2.html\n",
      "2022-06-16  오후 03:39           845,201 Numpy_수업자료3.html\n",
      "               6개 파일           3,134,011 바이트\n",
      "               4개 디렉터리  424,307,269,632 바이트 남음\n"
     ]
    }
   ],
   "source": [
    "ls"
   ]
  },
  {
   "cell_type": "code",
   "execution_count": 452,
   "id": "c7b4a042",
   "metadata": {},
   "outputs": [],
   "source": [
    "# 데이타 확인"
   ]
  },
  {
   "cell_type": "code",
   "execution_count": 451,
   "id": "a2daa70f",
   "metadata": {},
   "outputs": [
    {
     "name": "stdout",
     "output_type": "stream",
     "text": [
      " C 드라이브의 볼륨에는 이름이 없습니다.\n",
      " 볼륨 일련 번호: 629C-402A\n",
      "\n",
      " C:\\Users\\pusan\\Desktop\\workspace202205\\03_DS\\data 디렉터리\n",
      "\n",
      "2016-07-17  오후 09:46           171,308 movies.dat\n",
      "2018-04-24  오후 07:42        24,594,131 ratings.dat\n",
      "2016-07-17  오후 09:46           134,368 users.dat\n",
      "               3개 파일          24,899,807 바이트\n",
      "               0개 디렉터리  424,305,537,024 바이트 남음\n"
     ]
    }
   ],
   "source": [
    "ls data\\*.dat"
   ]
  },
  {
   "cell_type": "markdown",
   "id": "d6b13f26",
   "metadata": {},
   "source": [
    "### data/ratings.dat\n",
    "### 데이타형태 - :: 구분자\n",
    "```\n",
    "ratings.dat => 무비렌즈의 영화평점데이타 \n",
    "(userId / movieId/rating/ timestamp)\n",
    " 1::1193::5:: 978300760\n",
    "```"
   ]
  },
  {
   "cell_type": "code",
   "execution_count": 454,
   "id": "abb56106",
   "metadata": {},
   "outputs": [
    {
     "data": {
      "text/plain": [
       "(1000209, 4)"
      ]
     },
     "execution_count": 454,
     "metadata": {},
     "output_type": "execute_result"
    }
   ],
   "source": [
    "# data\\ratings.dat => arr\n",
    "arr = np.loadtxt('data/ratings.dat',delimiter='::', dtype=int)\n",
    "arr.shape"
   ]
  },
  {
   "cell_type": "code",
   "execution_count": 455,
   "id": "c800830e",
   "metadata": {
    "scrolled": true
   },
   "outputs": [
    {
     "data": {
      "text/plain": [
       "(2, dtype('int32'))"
      ]
     },
     "execution_count": 455,
     "metadata": {},
     "output_type": "execute_result"
    }
   ],
   "source": [
    "arr.ndim, arr.dtype"
   ]
  },
  {
   "cell_type": "code",
   "execution_count": 456,
   "id": "cd1953ed",
   "metadata": {
    "scrolled": false
   },
   "outputs": [
    {
     "data": {
      "text/plain": [
       "array([[        1,      1193,         5, 978300760],\n",
       "       [        1,       661,         3, 978302109],\n",
       "       [        1,       914,         3, 978301968],\n",
       "       [        1,      3408,         4, 978300275],\n",
       "       [        1,      2355,         5, 978824291]])"
      ]
     },
     "execution_count": 456,
     "metadata": {},
     "output_type": "execute_result"
    }
   ],
   "source": [
    "# 맨앞 5개만 출력\n",
    "arr[:5]"
   ]
  },
  {
   "cell_type": "code",
   "execution_count": 457,
   "id": "1253a4ee",
   "metadata": {},
   "outputs": [
    {
     "data": {
      "text/plain": [
       "array([[     6040,      1091,         1, 956716541],\n",
       "       [     6040,      1094,         5, 956704887],\n",
       "       [     6040,       562,         5, 956704746],\n",
       "       [     6040,      1096,         4, 956715648],\n",
       "       [     6040,      1097,         4, 956715569]])"
      ]
     },
     "execution_count": 457,
     "metadata": {},
     "output_type": "execute_result"
    }
   ],
   "source": [
    "# 맨 뒷5개만 출력\n",
    "arr[-5:]"
   ]
  },
  {
   "cell_type": "code",
   "execution_count": 462,
   "id": "a732bed0",
   "metadata": {},
   "outputs": [
    {
     "name": "stdout",
     "output_type": "stream",
     "text": [
      "[5 3 3 ... 5 4 4]\n",
      "3.58\n"
     ]
    }
   ],
   "source": [
    "# 전체 평점의 평균\n",
    "# 평점의 열만 출력\n",
    "print(arr[:,2])\n",
    "# 전체 평점의 평균\n",
    "print(round(arr[:,2].mean(),2))"
   ]
  },
  {
   "cell_type": "code",
   "execution_count": 463,
   "id": "96518c1d",
   "metadata": {
    "scrolled": true
   },
   "outputs": [
    {
     "name": "stdout",
     "output_type": "stream",
     "text": [
      "[   1    1    1 ... 6040 6040 6040]\n"
     ]
    }
   ],
   "source": [
    "# userid 열만 출력\n",
    "print(arr[:,0])"
   ]
  },
  {
   "cell_type": "code",
   "execution_count": 470,
   "id": "eddbee8c",
   "metadata": {
    "scrolled": true
   },
   "outputs": [
    {
     "name": "stdout",
     "output_type": "stream",
     "text": [
      "[   1    2    3 ... 6038 6039 6040]\n",
      "6040\n"
     ]
    }
   ],
   "source": [
    "# userid 열에서 중복값 제거\n",
    "print(np.unique((arr[:,0])))\n",
    "# 총 사용자수는?\n",
    "print(np.unique((arr[:,0])).size)"
   ]
  },
  {
   "cell_type": "code",
   "execution_count": 479,
   "id": "3f30a107",
   "metadata": {},
   "outputs": [
    {
     "data": {
      "text/plain": [
       "(53, 4)"
      ]
     },
     "execution_count": 479,
     "metadata": {},
     "output_type": "execute_result"
    }
   ],
   "source": [
    "# 1번 아이디의 사용자의 데이타 출력\n",
    "user1_data = arr[arr[:,0] == 1]\n",
    "user1_data.shape"
   ]
  },
  {
   "cell_type": "code",
   "execution_count": 484,
   "id": "39b1b844",
   "metadata": {},
   "outputs": [
    {
     "name": "stdout",
     "output_type": "stream",
     "text": [
      "4.19\n",
      "5 3\n"
     ]
    }
   ],
   "source": [
    "# 1번 아이디의 사용자의 평점의 평균\n",
    "print(round(user1_data[:,2].mean(),2))\n",
    "# 1번 아이디의 사용자의 평점의 최고점\n",
    "print(user1_data[:,2].max(), user1_data[:,2].min())"
   ]
  },
  {
   "cell_type": "code",
   "execution_count": 485,
   "id": "023b50d6",
   "metadata": {},
   "outputs": [
    {
     "data": {
      "text/plain": [
       "array([[        1,      1193,         5, 978300760],\n",
       "       [        1,       661,         3, 978302109],\n",
       "       [        1,       914,         3, 978301968],\n",
       "       [        1,      3408,         4, 978300275],\n",
       "       [        1,      2355,         5, 978824291]])"
      ]
     },
     "execution_count": 485,
     "metadata": {},
     "output_type": "execute_result"
    }
   ],
   "source": [
    "user1_data[:5]"
   ]
  },
  {
   "cell_type": "code",
   "execution_count": 486,
   "id": "40adab22",
   "metadata": {},
   "outputs": [
    {
     "data": {
      "text/plain": [
       "array([[        1,      1193,         5, 978300760],\n",
       "       [        1,      2355,         5, 978824291],\n",
       "       [        1,      1287,         5, 978302039],\n",
       "       [        1,      2804,         5, 978300719],\n",
       "       [        1,       595,         5, 978824268],\n",
       "       [        1,      1035,         5, 978301753],\n",
       "       [        1,      3105,         5, 978301713],\n",
       "       [        1,      1270,         5, 978300055],\n",
       "       [        1,       527,         5, 978824195],\n",
       "       [        1,        48,         5, 978824351],\n",
       "       [        1,      1836,         5, 978300172],\n",
       "       [        1,      1022,         5, 978300055],\n",
       "       [        1,       150,         5, 978301777],\n",
       "       [        1,         1,         5, 978824268],\n",
       "       [        1,      1961,         5, 978301590],\n",
       "       [        1,      1028,         5, 978301777],\n",
       "       [        1,      1029,         5, 978302205],\n",
       "       [        1,      2028,         5, 978301619]])"
      ]
     },
     "execution_count": 486,
     "metadata": {},
     "output_type": "execute_result"
    }
   ],
   "source": [
    "# 1번 아이디의 사용자가 최고점을 준 데이타만 출력\n",
    "user1_data[user1_data[:,2] == user1_data[:,2].max()]"
   ]
  }
 ],
 "metadata": {
  "kernelspec": {
   "display_name": "Python 3 (ipykernel)",
   "language": "python",
   "name": "python3"
  },
  "language_info": {
   "codemirror_mode": {
    "name": "ipython",
    "version": 3
   },
   "file_extension": ".py",
   "mimetype": "text/x-python",
   "name": "python",
   "nbconvert_exporter": "python",
   "pygments_lexer": "ipython3",
   "version": "3.9.12"
  }
 },
 "nbformat": 4,
 "nbformat_minor": 5
}
