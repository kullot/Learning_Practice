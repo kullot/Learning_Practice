{
 "cells": [
  {
   "cell_type": "code",
   "execution_count": 1,
   "id": "2e58ad23-fa40-4129-a58f-0d70291a2390",
   "metadata": {},
   "outputs": [
    {
     "name": "stderr",
     "output_type": "stream",
     "text": [
      "C:\\Users\\pusan\\AppData\\Local\\Temp\\ipykernel_24896\\2634226238.py:2: DeprecationWarning: Importing display from IPython.core.display is deprecated since IPython 7.14, please import from IPython display\n",
      "  from IPython.core.display import display, HTML\n"
     ]
    },
    {
     "data": {
      "text/html": [
       "<style>.container { width:100% !important; font-weight:bold }</style>"
      ],
      "text/plain": [
       "<IPython.core.display.HTML object>"
      ]
     },
     "metadata": {},
     "output_type": "display_data"
    }
   ],
   "source": [
    "# 쥬피터 노트북 셀 크기 설정 \n",
    "from IPython.core.display import display, HTML\n",
    "display(HTML(\"<style>.container { width:100% !important; font-weight:bold }</style>\"))\n",
    "\n",
    "# 경고메세지 숨기기\n",
    "import warnings\n",
    "warnings.filterwarnings(action='ignore')"
   ]
  },
  {
   "cell_type": "code",
   "execution_count": 2,
   "id": "15c4f90a-f2db-4e94-b97b-727024e62dd1",
   "metadata": {},
   "outputs": [],
   "source": [
    "import numpy as np\n",
    "import pandas as pd\n",
    "import os"
   ]
  },
  {
   "cell_type": "code",
   "execution_count": null,
   "id": "919e1687-2842-4ecc-b7f9-4907d83d6226",
   "metadata": {},
   "outputs": [],
   "source": [
    "# JSON +  JOIN"
   ]
  },
  {
   "cell_type": "code",
   "execution_count": null,
   "id": "521b858a-c71b-4f88-8ded-4754b80cb95a",
   "metadata": {},
   "outputs": [],
   "source": [
    "# 1) 2개의 json 자료를 데이타프레임으로 각각 저장\n",
    "# 2) 공통 컬럼 파악\n",
    "# 3) 공통 컬럼과 공통키를 이용하여 조인\n",
    "# 4) 컬럼과 인덱스명 등 정리\n",
    "# 5) csv 파일로 저장"
   ]
  },
  {
   "cell_type": "code",
   "execution_count": 5,
   "id": "a1fd9a5d-b6bf-44ec-aad4-d19344da5154",
   "metadata": {},
   "outputs": [],
   "source": [
    "# 1) 아래의 2개의 주소를 이용하여 각각 데이타프레임 df_users, df_posts 으로 저장하여라 \n",
    "\n",
    "url1 = 'http://jsonplaceholder.typicode.com/users'\n",
    "url2 = 'http://jsonplaceholder.typicode.com/posts'\n",
    "\n",
    "df_users = pd.read_json(url1)\n",
    "df_posts = pd.read_json(url2)"
   ]
  },
  {
   "cell_type": "code",
   "execution_count": 6,
   "id": "b85f3d3c-9f30-42cf-b6f4-e409228d4395",
   "metadata": {},
   "outputs": [
    {
     "data": {
      "text/plain": [
       "((10, 8), (100, 4))"
      ]
     },
     "execution_count": 6,
     "metadata": {},
     "output_type": "execute_result"
    }
   ],
   "source": [
    "df_users.shape, df_posts.shape"
   ]
  },
  {
   "cell_type": "code",
   "execution_count": 7,
   "id": "e0387e67-1305-4000-b9e1-2fe99b9180f9",
   "metadata": {},
   "outputs": [
    {
     "name": "stdout",
     "output_type": "stream",
     "text": [
      "Index(['id', 'name', 'username', 'email', 'address', 'phone', 'website',\n",
      "       'company'],\n",
      "      dtype='object')\n",
      "Index(['userId', 'id', 'title', 'body'], dtype='object')\n"
     ]
    }
   ],
   "source": [
    "# 2) 공통 컬럼 및 공통키 파악\n",
    "print(df_users.columns)\n",
    "print(df_posts.columns)"
   ]
  },
  {
   "cell_type": "code",
   "execution_count": 9,
   "id": "3b327a9f-b3a1-4121-95a8-2d117593eddb",
   "metadata": {},
   "outputs": [
    {
     "data": {
      "text/plain": [
       "array([ 1,  2,  3,  4,  5,  6,  7,  8,  9, 10], dtype=int64)"
      ]
     },
     "execution_count": 9,
     "metadata": {},
     "output_type": "execute_result"
    }
   ],
   "source": [
    "df_users['id'].unique()"
   ]
  },
  {
   "cell_type": "code",
   "execution_count": 11,
   "id": "7eae8fca-6ba8-41bf-9335-4d0258d24ac0",
   "metadata": {},
   "outputs": [
    {
     "data": {
      "text/plain": [
       "array([ 1,  2,  3,  4,  5,  6,  7,  8,  9, 10], dtype=int64)"
      ]
     },
     "execution_count": 11,
     "metadata": {},
     "output_type": "execute_result"
    }
   ],
   "source": [
    "df_posts['userId'].unique()"
   ]
  },
  {
   "cell_type": "code",
   "execution_count": 12,
   "id": "7f71000e-6962-404b-86f6-e23972edc057",
   "metadata": {},
   "outputs": [
    {
     "data": {
      "text/plain": [
       "array([  1,   2,   3,   4,   5,   6,   7,   8,   9,  10,  11,  12,  13,\n",
       "        14,  15,  16,  17,  18,  19,  20,  21,  22,  23,  24,  25,  26,\n",
       "        27,  28,  29,  30,  31,  32,  33,  34,  35,  36,  37,  38,  39,\n",
       "        40,  41,  42,  43,  44,  45,  46,  47,  48,  49,  50,  51,  52,\n",
       "        53,  54,  55,  56,  57,  58,  59,  60,  61,  62,  63,  64,  65,\n",
       "        66,  67,  68,  69,  70,  71,  72,  73,  74,  75,  76,  77,  78,\n",
       "        79,  80,  81,  82,  83,  84,  85,  86,  87,  88,  89,  90,  91,\n",
       "        92,  93,  94,  95,  96,  97,  98,  99, 100], dtype=int64)"
      ]
     },
     "execution_count": 12,
     "metadata": {},
     "output_type": "execute_result"
    }
   ],
   "source": [
    "df_posts['id'].unique()"
   ]
  },
  {
   "cell_type": "code",
   "execution_count": 18,
   "id": "392a65e9-7f6a-4ca8-8faf-a24bfeca09a3",
   "metadata": {
    "tags": []
   },
   "outputs": [
    {
     "data": {
      "text/plain": [
       "(100, 12)"
      ]
     },
     "execution_count": 18,
     "metadata": {},
     "output_type": "execute_result"
    }
   ],
   "source": [
    "# 3) 공통 컬럼과 공통키를 이용하여 조인\n",
    "# df = pd.merge(df_users, df_posts)\n",
    "# df.shape\n",
    "df = pd.merge(df_users, df_posts, left_on='id', right_on='userId')\n",
    "df.shape"
   ]
  },
  {
   "cell_type": "code",
   "execution_count": 19,
   "id": "57ebee1e-7445-4dab-9502-b39f7a410e17",
   "metadata": {
    "collapsed": true,
    "jupyter": {
     "outputs_hidden": true
    },
    "tags": []
   },
   "outputs": [
    {
     "data": {
      "text/html": [
       "<div>\n",
       "<style scoped>\n",
       "    .dataframe tbody tr th:only-of-type {\n",
       "        vertical-align: middle;\n",
       "    }\n",
       "\n",
       "    .dataframe tbody tr th {\n",
       "        vertical-align: top;\n",
       "    }\n",
       "\n",
       "    .dataframe thead th {\n",
       "        text-align: right;\n",
       "    }\n",
       "</style>\n",
       "<table border=\"1\" class=\"dataframe\">\n",
       "  <thead>\n",
       "    <tr style=\"text-align: right;\">\n",
       "      <th></th>\n",
       "      <th>id_x</th>\n",
       "      <th>name</th>\n",
       "      <th>username</th>\n",
       "      <th>email</th>\n",
       "      <th>address</th>\n",
       "      <th>phone</th>\n",
       "      <th>website</th>\n",
       "      <th>company</th>\n",
       "      <th>userId</th>\n",
       "      <th>id_y</th>\n",
       "      <th>title</th>\n",
       "      <th>body</th>\n",
       "    </tr>\n",
       "  </thead>\n",
       "  <tbody>\n",
       "    <tr>\n",
       "      <th>4</th>\n",
       "      <td>1</td>\n",
       "      <td>Leanne Graham</td>\n",
       "      <td>Bret</td>\n",
       "      <td>Sincere@april.biz</td>\n",
       "      <td>{'street': 'Kulas Light', 'suite': 'Apt. 556',...</td>\n",
       "      <td>1-770-736-8031 x56442</td>\n",
       "      <td>hildegard.org</td>\n",
       "      <td>{'name': 'Romaguera-Crona', 'catchPhrase': 'Mu...</td>\n",
       "      <td>1</td>\n",
       "      <td>5</td>\n",
       "      <td>nesciunt quas odio</td>\n",
       "      <td>repudiandae veniam quaerat sunt sed\\nalias aut...</td>\n",
       "    </tr>\n",
       "    <tr>\n",
       "      <th>40</th>\n",
       "      <td>5</td>\n",
       "      <td>Chelsey Dietrich</td>\n",
       "      <td>Kamren</td>\n",
       "      <td>Lucio_Hettinger@annie.ca</td>\n",
       "      <td>{'street': 'Skiles Walks', 'suite': 'Suite 351...</td>\n",
       "      <td>(254)954-1289</td>\n",
       "      <td>demarco.info</td>\n",
       "      <td>{'name': 'Keebler LLC', 'catchPhrase': 'User-c...</td>\n",
       "      <td>5</td>\n",
       "      <td>41</td>\n",
       "      <td>non est facere</td>\n",
       "      <td>molestias id nostrum\\nexcepturi molestiae dolo...</td>\n",
       "    </tr>\n",
       "    <tr>\n",
       "      <th>17</th>\n",
       "      <td>2</td>\n",
       "      <td>Ervin Howell</td>\n",
       "      <td>Antonette</td>\n",
       "      <td>Shanna@melissa.tv</td>\n",
       "      <td>{'street': 'Victor Plains', 'suite': 'Suite 87...</td>\n",
       "      <td>010-692-6593 x09125</td>\n",
       "      <td>anastasia.net</td>\n",
       "      <td>{'name': 'Deckow-Crist', 'catchPhrase': 'Proac...</td>\n",
       "      <td>2</td>\n",
       "      <td>18</td>\n",
       "      <td>voluptate et itaque vero tempora molestiae</td>\n",
       "      <td>eveniet quo quis\\nlaborum totam consequatur no...</td>\n",
       "    </tr>\n",
       "  </tbody>\n",
       "</table>\n",
       "</div>"
      ],
      "text/plain": [
       "    id_x              name   username                     email  \\\n",
       "4      1     Leanne Graham       Bret         Sincere@april.biz   \n",
       "40     5  Chelsey Dietrich     Kamren  Lucio_Hettinger@annie.ca   \n",
       "17     2      Ervin Howell  Antonette         Shanna@melissa.tv   \n",
       "\n",
       "                                              address                  phone  \\\n",
       "4   {'street': 'Kulas Light', 'suite': 'Apt. 556',...  1-770-736-8031 x56442   \n",
       "40  {'street': 'Skiles Walks', 'suite': 'Suite 351...          (254)954-1289   \n",
       "17  {'street': 'Victor Plains', 'suite': 'Suite 87...    010-692-6593 x09125   \n",
       "\n",
       "          website                                            company  userId  \\\n",
       "4   hildegard.org  {'name': 'Romaguera-Crona', 'catchPhrase': 'Mu...       1   \n",
       "40   demarco.info  {'name': 'Keebler LLC', 'catchPhrase': 'User-c...       5   \n",
       "17  anastasia.net  {'name': 'Deckow-Crist', 'catchPhrase': 'Proac...       2   \n",
       "\n",
       "    id_y                                       title  \\\n",
       "4      5                          nesciunt quas odio   \n",
       "40    41                              non est facere   \n",
       "17    18  voluptate et itaque vero tempora molestiae   \n",
       "\n",
       "                                                 body  \n",
       "4   repudiandae veniam quaerat sunt sed\\nalias aut...  \n",
       "40  molestias id nostrum\\nexcepturi molestiae dolo...  \n",
       "17  eveniet quo quis\\nlaborum totam consequatur no...  "
      ]
     },
     "execution_count": 19,
     "metadata": {},
     "output_type": "execute_result"
    }
   ],
   "source": [
    "# 4) 컬럼과 인덱스명 등 정리\n",
    "df.sample(3)"
   ]
  },
  {
   "cell_type": "code",
   "execution_count": 20,
   "id": "dc3f956b-3975-4ff0-a1fa-decf9cdefa9c",
   "metadata": {},
   "outputs": [
    {
     "data": {
      "text/plain": [
       "Index(['id_x', 'name', 'username', 'email', 'address', 'phone', 'website',\n",
       "       'company', 'userId', 'id_y', 'title', 'body'],\n",
       "      dtype='object')"
      ]
     },
     "execution_count": 20,
     "metadata": {},
     "output_type": "execute_result"
    }
   ],
   "source": [
    "df.columns"
   ]
  },
  {
   "cell_type": "code",
   "execution_count": 22,
   "id": "290c9864-ea35-4135-9ea1-4b92e8b0213c",
   "metadata": {},
   "outputs": [
    {
     "data": {
      "text/html": [
       "<div>\n",
       "<style scoped>\n",
       "    .dataframe tbody tr th:only-of-type {\n",
       "        vertical-align: middle;\n",
       "    }\n",
       "\n",
       "    .dataframe tbody tr th {\n",
       "        vertical-align: top;\n",
       "    }\n",
       "\n",
       "    .dataframe thead th {\n",
       "        text-align: right;\n",
       "    }\n",
       "</style>\n",
       "<table border=\"1\" class=\"dataframe\">\n",
       "  <thead>\n",
       "    <tr style=\"text-align: right;\">\n",
       "      <th></th>\n",
       "      <th>userId</th>\n",
       "      <th>name</th>\n",
       "      <th>username</th>\n",
       "      <th>email</th>\n",
       "      <th>address</th>\n",
       "      <th>id_y</th>\n",
       "      <th>title</th>\n",
       "      <th>body</th>\n",
       "    </tr>\n",
       "  </thead>\n",
       "  <tbody>\n",
       "    <tr>\n",
       "      <th>87</th>\n",
       "      <td>9</td>\n",
       "      <td>Glenna Reichert</td>\n",
       "      <td>Delphine</td>\n",
       "      <td>Chaim_McDermott@dana.io</td>\n",
       "      <td>{'street': 'Dayna Park', 'suite': 'Suite 449',...</td>\n",
       "      <td>88</td>\n",
       "      <td>sapiente omnis fugit eos</td>\n",
       "      <td>consequatur omnis est praesentium\\nducimus non...</td>\n",
       "    </tr>\n",
       "    <tr>\n",
       "      <th>27</th>\n",
       "      <td>3</td>\n",
       "      <td>Clementine Bauch</td>\n",
       "      <td>Samantha</td>\n",
       "      <td>Nathan@yesenia.net</td>\n",
       "      <td>{'street': 'Douglas Extension', 'suite': 'Suit...</td>\n",
       "      <td>28</td>\n",
       "      <td>delectus ullam et corporis nulla voluptas sequi</td>\n",
       "      <td>non et quaerat ex quae ad maiores\\nmaiores rec...</td>\n",
       "    </tr>\n",
       "    <tr>\n",
       "      <th>79</th>\n",
       "      <td>8</td>\n",
       "      <td>Nicholas Runolfsdottir V</td>\n",
       "      <td>Maxime_Nienow</td>\n",
       "      <td>Sherwood@rosamond.me</td>\n",
       "      <td>{'street': 'Ellsworth Summit', 'suite': 'Suite...</td>\n",
       "      <td>80</td>\n",
       "      <td>labore in ex et explicabo corporis aut quas</td>\n",
       "      <td>ex quod dolorem ea eum iure qui provident amet...</td>\n",
       "    </tr>\n",
       "  </tbody>\n",
       "</table>\n",
       "</div>"
      ],
      "text/plain": [
       "    userId                      name       username                    email  \\\n",
       "87       9           Glenna Reichert       Delphine  Chaim_McDermott@dana.io   \n",
       "27       3          Clementine Bauch       Samantha       Nathan@yesenia.net   \n",
       "79       8  Nicholas Runolfsdottir V  Maxime_Nienow     Sherwood@rosamond.me   \n",
       "\n",
       "                                              address  id_y  \\\n",
       "87  {'street': 'Dayna Park', 'suite': 'Suite 449',...    88   \n",
       "27  {'street': 'Douglas Extension', 'suite': 'Suit...    28   \n",
       "79  {'street': 'Ellsworth Summit', 'suite': 'Suite...    80   \n",
       "\n",
       "                                              title  \\\n",
       "87                         sapiente omnis fugit eos   \n",
       "27  delectus ullam et corporis nulla voluptas sequi   \n",
       "79      labore in ex et explicabo corporis aut quas   \n",
       "\n",
       "                                                 body  \n",
       "87  consequatur omnis est praesentium\\nducimus non...  \n",
       "27  non et quaerat ex quae ad maiores\\nmaiores rec...  \n",
       "79  ex quod dolorem ea eum iure qui provident amet...  "
      ]
     },
     "execution_count": 22,
     "metadata": {},
     "output_type": "execute_result"
    }
   ],
   "source": [
    "df2 = df[['userId', 'name', 'username', 'email', 'address', 'id_y', 'title', 'body']]\n",
    "df2.sample(3)"
   ]
  },
  {
   "cell_type": "code",
   "execution_count": 26,
   "id": "082785c5-59b7-4a13-af08-ea4f440c66d8",
   "metadata": {},
   "outputs": [
    {
     "data": {
      "text/html": [
       "<div>\n",
       "<style scoped>\n",
       "    .dataframe tbody tr th:only-of-type {\n",
       "        vertical-align: middle;\n",
       "    }\n",
       "\n",
       "    .dataframe tbody tr th {\n",
       "        vertical-align: top;\n",
       "    }\n",
       "\n",
       "    .dataframe thead th {\n",
       "        text-align: right;\n",
       "    }\n",
       "</style>\n",
       "<table border=\"1\" class=\"dataframe\">\n",
       "  <thead>\n",
       "    <tr style=\"text-align: right;\">\n",
       "      <th></th>\n",
       "      <th>userId</th>\n",
       "      <th>name</th>\n",
       "      <th>username</th>\n",
       "      <th>email</th>\n",
       "      <th>address</th>\n",
       "      <th>post_id</th>\n",
       "      <th>title</th>\n",
       "      <th>body</th>\n",
       "    </tr>\n",
       "  </thead>\n",
       "  <tbody>\n",
       "    <tr>\n",
       "      <th>25</th>\n",
       "      <td>3</td>\n",
       "      <td>Clementine Bauch</td>\n",
       "      <td>Samantha</td>\n",
       "      <td>Nathan@yesenia.net</td>\n",
       "      <td>{'street': 'Douglas Extension', 'suite': 'Suit...</td>\n",
       "      <td>26</td>\n",
       "      <td>est et quae odit qui non</td>\n",
       "      <td>similique esse doloribus nihil accusamus\\nomni...</td>\n",
       "    </tr>\n",
       "    <tr>\n",
       "      <th>80</th>\n",
       "      <td>9</td>\n",
       "      <td>Glenna Reichert</td>\n",
       "      <td>Delphine</td>\n",
       "      <td>Chaim_McDermott@dana.io</td>\n",
       "      <td>{'street': 'Dayna Park', 'suite': 'Suite 449',...</td>\n",
       "      <td>81</td>\n",
       "      <td>tempora rem veritatis voluptas quo dolores vero</td>\n",
       "      <td>facere qui nesciunt est voluptatum voluptatem ...</td>\n",
       "    </tr>\n",
       "    <tr>\n",
       "      <th>73</th>\n",
       "      <td>8</td>\n",
       "      <td>Nicholas Runolfsdottir V</td>\n",
       "      <td>Maxime_Nienow</td>\n",
       "      <td>Sherwood@rosamond.me</td>\n",
       "      <td>{'street': 'Ellsworth Summit', 'suite': 'Suite...</td>\n",
       "      <td>74</td>\n",
       "      <td>enim unde ratione doloribus quas enim ut sit s...</td>\n",
       "      <td>odit qui et et necessitatibus sint veniam\\nmol...</td>\n",
       "    </tr>\n",
       "  </tbody>\n",
       "</table>\n",
       "</div>"
      ],
      "text/plain": [
       "    userId                      name       username                    email  \\\n",
       "25       3          Clementine Bauch       Samantha       Nathan@yesenia.net   \n",
       "80       9           Glenna Reichert       Delphine  Chaim_McDermott@dana.io   \n",
       "73       8  Nicholas Runolfsdottir V  Maxime_Nienow     Sherwood@rosamond.me   \n",
       "\n",
       "                                              address  post_id  \\\n",
       "25  {'street': 'Douglas Extension', 'suite': 'Suit...       26   \n",
       "80  {'street': 'Dayna Park', 'suite': 'Suite 449',...       81   \n",
       "73  {'street': 'Ellsworth Summit', 'suite': 'Suite...       74   \n",
       "\n",
       "                                                title  \\\n",
       "25                           est et quae odit qui non   \n",
       "80    tempora rem veritatis voluptas quo dolores vero   \n",
       "73  enim unde ratione doloribus quas enim ut sit s...   \n",
       "\n",
       "                                                 body  \n",
       "25  similique esse doloribus nihil accusamus\\nomni...  \n",
       "80  facere qui nesciunt est voluptatum voluptatem ...  \n",
       "73  odit qui et et necessitatibus sint veniam\\nmol...  "
      ]
     },
     "execution_count": 26,
     "metadata": {},
     "output_type": "execute_result"
    }
   ],
   "source": [
    "# 컬럼명 변경 \n",
    "df2.rename(columns={'id_y':'post_id'}, inplace=True)\n",
    "df2.sample(3)"
   ]
  },
  {
   "cell_type": "code",
   "execution_count": 27,
   "id": "9c4cb648-de3e-475d-9981-ae4bef0e0820",
   "metadata": {},
   "outputs": [
    {
     "data": {
      "text/plain": [
       "{'street': 'Hoeger Mall',\n",
       " 'suite': 'Apt. 692',\n",
       " 'city': 'South Elvis',\n",
       " 'zipcode': '53919-4257',\n",
       " 'geo': {'lat': '29.4572', 'lng': '-164.2990'}}"
      ]
     },
     "execution_count": 27,
     "metadata": {},
     "output_type": "execute_result"
    }
   ],
   "source": [
    "# 한개만 address 컬럼 표시 => city 값만 별도 컬ㄹ멍 ㅔ추출\n",
    "df2.loc[31, 'address']"
   ]
  },
  {
   "cell_type": "code",
   "execution_count": 31,
   "id": "28cd193a-1cc8-4804-bd1d-24f6fda47b82",
   "metadata": {},
   "outputs": [],
   "source": [
    "df2['city'] = df2['address'].str['city']"
   ]
  },
  {
   "cell_type": "code",
   "execution_count": 32,
   "id": "5e9727e9-1b70-47d2-8004-9ae7b5e7e1d5",
   "metadata": {},
   "outputs": [],
   "source": [
    "del df2['address']"
   ]
  },
  {
   "cell_type": "code",
   "execution_count": 33,
   "id": "595fce67-f72f-484e-b5e9-d4be9b4419c7",
   "metadata": {},
   "outputs": [
    {
     "data": {
      "text/html": [
       "<div>\n",
       "<style scoped>\n",
       "    .dataframe tbody tr th:only-of-type {\n",
       "        vertical-align: middle;\n",
       "    }\n",
       "\n",
       "    .dataframe tbody tr th {\n",
       "        vertical-align: top;\n",
       "    }\n",
       "\n",
       "    .dataframe thead th {\n",
       "        text-align: right;\n",
       "    }\n",
       "</style>\n",
       "<table border=\"1\" class=\"dataframe\">\n",
       "  <thead>\n",
       "    <tr style=\"text-align: right;\">\n",
       "      <th></th>\n",
       "      <th>userId</th>\n",
       "      <th>name</th>\n",
       "      <th>username</th>\n",
       "      <th>email</th>\n",
       "      <th>post_id</th>\n",
       "      <th>title</th>\n",
       "      <th>body</th>\n",
       "      <th>city</th>\n",
       "    </tr>\n",
       "  </thead>\n",
       "  <tbody>\n",
       "    <tr>\n",
       "      <th>40</th>\n",
       "      <td>5</td>\n",
       "      <td>Chelsey Dietrich</td>\n",
       "      <td>Kamren</td>\n",
       "      <td>Lucio_Hettinger@annie.ca</td>\n",
       "      <td>41</td>\n",
       "      <td>non est facere</td>\n",
       "      <td>molestias id nostrum\\nexcepturi molestiae dolo...</td>\n",
       "      <td>Roscoeview</td>\n",
       "    </tr>\n",
       "    <tr>\n",
       "      <th>63</th>\n",
       "      <td>7</td>\n",
       "      <td>Kurtis Weissnat</td>\n",
       "      <td>Elwyn.Skiles</td>\n",
       "      <td>Telly.Hoeger@billy.biz</td>\n",
       "      <td>64</td>\n",
       "      <td>et fugit quas eum in in aperiam quod</td>\n",
       "      <td>id velit blanditiis\\neum ea voluptatem\\nmolest...</td>\n",
       "      <td>Howemouth</td>\n",
       "    </tr>\n",
       "    <tr>\n",
       "      <th>46</th>\n",
       "      <td>5</td>\n",
       "      <td>Chelsey Dietrich</td>\n",
       "      <td>Kamren</td>\n",
       "      <td>Lucio_Hettinger@annie.ca</td>\n",
       "      <td>47</td>\n",
       "      <td>quibusdam cumque rem aut deserunt</td>\n",
       "      <td>voluptatem assumenda ut qui ut cupiditate aut ...</td>\n",
       "      <td>Roscoeview</td>\n",
       "    </tr>\n",
       "  </tbody>\n",
       "</table>\n",
       "</div>"
      ],
      "text/plain": [
       "    userId              name      username                     email  post_id  \\\n",
       "40       5  Chelsey Dietrich        Kamren  Lucio_Hettinger@annie.ca       41   \n",
       "63       7   Kurtis Weissnat  Elwyn.Skiles    Telly.Hoeger@billy.biz       64   \n",
       "46       5  Chelsey Dietrich        Kamren  Lucio_Hettinger@annie.ca       47   \n",
       "\n",
       "                                   title  \\\n",
       "40                        non est facere   \n",
       "63  et fugit quas eum in in aperiam quod   \n",
       "46     quibusdam cumque rem aut deserunt   \n",
       "\n",
       "                                                 body        city  \n",
       "40  molestias id nostrum\\nexcepturi molestiae dolo...  Roscoeview  \n",
       "63  id velit blanditiis\\neum ea voluptatem\\nmolest...   Howemouth  \n",
       "46  voluptatem assumenda ut qui ut cupiditate aut ...  Roscoeview  "
      ]
     },
     "execution_count": 33,
     "metadata": {},
     "output_type": "execute_result"
    }
   ],
   "source": [
    "df2.sample(3)"
   ]
  },
  {
   "cell_type": "code",
   "execution_count": 47,
   "id": "098cfb07-690e-448c-8e6a-644facaf2d2f",
   "metadata": {},
   "outputs": [],
   "source": [
    "# 5) csv 파일로 저장\n",
    "df2.to_csv('users_post.csv', index=False)"
   ]
  },
  {
   "cell_type": "markdown",
   "id": "59c12630-8fb4-4ec2-bfd8-853228883f83",
   "metadata": {},
   "source": [
    "# 무비렌즈 조인\n",
    "\n",
    "- https://grouplens.org/datasets/movielens/\n",
    "- movies.dat, ratings.dat, users.dat\n",
    "- movies.dat (MovieID , Title,  Genres)\n",
    "\n",
    "```\n",
    "- Genres\n",
    "파이프(|)로분리됨\n",
    "Action\n",
    "Adventure\n",
    "Animation\n",
    "Children’s\n",
    "Comedy\n",
    "Crime\n",
    "Documentary\n",
    "Drama\n",
    "Fantasy\n",
    "Film-Noir\n",
    "Horror\n",
    "Musical\n",
    "Mystery\n",
    "Romance\n",
    "Sci-Fi\n",
    "Thriller\n",
    "War\n",
    "Western\n",
    "\n",
    "- ratings.dat\n",
    "UserID  MovieID  Rating  Timestamp\n",
    "\n",
    "UserID는 users의 UserID 참조,\n",
    "MovieID는 movie의 MovieID 참조.\n",
    "Rating은 영화 평점. 1-5까지 숫자.\n",
    "Timestamp는 평점 적은 날짜.\n",
    "\n",
    "- users.dat\n",
    "UserID  Gender  Age  Occupation  Zip-code\n",
    "\n",
    "```"
   ]
  },
  {
   "cell_type": "code",
   "execution_count": null,
   "id": "8b005cb6-bd7d-4534-b4e7-c7ad136dce29",
   "metadata": {},
   "outputs": [
    {
     "name": "stdout",
     "output_type": "stream",
     "text": [
      " C 드라이브의 볼륨에는 이름이 없습니다.\n",
      " 볼륨 일련 번호: 629C-402A\n",
      "\n",
      " C:\\Users\\pusan\\Desktop\\workspace202205\\03_DS\\data 디렉터리\n",
      "\n",
      "2016-07-17  오후 09:46           171,308 movies.dat\n",
      "2018-04-24  오후 07:42        24,594,131 ratings.dat\n",
      "2016-07-17  오후 09:46           134,368 users.dat\n",
      "               3개 파일          24,899,807 바이트\n",
      "               0개 디렉터리  422,219,845,632 바이트 남음\n"
     ]
    }
   ],
   "source": [
    "ls C:\\Users\\pusan\\Desktop\\workspace202205\\03_DS\\data\\*.dat"
   ]
  },
  {
   "cell_type": "code",
   "execution_count": 58,
   "id": "13fdc061-347a-4753-81a7-6f0f71d3c222",
   "metadata": {
    "tags": []
   },
   "outputs": [
    {
     "data": {
      "text/html": [
       "<div>\n",
       "<style scoped>\n",
       "    .dataframe tbody tr th:only-of-type {\n",
       "        vertical-align: middle;\n",
       "    }\n",
       "\n",
       "    .dataframe tbody tr th {\n",
       "        vertical-align: top;\n",
       "    }\n",
       "\n",
       "    .dataframe thead th {\n",
       "        text-align: right;\n",
       "    }\n",
       "</style>\n",
       "<table border=\"1\" class=\"dataframe\">\n",
       "  <thead>\n",
       "    <tr style=\"text-align: right;\">\n",
       "      <th></th>\n",
       "      <th>movieID</th>\n",
       "      <th>title</th>\n",
       "      <th>genres</th>\n",
       "    </tr>\n",
       "  </thead>\n",
       "  <tbody>\n",
       "    <tr>\n",
       "      <th>1984</th>\n",
       "      <td>2053</td>\n",
       "      <td>Honey, I Blew Up the Kid (1992)</td>\n",
       "      <td>Children's|Comedy|Sci-Fi</td>\n",
       "    </tr>\n",
       "    <tr>\n",
       "      <th>2360</th>\n",
       "      <td>2429</td>\n",
       "      <td>Mighty Joe Young (1998)</td>\n",
       "      <td>Adventure|Children's|Drama</td>\n",
       "    </tr>\n",
       "    <tr>\n",
       "      <th>1840</th>\n",
       "      <td>1909</td>\n",
       "      <td>X-Files: Fight the Future, The (1998)</td>\n",
       "      <td>Mystery|Sci-Fi|Thriller</td>\n",
       "    </tr>\n",
       "  </tbody>\n",
       "</table>\n",
       "</div>"
      ],
      "text/plain": [
       "      movieID                                  title  \\\n",
       "1984     2053        Honey, I Blew Up the Kid (1992)   \n",
       "2360     2429                Mighty Joe Young (1998)   \n",
       "1840     1909  X-Files: Fight the Future, The (1998)   \n",
       "\n",
       "                          genres  \n",
       "1984    Children's|Comedy|Sci-Fi  \n",
       "2360  Adventure|Children's|Drama  \n",
       "1840     Mystery|Sci-Fi|Thriller  "
      ]
     },
     "execution_count": 58,
     "metadata": {},
     "output_type": "execute_result"
    }
   ],
   "source": [
    "# 1) 각 파일을 데이타프레임으로 저장\n",
    "df_movies = pd.read_csv('C:/Users/pusan/Desktop/workspace202205/03_DS/data/movies.dat', sep='::', header=None, names=['movieID', 'title', 'genres'])\n",
    "df_movies.sample(3)"
   ]
  },
  {
   "cell_type": "code",
   "execution_count": 61,
   "id": "55d9aff0-b175-4d20-a90a-b179e30a6270",
   "metadata": {
    "tags": []
   },
   "outputs": [
    {
     "data": {
      "text/html": [
       "<div>\n",
       "<style scoped>\n",
       "    .dataframe tbody tr th:only-of-type {\n",
       "        vertical-align: middle;\n",
       "    }\n",
       "\n",
       "    .dataframe tbody tr th {\n",
       "        vertical-align: top;\n",
       "    }\n",
       "\n",
       "    .dataframe thead th {\n",
       "        text-align: right;\n",
       "    }\n",
       "</style>\n",
       "<table border=\"1\" class=\"dataframe\">\n",
       "  <thead>\n",
       "    <tr style=\"text-align: right;\">\n",
       "      <th></th>\n",
       "      <th>userID</th>\n",
       "      <th>gender</th>\n",
       "      <th>age</th>\n",
       "      <th>occupation</th>\n",
       "      <th>zip-code</th>\n",
       "    </tr>\n",
       "  </thead>\n",
       "  <tbody>\n",
       "    <tr>\n",
       "      <th>3343</th>\n",
       "      <td>3344</td>\n",
       "      <td>M</td>\n",
       "      <td>35</td>\n",
       "      <td>0</td>\n",
       "      <td>08902</td>\n",
       "    </tr>\n",
       "    <tr>\n",
       "      <th>1994</th>\n",
       "      <td>1995</td>\n",
       "      <td>M</td>\n",
       "      <td>25</td>\n",
       "      <td>1</td>\n",
       "      <td>85364</td>\n",
       "    </tr>\n",
       "    <tr>\n",
       "      <th>5414</th>\n",
       "      <td>5415</td>\n",
       "      <td>F</td>\n",
       "      <td>25</td>\n",
       "      <td>7</td>\n",
       "      <td>03862</td>\n",
       "    </tr>\n",
       "  </tbody>\n",
       "</table>\n",
       "</div>"
      ],
      "text/plain": [
       "      userID gender  age  occupation zip-code\n",
       "3343    3344      M   35           0    08902\n",
       "1994    1995      M   25           1    85364\n",
       "5414    5415      F   25           7    03862"
      ]
     },
     "execution_count": 61,
     "metadata": {},
     "output_type": "execute_result"
    }
   ],
   "source": [
    "df_users = pd.read_csv('C:/Users/pusan/Desktop/workspace202205/03_DS/data/users.dat', sep='::', \n",
    "                     header=None, names=[ 'userID', 'gender',  'age',  'occupation',  'zip-code'])\n",
    "df_users.sample(3)"
   ]
  },
  {
   "cell_type": "code",
   "execution_count": 74,
   "id": "9818d01f-ced3-4bc3-9462-87a08b59f1fa",
   "metadata": {
    "tags": []
   },
   "outputs": [
    {
     "data": {
      "text/html": [
       "<div>\n",
       "<style scoped>\n",
       "    .dataframe tbody tr th:only-of-type {\n",
       "        vertical-align: middle;\n",
       "    }\n",
       "\n",
       "    .dataframe tbody tr th {\n",
       "        vertical-align: top;\n",
       "    }\n",
       "\n",
       "    .dataframe thead th {\n",
       "        text-align: right;\n",
       "    }\n",
       "</style>\n",
       "<table border=\"1\" class=\"dataframe\">\n",
       "  <thead>\n",
       "    <tr style=\"text-align: right;\">\n",
       "      <th></th>\n",
       "      <th>userID</th>\n",
       "      <th>movieID</th>\n",
       "      <th>rating</th>\n",
       "      <th>timestamp</th>\n",
       "    </tr>\n",
       "  </thead>\n",
       "  <tbody>\n",
       "    <tr>\n",
       "      <th>453649</th>\n",
       "      <td>2793</td>\n",
       "      <td>1101</td>\n",
       "      <td>5</td>\n",
       "      <td>972941681</td>\n",
       "    </tr>\n",
       "    <tr>\n",
       "      <th>603472</th>\n",
       "      <td>3672</td>\n",
       "      <td>316</td>\n",
       "      <td>2</td>\n",
       "      <td>966376968</td>\n",
       "    </tr>\n",
       "    <tr>\n",
       "      <th>354083</th>\n",
       "      <td>2073</td>\n",
       "      <td>1302</td>\n",
       "      <td>4</td>\n",
       "      <td>974670912</td>\n",
       "    </tr>\n",
       "  </tbody>\n",
       "</table>\n",
       "</div>"
      ],
      "text/plain": [
       "        userID  movieID  rating  timestamp\n",
       "453649    2793     1101       5  972941681\n",
       "603472    3672      316       2  966376968\n",
       "354083    2073     1302       4  974670912"
      ]
     },
     "execution_count": 74,
     "metadata": {},
     "output_type": "execute_result"
    }
   ],
   "source": [
    "# 1) 각 파일을 데이타프레임으로 저장\n",
    "df_ratings = pd.read_csv('C:/Users/pusan/Desktop/workspace202205/03_DS/data/ratings.dat', sep='::', header=None, names=['userID',  'movieID',  'rating',  'timestamp'])\n",
    "df_ratings.sample(3)"
   ]
  },
  {
   "cell_type": "code",
   "execution_count": 63,
   "id": "5948d3bb-b6cb-49d5-96e0-c56d68600fe8",
   "metadata": {},
   "outputs": [],
   "source": [
    "# 조인"
   ]
  },
  {
   "cell_type": "code",
   "execution_count": 75,
   "id": "ff74d6b4-ab0d-4ac8-976a-8c9b5c7a7d42",
   "metadata": {},
   "outputs": [
    {
     "name": "stdout",
     "output_type": "stream",
     "text": [
      "Index(['userID', 'movieID', 'rating', 'timestamp'], dtype='object')\n",
      "Index(['userID', 'gender', 'age', 'occupation', 'zip-code'], dtype='object')\n",
      "Index(['movieID', 'title', 'genres'], dtype='object')\n"
     ]
    }
   ],
   "source": [
    "print(df_ratings.columns)\n",
    "print(df_users.columns)\n",
    "print(df_movies.columns)"
   ]
  },
  {
   "cell_type": "code",
   "execution_count": 76,
   "id": "e1d45cc0-6741-4e78-8326-2e4165a383a5",
   "metadata": {},
   "outputs": [],
   "source": [
    "# ValueError\n",
    "# pd.merge(df_movies, df_ratings, df_users)"
   ]
  },
  {
   "cell_type": "code",
   "execution_count": 77,
   "id": "c8a87dfc-e03e-4f01-a1d3-03cc3c13f0f2",
   "metadata": {},
   "outputs": [
    {
     "data": {
      "text/plain": [
       "Index(['userID', 'movieID', 'rating', 'timestamp', 'gender', 'age',\n",
       "       'occupation', 'zip-code'],\n",
       "      dtype='object')"
      ]
     },
     "execution_count": 77,
     "metadata": {},
     "output_type": "execute_result"
    }
   ],
   "source": [
    "# df_ratings + df_users => 'userID' 공통컬럼 \n",
    "df = pd.merge(df_ratings, df_users)\n",
    "df.columns"
   ]
  },
  {
   "cell_type": "code",
   "execution_count": 78,
   "id": "4ff815e1-8b50-4cec-b90c-86eae89bcbbb",
   "metadata": {},
   "outputs": [
    {
     "data": {
      "text/plain": [
       "Index(['userID', 'movieID', 'rating', 'timestamp', 'gender', 'age',\n",
       "       'occupation', 'zip-code', 'title', 'genres'],\n",
       "      dtype='object')"
      ]
     },
     "execution_count": 78,
     "metadata": {},
     "output_type": "execute_result"
    }
   ],
   "source": [
    "# df(df_ratings + df_users) + df_movies  => 'movieID' 공통컬럼 \n",
    "df = pd.merge(df, df_movies)\n",
    "df.columns"
   ]
  },
  {
   "cell_type": "code",
   "execution_count": 79,
   "id": "513dc846-9911-4f7d-9567-821018b9b20c",
   "metadata": {},
   "outputs": [
    {
     "data": {
      "text/html": [
       "<div>\n",
       "<style scoped>\n",
       "    .dataframe tbody tr th:only-of-type {\n",
       "        vertical-align: middle;\n",
       "    }\n",
       "\n",
       "    .dataframe tbody tr th {\n",
       "        vertical-align: top;\n",
       "    }\n",
       "\n",
       "    .dataframe thead th {\n",
       "        text-align: right;\n",
       "    }\n",
       "</style>\n",
       "<table border=\"1\" class=\"dataframe\">\n",
       "  <thead>\n",
       "    <tr style=\"text-align: right;\">\n",
       "      <th></th>\n",
       "      <th>userID</th>\n",
       "      <th>movieID</th>\n",
       "      <th>rating</th>\n",
       "      <th>timestamp</th>\n",
       "      <th>gender</th>\n",
       "      <th>age</th>\n",
       "      <th>occupation</th>\n",
       "      <th>zip-code</th>\n",
       "      <th>title</th>\n",
       "      <th>genres</th>\n",
       "    </tr>\n",
       "  </thead>\n",
       "  <tbody>\n",
       "    <tr>\n",
       "      <th>310124</th>\n",
       "      <td>1246</td>\n",
       "      <td>348</td>\n",
       "      <td>4</td>\n",
       "      <td>975071331</td>\n",
       "      <td>M</td>\n",
       "      <td>18</td>\n",
       "      <td>4</td>\n",
       "      <td>98225</td>\n",
       "      <td>Bullets Over Broadway (1994)</td>\n",
       "      <td>Comedy</td>\n",
       "    </tr>\n",
       "    <tr>\n",
       "      <th>469924</th>\n",
       "      <td>802</td>\n",
       "      <td>339</td>\n",
       "      <td>3</td>\n",
       "      <td>975397665</td>\n",
       "      <td>M</td>\n",
       "      <td>25</td>\n",
       "      <td>16</td>\n",
       "      <td>22801</td>\n",
       "      <td>While You Were Sleeping (1995)</td>\n",
       "      <td>Comedy|Romance</td>\n",
       "    </tr>\n",
       "    <tr>\n",
       "      <th>843022</th>\n",
       "      <td>4388</td>\n",
       "      <td>2474</td>\n",
       "      <td>4</td>\n",
       "      <td>965220750</td>\n",
       "      <td>M</td>\n",
       "      <td>45</td>\n",
       "      <td>3</td>\n",
       "      <td>75074</td>\n",
       "      <td>Color of Money, The (1986)</td>\n",
       "      <td>Drama</td>\n",
       "    </tr>\n",
       "  </tbody>\n",
       "</table>\n",
       "</div>"
      ],
      "text/plain": [
       "        userID  movieID  rating  timestamp gender  age  occupation zip-code  \\\n",
       "310124    1246      348       4  975071331      M   18           4    98225   \n",
       "469924     802      339       3  975397665      M   25          16    22801   \n",
       "843022    4388     2474       4  965220750      M   45           3    75074   \n",
       "\n",
       "                                 title          genres  \n",
       "310124    Bullets Over Broadway (1994)          Comedy  \n",
       "469924  While You Were Sleeping (1995)  Comedy|Romance  \n",
       "843022      Color of Money, The (1986)           Drama  "
      ]
     },
     "execution_count": 79,
     "metadata": {},
     "output_type": "execute_result"
    }
   ],
   "source": [
    "df.sample(3)"
   ]
  },
  {
   "cell_type": "code",
   "execution_count": 80,
   "id": "b85b714e-3511-46bc-af03-53b0267020a3",
   "metadata": {},
   "outputs": [
    {
     "data": {
      "text/plain": [
       "((1000209, 10), (1000209, 4), (6040, 5), (3883, 3))"
      ]
     },
     "execution_count": 80,
     "metadata": {},
     "output_type": "execute_result"
    }
   ],
   "source": [
    " df.shape, df_ratings.shape, df_users.shape, df_movies.shape"
   ]
  },
  {
   "cell_type": "code",
   "execution_count": 88,
   "id": "f54d1b96-bcfe-4e85-bf5b-fa722c74de40",
   "metadata": {},
   "outputs": [
    {
     "data": {
      "text/html": [
       "<div>\n",
       "<style scoped>\n",
       "    .dataframe tbody tr th:only-of-type {\n",
       "        vertical-align: middle;\n",
       "    }\n",
       "\n",
       "    .dataframe tbody tr th {\n",
       "        vertical-align: top;\n",
       "    }\n",
       "\n",
       "    .dataframe thead th {\n",
       "        text-align: right;\n",
       "    }\n",
       "</style>\n",
       "<table border=\"1\" class=\"dataframe\">\n",
       "  <thead>\n",
       "    <tr style=\"text-align: right;\">\n",
       "      <th></th>\n",
       "      <th>title</th>\n",
       "      <th>genres</th>\n",
       "    </tr>\n",
       "  </thead>\n",
       "  <tbody>\n",
       "    <tr>\n",
       "      <th>59344</th>\n",
       "      <td>Dead Poets Society (1989)</td>\n",
       "      <td>Drama</td>\n",
       "    </tr>\n",
       "    <tr>\n",
       "      <th>14006</th>\n",
       "      <td>Miracle on 34th Street (1947)</td>\n",
       "      <td>Drama</td>\n",
       "    </tr>\n",
       "    <tr>\n",
       "      <th>28501</th>\n",
       "      <td>Pocahontas (1995)</td>\n",
       "      <td>Animation|Children's|Musical|Romance</td>\n",
       "    </tr>\n",
       "  </tbody>\n",
       "</table>\n",
       "</div>"
      ],
      "text/plain": [
       "                               title                                genres\n",
       "59344      Dead Poets Society (1989)                                 Drama\n",
       "14006  Miracle on 34th Street (1947)                                 Drama\n",
       "28501              Pocahontas (1995)  Animation|Children's|Musical|Romance"
      ]
     },
     "execution_count": 88,
     "metadata": {},
     "output_type": "execute_result"
    }
   ],
   "source": [
    "# userID 1의 영화 제목과 영화 개봉 년도, 장르, 소팅 기준(년도)\n",
    "df[df['userID']==1][['title', 'genres']].sample(3)"
   ]
  },
  {
   "cell_type": "code",
   "execution_count": 94,
   "id": "37ac5fd3-e974-46b3-bb87-05b60986da5a",
   "metadata": {
    "collapsed": true,
    "jupyter": {
     "outputs_hidden": true
    },
    "tags": []
   },
   "outputs": [
    {
     "data": {
      "text/plain": [
       "0               1975\n",
       "1725            1996\n",
       "2250            1964\n",
       "2886            2000\n",
       "4201            1998\n",
       "5904            1987\n",
       "8222            1959\n",
       "8926            1983\n",
       "10278           1937\n",
       "11041           1939\n",
       "12759           1991\n",
       "13819           1958\n",
       "14006           1947\n",
       "14386           1986\n",
       "15859           1965\n",
       "16741           1980\n",
       "18472           1999\n",
       "18914           1942\n",
       "19503           1990\n",
       "20183           1988\n",
       "21674           1998\n",
       "22832           1996\n",
       "23270           1985\n",
       "25853           1993\n",
       "28157           1998\n",
       "28501           1995\n",
       "28883           1982\n",
       "31152           1997\n",
       "32698           1996\n",
       "32771           1995\n",
       "33428           1998\n",
       "34073           1999\n",
       "34504           1997\n",
       "34973           1992\n",
       "36324           1998\n",
       "36814           1996\n",
       "37204           1998\n",
       "37339           1950\n",
       "37916           1999\n",
       "40375           1995\n",
       "41626           1995\n",
       "43703           1988\n",
       "45033           1989\n",
       "45685    Lola rennt)\n",
       "46757           1977\n",
       "49748           1964\n",
       "50759           1941\n",
       "51327           1962\n",
       "52255           1998\n",
       "54908           1993\n",
       "55246           1999\n",
       "56831           1996\n",
       "59344           1989\n",
       "Name: title, dtype: object"
      ]
     },
     "execution_count": 94,
     "metadata": {},
     "output_type": "execute_result"
    }
   ],
   "source": [
    "# 년도 추출\n",
    "df_user1['title'].str.split('(').str[1].str[:-1]"
   ]
  },
  {
   "cell_type": "code",
   "execution_count": 95,
   "id": "a201b32a-8d09-4008-9ea9-2d795770b5b1",
   "metadata": {
    "collapsed": true,
    "jupyter": {
     "outputs_hidden": true
    },
    "tags": []
   },
   "outputs": [
    {
     "data": {
      "text/plain": [
       "0                        One Flew Over the Cuckoo's Nest \n",
       "1725                           James and the Giant Peach \n",
       "2250                                        My Fair Lady \n",
       "2886                                     Erin Brockovich \n",
       "4201                                       Bug's Life, A \n",
       "5904                                 Princess Bride, The \n",
       "8222                                             Ben-Hur \n",
       "8926                                  Christmas Story, A \n",
       "10278                    Snow White and the Seven Dwarfs \n",
       "11041                                  Wizard of Oz, The \n",
       "12759                               Beauty and the Beast \n",
       "13819                                               Gigi \n",
       "14006                             Miracle on 34th Street \n",
       "14386                           Ferris Bueller's Day Off \n",
       "15859                                Sound of Music, The \n",
       "16741                                          Airplane! \n",
       "18472                                             Tarzan \n",
       "18914                                              Bambi \n",
       "19503                                         Awakenings \n",
       "20183                                                Big \n",
       "21674                                      Pleasantville \n",
       "22832    Wallace & Gromit: The Best of Aardman Animation \n",
       "23270                                 Back to the Future \n",
       "25853                                   Schindler's List \n",
       "28157                                     Meet Joe Black \n",
       "28501                                         Pocahontas \n",
       "28883                         E.T. the Extra-Terrestrial \n",
       "31152                                            Titanic \n",
       "32698                                            Ponette \n",
       "32771                                     Close Shave, A \n",
       "33428                                               Antz \n",
       "34073                                  Girl, Interrupted \n",
       "34504                                           Hercules \n",
       "34973                                            Aladdin \n",
       "36324                                              Mulan \n",
       "36814                       Hunchback of Notre Dame, The \n",
       "37204                            Last Days of Disco, The \n",
       "37339                                         Cinderella \n",
       "37916                                   Sixth Sense, The \n",
       "40375                                          Apollo 13 \n",
       "41626                                          Toy Story \n",
       "43703                                           Rain Man \n",
       "45033                                 Driving Miss Daisy \n",
       "45685                                       Run Lola Run \n",
       "46757                 Star Wars: Episode IV - A New Hope \n",
       "49748                                       Mary Poppins \n",
       "50759                                              Dumbo \n",
       "51327                              To Kill a Mockingbird \n",
       "52255                                Saving Private Ryan \n",
       "54908                                 Secret Garden, The \n",
       "55246                                        Toy Story 2 \n",
       "56831                                              Fargo \n",
       "59344                                 Dead Poets Society \n",
       "Name: title, dtype: object"
      ]
     },
     "execution_count": 95,
     "metadata": {},
     "output_type": "execute_result"
    }
   ],
   "source": [
    "# 영화제목 추출\n",
    "df_user1['title'].str.split('(').str[0]"
   ]
  },
  {
   "cell_type": "code",
   "execution_count": 96,
   "id": "8ba32f1b-4e61-4e58-a6df-42fa506256d7",
   "metadata": {
    "collapsed": true,
    "jupyter": {
     "outputs_hidden": true
    },
    "tags": []
   },
   "outputs": [
    {
     "data": {
      "text/html": [
       "<div>\n",
       "<style scoped>\n",
       "    .dataframe tbody tr th:only-of-type {\n",
       "        vertical-align: middle;\n",
       "    }\n",
       "\n",
       "    .dataframe tbody tr th {\n",
       "        vertical-align: top;\n",
       "    }\n",
       "\n",
       "    .dataframe thead th {\n",
       "        text-align: right;\n",
       "    }\n",
       "</style>\n",
       "<table border=\"1\" class=\"dataframe\">\n",
       "  <thead>\n",
       "    <tr style=\"text-align: right;\">\n",
       "      <th></th>\n",
       "      <th>userID</th>\n",
       "      <th>movieID</th>\n",
       "      <th>rating</th>\n",
       "      <th>timestamp</th>\n",
       "      <th>gender</th>\n",
       "      <th>age</th>\n",
       "      <th>occupation</th>\n",
       "      <th>zip-code</th>\n",
       "      <th>title</th>\n",
       "      <th>genres</th>\n",
       "      <th>year</th>\n",
       "    </tr>\n",
       "  </thead>\n",
       "  <tbody>\n",
       "    <tr>\n",
       "      <th>0</th>\n",
       "      <td>1</td>\n",
       "      <td>1193</td>\n",
       "      <td>5</td>\n",
       "      <td>978300760</td>\n",
       "      <td>F</td>\n",
       "      <td>1</td>\n",
       "      <td>10</td>\n",
       "      <td>48067</td>\n",
       "      <td>One Flew Over the Cuckoo's Nest</td>\n",
       "      <td>Drama</td>\n",
       "      <td>1975</td>\n",
       "    </tr>\n",
       "    <tr>\n",
       "      <th>1725</th>\n",
       "      <td>1</td>\n",
       "      <td>661</td>\n",
       "      <td>3</td>\n",
       "      <td>978302109</td>\n",
       "      <td>F</td>\n",
       "      <td>1</td>\n",
       "      <td>10</td>\n",
       "      <td>48067</td>\n",
       "      <td>James and the Giant Peach</td>\n",
       "      <td>Animation|Children's|Musical</td>\n",
       "      <td>1996</td>\n",
       "    </tr>\n",
       "    <tr>\n",
       "      <th>2250</th>\n",
       "      <td>1</td>\n",
       "      <td>914</td>\n",
       "      <td>3</td>\n",
       "      <td>978301968</td>\n",
       "      <td>F</td>\n",
       "      <td>1</td>\n",
       "      <td>10</td>\n",
       "      <td>48067</td>\n",
       "      <td>My Fair Lady</td>\n",
       "      <td>Musical|Romance</td>\n",
       "      <td>1964</td>\n",
       "    </tr>\n",
       "    <tr>\n",
       "      <th>2886</th>\n",
       "      <td>1</td>\n",
       "      <td>3408</td>\n",
       "      <td>4</td>\n",
       "      <td>978300275</td>\n",
       "      <td>F</td>\n",
       "      <td>1</td>\n",
       "      <td>10</td>\n",
       "      <td>48067</td>\n",
       "      <td>Erin Brockovich</td>\n",
       "      <td>Drama</td>\n",
       "      <td>2000</td>\n",
       "    </tr>\n",
       "    <tr>\n",
       "      <th>4201</th>\n",
       "      <td>1</td>\n",
       "      <td>2355</td>\n",
       "      <td>5</td>\n",
       "      <td>978824291</td>\n",
       "      <td>F</td>\n",
       "      <td>1</td>\n",
       "      <td>10</td>\n",
       "      <td>48067</td>\n",
       "      <td>Bug's Life, A</td>\n",
       "      <td>Animation|Children's|Comedy</td>\n",
       "      <td>1998</td>\n",
       "    </tr>\n",
       "  </tbody>\n",
       "</table>\n",
       "</div>"
      ],
      "text/plain": [
       "      userID  movieID  rating  timestamp gender  age  occupation zip-code  \\\n",
       "0          1     1193       5  978300760      F    1          10    48067   \n",
       "1725       1      661       3  978302109      F    1          10    48067   \n",
       "2250       1      914       3  978301968      F    1          10    48067   \n",
       "2886       1     3408       4  978300275      F    1          10    48067   \n",
       "4201       1     2355       5  978824291      F    1          10    48067   \n",
       "\n",
       "                                 title                        genres  year  \n",
       "0     One Flew Over the Cuckoo's Nest                          Drama  1975  \n",
       "1725        James and the Giant Peach   Animation|Children's|Musical  1996  \n",
       "2250                     My Fair Lady                Musical|Romance  1964  \n",
       "2886                  Erin Brockovich                          Drama  2000  \n",
       "4201                    Bug's Life, A    Animation|Children's|Comedy  1998  "
      ]
     },
     "execution_count": 96,
     "metadata": {},
     "output_type": "execute_result"
    }
   ],
   "source": [
    "df_user1 = df[df['userID']==1].copy()\n",
    "# title을 영화제목과 년도로 분리\n",
    "df_user1['year'] = df_user1['title'].str.split('(').str[1].str[:-1]\n",
    "df_user1['title'] = df_user1['title'].str.split('(').str[0]\n",
    "df_user1.head()"
   ]
  },
  {
   "cell_type": "code",
   "execution_count": 98,
   "id": "5ac27c35-8144-4ef6-a2fe-2cc1a4b50319",
   "metadata": {},
   "outputs": [],
   "source": [
    "df_user1.sort_values(by='year', inplace=True)"
   ]
  },
  {
   "cell_type": "code",
   "execution_count": 100,
   "id": "3973cc9d-c91a-431a-a300-fe9f5350aa2d",
   "metadata": {
    "tags": []
   },
   "outputs": [
    {
     "data": {
      "text/html": [
       "<div>\n",
       "<style scoped>\n",
       "    .dataframe tbody tr th:only-of-type {\n",
       "        vertical-align: middle;\n",
       "    }\n",
       "\n",
       "    .dataframe tbody tr th {\n",
       "        vertical-align: top;\n",
       "    }\n",
       "\n",
       "    .dataframe thead th {\n",
       "        text-align: right;\n",
       "    }\n",
       "</style>\n",
       "<table border=\"1\" class=\"dataframe\">\n",
       "  <thead>\n",
       "    <tr style=\"text-align: right;\">\n",
       "      <th></th>\n",
       "      <th>userID</th>\n",
       "      <th>movieID</th>\n",
       "      <th>rating</th>\n",
       "      <th>timestamp</th>\n",
       "      <th>gender</th>\n",
       "      <th>age</th>\n",
       "      <th>occupation</th>\n",
       "      <th>zip-code</th>\n",
       "      <th>title</th>\n",
       "      <th>genres</th>\n",
       "      <th>year</th>\n",
       "    </tr>\n",
       "  </thead>\n",
       "  <tbody>\n",
       "    <tr>\n",
       "      <th>36814</th>\n",
       "      <td>1</td>\n",
       "      <td>783</td>\n",
       "      <td>4</td>\n",
       "      <td>978824291</td>\n",
       "      <td>F</td>\n",
       "      <td>1</td>\n",
       "      <td>10</td>\n",
       "      <td>48067</td>\n",
       "      <td>Hunchback of Notre Dame, The</td>\n",
       "      <td>Animation|Children's|Musical</td>\n",
       "      <td>1996</td>\n",
       "    </tr>\n",
       "    <tr>\n",
       "      <th>32771</th>\n",
       "      <td>1</td>\n",
       "      <td>745</td>\n",
       "      <td>3</td>\n",
       "      <td>978824268</td>\n",
       "      <td>F</td>\n",
       "      <td>1</td>\n",
       "      <td>10</td>\n",
       "      <td>48067</td>\n",
       "      <td>Close Shave, A</td>\n",
       "      <td>Animation|Comedy|Thriller</td>\n",
       "      <td>1995</td>\n",
       "    </tr>\n",
       "    <tr>\n",
       "      <th>2886</th>\n",
       "      <td>1</td>\n",
       "      <td>3408</td>\n",
       "      <td>4</td>\n",
       "      <td>978300275</td>\n",
       "      <td>F</td>\n",
       "      <td>1</td>\n",
       "      <td>10</td>\n",
       "      <td>48067</td>\n",
       "      <td>Erin Brockovich</td>\n",
       "      <td>Drama</td>\n",
       "      <td>2000</td>\n",
       "    </tr>\n",
       "  </tbody>\n",
       "</table>\n",
       "</div>"
      ],
      "text/plain": [
       "       userID  movieID  rating  timestamp gender  age  occupation zip-code  \\\n",
       "36814       1      783       4  978824291      F    1          10    48067   \n",
       "32771       1      745       3  978824268      F    1          10    48067   \n",
       "2886        1     3408       4  978300275      F    1          10    48067   \n",
       "\n",
       "                               title                        genres  year  \n",
       "36814  Hunchback of Notre Dame, The   Animation|Children's|Musical  1996  \n",
       "32771                Close Shave, A      Animation|Comedy|Thriller  1995  \n",
       "2886                Erin Brockovich                          Drama  2000  "
      ]
     },
     "execution_count": 100,
     "metadata": {},
     "output_type": "execute_result"
    }
   ],
   "source": [
    "df_user1.sample(3)"
   ]
  },
  {
   "cell_type": "code",
   "execution_count": 104,
   "id": "c1dfc19c-9b2b-4528-97f0-36d41810befc",
   "metadata": {},
   "outputs": [
    {
     "data": {
      "text/html": [
       "<div>\n",
       "<style scoped>\n",
       "    .dataframe tbody tr th:only-of-type {\n",
       "        vertical-align: middle;\n",
       "    }\n",
       "\n",
       "    .dataframe tbody tr th {\n",
       "        vertical-align: top;\n",
       "    }\n",
       "\n",
       "    .dataframe thead th {\n",
       "        text-align: right;\n",
       "    }\n",
       "</style>\n",
       "<table border=\"1\" class=\"dataframe\">\n",
       "  <thead>\n",
       "    <tr style=\"text-align: right;\">\n",
       "      <th></th>\n",
       "      <th>userID</th>\n",
       "      <th>movieID</th>\n",
       "      <th>rating</th>\n",
       "      <th>timestamp</th>\n",
       "      <th>gender</th>\n",
       "      <th>age</th>\n",
       "      <th>occupation</th>\n",
       "      <th>zip-code</th>\n",
       "      <th>title</th>\n",
       "      <th>genres</th>\n",
       "      <th>year</th>\n",
       "    </tr>\n",
       "  </thead>\n",
       "  <tbody>\n",
       "    <tr>\n",
       "      <th>8222</th>\n",
       "      <td>1</td>\n",
       "      <td>1287</td>\n",
       "      <td>5</td>\n",
       "      <td>978302039</td>\n",
       "      <td>F</td>\n",
       "      <td>1</td>\n",
       "      <td>10</td>\n",
       "      <td>48067</td>\n",
       "      <td>Ben-Hur</td>\n",
       "      <td>Action|Adventure|Drama</td>\n",
       "      <td>1959</td>\n",
       "    </tr>\n",
       "    <tr>\n",
       "      <th>46757</th>\n",
       "      <td>1</td>\n",
       "      <td>260</td>\n",
       "      <td>4</td>\n",
       "      <td>978300760</td>\n",
       "      <td>F</td>\n",
       "      <td>1</td>\n",
       "      <td>10</td>\n",
       "      <td>48067</td>\n",
       "      <td>Star Wars: Episode IV - A New Hope</td>\n",
       "      <td>Action|Adventure|Fantasy|Sci-Fi</td>\n",
       "      <td>1977</td>\n",
       "    </tr>\n",
       "    <tr>\n",
       "      <th>5904</th>\n",
       "      <td>1</td>\n",
       "      <td>1197</td>\n",
       "      <td>3</td>\n",
       "      <td>978302268</td>\n",
       "      <td>F</td>\n",
       "      <td>1</td>\n",
       "      <td>10</td>\n",
       "      <td>48067</td>\n",
       "      <td>Princess Bride, The</td>\n",
       "      <td>Action|Adventure|Comedy|Romance</td>\n",
       "      <td>1987</td>\n",
       "    </tr>\n",
       "    <tr>\n",
       "      <th>52255</th>\n",
       "      <td>1</td>\n",
       "      <td>2028</td>\n",
       "      <td>5</td>\n",
       "      <td>978301619</td>\n",
       "      <td>F</td>\n",
       "      <td>1</td>\n",
       "      <td>10</td>\n",
       "      <td>48067</td>\n",
       "      <td>Saving Private Ryan</td>\n",
       "      <td>Action|Drama|War</td>\n",
       "      <td>1998</td>\n",
       "    </tr>\n",
       "    <tr>\n",
       "      <th>45685</th>\n",
       "      <td>1</td>\n",
       "      <td>2692</td>\n",
       "      <td>4</td>\n",
       "      <td>978301570</td>\n",
       "      <td>F</td>\n",
       "      <td>1</td>\n",
       "      <td>10</td>\n",
       "      <td>48067</td>\n",
       "      <td>Run Lola Run</td>\n",
       "      <td>Action|Crime|Romance</td>\n",
       "      <td>Lola rennt)</td>\n",
       "    </tr>\n",
       "  </tbody>\n",
       "</table>\n",
       "</div>"
      ],
      "text/plain": [
       "       userID  movieID  rating  timestamp gender  age  occupation zip-code  \\\n",
       "8222        1     1287       5  978302039      F    1          10    48067   \n",
       "46757       1      260       4  978300760      F    1          10    48067   \n",
       "5904        1     1197       3  978302268      F    1          10    48067   \n",
       "52255       1     2028       5  978301619      F    1          10    48067   \n",
       "45685       1     2692       4  978301570      F    1          10    48067   \n",
       "\n",
       "                                     title                           genres  \\\n",
       "8222                              Ben-Hur            Action|Adventure|Drama   \n",
       "46757  Star Wars: Episode IV - A New Hope   Action|Adventure|Fantasy|Sci-Fi   \n",
       "5904                  Princess Bride, The   Action|Adventure|Comedy|Romance   \n",
       "52255                 Saving Private Ryan                  Action|Drama|War   \n",
       "45685                        Run Lola Run              Action|Crime|Romance   \n",
       "\n",
       "              year  \n",
       "8222          1959  \n",
       "46757         1977  \n",
       "5904          1987  \n",
       "52255         1998  \n",
       "45685  Lola rennt)  "
      ]
     },
     "execution_count": 104,
     "metadata": {},
     "output_type": "execute_result"
    }
   ],
   "source": [
    "# userID 1의 액션 장르만 - 소팅 기준 (년도)\n",
    "df_user1[df_user1['genres'].str.contains('Action')]"
   ]
  },
  {
   "cell_type": "code",
   "execution_count": 83,
   "id": "bb4b5ad6-7f44-4b34-b2aa-1b2b12723178",
   "metadata": {},
   "outputs": [],
   "source": [
    "# 남녀별 평점이 가장 낮은 영화 데이타 정보만 출력하기"
   ]
  },
  {
   "cell_type": "code",
   "execution_count": 108,
   "id": "e63ac523-ef4d-4655-877e-6d8deb3087a9",
   "metadata": {},
   "outputs": [
    {
     "data": {
      "text/plain": [
       "(array([5, 4, 3, 2, 1], dtype=int64), array(['F', 'M'], dtype=object))"
      ]
     },
     "execution_count": 108,
     "metadata": {},
     "output_type": "execute_result"
    }
   ],
   "source": [
    "df['rating'].unique(), df['gender'].unique()"
   ]
  },
  {
   "cell_type": "code",
   "execution_count": 112,
   "id": "431c4ccb-6aa1-40a5-b610-1e3afc1711df",
   "metadata": {},
   "outputs": [
    {
     "data": {
      "text/plain": [
       "(1, 1)"
      ]
     },
     "execution_count": 112,
     "metadata": {},
     "output_type": "execute_result"
    }
   ],
   "source": [
    "# 남녀별 가장 낮은 평점\n",
    "df[df['gender']== 'M']['rating'].min(), df[df['gender']== 'F']['rating'].min(),"
   ]
  },
  {
   "cell_type": "code",
   "execution_count": 114,
   "id": "90be6fd1-784f-4bee-b968-919097b67c04",
   "metadata": {},
   "outputs": [
    {
     "data": {
      "text/plain": [
       "((753769, 10), (246440, 10))"
      ]
     },
     "execution_count": 114,
     "metadata": {},
     "output_type": "execute_result"
    }
   ],
   "source": [
    "# 남녀별 데이타프레임 저장 (평점이 가장낮다. 장르가 Adventure)\n",
    "df_male = df[df['gender']== 'M'].copy()\n",
    "df_female = df[df['gender']== 'F'].copy()\n",
    "df_male.shape, df_female.shape"
   ]
  },
  {
   "cell_type": "code",
   "execution_count": 117,
   "id": "ac0e6a61-dd4d-4b84-b411-679705779437",
   "metadata": {
    "collapsed": true,
    "jupyter": {
     "outputs_hidden": true
    },
    "tags": []
   },
   "outputs": [
    {
     "data": {
      "text/html": [
       "<div>\n",
       "<style scoped>\n",
       "    .dataframe tbody tr th:only-of-type {\n",
       "        vertical-align: middle;\n",
       "    }\n",
       "\n",
       "    .dataframe tbody tr th {\n",
       "        vertical-align: top;\n",
       "    }\n",
       "\n",
       "    .dataframe thead th {\n",
       "        text-align: right;\n",
       "    }\n",
       "</style>\n",
       "<table border=\"1\" class=\"dataframe\">\n",
       "  <thead>\n",
       "    <tr style=\"text-align: right;\">\n",
       "      <th></th>\n",
       "      <th>userID</th>\n",
       "      <th>movieID</th>\n",
       "      <th>rating</th>\n",
       "      <th>timestamp</th>\n",
       "      <th>gender</th>\n",
       "      <th>age</th>\n",
       "      <th>occupation</th>\n",
       "      <th>zip-code</th>\n",
       "      <th>title</th>\n",
       "      <th>genres</th>\n",
       "    </tr>\n",
       "  </thead>\n",
       "  <tbody>\n",
       "    <tr>\n",
       "      <th>5947</th>\n",
       "      <td>136</td>\n",
       "      <td>1197</td>\n",
       "      <td>1</td>\n",
       "      <td>977421777</td>\n",
       "      <td>M</td>\n",
       "      <td>18</td>\n",
       "      <td>2</td>\n",
       "      <td>21202</td>\n",
       "      <td>Princess Bride, The (1987)</td>\n",
       "      <td>Action|Adventure|Comedy|Romance</td>\n",
       "    </tr>\n",
       "    <tr>\n",
       "      <th>6358</th>\n",
       "      <td>1211</td>\n",
       "      <td>1197</td>\n",
       "      <td>1</td>\n",
       "      <td>974843700</td>\n",
       "      <td>M</td>\n",
       "      <td>18</td>\n",
       "      <td>4</td>\n",
       "      <td>10027</td>\n",
       "      <td>Princess Bride, The (1987)</td>\n",
       "      <td>Action|Adventure|Comedy|Romance</td>\n",
       "    </tr>\n",
       "    <tr>\n",
       "      <th>6419</th>\n",
       "      <td>1358</td>\n",
       "      <td>1197</td>\n",
       "      <td>1</td>\n",
       "      <td>974771018</td>\n",
       "      <td>M</td>\n",
       "      <td>35</td>\n",
       "      <td>17</td>\n",
       "      <td>49508</td>\n",
       "      <td>Princess Bride, The (1987)</td>\n",
       "      <td>Action|Adventure|Comedy|Romance</td>\n",
       "    </tr>\n",
       "    <tr>\n",
       "      <th>6513</th>\n",
       "      <td>1624</td>\n",
       "      <td>1197</td>\n",
       "      <td>1</td>\n",
       "      <td>974724050</td>\n",
       "      <td>M</td>\n",
       "      <td>25</td>\n",
       "      <td>0</td>\n",
       "      <td>06810</td>\n",
       "      <td>Princess Bride, The (1987)</td>\n",
       "      <td>Action|Adventure|Comedy|Romance</td>\n",
       "    </tr>\n",
       "    <tr>\n",
       "      <th>6652</th>\n",
       "      <td>2024</td>\n",
       "      <td>1197</td>\n",
       "      <td>1</td>\n",
       "      <td>974672067</td>\n",
       "      <td>M</td>\n",
       "      <td>1</td>\n",
       "      <td>19</td>\n",
       "      <td>06614</td>\n",
       "      <td>Princess Bride, The (1987)</td>\n",
       "      <td>Action|Adventure|Comedy|Romance</td>\n",
       "    </tr>\n",
       "    <tr>\n",
       "      <th>...</th>\n",
       "      <td>...</td>\n",
       "      <td>...</td>\n",
       "      <td>...</td>\n",
       "      <td>...</td>\n",
       "      <td>...</td>\n",
       "      <td>...</td>\n",
       "      <td>...</td>\n",
       "      <td>...</td>\n",
       "      <td>...</td>\n",
       "      <td>...</td>\n",
       "    </tr>\n",
       "    <tr>\n",
       "      <th>999433</th>\n",
       "      <td>1181</td>\n",
       "      <td>1849</td>\n",
       "      <td>1</td>\n",
       "      <td>976148404</td>\n",
       "      <td>M</td>\n",
       "      <td>35</td>\n",
       "      <td>7</td>\n",
       "      <td>20716</td>\n",
       "      <td>Prince Valiant (1997)</td>\n",
       "      <td>Adventure</td>\n",
       "    </tr>\n",
       "    <tr>\n",
       "      <th>999748</th>\n",
       "      <td>1470</td>\n",
       "      <td>3166</td>\n",
       "      <td>1</td>\n",
       "      <td>974836551</td>\n",
       "      <td>M</td>\n",
       "      <td>18</td>\n",
       "      <td>4</td>\n",
       "      <td>94118</td>\n",
       "      <td>Brenda Starr (1989)</td>\n",
       "      <td>Adventure</td>\n",
       "    </tr>\n",
       "    <tr>\n",
       "      <th>999749</th>\n",
       "      <td>1676</td>\n",
       "      <td>3166</td>\n",
       "      <td>1</td>\n",
       "      <td>974851550</td>\n",
       "      <td>M</td>\n",
       "      <td>18</td>\n",
       "      <td>4</td>\n",
       "      <td>91301</td>\n",
       "      <td>Brenda Starr (1989)</td>\n",
       "      <td>Adventure</td>\n",
       "    </tr>\n",
       "    <tr>\n",
       "      <th>999750</th>\n",
       "      <td>2015</td>\n",
       "      <td>3166</td>\n",
       "      <td>1</td>\n",
       "      <td>1020387096</td>\n",
       "      <td>M</td>\n",
       "      <td>18</td>\n",
       "      <td>4</td>\n",
       "      <td>01003</td>\n",
       "      <td>Brenda Starr (1989)</td>\n",
       "      <td>Adventure</td>\n",
       "    </tr>\n",
       "    <tr>\n",
       "      <th>999751</th>\n",
       "      <td>4422</td>\n",
       "      <td>3166</td>\n",
       "      <td>1</td>\n",
       "      <td>965154503</td>\n",
       "      <td>M</td>\n",
       "      <td>25</td>\n",
       "      <td>5</td>\n",
       "      <td>10463</td>\n",
       "      <td>Brenda Starr (1989)</td>\n",
       "      <td>Adventure</td>\n",
       "    </tr>\n",
       "  </tbody>\n",
       "</table>\n",
       "<p>6798 rows × 10 columns</p>\n",
       "</div>"
      ],
      "text/plain": [
       "        userID  movieID  rating   timestamp gender  age  occupation zip-code  \\\n",
       "5947       136     1197       1   977421777      M   18           2    21202   \n",
       "6358      1211     1197       1   974843700      M   18           4    10027   \n",
       "6419      1358     1197       1   974771018      M   35          17    49508   \n",
       "6513      1624     1197       1   974724050      M   25           0    06810   \n",
       "6652      2024     1197       1   974672067      M    1          19    06614   \n",
       "...        ...      ...     ...         ...    ...  ...         ...      ...   \n",
       "999433    1181     1849       1   976148404      M   35           7    20716   \n",
       "999748    1470     3166       1   974836551      M   18           4    94118   \n",
       "999749    1676     3166       1   974851550      M   18           4    91301   \n",
       "999750    2015     3166       1  1020387096      M   18           4    01003   \n",
       "999751    4422     3166       1   965154503      M   25           5    10463   \n",
       "\n",
       "                             title                           genres  \n",
       "5947    Princess Bride, The (1987)  Action|Adventure|Comedy|Romance  \n",
       "6358    Princess Bride, The (1987)  Action|Adventure|Comedy|Romance  \n",
       "6419    Princess Bride, The (1987)  Action|Adventure|Comedy|Romance  \n",
       "6513    Princess Bride, The (1987)  Action|Adventure|Comedy|Romance  \n",
       "6652    Princess Bride, The (1987)  Action|Adventure|Comedy|Romance  \n",
       "...                            ...                              ...  \n",
       "999433       Prince Valiant (1997)                        Adventure  \n",
       "999748         Brenda Starr (1989)                        Adventure  \n",
       "999749         Brenda Starr (1989)                        Adventure  \n",
       "999750         Brenda Starr (1989)                        Adventure  \n",
       "999751         Brenda Starr (1989)                        Adventure  \n",
       "\n",
       "[6798 rows x 10 columns]"
      ]
     },
     "execution_count": 117,
     "metadata": {},
     "output_type": "execute_result"
    }
   ],
   "source": [
    "df_male[(df_male['rating']==df_male['rating'].min()) & (df_male['genres'].str.contains('Adventure'))]"
   ]
  },
  {
   "cell_type": "code",
   "execution_count": 120,
   "id": "b53a9749-f789-4277-9d96-2ee33b13632c",
   "metadata": {
    "collapsed": true,
    "jupyter": {
     "outputs_hidden": true
    },
    "tags": []
   },
   "outputs": [
    {
     "data": {
      "text/plain": [
       "array(['Princess Bride, The (1987)', 'Ben-Hur (1959)',\n",
       "       'Wizard of Oz, The (1939)', 'Hercules (1997)',\n",
       "       'Star Wars: Episode IV - A New Hope (1977)',\n",
       "       'Mission: Impossible (1996)',\n",
       "       'Star Wars: Episode I - The Phantom Menace (1999)',\n",
       "       'Total Recall (1990)',\n",
       "       'Star Wars: Episode VI - Return of the Jedi (1983)',\n",
       "       'Cliffhanger (1993)', 'Stand by Me (1986)',\n",
       "       'Lost World: Jurassic Park, The (1997)', 'Starman (1984)',\n",
       "       'Jurassic Park (1993)',\n",
       "       'Star Trek VI: The Undiscovered Country (1991)',\n",
       "       'Dances with Wolves (1990)',\n",
       "       'Star Wars: Episode V - The Empire Strikes Back (1980)',\n",
       "       'Con Air (1997)', 'Twister (1996)',\n",
       "       'Raiders of the Lost Ark (1981)', 'Armageddon (1998)',\n",
       "       'True Lies (1994)', 'Clear and Present Danger (1994)',\n",
       "       'Mask of Zorro, The (1998)', 'Golden Child, The (1986)',\n",
       "       'Edge, The (1997)', 'Indiana Jones and the Last Crusade (1989)',\n",
       "       'Dragonheart (1996)', 'Blade (1998)', 'Men in Black (1997)',\n",
       "       'Ghost and the Darkness, The (1996)',\n",
       "       'Evil Dead II (Dead By Dawn) (1987)',\n",
       "       'Three Musketeers, The (1993)', 'Rock, The (1996)',\n",
       "       'Crocodile Dundee (1986)', 'Easy Rider (1969)',\n",
       "       'Mummy, The (1999)', 'Deliverance (1972)',\n",
       "       'Indiana Jones and the Temple of Doom (1984)', 'King Kong (1933)',\n",
       "       'Who Framed Roger Rabbit? (1988)', 'Abyss, The (1989)',\n",
       "       'Mystery Men (1999)', 'Poseidon Adventure, The (1972)',\n",
       "       'City of Lost Children, The (1995)', 'Romancing the Stone (1984)',\n",
       "       \"Pete's Dragon (1977)\", 'Paulie (1998)', 'Mighty Joe Young (1998)',\n",
       "       'Akira (1988)', 'Star Trek: First Contact (1996)',\n",
       "       'Perfect Storm, The (2000)', 'Honey, I Shrunk the Kids (1989)',\n",
       "       'Treasure of the Sierra Madre, The (1948)', 'Jumanji (1995)',\n",
       "       'Batman Forever (1995)', 'Adventures in Babysitting (1987)',\n",
       "       'Doctor Dolittle (1967)', 'Superman (1978)', 'Batman (1989)',\n",
       "       'Journey of Natty Gann, The (1985)', 'Stargate (1994)',\n",
       "       'Star Trek: Generations (1994)', 'NeverEnding Story, The (1984)',\n",
       "       'Return to Oz (1985)', 'Rocketeer, The (1991)',\n",
       "       'Escape to Witch Mountain (1975)',\n",
       "       'Star Trek: The Motion Picture (1979)',\n",
       "       'Star Trek: The Wrath of Khan (1982)',\n",
       "       'Star Trek III: The Search for Spock (1984)',\n",
       "       'Star Trek IV: The Voyage Home (1986)', 'Batman Returns (1992)',\n",
       "       'Homeward Bound: The Incredible Journey (1993)',\n",
       "       '20,000 Leagues Under the Sea (1954)', 'Hook (1991)',\n",
       "       'Labyrinth (1986)', 'Jewel of the Nile, The (1985)',\n",
       "       'Willow (1988)', 'Bedknobs and Broomsticks (1971)',\n",
       "       '7th Voyage of Sinbad, The (1958)', 'Escape from New York (1981)',\n",
       "       'Goonies, The (1985)', 'Lawrence of Arabia (1962)',\n",
       "       'African Queen, The (1951)', 'Galaxy Quest (1999)',\n",
       "       'Army of Darkness (1993)',\n",
       "       'Willy Wonka and the Chocolate Factory (1971)',\n",
       "       'Time Bandits (1981)', 'Santa Claus: The Movie (1985)',\n",
       "       'Tron (1982)', 'Starship Troopers (1997)', 'Waterworld (1995)',\n",
       "       'Condorman (1981)', \"Darby O'Gill and the Little People (1959)\",\n",
       "       'Flight of the Navigator (1986)', 'Almost Heroes (1998)',\n",
       "       'Fly Away Home (1996)', 'Man Who Would Be King, The (1975)',\n",
       "       'Superman II (1980)', 'Quest for Fire (1981)', 'Ladyhawke (1985)',\n",
       "       'GoldenEye (1995)', 'Medicine Man (1992)', 'True Grit (1969)',\n",
       "       'Black Beauty (1994)',\n",
       "       'Adventures of Buckaroo Bonzai Across the 8th Dimension, The (1984)',\n",
       "       'Young Sherlock Holmes (1985)',\n",
       "       'Around the World in 80 Days (1956)',\n",
       "       'Indian in the Cupboard, The (1995)', 'Titan A.E. (2000)',\n",
       "       'Big Blue, The (Le Grand Bleu) (1988)', \"Logan's Run (1976)\",\n",
       "       'Conan the Barbarian (1982)', 'Forever Young (1992)',\n",
       "       'Crimson Pirate, The (1952)', 'Congo (1995)',\n",
       "       'Lord of the Flies (1963)',\n",
       "       'Superman IV: The Quest for Peace (1987)',\n",
       "       'Inspector Gadget (1999)', 'Sphere (1998)',\n",
       "       'Navigator: A Mediaeval Odyssey, The (1988)', 'War, The (1994)',\n",
       "       'Heavy Metal (1981)', 'Fantastic Voyage (1966)',\n",
       "       'Lord of the Rings, The (1978)', 'Casper (1995)',\n",
       "       'Supergirl (1984)', 'First Knight (1995)', 'Legend (1985)',\n",
       "       'Highlander: Endgame (2000)', 'Highlander (1986)',\n",
       "       'Avengers, The (1998)', 'Bird on a Wire (1990)',\n",
       "       'Kull the Conqueror (1997)', 'Mortal Kombat (1995)',\n",
       "       'Adventures of Robin Hood, The (1938)',\n",
       "       'Karate Kid, Part II, The (1986)', 'Karate Kid III, The (1989)',\n",
       "       'Batman & Robin (1997)', 'Anaconda (1997)', 'Red Sonja (1985)',\n",
       "       'Super Mario Bros. (1993)', 'Howard the Duck (1986)',\n",
       "       'White Squall (1996)', 'Running Man, The (1987)', 'Spawn (1997)',\n",
       "       'Star Trek V: The Final Frontier (1989)', 'King Kong (1976)',\n",
       "       'Tall Tale (1994)',\n",
       "       'Princess Mononoke, The (Mononoke Hime) (1997)',\n",
       "       'Judge Dredd (1995)', 'Escape from L.A. (1996)',\n",
       "       'Nothing But Trouble (1991)', 'Daylight (1996)',\n",
       "       'Rumble in the Bronx (1995)', 'Superman III (1983)',\n",
       "       'Barbarella (1968)', 'Midnight Run (1988)', 'Soldier (1998)',\n",
       "       'Dreamscape (1984)', 'Quick and the Dead, The (1995)',\n",
       "       'Operation Dumbo Drop (1995)', 'Space Jam (1996)',\n",
       "       'Free Willy (1993)',\n",
       "       'Homeward Bound II: Lost in San Francisco (1996)',\n",
       "       'Blue Lagoon, The (1980)', 'Where Eagles Dare (1969)',\n",
       "       'Old Man and the Sea, The (1958)', 'Swiss Family Robinson (1960)',\n",
       "       'Runaway Train (1985)', 'Crocodile Dundee II (1988)',\n",
       "       'Popeye (1980)', 'Godzilla 2000 (Gojira ni-sen mireniamu) (1999)',\n",
       "       'Six Days Seven Nights (1998)',\n",
       "       \"Kid in King Arthur's Court, A (1995)\",\n",
       "       'Allan Quartermain and the Lost City of Gold (1987)',\n",
       "       'Mighty Joe Young (1949)', 'For Whom the Bell Tolls (1943)',\n",
       "       'Captain Horatio Hornblower (1951)',\n",
       "       'Beyond the Poseidon Adventure (1979)', 'Bear, The (1988)',\n",
       "       'Sinbad and the Eye of the Tiger (1977)',\n",
       "       'Slipper and the Rose, The (1976)',\n",
       "       'Muppet Treasure Island (1996)',\n",
       "       'Golden Voyage of Sinbad, The (1974)', 'Candleshoe (1977)',\n",
       "       'Herbie Goes Bananas (1980)', 'Jingle All the Way (1996)',\n",
       "       'Chain Reaction (1996)', 'Mutiny on the Bounty (1935)',\n",
       "       'Cutthroat Island (1995)', 'Herbie Rides Again (1974)',\n",
       "       'Voyage to the Bottom of the Sea (1961)',\n",
       "       'Shanghai Surprise (1986)',\n",
       "       'NeverEnding Story II: The Next Chapter, The (1990)',\n",
       "       'NeverEnding Story III, The (1994)', 'Beach, The (2000)',\n",
       "       'Borrowers, The (1997)', 'Saturn 3 (1979)', 'Benji (1974)',\n",
       "       'Incredible Journey, The (1963)', 'My Science Project (1985)',\n",
       "       'Secret Adventures of Tom Thumb, The (1993)', 'Supernova (2000)',\n",
       "       'Tom and Huck (1995)', 'Maximum Risk (1996)',\n",
       "       'Operation Condor (Feiying gaiwak) (1990)', 'Hard Target (1993)',\n",
       "       'Quest, The (1996)', 'Andre (1994)', 'Buddy (1997)',\n",
       "       'Turbo: A Power Rangers Movie (1997)', 'Wild America (1997)',\n",
       "       'Amazing Panda Adventure, The (1995)',\n",
       "       'Far From Home: The Adventures of Yellow Dog (1995)',\n",
       "       'Free Willy 2: The Adventure Home (1995)',\n",
       "       'Jungle Book, The (1994)', \"Gulliver's Travels (1939)\",\n",
       "       'Pagemaster, The (1994)', 'Flipper (1996)',\n",
       "       'Mark of Zorro, The (1940)',\n",
       "       'Gold Diggers: The Secret of Bear Mountain (1995)',\n",
       "       'Operation Condor 2 (Longxiong hudi) (1990)',\n",
       "       'Excess Baggage (1997)', 'Free Willy 3: The Rescue (1997)',\n",
       "       'Star Kid (1997)', 'Quest for Camelot (1998)',\n",
       "       'Mortal Kombat: Annihilation (1997)', 'Song of the South (1946)',\n",
       "       'King Kong Lives (1986)', \"Let's Get Harry (1986)\",\n",
       "       'Bronco Billy (1980)', 'Alaska (1996)',\n",
       "       'Great Locomotive Chase, The (1956)', 'Fled (1996)',\n",
       "       'Firestorm (1998)', 'Baby... Secret of the Lost Legend (1985)',\n",
       "       'Benji the Hunted (1987)', 'For the Love of Benji (1977)',\n",
       "       'Phantom, The (1996)', 'Surviving the Game (1994)',\n",
       "       'Mighty Peking Man (Hsing hsing wang) (1977)',\n",
       "       'Tarzan and the Lost City (1998)', 'Digimon: The Movie (2000)',\n",
       "       'Herbie Goes to Monte Carlo (1977)', 'Tarzan the Fearless (1933)',\n",
       "       'Firewalker (1986)', 'Charlie, the Lonesome Cougar (1967)',\n",
       "       \"Barney's Great Adventure (1998)\", 'Lassie (1994)',\n",
       "       'Warriors of Virtue (1997)', 'Vibes (1988)',\n",
       "       'Adventures of Pinocchio, The (1996)',\n",
       "       'Second Jungle Book: Mowgli & Baloo, The (1997)',\n",
       "       'Six-String Samurai (1998)', 'Time Tracers (1995)',\n",
       "       'Kids of the Round Table (1995)', 'Good Man in Africa, A (1994)',\n",
       "       'In Search of the Castaways (1962)', 'Knightriders (1981)',\n",
       "       'Golden Earrings (1947)', 'Garbage Pail Kids Movie, The (1987)',\n",
       "       'Prince Valiant (1997)', 'Brenda Starr (1989)'], dtype=object)"
      ]
     },
     "execution_count": 120,
     "metadata": {},
     "output_type": "execute_result"
    }
   ],
   "source": [
    "# 남자 + 평점이 가장 낮다 + Adventure\n",
    "df_male[(df_male['rating']==df_male['rating'].min()) & (df_male['genres'].str.contains('Adventure'))]['title'].unique()"
   ]
  },
  {
   "cell_type": "code",
   "execution_count": 121,
   "id": "e5b520ff-077a-44ca-a8e4-3a169dbf393e",
   "metadata": {
    "collapsed": true,
    "jupyter": {
     "outputs_hidden": true
    },
    "tags": []
   },
   "outputs": [
    {
     "data": {
      "text/plain": [
       "array(['Princess Bride, The (1987)', 'Wizard of Oz, The (1939)',\n",
       "       'Hercules (1997)', 'Star Wars: Episode IV - A New Hope (1977)',\n",
       "       'Mission: Impossible (1996)',\n",
       "       'Star Wars: Episode I - The Phantom Menace (1999)',\n",
       "       'Total Recall (1990)',\n",
       "       'Star Wars: Episode VI - Return of the Jedi (1983)',\n",
       "       'Cliffhanger (1993)', 'Lost World: Jurassic Park, The (1997)',\n",
       "       'Starman (1984)', 'Jurassic Park (1993)',\n",
       "       'Star Trek VI: The Undiscovered Country (1991)',\n",
       "       'Dances with Wolves (1990)',\n",
       "       'Star Wars: Episode V - The Empire Strikes Back (1980)',\n",
       "       'Con Air (1997)', 'Twister (1996)',\n",
       "       'Raiders of the Lost Ark (1981)', 'Armageddon (1998)',\n",
       "       'True Lies (1994)', 'Clear and Present Danger (1994)',\n",
       "       'Mask of Zorro, The (1998)', 'Golden Child, The (1986)',\n",
       "       'Edge, The (1997)', 'Indiana Jones and the Last Crusade (1989)',\n",
       "       'Dragonheart (1996)', 'Blade (1998)', 'Men in Black (1997)',\n",
       "       'Ghost and the Darkness, The (1996)',\n",
       "       'Evil Dead II (Dead By Dawn) (1987)',\n",
       "       'Three Musketeers, The (1993)', 'Rock, The (1996)',\n",
       "       'Crocodile Dundee (1986)', 'Easy Rider (1969)',\n",
       "       'Mummy, The (1999)', 'Deliverance (1972)',\n",
       "       'Indiana Jones and the Temple of Doom (1984)', 'King Kong (1933)',\n",
       "       'Who Framed Roger Rabbit? (1988)', 'Abyss, The (1989)',\n",
       "       'Mystery Men (1999)', 'Poseidon Adventure, The (1972)',\n",
       "       'City of Lost Children, The (1995)', 'Romancing the Stone (1984)',\n",
       "       \"Pete's Dragon (1977)\", 'Paulie (1998)', 'Mighty Joe Young (1998)',\n",
       "       'Akira (1988)', 'Star Trek: First Contact (1996)',\n",
       "       'Perfect Storm, The (2000)', 'Honey, I Shrunk the Kids (1989)',\n",
       "       'Treasure of the Sierra Madre, The (1948)', 'Jumanji (1995)',\n",
       "       'Batman Forever (1995)', 'Adventures in Babysitting (1987)',\n",
       "       'Doctor Dolittle (1967)', 'Superman (1978)', 'Batman (1989)',\n",
       "       'Stargate (1994)', 'Star Trek: Generations (1994)',\n",
       "       'NeverEnding Story, The (1984)', 'Return to Oz (1985)',\n",
       "       'Rocketeer, The (1991)', 'Escape to Witch Mountain (1975)',\n",
       "       'Star Trek: The Motion Picture (1979)',\n",
       "       'Star Trek: The Wrath of Khan (1982)',\n",
       "       'Star Trek III: The Search for Spock (1984)',\n",
       "       'Star Trek IV: The Voyage Home (1986)', 'Batman Returns (1992)',\n",
       "       'Homeward Bound: The Incredible Journey (1993)',\n",
       "       '20,000 Leagues Under the Sea (1954)', 'Hook (1991)',\n",
       "       'Labyrinth (1986)', 'Willow (1988)',\n",
       "       'Bedknobs and Broomsticks (1971)',\n",
       "       '7th Voyage of Sinbad, The (1958)', 'Escape from New York (1981)',\n",
       "       'Goonies, The (1985)', 'Lawrence of Arabia (1962)',\n",
       "       'African Queen, The (1951)', 'Galaxy Quest (1999)',\n",
       "       'Army of Darkness (1993)',\n",
       "       'Willy Wonka and the Chocolate Factory (1971)',\n",
       "       'Time Bandits (1981)', 'Santa Claus: The Movie (1985)',\n",
       "       'Tron (1982)', 'Starship Troopers (1997)', 'Waterworld (1995)',\n",
       "       'Condorman (1981)', \"Darby O'Gill and the Little People (1959)\",\n",
       "       'Far Off Place, A (1993)', 'Flight of the Navigator (1986)',\n",
       "       'Almost Heroes (1998)', 'Fly Away Home (1996)',\n",
       "       'Superman II (1980)', 'Quest for Fire (1981)', 'Ladyhawke (1985)',\n",
       "       'GoldenEye (1995)', 'Medicine Man (1992)',\n",
       "       'Adventures of Buckaroo Bonzai Across the 8th Dimension, The (1984)',\n",
       "       'Young Sherlock Holmes (1985)',\n",
       "       'Around the World in 80 Days (1956)',\n",
       "       'Indian in the Cupboard, The (1995)', 'Titan A.E. (2000)',\n",
       "       'Emerald Forest, The (1985)',\n",
       "       'Big Blue, The (Le Grand Bleu) (1988)', \"Logan's Run (1976)\",\n",
       "       'Conan the Barbarian (1982)', 'Forever Young (1992)',\n",
       "       'Congo (1995)', 'Lord of the Flies (1963)',\n",
       "       'Superman IV: The Quest for Peace (1987)',\n",
       "       'Inspector Gadget (1999)', 'Sphere (1998)',\n",
       "       'Navigator: A Mediaeval Odyssey, The (1988)', 'Heavy Metal (1981)',\n",
       "       'Lord of the Rings, The (1978)', 'Casper (1995)',\n",
       "       'Supergirl (1984)', 'First Knight (1995)', 'Legend (1985)',\n",
       "       'Highlander: Endgame (2000)', 'Highlander (1986)',\n",
       "       'Avengers, The (1998)', 'Bird on a Wire (1990)',\n",
       "       'Kull the Conqueror (1997)', 'Mortal Kombat (1995)',\n",
       "       'Karate Kid, Part II, The (1986)', 'Karate Kid III, The (1989)',\n",
       "       'Batman & Robin (1997)', 'Anaconda (1997)', 'Red Sonja (1985)',\n",
       "       'Super Mario Bros. (1993)', 'Howard the Duck (1986)',\n",
       "       'White Squall (1996)', 'Running Man, The (1987)', 'Spawn (1997)',\n",
       "       'Star Trek V: The Final Frontier (1989)', 'King Kong (1976)',\n",
       "       'Princess Mononoke, The (Mononoke Hime) (1997)',\n",
       "       'Judge Dredd (1995)', 'Escape from L.A. (1996)',\n",
       "       'Nothing But Trouble (1991)', 'Daylight (1996)',\n",
       "       'Rumble in the Bronx (1995)', 'Superman III (1983)',\n",
       "       'Barbarella (1968)', 'Midnight Run (1988)', 'Soldier (1998)',\n",
       "       'Quick and the Dead, The (1995)', 'Operation Dumbo Drop (1995)',\n",
       "       'Space Jam (1996)', 'Free Willy (1993)',\n",
       "       'Homeward Bound II: Lost in San Francisco (1996)',\n",
       "       'Blue Lagoon, The (1980)', 'Where Eagles Dare (1969)',\n",
       "       'Old Man and the Sea, The (1958)', 'Swiss Family Robinson (1960)',\n",
       "       'Runaway Train (1985)', 'Crocodile Dundee II (1988)',\n",
       "       'Popeye (1980)', 'Godzilla 2000 (Gojira ni-sen mireniamu) (1999)',\n",
       "       'Six Days Seven Nights (1998)',\n",
       "       \"Kid in King Arthur's Court, A (1995)\",\n",
       "       'Allan Quartermain and the Lost City of Gold (1987)',\n",
       "       'Mighty Joe Young (1949)', 'For Whom the Bell Tolls (1943)',\n",
       "       'Captain Horatio Hornblower (1951)',\n",
       "       'Beyond the Poseidon Adventure (1979)', 'Bear, The (1988)',\n",
       "       'Sinbad and the Eye of the Tiger (1977)',\n",
       "       'Muppet Treasure Island (1996)', 'Herbie Goes Bananas (1980)',\n",
       "       'Jingle All the Way (1996)', 'Chain Reaction (1996)',\n",
       "       'Cutthroat Island (1995)', 'Herbie Rides Again (1974)',\n",
       "       'Shanghai Surprise (1986)',\n",
       "       'NeverEnding Story II: The Next Chapter, The (1990)',\n",
       "       'NeverEnding Story III, The (1994)', 'Beach, The (2000)',\n",
       "       'Borrowers, The (1997)', 'Saturn 3 (1979)', 'Benji (1974)',\n",
       "       'Incredible Journey, The (1963)', 'My Science Project (1985)',\n",
       "       'Supernova (2000)', 'Tom and Huck (1995)', 'Maximum Risk (1996)',\n",
       "       'Hard Target (1993)', 'Quest, The (1996)', 'Andre (1994)',\n",
       "       'Turbo: A Power Rangers Movie (1997)',\n",
       "       'Far From Home: The Adventures of Yellow Dog (1995)',\n",
       "       'Free Willy 2: The Adventure Home (1995)',\n",
       "       'Jungle Book, The (1994)', \"Gulliver's Travels (1939)\",\n",
       "       'Pagemaster, The (1994)', 'Flipper (1996)',\n",
       "       'Gold Diggers: The Secret of Bear Mountain (1995)',\n",
       "       'Excess Baggage (1997)', 'Free Willy 3: The Rescue (1997)',\n",
       "       'Star Kid (1997)', 'Quest for Camelot (1998)',\n",
       "       'Mortal Kombat: Annihilation (1997)', 'Song of the South (1946)',\n",
       "       'King Kong Lives (1986)', \"Let's Get Harry (1986)\",\n",
       "       'Bronco Billy (1980)', 'Dersu Uzala (1974)', 'Fled (1996)',\n",
       "       'Firestorm (1998)', 'Baby... Secret of the Lost Legend (1985)',\n",
       "       'Benji the Hunted (1987)', 'For the Love of Benji (1977)',\n",
       "       'Phantom, The (1996)', 'Surviving the Game (1994)',\n",
       "       'Tarzan and the Lost City (1998)', 'Digimon: The Movie (2000)',\n",
       "       'Herbie Goes to Monte Carlo (1977)', 'Firewalker (1986)',\n",
       "       \"Barney's Great Adventure (1998)\", 'Lassie (1994)',\n",
       "       'Warriors of Virtue (1997)', 'Vibes (1988)',\n",
       "       'Six-String Samurai (1998)', 'Kids of the Round Table (1995)',\n",
       "       'Good Man in Africa, A (1994)', 'Passion in the Desert (1998)',\n",
       "       'Garbage Pail Kids Movie, The (1987)',\n",
       "       'Son of the Sheik, The (1926)', 'Brenda Starr (1989)',\n",
       "       'Cheetah (1989)'], dtype=object)"
      ]
     },
     "execution_count": 121,
     "metadata": {},
     "output_type": "execute_result"
    }
   ],
   "source": [
    "# 여자 + 평점이 가장 낮다 + Adventure\n",
    "df_female[(df_female['rating']==df_female['rating'].min()) & (df_female['genres'].str.contains('Adventure'))]['title'].unique()"
   ]
  },
  {
   "cell_type": "markdown",
   "id": "e71777bf-52db-4e04-92b5-b0bd4fb17de3",
   "metadata": {},
   "source": [
    "### 퀴즈\n",
    "- 1) ratings.dat, users.dat, movies.dat 파일을 하나의 데이타프레임(df)로 공통 컬럼과 공통 키값을 이용하여 조인하여라. \n",
    "- 이때 df의 컬럼은 ['userID', 'gender', 'age', 'occupation', 'movieID', 'title', 'genres', 'rating'] 으로 제한한다"
   ]
  },
  {
   "cell_type": "code",
   "execution_count": 5,
   "id": "1762aeba-48ab-43ed-8bb4-0500d4fd56af",
   "metadata": {
    "tags": []
   },
   "outputs": [
    {
     "data": {
      "text/html": [
       "<div>\n",
       "<style scoped>\n",
       "    .dataframe tbody tr th:only-of-type {\n",
       "        vertical-align: middle;\n",
       "    }\n",
       "\n",
       "    .dataframe tbody tr th {\n",
       "        vertical-align: top;\n",
       "    }\n",
       "\n",
       "    .dataframe thead th {\n",
       "        text-align: right;\n",
       "    }\n",
       "</style>\n",
       "<table border=\"1\" class=\"dataframe\">\n",
       "  <thead>\n",
       "    <tr style=\"text-align: right;\">\n",
       "      <th></th>\n",
       "      <th>movieID</th>\n",
       "      <th>title</th>\n",
       "      <th>genres</th>\n",
       "    </tr>\n",
       "  </thead>\n",
       "  <tbody>\n",
       "    <tr>\n",
       "      <th>0</th>\n",
       "      <td>1</td>\n",
       "      <td>Toy Story (1995)</td>\n",
       "      <td>Animation|Children's|Comedy</td>\n",
       "    </tr>\n",
       "    <tr>\n",
       "      <th>3793</th>\n",
       "      <td>3863</td>\n",
       "      <td>Cell, The (2000)</td>\n",
       "      <td>Sci-Fi|Thriller</td>\n",
       "    </tr>\n",
       "    <tr>\n",
       "      <th>3314</th>\n",
       "      <td>3383</td>\n",
       "      <td>Big Fella (1937)</td>\n",
       "      <td>Drama|Musical</td>\n",
       "    </tr>\n",
       "  </tbody>\n",
       "</table>\n",
       "</div>"
      ],
      "text/plain": [
       "      movieID             title                       genres\n",
       "0           1  Toy Story (1995)  Animation|Children's|Comedy\n",
       "3793     3863  Cell, The (2000)              Sci-Fi|Thriller\n",
       "3314     3383  Big Fella (1937)                Drama|Musical"
      ]
     },
     "execution_count": 5,
     "metadata": {},
     "output_type": "execute_result"
    }
   ],
   "source": [
    "# 1) 각 파일을 데이타프레임으로 저장\n",
    "df_movies = pd.read_csv('C:/Users/pusan/Desktop/workspace202205/03_DS/data/movies.dat', sep='::', header=None, names=['movieID', 'title', 'genres'])\n",
    "df_movies.sample(3)"
   ]
  },
  {
   "cell_type": "code",
   "execution_count": 6,
   "id": "e41325ff-42c0-4578-a423-ed2a280c87b5",
   "metadata": {
    "tags": []
   },
   "outputs": [
    {
     "data": {
      "text/html": [
       "<div>\n",
       "<style scoped>\n",
       "    .dataframe tbody tr th:only-of-type {\n",
       "        vertical-align: middle;\n",
       "    }\n",
       "\n",
       "    .dataframe tbody tr th {\n",
       "        vertical-align: top;\n",
       "    }\n",
       "\n",
       "    .dataframe thead th {\n",
       "        text-align: right;\n",
       "    }\n",
       "</style>\n",
       "<table border=\"1\" class=\"dataframe\">\n",
       "  <thead>\n",
       "    <tr style=\"text-align: right;\">\n",
       "      <th></th>\n",
       "      <th>userID</th>\n",
       "      <th>gender</th>\n",
       "      <th>age</th>\n",
       "      <th>occupation</th>\n",
       "      <th>zip-code</th>\n",
       "    </tr>\n",
       "  </thead>\n",
       "  <tbody>\n",
       "    <tr>\n",
       "      <th>4612</th>\n",
       "      <td>4613</td>\n",
       "      <td>M</td>\n",
       "      <td>25</td>\n",
       "      <td>12</td>\n",
       "      <td>41042</td>\n",
       "    </tr>\n",
       "    <tr>\n",
       "      <th>1347</th>\n",
       "      <td>1348</td>\n",
       "      <td>F</td>\n",
       "      <td>1</td>\n",
       "      <td>10</td>\n",
       "      <td>04240</td>\n",
       "    </tr>\n",
       "    <tr>\n",
       "      <th>3340</th>\n",
       "      <td>3341</td>\n",
       "      <td>M</td>\n",
       "      <td>25</td>\n",
       "      <td>20</td>\n",
       "      <td>91730</td>\n",
       "    </tr>\n",
       "  </tbody>\n",
       "</table>\n",
       "</div>"
      ],
      "text/plain": [
       "      userID gender  age  occupation zip-code\n",
       "4612    4613      M   25          12    41042\n",
       "1347    1348      F    1          10    04240\n",
       "3340    3341      M   25          20    91730"
      ]
     },
     "execution_count": 6,
     "metadata": {},
     "output_type": "execute_result"
    }
   ],
   "source": [
    "df_users = pd.read_csv('C:/Users/pusan/Desktop/workspace202205/03_DS/data/users.dat', sep='::', \n",
    "                     header=None, names=[ 'userID', 'gender',  'age',  'occupation',  'zip-code'])\n",
    "df_users.sample(3)"
   ]
  },
  {
   "cell_type": "code",
   "execution_count": 7,
   "id": "3b537358-a996-4bfd-b28d-1d2f86e32c5f",
   "metadata": {
    "tags": []
   },
   "outputs": [
    {
     "data": {
      "text/html": [
       "<div>\n",
       "<style scoped>\n",
       "    .dataframe tbody tr th:only-of-type {\n",
       "        vertical-align: middle;\n",
       "    }\n",
       "\n",
       "    .dataframe tbody tr th {\n",
       "        vertical-align: top;\n",
       "    }\n",
       "\n",
       "    .dataframe thead th {\n",
       "        text-align: right;\n",
       "    }\n",
       "</style>\n",
       "<table border=\"1\" class=\"dataframe\">\n",
       "  <thead>\n",
       "    <tr style=\"text-align: right;\">\n",
       "      <th></th>\n",
       "      <th>userID</th>\n",
       "      <th>movieID</th>\n",
       "      <th>rating</th>\n",
       "      <th>timestamp</th>\n",
       "    </tr>\n",
       "  </thead>\n",
       "  <tbody>\n",
       "    <tr>\n",
       "      <th>370423</th>\n",
       "      <td>2166</td>\n",
       "      <td>765</td>\n",
       "      <td>3</td>\n",
       "      <td>974614044</td>\n",
       "    </tr>\n",
       "    <tr>\n",
       "      <th>794369</th>\n",
       "      <td>4750</td>\n",
       "      <td>3505</td>\n",
       "      <td>4</td>\n",
       "      <td>963534101</td>\n",
       "    </tr>\n",
       "    <tr>\n",
       "      <th>930803</th>\n",
       "      <td>5622</td>\n",
       "      <td>2243</td>\n",
       "      <td>3</td>\n",
       "      <td>959097312</td>\n",
       "    </tr>\n",
       "  </tbody>\n",
       "</table>\n",
       "</div>"
      ],
      "text/plain": [
       "        userID  movieID  rating  timestamp\n",
       "370423    2166      765       3  974614044\n",
       "794369    4750     3505       4  963534101\n",
       "930803    5622     2243       3  959097312"
      ]
     },
     "execution_count": 7,
     "metadata": {},
     "output_type": "execute_result"
    }
   ],
   "source": [
    "# 1) 각 파일을 데이타프레임으로 저장\n",
    "df_ratings = pd.read_csv('C:/Users/pusan/Desktop/workspace202205/03_DS/data/ratings.dat', sep='::', header=None, names=['userID',  'movieID',  'rating',  'timestamp'])\n",
    "df_ratings.sample(3)"
   ]
  },
  {
   "cell_type": "code",
   "execution_count": 8,
   "id": "142705eb-f789-4d4c-b38d-8df0261aebfe",
   "metadata": {},
   "outputs": [],
   "source": [
    "# 조인"
   ]
  },
  {
   "cell_type": "code",
   "execution_count": 9,
   "id": "bb745ebe-bda9-4115-aa95-88918f4c85f9",
   "metadata": {},
   "outputs": [
    {
     "name": "stdout",
     "output_type": "stream",
     "text": [
      "Index(['userID', 'movieID', 'rating', 'timestamp'], dtype='object')\n",
      "Index(['userID', 'gender', 'age', 'occupation', 'zip-code'], dtype='object')\n",
      "Index(['movieID', 'title', 'genres'], dtype='object')\n"
     ]
    }
   ],
   "source": [
    "print(df_ratings.columns)\n",
    "print(df_users.columns)\n",
    "print(df_movies.columns)"
   ]
  },
  {
   "cell_type": "code",
   "execution_count": 10,
   "id": "b50c6bb6-dea1-4bfa-beb7-fd3ce0804a39",
   "metadata": {},
   "outputs": [
    {
     "data": {
      "text/plain": [
       "Index(['userID', 'movieID', 'rating', 'timestamp', 'gender', 'age',\n",
       "       'occupation', 'zip-code'],\n",
       "      dtype='object')"
      ]
     },
     "execution_count": 10,
     "metadata": {},
     "output_type": "execute_result"
    }
   ],
   "source": [
    "# df_ratings + df_users => 'userID' 공통컬럼 \n",
    "df = pd.merge(df_ratings, df_users)\n",
    "df.columns"
   ]
  },
  {
   "cell_type": "code",
   "execution_count": 11,
   "id": "d8b8b540-c005-40ed-9cd5-3d48bbaeb5d5",
   "metadata": {},
   "outputs": [
    {
     "data": {
      "text/plain": [
       "Index(['userID', 'movieID', 'rating', 'timestamp', 'gender', 'age',\n",
       "       'occupation', 'zip-code', 'title', 'genres'],\n",
       "      dtype='object')"
      ]
     },
     "execution_count": 11,
     "metadata": {},
     "output_type": "execute_result"
    }
   ],
   "source": [
    "# df(df_ratings + df_users) + df_movies  => 'movieID' 공통컬럼 \n",
    "df = pd.merge(df, df_movies)\n",
    "df.columns"
   ]
  },
  {
   "cell_type": "code",
   "execution_count": 12,
   "id": "32025d9d-6d40-4aff-b0b8-cd14be51d5e9",
   "metadata": {},
   "outputs": [],
   "source": [
    "df = df[['userID', 'gender', 'age', 'occupation', 'movieID', 'title', 'genres', 'rating']]"
   ]
  },
  {
   "cell_type": "code",
   "execution_count": 13,
   "id": "7c03fb4b-68c5-46d0-a9ef-6286ca7e3969",
   "metadata": {},
   "outputs": [
    {
     "data": {
      "text/html": [
       "<div>\n",
       "<style scoped>\n",
       "    .dataframe tbody tr th:only-of-type {\n",
       "        vertical-align: middle;\n",
       "    }\n",
       "\n",
       "    .dataframe tbody tr th {\n",
       "        vertical-align: top;\n",
       "    }\n",
       "\n",
       "    .dataframe thead th {\n",
       "        text-align: right;\n",
       "    }\n",
       "</style>\n",
       "<table border=\"1\" class=\"dataframe\">\n",
       "  <thead>\n",
       "    <tr style=\"text-align: right;\">\n",
       "      <th></th>\n",
       "      <th>userID</th>\n",
       "      <th>gender</th>\n",
       "      <th>age</th>\n",
       "      <th>occupation</th>\n",
       "      <th>movieID</th>\n",
       "      <th>title</th>\n",
       "      <th>genres</th>\n",
       "      <th>rating</th>\n",
       "    </tr>\n",
       "  </thead>\n",
       "  <tbody>\n",
       "    <tr>\n",
       "      <th>63678</th>\n",
       "      <td>1989</td>\n",
       "      <td>M</td>\n",
       "      <td>50</td>\n",
       "      <td>6</td>\n",
       "      <td>648</td>\n",
       "      <td>Mission: Impossible (1996)</td>\n",
       "      <td>Action|Adventure|Mystery</td>\n",
       "      <td>4</td>\n",
       "    </tr>\n",
       "    <tr>\n",
       "      <th>54488</th>\n",
       "      <td>5054</td>\n",
       "      <td>M</td>\n",
       "      <td>35</td>\n",
       "      <td>2</td>\n",
       "      <td>2028</td>\n",
       "      <td>Saving Private Ryan (1998)</td>\n",
       "      <td>Action|Drama|War</td>\n",
       "      <td>4</td>\n",
       "    </tr>\n",
       "    <tr>\n",
       "      <th>88870</th>\n",
       "      <td>3706</td>\n",
       "      <td>M</td>\n",
       "      <td>25</td>\n",
       "      <td>12</td>\n",
       "      <td>1259</td>\n",
       "      <td>Stand by Me (1986)</td>\n",
       "      <td>Adventure|Comedy|Drama</td>\n",
       "      <td>5</td>\n",
       "    </tr>\n",
       "  </tbody>\n",
       "</table>\n",
       "</div>"
      ],
      "text/plain": [
       "       userID gender  age  occupation  movieID                       title  \\\n",
       "63678    1989      M   50           6      648  Mission: Impossible (1996)   \n",
       "54488    5054      M   35           2     2028  Saving Private Ryan (1998)   \n",
       "88870    3706      M   25          12     1259          Stand by Me (1986)   \n",
       "\n",
       "                         genres  rating  \n",
       "63678  Action|Adventure|Mystery       4  \n",
       "54488          Action|Drama|War       4  \n",
       "88870    Adventure|Comedy|Drama       5  "
      ]
     },
     "execution_count": 13,
     "metadata": {},
     "output_type": "execute_result"
    }
   ],
   "source": [
    "df.sample(3)"
   ]
  },
  {
   "cell_type": "code",
   "execution_count": 14,
   "id": "22797ffd-aec3-4451-9c55-6cee21ef6e34",
   "metadata": {},
   "outputs": [],
   "source": [
    "# 2) 50대 이상이 본 영화의 평점 평균은?"
   ]
  },
  {
   "cell_type": "code",
   "execution_count": 15,
   "id": "91523a3c-6876-406e-8bf3-71b284f4e649",
   "metadata": {},
   "outputs": [
    {
     "data": {
      "text/plain": [
       "3.733"
      ]
     },
     "execution_count": 15,
     "metadata": {},
     "output_type": "execute_result"
    }
   ],
   "source": [
    "round(df[df['age']>=50]['rating'].mean(),3)"
   ]
  },
  {
   "cell_type": "code",
   "execution_count": 16,
   "id": "5c9ad972-b593-4298-a8b5-491a3104c688",
   "metadata": {},
   "outputs": [],
   "source": [
    "# 3) 50대 이상이 본 영화중에서 Comedy 장르이고 1998년도 영화목록만 중복없이 출력하여라 "
   ]
  },
  {
   "cell_type": "code",
   "execution_count": 17,
   "id": "aa8d0d18-af59-46b0-8c5b-0245673660f8",
   "metadata": {},
   "outputs": [
    {
     "data": {
      "text/plain": [
       "0          False\n",
       "1          False\n",
       "2          False\n",
       "3          False\n",
       "4          False\n",
       "           ...  \n",
       "1000204     True\n",
       "1000205     True\n",
       "1000206    False\n",
       "1000207    False\n",
       "1000208     True\n",
       "Name: title, Length: 1000209, dtype: bool"
      ]
     },
     "execution_count": 17,
     "metadata": {},
     "output_type": "execute_result"
    }
   ],
   "source": [
    "df['title'].str.split('(').str[1].str[:-1]=='1998'"
   ]
  },
  {
   "cell_type": "code",
   "execution_count": 18,
   "id": "b95ee7e2-b52c-43cd-9deb-5ffe41ffa41f",
   "metadata": {},
   "outputs": [
    {
     "data": {
      "text/plain": [
       "array([\"Bug's Life, A (1998)\", 'Pleasantville (1998)',\n",
       "       'Waking Ned Devine (1998)', 'Shakespeare in Love (1998)',\n",
       "       'Pecker (1998)', \"There's Something About Mary (1998)\",\n",
       "       'Babe: Pig in the City (1998)', 'Happiness (1998)',\n",
       "       'Big Lebowski, The (1998)', 'Little Voice (1998)',\n",
       "       'Rushmore (1998)', 'Fear and Loathing in Las Vegas (1998)',\n",
       "       'Opposite of Sex, The (1998)', 'Paulie (1998)',\n",
       "       'Buffalo 66 (1998)', 'Wedding Singer, The (1998)',\n",
       "       'Lethal Weapon 4 (1998)', \"You've Got Mail (1998)\",\n",
       "       'Patch Adams (1998)', 'Holy Man (1998)',\n",
       "       'Adventures of Sebastian Cole, The (1998)', 'Waterboy, The (1998)',\n",
       "       'Bulworth (1998)', 'Very Bad Things (1998)',\n",
       "       'Doctor Dolittle (1998)', 'Jack Frost (1998)',\n",
       "       'Lock, Stock & Two Smoking Barrels (1998)',\n",
       "       'Blues Brothers 2000 (1998)', 'Dirty Work (1998)',\n",
       "       'Night at the Roxbury, A (1998)', 'Zero Effect (1998)',\n",
       "       'Hope Floats (1998)', \"Can't Hardly Wait (1998)\",\n",
       "       'Next Stop, Wonderland (1998)', 'Living Out Loud (1998)',\n",
       "       'Home Fries (1998)', 'Slums of Beverly Hills, The (1998)',\n",
       "       'Six Days Seven Nights (1998)', 'Mafia! (1998)',\n",
       "       'Free Enterprise (1998)', 'Object of My Affection, The (1998)',\n",
       "       '20 Dates (1998)', 'Smoke Signals (1998)', 'Little City (1998)',\n",
       "       \"I'll Be Home For Christmas (1998)\",\n",
       "       'Theory of Flight, The (1998)', 'Celebrity (1998)',\n",
       "       'Dog Park (1998)', 'Air Bud: Golden Receiver (1998)',\n",
       "       'Polish Wedding (1998)', 'SLC Punk! (1998)',\n",
       "       'Mating Habits of the Earthbound Human, The (1998)',\n",
       "       'Madeline (1998)', 'Wrongfully Accused (1998)',\n",
       "       'Rugrats Movie, The (1998)', \"God Said 'Ha!' (1998)\",\n",
       "       'BASEketball (1998)', 'Dead Man on Campus (1998)',\n",
       "       'Homegrown (1998)', \"Krippendorf's Tribe (1998)\",\n",
       "       'My Son the Fanatic (1998)', 'Edge of Seventeen (1998)',\n",
       "       'Still Crazy (1998)', 'Cousin Bette (1998)',\n",
       "       'Impostors, The (1998)', 'Wide Awake (1998)',\n",
       "       'Big Hit, The (1998)', 'Stiff Upper Lips (1998)',\n",
       "       'Senseless (1998)', 'Kissing a Fool (1998)', 'My Giant (1998)',\n",
       "       'Major League: Back to the Minors (1998)',\n",
       "       'Dancer, Texas Pop. 81 (1998)', \"Relax... It's Just Sex (1998)\",\n",
       "       'Chairman of the Board (1998)', 'Illuminata (1998)',\n",
       "       'Velocity of Gary, The (1998)', 'Bedrooms & Hallways (1998)',\n",
       "       'Odd Couple II, The (1998)',\n",
       "       'Blood, Guts, Bullets and Octane (1998)',\n",
       "       'Very Thought of You, The (1998)', 'Frogs for Snakes (1998)',\n",
       "       'Montana (1998)', 'Twice Upon a Yesterday (1998)', 'Woo (1998)',\n",
       "       'Follow the Bitch (1998)', 'With Friends Like These... (1998)'],\n",
       "      dtype=object)"
      ]
     },
     "execution_count": 18,
     "metadata": {},
     "output_type": "execute_result"
    }
   ],
   "source": [
    "df[(df['age']>=50) & (df['genres'].str.contains('Comedy') & (df['title'].str.split('(').str[1].str[:-1]=='1998'))]['title'].unique()"
   ]
  },
  {
   "cell_type": "code",
   "execution_count": 19,
   "id": "885b904a-ad54-4fcc-a5c6-2f9cc4d60da0",
   "metadata": {},
   "outputs": [
    {
     "data": {
      "text/plain": [
       "array([\"Bug's Life, A \", 'Pleasantville ', 'Waking Ned Devine ',\n",
       "       'Shakespeare in Love ', 'Pecker ', \"There's Something About Mary \",\n",
       "       'Babe: Pig in the City ', 'Happiness ', 'Big Lebowski, The ',\n",
       "       'Little Voice ', 'Rushmore ', 'Fear and Loathing in Las Vegas ',\n",
       "       'Opposite of Sex, The ', 'Paulie ', 'Buffalo 66 ',\n",
       "       'Wedding Singer, The ', 'Lethal Weapon 4 ', \"You've Got Mail \",\n",
       "       'Patch Adams ', 'Holy Man ', 'Adventures of Sebastian Cole, The ',\n",
       "       'Waterboy, The ', 'Bulworth ', 'Very Bad Things ',\n",
       "       'Doctor Dolittle ', 'Jack Frost ',\n",
       "       'Lock, Stock & Two Smoking Barrels ', 'Blues Brothers 2000 ',\n",
       "       'Dirty Work ', 'Night at the Roxbury, A ', 'Zero Effect ',\n",
       "       'Hope Floats ', \"Can't Hardly Wait \", 'Next Stop, Wonderland ',\n",
       "       'Living Out Loud ', 'Home Fries ', 'Slums of Beverly Hills, The ',\n",
       "       'Six Days Seven Nights ', 'Mafia! ', 'Free Enterprise ',\n",
       "       'Object of My Affection, The ', '20 Dates ', 'Smoke Signals ',\n",
       "       'Little City ', \"I'll Be Home For Christmas \",\n",
       "       'Theory of Flight, The ', 'Celebrity ', 'Dog Park ',\n",
       "       'Air Bud: Golden Receiver ', 'Polish Wedding ', 'SLC Punk! ',\n",
       "       'Mating Habits of the Earthbound Human, The ', 'Madeline ',\n",
       "       'Wrongfully Accused ', 'Rugrats Movie, The ', \"God Said 'Ha!' \",\n",
       "       'BASEketball ', 'Dead Man on Campus ', 'Homegrown ',\n",
       "       \"Krippendorf's Tribe \", 'My Son the Fanatic ',\n",
       "       'Edge of Seventeen ', 'Still Crazy ', 'Cousin Bette ',\n",
       "       'Impostors, The ', 'Wide Awake ', 'Big Hit, The ',\n",
       "       'Stiff Upper Lips ', 'Senseless ', 'Kissing a Fool ', 'My Giant ',\n",
       "       'Major League: Back to the Minors ', 'Dancer, Texas Pop. 81 ',\n",
       "       \"Relax... It's Just Sex \", 'Chairman of the Board ', 'Illuminata ',\n",
       "       'Velocity of Gary, The ', 'Bedrooms & Hallways ',\n",
       "       'Odd Couple II, The ', 'Blood, Guts, Bullets and Octane ',\n",
       "       'Very Thought of You, The ', 'Frogs for Snakes ', 'Montana ',\n",
       "       'Twice Upon a Yesterday ', 'Woo ', 'Follow the Bitch ',\n",
       "       'With Friends Like These... '], dtype=object)"
      ]
     },
     "execution_count": 19,
     "metadata": {},
     "output_type": "execute_result"
    }
   ],
   "source": [
    "df[(df['age']>=50) & (df['genres'].str.contains('Comedy') & (df['title'].str.split('(').str[1].str[:-1]=='1998'))]['title'].str.split('(').str[0].unique()"
   ]
  },
  {
   "cell_type": "code",
   "execution_count": null,
   "id": "552d3f2c-f037-41b4-969e-505a55905ce9",
   "metadata": {},
   "outputs": [],
   "source": []
  }
 ],
 "metadata": {
  "kernelspec": {
   "display_name": "Python 3 (ipykernel)",
   "language": "python",
   "name": "python3"
  },
  "language_info": {
   "codemirror_mode": {
    "name": "ipython",
    "version": 3
   },
   "file_extension": ".py",
   "mimetype": "text/x-python",
   "name": "python",
   "nbconvert_exporter": "python",
   "pygments_lexer": "ipython3",
   "version": "3.9.12"
  }
 },
 "nbformat": 4,
 "nbformat_minor": 5
}
