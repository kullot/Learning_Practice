{
 "cells": [
  {
   "cell_type": "code",
   "execution_count": 77,
   "id": "a4a3a1bb-aa65-4911-8ba1-021bf1d75b9d",
   "metadata": {},
   "outputs": [
    {
     "data": {
      "text/html": [
       "<style>.container { font-weight: bold !important; }</style>"
      ],
      "text/plain": [
       "<IPython.core.display.HTML object>"
      ]
     },
     "metadata": {},
     "output_type": "display_data"
    },
    {
     "data": {
      "text/html": [
       "<style>.container { width: 100% !important; }</style>"
      ],
      "text/plain": [
       "<IPython.core.display.HTML object>"
      ]
     },
     "metadata": {},
     "output_type": "display_data"
    }
   ],
   "source": [
    "# 쥬피터노트북 셀 스타일 조절 \n",
    "from IPython.core.display import display, HTML\n",
    "display(HTML(\"<style>.container { font-weight: bold !important; }</style>\"))\n",
    "display(HTML(\"<style>.container { width: 100% !important; }</style>\"))\n",
    "\n",
    "# 경고 메세지 숨기기 \n",
    "import warnings\n",
    "warnings.filterwarnings(action='ignore')"
   ]
  },
  {
   "cell_type": "code",
   "execution_count": 78,
   "id": "c339caaa-f25e-4129-807d-a2ebdf22f8ca",
   "metadata": {},
   "outputs": [],
   "source": [
    "import pandas as pd\n",
    "import numpy as np\n",
    "import os"
   ]
  },
  {
   "cell_type": "markdown",
   "id": "2fd12368-2be7-4de6-9213-9fdd176ee080",
   "metadata": {},
   "source": [
    "### Q1"
   ]
  },
  {
   "cell_type": "code",
   "execution_count": 87,
   "id": "cd57b053-e90a-4978-b1dd-5134f9d8bee3",
   "metadata": {},
   "outputs": [],
   "source": [
    "# 아래의 파일을 이용하여 df_covid 데이타프레임을 생성하여라.\n",
    "# seoul-covid19_6_30_.csv"
   ]
  },
  {
   "cell_type": "code",
   "execution_count": 88,
   "id": "971bc2f2-8123-4ecd-b68b-f462f0baab3a",
   "metadata": {},
   "outputs": [
    {
     "data": {
      "text/html": [
       "<div>\n",
       "<style scoped>\n",
       "    .dataframe tbody tr th:only-of-type {\n",
       "        vertical-align: middle;\n",
       "    }\n",
       "\n",
       "    .dataframe tbody tr th {\n",
       "        vertical-align: top;\n",
       "    }\n",
       "\n",
       "    .dataframe thead th {\n",
       "        text-align: right;\n",
       "    }\n",
       "</style>\n",
       "<table border=\"1\" class=\"dataframe\">\n",
       "  <thead>\n",
       "    <tr style=\"text-align: right;\">\n",
       "      <th></th>\n",
       "      <th>연번</th>\n",
       "      <th>환자</th>\n",
       "      <th>확진일</th>\n",
       "      <th>거주지</th>\n",
       "      <th>여행력</th>\n",
       "      <th>접촉력</th>\n",
       "      <th>조치사항</th>\n",
       "    </tr>\n",
       "  </thead>\n",
       "  <tbody>\n",
       "    <tr>\n",
       "      <th>0</th>\n",
       "      <td>1321</td>\n",
       "      <td>12830</td>\n",
       "      <td>6.30.</td>\n",
       "      <td>영등포구</td>\n",
       "      <td>-</td>\n",
       "      <td>영등포구 확진자 접촉</td>\n",
       "      <td>-</td>\n",
       "    </tr>\n",
       "    <tr>\n",
       "      <th>1</th>\n",
       "      <td>1320</td>\n",
       "      <td>12829</td>\n",
       "      <td>6.30.</td>\n",
       "      <td>관악구</td>\n",
       "      <td>-</td>\n",
       "      <td>확인 중</td>\n",
       "      <td>보라매병원</td>\n",
       "    </tr>\n",
       "    <tr>\n",
       "      <th>2</th>\n",
       "      <td>1319</td>\n",
       "      <td>12831</td>\n",
       "      <td>6.30.</td>\n",
       "      <td>영등포구</td>\n",
       "      <td>-</td>\n",
       "      <td>확인 중</td>\n",
       "      <td>중앙대학교병원</td>\n",
       "    </tr>\n",
       "    <tr>\n",
       "      <th>3</th>\n",
       "      <td>1318</td>\n",
       "      <td>12808</td>\n",
       "      <td>6.30.</td>\n",
       "      <td>관악구</td>\n",
       "      <td>-</td>\n",
       "      <td>강남구 역삼동 모임</td>\n",
       "      <td>보라매병원</td>\n",
       "    </tr>\n",
       "    <tr>\n",
       "      <th>4</th>\n",
       "      <td>1317</td>\n",
       "      <td>12809</td>\n",
       "      <td>6.30.</td>\n",
       "      <td>관악구</td>\n",
       "      <td>-</td>\n",
       "      <td>강남구 역삼동 모임</td>\n",
       "      <td>보라매병원</td>\n",
       "    </tr>\n",
       "    <tr>\n",
       "      <th>...</th>\n",
       "      <td>...</td>\n",
       "      <td>...</td>\n",
       "      <td>...</td>\n",
       "      <td>...</td>\n",
       "      <td>...</td>\n",
       "      <td>...</td>\n",
       "      <td>...</td>\n",
       "    </tr>\n",
       "    <tr>\n",
       "      <th>1316</th>\n",
       "      <td>5</td>\n",
       "      <td>9</td>\n",
       "      <td>1.31.</td>\n",
       "      <td>성북구</td>\n",
       "      <td>-</td>\n",
       "      <td>#5 접촉</td>\n",
       "      <td>서울의료원(퇴원)</td>\n",
       "    </tr>\n",
       "    <tr>\n",
       "      <th>1317</th>\n",
       "      <td>4</td>\n",
       "      <td>7</td>\n",
       "      <td>1.30.</td>\n",
       "      <td>마포구</td>\n",
       "      <td>중국 우한시</td>\n",
       "      <td>해외 접촉</td>\n",
       "      <td>서울의료원(퇴원)</td>\n",
       "    </tr>\n",
       "    <tr>\n",
       "      <th>1318</th>\n",
       "      <td>3</td>\n",
       "      <td>6</td>\n",
       "      <td>1.30.</td>\n",
       "      <td>종로구</td>\n",
       "      <td>-</td>\n",
       "      <td>#3 접촉</td>\n",
       "      <td>서울대학교병원(퇴원)</td>\n",
       "    </tr>\n",
       "    <tr>\n",
       "      <th>1319</th>\n",
       "      <td>2</td>\n",
       "      <td>5</td>\n",
       "      <td>1.30.</td>\n",
       "      <td>중랑구</td>\n",
       "      <td>중국 우한시</td>\n",
       "      <td>해외 접촉</td>\n",
       "      <td>서울의료원(퇴원)</td>\n",
       "    </tr>\n",
       "    <tr>\n",
       "      <th>1320</th>\n",
       "      <td>1</td>\n",
       "      <td>2</td>\n",
       "      <td>1.24.</td>\n",
       "      <td>강서구</td>\n",
       "      <td>중국 우한시</td>\n",
       "      <td>해외 접촉</td>\n",
       "      <td>국립중앙의료원(퇴원)</td>\n",
       "    </tr>\n",
       "  </tbody>\n",
       "</table>\n",
       "<p>1321 rows × 7 columns</p>\n",
       "</div>"
      ],
      "text/plain": [
       "        연번     환자    확진일   거주지     여행력          접촉력         조치사항\n",
       "0     1321  12830  6.30.  영등포구       -  영등포구 확진자 접촉            -\n",
       "1     1320  12829  6.30.   관악구       -         확인 중        보라매병원\n",
       "2     1319  12831  6.30.  영등포구       -         확인 중      중앙대학교병원\n",
       "3     1318  12808  6.30.   관악구       -   강남구 역삼동 모임        보라매병원\n",
       "4     1317  12809  6.30.   관악구       -   강남구 역삼동 모임        보라매병원\n",
       "...    ...    ...    ...   ...     ...          ...          ...\n",
       "1316     5      9  1.31.   성북구       -        #5 접촉    서울의료원(퇴원)\n",
       "1317     4      7  1.30.   마포구  중국 우한시        해외 접촉    서울의료원(퇴원)\n",
       "1318     3      6  1.30.   종로구       -        #3 접촉  서울대학교병원(퇴원)\n",
       "1319     2      5  1.30.   중랑구  중국 우한시        해외 접촉    서울의료원(퇴원)\n",
       "1320     1      2  1.24.   강서구  중국 우한시        해외 접촉  국립중앙의료원(퇴원)\n",
       "\n",
       "[1321 rows x 7 columns]"
      ]
     },
     "execution_count": 88,
     "metadata": {},
     "output_type": "execute_result"
    }
   ],
   "source": [
    "df_covid = pd.read_csv('data\\seoul-covid19_6_30_.csv')\n",
    "df_covid"
   ]
  },
  {
   "cell_type": "markdown",
   "id": "710c8c8e-9d75-4180-809a-78e5e1e10ab4",
   "metadata": {},
   "source": [
    "### Q2"
   ]
  },
  {
   "cell_type": "code",
   "execution_count": 89,
   "id": "7a86308a-346b-4399-a644-164bdfe3761b",
   "metadata": {},
   "outputs": [],
   "source": [
    "#연번' 컬럼은 삭제하고  '환자' 컬럼 값 기준으로 정렬한 후 '환자' 컬럼을 인덱스로 설정하여라."
   ]
  },
  {
   "cell_type": "code",
   "execution_count": 90,
   "id": "5a786861-bb0e-45b6-a310-f6292dda58c3",
   "metadata": {},
   "outputs": [],
   "source": [
    "del df_covid['연번']"
   ]
  },
  {
   "cell_type": "code",
   "execution_count": 91,
   "id": "fc2e94eb-6eef-4fe2-9209-e698b7e0a0fe",
   "metadata": {},
   "outputs": [],
   "source": [
    "df_covid.sort_values(by='환자', inplace=True)"
   ]
  },
  {
   "cell_type": "code",
   "execution_count": 92,
   "id": "be38bc27-f0b4-4618-b347-6d0827d4f868",
   "metadata": {},
   "outputs": [],
   "source": [
    "# 인덱스로 설정\n",
    "df_covid.set_index('환자', inplace=True)"
   ]
  },
  {
   "cell_type": "code",
   "execution_count": 85,
   "id": "1d56a4ec-ca02-4ca2-b5c6-d2f30dac4e21",
   "metadata": {
    "collapsed": true,
    "jupyter": {
     "outputs_hidden": true
    },
    "tags": []
   },
   "outputs": [
    {
     "ename": "KeyError",
     "evalue": "'환자'",
     "output_type": "error",
     "traceback": [
      "\u001b[1;31m---------------------------------------------------------------------------\u001b[0m",
      "\u001b[1;31mKeyError\u001b[0m                                  Traceback (most recent call last)",
      "File \u001b[1;32m~\\anaconda3\\lib\\site-packages\\pandas\\core\\indexes\\base.py:3621\u001b[0m, in \u001b[0;36mIndex.get_loc\u001b[1;34m(self, key, method, tolerance)\u001b[0m\n\u001b[0;32m   3620\u001b[0m \u001b[38;5;28;01mtry\u001b[39;00m:\n\u001b[1;32m-> 3621\u001b[0m     \u001b[38;5;28;01mreturn\u001b[39;00m \u001b[38;5;28;43mself\u001b[39;49m\u001b[38;5;241;43m.\u001b[39;49m\u001b[43m_engine\u001b[49m\u001b[38;5;241;43m.\u001b[39;49m\u001b[43mget_loc\u001b[49m\u001b[43m(\u001b[49m\u001b[43mcasted_key\u001b[49m\u001b[43m)\u001b[49m\n\u001b[0;32m   3622\u001b[0m \u001b[38;5;28;01mexcept\u001b[39;00m \u001b[38;5;167;01mKeyError\u001b[39;00m \u001b[38;5;28;01mas\u001b[39;00m err:\n",
      "File \u001b[1;32m~\\anaconda3\\lib\\site-packages\\pandas\\_libs\\index.pyx:136\u001b[0m, in \u001b[0;36mpandas._libs.index.IndexEngine.get_loc\u001b[1;34m()\u001b[0m\n",
      "File \u001b[1;32m~\\anaconda3\\lib\\site-packages\\pandas\\_libs\\index.pyx:163\u001b[0m, in \u001b[0;36mpandas._libs.index.IndexEngine.get_loc\u001b[1;34m()\u001b[0m\n",
      "File \u001b[1;32mpandas\\_libs\\hashtable_class_helper.pxi:5198\u001b[0m, in \u001b[0;36mpandas._libs.hashtable.PyObjectHashTable.get_item\u001b[1;34m()\u001b[0m\n",
      "File \u001b[1;32mpandas\\_libs\\hashtable_class_helper.pxi:5206\u001b[0m, in \u001b[0;36mpandas._libs.hashtable.PyObjectHashTable.get_item\u001b[1;34m()\u001b[0m\n",
      "\u001b[1;31mKeyError\u001b[0m: '환자'",
      "\nThe above exception was the direct cause of the following exception:\n",
      "\u001b[1;31mKeyError\u001b[0m                                  Traceback (most recent call last)",
      "Input \u001b[1;32mIn [85]\u001b[0m, in \u001b[0;36m<cell line: 2>\u001b[1;34m()\u001b[0m\n\u001b[0;32m      1\u001b[0m \u001b[38;5;66;03m# 인덱스로 설정\u001b[39;00m\n\u001b[1;32m----> 2\u001b[0m df_covid\u001b[38;5;241m.\u001b[39mindex \u001b[38;5;241m=\u001b[39m \u001b[43mdf_covid\u001b[49m\u001b[43m[\u001b[49m\u001b[38;5;124;43m'\u001b[39;49m\u001b[38;5;124;43m환자\u001b[39;49m\u001b[38;5;124;43m'\u001b[39;49m\u001b[43m]\u001b[49m\n\u001b[0;32m      3\u001b[0m df_covid\n",
      "File \u001b[1;32m~\\anaconda3\\lib\\site-packages\\pandas\\core\\frame.py:3505\u001b[0m, in \u001b[0;36mDataFrame.__getitem__\u001b[1;34m(self, key)\u001b[0m\n\u001b[0;32m   3503\u001b[0m \u001b[38;5;28;01mif\u001b[39;00m \u001b[38;5;28mself\u001b[39m\u001b[38;5;241m.\u001b[39mcolumns\u001b[38;5;241m.\u001b[39mnlevels \u001b[38;5;241m>\u001b[39m \u001b[38;5;241m1\u001b[39m:\n\u001b[0;32m   3504\u001b[0m     \u001b[38;5;28;01mreturn\u001b[39;00m \u001b[38;5;28mself\u001b[39m\u001b[38;5;241m.\u001b[39m_getitem_multilevel(key)\n\u001b[1;32m-> 3505\u001b[0m indexer \u001b[38;5;241m=\u001b[39m \u001b[38;5;28;43mself\u001b[39;49m\u001b[38;5;241;43m.\u001b[39;49m\u001b[43mcolumns\u001b[49m\u001b[38;5;241;43m.\u001b[39;49m\u001b[43mget_loc\u001b[49m\u001b[43m(\u001b[49m\u001b[43mkey\u001b[49m\u001b[43m)\u001b[49m\n\u001b[0;32m   3506\u001b[0m \u001b[38;5;28;01mif\u001b[39;00m is_integer(indexer):\n\u001b[0;32m   3507\u001b[0m     indexer \u001b[38;5;241m=\u001b[39m [indexer]\n",
      "File \u001b[1;32m~\\anaconda3\\lib\\site-packages\\pandas\\core\\indexes\\base.py:3623\u001b[0m, in \u001b[0;36mIndex.get_loc\u001b[1;34m(self, key, method, tolerance)\u001b[0m\n\u001b[0;32m   3621\u001b[0m     \u001b[38;5;28;01mreturn\u001b[39;00m \u001b[38;5;28mself\u001b[39m\u001b[38;5;241m.\u001b[39m_engine\u001b[38;5;241m.\u001b[39mget_loc(casted_key)\n\u001b[0;32m   3622\u001b[0m \u001b[38;5;28;01mexcept\u001b[39;00m \u001b[38;5;167;01mKeyError\u001b[39;00m \u001b[38;5;28;01mas\u001b[39;00m err:\n\u001b[1;32m-> 3623\u001b[0m     \u001b[38;5;28;01mraise\u001b[39;00m \u001b[38;5;167;01mKeyError\u001b[39;00m(key) \u001b[38;5;28;01mfrom\u001b[39;00m \u001b[38;5;21;01merr\u001b[39;00m\n\u001b[0;32m   3624\u001b[0m \u001b[38;5;28;01mexcept\u001b[39;00m \u001b[38;5;167;01mTypeError\u001b[39;00m:\n\u001b[0;32m   3625\u001b[0m     \u001b[38;5;66;03m# If we have a listlike key, _check_indexing_error will raise\u001b[39;00m\n\u001b[0;32m   3626\u001b[0m     \u001b[38;5;66;03m#  InvalidIndexError. Otherwise we fall through and re-raise\u001b[39;00m\n\u001b[0;32m   3627\u001b[0m     \u001b[38;5;66;03m#  the TypeError.\u001b[39;00m\n\u001b[0;32m   3628\u001b[0m     \u001b[38;5;28mself\u001b[39m\u001b[38;5;241m.\u001b[39m_check_indexing_error(key)\n",
      "\u001b[1;31mKeyError\u001b[0m: '환자'"
     ]
    }
   ],
   "source": [
    "# 인덱스로 설정\n",
    "df_covid.index = df_covid['환자']\n",
    "df_covid"
   ]
  },
  {
   "cell_type": "code",
   "execution_count": null,
   "id": "bfd0aa50-f982-465d-81df-10ea9e8c2912",
   "metadata": {
    "tags": []
   },
   "outputs": [],
   "source": [
    "del df_covid['환자']"
   ]
  },
  {
   "cell_type": "code",
   "execution_count": 93,
   "id": "661f0c00-bf69-433e-98f3-7be4834a4b54",
   "metadata": {},
   "outputs": [
    {
     "data": {
      "text/html": [
       "<div>\n",
       "<style scoped>\n",
       "    .dataframe tbody tr th:only-of-type {\n",
       "        vertical-align: middle;\n",
       "    }\n",
       "\n",
       "    .dataframe tbody tr th {\n",
       "        vertical-align: top;\n",
       "    }\n",
       "\n",
       "    .dataframe thead th {\n",
       "        text-align: right;\n",
       "    }\n",
       "</style>\n",
       "<table border=\"1\" class=\"dataframe\">\n",
       "  <thead>\n",
       "    <tr style=\"text-align: right;\">\n",
       "      <th></th>\n",
       "      <th>확진일</th>\n",
       "      <th>거주지</th>\n",
       "      <th>여행력</th>\n",
       "      <th>접촉력</th>\n",
       "      <th>조치사항</th>\n",
       "    </tr>\n",
       "    <tr>\n",
       "      <th>환자</th>\n",
       "      <th></th>\n",
       "      <th></th>\n",
       "      <th></th>\n",
       "      <th></th>\n",
       "      <th></th>\n",
       "    </tr>\n",
       "  </thead>\n",
       "  <tbody>\n",
       "    <tr>\n",
       "      <th>2</th>\n",
       "      <td>1.24.</td>\n",
       "      <td>강서구</td>\n",
       "      <td>중국 우한시</td>\n",
       "      <td>해외 접촉</td>\n",
       "      <td>국립중앙의료원(퇴원)</td>\n",
       "    </tr>\n",
       "    <tr>\n",
       "      <th>5</th>\n",
       "      <td>1.30.</td>\n",
       "      <td>중랑구</td>\n",
       "      <td>중국 우한시</td>\n",
       "      <td>해외 접촉</td>\n",
       "      <td>서울의료원(퇴원)</td>\n",
       "    </tr>\n",
       "    <tr>\n",
       "      <th>6</th>\n",
       "      <td>1.30.</td>\n",
       "      <td>종로구</td>\n",
       "      <td>-</td>\n",
       "      <td>#3 접촉</td>\n",
       "      <td>서울대학교병원(퇴원)</td>\n",
       "    </tr>\n",
       "    <tr>\n",
       "      <th>7</th>\n",
       "      <td>1.30.</td>\n",
       "      <td>마포구</td>\n",
       "      <td>중국 우한시</td>\n",
       "      <td>해외 접촉</td>\n",
       "      <td>서울의료원(퇴원)</td>\n",
       "    </tr>\n",
       "    <tr>\n",
       "      <th>9</th>\n",
       "      <td>1.31.</td>\n",
       "      <td>성북구</td>\n",
       "      <td>-</td>\n",
       "      <td>#5 접촉</td>\n",
       "      <td>서울의료원(퇴원)</td>\n",
       "    </tr>\n",
       "    <tr>\n",
       "      <th>...</th>\n",
       "      <td>...</td>\n",
       "      <td>...</td>\n",
       "      <td>...</td>\n",
       "      <td>...</td>\n",
       "      <td>...</td>\n",
       "    </tr>\n",
       "    <tr>\n",
       "      <th>12819</th>\n",
       "      <td>6.30.</td>\n",
       "      <td>마포구</td>\n",
       "      <td>-</td>\n",
       "      <td>대전 꿈꾸는 교회</td>\n",
       "      <td>서남병원</td>\n",
       "    </tr>\n",
       "    <tr>\n",
       "      <th>12822</th>\n",
       "      <td>6.29.</td>\n",
       "      <td>의정부</td>\n",
       "      <td>-</td>\n",
       "      <td>확인 중</td>\n",
       "      <td>타시도 이관</td>\n",
       "    </tr>\n",
       "    <tr>\n",
       "      <th>12829</th>\n",
       "      <td>6.30.</td>\n",
       "      <td>관악구</td>\n",
       "      <td>-</td>\n",
       "      <td>확인 중</td>\n",
       "      <td>보라매병원</td>\n",
       "    </tr>\n",
       "    <tr>\n",
       "      <th>12830</th>\n",
       "      <td>6.30.</td>\n",
       "      <td>영등포구</td>\n",
       "      <td>-</td>\n",
       "      <td>영등포구 확진자 접촉</td>\n",
       "      <td>-</td>\n",
       "    </tr>\n",
       "    <tr>\n",
       "      <th>12831</th>\n",
       "      <td>6.30.</td>\n",
       "      <td>영등포구</td>\n",
       "      <td>-</td>\n",
       "      <td>확인 중</td>\n",
       "      <td>중앙대학교병원</td>\n",
       "    </tr>\n",
       "  </tbody>\n",
       "</table>\n",
       "<p>1321 rows × 5 columns</p>\n",
       "</div>"
      ],
      "text/plain": [
       "         확진일   거주지     여행력          접촉력         조치사항\n",
       "환자                                                  \n",
       "2      1.24.   강서구  중국 우한시        해외 접촉  국립중앙의료원(퇴원)\n",
       "5      1.30.   중랑구  중국 우한시        해외 접촉    서울의료원(퇴원)\n",
       "6      1.30.   종로구       -        #3 접촉  서울대학교병원(퇴원)\n",
       "7      1.30.   마포구  중국 우한시        해외 접촉    서울의료원(퇴원)\n",
       "9      1.31.   성북구       -        #5 접촉    서울의료원(퇴원)\n",
       "...      ...   ...     ...          ...          ...\n",
       "12819  6.30.   마포구       -    대전 꿈꾸는 교회         서남병원\n",
       "12822  6.29.   의정부       -         확인 중       타시도 이관\n",
       "12829  6.30.   관악구       -         확인 중        보라매병원\n",
       "12830  6.30.  영등포구       -  영등포구 확진자 접촉            -\n",
       "12831  6.30.  영등포구       -         확인 중      중앙대학교병원\n",
       "\n",
       "[1321 rows x 5 columns]"
      ]
     },
     "execution_count": 93,
     "metadata": {},
     "output_type": "execute_result"
    }
   ],
   "source": [
    "df_covid"
   ]
  },
  {
   "cell_type": "markdown",
   "id": "038500dd-745c-450a-a67d-a70d07e7187a",
   "metadata": {
    "tags": []
   },
   "source": [
    "### Q3"
   ]
  },
  {
   "cell_type": "code",
   "execution_count": null,
   "id": "0d40ce94-7780-435e-9d87-109861cfcf2b",
   "metadata": {},
   "outputs": [],
   "source": [
    "# 어느 지역에서 제일 많은 확진자가 발생했는지 1~5위 까지 출력하여라 (거주지 기준)"
   ]
  },
  {
   "cell_type": "code",
   "execution_count": 94,
   "id": "f7b29420-4cfc-4ad3-9bcc-8bd7b4c07191",
   "metadata": {},
   "outputs": [
    {
     "data": {
      "text/plain": [
       "관악구    117\n",
       "구로구     86\n",
       "강남구     83\n",
       "강서구     78\n",
       "양천구     70\n",
       "Name: 거주지, dtype: int64"
      ]
     },
     "execution_count": 94,
     "metadata": {},
     "output_type": "execute_result"
    }
   ],
   "source": [
    "df_covid['거주지'].value_counts()[:5]"
   ]
  },
  {
   "cell_type": "markdown",
   "id": "cbc7a6e2-3765-42ed-a7c1-4be0ebfc907a",
   "metadata": {
    "tags": []
   },
   "source": [
    "### Q4"
   ]
  },
  {
   "cell_type": "code",
   "execution_count": null,
   "id": "082c9446-3867-458d-a7d6-ebf818b14b8e",
   "metadata": {},
   "outputs": [],
   "source": [
    "# 확진자가 가장 많이 발생한 1, 2, 3위 지역의 데이타만 출력하여라"
   ]
  },
  {
   "cell_type": "code",
   "execution_count": null,
   "id": "2a56f901-3317-474c-b44c-2e2169e7e640",
   "metadata": {},
   "outputs": [],
   "source": [
    "list(df_covid['거주지'].value_counts()[:3].keys())[0]"
   ]
  },
  {
   "cell_type": "code",
   "execution_count": null,
   "id": "f36aa874-2d14-42e6-9c44-69585e6985b2",
   "metadata": {},
   "outputs": [],
   "source": [
    "df_covid[(df_covid['거주지']==list(df_covid['거주지'].value_counts()[:3].keys())[0]) | (df_covid['거주지']==list(df_covid['거주지'].value_counts()[:3].keys())[1]) | (df_covid['거주지']==list(df_covid['거주지'].value_counts()[:3].keys())[2])]"
   ]
  },
  {
   "cell_type": "code",
   "execution_count": null,
   "id": "36e2148f-1aba-45fd-b0cf-e4ab9b8e0ce9",
   "metadata": {},
   "outputs": [],
   "source": [
    "','.join(list(df_covid['거주지'].value_counts()[:3].keys()))"
   ]
  },
  {
   "cell_type": "code",
   "execution_count": null,
   "id": "40faa3a7-5f3c-4ffb-b89c-4280f546b9f7",
   "metadata": {
    "tags": []
   },
   "outputs": [],
   "source": [
    "# for 문 이용 \n",
    "result_idx = list(df_covid['거주지'].value_counts()[:3].index)\n",
    "for item in result_idx:\n",
    "    print(df_covid[df_covid['거주지'] == item])"
   ]
  },
  {
   "cell_type": "code",
   "execution_count": null,
   "id": "a5c190f0-0077-41db-826a-7dfe696a5aa9",
   "metadata": {},
   "outputs": [],
   "source": [
    "df_covid[df_covid['거주지'] == '관악구'].index"
   ]
  },
  {
   "cell_type": "code",
   "execution_count": null,
   "id": "a9b3460a-1630-4aec-b01b-8b7afe6fb445",
   "metadata": {
    "tags": []
   },
   "outputs": [],
   "source": [
    "result = []\n",
    "r_idx = list(df_covid['거주지'].value_counts()[:3].keys())\n",
    "for item in r_idx:\n",
    "    pd.concat(result, df_covid[df_covid['거주지']==item])\n",
    "result"
   ]
  },
  {
   "cell_type": "code",
   "execution_count": null,
   "id": "d15797c7-09da-4aaf-aabf-7a2d928386a4",
   "metadata": {},
   "outputs": [],
   "source": [
    "# for 문을 이용하여 빈 데이타프레임 생성 후 행으로 추가하기 (1)\n",
    "# 1) 거주지 리스트 생성\n",
    "result_idx = list(df_covid['거주지'].value_counts()[:3].index)\n",
    "# 2) 빈데이타프레임 생성 \n",
    "result_df = pd.DataFrame()\n",
    "# 3) 조건에 해당하는 데이타프레임 생성 후 추가 \n",
    "for item in result_idx:\n",
    "    temp_df = df_covid[df_covid['거주지'] == item].copy()\n",
    "    # print(temp_df)\n",
    "    result_df = result_df.append(temp_df)\n",
    "result_df"
   ]
  },
  {
   "cell_type": "code",
   "execution_count": null,
   "id": "43827159-2132-47cd-99e9-1d1956d8b6c1",
   "metadata": {},
   "outputs": [],
   "source": [
    "# for 문을 이용하여 빈 데이타프레임 생성 후 행으로 추가하기 (2)\n",
    "result_df2 = pd.DataFrame()\n",
    "for item in result_idx:\n",
    "    temp_df = df_covid[df_covid['거주지'] == item].copy()\n",
    "    # print(temp_df)\n",
    "    result_df2 = pd.concat([result_df2, temp_df])\n",
    "result_df2   "
   ]
  },
  {
   "cell_type": "markdown",
   "id": "128e9a9f-0e84-4ad5-82e3-b2a7735893d0",
   "metadata": {
    "tags": []
   },
   "source": [
    "### Q5"
   ]
  },
  {
   "cell_type": "code",
   "execution_count": null,
   "id": "eb129415-2adb-427d-9705-59e974eb7ebe",
   "metadata": {},
   "outputs": [],
   "source": [
    "# '확진일' 컬럼값을 아래와 같은 형태로 변경하여라\n",
    "# '1.24.' => '2020-1-24'"
   ]
  },
  {
   "cell_type": "code",
   "execution_count": 95,
   "id": "26868f50-6ee3-498e-b4c2-4e76b29692ff",
   "metadata": {
    "collapsed": true,
    "jupyter": {
     "outputs_hidden": true
    },
    "tags": []
   },
   "outputs": [
    {
     "data": {
      "text/plain": [
       "환자\n",
       "2        1.24.\n",
       "5        1.30.\n",
       "6        1.30.\n",
       "7        1.30.\n",
       "9        1.31.\n",
       "         ...  \n",
       "12819    6.30.\n",
       "12822    6.29.\n",
       "12829    6.30.\n",
       "12830    6.30.\n",
       "12831    6.30.\n",
       "Name: 확진일, Length: 1321, dtype: object"
      ]
     },
     "execution_count": 95,
     "metadata": {},
     "output_type": "execute_result"
    }
   ],
   "source": [
    "df_covid['확진일']"
   ]
  },
  {
   "cell_type": "code",
   "execution_count": 96,
   "id": "6a67f1a2-fef4-4f79-861a-ec6b5efa1225",
   "metadata": {},
   "outputs": [],
   "source": [
    "df_covid['확진일'] = '2022-'+df_covid['확진일'].str[:-1].str.replace('.','-')"
   ]
  },
  {
   "cell_type": "code",
   "execution_count": 97,
   "id": "396fcdb5-e451-4750-9eed-13b01c139525",
   "metadata": {},
   "outputs": [
    {
     "data": {
      "text/html": [
       "<div>\n",
       "<style scoped>\n",
       "    .dataframe tbody tr th:only-of-type {\n",
       "        vertical-align: middle;\n",
       "    }\n",
       "\n",
       "    .dataframe tbody tr th {\n",
       "        vertical-align: top;\n",
       "    }\n",
       "\n",
       "    .dataframe thead th {\n",
       "        text-align: right;\n",
       "    }\n",
       "</style>\n",
       "<table border=\"1\" class=\"dataframe\">\n",
       "  <thead>\n",
       "    <tr style=\"text-align: right;\">\n",
       "      <th></th>\n",
       "      <th>확진일</th>\n",
       "      <th>거주지</th>\n",
       "      <th>여행력</th>\n",
       "      <th>접촉력</th>\n",
       "      <th>조치사항</th>\n",
       "    </tr>\n",
       "    <tr>\n",
       "      <th>환자</th>\n",
       "      <th></th>\n",
       "      <th></th>\n",
       "      <th></th>\n",
       "      <th></th>\n",
       "      <th></th>\n",
       "    </tr>\n",
       "  </thead>\n",
       "  <tbody>\n",
       "    <tr>\n",
       "      <th>2</th>\n",
       "      <td>2022-1-24</td>\n",
       "      <td>강서구</td>\n",
       "      <td>중국 우한시</td>\n",
       "      <td>해외 접촉</td>\n",
       "      <td>국립중앙의료원(퇴원)</td>\n",
       "    </tr>\n",
       "    <tr>\n",
       "      <th>5</th>\n",
       "      <td>2022-1-30</td>\n",
       "      <td>중랑구</td>\n",
       "      <td>중국 우한시</td>\n",
       "      <td>해외 접촉</td>\n",
       "      <td>서울의료원(퇴원)</td>\n",
       "    </tr>\n",
       "    <tr>\n",
       "      <th>6</th>\n",
       "      <td>2022-1-30</td>\n",
       "      <td>종로구</td>\n",
       "      <td>-</td>\n",
       "      <td>#3 접촉</td>\n",
       "      <td>서울대학교병원(퇴원)</td>\n",
       "    </tr>\n",
       "    <tr>\n",
       "      <th>7</th>\n",
       "      <td>2022-1-30</td>\n",
       "      <td>마포구</td>\n",
       "      <td>중국 우한시</td>\n",
       "      <td>해외 접촉</td>\n",
       "      <td>서울의료원(퇴원)</td>\n",
       "    </tr>\n",
       "    <tr>\n",
       "      <th>9</th>\n",
       "      <td>2022-1-31</td>\n",
       "      <td>성북구</td>\n",
       "      <td>-</td>\n",
       "      <td>#5 접촉</td>\n",
       "      <td>서울의료원(퇴원)</td>\n",
       "    </tr>\n",
       "    <tr>\n",
       "      <th>...</th>\n",
       "      <td>...</td>\n",
       "      <td>...</td>\n",
       "      <td>...</td>\n",
       "      <td>...</td>\n",
       "      <td>...</td>\n",
       "    </tr>\n",
       "    <tr>\n",
       "      <th>12819</th>\n",
       "      <td>2022-6-30</td>\n",
       "      <td>마포구</td>\n",
       "      <td>-</td>\n",
       "      <td>대전 꿈꾸는 교회</td>\n",
       "      <td>서남병원</td>\n",
       "    </tr>\n",
       "    <tr>\n",
       "      <th>12822</th>\n",
       "      <td>2022-6-29</td>\n",
       "      <td>의정부</td>\n",
       "      <td>-</td>\n",
       "      <td>확인 중</td>\n",
       "      <td>타시도 이관</td>\n",
       "    </tr>\n",
       "    <tr>\n",
       "      <th>12829</th>\n",
       "      <td>2022-6-30</td>\n",
       "      <td>관악구</td>\n",
       "      <td>-</td>\n",
       "      <td>확인 중</td>\n",
       "      <td>보라매병원</td>\n",
       "    </tr>\n",
       "    <tr>\n",
       "      <th>12830</th>\n",
       "      <td>2022-6-30</td>\n",
       "      <td>영등포구</td>\n",
       "      <td>-</td>\n",
       "      <td>영등포구 확진자 접촉</td>\n",
       "      <td>-</td>\n",
       "    </tr>\n",
       "    <tr>\n",
       "      <th>12831</th>\n",
       "      <td>2022-6-30</td>\n",
       "      <td>영등포구</td>\n",
       "      <td>-</td>\n",
       "      <td>확인 중</td>\n",
       "      <td>중앙대학교병원</td>\n",
       "    </tr>\n",
       "  </tbody>\n",
       "</table>\n",
       "<p>1321 rows × 5 columns</p>\n",
       "</div>"
      ],
      "text/plain": [
       "             확진일   거주지     여행력          접촉력         조치사항\n",
       "환자                                                      \n",
       "2      2022-1-24   강서구  중국 우한시        해외 접촉  국립중앙의료원(퇴원)\n",
       "5      2022-1-30   중랑구  중국 우한시        해외 접촉    서울의료원(퇴원)\n",
       "6      2022-1-30   종로구       -        #3 접촉  서울대학교병원(퇴원)\n",
       "7      2022-1-30   마포구  중국 우한시        해외 접촉    서울의료원(퇴원)\n",
       "9      2022-1-31   성북구       -        #5 접촉    서울의료원(퇴원)\n",
       "...          ...   ...     ...          ...          ...\n",
       "12819  2022-6-30   마포구       -    대전 꿈꾸는 교회         서남병원\n",
       "12822  2022-6-29   의정부       -         확인 중       타시도 이관\n",
       "12829  2022-6-30   관악구       -         확인 중        보라매병원\n",
       "12830  2022-6-30  영등포구       -  영등포구 확진자 접촉            -\n",
       "12831  2022-6-30  영등포구       -         확인 중      중앙대학교병원\n",
       "\n",
       "[1321 rows x 5 columns]"
      ]
     },
     "execution_count": 97,
     "metadata": {},
     "output_type": "execute_result"
    }
   ],
   "source": [
    "df_covid"
   ]
  },
  {
   "cell_type": "markdown",
   "id": "370cd215-e0b2-4c56-aa0e-5c8b0ce070aa",
   "metadata": {
    "tags": []
   },
   "source": [
    "### Q6"
   ]
  },
  {
   "cell_type": "code",
   "execution_count": 98,
   "id": "738c34b6-3e15-456a-8316-9687cb6750ba",
   "metadata": {
    "tags": []
   },
   "outputs": [],
   "source": [
    "date_list = list(df_covid['확진일'])\n",
    "# date_list"
   ]
  },
  {
   "cell_type": "code",
   "execution_count": 99,
   "id": "fe30760d-274f-4719-8e7d-5e9f0a9881f6",
   "metadata": {
    "tags": []
   },
   "outputs": [],
   "source": [
    "df_covid['확진일'] = pd.to_datetime(date_list, errors='coerce')"
   ]
  },
  {
   "cell_type": "code",
   "execution_count": 100,
   "id": "4ca56e83-421a-4ce6-9ede-7f79296f3f18",
   "metadata": {
    "tags": []
   },
   "outputs": [
    {
     "data": {
      "text/html": [
       "<div>\n",
       "<style scoped>\n",
       "    .dataframe tbody tr th:only-of-type {\n",
       "        vertical-align: middle;\n",
       "    }\n",
       "\n",
       "    .dataframe tbody tr th {\n",
       "        vertical-align: top;\n",
       "    }\n",
       "\n",
       "    .dataframe thead th {\n",
       "        text-align: right;\n",
       "    }\n",
       "</style>\n",
       "<table border=\"1\" class=\"dataframe\">\n",
       "  <thead>\n",
       "    <tr style=\"text-align: right;\">\n",
       "      <th></th>\n",
       "      <th>확진일</th>\n",
       "      <th>거주지</th>\n",
       "      <th>여행력</th>\n",
       "      <th>접촉력</th>\n",
       "      <th>조치사항</th>\n",
       "    </tr>\n",
       "    <tr>\n",
       "      <th>환자</th>\n",
       "      <th></th>\n",
       "      <th></th>\n",
       "      <th></th>\n",
       "      <th></th>\n",
       "      <th></th>\n",
       "    </tr>\n",
       "  </thead>\n",
       "  <tbody>\n",
       "    <tr>\n",
       "      <th>2</th>\n",
       "      <td>2022-01-24</td>\n",
       "      <td>강서구</td>\n",
       "      <td>중국 우한시</td>\n",
       "      <td>해외 접촉</td>\n",
       "      <td>국립중앙의료원(퇴원)</td>\n",
       "    </tr>\n",
       "    <tr>\n",
       "      <th>5</th>\n",
       "      <td>2022-01-30</td>\n",
       "      <td>중랑구</td>\n",
       "      <td>중국 우한시</td>\n",
       "      <td>해외 접촉</td>\n",
       "      <td>서울의료원(퇴원)</td>\n",
       "    </tr>\n",
       "    <tr>\n",
       "      <th>6</th>\n",
       "      <td>2022-01-30</td>\n",
       "      <td>종로구</td>\n",
       "      <td>-</td>\n",
       "      <td>#3 접촉</td>\n",
       "      <td>서울대학교병원(퇴원)</td>\n",
       "    </tr>\n",
       "    <tr>\n",
       "      <th>7</th>\n",
       "      <td>2022-01-30</td>\n",
       "      <td>마포구</td>\n",
       "      <td>중국 우한시</td>\n",
       "      <td>해외 접촉</td>\n",
       "      <td>서울의료원(퇴원)</td>\n",
       "    </tr>\n",
       "    <tr>\n",
       "      <th>9</th>\n",
       "      <td>2022-01-31</td>\n",
       "      <td>성북구</td>\n",
       "      <td>-</td>\n",
       "      <td>#5 접촉</td>\n",
       "      <td>서울의료원(퇴원)</td>\n",
       "    </tr>\n",
       "    <tr>\n",
       "      <th>...</th>\n",
       "      <td>...</td>\n",
       "      <td>...</td>\n",
       "      <td>...</td>\n",
       "      <td>...</td>\n",
       "      <td>...</td>\n",
       "    </tr>\n",
       "    <tr>\n",
       "      <th>12819</th>\n",
       "      <td>2022-06-30</td>\n",
       "      <td>마포구</td>\n",
       "      <td>-</td>\n",
       "      <td>대전 꿈꾸는 교회</td>\n",
       "      <td>서남병원</td>\n",
       "    </tr>\n",
       "    <tr>\n",
       "      <th>12822</th>\n",
       "      <td>2022-06-29</td>\n",
       "      <td>의정부</td>\n",
       "      <td>-</td>\n",
       "      <td>확인 중</td>\n",
       "      <td>타시도 이관</td>\n",
       "    </tr>\n",
       "    <tr>\n",
       "      <th>12829</th>\n",
       "      <td>2022-06-30</td>\n",
       "      <td>관악구</td>\n",
       "      <td>-</td>\n",
       "      <td>확인 중</td>\n",
       "      <td>보라매병원</td>\n",
       "    </tr>\n",
       "    <tr>\n",
       "      <th>12830</th>\n",
       "      <td>2022-06-30</td>\n",
       "      <td>영등포구</td>\n",
       "      <td>-</td>\n",
       "      <td>영등포구 확진자 접촉</td>\n",
       "      <td>-</td>\n",
       "    </tr>\n",
       "    <tr>\n",
       "      <th>12831</th>\n",
       "      <td>2022-06-30</td>\n",
       "      <td>영등포구</td>\n",
       "      <td>-</td>\n",
       "      <td>확인 중</td>\n",
       "      <td>중앙대학교병원</td>\n",
       "    </tr>\n",
       "  </tbody>\n",
       "</table>\n",
       "<p>1321 rows × 5 columns</p>\n",
       "</div>"
      ],
      "text/plain": [
       "             확진일   거주지     여행력          접촉력         조치사항\n",
       "환자                                                      \n",
       "2     2022-01-24   강서구  중국 우한시        해외 접촉  국립중앙의료원(퇴원)\n",
       "5     2022-01-30   중랑구  중국 우한시        해외 접촉    서울의료원(퇴원)\n",
       "6     2022-01-30   종로구       -        #3 접촉  서울대학교병원(퇴원)\n",
       "7     2022-01-30   마포구  중국 우한시        해외 접촉    서울의료원(퇴원)\n",
       "9     2022-01-31   성북구       -        #5 접촉    서울의료원(퇴원)\n",
       "...          ...   ...     ...          ...          ...\n",
       "12819 2022-06-30   마포구       -    대전 꿈꾸는 교회         서남병원\n",
       "12822 2022-06-29   의정부       -         확인 중       타시도 이관\n",
       "12829 2022-06-30   관악구       -         확인 중        보라매병원\n",
       "12830 2022-06-30  영등포구       -  영등포구 확진자 접촉            -\n",
       "12831 2022-06-30  영등포구       -         확인 중      중앙대학교병원\n",
       "\n",
       "[1321 rows x 5 columns]"
      ]
     },
     "execution_count": 100,
     "metadata": {},
     "output_type": "execute_result"
    }
   ],
   "source": [
    "df_covid"
   ]
  },
  {
   "cell_type": "code",
   "execution_count": 101,
   "id": "7839aa30-8cf9-4a30-8029-8a50592294ac",
   "metadata": {},
   "outputs": [
    {
     "data": {
      "text/plain": [
       "확진일     datetime64[ns]\n",
       "거주지             object\n",
       "여행력             object\n",
       "접촉력             object\n",
       "조치사항            object\n",
       "dtype: object"
      ]
     },
     "execution_count": 101,
     "metadata": {},
     "output_type": "execute_result"
    }
   ],
   "source": [
    "df_covid.dtypes"
   ]
  },
  {
   "cell_type": "code",
   "execution_count": 102,
   "id": "e8e03cdd-c851-412c-af53-cf7278713ae4",
   "metadata": {},
   "outputs": [
    {
     "data": {
      "text/html": [
       "<div>\n",
       "<style scoped>\n",
       "    .dataframe tbody tr th:only-of-type {\n",
       "        vertical-align: middle;\n",
       "    }\n",
       "\n",
       "    .dataframe tbody tr th {\n",
       "        vertical-align: top;\n",
       "    }\n",
       "\n",
       "    .dataframe thead th {\n",
       "        text-align: right;\n",
       "    }\n",
       "</style>\n",
       "<table border=\"1\" class=\"dataframe\">\n",
       "  <thead>\n",
       "    <tr style=\"text-align: right;\">\n",
       "      <th></th>\n",
       "      <th>확진일</th>\n",
       "      <th>거주지</th>\n",
       "      <th>여행력</th>\n",
       "      <th>접촉력</th>\n",
       "      <th>조치사항</th>\n",
       "    </tr>\n",
       "    <tr>\n",
       "      <th>환자</th>\n",
       "      <th></th>\n",
       "      <th></th>\n",
       "      <th></th>\n",
       "      <th></th>\n",
       "      <th></th>\n",
       "    </tr>\n",
       "  </thead>\n",
       "  <tbody>\n",
       "  </tbody>\n",
       "</table>\n",
       "</div>"
      ],
      "text/plain": [
       "Empty DataFrame\n",
       "Columns: [확진일, 거주지, 여행력, 접촉력, 조치사항]\n",
       "Index: []"
      ]
     },
     "execution_count": 102,
     "metadata": {},
     "output_type": "execute_result"
    }
   ],
   "source": [
    "df_covid[df_covid['확진일']=='2020-06']"
   ]
  },
  {
   "cell_type": "code",
   "execution_count": null,
   "id": "8d57b658-fdc2-40a7-af23-4ebfc90e3947",
   "metadata": {},
   "outputs": [],
   "source": [
    "ㅍ"
   ]
  },
  {
   "cell_type": "markdown",
   "id": "64741345-f39a-478f-8477-427119c4f51b",
   "metadata": {
    "tags": []
   },
   "source": [
    "### Q7"
   ]
  },
  {
   "cell_type": "code",
   "execution_count": 27,
   "id": "91c3bd58-3fca-4aa7-ad21-b331f26dc064",
   "metadata": {},
   "outputs": [],
   "source": [
    "# 3월에 발생한 확진자의 데이타만 출력하여라."
   ]
  },
  {
   "cell_type": "code",
   "execution_count": 28,
   "id": "418bf3f7-2efe-47c7-844f-7ea3575b230f",
   "metadata": {
    "tags": []
   },
   "outputs": [
    {
     "data": {
      "text/html": [
       "<div>\n",
       "<style scoped>\n",
       "    .dataframe tbody tr th:only-of-type {\n",
       "        vertical-align: middle;\n",
       "    }\n",
       "\n",
       "    .dataframe tbody tr th {\n",
       "        vertical-align: top;\n",
       "    }\n",
       "\n",
       "    .dataframe thead th {\n",
       "        text-align: right;\n",
       "    }\n",
       "</style>\n",
       "<table border=\"1\" class=\"dataframe\">\n",
       "  <thead>\n",
       "    <tr style=\"text-align: right;\">\n",
       "      <th></th>\n",
       "      <th>확진일</th>\n",
       "      <th>거주지</th>\n",
       "      <th>여행력</th>\n",
       "      <th>접촉력</th>\n",
       "      <th>조치사항</th>\n",
       "    </tr>\n",
       "    <tr>\n",
       "      <th>환자</th>\n",
       "      <th></th>\n",
       "      <th></th>\n",
       "      <th></th>\n",
       "      <th></th>\n",
       "      <th></th>\n",
       "    </tr>\n",
       "  </thead>\n",
       "  <tbody>\n",
       "    <tr>\n",
       "      <th>3616</th>\n",
       "      <td>2022-03-01</td>\n",
       "      <td>강남구</td>\n",
       "      <td>-</td>\n",
       "      <td>부동산 중개 법인 관련</td>\n",
       "      <td>서울의료원(퇴원)</td>\n",
       "    </tr>\n",
       "    <tr>\n",
       "      <th>3790</th>\n",
       "      <td>2022-03-01</td>\n",
       "      <td>광진구</td>\n",
       "      <td>-</td>\n",
       "      <td>성동구 아파트 관련</td>\n",
       "      <td>서울의료원(퇴원)</td>\n",
       "    </tr>\n",
       "    <tr>\n",
       "      <th>3793</th>\n",
       "      <td>2022-03-01</td>\n",
       "      <td>성북구</td>\n",
       "      <td>-</td>\n",
       "      <td>성동구 아파트 관련</td>\n",
       "      <td>서울의료원(퇴원)</td>\n",
       "    </tr>\n",
       "    <tr>\n",
       "      <th>3815</th>\n",
       "      <td>2022-03-01</td>\n",
       "      <td>영등포구</td>\n",
       "      <td>-</td>\n",
       "      <td>성동구 아파트 관련</td>\n",
       "      <td>서울의료원(퇴원)</td>\n",
       "    </tr>\n",
       "    <tr>\n",
       "      <th>4224</th>\n",
       "      <td>2022-03-02</td>\n",
       "      <td>영등포구</td>\n",
       "      <td>-</td>\n",
       "      <td>성동구 아파트 관련</td>\n",
       "      <td>서북병원(퇴원)</td>\n",
       "    </tr>\n",
       "    <tr>\n",
       "      <th>...</th>\n",
       "      <td>...</td>\n",
       "      <td>...</td>\n",
       "      <td>...</td>\n",
       "      <td>...</td>\n",
       "      <td>...</td>\n",
       "    </tr>\n",
       "    <tr>\n",
       "      <th>9886</th>\n",
       "      <td>2022-03-31</td>\n",
       "      <td>영등포구</td>\n",
       "      <td>오스트리아</td>\n",
       "      <td>해외 접촉 추정</td>\n",
       "      <td>보라매병원(퇴원)</td>\n",
       "    </tr>\n",
       "    <tr>\n",
       "      <th>9912</th>\n",
       "      <td>2022-03-31</td>\n",
       "      <td>양주시</td>\n",
       "      <td>-</td>\n",
       "      <td>확인 중</td>\n",
       "      <td>서울아산병원(퇴원)</td>\n",
       "    </tr>\n",
       "    <tr>\n",
       "      <th>9929</th>\n",
       "      <td>2022-03-31</td>\n",
       "      <td>광진구</td>\n",
       "      <td>영국</td>\n",
       "      <td>해외 접촉 추정</td>\n",
       "      <td>건대병원(퇴원)</td>\n",
       "    </tr>\n",
       "    <tr>\n",
       "      <th>10079</th>\n",
       "      <td>2022-03-30</td>\n",
       "      <td>용산구</td>\n",
       "      <td>영국</td>\n",
       "      <td>해외 접촉 추정</td>\n",
       "      <td>서울의료원(퇴원)</td>\n",
       "    </tr>\n",
       "    <tr>\n",
       "      <th>10081</th>\n",
       "      <td>2022-03-31</td>\n",
       "      <td>관악구</td>\n",
       "      <td>아일랜드</td>\n",
       "      <td>해외 접촉 추정</td>\n",
       "      <td>서남병원(퇴원)</td>\n",
       "    </tr>\n",
       "  </tbody>\n",
       "</table>\n",
       "<p>391 rows × 5 columns</p>\n",
       "</div>"
      ],
      "text/plain": [
       "             확진일   거주지    여행력           접촉력        조치사항\n",
       "환자                                                     \n",
       "3616  2022-03-01   강남구      -  부동산 중개 법인 관련   서울의료원(퇴원)\n",
       "3790  2022-03-01   광진구      -    성동구 아파트 관련   서울의료원(퇴원)\n",
       "3793  2022-03-01   성북구      -    성동구 아파트 관련   서울의료원(퇴원)\n",
       "3815  2022-03-01  영등포구      -    성동구 아파트 관련   서울의료원(퇴원)\n",
       "4224  2022-03-02  영등포구      -    성동구 아파트 관련    서북병원(퇴원)\n",
       "...          ...   ...    ...           ...         ...\n",
       "9886  2022-03-31  영등포구  오스트리아      해외 접촉 추정   보라매병원(퇴원)\n",
       "9912  2022-03-31   양주시      -          확인 중  서울아산병원(퇴원)\n",
       "9929  2022-03-31   광진구     영국      해외 접촉 추정    건대병원(퇴원)\n",
       "10079 2022-03-30   용산구     영국      해외 접촉 추정   서울의료원(퇴원)\n",
       "10081 2022-03-31   관악구   아일랜드      해외 접촉 추정    서남병원(퇴원)\n",
       "\n",
       "[391 rows x 5 columns]"
      ]
     },
     "execution_count": 28,
     "metadata": {},
     "output_type": "execute_result"
    }
   ],
   "source": [
    "df_covid[df_covid['확진일'].astype(np.str).str[6]=='3']"
   ]
  },
  {
   "cell_type": "code",
   "execution_count": 107,
   "id": "64bce8e8-da09-4724-a25b-be6e8abaf1a1",
   "metadata": {},
   "outputs": [
    {
     "data": {
      "text/html": [
       "<div>\n",
       "<style scoped>\n",
       "    .dataframe tbody tr th:only-of-type {\n",
       "        vertical-align: middle;\n",
       "    }\n",
       "\n",
       "    .dataframe tbody tr th {\n",
       "        vertical-align: top;\n",
       "    }\n",
       "\n",
       "    .dataframe thead th {\n",
       "        text-align: right;\n",
       "    }\n",
       "</style>\n",
       "<table border=\"1\" class=\"dataframe\">\n",
       "  <thead>\n",
       "    <tr style=\"text-align: right;\">\n",
       "      <th></th>\n",
       "      <th>확진일</th>\n",
       "      <th>거주지</th>\n",
       "      <th>여행력</th>\n",
       "      <th>접촉력</th>\n",
       "      <th>조치사항</th>\n",
       "    </tr>\n",
       "    <tr>\n",
       "      <th>환자</th>\n",
       "      <th></th>\n",
       "      <th></th>\n",
       "      <th></th>\n",
       "      <th></th>\n",
       "      <th></th>\n",
       "    </tr>\n",
       "  </thead>\n",
       "  <tbody>\n",
       "  </tbody>\n",
       "</table>\n",
       "</div>"
      ],
      "text/plain": [
       "Empty DataFrame\n",
       "Columns: [확진일, 거주지, 여행력, 접촉력, 조치사항]\n",
       "Index: []"
      ]
     },
     "execution_count": 107,
     "metadata": {},
     "output_type": "execute_result"
    }
   ],
   "source": [
    "# 2020-03-01로 인식해서 데이타 추출\n",
    "df_covid[df_covid['확진일'] == '2020-03']"
   ]
  },
  {
   "cell_type": "code",
   "execution_count": 105,
   "id": "373c3671-e85b-4b81-aeb8-17c138d14f7c",
   "metadata": {},
   "outputs": [
    {
     "data": {
      "text/html": [
       "<div>\n",
       "<style scoped>\n",
       "    .dataframe tbody tr th:only-of-type {\n",
       "        vertical-align: middle;\n",
       "    }\n",
       "\n",
       "    .dataframe tbody tr th {\n",
       "        vertical-align: top;\n",
       "    }\n",
       "\n",
       "    .dataframe thead th {\n",
       "        text-align: right;\n",
       "    }\n",
       "</style>\n",
       "<table border=\"1\" class=\"dataframe\">\n",
       "  <thead>\n",
       "    <tr style=\"text-align: right;\">\n",
       "      <th></th>\n",
       "      <th>확진일</th>\n",
       "      <th>거주지</th>\n",
       "      <th>여행력</th>\n",
       "      <th>접촉력</th>\n",
       "      <th>조치사항</th>\n",
       "    </tr>\n",
       "    <tr>\n",
       "      <th>환자</th>\n",
       "      <th></th>\n",
       "      <th></th>\n",
       "      <th></th>\n",
       "      <th></th>\n",
       "      <th></th>\n",
       "    </tr>\n",
       "  </thead>\n",
       "  <tbody>\n",
       "    <tr>\n",
       "      <th>3616</th>\n",
       "      <td>2022-03-01</td>\n",
       "      <td>강남구</td>\n",
       "      <td>-</td>\n",
       "      <td>부동산 중개 법인 관련</td>\n",
       "      <td>서울의료원(퇴원)</td>\n",
       "    </tr>\n",
       "    <tr>\n",
       "      <th>3790</th>\n",
       "      <td>2022-03-01</td>\n",
       "      <td>광진구</td>\n",
       "      <td>-</td>\n",
       "      <td>성동구 아파트 관련</td>\n",
       "      <td>서울의료원(퇴원)</td>\n",
       "    </tr>\n",
       "    <tr>\n",
       "      <th>3793</th>\n",
       "      <td>2022-03-01</td>\n",
       "      <td>성북구</td>\n",
       "      <td>-</td>\n",
       "      <td>성동구 아파트 관련</td>\n",
       "      <td>서울의료원(퇴원)</td>\n",
       "    </tr>\n",
       "    <tr>\n",
       "      <th>3815</th>\n",
       "      <td>2022-03-01</td>\n",
       "      <td>영등포구</td>\n",
       "      <td>-</td>\n",
       "      <td>성동구 아파트 관련</td>\n",
       "      <td>서울의료원(퇴원)</td>\n",
       "    </tr>\n",
       "    <tr>\n",
       "      <th>4224</th>\n",
       "      <td>2022-03-02</td>\n",
       "      <td>영등포구</td>\n",
       "      <td>-</td>\n",
       "      <td>성동구 아파트 관련</td>\n",
       "      <td>서북병원(퇴원)</td>\n",
       "    </tr>\n",
       "    <tr>\n",
       "      <th>...</th>\n",
       "      <td>...</td>\n",
       "      <td>...</td>\n",
       "      <td>...</td>\n",
       "      <td>...</td>\n",
       "      <td>...</td>\n",
       "    </tr>\n",
       "    <tr>\n",
       "      <th>9886</th>\n",
       "      <td>2022-03-31</td>\n",
       "      <td>영등포구</td>\n",
       "      <td>오스트리아</td>\n",
       "      <td>해외 접촉 추정</td>\n",
       "      <td>보라매병원(퇴원)</td>\n",
       "    </tr>\n",
       "    <tr>\n",
       "      <th>9912</th>\n",
       "      <td>2022-03-31</td>\n",
       "      <td>양주시</td>\n",
       "      <td>-</td>\n",
       "      <td>확인 중</td>\n",
       "      <td>서울아산병원(퇴원)</td>\n",
       "    </tr>\n",
       "    <tr>\n",
       "      <th>9929</th>\n",
       "      <td>2022-03-31</td>\n",
       "      <td>광진구</td>\n",
       "      <td>영국</td>\n",
       "      <td>해외 접촉 추정</td>\n",
       "      <td>건대병원(퇴원)</td>\n",
       "    </tr>\n",
       "    <tr>\n",
       "      <th>10079</th>\n",
       "      <td>2022-03-30</td>\n",
       "      <td>용산구</td>\n",
       "      <td>영국</td>\n",
       "      <td>해외 접촉 추정</td>\n",
       "      <td>서울의료원(퇴원)</td>\n",
       "    </tr>\n",
       "    <tr>\n",
       "      <th>10081</th>\n",
       "      <td>2022-03-31</td>\n",
       "      <td>관악구</td>\n",
       "      <td>아일랜드</td>\n",
       "      <td>해외 접촉 추정</td>\n",
       "      <td>서남병원(퇴원)</td>\n",
       "    </tr>\n",
       "  </tbody>\n",
       "</table>\n",
       "<p>391 rows × 5 columns</p>\n",
       "</div>"
      ],
      "text/plain": [
       "             확진일   거주지    여행력           접촉력        조치사항\n",
       "환자                                                     \n",
       "3616  2022-03-01   강남구      -  부동산 중개 법인 관련   서울의료원(퇴원)\n",
       "3790  2022-03-01   광진구      -    성동구 아파트 관련   서울의료원(퇴원)\n",
       "3793  2022-03-01   성북구      -    성동구 아파트 관련   서울의료원(퇴원)\n",
       "3815  2022-03-01  영등포구      -    성동구 아파트 관련   서울의료원(퇴원)\n",
       "4224  2022-03-02  영등포구      -    성동구 아파트 관련    서북병원(퇴원)\n",
       "...          ...   ...    ...           ...         ...\n",
       "9886  2022-03-31  영등포구  오스트리아      해외 접촉 추정   보라매병원(퇴원)\n",
       "9912  2022-03-31   양주시      -          확인 중  서울아산병원(퇴원)\n",
       "9929  2022-03-31   광진구     영국      해외 접촉 추정    건대병원(퇴원)\n",
       "10079 2022-03-30   용산구     영국      해외 접촉 추정   서울의료원(퇴원)\n",
       "10081 2022-03-31   관악구   아일랜드      해외 접촉 추정    서남병원(퇴원)\n",
       "\n",
       "[391 rows x 5 columns]"
      ]
     },
     "execution_count": 105,
     "metadata": {},
     "output_type": "execute_result"
    }
   ],
   "source": [
    "# 3월 전체 데이타 \n",
    "df_covid[df_covid['확진일'].dt.month == 3]"
   ]
  },
  {
   "cell_type": "markdown",
   "id": "a96a0c6c-07b1-4cd8-880a-dab473f016f8",
   "metadata": {},
   "source": [
    "### Q8"
   ]
  },
  {
   "cell_type": "code",
   "execution_count": 29,
   "id": "0d6efdb1-db77-4d1f-99cc-73460bd483cc",
   "metadata": {},
   "outputs": [],
   "source": [
    "# 주말에 발생한 확진자의 데이타만 출력하여라."
   ]
  },
  {
   "cell_type": "code",
   "execution_count": 30,
   "id": "2c8600ef-6839-4c92-8db5-100698f591ca",
   "metadata": {},
   "outputs": [
    {
     "data": {
      "text/html": [
       "<div>\n",
       "<style scoped>\n",
       "    .dataframe tbody tr th:only-of-type {\n",
       "        vertical-align: middle;\n",
       "    }\n",
       "\n",
       "    .dataframe tbody tr th {\n",
       "        vertical-align: top;\n",
       "    }\n",
       "\n",
       "    .dataframe thead th {\n",
       "        text-align: right;\n",
       "    }\n",
       "</style>\n",
       "<table border=\"1\" class=\"dataframe\">\n",
       "  <thead>\n",
       "    <tr style=\"text-align: right;\">\n",
       "      <th></th>\n",
       "      <th>확진일</th>\n",
       "      <th>거주지</th>\n",
       "      <th>여행력</th>\n",
       "      <th>접촉력</th>\n",
       "      <th>조치사항</th>\n",
       "    </tr>\n",
       "    <tr>\n",
       "      <th>환자</th>\n",
       "      <th></th>\n",
       "      <th></th>\n",
       "      <th></th>\n",
       "      <th></th>\n",
       "      <th></th>\n",
       "    </tr>\n",
       "  </thead>\n",
       "  <tbody>\n",
       "    <tr>\n",
       "      <th>5</th>\n",
       "      <td>2022-01-30</td>\n",
       "      <td>중랑구</td>\n",
       "      <td>중국 우한시</td>\n",
       "      <td>해외 접촉</td>\n",
       "      <td>서울의료원(퇴원)</td>\n",
       "    </tr>\n",
       "    <tr>\n",
       "      <th>6</th>\n",
       "      <td>2022-01-30</td>\n",
       "      <td>종로구</td>\n",
       "      <td>-</td>\n",
       "      <td>#3 접촉</td>\n",
       "      <td>서울대학교병원(퇴원)</td>\n",
       "    </tr>\n",
       "    <tr>\n",
       "      <th>7</th>\n",
       "      <td>2022-01-30</td>\n",
       "      <td>마포구</td>\n",
       "      <td>중국 우한시</td>\n",
       "      <td>해외 접촉</td>\n",
       "      <td>서울의료원(퇴원)</td>\n",
       "    </tr>\n",
       "    <tr>\n",
       "      <th>19</th>\n",
       "      <td>2022-02-05</td>\n",
       "      <td>송파구</td>\n",
       "      <td>싱가포르</td>\n",
       "      <td>해외 접촉</td>\n",
       "      <td>서울의료원(퇴원)</td>\n",
       "    </tr>\n",
       "    <tr>\n",
       "      <th>21</th>\n",
       "      <td>2022-02-05</td>\n",
       "      <td>성북구</td>\n",
       "      <td>-</td>\n",
       "      <td>#6 접촉</td>\n",
       "      <td>서울대학교병원(퇴원)</td>\n",
       "    </tr>\n",
       "    <tr>\n",
       "      <th>...</th>\n",
       "      <td>...</td>\n",
       "      <td>...</td>\n",
       "      <td>...</td>\n",
       "      <td>...</td>\n",
       "      <td>...</td>\n",
       "    </tr>\n",
       "    <tr>\n",
       "      <th>12639</th>\n",
       "      <td>2022-06-26</td>\n",
       "      <td>구로구</td>\n",
       "      <td>-</td>\n",
       "      <td>구로구 확진자 접촉</td>\n",
       "      <td>보라매병원</td>\n",
       "    </tr>\n",
       "    <tr>\n",
       "      <th>12642</th>\n",
       "      <td>2022-06-26</td>\n",
       "      <td>은평구</td>\n",
       "      <td>이라크</td>\n",
       "      <td>해외 접촉 추정</td>\n",
       "      <td>서북병원</td>\n",
       "    </tr>\n",
       "    <tr>\n",
       "      <th>12644</th>\n",
       "      <td>2022-06-26</td>\n",
       "      <td>관악구</td>\n",
       "      <td>-</td>\n",
       "      <td>왕성교회 관련</td>\n",
       "      <td>보라매병원</td>\n",
       "    </tr>\n",
       "    <tr>\n",
       "      <th>12645</th>\n",
       "      <td>2022-06-26</td>\n",
       "      <td>중구</td>\n",
       "      <td>키르기스스탄</td>\n",
       "      <td>해외 접촉 추정</td>\n",
       "      <td>-</td>\n",
       "    </tr>\n",
       "    <tr>\n",
       "      <th>12648</th>\n",
       "      <td>2022-06-26</td>\n",
       "      <td>관악구</td>\n",
       "      <td>-</td>\n",
       "      <td>왕성교회 관련</td>\n",
       "      <td>보라매병원</td>\n",
       "    </tr>\n",
       "  </tbody>\n",
       "</table>\n",
       "<p>412 rows × 5 columns</p>\n",
       "</div>"
      ],
      "text/plain": [
       "             확진일  거주지     여행력         접촉력         조치사항\n",
       "환자                                                    \n",
       "5     2022-01-30  중랑구  중국 우한시       해외 접촉    서울의료원(퇴원)\n",
       "6     2022-01-30  종로구       -       #3 접촉  서울대학교병원(퇴원)\n",
       "7     2022-01-30  마포구  중국 우한시       해외 접촉    서울의료원(퇴원)\n",
       "19    2022-02-05  송파구    싱가포르       해외 접촉    서울의료원(퇴원)\n",
       "21    2022-02-05  성북구       -       #6 접촉  서울대학교병원(퇴원)\n",
       "...          ...  ...     ...         ...          ...\n",
       "12639 2022-06-26  구로구       -  구로구 확진자 접촉        보라매병원\n",
       "12642 2022-06-26  은평구     이라크    해외 접촉 추정         서북병원\n",
       "12644 2022-06-26  관악구       -     왕성교회 관련        보라매병원\n",
       "12645 2022-06-26   중구  키르기스스탄    해외 접촉 추정            -\n",
       "12648 2022-06-26  관악구       -     왕성교회 관련        보라매병원\n",
       "\n",
       "[412 rows x 5 columns]"
      ]
     },
     "execution_count": 30,
     "metadata": {},
     "output_type": "execute_result"
    }
   ],
   "source": [
    "df_covid[(df_covid['확진일'].dt.weekday==6)|(df_covid['확진일'].dt.weekday==5)]"
   ]
  },
  {
   "cell_type": "markdown",
   "id": "79a8e2f3-68fe-4244-b38e-f9889108ac4e",
   "metadata": {
    "tags": []
   },
   "source": [
    "### Q9"
   ]
  },
  {
   "cell_type": "code",
   "execution_count": 31,
   "id": "fd690218-74cb-4fc2-a354-95bb83b5809a",
   "metadata": {},
   "outputs": [],
   "source": [
    "# '콜센터'와 관련된 확진자의 데이타를 출력하여라."
   ]
  },
  {
   "cell_type": "code",
   "execution_count": 32,
   "id": "2097aeb9-ab9d-44dc-a529-d2efda3ffcba",
   "metadata": {},
   "outputs": [
    {
     "data": {
      "text/html": [
       "<div>\n",
       "<style scoped>\n",
       "    .dataframe tbody tr th:only-of-type {\n",
       "        vertical-align: middle;\n",
       "    }\n",
       "\n",
       "    .dataframe tbody tr th {\n",
       "        vertical-align: top;\n",
       "    }\n",
       "\n",
       "    .dataframe thead th {\n",
       "        text-align: right;\n",
       "    }\n",
       "</style>\n",
       "<table border=\"1\" class=\"dataframe\">\n",
       "  <thead>\n",
       "    <tr style=\"text-align: right;\">\n",
       "      <th></th>\n",
       "      <th>확진일</th>\n",
       "      <th>거주지</th>\n",
       "      <th>여행력</th>\n",
       "      <th>접촉력</th>\n",
       "      <th>조치사항</th>\n",
       "    </tr>\n",
       "    <tr>\n",
       "      <th>환자</th>\n",
       "      <th></th>\n",
       "      <th></th>\n",
       "      <th></th>\n",
       "      <th></th>\n",
       "      <th></th>\n",
       "    </tr>\n",
       "  </thead>\n",
       "  <tbody>\n",
       "    <tr>\n",
       "      <th>7265</th>\n",
       "      <td>2022-03-08</td>\n",
       "      <td>노원구</td>\n",
       "      <td>-</td>\n",
       "      <td>구로구 콜센터 관련</td>\n",
       "      <td>서북병원(퇴원)</td>\n",
       "    </tr>\n",
       "    <tr>\n",
       "      <th>7401</th>\n",
       "      <td>2022-03-09</td>\n",
       "      <td>은평구</td>\n",
       "      <td>-</td>\n",
       "      <td>구로구 콜센터 관련</td>\n",
       "      <td>생활치료센터(퇴원)</td>\n",
       "    </tr>\n",
       "    <tr>\n",
       "      <th>7444</th>\n",
       "      <td>2022-03-09</td>\n",
       "      <td>강서구</td>\n",
       "      <td>-</td>\n",
       "      <td>구로구 콜센터 관련</td>\n",
       "      <td>서남병원(퇴원)</td>\n",
       "    </tr>\n",
       "    <tr>\n",
       "      <th>7461</th>\n",
       "      <td>2022-03-09</td>\n",
       "      <td>중구</td>\n",
       "      <td>-</td>\n",
       "      <td>구로구 콜센터 관련</td>\n",
       "      <td>서울의료원(퇴원)</td>\n",
       "    </tr>\n",
       "    <tr>\n",
       "      <th>7463</th>\n",
       "      <td>2022-03-09</td>\n",
       "      <td>금천구</td>\n",
       "      <td>-</td>\n",
       "      <td>구로구 콜센터 관련</td>\n",
       "      <td>서울의료원(퇴원)</td>\n",
       "    </tr>\n",
       "    <tr>\n",
       "      <th>...</th>\n",
       "      <td>...</td>\n",
       "      <td>...</td>\n",
       "      <td>...</td>\n",
       "      <td>...</td>\n",
       "      <td>...</td>\n",
       "    </tr>\n",
       "    <tr>\n",
       "      <th>8937</th>\n",
       "      <td>2022-03-22</td>\n",
       "      <td>서대문구</td>\n",
       "      <td>-</td>\n",
       "      <td>콜센터직원 접촉</td>\n",
       "      <td>서북병원(퇴원)</td>\n",
       "    </tr>\n",
       "    <tr>\n",
       "      <th>8943</th>\n",
       "      <td>2022-03-22</td>\n",
       "      <td>서대문구</td>\n",
       "      <td>-</td>\n",
       "      <td>콜센터직원 접촉</td>\n",
       "      <td>생활치료센터(퇴원)</td>\n",
       "    </tr>\n",
       "    <tr>\n",
       "      <th>9170</th>\n",
       "      <td>2022-03-25</td>\n",
       "      <td>강서구</td>\n",
       "      <td>-</td>\n",
       "      <td>콜센터직원 접촉</td>\n",
       "      <td>서남병원(퇴원)</td>\n",
       "    </tr>\n",
       "    <tr>\n",
       "      <th>9867</th>\n",
       "      <td>2022-03-31</td>\n",
       "      <td>양천구</td>\n",
       "      <td>-</td>\n",
       "      <td>콜센터직원 접촉</td>\n",
       "      <td>서남병원(퇴원)</td>\n",
       "    </tr>\n",
       "    <tr>\n",
       "      <th>10009</th>\n",
       "      <td>2022-04-02</td>\n",
       "      <td>양천구</td>\n",
       "      <td>-</td>\n",
       "      <td>콜센터직원 접촉</td>\n",
       "      <td>보라매병원(퇴원)</td>\n",
       "    </tr>\n",
       "  </tbody>\n",
       "</table>\n",
       "<p>98 rows × 5 columns</p>\n",
       "</div>"
      ],
      "text/plain": [
       "             확진일   거주지 여행력         접촉력        조치사항\n",
       "환자                                                \n",
       "7265  2022-03-08   노원구   -  구로구 콜센터 관련    서북병원(퇴원)\n",
       "7401  2022-03-09   은평구   -  구로구 콜센터 관련  생활치료센터(퇴원)\n",
       "7444  2022-03-09   강서구   -  구로구 콜센터 관련    서남병원(퇴원)\n",
       "7461  2022-03-09    중구   -  구로구 콜센터 관련   서울의료원(퇴원)\n",
       "7463  2022-03-09   금천구   -  구로구 콜센터 관련   서울의료원(퇴원)\n",
       "...          ...   ...  ..         ...         ...\n",
       "8937  2022-03-22  서대문구   -    콜센터직원 접촉    서북병원(퇴원)\n",
       "8943  2022-03-22  서대문구   -    콜센터직원 접촉  생활치료센터(퇴원)\n",
       "9170  2022-03-25   강서구   -    콜센터직원 접촉    서남병원(퇴원)\n",
       "9867  2022-03-31   양천구   -    콜센터직원 접촉    서남병원(퇴원)\n",
       "10009 2022-04-02   양천구   -    콜센터직원 접촉   보라매병원(퇴원)\n",
       "\n",
       "[98 rows x 5 columns]"
      ]
     },
     "execution_count": 32,
     "metadata": {},
     "output_type": "execute_result"
    }
   ],
   "source": [
    "df_covid[df_covid['접촉력'].str.contains('콜센터')]"
   ]
  },
  {
   "cell_type": "markdown",
   "id": "e3ef5b1c-cd0b-4513-841b-c1d156b47b31",
   "metadata": {},
   "source": [
    "### Q10"
   ]
  },
  {
   "cell_type": "code",
   "execution_count": 33,
   "id": "020bbbf3-3b47-44f2-b581-0524071985f1",
   "metadata": {},
   "outputs": [],
   "source": [
    "# '우한'과 관련된 확진자의 데이타만 출력하여라."
   ]
  },
  {
   "cell_type": "code",
   "execution_count": 34,
   "id": "3f05e7d0-366d-4f4e-9072-cbee679be212",
   "metadata": {},
   "outputs": [
    {
     "data": {
      "text/html": [
       "<div>\n",
       "<style scoped>\n",
       "    .dataframe tbody tr th:only-of-type {\n",
       "        vertical-align: middle;\n",
       "    }\n",
       "\n",
       "    .dataframe tbody tr th {\n",
       "        vertical-align: top;\n",
       "    }\n",
       "\n",
       "    .dataframe thead th {\n",
       "        text-align: right;\n",
       "    }\n",
       "</style>\n",
       "<table border=\"1\" class=\"dataframe\">\n",
       "  <thead>\n",
       "    <tr style=\"text-align: right;\">\n",
       "      <th></th>\n",
       "      <th>확진일</th>\n",
       "      <th>거주지</th>\n",
       "      <th>여행력</th>\n",
       "      <th>접촉력</th>\n",
       "      <th>조치사항</th>\n",
       "    </tr>\n",
       "    <tr>\n",
       "      <th>환자</th>\n",
       "      <th></th>\n",
       "      <th></th>\n",
       "      <th></th>\n",
       "      <th></th>\n",
       "      <th></th>\n",
       "    </tr>\n",
       "  </thead>\n",
       "  <tbody>\n",
       "    <tr>\n",
       "      <th>2</th>\n",
       "      <td>2022-01-24</td>\n",
       "      <td>강서구</td>\n",
       "      <td>중국 우한시</td>\n",
       "      <td>해외 접촉</td>\n",
       "      <td>국립중앙의료원(퇴원)</td>\n",
       "    </tr>\n",
       "    <tr>\n",
       "      <th>5</th>\n",
       "      <td>2022-01-30</td>\n",
       "      <td>중랑구</td>\n",
       "      <td>중국 우한시</td>\n",
       "      <td>해외 접촉</td>\n",
       "      <td>서울의료원(퇴원)</td>\n",
       "    </tr>\n",
       "    <tr>\n",
       "      <th>7</th>\n",
       "      <td>2022-01-30</td>\n",
       "      <td>마포구</td>\n",
       "      <td>중국 우한시</td>\n",
       "      <td>해외 접촉</td>\n",
       "      <td>서울의료원(퇴원)</td>\n",
       "    </tr>\n",
       "    <tr>\n",
       "      <th>13</th>\n",
       "      <td>2022-02-02</td>\n",
       "      <td>인천시</td>\n",
       "      <td>우한 교민</td>\n",
       "      <td>해외 접촉</td>\n",
       "      <td>국립중앙의료원(퇴원)</td>\n",
       "    </tr>\n",
       "    <tr>\n",
       "      <th>23</th>\n",
       "      <td>2022-02-06</td>\n",
       "      <td>서대문구</td>\n",
       "      <td>중국 우한시</td>\n",
       "      <td>해외 접촉</td>\n",
       "      <td>국립중앙의료원(퇴원)</td>\n",
       "    </tr>\n",
       "    <tr>\n",
       "      <th>24</th>\n",
       "      <td>2022-02-07</td>\n",
       "      <td>아산시</td>\n",
       "      <td>우한교민</td>\n",
       "      <td>해외 접촉</td>\n",
       "      <td>국립중앙의료원(퇴원)</td>\n",
       "    </tr>\n",
       "  </tbody>\n",
       "</table>\n",
       "</div>"
      ],
      "text/plain": [
       "          확진일   거주지     여행력    접촉력         조치사항\n",
       "환자                                             \n",
       "2  2022-01-24   강서구  중국 우한시  해외 접촉  국립중앙의료원(퇴원)\n",
       "5  2022-01-30   중랑구  중국 우한시  해외 접촉    서울의료원(퇴원)\n",
       "7  2022-01-30   마포구  중국 우한시  해외 접촉    서울의료원(퇴원)\n",
       "13 2022-02-02   인천시   우한 교민  해외 접촉  국립중앙의료원(퇴원)\n",
       "23 2022-02-06  서대문구  중국 우한시  해외 접촉  국립중앙의료원(퇴원)\n",
       "24 2022-02-07   아산시    우한교민  해외 접촉  국립중앙의료원(퇴원)"
      ]
     },
     "execution_count": 34,
     "metadata": {},
     "output_type": "execute_result"
    }
   ],
   "source": [
    "df_covid[df_covid['여행력'].str.contains('우한')]"
   ]
  },
  {
   "cell_type": "markdown",
   "id": "3f64ad9b-a274-459d-92ee-d626f06fb60c",
   "metadata": {},
   "source": [
    "### Q11"
   ]
  },
  {
   "cell_type": "code",
   "execution_count": 35,
   "id": "a8e01b9a-8694-4ef9-afe6-605d54dd7b6d",
   "metadata": {},
   "outputs": [],
   "source": [
    "# 사망자는 모두 몇명인가?"
   ]
  },
  {
   "cell_type": "code",
   "execution_count": 115,
   "id": "053161c0-3727-459d-900a-fdf371fbc4ac",
   "metadata": {},
   "outputs": [
    {
     "data": {
      "text/plain": [
       "Int64Index([29, 6773, 8602, 9870, 11826, 11984, 12103], dtype='int64', name='환자')"
      ]
     },
     "execution_count": 115,
     "metadata": {},
     "output_type": "execute_result"
    }
   ],
   "source": [
    "df_covid[df_covid['조치사항'].str.contains('사망')].index"
   ]
  },
  {
   "cell_type": "code",
   "execution_count": 116,
   "id": "4eb41779-1afa-4026-8729-f36fbf645fe7",
   "metadata": {},
   "outputs": [
    {
     "data": {
      "text/plain": [
       "61187"
      ]
     },
     "execution_count": 116,
     "metadata": {},
     "output_type": "execute_result"
    }
   ],
   "source": [
    "sum(df_covid[df_covid['조치사항'].str.contains('사망')].index)"
   ]
  },
  {
   "cell_type": "code",
   "execution_count": 36,
   "id": "5efc2515-898e-466c-b040-9e27e69d804c",
   "metadata": {
    "jupyter": {
     "source_hidden": true
    },
    "tags": []
   },
   "outputs": [
    {
     "name": "stdout",
     "output_type": "stream",
     "text": [
      "7 명\n"
     ]
    }
   ],
   "source": [
    "print(len(df_covid[df_covid['조치사항'].str.contains('사망')]),'명')"
   ]
  },
  {
   "cell_type": "code",
   "execution_count": 118,
   "id": "39626ae4-b620-4b0f-baf7-1002864fc70d",
   "metadata": {},
   "outputs": [
    {
     "data": {
      "text/plain": [
       "'7명'"
      ]
     },
     "execution_count": 118,
     "metadata": {},
     "output_type": "execute_result"
    }
   ],
   "source": [
    "str(df_covid[df_covid['조치사항'].str.contains('사망')].shape[0]) + '명'"
   ]
  }
 ],
 "metadata": {
  "kernelspec": {
   "display_name": "Python 3 (ipykernel)",
   "language": "python",
   "name": "python3"
  },
  "language_info": {
   "codemirror_mode": {
    "name": "ipython",
    "version": 3
   },
   "file_extension": ".py",
   "mimetype": "text/x-python",
   "name": "python",
   "nbconvert_exporter": "python",
   "pygments_lexer": "ipython3",
   "version": "3.9.12"
  }
 },
 "nbformat": 4,
 "nbformat_minor": 5
}
