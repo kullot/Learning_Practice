{
 "cells": [
  {
   "cell_type": "code",
   "execution_count": 1,
   "id": "0d67edf3",
   "metadata": {},
   "outputs": [],
   "source": [
    "from pyspark import SparkContext\n",
    "import sklearn\n",
    "import pandas as pd\n",
    "import numpy as np"
   ]
  },
  {
   "cell_type": "code",
   "execution_count": 2,
   "id": "be9e62ec",
   "metadata": {},
   "outputs": [
    {
     "name": "stderr",
     "output_type": "stream",
     "text": [
      "22/07/26 09:20:43 WARN Utils: Your hostname, master resolves to a loopback address: 127.0.1.1; using 192.168.139.128 instead (on interface ens33)\n",
      "22/07/26 09:20:43 WARN Utils: Set SPARK_LOCAL_IP if you need to bind to another address\n",
      "22/07/26 09:20:44 WARN NativeCodeLoader: Unable to load native-hadoop library for your platform... using builtin-java classes where applicable\n",
      "Using Spark's default log4j profile: org/apache/spark/log4j-defaults.properties\n",
      "Setting default log level to \"WARN\".\n",
      "To adjust logging level use sc.setLogLevel(newLevel). For SparkR, use setLogLevel(newLevel).\n"
     ]
    }
   ],
   "source": [
    "sc = SparkContext('local')"
   ]
  },
  {
   "cell_type": "code",
   "execution_count": 3,
   "id": "ba9c27a8",
   "metadata": {},
   "outputs": [],
   "source": [
    "my = [10,20,30,40,50]\n",
    "nRdd = sc.parallelize(my)"
   ]
  },
  {
   "cell_type": "code",
   "execution_count": 4,
   "id": "24fadf3b",
   "metadata": {
    "scrolled": true
   },
   "outputs": [
    {
     "name": "stderr",
     "output_type": "stream",
     "text": [
      "                                                                                \r"
     ]
    },
    {
     "data": {
      "text/plain": [
       "[10, 20, 30]"
      ]
     },
     "execution_count": 4,
     "metadata": {},
     "output_type": "execute_result"
    }
   ],
   "source": [
    "# action\n",
    "nRdd.take(3) # head()"
   ]
  },
  {
   "cell_type": "code",
   "execution_count": 5,
   "id": "b602a56d",
   "metadata": {},
   "outputs": [
    {
     "name": "stderr",
     "output_type": "stream",
     "text": [
      "10\n",
      "20\n",
      "30\n",
      "40\n",
      "50\n"
     ]
    }
   ],
   "source": [
    "nRdd.foreach( lambda v: print(v)) # v는　모든데이터"
   ]
  },
  {
   "cell_type": "code",
   "execution_count": 6,
   "id": "541b6544",
   "metadata": {},
   "outputs": [
    {
     "data": {
      "text/plain": [
       "PythonRDD[3] at RDD at PythonRDD.scala:53"
      ]
     },
     "execution_count": 6,
     "metadata": {},
     "output_type": "execute_result"
    }
   ],
   "source": [
    "# transformation\n",
    "newRdd = nRdd.map( lambda v: v+1 )\n",
    "newRdd"
   ]
  },
  {
   "cell_type": "code",
   "execution_count": 7,
   "id": "e912b805",
   "metadata": {},
   "outputs": [
    {
     "data": {
      "text/plain": [
       "[11, 21, 31, 41, 51]"
      ]
     },
     "execution_count": 7,
     "metadata": {},
     "output_type": "execute_result"
    }
   ],
   "source": [
    "newRdd.collect()"
   ]
  },
  {
   "cell_type": "code",
   "execution_count": 8,
   "id": "9d2ca91c",
   "metadata": {},
   "outputs": [],
   "source": [
    "# 30보다　크면　１을　더하고　아니면　２를　더한　rdd를　생성하시요．．"
   ]
  },
  {
   "cell_type": "code",
   "execution_count": 9,
   "id": "2c984c2f",
   "metadata": {},
   "outputs": [
    {
     "data": {
      "text/plain": [
       "[12, 22, 32, 41, 51]"
      ]
     },
     "execution_count": 9,
     "metadata": {},
     "output_type": "execute_result"
    }
   ],
   "source": [
    "rdd1 = nRdd.map( lambda v : v+1 if v>30 else v+2)\n",
    "rdd1.collect()"
   ]
  },
  {
   "cell_type": "code",
   "execution_count": 10,
   "id": "50d1b583",
   "metadata": {},
   "outputs": [
    {
     "data": {
      "text/plain": [
       "['스파크 툴은', '빅데이터 툴입니다', '파이썬 언어로', '빅데이터 개발', '스파크 파이썬']"
      ]
     },
     "execution_count": 10,
     "metadata": {},
     "output_type": "execute_result"
    }
   ],
   "source": [
    "txtRdd = sc.textFile('bb.txt')\n",
    "txtRdd.collect()"
   ]
  },
  {
   "cell_type": "code",
   "execution_count": 11,
   "id": "abb4be4c",
   "metadata": {},
   "outputs": [
    {
     "data": {
      "text/plain": [
       "[['스파크', '툴은'],\n",
       " ['빅데이터', '툴입니다'],\n",
       " ['파이썬', '언어로'],\n",
       " ['빅데이터', '개발'],\n",
       " ['스파크', '파이썬']]"
      ]
     },
     "execution_count": 11,
     "metadata": {},
     "output_type": "execute_result"
    }
   ],
   "source": [
    "# ２차원\n",
    "txtRdd.map( lambda v: v.split()).collect()"
   ]
  },
  {
   "cell_type": "code",
   "execution_count": 15,
   "id": "52b1ed39",
   "metadata": {},
   "outputs": [
    {
     "data": {
      "text/plain": [
       "['스파크', '툴은', '빅데이터', '툴입니다', '파이썬', '언어로', '빅데이터', '개발', '스파크', '파이썬']"
      ]
     },
     "execution_count": 15,
     "metadata": {},
     "output_type": "execute_result"
    }
   ],
   "source": [
    "# 1차원\n",
    "rdd2 = txtRdd.flatMap( lambda v: v.split())\n",
    "rdd2.collect()"
   ]
  },
  {
   "cell_type": "code",
   "execution_count": null,
   "id": "f36cf381",
   "metadata": {},
   "outputs": [
    {
     "data": {
      "text/plain": [
       "5"
      ]
     },
     "execution_count": 13,
     "metadata": {},
     "output_type": "execute_result"
    }
   ],
   "source": [
    "txtRdd.count() # action　함수"
   ]
  },
  {
   "cell_type": "code",
   "execution_count": 18,
   "id": "069758c7-3b4b-44fe-887c-a49abea6c054",
   "metadata": {},
   "outputs": [
    {
     "data": {
      "text/plain": [
       "PythonRDD[11] at collect at /tmp/ipykernel_6127/3020432668.py:3"
      ]
     },
     "execution_count": 18,
     "metadata": {},
     "output_type": "execute_result"
    }
   ],
   "source": []
  }
 ],
 "metadata": {
  "kernelspec": {
   "display_name": "Python 3 (ipykernel)",
   "language": "python",
   "name": "python3"
  },
  "language_info": {
   "codemirror_mode": {
    "name": "ipython",
    "version": 3
   },
   "file_extension": ".py",
   "mimetype": "text/x-python",
   "name": "python",
   "nbconvert_exporter": "python",
   "pygments_lexer": "ipython3",
   "version": "3.9.12"
  }
 },
 "nbformat": 4,
 "nbformat_minor": 5
}
