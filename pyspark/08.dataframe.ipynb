{
 "cells": [
  {
   "cell_type": "code",
   "execution_count": 1,
   "id": "85713e25-422d-405d-ad5a-ca89d9156014",
   "metadata": {},
   "outputs": [],
   "source": [
    "from pyspark import SparkContext\n",
    "from pyspark.sql import SQLContext, Row\n",
    "import pandas as pd"
   ]
  },
  {
   "cell_type": "code",
   "execution_count": 2,
   "id": "67fe4310-a467-41bd-b795-2087fd1c91ea",
   "metadata": {
    "tags": []
   },
   "outputs": [
    {
     "name": "stderr",
     "output_type": "stream",
     "text": [
      "22/07/27 14:22:37 WARN NativeCodeLoader: Unable to load native-hadoop library for your platform... using builtin-java classes where applicable\n",
      "Using Spark's default log4j profile: org/apache/spark/log4j-defaults.properties\n",
      "Setting default log level to \"WARN\".\n",
      "To adjust logging level use sc.setLogLevel(newLevel). For SparkR, use setLogLevel(newLevel).\n"
     ]
    }
   ],
   "source": [
    "sc = SparkContext('local')\n",
    "sqlCtx = SQLContext(sc)"
   ]
  },
  {
   "cell_type": "code",
   "execution_count": 119,
   "id": "8f3e8a22-13ae-46db-931b-1ee474e73b44",
   "metadata": {},
   "outputs": [],
   "source": [
    "emp =[('홍길동',1),('이순신',2),\n",
    "      ('임꺽정',3),('김철수',3),('김철수1',5)]\n",
    "dept = [('개발',1), ('연구',2),\n",
    "        ('영업',3),('기획',4) ]"
   ]
  },
  {
   "cell_type": "code",
   "execution_count": 126,
   "id": "45bc86db-10d0-4784-ab36-049574ba53a0",
   "metadata": {},
   "outputs": [
    {
     "data": {
      "text/plain": [
       "ParallelCollectionRDD[224] at readRDDFromFile at PythonRDD.scala:274"
      ]
     },
     "execution_count": 126,
     "metadata": {},
     "output_type": "execute_result"
    }
   ],
   "source": [
    "empRdd = sc.parallelize(emp)\n",
    "empRdd"
   ]
  },
  {
   "cell_type": "code",
   "execution_count": 127,
   "id": "235ec393-3ef6-42f4-9da1-83ece0c903a2",
   "metadata": {},
   "outputs": [
    {
     "name": "stdout",
     "output_type": "stream",
     "text": [
      "+-------+------+\n",
      "|   name|deptid|\n",
      "+-------+------+\n",
      "| 홍길동|     1|\n",
      "| 이순신|     2|\n",
      "| 임꺽정|     3|\n",
      "| 김철수|     3|\n",
      "|김철수1|     5|\n",
      "+-------+------+\n",
      "\n"
     ]
    }
   ],
   "source": [
    "empDF1 = empRdd.toDF(['name', 'deptid'])\n",
    "empDF1.show()"
   ]
  },
  {
   "cell_type": "code",
   "execution_count": 128,
   "id": "21bb56c4-be2c-479b-a4ae-2c0a6d5e59c2",
   "metadata": {},
   "outputs": [
    {
     "name": "stdout",
     "output_type": "stream",
     "text": [
      "+-------+------+\n",
      "|   name|deptid|\n",
      "+-------+------+\n",
      "| 홍길동|     1|\n",
      "| 이순신|     2|\n",
      "| 임꺽정|     3|\n",
      "| 김철수|     3|\n",
      "|김철수1|     5|\n",
      "+-------+------+\n",
      "\n"
     ]
    }
   ],
   "source": [
    "empDF2 = sqlCtx.createDataFrame(emp,['name', 'deptid'])\n",
    "empDF2.show()"
   ]
  },
  {
   "cell_type": "code",
   "execution_count": 7,
   "id": "aefd5817-1289-4bd0-8e46-f7402d63ac2b",
   "metadata": {
    "tags": []
   },
   "outputs": [
    {
     "name": "stdout",
     "output_type": "stream",
     "text": [
      "+----+-------+-------+\n",
      "| _c0|    _c1|    _c2|\n",
      "+----+-------+-------+\n",
      "|1880|  90993| 110491|\n",
      "|1881|  91954| 100745|\n",
      "|1882| 107850| 113688|\n",
      "|1883| 112321| 104629|\n",
      "|1884| 129022| 114445|\n",
      "|1885| 133055| 107800|\n",
      "|1886| 144535| 110784|\n",
      "|1887| 145982| 101414|\n",
      "|1888| 178627| 120853|\n",
      "|1889| 178366| 110584|\n",
      "|1890| 190377| 111025|\n",
      "|1891| 185482| 101196|\n",
      "|1892| 212346| 122037|\n",
      "|1893| 212906| 112317|\n",
      "|1894| 222922| 115772|\n",
      "|1895| 233630| 117398|\n",
      "|1896| 237920| 119570|\n",
      "|1897| 234202| 112758|\n",
      "|1898| 258770| 122693|\n",
      "|1899| 233023| 106212|\n",
      "+----+-------+-------+\n",
      "only showing top 20 rows\n",
      "\n"
     ]
    }
   ],
   "source": [
    "birthDF = sqlCtx.read.csv('data/births.txt')\n",
    "birthDF.show()"
   ]
  },
  {
   "cell_type": "code",
   "execution_count": 8,
   "id": "e9eb6daa-dadf-40ab-b5ce-46cb9acc4b99",
   "metadata": {
    "tags": []
   },
   "outputs": [
    {
     "data": {
      "text/html": [
       "<div>\n",
       "<style scoped>\n",
       "    .dataframe tbody tr th:only-of-type {\n",
       "        vertical-align: middle;\n",
       "    }\n",
       "\n",
       "    .dataframe tbody tr th {\n",
       "        vertical-align: top;\n",
       "    }\n",
       "\n",
       "    .dataframe thead th {\n",
       "        text-align: right;\n",
       "    }\n",
       "</style>\n",
       "<table border=\"1\" class=\"dataframe\">\n",
       "  <thead>\n",
       "    <tr style=\"text-align: right;\">\n",
       "      <th></th>\n",
       "      <th>_c0</th>\n",
       "      <th>_c1</th>\n",
       "      <th>_c2</th>\n",
       "    </tr>\n",
       "  </thead>\n",
       "  <tbody>\n",
       "    <tr>\n",
       "      <th>0</th>\n",
       "      <td>1880</td>\n",
       "      <td>90993</td>\n",
       "      <td>110491</td>\n",
       "    </tr>\n",
       "    <tr>\n",
       "      <th>1</th>\n",
       "      <td>1881</td>\n",
       "      <td>91954</td>\n",
       "      <td>100745</td>\n",
       "    </tr>\n",
       "    <tr>\n",
       "      <th>2</th>\n",
       "      <td>1882</td>\n",
       "      <td>107850</td>\n",
       "      <td>113688</td>\n",
       "    </tr>\n",
       "    <tr>\n",
       "      <th>3</th>\n",
       "      <td>1883</td>\n",
       "      <td>112321</td>\n",
       "      <td>104629</td>\n",
       "    </tr>\n",
       "    <tr>\n",
       "      <th>4</th>\n",
       "      <td>1884</td>\n",
       "      <td>129022</td>\n",
       "      <td>114445</td>\n",
       "    </tr>\n",
       "    <tr>\n",
       "      <th>...</th>\n",
       "      <td>...</td>\n",
       "      <td>...</td>\n",
       "      <td>...</td>\n",
       "    </tr>\n",
       "    <tr>\n",
       "      <th>127</th>\n",
       "      <td>2007</td>\n",
       "      <td>1919408</td>\n",
       "      <td>2072139</td>\n",
       "    </tr>\n",
       "    <tr>\n",
       "      <th>128</th>\n",
       "      <td>2008</td>\n",
       "      <td>1887234</td>\n",
       "      <td>2036289</td>\n",
       "    </tr>\n",
       "    <tr>\n",
       "      <th>129</th>\n",
       "      <td>2009</td>\n",
       "      <td>1832925</td>\n",
       "      <td>1979303</td>\n",
       "    </tr>\n",
       "    <tr>\n",
       "      <th>130</th>\n",
       "      <td>2010</td>\n",
       "      <td>1772738</td>\n",
       "      <td>1913851</td>\n",
       "    </tr>\n",
       "    <tr>\n",
       "      <th>131</th>\n",
       "      <td>2011</td>\n",
       "      <td>1753500</td>\n",
       "      <td>1893230</td>\n",
       "    </tr>\n",
       "  </tbody>\n",
       "</table>\n",
       "<p>132 rows × 3 columns</p>\n",
       "</div>"
      ],
      "text/plain": [
       "      _c0       _c1       _c2\n",
       "0    1880     90993    110491\n",
       "1    1881     91954    100745\n",
       "2    1882    107850    113688\n",
       "3    1883    112321    104629\n",
       "4    1884    129022    114445\n",
       "..    ...       ...       ...\n",
       "127  2007   1919408   2072139\n",
       "128  2008   1887234   2036289\n",
       "129  2009   1832925   1979303\n",
       "130  2010   1772738   1913851\n",
       "131  2011   1753500   1893230\n",
       "\n",
       "[132 rows x 3 columns]"
      ]
     },
     "execution_count": 8,
     "metadata": {},
     "output_type": "execute_result"
    }
   ],
   "source": [
    "birthDF.toPandas() # rdd collect　처럼　조심해서　사용"
   ]
  },
  {
   "cell_type": "code",
   "execution_count": 129,
   "id": "aaecd5e5-6e9d-4981-9fbd-5f80193c3352",
   "metadata": {},
   "outputs": [
    {
     "name": "stdout",
     "output_type": "stream",
     "text": [
      "+-------+------+\n",
      "|   name|deptid|\n",
      "+-------+------+\n",
      "| 홍길동|     1|\n",
      "| 이순신|     2|\n",
      "| 임꺽정|     3|\n",
      "| 김철수|     3|\n",
      "|김철수1|     5|\n",
      "+-------+------+\n",
      "\n"
     ]
    }
   ],
   "source": [
    "empDF = sqlCtx.createDataFrame(emp,['name', 'deptid'])\n",
    "empDF.show()"
   ]
  },
  {
   "cell_type": "code",
   "execution_count": 130,
   "id": "697118a6-84f7-434d-af0d-354b87a8b2ae",
   "metadata": {},
   "outputs": [],
   "source": [
    "empDF.createOrReplaceTempView('emptable')"
   ]
  },
  {
   "cell_type": "code",
   "execution_count": 11,
   "id": "9879f8cc-a4b5-4b9e-bc9a-1722a334595a",
   "metadata": {},
   "outputs": [
    {
     "name": "stdout",
     "output_type": "stream",
     "text": [
      "root\n",
      " |-- name: string (nullable = true)\n",
      " |-- deptid: long (nullable = true)\n",
      "\n"
     ]
    }
   ],
   "source": [
    "empDF.printSchema() #long은　숫자"
   ]
  },
  {
   "cell_type": "markdown",
   "id": "f561f799-0a16-4303-9bcf-246efd138d7b",
   "metadata": {},
   "source": [
    "### hive sql 구문　문법을　따른다： standard sql + hive sql"
   ]
  },
  {
   "cell_type": "code",
   "execution_count": 33,
   "id": "0dd784ae-536b-4882-b513-3ce351add7ab",
   "metadata": {},
   "outputs": [
    {
     "name": "stdout",
     "output_type": "stream",
     "text": [
      "+------+------+\n",
      "|  name|deptid|\n",
      "+------+------+\n",
      "|이순신|     2|\n",
      "|임꺽정|     3|\n",
      "+------+------+\n",
      "\n"
     ]
    }
   ],
   "source": [
    "# sql = 'select * from emptable'\n",
    "# sql = 'select name from emptable'\n",
    "# sql = 'select name,deptid from emptable'\n",
    "# sql = 'select * from emptable where deptid>=2'\n",
    "# sql = 'select * from emptable where name=\"이순신\"'\n",
    "# sql = 'select * from emptable where name>=\"이순신\"'\n",
    "# sql = 'select * from emptable where deptid=1 or deptid=5 or deptid==3'\n",
    "# sql = 'select * from emptable where deptid in(1,3,5)'\n",
    "# sql = 'select * from emptable where deptid>=2 and deptid<=4'\n",
    "# sql = 'select * from emptable where deptid between 2 and 4'\n",
    "\n",
    "# like : 문자열　컬럼검색， %_\n",
    "# sql = 'select * from emptable where name like \"김%\"' #김으로시작\n",
    "# sql = 'select * from emptable where name like \"%수\"' #수로끝남\n",
    "# sql = 'select * from emptable where name like \"%수%\"' #수를포함\n",
    "# sql = 'select * from emptable where name like \"%수_\"' #수포함뒤에한글자\n",
    "\n",
    "# rlike : 문자열　검색　정규식 ： ^ $ [] () ? * + \\w \\d \\W \\D \\s \\S\n",
    "# sql = 'select * from emptable where name rlike \"수\"' #수를포함\n",
    "# sql = 'select * from emptable where name rlike \"^김\"' #김으로시작\n",
    "# sql = 'select * from emptable where name rlike \"수$\"' #수로끝남\n",
    "# sql = 'select * from emptable where name rlike \"[이김]\"' #이，김포함\n",
    "sql = 'select * from emptable where name rlike \"순신|꺽정\"' #순신이나꺽정포함\n",
    "empDF1 = sqlCtx.sql(sql)\n",
    "empDF1.show()"
   ]
  },
  {
   "cell_type": "code",
   "execution_count": 13,
   "id": "dc1bf0e2-feb6-4482-bcc1-f18573bac54d",
   "metadata": {
    "tags": []
   },
   "outputs": [
    {
     "data": {
      "text/html": [
       "<div>\n",
       "<style scoped>\n",
       "    .dataframe tbody tr th:only-of-type {\n",
       "        vertical-align: middle;\n",
       "    }\n",
       "\n",
       "    .dataframe tbody tr th {\n",
       "        vertical-align: top;\n",
       "    }\n",
       "\n",
       "    .dataframe thead th {\n",
       "        text-align: right;\n",
       "    }\n",
       "</style>\n",
       "<table border=\"1\" class=\"dataframe\">\n",
       "  <thead>\n",
       "    <tr style=\"text-align: right;\">\n",
       "      <th></th>\n",
       "      <th>name</th>\n",
       "      <th>deptid</th>\n",
       "    </tr>\n",
       "  </thead>\n",
       "  <tbody>\n",
       "    <tr>\n",
       "      <th>0</th>\n",
       "      <td>홍길동</td>\n",
       "      <td>1</td>\n",
       "    </tr>\n",
       "    <tr>\n",
       "      <th>1</th>\n",
       "      <td>이순신</td>\n",
       "      <td>2</td>\n",
       "    </tr>\n",
       "    <tr>\n",
       "      <th>2</th>\n",
       "      <td>임꺽정</td>\n",
       "      <td>3</td>\n",
       "    </tr>\n",
       "    <tr>\n",
       "      <th>3</th>\n",
       "      <td>김철수</td>\n",
       "      <td>3</td>\n",
       "    </tr>\n",
       "    <tr>\n",
       "      <th>4</th>\n",
       "      <td>김철수1</td>\n",
       "      <td>5</td>\n",
       "    </tr>\n",
       "  </tbody>\n",
       "</table>\n",
       "</div>"
      ],
      "text/plain": [
       "   name  deptid\n",
       "0   홍길동       1\n",
       "1   이순신       2\n",
       "2   임꺽정       3\n",
       "3   김철수       3\n",
       "4  김철수1       5"
      ]
     },
     "execution_count": 13,
     "metadata": {},
     "output_type": "execute_result"
    }
   ],
   "source": [
    "df = empDF.toPandas()\n",
    "df"
   ]
  },
  {
   "cell_type": "code",
   "execution_count": 14,
   "id": "9a525a2a-2544-4a0e-9d4e-bf77f451491d",
   "metadata": {
    "collapsed": true,
    "jupyter": {
     "outputs_hidden": true
    },
    "tags": []
   },
   "outputs": [
    {
     "data": {
      "text/html": [
       "<div>\n",
       "<style scoped>\n",
       "    .dataframe tbody tr th:only-of-type {\n",
       "        vertical-align: middle;\n",
       "    }\n",
       "\n",
       "    .dataframe tbody tr th {\n",
       "        vertical-align: top;\n",
       "    }\n",
       "\n",
       "    .dataframe thead th {\n",
       "        text-align: right;\n",
       "    }\n",
       "</style>\n",
       "<table border=\"1\" class=\"dataframe\">\n",
       "  <thead>\n",
       "    <tr style=\"text-align: right;\">\n",
       "      <th></th>\n",
       "      <th>name</th>\n",
       "      <th>deptid</th>\n",
       "    </tr>\n",
       "  </thead>\n",
       "  <tbody>\n",
       "    <tr>\n",
       "      <th>1</th>\n",
       "      <td>이순신</td>\n",
       "      <td>2</td>\n",
       "    </tr>\n",
       "    <tr>\n",
       "      <th>2</th>\n",
       "      <td>임꺽정</td>\n",
       "      <td>3</td>\n",
       "    </tr>\n",
       "    <tr>\n",
       "      <th>3</th>\n",
       "      <td>김철수</td>\n",
       "      <td>3</td>\n",
       "    </tr>\n",
       "  </tbody>\n",
       "</table>\n",
       "</div>"
      ],
      "text/plain": [
       "  name  deptid\n",
       "1  이순신       2\n",
       "2  임꺽정       3\n",
       "3  김철수       3"
      ]
     },
     "execution_count": 14,
     "metadata": {},
     "output_type": "execute_result"
    }
   ],
   "source": [
    "df[(df['deptid']>=2) & (df['deptid']<=4)]"
   ]
  },
  {
   "cell_type": "code",
   "execution_count": 15,
   "id": "02f36f83-0207-46eb-ba18-919ff0a77541",
   "metadata": {
    "collapsed": true,
    "jupyter": {
     "outputs_hidden": true
    },
    "tags": []
   },
   "outputs": [
    {
     "data": {
      "text/html": [
       "<div>\n",
       "<style scoped>\n",
       "    .dataframe tbody tr th:only-of-type {\n",
       "        vertical-align: middle;\n",
       "    }\n",
       "\n",
       "    .dataframe tbody tr th {\n",
       "        vertical-align: top;\n",
       "    }\n",
       "\n",
       "    .dataframe thead th {\n",
       "        text-align: right;\n",
       "    }\n",
       "</style>\n",
       "<table border=\"1\" class=\"dataframe\">\n",
       "  <thead>\n",
       "    <tr style=\"text-align: right;\">\n",
       "      <th></th>\n",
       "      <th>name</th>\n",
       "      <th>deptid</th>\n",
       "    </tr>\n",
       "  </thead>\n",
       "  <tbody>\n",
       "    <tr>\n",
       "      <th>1</th>\n",
       "      <td>이순신</td>\n",
       "      <td>2</td>\n",
       "    </tr>\n",
       "    <tr>\n",
       "      <th>2</th>\n",
       "      <td>임꺽정</td>\n",
       "      <td>3</td>\n",
       "    </tr>\n",
       "    <tr>\n",
       "      <th>3</th>\n",
       "      <td>김철수</td>\n",
       "      <td>3</td>\n",
       "    </tr>\n",
       "  </tbody>\n",
       "</table>\n",
       "</div>"
      ],
      "text/plain": [
       "  name  deptid\n",
       "1  이순신       2\n",
       "2  임꺽정       3\n",
       "3  김철수       3"
      ]
     },
     "execution_count": 15,
     "metadata": {},
     "output_type": "execute_result"
    }
   ],
   "source": [
    "df[df['deptid'].between(2,4)]"
   ]
  },
  {
   "cell_type": "code",
   "execution_count": 16,
   "id": "d2693a13-0b20-46d4-b471-2a11198d8818",
   "metadata": {
    "tags": []
   },
   "outputs": [
    {
     "data": {
      "text/html": [
       "<div>\n",
       "<style scoped>\n",
       "    .dataframe tbody tr th:only-of-type {\n",
       "        vertical-align: middle;\n",
       "    }\n",
       "\n",
       "    .dataframe tbody tr th {\n",
       "        vertical-align: top;\n",
       "    }\n",
       "\n",
       "    .dataframe thead th {\n",
       "        text-align: right;\n",
       "    }\n",
       "</style>\n",
       "<table border=\"1\" class=\"dataframe\">\n",
       "  <thead>\n",
       "    <tr style=\"text-align: right;\">\n",
       "      <th></th>\n",
       "      <th>name</th>\n",
       "      <th>deptid</th>\n",
       "    </tr>\n",
       "  </thead>\n",
       "  <tbody>\n",
       "    <tr>\n",
       "      <th>1</th>\n",
       "      <td>이순신</td>\n",
       "      <td>2</td>\n",
       "    </tr>\n",
       "    <tr>\n",
       "      <th>2</th>\n",
       "      <td>임꺽정</td>\n",
       "      <td>3</td>\n",
       "    </tr>\n",
       "    <tr>\n",
       "      <th>3</th>\n",
       "      <td>김철수</td>\n",
       "      <td>3</td>\n",
       "    </tr>\n",
       "  </tbody>\n",
       "</table>\n",
       "</div>"
      ],
      "text/plain": [
       "  name  deptid\n",
       "1  이순신       2\n",
       "2  임꺽정       3\n",
       "3  김철수       3"
      ]
     },
     "execution_count": 16,
     "metadata": {},
     "output_type": "execute_result"
    }
   ],
   "source": [
    "df.query('deptid >= 2 and deptid <= 4')"
   ]
  },
  {
   "cell_type": "code",
   "execution_count": 32,
   "id": "c432f5c3-72f9-4a93-85ef-c8fd35c29c26",
   "metadata": {},
   "outputs": [
    {
     "data": {
      "text/html": [
       "<div>\n",
       "<style scoped>\n",
       "    .dataframe tbody tr th:only-of-type {\n",
       "        vertical-align: middle;\n",
       "    }\n",
       "\n",
       "    .dataframe tbody tr th {\n",
       "        vertical-align: top;\n",
       "    }\n",
       "\n",
       "    .dataframe thead th {\n",
       "        text-align: right;\n",
       "    }\n",
       "</style>\n",
       "<table border=\"1\" class=\"dataframe\">\n",
       "  <thead>\n",
       "    <tr style=\"text-align: right;\">\n",
       "      <th></th>\n",
       "      <th>name</th>\n",
       "      <th>deptid</th>\n",
       "    </tr>\n",
       "  </thead>\n",
       "  <tbody>\n",
       "    <tr>\n",
       "      <th>1</th>\n",
       "      <td>이순신</td>\n",
       "      <td>2</td>\n",
       "    </tr>\n",
       "    <tr>\n",
       "      <th>3</th>\n",
       "      <td>김철수</td>\n",
       "      <td>3</td>\n",
       "    </tr>\n",
       "    <tr>\n",
       "      <th>4</th>\n",
       "      <td>김철수1</td>\n",
       "      <td>5</td>\n",
       "    </tr>\n",
       "  </tbody>\n",
       "</table>\n",
       "</div>"
      ],
      "text/plain": [
       "   name  deptid\n",
       "1   이순신       2\n",
       "3   김철수       3\n",
       "4  김철수1       5"
      ]
     },
     "execution_count": 32,
     "metadata": {},
     "output_type": "execute_result"
    }
   ],
   "source": [
    "df[df['name'].str.contains('[이김]')]"
   ]
  },
  {
   "cell_type": "code",
   "execution_count": 46,
   "id": "9641dcbd-b123-4c6b-b576-2a6ec44ea248",
   "metadata": {},
   "outputs": [
    {
     "name": "stdout",
     "output_type": "stream",
     "text": [
      "+-------+------+\n",
      "|   name|deptid|\n",
      "+-------+------+\n",
      "| 이순신|     2|\n",
      "| 김철수|     3|\n",
      "|김철수1|     5|\n",
      "+-------+------+\n",
      "\n"
     ]
    }
   ],
   "source": [
    "# 이름에　＇김＇　글자가　있거나　deptid 2 또는 5인　데이터를　검색하시오．\n",
    "sql = 'select * from emptable where name like \"%김%\" or deptid rlike \"2|5\"'\n",
    "empDF1 = sqlCtx.sql(sql)\n",
    "empDF1.show()"
   ]
  },
  {
   "cell_type": "markdown",
   "id": "241671b8-dc3a-4431-b7c1-144cad7c7439",
   "metadata": {},
   "source": [
    "### 정렬"
   ]
  },
  {
   "cell_type": "code",
   "execution_count": 58,
   "id": "1986046e-9b77-4caf-a078-c93690527ba9",
   "metadata": {},
   "outputs": [
    {
     "name": "stdout",
     "output_type": "stream",
     "text": [
      "+-------+------+\n",
      "|   name|deptid|\n",
      "+-------+------+\n",
      "|김철수1|     5|\n",
      "| 임꺽정|     3|\n",
      "| 김철수|     3|\n",
      "+-------+------+\n",
      "\n"
     ]
    }
   ],
   "source": [
    "# sql = 'select * from emptable order by name' #오름차순\n",
    "# sql = 'select * from emptable order by name desc' #내림차순\n",
    "# sql = 'select * from emptable order by deptid, name' #deptid>name　오름차순\n",
    "# sql = 'select * from emptable order by deptid limit 2' #\n",
    "# sql = 'select * from emptable limit 2' #head랑비슷\n",
    "sql = 'select * from emptable where deptid>=3 order by deptid desc' #\n",
    "empDF1 = sqlCtx.sql(sql)\n",
    "empDF1.show()"
   ]
  },
  {
   "cell_type": "markdown",
   "id": "215c8da0-64e5-4d61-a12b-91578437c444",
   "metadata": {},
   "source": [
    "### 산술 연산 : + - * / ()"
   ]
  },
  {
   "cell_type": "code",
   "execution_count": 62,
   "id": "57686f20-d1c8-4000-abdf-f1cc35d50064",
   "metadata": {},
   "outputs": [
    {
     "name": "stdout",
     "output_type": "stream",
     "text": [
      "+-------+------+---+\n",
      "|   name|deptid| dp|\n",
      "+-------+------+---+\n",
      "| 홍길동|     1|  9|\n",
      "| 이순신|     2| 12|\n",
      "| 임꺽정|     3| 15|\n",
      "| 김철수|     3| 15|\n",
      "|김철수1|     5| 21|\n",
      "+-------+------+---+\n",
      "\n"
     ]
    }
   ],
   "source": [
    "# sql = 'select name, deptid, deptid*2 from emptable'\n",
    "sql = 'select name, deptid, (deptid+2)*3 as dp from emptable'\n",
    "empDF1 = sqlCtx.sql(sql)\n",
    "empDF1.show()"
   ]
  },
  {
   "cell_type": "code",
   "execution_count": 82,
   "id": "3f967fc7-285b-4c9c-bd8d-1dcff38a2bb4",
   "metadata": {},
   "outputs": [],
   "source": [
    "# name salary 컬럼명을 가지는 데이터프레임을 만드시요.\n",
    "data1 = ['홍길동,1000','이순신,2000','임꺽정,3000',\n",
    "         '김철수,4000','이황,5000','이이,6000']"
   ]
  },
  {
   "cell_type": "code",
   "execution_count": 86,
   "id": "8ab4fb23-55dc-41c8-aac1-4f8927fdc75e",
   "metadata": {},
   "outputs": [
    {
     "data": {
      "text/plain": [
       "['홍길동,1000', '이순신,2000', '임꺽정,3000', '김철수,4000', '이황,5000', '이이,6000']"
      ]
     },
     "execution_count": 86,
     "metadata": {},
     "output_type": "execute_result"
    }
   ],
   "source": [
    "empRdd = sc.parallelize(data1)\n",
    "empRdd.collect()"
   ]
  },
  {
   "cell_type": "code",
   "execution_count": 90,
   "id": "74976d8e-34ae-48ef-8eda-6eb693d3b0ce",
   "metadata": {},
   "outputs": [],
   "source": [
    "rdd = empRdd.map(lambda v:v.split(','))"
   ]
  },
  {
   "cell_type": "code",
   "execution_count": 93,
   "id": "3644d21c-012d-46de-85cb-87c5dbbc2f8d",
   "metadata": {},
   "outputs": [
    {
     "name": "stdout",
     "output_type": "stream",
     "text": [
      "+------+------+\n",
      "|  name|salary|\n",
      "+------+------+\n",
      "|홍길동|  1000|\n",
      "|이순신|  2000|\n",
      "|임꺽정|  3000|\n",
      "|김철수|  4000|\n",
      "|  이황|  5000|\n",
      "|  이이|  6000|\n",
      "+------+------+\n",
      "\n"
     ]
    }
   ],
   "source": [
    "# empDF = empRdd.toDF()\n",
    "empDF = rdd.toDF(['name','salary'])\n",
    "empDF.show()"
   ]
  },
  {
   "cell_type": "code",
   "execution_count": 94,
   "id": "2f63b13e-0ecb-4fed-ba1d-79e796b7aed7",
   "metadata": {},
   "outputs": [
    {
     "data": {
      "text/html": [
       "<div>\n",
       "<style scoped>\n",
       "    .dataframe tbody tr th:only-of-type {\n",
       "        vertical-align: middle;\n",
       "    }\n",
       "\n",
       "    .dataframe tbody tr th {\n",
       "        vertical-align: top;\n",
       "    }\n",
       "\n",
       "    .dataframe thead th {\n",
       "        text-align: right;\n",
       "    }\n",
       "</style>\n",
       "<table border=\"1\" class=\"dataframe\">\n",
       "  <thead>\n",
       "    <tr style=\"text-align: right;\">\n",
       "      <th></th>\n",
       "      <th>name</th>\n",
       "      <th>salary</th>\n",
       "    </tr>\n",
       "  </thead>\n",
       "  <tbody>\n",
       "    <tr>\n",
       "      <th>0</th>\n",
       "      <td>홍길동</td>\n",
       "      <td>1000</td>\n",
       "    </tr>\n",
       "    <tr>\n",
       "      <th>1</th>\n",
       "      <td>이순신</td>\n",
       "      <td>2000</td>\n",
       "    </tr>\n",
       "    <tr>\n",
       "      <th>2</th>\n",
       "      <td>임꺽정</td>\n",
       "      <td>3000</td>\n",
       "    </tr>\n",
       "    <tr>\n",
       "      <th>3</th>\n",
       "      <td>김철수</td>\n",
       "      <td>4000</td>\n",
       "    </tr>\n",
       "    <tr>\n",
       "      <th>4</th>\n",
       "      <td>이황</td>\n",
       "      <td>5000</td>\n",
       "    </tr>\n",
       "    <tr>\n",
       "      <th>5</th>\n",
       "      <td>이이</td>\n",
       "      <td>6000</td>\n",
       "    </tr>\n",
       "  </tbody>\n",
       "</table>\n",
       "</div>"
      ],
      "text/plain": [
       "  name salary\n",
       "0  홍길동   1000\n",
       "1  이순신   2000\n",
       "2  임꺽정   3000\n",
       "3  김철수   4000\n",
       "4   이황   5000\n",
       "5   이이   6000"
      ]
     },
     "execution_count": 94,
     "metadata": {},
     "output_type": "execute_result"
    }
   ],
   "source": [
    "df = empDF.toPandas()\n",
    "df"
   ]
  },
  {
   "cell_type": "markdown",
   "id": "135e7cf6-72c2-4d6e-8f3d-12be0bfdb085",
   "metadata": {},
   "source": [
    "###　연습문제\n",
    "1. 급여가 가장높은 name과 salary를 출력하시요\n",
    "2. name, salary, tax 를 출력하시요 (tax는 급여에서 세금 3.3을 제한값)\n",
    "3. name 에 '철'이 포함된  name,salary 를 출력하시요\n",
    "4. salary top 5 인 name, salary 출력하시요\n",
    "5. salary  2000  과 4000 사이의 데이터를 출력하시요"
   ]
  },
  {
   "cell_type": "code",
   "execution_count": 97,
   "id": "e8f176d5-7c0a-48aa-b120-6b3522e58ee8",
   "metadata": {},
   "outputs": [],
   "source": [
    "empDF.createOrReplaceTempView('emptable')"
   ]
  },
  {
   "cell_type": "code",
   "execution_count": 99,
   "id": "eb1448e0-c14a-4a51-88d7-4982ba45f716",
   "metadata": {},
   "outputs": [
    {
     "name": "stdout",
     "output_type": "stream",
     "text": [
      "+----+------+\n",
      "|name|salary|\n",
      "+----+------+\n",
      "|이이|  6000|\n",
      "+----+------+\n",
      "\n"
     ]
    }
   ],
   "source": [
    "# 급여가 가장높은 name과 salary를 출력하시요\n",
    "sql = 'select * from emptable order by salary desc limit 1' #\n",
    "empDF = sqlCtx.sql(sql)\n",
    "empDF.show()"
   ]
  },
  {
   "cell_type": "code",
   "execution_count": 101,
   "id": "052efb70-55b6-41be-959f-76278dd40da9",
   "metadata": {},
   "outputs": [
    {
     "name": "stdout",
     "output_type": "stream",
     "text": [
      "+------+------+------+\n",
      "|  name|salary|   tax|\n",
      "+------+------+------+\n",
      "|홍길동|  1000| 967.0|\n",
      "|이순신|  2000|1934.0|\n",
      "|임꺽정|  3000|2901.0|\n",
      "|김철수|  4000|3868.0|\n",
      "|  이황|  5000|4835.0|\n",
      "|  이이|  6000|5802.0|\n",
      "+------+------+------+\n",
      "\n"
     ]
    }
   ],
   "source": [
    "# name, salary, tax 를 출력하시요 (tax는 급여에서 세금 3.3을 제한값)\n",
    "sql = 'select name, salary, salary-salary*0.033 as tax from emptable' #\n",
    "empDF = sqlCtx.sql(sql)\n",
    "empDF.show()"
   ]
  },
  {
   "cell_type": "code",
   "execution_count": 111,
   "id": "3acd7367-2b9e-4c77-9e6c-5a92fa15d829",
   "metadata": {},
   "outputs": [
    {
     "name": "stdout",
     "output_type": "stream",
     "text": [
      "+------+------+\n",
      "|  name|salary|\n",
      "+------+------+\n",
      "|김철수|  4000|\n",
      "+------+------+\n",
      "\n"
     ]
    }
   ],
   "source": [
    "# name 에 '철'이 포함된 name,salary 를 출력하시요\n",
    "sql = 'select name, salary from emptable where name rlike \"[철]\"' #\n",
    "empDF = sqlCtx.sql(sql)\n",
    "empDF.show()"
   ]
  },
  {
   "cell_type": "code",
   "execution_count": 115,
   "id": "0ddc27d7-1c4f-4b2b-b185-b4b474c1ccf9",
   "metadata": {},
   "outputs": [
    {
     "name": "stdout",
     "output_type": "stream",
     "text": [
      "+------+------+\n",
      "|  name|salary|\n",
      "+------+------+\n",
      "|  이이|  6000|\n",
      "|  이황|  5000|\n",
      "|김철수|  4000|\n",
      "|임꺽정|  3000|\n",
      "|이순신|  2000|\n",
      "+------+------+\n",
      "\n"
     ]
    }
   ],
   "source": [
    "# salary top 5 인 name, salary 출력하시요\n",
    "sql = 'select name, salary from emptable order by salary desc limit 5' #\n",
    "empDF = sqlCtx.sql(sql)\n",
    "empDF.show()"
   ]
  },
  {
   "cell_type": "code",
   "execution_count": 117,
   "id": "24d3e46a-6096-433a-a0d7-c7070bcff1b5",
   "metadata": {},
   "outputs": [
    {
     "name": "stdout",
     "output_type": "stream",
     "text": [
      "+------+------+\n",
      "|  name|salary|\n",
      "+------+------+\n",
      "|이순신|  2000|\n",
      "|임꺽정|  3000|\n",
      "|김철수|  4000|\n",
      "+------+------+\n",
      "\n"
     ]
    }
   ],
   "source": [
    "# salary 2000 과 4000 사이의 데이터를 출력하시요\n",
    "sql = 'select name, salary from emptable where salary >=2000 and salary <=4000' #\n",
    "empDF = sqlCtx.sql(sql)\n",
    "empDF.show()"
   ]
  },
  {
   "cell_type": "markdown",
   "id": "a3f80ea1-1ddb-4bde-b0bd-a3ed270539a6",
   "metadata": {
    "tags": []
   },
   "source": [
    "### 집계함수（max, min, avg, sum, count)함수（숫자타입)"
   ]
  },
  {
   "cell_type": "code",
   "execution_count": null,
   "id": "cab36213-3678-49ec-8e7e-99e1d862e4ac",
   "metadata": {},
   "outputs": [],
   "source": []
  },
  {
   "cell_type": "code",
   "execution_count": null,
   "id": "3446ebf3-bddf-494d-85cb-838b81c6ed4e",
   "metadata": {},
   "outputs": [],
   "source": []
  },
  {
   "cell_type": "code",
   "execution_count": 135,
   "id": "190af0dc-ad7e-4aab-ad03-637420ae7a4c",
   "metadata": {},
   "outputs": [],
   "source": [
    "emp =[('홍길동',1),('이순신',2),\n",
    "      ('임꺽정',3),('김철수',3),('김철수1',5)]\n",
    "dept = [('개발',1), ('연구',2),\n",
    "        ('영업',3),('기획',4) ]"
   ]
  },
  {
   "cell_type": "code",
   "execution_count": 136,
   "id": "7470cdc6-693d-45c2-ade5-3527dabaf1c6",
   "metadata": {},
   "outputs": [
    {
     "data": {
      "text/plain": [
       "ParallelCollectionRDD[246] at readRDDFromFile at PythonRDD.scala:274"
      ]
     },
     "execution_count": 136,
     "metadata": {},
     "output_type": "execute_result"
    }
   ],
   "source": [
    "empRdd = sc.parallelize(emp)\n",
    "empRdd"
   ]
  },
  {
   "cell_type": "code",
   "execution_count": 137,
   "id": "1f8a90e3-deba-43bb-b2a3-57eca09cf8b4",
   "metadata": {},
   "outputs": [
    {
     "name": "stdout",
     "output_type": "stream",
     "text": [
      "+-------+------+\n",
      "|   name|deptid|\n",
      "+-------+------+\n",
      "| 홍길동|     1|\n",
      "| 이순신|     2|\n",
      "| 임꺽정|     3|\n",
      "| 김철수|     3|\n",
      "|김철수1|     5|\n",
      "+-------+------+\n",
      "\n"
     ]
    }
   ],
   "source": [
    "empDF1 = empRdd.toDF(['name', 'deptid'])\n",
    "empDF1.show()"
   ]
  },
  {
   "cell_type": "code",
   "execution_count": 138,
   "id": "07b6ee49-af04-43d7-98c1-b182cecf7b15",
   "metadata": {},
   "outputs": [],
   "source": [
    "empDF1.createOrReplaceTempView('emptable')"
   ]
  },
  {
   "cell_type": "code",
   "execution_count": 141,
   "id": "d784ebc8-d828-4be8-9e9e-d3358e3fe9f2",
   "metadata": {},
   "outputs": [
    {
     "name": "stdout",
     "output_type": "stream",
     "text": [
      "+-----------+-----------+\n",
      "|sum(deptid)|avg(deptid)|\n",
      "+-----------+-----------+\n",
      "|         14|        2.8|\n",
      "+-----------+-----------+\n",
      "\n"
     ]
    }
   ],
   "source": [
    "# sql = \"select max(deptid) from emptable\"\n",
    "# sql = \"select min(deptid) from emptable\"\n",
    "# sql = \"select sum(deptid) from emptable\"\n",
    "# sql = \"select avg(deptid) from emptable\"\n",
    "# sql = \"select count(deptid) from emptable\"\n",
    "sql = \"select sum(deptid),avg(deptid) from emptable\"\n",
    "empDF1 = sqlCtx.sql(sql)\n",
    "empDF1.show()"
   ]
  },
  {
   "cell_type": "markdown",
   "id": "4170a816-6ffd-42c2-82a9-b4d671c977ee",
   "metadata": {},
   "source": [
    "### 조건연산자"
   ]
  },
  {
   "cell_type": "code",
   "execution_count": 146,
   "id": "34585757-41e4-47a0-ad06-5a763e397a06",
   "metadata": {},
   "outputs": [
    {
     "name": "stdout",
     "output_type": "stream",
     "text": [
      "+-------+------+------+\n",
      "|   name|deptid|     d|\n",
      "+-------+------+------+\n",
      "| 홍길동|     1| small|\n",
      "| 이순신|     2| small|\n",
      "| 임꺽정|     3|middle|\n",
      "| 김철수|     3|middle|\n",
      "|김철수1|     5|   big|\n",
      "+-------+------+------+\n",
      "\n"
     ]
    }
   ],
   "source": [
    "sql = '''select name, deptid,\n",
    "case\n",
    "when deptid<=2 then 'small' \n",
    "when deptid<=4 then 'middle'\n",
    "else 'big'\n",
    "end as d\n",
    "from emptable\n",
    "'''\n",
    "empDF1 = sqlCtx.sql(sql)\n",
    "empDF1.show()"
   ]
  },
  {
   "cell_type": "code",
   "execution_count": null,
   "id": "467f04c1-f656-4eac-b5c5-60baf4100143",
   "metadata": {},
   "outputs": [],
   "source": []
  }
 ],
 "metadata": {
  "kernelspec": {
   "display_name": "Python 3 (ipykernel)",
   "language": "python",
   "name": "python3"
  },
  "language_info": {
   "codemirror_mode": {
    "name": "ipython",
    "version": 3
   },
   "file_extension": ".py",
   "mimetype": "text/x-python",
   "name": "python",
   "nbconvert_exporter": "python",
   "pygments_lexer": "ipython3",
   "version": "3.9.12"
  },
  "toc-autonumbering": false,
  "toc-showcode": false,
  "toc-showmarkdowntxt": false
 },
 "nbformat": 4,
 "nbformat_minor": 5
}
