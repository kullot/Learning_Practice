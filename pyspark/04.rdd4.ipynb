{
 "cells": [
  {
   "cell_type": "code",
   "execution_count": 2,
   "id": "b27cdb40-b216-43fd-ae4a-65566e61d578",
   "metadata": {},
   "outputs": [],
   "source": [
    "from pyspark import SparkContext"
   ]
  },
  {
   "cell_type": "code",
   "execution_count": 3,
   "id": "dcc94327-3f04-4c46-abb5-783382acc610",
   "metadata": {},
   "outputs": [],
   "source": [
    "import numpy as np\n",
    "import pandas as pd"
   ]
  },
  {
   "cell_type": "code",
   "execution_count": 4,
   "id": "d94e816c-a3e8-4ed5-8e87-73aed0237c65",
   "metadata": {
    "tags": []
   },
   "outputs": [
    {
     "name": "stderr",
     "output_type": "stream",
     "text": [
      "22/07/26 13:35:06 WARN Utils: Your hostname, master resolves to a loopback address: 127.0.1.1; using 192.168.139.128 instead (on interface ens33)\n",
      "22/07/26 13:35:06 WARN Utils: Set SPARK_LOCAL_IP if you need to bind to another address\n",
      "22/07/26 13:35:07 WARN NativeCodeLoader: Unable to load native-hadoop library for your platform... using builtin-java classes where applicable\n",
      "Using Spark's default log4j profile: org/apache/spark/log4j-defaults.properties\n",
      "Setting default log level to \"WARN\".\n",
      "To adjust logging level use sc.setLogLevel(newLevel). For SparkR, use setLogLevel(newLevel).\n"
     ]
    }
   ],
   "source": [
    "sc = SparkContext('local')"
   ]
  },
  {
   "cell_type": "code",
   "execution_count": 5,
   "id": "7c02bba8-02d4-4eee-9252-1748781b0aee",
   "metadata": {},
   "outputs": [
    {
     "data": {
      "text/plain": [
       "[(1, 2), (3, 4), (5, 6), (1, 7), (3, 4)]"
      ]
     },
     "execution_count": 5,
     "metadata": {},
     "output_type": "execute_result"
    }
   ],
   "source": [
    "dt = [(1,2),(3,4),(5,6),(1,7),(3,4)]\n",
    "nRdd = sc.parallelize(dt)\n",
    "nRdd.collect()"
   ]
  },
  {
   "cell_type": "code",
   "execution_count": 6,
   "id": "d7a0686f-acf1-460a-bcfa-bb943bed1294",
   "metadata": {},
   "outputs": [
    {
     "name": "stderr",
     "output_type": "stream",
     "text": [
      "                                                                                \r"
     ]
    },
    {
     "data": {
      "text/plain": [
       "[(1, 9), (3, 8), (5, 6)]"
      ]
     },
     "execution_count": 6,
     "metadata": {},
     "output_type": "execute_result"
    }
   ],
   "source": [
    "# 튜플 앞에값을 key로 생각하고, 같읕 key끼리 값을 누적합\n",
    "newRdd = nRdd.reduceByKey(lambda a,b:a+b) #transform\n",
    "newRdd.collect()"
   ]
  },
  {
   "cell_type": "code",
   "execution_count": 7,
   "id": "b6c49579-3da2-45b1-a6a9-9bcb0aa68f10",
   "metadata": {},
   "outputs": [
    {
     "data": {
      "text/plain": [
       "[(1, 1),\n",
       " (2, 1),\n",
       " (3, 1),\n",
       " (4, 1),\n",
       " (5, 1),\n",
       " (6, 1),\n",
       " (1, 1),\n",
       " (7, 1),\n",
       " (3, 1),\n",
       " (4, 1)]"
      ]
     },
     "execution_count": 7,
     "metadata": {},
     "output_type": "execute_result"
    }
   ],
   "source": [
    "newRdd1 = nRdd.flatMap(lambda v:v).map(lambda v: (v,1))\n",
    "newRdd1.collect()"
   ]
  },
  {
   "cell_type": "code",
   "execution_count": 8,
   "id": "40f166f6-3d5d-4853-b55c-03479148a1dd",
   "metadata": {},
   "outputs": [
    {
     "data": {
      "text/plain": [
       "[(1, 2), (2, 1), (3, 2), (4, 2), (5, 1), (6, 1), (7, 1)]"
      ]
     },
     "execution_count": 8,
     "metadata": {},
     "output_type": "execute_result"
    }
   ],
   "source": [
    "newRdd1.reduceByKey(lambda a,b:a+b).collect()"
   ]
  },
  {
   "cell_type": "code",
   "execution_count": 9,
   "id": "0f9490cb-67a7-4c68-ab70-838b39ff0bfc",
   "metadata": {},
   "outputs": [
    {
     "data": {
      "text/plain": [
       "defaultdict(int, {1: 2, 2: 1, 3: 2, 4: 2, 5: 1, 6: 1, 7: 1})"
      ]
     },
     "execution_count": 9,
     "metadata": {},
     "output_type": "execute_result"
    }
   ],
   "source": [
    "# 딕셔너리로　출력\n",
    "d = newRdd1.countByKey() #action함수\n",
    "d"
   ]
  },
  {
   "cell_type": "code",
   "execution_count": 10,
   "id": "cfb6c9fe-aa54-4cce-aa32-cda7fcd7070c",
   "metadata": {},
   "outputs": [
    {
     "data": {
      "text/plain": [
       "2"
      ]
     },
     "execution_count": 10,
     "metadata": {},
     "output_type": "execute_result"
    }
   ],
   "source": [
    "d[1]"
   ]
  },
  {
   "cell_type": "code",
   "execution_count": 11,
   "id": "493714f9-177a-438d-a135-9e3f3480a26a",
   "metadata": {},
   "outputs": [
    {
     "data": {
      "text/plain": [
       "[(1, 1),\n",
       " (1, 1),\n",
       " (2, 1),\n",
       " (3, 1),\n",
       " (3, 1),\n",
       " (4, 1),\n",
       " (4, 1),\n",
       " (5, 1),\n",
       " (6, 1),\n",
       " (7, 1)]"
      ]
     },
     "execution_count": 11,
     "metadata": {},
     "output_type": "execute_result"
    }
   ],
   "source": [
    "# 키순서대로 정렬（오름차순）\n",
    "newRdd1.sortByKey().collect() #transform"
   ]
  },
  {
   "cell_type": "code",
   "execution_count": 12,
   "id": "db5e98ff-a22a-4dcb-9105-f225d3121374",
   "metadata": {},
   "outputs": [
    {
     "data": {
      "text/plain": [
       "[(7, 1),\n",
       " (6, 1),\n",
       " (5, 1),\n",
       " (4, 1),\n",
       " (4, 1),\n",
       " (3, 1),\n",
       " (3, 1),\n",
       " (2, 1),\n",
       " (1, 1),\n",
       " (1, 1)]"
      ]
     },
     "execution_count": 12,
     "metadata": {},
     "output_type": "execute_result"
    }
   ],
   "source": [
    "# 키순서대로 정렬（내림차순）\n",
    "newRdd1.sortByKey(ascending=False).collect() #transform"
   ]
  },
  {
   "cell_type": "code",
   "execution_count": 13,
   "id": "7cc9f259-f9cd-469d-bc36-006263565031",
   "metadata": {},
   "outputs": [
    {
     "data": {
      "text/plain": [
       "[(1, 2), (3, 4), (5, 6), (1, 7), (3, 4)]"
      ]
     },
     "execution_count": 13,
     "metadata": {},
     "output_type": "execute_result"
    }
   ],
   "source": [
    "nRdd.collect()"
   ]
  },
  {
   "cell_type": "code",
   "execution_count": 14,
   "id": "a17ab4d8-b8cb-451a-bfe1-87bc48ea77a2",
   "metadata": {},
   "outputs": [
    {
     "data": {
      "text/plain": [
       "[(1, 2), (3, 4), (3, 4), (5, 6), (1, 7)]"
      ]
     },
     "execution_count": 14,
     "metadata": {},
     "output_type": "execute_result"
    }
   ],
   "source": [
    "# 값순서대로 정렬\n",
    "nRdd.sortBy(lambda v:v[1]).collect() #transform"
   ]
  },
  {
   "cell_type": "markdown",
   "id": "a86afa60-e237-4317-87e0-551e5275cb86",
   "metadata": {},
   "source": [
    "### word count"
   ]
  },
  {
   "cell_type": "code",
   "execution_count": 15,
   "id": "9ad99d72-8f4f-46fb-a99f-14935bd56a8f",
   "metadata": {},
   "outputs": [
    {
     "data": {
      "text/plain": [
       "['나는 자랑스런', '태극기 앞에', '조국과 태극기', '몸과 나는']"
      ]
     },
     "execution_count": 15,
     "metadata": {},
     "output_type": "execute_result"
    }
   ],
   "source": [
    "txtRdd = sc.textFile('./data/aa.txt')\n",
    "txtRdd.collect()"
   ]
  },
  {
   "cell_type": "code",
   "execution_count": 16,
   "id": "ec6f8931-074c-40bd-a8e2-0a70380023b6",
   "metadata": {},
   "outputs": [
    {
     "data": {
      "text/plain": [
       "[['나는', '자랑스런'], ['태극기', '앞에'], ['조국과', '태극기'], ['몸과', '나는']]"
      ]
     },
     "execution_count": 16,
     "metadata": {},
     "output_type": "execute_result"
    }
   ],
   "source": [
    "txtRdd.map(lambda v: v.split()).collect()"
   ]
  },
  {
   "cell_type": "code",
   "execution_count": 17,
   "id": "94fa8b57-cbba-4824-aeef-b0f1a9b49804",
   "metadata": {},
   "outputs": [
    {
     "data": {
      "text/plain": [
       "['나는', '자랑스런', '태극기', '앞에', '조국과', '태극기', '몸과', '나는']"
      ]
     },
     "execution_count": 17,
     "metadata": {},
     "output_type": "execute_result"
    }
   ],
   "source": [
    "txtRdd.flatMap(lambda v:v.split()).collect()"
   ]
  },
  {
   "cell_type": "code",
   "execution_count": 18,
   "id": "0362f8a1-df1b-4687-8f74-bb2c0971c099",
   "metadata": {},
   "outputs": [
    {
     "data": {
      "text/plain": [
       "[('나는', 1),\n",
       " ('자랑스런', 1),\n",
       " ('태극기', 1),\n",
       " ('앞에', 1),\n",
       " ('조국과', 1),\n",
       " ('태극기', 1),\n",
       " ('몸과', 1),\n",
       " ('나는', 1)]"
      ]
     },
     "execution_count": 18,
     "metadata": {},
     "output_type": "execute_result"
    }
   ],
   "source": [
    "txtRdd.flatMap(lambda v:v.split()).map(lambda v:(v,1)).collect()"
   ]
  },
  {
   "cell_type": "code",
   "execution_count": 19,
   "id": "baaeaa29-25ae-448b-a65b-4f856add2c6a",
   "metadata": {},
   "outputs": [
    {
     "data": {
      "text/plain": [
       "defaultdict(int, {'나는': 2, '자랑스런': 1, '태극기': 2, '앞에': 1, '조국과': 1, '몸과': 1})"
      ]
     },
     "execution_count": 19,
     "metadata": {},
     "output_type": "execute_result"
    }
   ],
   "source": [
    "txtRdd.flatMap(lambda v:v.split()).map(lambda v:(v,1)).countByKey()"
   ]
  },
  {
   "cell_type": "code",
   "execution_count": 20,
   "id": "9ee25bed-67e9-41a8-8a65-0d710d8e1d81",
   "metadata": {},
   "outputs": [],
   "source": [
    "txtRdd = sc.textFile('./data/k.txt')"
   ]
  },
  {
   "cell_type": "code",
   "execution_count": 21,
   "id": "cfc9027d-68ec-414a-b281-7f5407e2db0e",
   "metadata": {
    "tags": []
   },
   "outputs": [
    {
     "data": {
      "text/plain": [
       "[('원내대표는', 7),\n",
       " ('질문에', 7),\n",
       " ('것은', 5),\n",
       " ('여야', 4),\n",
       " ('하는', 4),\n",
       " ('말했다.', 4),\n",
       " ('3당', 3),\n",
       " ('위해', 3),\n",
       " ('문', 3),\n",
       " ('이인영', 3)]"
      ]
     },
     "execution_count": 21,
     "metadata": {},
     "output_type": "execute_result"
    }
   ],
   "source": [
    "txtRdd.flatMap(lambda v:v.split()).map(lambda v:(v,1)).reduceByKey(lambda a,b: a+b).sortBy(lambda a:a[1], ascending=False).take(10)"
   ]
  },
  {
   "cell_type": "code",
   "execution_count": 22,
   "id": "430b7144-8005-46b1-ae9b-4a26da14d4a5",
   "metadata": {},
   "outputs": [
    {
     "data": {
      "text/plain": [
       "[('원내대표는', 7),\n",
       " ('질문에', 7),\n",
       " ('것은', 5),\n",
       " ('여야', 4),\n",
       " ('하는', 4),\n",
       " ('말했다', 4),\n",
       " ('3당', 3),\n",
       " ('위해', 3),\n",
       " ('문', 3),\n",
       " ('이인영', 3)]"
      ]
     },
     "execution_count": 22,
     "metadata": {},
     "output_type": "execute_result"
    }
   ],
   "source": [
    "txtRdd.flatMap(lambda v:v.split()).map(lambda v:v.replace('\"','')).map(lambda v:v.replace(\"'\",\"\")).map(lambda v:v.replace(\".\",\"\")).map(lambda v:(v,1)).reduceByKey(lambda a,b: a+b).sortBy(lambda a:a[1], ascending=False).take(10)"
   ]
  },
  {
   "cell_type": "code",
   "execution_count": 39,
   "id": "5c083fd9-b299-4de3-8b0e-2c3bc8a88757",
   "metadata": {},
   "outputs": [],
   "source": [
    "sc.stop()"
   ]
  },
  {
   "cell_type": "code",
   "execution_count": null,
   "id": "afce5575-2fd8-4885-a791-ac0fa99c9d6b",
   "metadata": {},
   "outputs": [],
   "source": []
  }
 ],
 "metadata": {
  "kernelspec": {
   "display_name": "Python 3 (ipykernel)",
   "language": "python",
   "name": "python3"
  },
  "language_info": {
   "codemirror_mode": {
    "name": "ipython",
    "version": 3
   },
   "file_extension": ".py",
   "mimetype": "text/x-python",
   "name": "python",
   "nbconvert_exporter": "python",
   "pygments_lexer": "ipython3",
   "version": "3.9.12"
  }
 },
 "nbformat": 4,
 "nbformat_minor": 5
}
