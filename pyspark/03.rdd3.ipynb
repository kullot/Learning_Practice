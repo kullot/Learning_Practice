{
 "cells": [
  {
   "cell_type": "code",
   "execution_count": 1,
   "id": "0b8dce06-6b9e-4b0e-b276-675cbf9c32ad",
   "metadata": {},
   "outputs": [],
   "source": [
    "from pyspark import SparkContext"
   ]
  },
  {
   "cell_type": "code",
   "execution_count": 2,
   "id": "aa996fa2-5433-480d-922c-88b3a21f842f",
   "metadata": {
    "tags": []
   },
   "outputs": [
    {
     "name": "stderr",
     "output_type": "stream",
     "text": [
      "22/07/26 10:27:55 WARN Utils: Your hostname, master resolves to a loopback address: 127.0.1.1; using 192.168.139.128 instead (on interface ens33)\n",
      "22/07/26 10:27:55 WARN Utils: Set SPARK_LOCAL_IP if you need to bind to another address\n",
      "22/07/26 10:27:55 WARN NativeCodeLoader: Unable to load native-hadoop library for your platform... using builtin-java classes where applicable\n",
      "Using Spark's default log4j profile: org/apache/spark/log4j-defaults.properties\n",
      "Setting default log level to \"WARN\".\n",
      "To adjust logging level use sc.setLogLevel(newLevel). For SparkR, use setLogLevel(newLevel).\n",
      "22/07/26 10:27:56 WARN Utils: Service 'SparkUI' could not bind on port 4040. Attempting port 4041.\n"
     ]
    }
   ],
   "source": [
    "sc = SparkContext('local')"
   ]
  },
  {
   "cell_type": "code",
   "execution_count": 3,
   "id": "206abf79-ec27-4373-93ce-643805b370e9",
   "metadata": {},
   "outputs": [
    {
     "data": {
      "text/plain": [
       "['10,20', '30,40', '50,60', '20,40']"
      ]
     },
     "execution_count": 3,
     "metadata": {},
     "output_type": "execute_result"
    }
   ],
   "source": [
    "rdd1 = sc.textFile('data/bb.txt')\n",
    "rdd1.collect()"
   ]
  },
  {
   "cell_type": "code",
   "execution_count": 39,
   "id": "bf9f132d-f727-4db3-87dd-7cd8ec51add9",
   "metadata": {
    "tags": []
   },
   "outputs": [
    {
     "data": {
      "text/plain": [
       "[['10', '20'], ['30', '40'], ['50', '60'], ['20', '40']]"
      ]
     },
     "execution_count": 39,
     "metadata": {},
     "output_type": "execute_result"
    }
   ],
   "source": [
    "rdd1.map(lambda v: v.split(',')).collect()"
   ]
  },
  {
   "cell_type": "code",
   "execution_count": 5,
   "id": "6b552a39-4d63-4c61-a271-f34e5740fb8d",
   "metadata": {},
   "outputs": [
    {
     "data": {
      "text/plain": [
       "['10', '20', '30', '40', '50', '60', '20', '40']"
      ]
     },
     "execution_count": 5,
     "metadata": {},
     "output_type": "execute_result"
    }
   ],
   "source": [
    "rdd2 = rdd1.flatMap(lambda v: v.split(','))\n",
    "rdd2.collect()"
   ]
  },
  {
   "cell_type": "code",
   "execution_count": 6,
   "id": "8c84bfa1-33b0-4cd7-9b66-dec82890ed7b",
   "metadata": {},
   "outputs": [
    {
     "data": {
      "text/plain": [
       "[10, 20, 30, 40, 50, 60, 20, 40]"
      ]
     },
     "execution_count": 6,
     "metadata": {},
     "output_type": "execute_result"
    }
   ],
   "source": [
    "rdd3 = rdd2.map(lambda v: int(v))\n",
    "rdd3.collect()"
   ]
  },
  {
   "cell_type": "code",
   "execution_count": 7,
   "id": "04786334-66d1-4459-9cc9-cabdaf6c445b",
   "metadata": {},
   "outputs": [
    {
     "data": {
      "text/plain": [
       "[10, 20, 30, 40, 50, 60]"
      ]
     },
     "execution_count": 7,
     "metadata": {},
     "output_type": "execute_result"
    }
   ],
   "source": [
    "rdd4 = rdd3.distinct() #transform\n",
    "rdd4.collect()"
   ]
  },
  {
   "cell_type": "code",
   "execution_count": 40,
   "id": "647bccde-eb23-4463-a0ee-749206e719c2",
   "metadata": {
    "tags": []
   },
   "outputs": [
    {
     "data": {
      "text/plain": [
       "[10, 20, 30, 40, 50, 60]"
      ]
     },
     "execution_count": 40,
     "metadata": {},
     "output_type": "execute_result"
    }
   ],
   "source": [
    "myrdd = rdd1.flatMap(lambda v: v.split(',')).map(lambda v: int(v)).distinct()\n",
    "myrdd.collect()"
   ]
  },
  {
   "cell_type": "code",
   "execution_count": 41,
   "id": "9f616c55-ed48-47e2-a713-8e66f4fbdbdc",
   "metadata": {},
   "outputs": [
    {
     "data": {
      "text/plain": [
       "10"
      ]
     },
     "execution_count": 41,
     "metadata": {},
     "output_type": "execute_result"
    }
   ],
   "source": [
    "myrdd.first() #action함수"
   ]
  },
  {
   "cell_type": "code",
   "execution_count": 42,
   "id": "b4c3c330-29d1-4876-931d-bda1a9012747",
   "metadata": {},
   "outputs": [
    {
     "data": {
      "text/plain": [
       "[50, 60]"
      ]
     },
     "execution_count": 42,
     "metadata": {},
     "output_type": "execute_result"
    }
   ],
   "source": [
    "# 비복원추출（３０％）\n",
    "samRdd1 = myrdd.sample(False,0.3) # transform\n",
    "samRdd1.collect()"
   ]
  },
  {
   "cell_type": "code",
   "execution_count": 43,
   "id": "6eee1bf0-5645-4706-9473-b7d6e65a83fd",
   "metadata": {},
   "outputs": [
    {
     "data": {
      "text/plain": [
       "[20, 50, 10]"
      ]
     },
     "execution_count": 43,
     "metadata": {},
     "output_type": "execute_result"
    }
   ],
   "source": [
    "# 비복원　３개　추출\n",
    "samList = myrdd.takeSample(False,3) #action\n",
    "samList"
   ]
  },
  {
   "cell_type": "markdown",
   "id": "3a319bbb-e62a-4a55-becf-347bfa8c399f",
   "metadata": {},
   "source": [
    "### 통계 action 함수"
   ]
  },
  {
   "cell_type": "code",
   "execution_count": 44,
   "id": "c2cc2ae9-5a0d-4640-896d-5bd7527c0b15",
   "metadata": {},
   "outputs": [
    {
     "data": {
      "text/plain": [
       "210"
      ]
     },
     "execution_count": 44,
     "metadata": {},
     "output_type": "execute_result"
    }
   ],
   "source": [
    "myrdd.sum()"
   ]
  },
  {
   "cell_type": "code",
   "execution_count": 45,
   "id": "93216071-12e3-4dc2-b6d7-6b481e4b64e4",
   "metadata": {},
   "outputs": [
    {
     "data": {
      "text/plain": [
       "35.0"
      ]
     },
     "execution_count": 45,
     "metadata": {},
     "output_type": "execute_result"
    }
   ],
   "source": [
    "myrdd.mean()"
   ]
  },
  {
   "cell_type": "code",
   "execution_count": 46,
   "id": "9f61443f-c787-43e4-8ddd-8ce0832cc1f7",
   "metadata": {},
   "outputs": [
    {
     "data": {
      "text/plain": [
       "60"
      ]
     },
     "execution_count": 46,
     "metadata": {},
     "output_type": "execute_result"
    }
   ],
   "source": [
    "myrdd.max()"
   ]
  },
  {
   "cell_type": "code",
   "execution_count": 47,
   "id": "66f153ea-875a-4d39-90ff-55c11d1b7b0e",
   "metadata": {},
   "outputs": [
    {
     "data": {
      "text/plain": [
       "10"
      ]
     },
     "execution_count": 47,
     "metadata": {},
     "output_type": "execute_result"
    }
   ],
   "source": [
    "myrdd.min()"
   ]
  },
  {
   "cell_type": "code",
   "execution_count": 49,
   "id": "d6ed7a66-c145-4d13-a55e-f63237454257",
   "metadata": {},
   "outputs": [
    {
     "data": {
      "text/plain": [
       "17.07825127659933"
      ]
     },
     "execution_count": 49,
     "metadata": {},
     "output_type": "execute_result"
    }
   ],
   "source": [
    "myrdd.stdev() #표준편차"
   ]
  },
  {
   "cell_type": "code",
   "execution_count": 50,
   "id": "ba3f54c9-b56b-4302-a598-3c3a2108d3bd",
   "metadata": {},
   "outputs": [
    {
     "data": {
      "text/plain": [
       "(count: 6, mean: 35.0, stdev: 17.07825127659933, max: 60.0, min: 10.0)"
      ]
     },
     "execution_count": 50,
     "metadata": {},
     "output_type": "execute_result"
    }
   ],
   "source": [
    "myrdd.stats()"
   ]
  },
  {
   "cell_type": "code",
   "execution_count": 54,
   "id": "47261695-efa8-40fc-8d04-569f4a5f431b",
   "metadata": {},
   "outputs": [
    {
     "data": {
      "text/plain": [
       "([10.0, 26.666666666666668, 43.333333333333336, 60], [2, 2, 2])"
      ]
     },
     "execution_count": 54,
     "metadata": {},
     "output_type": "execute_result"
    }
   ],
   "source": [
    "# 10<=data<26.6, 26.6<=data<43.3, 43.3<=data<60\n",
    "myrdd.histogram(3) #３개의 계급, 도수"
   ]
  },
  {
   "cell_type": "code",
   "execution_count": 56,
   "id": "a6379bdc-cd65-4fda-9851-4bc42162ea58",
   "metadata": {},
   "outputs": [
    {
     "data": {
      "text/plain": [
       "([0, 50, 100], [4, 2])"
      ]
     },
     "execution_count": 56,
     "metadata": {},
     "output_type": "execute_result"
    }
   ],
   "source": [
    "# 0<=data<50, 50<=data<=100\n",
    "myrdd.histogram([0, 50, 100])"
   ]
  },
  {
   "cell_type": "code",
   "execution_count": 59,
   "id": "b32f2bb9-afff-4b9c-872c-202adf1e46ff",
   "metadata": {},
   "outputs": [],
   "source": [
    "def fn(a,b):\n",
    "    print('a=',a)\n",
    "    print('b=',b)\n",
    "    print('='*20)\n",
    "    return a+b"
   ]
  },
  {
   "cell_type": "code",
   "execution_count": 61,
   "id": "c89c92e9-9d22-47cd-a017-0539f86d0718",
   "metadata": {},
   "outputs": [
    {
     "name": "stderr",
     "output_type": "stream",
     "text": [
      "a= 10\n",
      "b= 20\n",
      "====================\n",
      "a= 30\n",
      "b= 30\n",
      "====================\n",
      "a= 60\n",
      "b= 40\n",
      "====================\n",
      "a= 100\n",
      "b= 50\n",
      "====================\n",
      "a= 150\n",
      "b= 60\n",
      "====================\n"
     ]
    },
    {
     "data": {
      "text/plain": [
       "210"
      ]
     },
     "execution_count": 61,
     "metadata": {},
     "output_type": "execute_result"
    }
   ],
   "source": [
    "# 누적합\n",
    "result = myrdd.reduce(fn)\n",
    "result"
   ]
  },
  {
   "cell_type": "code",
   "execution_count": null,
   "id": "814ab337-b414-480c-a6a4-ad85780a2856",
   "metadata": {},
   "outputs": [],
   "source": [
    "[10, 20, 30, 40, 50, 60]"
   ]
  },
  {
   "cell_type": "code",
   "execution_count": 63,
   "id": "bea24dd2-acc0-4236-8db3-20890861e89e",
   "metadata": {},
   "outputs": [
    {
     "data": {
      "text/plain": [
       "210"
      ]
     },
     "execution_count": 63,
     "metadata": {},
     "output_type": "execute_result"
    }
   ],
   "source": [
    "# 누적합 lambda\n",
    "result = myrdd.reduce(lambda a,b:a+b)\n",
    "result"
   ]
  },
  {
   "cell_type": "code",
   "execution_count": 64,
   "id": "f60d548c-7281-4ef6-bb4a-671949cb4c02",
   "metadata": {},
   "outputs": [],
   "source": [
    "sc.stop()"
   ]
  },
  {
   "cell_type": "code",
   "execution_count": null,
   "id": "20627d9b-b540-4577-a096-c63bfe627f2b",
   "metadata": {},
   "outputs": [],
   "source": []
  }
 ],
 "metadata": {
  "kernelspec": {
   "display_name": "Python 3 (ipykernel)",
   "language": "python",
   "name": "python3"
  },
  "language_info": {
   "codemirror_mode": {
    "name": "ipython",
    "version": 3
   },
   "file_extension": ".py",
   "mimetype": "text/x-python",
   "name": "python",
   "nbconvert_exporter": "python",
   "pygments_lexer": "ipython3",
   "version": "3.9.12"
  }
 },
 "nbformat": 4,
 "nbformat_minor": 5
}
