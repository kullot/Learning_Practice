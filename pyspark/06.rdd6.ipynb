{
 "cells": [
  {
   "cell_type": "code",
   "execution_count": 28,
   "id": "a88c8099-fd99-4f79-8738-dc8ac02889ec",
   "metadata": {},
   "outputs": [],
   "source": [
    "from pyspark import SparkContext\n",
    "import numpy as np\n",
    "import pandas as pd"
   ]
  },
  {
   "cell_type": "code",
   "execution_count": 31,
   "id": "9f94d03e-29e7-4bc2-8a66-71c8d4c884e4",
   "metadata": {
    "tags": []
   },
   "outputs": [],
   "source": [
    "sc = SparkContext('local')"
   ]
  },
  {
   "cell_type": "code",
   "execution_count": 32,
   "id": "298ba53b-e5de-41db-990b-aa45e0346302",
   "metadata": {},
   "outputs": [],
   "source": [
    "txtRdd = sc.textFile('./data/births.txt')"
   ]
  },
  {
   "cell_type": "code",
   "execution_count": 33,
   "id": "ab1afed8-8f5d-44ca-9f0a-2cd4db979c1c",
   "metadata": {},
   "outputs": [],
   "source": [
    "empList=['1,kim,000-000-000','2,lee,111-111-111',\n",
    "       '3,park,222-222-222','4,song,333-333-333',\n",
    "       '5,han,555-555-555','6,yoon,666-666-666']\n",
    "deptList = ['1,sale','2,developer','3,manager',\n",
    "           '4,sale1','5,developer1','6,manager1']"
   ]
  },
  {
   "cell_type": "code",
   "execution_count": 34,
   "id": "705cf576-4dd3-4bfa-8bfb-0e2f51955fe4",
   "metadata": {},
   "outputs": [],
   "source": [
    "empRdd = sc.parallelize(empList)\n",
    "deptRdd = sc.parallelize(deptList)"
   ]
  },
  {
   "cell_type": "code",
   "execution_count": 35,
   "id": "e04ddd65-9b0b-4775-9730-7d96be63f8b3",
   "metadata": {},
   "outputs": [
    {
     "data": {
      "text/plain": [
       "['1,kim,000-000-000',\n",
       " '2,lee,111-111-111',\n",
       " '3,park,222-222-222',\n",
       " '4,song,333-333-333',\n",
       " '5,han,555-555-555',\n",
       " '6,yoon,666-666-666']"
      ]
     },
     "execution_count": 35,
     "metadata": {},
     "output_type": "execute_result"
    }
   ],
   "source": [
    "empRdd.collect()"
   ]
  },
  {
   "cell_type": "code",
   "execution_count": 36,
   "id": "2ce11bb8-8c73-494a-b608-58e1268dec40",
   "metadata": {},
   "outputs": [
    {
     "data": {
      "text/plain": [
       "['1,sale', '2,developer', '3,manager', '4,sale1', '5,developer1', '6,manager1']"
      ]
     },
     "execution_count": 36,
     "metadata": {},
     "output_type": "execute_result"
    }
   ],
   "source": [
    "deptRdd.collect()"
   ]
  },
  {
   "cell_type": "code",
   "execution_count": 48,
   "id": "b1a107b2-3bb2-4105-953d-1832af4c35ce",
   "metadata": {},
   "outputs": [
    {
     "data": {
      "text/plain": [
       "[['1', 'kim', '000-000-000'],\n",
       " ['2', 'lee', '111-111-111'],\n",
       " ['3', 'park', '222-222-222'],\n",
       " ['4', 'song', '333-333-333'],\n",
       " ['5', 'han', '555-555-555'],\n",
       " ['6', 'yoon', '666-666-666']]"
      ]
     },
     "execution_count": 48,
     "metadata": {},
     "output_type": "execute_result"
    }
   ],
   "source": [
    "empRdd1 = empRdd.map(lambda v:v.split(','))\n",
    "empRdd1.collect()"
   ]
  },
  {
   "cell_type": "code",
   "execution_count": 49,
   "id": "e01067cc-0553-4690-9d4c-e397b4fd2b54",
   "metadata": {},
   "outputs": [
    {
     "data": {
      "text/plain": [
       "[(1, 'kim 000-000-000'),\n",
       " (2, 'lee 111-111-111'),\n",
       " (3, 'park 222-222-222'),\n",
       " (4, 'song 333-333-333'),\n",
       " (5, 'han 555-555-555'),\n",
       " (6, 'yoon 666-666-666')]"
      ]
     },
     "execution_count": 49,
     "metadata": {},
     "output_type": "execute_result"
    }
   ],
   "source": [
    "empRdd2 = empRdd1.map(lambda v:(int(v[0]),v[1]+' '+v[2]))\n",
    "empRdd2.collect()"
   ]
  },
  {
   "cell_type": "code",
   "execution_count": 53,
   "id": "c0a5480b-fe15-4067-9d2e-1d2f5350779c",
   "metadata": {},
   "outputs": [
    {
     "data": {
      "text/plain": [
       "[(1, 'sale'),\n",
       " (2, 'developer'),\n",
       " (3, 'manager'),\n",
       " (4, 'sale1'),\n",
       " (5, 'developer1'),\n",
       " (6, 'manager1')]"
      ]
     },
     "execution_count": 53,
     "metadata": {},
     "output_type": "execute_result"
    }
   ],
   "source": [
    "deptRdd1 = deptRdd.map( lambda v:v.split(',')).map( lambda v:( int(v[0]),v[1]) )\n",
    "deptRdd1.collect()"
   ]
  },
  {
   "cell_type": "code",
   "execution_count": 54,
   "id": "3fb083b1-5de5-43d4-86ee-cbd8c4b78c7b",
   "metadata": {},
   "outputs": [
    {
     "data": {
      "text/plain": [
       "[(2, ('lee 111-111-111', 'developer')),\n",
       " (4, ('song 333-333-333', 'sale1')),\n",
       " (6, ('yoon 666-666-666', 'manager1')),\n",
       " (1, ('kim 000-000-000', 'sale')),\n",
       " (3, ('park 222-222-222', 'manager')),\n",
       " (5, ('han 555-555-555', 'developer1'))]"
      ]
     },
     "execution_count": 54,
     "metadata": {},
     "output_type": "execute_result"
    }
   ],
   "source": [
    "joinRdd = empRdd2.join( deptRdd1 )\n",
    "joinRdd.collect()"
   ]
  },
  {
   "cell_type": "code",
   "execution_count": 55,
   "id": "f41db428-246a-44b9-900e-8794b3e92b8e",
   "metadata": {},
   "outputs": [
    {
     "data": {
      "text/plain": [
       "[(1, ('kim 000-000-000', 'sale')),\n",
       " (2, ('lee 111-111-111', 'developer')),\n",
       " (3, ('park 222-222-222', 'manager')),\n",
       " (4, ('song 333-333-333', 'sale1')),\n",
       " (5, ('han 555-555-555', 'developer1')),\n",
       " (6, ('yoon 666-666-666', 'manager1'))]"
      ]
     },
     "execution_count": 55,
     "metadata": {},
     "output_type": "execute_result"
    }
   ],
   "source": [
    "sortRdd = joinRdd.sortByKey()\n",
    "sortRdd.collect()"
   ]
  },
  {
   "cell_type": "code",
   "execution_count": 56,
   "id": "d987589e-6715-450e-8da4-206d898808e6",
   "metadata": {},
   "outputs": [
    {
     "data": {
      "text/plain": [
       "[(4, ('song 333-333-333', 'sale1')),\n",
       " (5, ('han 555-555-555', 'developer1')),\n",
       " (6, ('yoon 666-666-666', 'manager1'))]"
      ]
     },
     "execution_count": 56,
     "metadata": {},
     "output_type": "execute_result"
    }
   ],
   "source": [
    "fRdd = sortRdd.filter(lambda v:v[0]>=4 )\n",
    "fRdd.collect()"
   ]
  },
  {
   "cell_type": "code",
   "execution_count": null,
   "id": "a1370625-a36b-420f-831e-635fa7f86190",
   "metadata": {},
   "outputs": [],
   "source": []
  }
 ],
 "metadata": {
  "kernelspec": {
   "display_name": "Python 3 (ipykernel)",
   "language": "python",
   "name": "python3"
  },
  "language_info": {
   "codemirror_mode": {
    "name": "ipython",
    "version": 3
   },
   "file_extension": ".py",
   "mimetype": "text/x-python",
   "name": "python",
   "nbconvert_exporter": "python",
   "pygments_lexer": "ipython3",
   "version": "3.9.12"
  }
 },
 "nbformat": 4,
 "nbformat_minor": 5
}
