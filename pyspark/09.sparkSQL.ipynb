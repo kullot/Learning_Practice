{
 "cells": [
  {
   "cell_type": "code",
   "execution_count": 1,
   "id": "d6949a5b-f94f-467c-a6a7-a529a5ff37a1",
   "metadata": {},
   "outputs": [],
   "source": [
    "from pyspark import SparkContext\n",
    "from pyspark.sql import SQLContext, Row\n",
    "import pandas as pd"
   ]
  },
  {
   "cell_type": "code",
   "execution_count": 2,
   "id": "1f26991e-0577-44b0-b334-bc61fc8f95df",
   "metadata": {
    "tags": []
   },
   "outputs": [
    {
     "name": "stderr",
     "output_type": "stream",
     "text": [
      "22/07/28 09:46:12 WARN NativeCodeLoader: Unable to load native-hadoop library for your platform... using builtin-java classes where applicable\n",
      "Using Spark's default log4j profile: org/apache/spark/log4j-defaults.properties\n",
      "Setting default log level to \"WARN\".\n",
      "To adjust logging level use sc.setLogLevel(newLevel). For SparkR, use setLogLevel(newLevel).\n",
      "22/07/28 09:46:13 WARN Utils: Service 'SparkUI' could not bind on port 4040. Attempting port 4041.\n"
     ]
    }
   ],
   "source": [
    "sc = SparkContext('local')\n",
    "sqlCtx = SQLContext(sc)"
   ]
  },
  {
   "cell_type": "code",
   "execution_count": 4,
   "id": "1a2c5e43-2a9a-4257-bcd2-4c0f1568097b",
   "metadata": {},
   "outputs": [
    {
     "name": "stdout",
     "output_type": "stream",
     "text": [
      "+-----+----+-----+----+----+\n",
      "| 학년|과목| 결과|중간|기말|\n",
      "+-----+----+-----+----+----+\n",
      "|1학년|국어| 좋음|  80|  90|\n",
      "|1학년|국어| 나쁨|  50|  40|\n",
      "|1학년|국어| 나쁨|  20|  50|\n",
      "|1학년|수학| 좋음|  83|  95|\n",
      "|1학년|수학| 좋음|  93|  86|\n",
      "|2학년|국어| 나쁨|  44|  65|\n",
      "|2학년|국어| 좋음|  95|  98|\n",
      "|2학년|수학| 좋음|  96|  99|\n",
      "|2학년|수학| 나쁨|  57|  69|\n",
      "+-----+----+-----+----+----+\n",
      "\n"
     ]
    }
   ],
   "source": [
    "gradeDF = sqlCtx.read.csv('data/grade.csv', header=True, inferSchema=True)\n",
    "gradeDF.show()"
   ]
  },
  {
   "cell_type": "code",
   "execution_count": 5,
   "id": "fc4bcc80-b39b-46e6-a545-b8ffff5c3760",
   "metadata": {},
   "outputs": [
    {
     "name": "stdout",
     "output_type": "stream",
     "text": [
      "root\n",
      " |-- 학년: string (nullable = true)\n",
      " |-- 과목: string (nullable = true)\n",
      " |-- 결과: string (nullable = true)\n",
      " |-- 중간: integer (nullable = true)\n",
      " |-- 기말: integer (nullable = true)\n",
      "\n"
     ]
    }
   ],
   "source": [
    "gradeDF.printSchema()"
   ]
  },
  {
   "cell_type": "code",
   "execution_count": 7,
   "id": "3e52d0e9-9122-43f7-bb5b-81f96db94ca3",
   "metadata": {},
   "outputs": [],
   "source": [
    "# spark sql : hive ql 의 sql문법과 함수를 따른다\n",
    "# 표준 sql : https://www.w3schools.com/sql/\n",
    "# spark sql 함수 : https://rfriend.tistory.com/213\n",
    "# hive :　https://cwiki.apache.org/confluence/display/hive/languagemanual+udf"
   ]
  },
  {
   "cell_type": "markdown",
   "id": "db761623-e348-42c9-ac4e-6d24a9e81dc9",
   "metadata": {},
   "source": [
    "### hive sql　함수"
   ]
  },
  {
   "cell_type": "code",
   "execution_count": 8,
   "id": "2a69e9d2-5fcf-4e9e-a93a-ccf0305acf9e",
   "metadata": {},
   "outputs": [],
   "source": [
    "gradeDF.createOrReplaceTempView('gradetable')"
   ]
  },
  {
   "cell_type": "code",
   "execution_count": 9,
   "id": "5825ca16-5a53-43b0-9cdc-39dc8c77cbe2",
   "metadata": {},
   "outputs": [
    {
     "name": "stdout",
     "output_type": "stream",
     "text": [
      "+-----+----+-----+----+----+\n",
      "| 학년|과목| 결과|중간|기말|\n",
      "+-----+----+-----+----+----+\n",
      "|1학년|국어| 좋음|  80|  90|\n",
      "|1학년|국어| 나쁨|  50|  40|\n",
      "|1학년|국어| 나쁨|  20|  50|\n",
      "|1학년|수학| 좋음|  83|  95|\n",
      "|1학년|수학| 좋음|  93|  86|\n",
      "|2학년|국어| 나쁨|  44|  65|\n",
      "|2학년|국어| 좋음|  95|  98|\n",
      "|2학년|수학| 좋음|  96|  99|\n",
      "|2학년|수학| 나쁨|  57|  69|\n",
      "+-----+----+-----+----+----+\n",
      "\n"
     ]
    }
   ],
   "source": [
    "sql = 'select * from gradetable'\n",
    "gradeDF = sqlCtx.sql(sql)\n",
    "gradeDF.show()"
   ]
  },
  {
   "cell_type": "code",
   "execution_count": null,
   "id": "d645b270-e0d5-41b3-a0fe-770c0a4e8d7a",
   "metadata": {},
   "outputs": [],
   "source": []
  }
 ],
 "metadata": {
  "kernelspec": {
   "display_name": "Python 3 (ipykernel)",
   "language": "python",
   "name": "python3"
  },
  "language_info": {
   "codemirror_mode": {
    "name": "ipython",
    "version": 3
   },
   "file_extension": ".py",
   "mimetype": "text/x-python",
   "name": "python",
   "nbconvert_exporter": "python",
   "pygments_lexer": "ipython3",
   "version": "3.9.12"
  }
 },
 "nbformat": 4,
 "nbformat_minor": 5
}
