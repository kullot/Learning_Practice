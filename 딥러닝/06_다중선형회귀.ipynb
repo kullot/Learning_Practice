{
 "cells": [
  {
   "cell_type": "code",
   "execution_count": 1,
   "id": "afbd795e-3214-41c7-8c71-611c6b6a9c9c",
   "metadata": {
    "execution": {
     "iopub.execute_input": "2022-08-02T05:11:19.238283Z",
     "iopub.status.busy": "2022-08-02T05:11:19.238283Z",
     "iopub.status.idle": "2022-08-02T05:11:24.211506Z",
     "shell.execute_reply": "2022-08-02T05:11:24.211506Z",
     "shell.execute_reply.started": "2022-08-02T05:11:19.238283Z"
    }
   },
   "outputs": [],
   "source": [
    "# 기본\n",
    "import pandas as pd\n",
    "import numpy as np\n",
    "import matplotlib.pyplot as plt\n",
    "import seaborn as sns\n",
    "\n",
    "# 경고 뜨지 않게...\n",
    "import warnings\n",
    "warnings.filterwarnings('ignore')\n",
    "\n",
    "# 출력한 내용 청소\n",
    "from IPython.display import clear_output\n",
    "\n",
    "# 그래프 설정\n",
    "plt.rcParams['font.family'] = 'Malgun Gothic'\n",
    "# plt.rcParams['font.family'] = 'AppleGothic'\n",
    "plt.rcParams['font.size'] = 16\n",
    "plt.rcParams['figure.figsize'] = 20, 10\n",
    "plt.rcParams['axes.unicode_minus'] = False\n",
    "\n",
    "# 랜덤 모듈\n",
    "import random\n",
    "\n",
    "# 학습 모델 저장 및 복원\n",
    "import pickle\n",
    "\n",
    "# 딥러닝 라이브러리\n",
    "import tensorflow as tf\n",
    "from tensorflow.keras.models import Sequential\n",
    "from tensorflow.keras.layers import Dense\n",
    "from tensorflow.keras.layers import Activation\n",
    "\n",
    "# 평가함수\n",
    "# 분류용\n",
    "from sklearn.metrics import accuracy_score\n",
    "from sklearn.metrics import precision_score\n",
    "from sklearn.metrics import recall_score\n",
    "from sklearn.metrics import f1_score\n",
    "from sklearn.metrics import roc_auc_score\n",
    "\n",
    "# 회귀용\n",
    "from sklearn.metrics import r2_score\n",
    "from sklearn.metrics import mean_squared_error\n",
    "\n",
    "# 랜덤시드 설정\n",
    "# 데이터를 랜덤하게 섞거나 가중치를 랜덤하게 설정하는 등..\n",
    "# 작업에서 랜덤을 적용하는 경우가 더러 있다.\n",
    "# 이에, 시드를 고정시킨다.\n",
    "random_seed = 1\n",
    "np.random.seed(random_seed)\n",
    "random.seed(random_seed)\n",
    "tf.random.set_seed(random_seed)\n",
    "\n",
    "# 현재 프로젝트에서 GPU 메모리 사용을 필요한 만큼만 쓸 수 있도록 한다.\n",
    "# 컴퓨터에 있는 GPU 정보들을 가져온다.\n",
    "\n",
    "gpus = tf.config.experimental.list_physical_devices('GPU')\n",
    "# gpu가 있다면...\n",
    "if len(gpus) > 0 :\n",
    "    try :\n",
    "        for gpu in gpus :\n",
    "            tf.config.experimental.set_memory_growth(gpu, True)\n",
    "    except RuntimeError as e :\n",
    "        print(e)"
   ]
  },
  {
   "cell_type": "markdown",
   "id": "4ea094ca-9ddc-4391-a72f-108bcb7bf1b6",
   "metadata": {
    "execution": {
     "iopub.execute_input": "2022-08-02T05:13:24.654160Z",
     "iopub.status.busy": "2022-08-02T05:13:24.654160Z",
     "iopub.status.idle": "2022-08-02T05:13:24.674105Z",
     "shell.execute_reply": "2022-08-02T05:13:24.672111Z",
     "shell.execute_reply.started": "2022-08-02T05:13:24.654160Z"
    }
   },
   "source": [
    "### 다중선형회귀\n",
    "- 학습 데이터의 컬럼이 하나가 아니라 다수가 존재할 수 있다.\n",
    "- 이 때문에 최소 제곱법을 사용하는 것이 아닌 경사 하강법을 이용하여 기울기와 절편을 찾게 된다.\n",
    "- 컬럼의 개수 만큼 기울기를 구해야 한다.\n",
    "- 머신러닝에서는 기울기를 가중치로, 절편은 바이어스 라는 용어로 부른다.\n",
    "- 만약 컬럼이 1개라면\n",
    "- y = ax + b\n",
    "- 만약 컬럼이 2개라면\n",
    "- y = a1x1 + a2x2 + b"
   ]
  },
  {
   "cell_type": "code",
   "execution_count": 23,
   "id": "4c77ec7c-404f-4216-b6a3-6e2a062d1c75",
   "metadata": {
    "execution": {
     "iopub.execute_input": "2022-08-02T05:39:36.493479Z",
     "iopub.status.busy": "2022-08-02T05:39:36.493479Z",
     "iopub.status.idle": "2022-08-02T05:39:36.513427Z",
     "shell.execute_reply": "2022-08-02T05:39:36.512428Z",
     "shell.execute_reply.started": "2022-08-02T05:39:36.493479Z"
    },
    "tags": []
   },
   "outputs": [],
   "source": [
    "# 학습할 데이터\n",
    "공부한시간 = [2, 4, 6, 8]\n",
    "과외횟수 = [0, 4, 2, 3]\n",
    "성적 = [81, 93, 91, 97]"
   ]
  },
  {
   "cell_type": "code",
   "execution_count": 24,
   "id": "9a1333c7-cd86-4e96-9662-599e24119a56",
   "metadata": {
    "execution": {
     "iopub.execute_input": "2022-08-02T05:39:36.687943Z",
     "iopub.status.busy": "2022-08-02T05:39:36.687943Z",
     "iopub.status.idle": "2022-08-02T05:39:36.700914Z",
     "shell.execute_reply": "2022-08-02T05:39:36.698914Z",
     "shell.execute_reply.started": "2022-08-02T05:39:36.687943Z"
    },
    "tags": []
   },
   "outputs": [],
   "source": [
    "# 계산을 용이하게 하기 위해 ndarray를 생성한다.\n",
    "x1_data = np.array(공부한시간)\n",
    "x2_data = np.array(과외횟수)\n",
    "y_data = np.array(성적)"
   ]
  },
  {
   "cell_type": "code",
   "execution_count": 25,
   "id": "3d43b875-3c85-4e7b-9003-00b052b01d0f",
   "metadata": {
    "execution": {
     "iopub.execute_input": "2022-08-02T05:39:36.865604Z",
     "iopub.status.busy": "2022-08-02T05:39:36.865604Z",
     "iopub.status.idle": "2022-08-02T05:39:36.871586Z",
     "shell.execute_reply": "2022-08-02T05:39:36.871586Z",
     "shell.execute_reply.started": "2022-08-02T05:39:36.865604Z"
    },
    "tags": []
   },
   "outputs": [],
   "source": [
    "# 가중치\n",
    "a1 = 0\n",
    "a2 = 0\n",
    "# 바이어스\n",
    "b = 0"
   ]
  },
  {
   "cell_type": "code",
   "execution_count": 26,
   "id": "3e482733-c03a-42c1-9886-833ad77e56ff",
   "metadata": {
    "execution": {
     "iopub.execute_input": "2022-08-02T05:39:37.221051Z",
     "iopub.status.busy": "2022-08-02T05:39:37.220055Z",
     "iopub.status.idle": "2022-08-02T05:39:37.239004Z",
     "shell.execute_reply": "2022-08-02T05:39:37.237009Z",
     "shell.execute_reply.started": "2022-08-02T05:39:37.221051Z"
    },
    "tags": []
   },
   "outputs": [],
   "source": [
    "# 학습률\n",
    "lr = 0.001"
   ]
  },
  {
   "cell_type": "code",
   "execution_count": 27,
   "id": "c574cb18-b810-48c3-8572-56a5a0172b6f",
   "metadata": {
    "execution": {
     "iopub.execute_input": "2022-08-02T05:39:38.196207Z",
     "iopub.status.busy": "2022-08-02T05:39:38.196207Z",
     "iopub.status.idle": "2022-08-02T05:39:38.205186Z",
     "shell.execute_reply": "2022-08-02T05:39:38.204186Z",
     "shell.execute_reply.started": "2022-08-02T05:39:38.196207Z"
    },
    "tags": []
   },
   "outputs": [],
   "source": [
    "# 학습 횟수\n",
    "epochs = 50000"
   ]
  },
  {
   "cell_type": "code",
   "execution_count": 28,
   "id": "26381bae-dbbb-43db-90d8-03e9435ab2fe",
   "metadata": {
    "execution": {
     "iopub.execute_input": "2022-08-02T05:39:45.385512Z",
     "iopub.status.busy": "2022-08-02T05:39:45.384519Z",
     "iopub.status.idle": "2022-08-02T05:40:54.133674Z",
     "shell.execute_reply": "2022-08-02T05:40:54.133674Z",
     "shell.execute_reply.started": "2022-08-02T05:39:45.385512Z"
    },
    "tags": []
   },
   "outputs": [
    {
     "data": {
      "image/png": "[encoded data removed]",
      "text/plain": [
       "<Figure size 1440x720 with 1 Axes>"
      ]
     },
     "metadata": {
      "needs_background": "light"
     },
     "output_type": "display_data"
    }
   ],
   "source": [
    "# 학습한다.\n",
    "# 학습 횟수 만큼 반복한다.\n",
    "for i in range(epochs):\n",
    "    # 현재의 기울기와 절편을 이용해 예측 결과를 가져온다.\n",
    "    y_pred = (a1 * x1_data) + (a2 * x2_data) + b\n",
    "    # print(y_pred)\n",
    "    \n",
    "    # 오차를 구한다\n",
    "    error = y_data - y_pred\n",
    "    # print(error)\n",
    "    \n",
    "    # 가중치값을 미분한다.\n",
    "    a1_diff = -(2 / len(x1_data)) * sum(x1_data * error)\n",
    "    a2_diff = -(2 / len(x2_data)) * sum(x2_data * error)\n",
    "    #바이어스를 미분한다.\n",
    "    b_diff = -(2 / len(x1_data)) * sum(error)\n",
    "    # print(a1_diff, a2_diff, b_diff)\n",
    "    \n",
    "    # 가중치와 바이어스를 업데이트 한다.\n",
    "    a1 = a1 - (lr * a1_diff)\n",
    "    a2 = a2 - (lr * a2_diff)\n",
    "    b = b - (lr * b_diff)\n",
    "    # print(a1, a2, b)\n",
    "    \n",
    "    if i % 100 == 0 :\n",
    "        clear_output(wait=True)\n",
    "        \n",
    "        # print(f'epoch : {i}, 기울기1 : {a1}, 기울기2 : {a2}, 바이어스 : {b}')\n",
    "        \n",
    "        \n",
    "        # x축 데이터\n",
    "        temp = list(range(len(공부한시간)))\n",
    "        \n",
    "        plt.scatter(temp, 성적, label='원본')\n",
    "        plt.scatter(temp, y_pred, label='예측')\n",
    "        plt.plot(temp, y_pred)\n",
    "        plt.ylim(80, 120)\n",
    "        plt.show()"
   ]
  },
  {
   "cell_type": "code",
   "execution_count": 21,
   "id": "3a92067f-741f-468b-bd2b-e9609dbf997d",
   "metadata": {
    "execution": {
     "iopub.execute_input": "2022-08-02T05:38:42.818394Z",
     "iopub.status.busy": "2022-08-02T05:38:42.818394Z",
     "iopub.status.idle": "2022-08-02T05:38:42.835342Z",
     "shell.execute_reply": "2022-08-02T05:38:42.833356Z",
     "shell.execute_reply.started": "2022-08-02T05:38:42.818394Z"
    },
    "tags": []
   },
   "outputs": [
    {
     "data": {
      "text/plain": [
       "array([80.85713595, 92.99999789, 91.42857118, 96.7142888 ])"
      ]
     },
     "execution_count": 21,
     "metadata": {},
     "output_type": "execute_result"
    }
   ],
   "source": [
    "# 결과를 예측한다.\n",
    "y_pred = (a1 * x1_data) + (a2 * x2_data) + b\n",
    "y_pred"
   ]
  },
  {
   "cell_type": "code",
   "execution_count": 22,
   "id": "9d0f42c5-a91c-442b-84a0-220c928af977",
   "metadata": {
    "execution": {
     "iopub.execute_input": "2022-08-02T05:38:46.669513Z",
     "iopub.status.busy": "2022-08-02T05:38:46.668516Z",
     "iopub.status.idle": "2022-08-02T05:38:46.687469Z",
     "shell.execute_reply": "2022-08-02T05:38:46.685471Z",
     "shell.execute_reply.started": "2022-08-02T05:38:46.669513Z"
    },
    "tags": []
   },
   "outputs": [
    {
     "data": {
      "text/plain": [
       "[81, 93, 91, 97]"
      ]
     },
     "execution_count": 22,
     "metadata": {},
     "output_type": "execute_result"
    }
   ],
   "source": [
    "성적"
   ]
  },
  {
   "cell_type": "code",
   "execution_count": null,
   "id": "7e2596f7-b30e-4cd2-9de1-0cf25de61a35",
   "metadata": {},
   "outputs": [],
   "source": []
  }
 ],
 "metadata": {
  "kernelspec": {
   "display_name": "Python 3 (ipykernel)",
   "language": "python",
   "name": "python3"
  },
  "language_info": {
   "codemirror_mode": {
    "name": "ipython",
    "version": 3
   },
   "file_extension": ".py",
   "mimetype": "text/x-python",
   "name": "python",
   "nbconvert_exporter": "python",
   "pygments_lexer": "ipython3",
   "version": "3.9.12"
  }
 },
 "nbformat": 4,
 "nbformat_minor": 5
}
