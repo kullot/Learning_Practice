{
 "cells": [
  {
   "cell_type": "code",
   "execution_count": 1,
   "id": "9f88b18b-ea50-4e85-8d1b-d32debc4caa6",
   "metadata": {
    "execution": {
     "iopub.execute_input": "2022-08-10T00:12:22.946545Z",
     "iopub.status.busy": "2022-08-10T00:12:22.946545Z",
     "iopub.status.idle": "2022-08-10T00:12:31.260990Z",
     "shell.execute_reply": "2022-08-10T00:12:31.260990Z",
     "shell.execute_reply.started": "2022-08-10T00:12:22.946545Z"
    },
    "tags": []
   },
   "outputs": [],
   "source": [
    "# 기본\n",
    "import pandas as pd\n",
    "import numpy as np\n",
    "import matplotlib.pyplot as plt\n",
    "import seaborn as sns\n",
    "\n",
    "import os\n",
    "import shutil\n",
    "\n",
    "# 경고 뜨지 않게...\n",
    "import warnings\n",
    "warnings.filterwarnings('ignore')\n",
    "\n",
    "# 그래프 설정\n",
    "plt.rcParams['font.family'] = 'Malgun Gothic'\n",
    "# plt.rcParams['font.family'] = 'AppleGothic'\n",
    "plt.rcParams['font.size'] = 16\n",
    "plt.rcParams['figure.figsize'] = 20, 10\n",
    "plt.rcParams['axes.unicode_minus'] = False\n",
    "# 매직명령어 => 쥬피터노트북에서 그래프 삽입 기능 \n",
    "%matplotlib inline\n",
    "# 글꼴 선명화 \n",
    "%config InlineBackend.figure_format = 'retina'\n",
    "\n",
    "# 랜덤 모듈\n",
    "import random\n",
    "\n",
    "# 학습 모델 저장 및 복원\n",
    "import pickle\n",
    "\n",
    "# 딥러닝 라이브러리\n",
    "import tensorflow as tf\n",
    "# 신경망 모델을 관리하는 객체\n",
    "from tensorflow.keras.models import Sequential\n",
    "# 선형 회귀 레이어\n",
    "from tensorflow.keras.layers import Dense\n",
    "# 활성화 함수를 정의하는 객체\n",
    "from tensorflow.keras.layers import Activation\n",
    "\n",
    "# CNN : 커널을 통해 합성곱을 구하는 것. 이미지의 특징이 두드러 지게 한다.\n",
    "from tensorflow.keras.layers import Conv2D\n",
    "from tensorflow.keras.layers import Conv1D\n",
    "\n",
    "# MaxPooling : 커널내에서 가장 큰 값을 추출하는 방식으로 불필요한 부분을 제거한다.\n",
    "from tensorflow.keras.layers import MaxPool2D\n",
    "from tensorflow.keras.layers import MaxPool1D\n",
    "\n",
    "# 1차원으로 변환하는 것\n",
    "from tensorflow.keras.layers import Flatten\n",
    "\n",
    "# Dropout : 이미자나 영상, 음파 등의 데이터는 오랫동안 학습을 진행 시켜야 한다.\n",
    "# 하지만 너무 빨리 과적합이 발생되면 조기 중단 때문에 학습 횟수가 줄어들 수 있다.\n",
    "# 이에 은닉의 노드를 일부 사용하지 않으므로써 과적합이 빨리 오는 것을 예방하고\n",
    "# 오랫동안 학습이 가능하다.\n",
    "from tensorflow.keras.layers import Dropout\n",
    "\n",
    "# Embadding : 단어의 수를 조정한다.\n",
    "from tensorflow.keras.layers import Embedding\n",
    "\n",
    "# 원핫 인코딩을 수행하는 함수\n",
    "from tensorflow.keras.utils import to_categorical\n",
    "\n",
    "# 저장된 학습모델을 복원한다.\n",
    "from tensorflow.keras.models import load_model\n",
    "\n",
    "# 모델을 자동 저장한다.\n",
    "from tensorflow.keras.callbacks import ModelCheckpoint\n",
    "# 성능이 더이상 좋아지지 않을 경우 중단 시킨다.\n",
    "from tensorflow.keras.callbacks import EarlyStopping, TensorBoard\n",
    "\n",
    "# 문장을 잘라준다.\n",
    "from tensorflow.keras.preprocessing.text import Tokenizer\n",
    "# 모든 문장 데이터의 단어 데이터의 수를 동일한 수로 맞춰준다.\n",
    "from tensorflow.keras.preprocessing.sequence import pad_sequences\n",
    "# 문자열을 가지고 단어 사전을 만들어준다.\n",
    "from tensorflow.keras.preprocessing.text import text_to_word_sequence\n",
    "\n",
    "# 평가함수\n",
    "# 분류용\n",
    "from sklearn.metrics import accuracy_score\n",
    "from sklearn.metrics import precision_score\n",
    "from sklearn.metrics import recall_score\n",
    "from sklearn.metrics import f1_score\n",
    "from sklearn.metrics import roc_auc_score\n",
    "\n",
    "# 회귀용\n",
    "from sklearn.metrics import r2_score\n",
    "from sklearn.metrics import mean_squared_error\n",
    "\n",
    "# 표준화\n",
    "from sklearn.preprocessing import StandardScaler\n",
    "from sklearn.preprocessing import MinMaxScaler\n",
    "# 문자열 => 숫자\n",
    "from sklearn.preprocessing import LabelEncoder\n",
    "\n",
    "# 전체데이터를 학습용과 검증으로 나눈다.\n",
    "from sklearn.model_selection import train_test_split\n",
    "\n",
    "# 랜덤시드 설정\n",
    "# 데이터를 랜덤하게 섞거나 가중치를 랜덤하게 설정하는 등..\n",
    "# 작업에서 랜덤을 적용하는 경우가 더러 있다.\n",
    "# 이에, 시드를 고정시킨다.\n",
    "random_seed = 1\n",
    "np.random.seed(random_seed)\n",
    "random.seed(random_seed)\n",
    "tf.random.set_seed(random_seed)\n",
    "\n",
    "# 현재 프로젝트에서 GPU 메모리 사용을 필요한 만큼만 쓸 수 있도록 한다.\n",
    "# 컴퓨터에 있는 GPU 정보들을 가져온다.\n",
    "\n",
    "gpus = tf.config.experimental.list_physical_devices('GPU')\n",
    "# gpu가 있다면...\n",
    "if len(gpus) > 0 :\n",
    "    try :\n",
    "        for gpu in gpus :\n",
    "            tf.config.experimental.set_memory_growth(gpu, True)\n",
    "    except RuntimeError as e :\n",
    "        print(e)"
   ]
  },
  {
   "cell_type": "markdown",
   "id": "efb9a391-3d9d-449c-a1c0-3e3c95613d79",
   "metadata": {},
   "source": [
    "### 문장 자르기"
   ]
  },
  {
   "cell_type": "code",
   "execution_count": 2,
   "id": "6812d893-d068-441a-b6be-e76bacec53f9",
   "metadata": {
    "execution": {
     "iopub.execute_input": "2022-08-10T00:12:31.261985Z",
     "iopub.status.busy": "2022-08-10T00:12:31.261985Z",
     "iopub.status.idle": "2022-08-10T00:12:31.276954Z",
     "shell.execute_reply": "2022-08-10T00:12:31.276954Z",
     "shell.execute_reply.started": "2022-08-10T00:12:31.261985Z"
    }
   },
   "outputs": [],
   "source": [
    "# 테스트 문자열\n",
    "text = '해보지 않으면 해낼 수 없다'"
   ]
  },
  {
   "cell_type": "code",
   "execution_count": 3,
   "id": "1ff52a96-0222-4d15-91a0-f5b50ab49366",
   "metadata": {
    "execution": {
     "iopub.execute_input": "2022-08-10T00:12:31.278946Z",
     "iopub.status.busy": "2022-08-10T00:12:31.278946Z",
     "iopub.status.idle": "2022-08-10T00:12:31.292908Z",
     "shell.execute_reply": "2022-08-10T00:12:31.292908Z",
     "shell.execute_reply.started": "2022-08-10T00:12:31.278946Z"
    }
   },
   "outputs": [
    {
     "name": "stdout",
     "output_type": "stream",
     "text": [
      "원본 : 해보지 않으면 해낼 수 없다\n",
      "토큰화 : ['해보지', '않으면', '해낼', '수', '없다']\n"
     ]
    }
   ],
   "source": [
    "# 주어진 문자열을 토큰화 한다.\n",
    "result = text_to_word_sequence(text)\n",
    "print(f'원본 : {text}')\n",
    "print(f'토큰화 : {result}')"
   ]
  },
  {
   "cell_type": "markdown",
   "id": "8d0d35ad-e28e-44e6-ac5e-d6bce996b721",
   "metadata": {},
   "source": [
    "###  단어 빈도수"
   ]
  },
  {
   "cell_type": "code",
   "execution_count": 4,
   "id": "67f62480-c816-435e-8995-7faee8a8ce29",
   "metadata": {
    "execution": {
     "iopub.execute_input": "2022-08-10T00:12:31.293905Z",
     "iopub.status.busy": "2022-08-10T00:12:31.293905Z",
     "iopub.status.idle": "2022-08-10T00:12:31.308869Z",
     "shell.execute_reply": "2022-08-10T00:12:31.308869Z",
     "shell.execute_reply.started": "2022-08-10T00:12:31.293905Z"
    },
    "tags": []
   },
   "outputs": [],
   "source": [
    "docs = [\n",
    "    '먼저 텍스트와 각 단어를 나누어 토큰화 합니다',\n",
    "    '텍스트의 단어로 토큰화 해야 딥러닝에서 인식합니다',\n",
    "    '토큰화 한 결과는 딥러닝에서 사용할 수 있다.'\n",
    "]"
   ]
  },
  {
   "cell_type": "code",
   "execution_count": 5,
   "id": "72ad3a4c-892f-4c39-9266-46ff1d6463d5",
   "metadata": {
    "execution": {
     "iopub.execute_input": "2022-08-10T00:12:31.309862Z",
     "iopub.status.busy": "2022-08-10T00:12:31.309862Z",
     "iopub.status.idle": "2022-08-10T00:12:31.324000Z",
     "shell.execute_reply": "2022-08-10T00:12:31.324000Z",
     "shell.execute_reply.started": "2022-08-10T00:12:31.309862Z"
    },
    "tags": []
   },
   "outputs": [],
   "source": [
    "# 토큰화 함수를 통해 전처리를 한다.\n",
    "token = Tokenizer()\n",
    "token.fit_on_texts(docs)"
   ]
  },
  {
   "cell_type": "code",
   "execution_count": 6,
   "id": "8adc2610-458f-4d63-9d8b-70b894c6f0ff",
   "metadata": {
    "execution": {
     "iopub.execute_input": "2022-08-10T00:12:31.324998Z",
     "iopub.status.busy": "2022-08-10T00:12:31.324998Z",
     "iopub.status.idle": "2022-08-10T00:12:31.339957Z",
     "shell.execute_reply": "2022-08-10T00:12:31.339957Z",
     "shell.execute_reply.started": "2022-08-10T00:12:31.324998Z"
    },
    "tags": []
   },
   "outputs": [
    {
     "data": {
      "text/plain": [
       "OrderedDict([('먼저', 1),\n",
       "             ('텍스트와', 1),\n",
       "             ('각', 1),\n",
       "             ('단어를', 1),\n",
       "             ('나누어', 1),\n",
       "             ('토큰화', 3),\n",
       "             ('합니다', 1),\n",
       "             ('텍스트의', 1),\n",
       "             ('단어로', 1),\n",
       "             ('해야', 1),\n",
       "             ('딥러닝에서', 2),\n",
       "             ('인식합니다', 1),\n",
       "             ('한', 1),\n",
       "             ('결과는', 1),\n",
       "             ('사용할', 1),\n",
       "             ('수', 1),\n",
       "             ('있다', 1)])"
      ]
     },
     "execution_count": 6,
     "metadata": {},
     "output_type": "execute_result"
    }
   ],
   "source": [
    "# 단어의 빈도수\n",
    "# 전체에서 어떤 단어가 몇 개씩 나왔는지...\n",
    "token.word_counts"
   ]
  },
  {
   "cell_type": "code",
   "execution_count": 7,
   "id": "8305ca6b-0514-4022-8e44-e09080a13f09",
   "metadata": {
    "execution": {
     "iopub.execute_input": "2022-08-10T00:12:31.340954Z",
     "iopub.status.busy": "2022-08-10T00:12:31.340954Z",
     "iopub.status.idle": "2022-08-10T00:12:31.354916Z",
     "shell.execute_reply": "2022-08-10T00:12:31.354916Z",
     "shell.execute_reply.started": "2022-08-10T00:12:31.340954Z"
    },
    "tags": []
   },
   "outputs": [
    {
     "data": {
      "text/plain": [
       "3"
      ]
     },
     "execution_count": 7,
     "metadata": {},
     "output_type": "execute_result"
    }
   ],
   "source": [
    "# 전체 문장의 개수\n",
    "token.document_count"
   ]
  },
  {
   "cell_type": "code",
   "execution_count": 8,
   "id": "779f6491-bb4b-49c0-9463-ce042751dd2c",
   "metadata": {
    "execution": {
     "iopub.execute_input": "2022-08-10T00:12:31.355913Z",
     "iopub.status.busy": "2022-08-10T00:12:31.355913Z",
     "iopub.status.idle": "2022-08-10T00:12:31.369876Z",
     "shell.execute_reply": "2022-08-10T00:12:31.369876Z",
     "shell.execute_reply.started": "2022-08-10T00:12:31.355913Z"
    },
    "tags": []
   },
   "outputs": [
    {
     "data": {
      "text/plain": [
       "defaultdict(int,\n",
       "            {'텍스트와': 1,\n",
       "             '나누어': 1,\n",
       "             '토큰화': 3,\n",
       "             '합니다': 1,\n",
       "             '단어를': 1,\n",
       "             '각': 1,\n",
       "             '먼저': 1,\n",
       "             '해야': 1,\n",
       "             '단어로': 1,\n",
       "             '딥러닝에서': 2,\n",
       "             '인식합니다': 1,\n",
       "             '텍스트의': 1,\n",
       "             '한': 1,\n",
       "             '수': 1,\n",
       "             '사용할': 1,\n",
       "             '있다': 1,\n",
       "             '결과는': 1})"
      ]
     },
     "execution_count": 8,
     "metadata": {},
     "output_type": "execute_result"
    }
   ],
   "source": [
    "# 각 단어가 몇 개의 문자에서 나왔는지...\n",
    "token.word_docs"
   ]
  },
  {
   "cell_type": "code",
   "execution_count": 9,
   "id": "f8bc5889-ba9e-46df-ac58-363c79f0ca7a",
   "metadata": {
    "execution": {
     "iopub.execute_input": "2022-08-10T00:12:31.370873Z",
     "iopub.status.busy": "2022-08-10T00:12:31.370873Z",
     "iopub.status.idle": "2022-08-10T00:12:31.385834Z",
     "shell.execute_reply": "2022-08-10T00:12:31.385834Z",
     "shell.execute_reply.started": "2022-08-10T00:12:31.370873Z"
    },
    "tags": []
   },
   "outputs": [
    {
     "data": {
      "text/plain": [
       "{'토큰화': 1,\n",
       " '딥러닝에서': 2,\n",
       " '먼저': 3,\n",
       " '텍스트와': 4,\n",
       " '각': 5,\n",
       " '단어를': 6,\n",
       " '나누어': 7,\n",
       " '합니다': 8,\n",
       " '텍스트의': 9,\n",
       " '단어로': 10,\n",
       " '해야': 11,\n",
       " '인식합니다': 12,\n",
       " '한': 13,\n",
       " '결과는': 14,\n",
       " '사용할': 15,\n",
       " '수': 16,\n",
       " '있다': 17}"
      ]
     },
     "execution_count": 9,
     "metadata": {},
     "output_type": "execute_result"
    }
   ],
   "source": [
    "# 각 단어에 부여된 인덱스(단어 사전)\n",
    "token.word_index"
   ]
  },
  {
   "cell_type": "markdown",
   "id": "2dc6a064-5e5a-4208-9b06-a4edd18cba5f",
   "metadata": {},
   "source": [
    "###  딥러닝"
   ]
  },
  {
   "cell_type": "code",
   "execution_count": 10,
   "id": "782fb519-fea4-41f4-b76a-c44af135e84d",
   "metadata": {
    "execution": {
     "iopub.execute_input": "2022-08-10T00:12:31.386831Z",
     "iopub.status.busy": "2022-08-10T00:12:31.386831Z",
     "iopub.status.idle": "2022-08-10T00:12:31.401791Z",
     "shell.execute_reply": "2022-08-10T00:12:31.401791Z",
     "shell.execute_reply.started": "2022-08-10T00:12:31.386831Z"
    },
    "tags": []
   },
   "outputs": [],
   "source": [
    "# 평가글\n",
    "docs = [\n",
    "    '너무 재미있네요',\n",
    "    '최고에요',\n",
    "    '참 잘 만든 영화에요',\n",
    "    '추천하고 싶은 영화입니다',\n",
    "    '한번 더 보고 싶네요',\n",
    "    '글쎄요',\n",
    "    '별로에요',\n",
    "    '생각보다 지루하네요',\n",
    "    '연기가 어색해요',\n",
    "    '재미없어요'\n",
    "]"
   ]
  },
  {
   "cell_type": "code",
   "execution_count": 11,
   "id": "ddc8817b-a5c4-4c23-9ee8-fa02fc850cea",
   "metadata": {
    "execution": {
     "iopub.execute_input": "2022-08-10T00:12:31.402788Z",
     "iopub.status.busy": "2022-08-10T00:12:31.402788Z",
     "iopub.status.idle": "2022-08-10T00:12:31.417748Z",
     "shell.execute_reply": "2022-08-10T00:12:31.417748Z",
     "shell.execute_reply.started": "2022-08-10T00:12:31.402788Z"
    },
    "tags": []
   },
   "outputs": [],
   "source": [
    "# 결과데이터\n",
    "classes = np.array([1, 1, 1, 1, 1, 0, 0, 0, 0, 0])"
   ]
  },
  {
   "cell_type": "code",
   "execution_count": 12,
   "id": "426fc9b7-8339-4298-9907-d570f29469e3",
   "metadata": {
    "execution": {
     "iopub.execute_input": "2022-08-10T00:12:31.419743Z",
     "iopub.status.busy": "2022-08-10T00:12:31.419743Z",
     "iopub.status.idle": "2022-08-10T00:12:31.433705Z",
     "shell.execute_reply": "2022-08-10T00:12:31.433705Z",
     "shell.execute_reply.started": "2022-08-10T00:12:31.419743Z"
    },
    "tags": []
   },
   "outputs": [],
   "source": [
    "# 토큰화\n",
    "token = Tokenizer()\n",
    "token.fit_on_texts(docs)"
   ]
  },
  {
   "cell_type": "code",
   "execution_count": 13,
   "id": "8f39448f-4a71-477c-9e17-bb1cb2cb580b",
   "metadata": {
    "execution": {
     "iopub.execute_input": "2022-08-10T00:12:31.434702Z",
     "iopub.status.busy": "2022-08-10T00:12:31.434702Z",
     "iopub.status.idle": "2022-08-10T00:12:31.450661Z",
     "shell.execute_reply": "2022-08-10T00:12:31.449663Z",
     "shell.execute_reply.started": "2022-08-10T00:12:31.434702Z"
    },
    "tags": []
   },
   "outputs": [
    {
     "data": {
      "text/plain": [
       "{'너무': 1,\n",
       " '재미있네요': 2,\n",
       " '최고에요': 3,\n",
       " '참': 4,\n",
       " '잘': 5,\n",
       " '만든': 6,\n",
       " '영화에요': 7,\n",
       " '추천하고': 8,\n",
       " '싶은': 9,\n",
       " '영화입니다': 10,\n",
       " '한번': 11,\n",
       " '더': 12,\n",
       " '보고': 13,\n",
       " '싶네요': 14,\n",
       " '글쎄요': 15,\n",
       " '별로에요': 16,\n",
       " '생각보다': 17,\n",
       " '지루하네요': 18,\n",
       " '연기가': 19,\n",
       " '어색해요': 20,\n",
       " '재미없어요': 21}"
      ]
     },
     "execution_count": 13,
     "metadata": {},
     "output_type": "execute_result"
    }
   ],
   "source": [
    "# 단어 사전을 출력해본다.\n",
    "token.word_index"
   ]
  },
  {
   "cell_type": "code",
   "execution_count": 14,
   "id": "5a900a94-a96f-4a73-a81b-930303a12656",
   "metadata": {
    "execution": {
     "iopub.execute_input": "2022-08-10T00:12:31.451659Z",
     "iopub.status.busy": "2022-08-10T00:12:31.451659Z",
     "iopub.status.idle": "2022-08-10T00:12:31.464624Z",
     "shell.execute_reply": "2022-08-10T00:12:31.464624Z",
     "shell.execute_reply.started": "2022-08-10T00:12:31.451659Z"
    },
    "tags": []
   },
   "outputs": [
    {
     "data": {
      "text/plain": [
       "[[1, 2],\n",
       " [3],\n",
       " [4, 5, 6, 7],\n",
       " [8, 9, 10],\n",
       " [11, 12, 13, 14],\n",
       " [15],\n",
       " [16],\n",
       " [17, 18],\n",
       " [19, 20],\n",
       " [21]]"
      ]
     },
     "execution_count": 14,
     "metadata": {},
     "output_type": "execute_result"
    }
   ],
   "source": [
    "# 각 문장을 토큰화 시킨 데이터를 단어 인덱스로 변화한다.\n",
    "X = token.texts_to_sequences(docs)\n",
    "X"
   ]
  },
  {
   "cell_type": "code",
   "execution_count": 15,
   "id": "9206ed86-457d-4ea1-9df4-6be41bc6be04",
   "metadata": {
    "execution": {
     "iopub.execute_input": "2022-08-10T00:12:31.465621Z",
     "iopub.status.busy": "2022-08-10T00:12:31.465621Z",
     "iopub.status.idle": "2022-08-10T00:12:31.480580Z",
     "shell.execute_reply": "2022-08-10T00:12:31.480580Z",
     "shell.execute_reply.started": "2022-08-10T00:12:31.465621Z"
    },
    "tags": []
   },
   "outputs": [
    {
     "data": {
      "text/plain": [
       "array([[ 0,  0,  1,  2],\n",
       "       [ 0,  0,  0,  3],\n",
       "       [ 4,  5,  6,  7],\n",
       "       [ 0,  8,  9, 10],\n",
       "       [11, 12, 13, 14],\n",
       "       [ 0,  0,  0, 15],\n",
       "       [ 0,  0,  0, 16],\n",
       "       [ 0,  0, 17, 18],\n",
       "       [ 0,  0, 19, 20],\n",
       "       [ 0,  0,  0, 21]])"
      ]
     },
     "execution_count": 15,
     "metadata": {},
     "output_type": "execute_result"
    }
   ],
   "source": [
    "# 각 리스트의 데이터의 개수를 제일 많은 문장의 개수로 맞춰준다.\n",
    "cnt_max = 0\n",
    "for a1 in X :\n",
    "    if len(a1) > cnt_max :\n",
    "        cnt_max = len(a1)\n",
    "padded_x = pad_sequences(X, cnt_max)\n",
    "padded_x"
   ]
  },
  {
   "cell_type": "code",
   "execution_count": 16,
   "id": "56b32c3a-c6c2-4e7a-af2c-2181aafd4c93",
   "metadata": {
    "execution": {
     "iopub.execute_input": "2022-08-10T00:12:31.481577Z",
     "iopub.status.busy": "2022-08-10T00:12:31.481577Z",
     "iopub.status.idle": "2022-08-10T00:12:31.495539Z",
     "shell.execute_reply": "2022-08-10T00:12:31.495539Z",
     "shell.execute_reply.started": "2022-08-10T00:12:31.481577Z"
    },
    "tags": []
   },
   "outputs": [
    {
     "data": {
      "text/plain": [
       "22"
      ]
     },
     "execution_count": 16,
     "metadata": {},
     "output_type": "execute_result"
    }
   ],
   "source": [
    "# 원핫 인코딩을 위한 단어의 개수를 파악한다.\n",
    "# 단어사전에서 제일 작은 값이 1이므로 전체 단어수에 1을 더해준다.\n",
    "word_size = len(token.word_index) + 1\n",
    "word_size"
   ]
  },
  {
   "cell_type": "code",
   "execution_count": 17,
   "id": "846b1d0d-99a0-4a1d-98a7-19db3d5181c5",
   "metadata": {
    "execution": {
     "iopub.execute_input": "2022-08-10T00:12:31.496538Z",
     "iopub.status.busy": "2022-08-10T00:12:31.496538Z",
     "iopub.status.idle": "2022-08-10T00:12:31.511504Z",
     "shell.execute_reply": "2022-08-10T00:12:31.511504Z",
     "shell.execute_reply.started": "2022-08-10T00:12:31.496538Z"
    }
   },
   "outputs": [],
   "source": [
    "# 2진 분류 옵션들\n",
    "out_nodes = 1\n",
    "loss_function = 'binary_crossentropy'\n",
    "activation_function = 'sigmoid'\n",
    "\n",
    "# 다중 분류 옵션들\n",
    "# out_nodes = len(y.value_counts())\n",
    "# loss_function = 'categorical_crossentropy'\n",
    "# activation_function = 'softmax'\n",
    "\n",
    "# 회귀\n",
    "# 출력 결과를 하나만 뽑아서 Series로 나왔다면...\n",
    "# 1로 설정한다.\n",
    "# if type(y) is pd.core.series.Series:\n",
    "#     out_nodes = 1\n",
    "# else : \n",
    "#     out_nodes = y.shape[1]\n",
    "    \n",
    "# loss_function = 'mean_squared_error'"
   ]
  },
  {
   "cell_type": "code",
   "execution_count": 18,
   "id": "7ce18d46-4d83-4174-b75b-b812047b2f7a",
   "metadata": {
    "execution": {
     "iopub.execute_input": "2022-08-10T00:12:31.512496Z",
     "iopub.status.busy": "2022-08-10T00:12:31.512496Z",
     "iopub.status.idle": "2022-08-10T00:12:33.044766Z",
     "shell.execute_reply": "2022-08-10T00:12:33.044766Z",
     "shell.execute_reply.started": "2022-08-10T00:12:31.512496Z"
    },
    "tags": []
   },
   "outputs": [],
   "source": [
    "# 학습 모델을 구성한다.\n",
    "model = Sequential()\n",
    "\n",
    "# Embadding 층\n",
    "# 단어 값들을 원핫 인코딩을 수행한 수 결과와 상관관계가 높은(빈도수 높은)\n",
    "# 단어 컬럼을 기준으로 지정한 컬럼수 만큼 선택하여 다른 컬럼의 데이터를 압축하는 은닉층\n",
    "# input_length : 입력층으로 들어오는 각 문장단 단어의 개수\n",
    "# 위에서 padding 작업을 통해 각 문장의 단어를 전부 4개로 맞췄기 때문에 4로 설정했다.\n",
    "# word_size : 들어온 문장데이터를 원핫 인코딩할 데이터 개수(단어의수 +1)\n",
    "# input_length 만큼의 문장 하나의 데이터([1,2,3,4])가 들어오면\n",
    "# 각 단어를 뜻하는 숫자를 각각 원핫 인코딩한다.\n",
    "# [[0, 1, 0, 0, 0]\n",
    "#  [0, 0, 1, 0, 0]\n",
    "#  [0, 0, 0, 1, 0]\n",
    "#  [0, 0, 0, 0, 1]]\n",
    "# 그 후에 결과데이터와의 상관관계를 보고 8개만 추출하여 최종데이터를 만든다.\n",
    "model.add(Embedding(word_size, 8, input_length=4))\n",
    "# 다차원으로 변화된 데이터를 1차원으로 변환한다.\n",
    "model.add(Flatten())\n",
    "\n",
    "# 출력층\n",
    "model.add(Dense(out_nodes))\n",
    "model.add(Activation(activation_function))"
   ]
  },
  {
   "cell_type": "code",
   "execution_count": 22,
   "id": "63b4bb06-82f8-4c13-a963-b1f0a39fb994",
   "metadata": {
    "execution": {
     "iopub.execute_input": "2022-08-10T00:14:03.168773Z",
     "iopub.status.busy": "2022-08-10T00:14:03.167775Z",
     "iopub.status.idle": "2022-08-10T00:14:03.183733Z",
     "shell.execute_reply": "2022-08-10T00:14:03.183733Z",
     "shell.execute_reply.started": "2022-08-10T00:14:03.168773Z"
    },
    "tags": []
   },
   "outputs": [
    {
     "name": "stdout",
     "output_type": "stream",
     "text": [
      "Model: \"sequential\"\n",
      "_________________________________________________________________\n",
      " Layer (type)                Output Shape              Param #   \n",
      "=================================================================\n",
      " embedding (Embedding)       (None, 4, 8)              176       \n",
      "                                                                 \n",
      " flatten (Flatten)           (None, 32)                0         \n",
      "                                                                 \n",
      " dense (Dense)               (None, 1)                 33        \n",
      "                                                                 \n",
      " activation (Activation)     (None, 1)                 0         \n",
      "                                                                 \n",
      "=================================================================\n",
      "Total params: 209\n",
      "Trainable params: 209\n",
      "Non-trainable params: 0\n",
      "_________________________________________________________________\n"
     ]
    }
   ],
   "source": [
    "# 모델 컴파일\n",
    "model.compile(loss=loss_function, optimizer='adam', metrics=['accuracy'])\n",
    "model.summary()"
   ]
  },
  {
   "cell_type": "code",
   "execution_count": 23,
   "id": "0050095d-f16a-4816-8256-56b3606cf9c9",
   "metadata": {
    "execution": {
     "iopub.execute_input": "2022-08-10T00:16:10.109081Z",
     "iopub.status.busy": "2022-08-10T00:16:10.109081Z",
     "iopub.status.idle": "2022-08-10T00:16:12.140367Z",
     "shell.execute_reply": "2022-08-10T00:16:12.140367Z",
     "shell.execute_reply.started": "2022-08-10T00:16:10.109081Z"
    },
    "tags": []
   },
   "outputs": [
    {
     "name": "stdout",
     "output_type": "stream",
     "text": [
      "Epoch 1/20\n",
      "1/1 [==============================] - 2s 2s/step - loss: 0.6989 - accuracy: 0.4000\n",
      "Epoch 2/20\n",
      "1/1 [==============================] - 0s 6ms/step - loss: 0.6966 - accuracy: 0.4000\n",
      "Epoch 3/20\n",
      "1/1 [==============================] - 0s 6ms/step - loss: 0.6944 - accuracy: 0.6000\n",
      "Epoch 4/20\n",
      "1/1 [==============================] - 0s 7ms/step - loss: 0.6922 - accuracy: 0.6000\n",
      "Epoch 5/20\n",
      "1/1 [==============================] - 0s 7ms/step - loss: 0.6899 - accuracy: 0.7000\n",
      "Epoch 6/20\n",
      "1/1 [==============================] - 0s 7ms/step - loss: 0.6877 - accuracy: 0.7000\n",
      "Epoch 7/20\n",
      "1/1 [==============================] - 0s 7ms/step - loss: 0.6855 - accuracy: 0.7000\n",
      "Epoch 8/20\n",
      "1/1 [==============================] - 0s 7ms/step - loss: 0.6833 - accuracy: 0.7000\n",
      "Epoch 9/20\n",
      "1/1 [==============================] - 0s 7ms/step - loss: 0.6811 - accuracy: 0.8000\n",
      "Epoch 10/20\n",
      "1/1 [==============================] - 0s 7ms/step - loss: 0.6789 - accuracy: 0.8000\n",
      "Epoch 11/20\n",
      "1/1 [==============================] - 0s 7ms/step - loss: 0.6767 - accuracy: 0.8000\n",
      "Epoch 12/20\n",
      "1/1 [==============================] - 0s 7ms/step - loss: 0.6745 - accuracy: 0.9000\n",
      "Epoch 13/20\n",
      "1/1 [==============================] - 0s 6ms/step - loss: 0.6723 - accuracy: 0.9000\n",
      "Epoch 14/20\n",
      "1/1 [==============================] - 0s 8ms/step - loss: 0.6701 - accuracy: 0.9000\n",
      "Epoch 15/20\n",
      "1/1 [==============================] - 0s 7ms/step - loss: 0.6679 - accuracy: 0.9000\n",
      "Epoch 16/20\n",
      "1/1 [==============================] - 0s 10ms/step - loss: 0.6657 - accuracy: 0.9000\n",
      "Epoch 17/20\n",
      "1/1 [==============================] - 0s 6ms/step - loss: 0.6635 - accuracy: 1.0000\n",
      "Epoch 18/20\n",
      "1/1 [==============================] - 0s 6ms/step - loss: 0.6613 - accuracy: 1.0000\n",
      "Epoch 19/20\n",
      "1/1 [==============================] - 0s 6ms/step - loss: 0.6591 - accuracy: 1.0000\n",
      "Epoch 20/20\n",
      "1/1 [==============================] - 0s 8ms/step - loss: 0.6569 - accuracy: 1.0000\n"
     ]
    },
    {
     "data": {
      "text/plain": [
       "<keras.callbacks.History at 0x1cf7de86a90>"
      ]
     },
     "execution_count": 23,
     "metadata": {},
     "output_type": "execute_result"
    }
   ],
   "source": [
    "# 학습\n",
    "model.fit(padded_x, classes, epochs=20)"
   ]
  },
  {
   "cell_type": "code",
   "execution_count": null,
   "id": "06facb38-a3f0-4d72-8252-7892dfffe87e",
   "metadata": {},
   "outputs": [],
   "source": []
  },
  {
   "cell_type": "code",
   "execution_count": null,
   "id": "22319305-1ed6-45bd-9ba9-8b26a622ff05",
   "metadata": {},
   "outputs": [],
   "source": []
  }
 ],
 "metadata": {
  "kernelspec": {
   "display_name": "Python 3 (ipykernel)",
   "language": "python",
   "name": "python3"
  },
  "language_info": {
   "codemirror_mode": {
    "name": "ipython",
    "version": 3
   },
   "file_extension": ".py",
   "mimetype": "text/x-python",
   "name": "python",
   "nbconvert_exporter": "python",
   "pygments_lexer": "ipython3",
   "version": "3.9.12"
  }
 },
 "nbformat": 4,
 "nbformat_minor": 5
}
