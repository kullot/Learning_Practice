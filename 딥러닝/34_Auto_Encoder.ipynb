{
 "cells": [
  {
   "cell_type": "code",
   "execution_count": 2,
   "id": "1a839c54-82aa-4c41-9234-1d8be00f0c2d",
   "metadata": {
    "execution": {
     "iopub.execute_input": "2022-08-10T05:21:49.834430Z",
     "iopub.status.busy": "2022-08-10T05:21:49.834430Z",
     "iopub.status.idle": "2022-08-10T05:21:50.969417Z",
     "shell.execute_reply": "2022-08-10T05:21:50.969417Z",
     "shell.execute_reply.started": "2022-08-10T05:21:49.834430Z"
    },
    "tags": []
   },
   "outputs": [],
   "source": [
    "# 기본\n",
    "import pandas as pd\n",
    "import numpy as np\n",
    "import matplotlib.pyplot as plt\n",
    "import seaborn as sns\n",
    "\n",
    "import os\n",
    "import shutil\n",
    "\n",
    "# 경고 뜨지 않게...\n",
    "import warnings\n",
    "warnings.filterwarnings('ignore')\n",
    "\n",
    "# 그래프 설정\n",
    "plt.rcParams['font.family'] = 'Malgun Gothic'\n",
    "# plt.rcParams['font.family'] = 'AppleGothic'\n",
    "plt.rcParams['font.size'] = 16\n",
    "plt.rcParams['figure.figsize'] = 20, 10\n",
    "plt.rcParams['axes.unicode_minus'] = False\n",
    "# 매직명령어 => 쥬피터노트북에서 그래프 삽입 기능 \n",
    "%matplotlib inline\n",
    "# 글꼴 선명화 \n",
    "%config InlineBackend.figure_format = 'retina'\n",
    "\n",
    "# 랜덤 모듈\n",
    "import random\n",
    "\n",
    "# 학습 모델 저장 및 복원\n",
    "import pickle\n",
    "\n",
    "# 딥러닝 라이브러리\n",
    "import tensorflow as tf\n",
    "# 신경망 모델을 관리하는 객체\n",
    "from tensorflow.keras.models import Sequential\n",
    "# 선형 회귀 레이어\n",
    "from tensorflow.keras.layers import Dense\n",
    "# 활성화 함수를 정의하는 객체\n",
    "from tensorflow.keras.layers import Activation\n",
    "\n",
    "# CNN : 커널을 통해 합성곱을 구하는 것. 이미지의 특징이 두드러 지게 한다.\n",
    "from tensorflow.keras.layers import Conv2D\n",
    "from tensorflow.keras.layers import Conv1D\n",
    "\n",
    "# MaxPooling : 커널내에서 가장 큰 값을 추출하는 방식으로 불필요한 부분을 제거한다.\n",
    "from tensorflow.keras.layers import MaxPool2D\n",
    "from tensorflow.keras.layers import MaxPool1D\n",
    "\n",
    "# 1차원으로 변환하는 것\n",
    "from tensorflow.keras.layers import Flatten\n",
    "\n",
    "# Dropout : 이미자나 영상, 음파 등의 데이터는 오랫동안 학습을 진행 시켜야 한다.\n",
    "# 하지만 너무 빨리 과적합이 발생되면 조기 중단 때문에 학습 횟수가 줄어들 수 있다.\n",
    "# 이에 은닉의 노드를 일부 사용하지 않으므로써 과적합이 빨리 오는 것을 예방하고\n",
    "# 오랫동안 학습이 가능하다.\n",
    "from tensorflow.keras.layers import Dropout\n",
    "\n",
    "# Embadding : 단어의 수를 조정한다.\n",
    "from tensorflow.keras.layers import Embedding\n",
    "\n",
    "# RNN(LSTM)\n",
    "from tensorflow.keras.layers import LSTM\n",
    "\n",
    "# GAN\n",
    "# 데이터 표준화\n",
    "from tensorflow.keras.layers import BatchNormalization\n",
    "# 데이터를 다시 구성하기 위한 것\n",
    "from tensorflow.keras.layers import Reshape\n",
    "# 업샘플링\n",
    "from tensorflow.keras.layers import UpSampling2D\n",
    "# 이미지 생성을 위해 사용할 데이터 공간을 생성\n",
    "from tensorflow.keras.layers import Input\n",
    "# 다수의 신경망을 연결하기 위한 것(생성자와 판별자를 연결)\n",
    "from tensorflow.keras.models import Model\n",
    "\n",
    "# 원핫 인코딩을 수행하는 함수\n",
    "from tensorflow.keras.utils import to_categorical\n",
    "\n",
    "# 저장된 학습모델을 복원한다.\n",
    "from tensorflow.keras.models import load_model\n",
    "\n",
    "# 모델을 자동 저장한다.\n",
    "from tensorflow.keras.callbacks import ModelCheckpoint\n",
    "# 성능이 더이상 좋아지지 않을 경우 중단 시킨다.\n",
    "from tensorflow.keras.callbacks import EarlyStopping, TensorBoard\n",
    "\n",
    "# 문장을 잘라준다.\n",
    "from tensorflow.keras.preprocessing.text import Tokenizer\n",
    "# 모든 문장 데이터의 단어 데이터의 수를 동일한 수로 맞춰준다.\n",
    "from tensorflow.keras.preprocessing.sequence import pad_sequences\n",
    "# 문자열을 가지고 단어 사전을 만들어준다.\n",
    "from tensorflow.keras.preprocessing.text import text_to_word_sequence\n",
    "\n",
    "# 평가함수\n",
    "# 분류용\n",
    "from sklearn.metrics import accuracy_score\n",
    "from sklearn.metrics import precision_score\n",
    "from sklearn.metrics import recall_score\n",
    "from sklearn.metrics import f1_score\n",
    "from sklearn.metrics import roc_auc_score\n",
    "\n",
    "# 회귀용\n",
    "from sklearn.metrics import r2_score\n",
    "from sklearn.metrics import mean_squared_error\n",
    "\n",
    "# 표준화\n",
    "from sklearn.preprocessing import StandardScaler\n",
    "from sklearn.preprocessing import MinMaxScaler\n",
    "# 문자열 => 숫자\n",
    "from sklearn.preprocessing import LabelEncoder\n",
    "\n",
    "# 전체데이터를 학습용과 검증으로 나눈다.\n",
    "from sklearn.model_selection import train_test_split\n",
    "\n",
    "# 랜덤시드 설정\n",
    "# 데이터를 랜덤하게 섞거나 가중치를 랜덤하게 설정하는 등..\n",
    "# 작업에서 랜덤을 적용하는 경우가 더러 있다.\n",
    "# 이에, 시드를 고정시킨다.\n",
    "random_seed = 1\n",
    "np.random.seed(random_seed)\n",
    "random.seed(random_seed)\n",
    "tf.random.set_seed(random_seed)\n",
    "\n",
    "# 현재 프로젝트에서 GPU 메모리 사용을 필요한 만큼만 쓸 수 있도록 한다.\n",
    "# 컴퓨터에 있는 GPU 정보들을 가져온다.\n",
    "\n",
    "gpus = tf.config.experimental.list_physical_devices('GPU')\n",
    "# gpu가 있다면...\n",
    "if len(gpus) > 0 :\n",
    "    try :\n",
    "        for gpu in gpus :\n",
    "            tf.config.experimental.set_memory_growth(gpu, True)\n",
    "    except RuntimeError as e :\n",
    "        print(e)"
   ]
  },
  {
   "cell_type": "markdown",
   "id": "76f92a35-9ee1-44a9-bcfd-9d62b83b2537",
   "metadata": {
    "tags": []
   },
   "source": [
    "### Auto Encoder\n",
    "- 인코더와 디코더가 있다\n",
    "- 인코더는 입력데이터인 이미지의 특성을 추출하는 역할을 한다.\n",
    "- 디코더는 인코더가 추출한 이미지 특성을 기반으로 이미지를 복원한다.\n",
    "- 이미지 복원 작업에서 주로 쓰여지며 이미지의 노이즈 등을 제거할 대 사용한다."
   ]
  },
  {
   "cell_type": "code",
   "execution_count": 3,
   "id": "95ba266b-a01d-4a7d-a586-5b5df2a0b65c",
   "metadata": {
    "execution": {
     "iopub.execute_input": "2022-08-10T05:21:50.970414Z",
     "iopub.status.busy": "2022-08-10T05:21:50.970414Z",
     "iopub.status.idle": "2022-08-10T05:21:50.985377Z",
     "shell.execute_reply": "2022-08-10T05:21:50.985377Z",
     "shell.execute_reply.started": "2022-08-10T05:21:50.970414Z"
    },
    "tags": []
   },
   "outputs": [],
   "source": [
    "# MNIST\n",
    "from tensorflow.keras.datasets import mnist"
   ]
  },
  {
   "cell_type": "code",
   "execution_count": 4,
   "id": "8b4d8802-68da-441a-b6fa-7f2f587977c4",
   "metadata": {
    "execution": {
     "iopub.execute_input": "2022-08-10T05:21:51.126209Z",
     "iopub.status.busy": "2022-08-10T05:21:51.125211Z",
     "iopub.status.idle": "2022-08-10T05:21:51.328732Z",
     "shell.execute_reply": "2022-08-10T05:21:51.328732Z",
     "shell.execute_reply.started": "2022-08-10T05:21:51.126209Z"
    },
    "tags": []
   },
   "outputs": [],
   "source": [
    "(X_train, _), (X_test, _) = mnist.load_data()"
   ]
  },
  {
   "cell_type": "code",
   "execution_count": 5,
   "id": "81536f50-9a74-4616-86cb-d7a4130e43ee",
   "metadata": {
    "execution": {
     "iopub.execute_input": "2022-08-10T05:21:51.329729Z",
     "iopub.status.busy": "2022-08-10T05:21:51.329729Z",
     "iopub.status.idle": "2022-08-10T05:21:51.516170Z",
     "shell.execute_reply": "2022-08-10T05:21:51.515760Z",
     "shell.execute_reply.started": "2022-08-10T05:21:51.329729Z"
    },
    "tags": []
   },
   "outputs": [],
   "source": [
    "# 데이터 표준화 작업\n",
    "# 이미지 개수, 세로, 가로 형태의 행렬을\n",
    "# 이미지 개수, 세로, 가로, 채널 형태로 변환한다.\n",
    "X_train = X_train.reshape(X_train.shape[0], 28, 28, 1).astype('float64')\n",
    "X_test = X_test.reshape(X_test.shape[0], 28, 28, 1).astype('float64')\n",
    "\n",
    "# 오토 인코더는 마지막 활성함수를 sigmoid를 쓰기 때문에\n",
    "# 표준화는 0~1사이로 맞춘다.\n",
    "X_train = X_train / 255\n",
    "X_test = X_test / 255"
   ]
  },
  {
   "cell_type": "code",
   "execution_count": 6,
   "id": "aa62d099-a427-4ba7-abbb-e66c720af715",
   "metadata": {
    "execution": {
     "iopub.execute_input": "2022-08-10T05:21:51.517170Z",
     "iopub.status.busy": "2022-08-10T05:21:51.517170Z",
     "iopub.status.idle": "2022-08-10T05:21:51.920091Z",
     "shell.execute_reply": "2022-08-10T05:21:51.920091Z",
     "shell.execute_reply.started": "2022-08-10T05:21:51.517170Z"
    },
    "tags": []
   },
   "outputs": [],
   "source": [
    "# 학습 모델 생성\n",
    "model = Sequential()"
   ]
  },
  {
   "cell_type": "code",
   "execution_count": 7,
   "id": "f6e51629-f770-41a6-9e04-812907691e54",
   "metadata": {
    "execution": {
     "iopub.execute_input": "2022-08-10T05:21:51.922104Z",
     "iopub.status.busy": "2022-08-10T05:21:51.921106Z",
     "iopub.status.idle": "2022-08-10T05:21:51.966970Z",
     "shell.execute_reply": "2022-08-10T05:21:51.966970Z",
     "shell.execute_reply.started": "2022-08-10T05:21:51.922104Z"
    },
    "tags": []
   },
   "outputs": [],
   "source": [
    "# 인코딩\n",
    "model.add(Conv2D(16, kernel_size=3, padding='same', input_shape=(28,28,1)))\n",
    "model.add(Activation('relu'))\n",
    "\n",
    "model.add(MaxPool2D(pool_size=2, padding='same'))\n",
    "\n",
    "model.add(Conv2D(8, kernel_size=3, padding='same'))\n",
    "model.add(Activation('relu'))\n",
    "\n",
    "model.add(MaxPool2D(pool_size=2, padding='same'))\n",
    "\n",
    "model.add(Conv2D(8, kernel_size=3, padding='same'))\n",
    "model.add(Activation('relu'))"
   ]
  },
  {
   "cell_type": "code",
   "execution_count": 8,
   "id": "6aaf758f-dc41-4b86-8a85-da80230208e9",
   "metadata": {
    "execution": {
     "iopub.execute_input": "2022-08-10T05:21:52.124703Z",
     "iopub.status.busy": "2022-08-10T05:21:52.124703Z",
     "iopub.status.idle": "2022-08-10T05:21:52.187579Z",
     "shell.execute_reply": "2022-08-10T05:21:52.187579Z",
     "shell.execute_reply.started": "2022-08-10T05:21:52.124703Z"
    },
    "tags": []
   },
   "outputs": [],
   "source": [
    "# 디코딩\n",
    "model.add(Conv2D(8, kernel_size=3, padding='same'))\n",
    "model.add(Activation('relu'))\n",
    "\n",
    "model.add(UpSampling2D())\n",
    "\n",
    "model.add(Conv2D(8, kernel_size=3, padding='same'))\n",
    "model.add(Activation('relu'))\n",
    "\n",
    "model.add(UpSampling2D())\n",
    "\n",
    "model.add(Conv2D(16, kernel_size=3, padding='same'))\n",
    "model.add(Activation('relu'))\n",
    "\n",
    "model.add(Conv2D(1, kernel_size=3, padding='same'))\n",
    "model.add(Activation('sigmoid'))"
   ]
  },
  {
   "cell_type": "code",
   "execution_count": 9,
   "id": "464be7a2-16e0-46c5-81da-95a57849fd63",
   "metadata": {
    "execution": {
     "iopub.execute_input": "2022-08-10T05:21:52.751600Z",
     "iopub.status.busy": "2022-08-10T05:21:52.751600Z",
     "iopub.status.idle": "2022-08-10T05:21:52.784511Z",
     "shell.execute_reply": "2022-08-10T05:21:52.784511Z",
     "shell.execute_reply.started": "2022-08-10T05:21:52.751600Z"
    },
    "tags": []
   },
   "outputs": [
    {
     "name": "stdout",
     "output_type": "stream",
     "text": [
      "Model: \"sequential\"\n",
      "_________________________________________________________________\n",
      " Layer (type)                Output Shape              Param #   \n",
      "=================================================================\n",
      " conv2d (Conv2D)             (None, 28, 28, 16)        160       \n",
      "                                                                 \n",
      " activation (Activation)     (None, 28, 28, 16)        0         \n",
      "                                                                 \n",
      " max_pooling2d (MaxPooling2D  (None, 14, 14, 16)       0         \n",
      " )                                                               \n",
      "                                                                 \n",
      " conv2d_1 (Conv2D)           (None, 14, 14, 8)         1160      \n",
      "                                                                 \n",
      " activation_1 (Activation)   (None, 14, 14, 8)         0         \n",
      "                                                                 \n",
      " max_pooling2d_1 (MaxPooling  (None, 7, 7, 8)          0         \n",
      " 2D)                                                             \n",
      "                                                                 \n",
      " conv2d_2 (Conv2D)           (None, 7, 7, 8)           584       \n",
      "                                                                 \n",
      " activation_2 (Activation)   (None, 7, 7, 8)           0         \n",
      "                                                                 \n",
      " conv2d_3 (Conv2D)           (None, 7, 7, 8)           584       \n",
      "                                                                 \n",
      " activation_3 (Activation)   (None, 7, 7, 8)           0         \n",
      "                                                                 \n",
      " up_sampling2d (UpSampling2D  (None, 14, 14, 8)        0         \n",
      " )                                                               \n",
      "                                                                 \n",
      " conv2d_4 (Conv2D)           (None, 14, 14, 8)         584       \n",
      "                                                                 \n",
      " activation_4 (Activation)   (None, 14, 14, 8)         0         \n",
      "                                                                 \n",
      " up_sampling2d_1 (UpSampling  (None, 28, 28, 8)        0         \n",
      " 2D)                                                             \n",
      "                                                                 \n",
      " conv2d_5 (Conv2D)           (None, 28, 28, 16)        1168      \n",
      "                                                                 \n",
      " activation_5 (Activation)   (None, 28, 28, 16)        0         \n",
      "                                                                 \n",
      " conv2d_6 (Conv2D)           (None, 28, 28, 1)         145       \n",
      "                                                                 \n",
      " activation_6 (Activation)   (None, 28, 28, 1)         0         \n",
      "                                                                 \n",
      "=================================================================\n",
      "Total params: 4,385\n",
      "Trainable params: 4,385\n",
      "Non-trainable params: 0\n",
      "_________________________________________________________________\n"
     ]
    }
   ],
   "source": [
    "model.summary()"
   ]
  },
  {
   "cell_type": "code",
   "execution_count": 10,
   "id": "fe6e8b5f-487a-4410-9b58-b70976fe1e27",
   "metadata": {
    "execution": {
     "iopub.execute_input": "2022-08-10T05:21:53.453714Z",
     "iopub.status.busy": "2022-08-10T05:21:53.453714Z",
     "iopub.status.idle": "2022-08-10T05:21:53.467677Z",
     "shell.execute_reply": "2022-08-10T05:21:53.467677Z",
     "shell.execute_reply.started": "2022-08-10T05:21:53.453714Z"
    },
    "tags": []
   },
   "outputs": [],
   "source": [
    "# 컴파일\n",
    "model.compile(loss='binary_crossentropy', optimizer='adam')"
   ]
  },
  {
   "cell_type": "code",
   "execution_count": 11,
   "id": "304b1882-b8bb-4a61-83a5-13392cc9315b",
   "metadata": {
    "collapsed": true,
    "execution": {
     "iopub.execute_input": "2022-08-10T05:21:59.102594Z",
     "iopub.status.busy": "2022-08-10T05:21:59.102594Z",
     "iopub.status.idle": "2022-08-10T05:25:01.741065Z",
     "shell.execute_reply": "2022-08-10T05:25:01.741065Z",
     "shell.execute_reply.started": "2022-08-10T05:21:59.102594Z"
    },
    "jupyter": {
     "outputs_hidden": true
    },
    "tags": []
   },
   "outputs": [
    {
     "name": "stdout",
     "output_type": "stream",
     "text": [
      "Epoch 1/50\n",
      "600/600 [==============================] - 6s 6ms/step - loss: 0.1502 - val_loss: 0.0884\n",
      "Epoch 2/50\n",
      "600/600 [==============================] - 3s 6ms/step - loss: 0.0845 - val_loss: 0.0802\n",
      "Epoch 3/50\n",
      "600/600 [==============================] - 3s 6ms/step - loss: 0.0796 - val_loss: 0.0775\n",
      "Epoch 4/50\n",
      "600/600 [==============================] - 3s 5ms/step - loss: 0.0774 - val_loss: 0.0757\n",
      "Epoch 5/50\n",
      "600/600 [==============================] - 3s 6ms/step - loss: 0.0760 - val_loss: 0.0748\n",
      "Epoch 6/50\n",
      "600/600 [==============================] - 3s 6ms/step - loss: 0.0749 - val_loss: 0.0737\n",
      "Epoch 7/50\n",
      "600/600 [==============================] - 3s 6ms/step - loss: 0.0740 - val_loss: 0.0731\n",
      "Epoch 8/50\n",
      "600/600 [==============================] - 3s 6ms/step - loss: 0.0733 - val_loss: 0.0722\n",
      "Epoch 9/50\n",
      "600/600 [==============================] - 3s 6ms/step - loss: 0.0726 - val_loss: 0.0716\n",
      "Epoch 10/50\n",
      "600/600 [==============================] - 3s 6ms/step - loss: 0.0722 - val_loss: 0.0713\n",
      "Epoch 11/50\n",
      "600/600 [==============================] - 3s 6ms/step - loss: 0.0718 - val_loss: 0.0712\n",
      "Epoch 12/50\n",
      "600/600 [==============================] - 3s 6ms/step - loss: 0.0715 - val_loss: 0.0707\n",
      "Epoch 13/50\n",
      "600/600 [==============================] - 3s 6ms/step - loss: 0.0712 - val_loss: 0.0706\n",
      "Epoch 14/50\n",
      "600/600 [==============================] - 4s 6ms/step - loss: 0.0710 - val_loss: 0.0704\n",
      "Epoch 15/50\n",
      "600/600 [==============================] - 4s 6ms/step - loss: 0.0708 - val_loss: 0.0700\n",
      "Epoch 16/50\n",
      "600/600 [==============================] - 4s 6ms/step - loss: 0.0706 - val_loss: 0.0700\n",
      "Epoch 17/50\n",
      "600/600 [==============================] - 4s 6ms/step - loss: 0.0704 - val_loss: 0.0697\n",
      "Epoch 18/50\n",
      "600/600 [==============================] - 4s 6ms/step - loss: 0.0703 - val_loss: 0.0697\n",
      "Epoch 19/50\n",
      "600/600 [==============================] - 4s 6ms/step - loss: 0.0701 - val_loss: 0.0696\n",
      "Epoch 20/50\n",
      "600/600 [==============================] - 4s 6ms/step - loss: 0.0700 - val_loss: 0.0694\n",
      "Epoch 21/50\n",
      "600/600 [==============================] - 4s 6ms/step - loss: 0.0699 - val_loss: 0.0692\n",
      "Epoch 22/50\n",
      "600/600 [==============================] - 4s 6ms/step - loss: 0.0698 - val_loss: 0.0698\n",
      "Epoch 23/50\n",
      "600/600 [==============================] - 4s 6ms/step - loss: 0.0697 - val_loss: 0.0691\n",
      "Epoch 24/50\n",
      "600/600 [==============================] - 4s 6ms/step - loss: 0.0696 - val_loss: 0.0690\n",
      "Epoch 25/50\n",
      "600/600 [==============================] - 4s 6ms/step - loss: 0.0695 - val_loss: 0.0690\n",
      "Epoch 26/50\n",
      "600/600 [==============================] - 4s 7ms/step - loss: 0.0695 - val_loss: 0.0689\n",
      "Epoch 27/50\n",
      "600/600 [==============================] - 4s 6ms/step - loss: 0.0694 - val_loss: 0.0688\n",
      "Epoch 28/50\n",
      "600/600 [==============================] - 4s 6ms/step - loss: 0.0693 - val_loss: 0.0688\n",
      "Epoch 29/50\n",
      "600/600 [==============================] - 4s 6ms/step - loss: 0.0693 - val_loss: 0.0687\n",
      "Epoch 30/50\n",
      "600/600 [==============================] - 4s 7ms/step - loss: 0.0692 - val_loss: 0.0686\n",
      "Epoch 31/50\n",
      "600/600 [==============================] - 4s 7ms/step - loss: 0.0691 - val_loss: 0.0685\n",
      "Epoch 32/50\n",
      "600/600 [==============================] - 4s 7ms/step - loss: 0.0691 - val_loss: 0.0685\n",
      "Epoch 33/50\n",
      "600/600 [==============================] - 4s 7ms/step - loss: 0.0690 - val_loss: 0.0684\n",
      "Epoch 34/50\n",
      "600/600 [==============================] - 4s 6ms/step - loss: 0.0690 - val_loss: 0.0684\n",
      "Epoch 35/50\n",
      "600/600 [==============================] - 4s 6ms/step - loss: 0.0689 - val_loss: 0.0683\n",
      "Epoch 36/50\n",
      "600/600 [==============================] - 4s 6ms/step - loss: 0.0689 - val_loss: 0.0684\n",
      "Epoch 37/50\n",
      "600/600 [==============================] - 4s 6ms/step - loss: 0.0688 - val_loss: 0.0682\n",
      "Epoch 38/50\n",
      "600/600 [==============================] - 4s 6ms/step - loss: 0.0688 - val_loss: 0.0683\n",
      "Epoch 39/50\n",
      "600/600 [==============================] - 3s 6ms/step - loss: 0.0687 - val_loss: 0.0683\n",
      "Epoch 40/50\n",
      "600/600 [==============================] - 4s 6ms/step - loss: 0.0687 - val_loss: 0.0683\n",
      "Epoch 41/50\n",
      "600/600 [==============================] - 4s 6ms/step - loss: 0.0687 - val_loss: 0.0681\n",
      "Epoch 42/50\n",
      "600/600 [==============================] - 4s 6ms/step - loss: 0.0686 - val_loss: 0.0681\n",
      "Epoch 43/50\n",
      "600/600 [==============================] - 4s 6ms/step - loss: 0.0686 - val_loss: 0.0681\n",
      "Epoch 44/50\n",
      "600/600 [==============================] - 4s 6ms/step - loss: 0.0686 - val_loss: 0.0681\n",
      "Epoch 45/50\n",
      "600/600 [==============================] - 4s 6ms/step - loss: 0.0685 - val_loss: 0.0681\n",
      "Epoch 46/50\n",
      "600/600 [==============================] - 4s 6ms/step - loss: 0.0685 - val_loss: 0.0679\n",
      "Epoch 47/50\n",
      "600/600 [==============================] - 4s 6ms/step - loss: 0.0684 - val_loss: 0.0679\n",
      "Epoch 48/50\n",
      "600/600 [==============================] - 4s 6ms/step - loss: 0.0684 - val_loss: 0.0678\n",
      "Epoch 49/50\n",
      "600/600 [==============================] - 4s 6ms/step - loss: 0.0683 - val_loss: 0.0678\n",
      "Epoch 50/50\n",
      "600/600 [==============================] - 4s 6ms/step - loss: 0.0683 - val_loss: 0.0679\n"
     ]
    },
    {
     "data": {
      "text/plain": [
       "<keras.callbacks.History at 0x19f93ac2400>"
      ]
     },
     "execution_count": 11,
     "metadata": {},
     "output_type": "execute_result"
    }
   ],
   "source": [
    "model.fit(X_train, X_train, validation_data=[X_test, X_test], epochs=50, batch_size=100)"
   ]
  },
  {
   "cell_type": "code",
   "execution_count": 12,
   "id": "a5ccefa3-1c48-4bb0-bf0e-ba5934e8b1fe",
   "metadata": {
    "execution": {
     "iopub.execute_input": "2022-08-10T06:01:46.792590Z",
     "iopub.status.busy": "2022-08-10T06:01:46.792590Z",
     "iopub.status.idle": "2022-08-10T06:01:47.879682Z",
     "shell.execute_reply": "2022-08-10T06:01:47.879682Z",
     "shell.execute_reply.started": "2022-08-10T06:01:46.792590Z"
    },
    "tags": []
   },
   "outputs": [
    {
     "name": "stdout",
     "output_type": "stream",
     "text": [
      "313/313 [==============================] - 1s 2ms/step\n"
     ]
    }
   ],
   "source": [
    "# 랜덤하게 5개의 이미지를 추출한다.\n",
    "ae_img = model.predict(X_test)"
   ]
  },
  {
   "cell_type": "code",
   "execution_count": 16,
   "id": "5352129a-c29b-4278-b1e8-e8ee8e502d94",
   "metadata": {
    "execution": {
     "iopub.execute_input": "2022-08-10T06:04:52.873704Z",
     "iopub.status.busy": "2022-08-10T06:04:52.873704Z",
     "iopub.status.idle": "2022-08-10T06:04:53.078161Z",
     "shell.execute_reply": "2022-08-10T06:04:53.078161Z",
     "shell.execute_reply.started": "2022-08-10T06:04:52.873704Z"
    },
    "tags": []
   },
   "outputs": [
    {
     "data": {
      "image/png": "[encoded data removed]",
      "text/plain": [
       "<Figure size 432x288 with 10 Axes>"
      ]
     },
     "metadata": {
      "image/png": {
       "height": 173,
       "width": 251
      },
      "needs_background": "light"
     },
     "output_type": "display_data"
    }
   ],
   "source": [
    "for i, image_idx in enumerate(range(5)):\n",
    "    # 원본을 그린다\n",
    "    ax = plt.subplot(2, 7, i+1)\n",
    "    plt.imshow(X_test[image_idx].reshape(28,28))\n",
    "    ax.axis('off')\n",
    "    \n",
    "    # 예측 이미지\n",
    "    ax = plt.subplot(2, 7, 7+i+1)\n",
    "    plt.imshow(ae_img[image_idx].reshape(28, 28))\n",
    "    ax.axis('off')\n",
    "    \n",
    "plt.show()"
   ]
  },
  {
   "cell_type": "code",
   "execution_count": null,
   "id": "8bfbb34b-e06c-40d6-bdf5-1497e756e514",
   "metadata": {},
   "outputs": [],
   "source": []
  }
 ],
 "metadata": {
  "kernelspec": {
   "display_name": "Python 3 (ipykernel)",
   "language": "python",
   "name": "python3"
  },
  "language_info": {
   "codemirror_mode": {
    "name": "ipython",
    "version": 3
   },
   "file_extension": ".py",
   "mimetype": "text/x-python",
   "name": "python",
   "nbconvert_exporter": "python",
   "pygments_lexer": "ipython3",
   "version": "3.9.12"
  }
 },
 "nbformat": 4,
 "nbformat_minor": 5
}
