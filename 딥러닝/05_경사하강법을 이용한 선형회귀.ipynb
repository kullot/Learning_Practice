{
 "cells": [
  {
   "cell_type": "code",
   "execution_count": 8,
   "id": "936e8c64-b3d4-45e7-9e16-319a3ac9c7fb",
   "metadata": {
    "execution": {
     "iopub.execute_input": "2022-08-02T04:29:02.486018Z",
     "iopub.status.busy": "2022-08-02T04:29:02.486018Z",
     "iopub.status.idle": "2022-08-02T04:29:02.497982Z",
     "shell.execute_reply": "2022-08-02T04:29:02.497982Z",
     "shell.execute_reply.started": "2022-08-02T04:29:02.486018Z"
    },
    "tags": []
   },
   "outputs": [],
   "source": [
    "# 기본\n",
    "import pandas as pd\n",
    "import numpy as np\n",
    "import matplotlib.pyplot as plt\n",
    "import seaborn as sns\n",
    "\n",
    "# 경고 뜨지 않게...\n",
    "import warnings\n",
    "warnings.filterwarnings('ignore')\n",
    "\n",
    "# 출력한 내용 청소\n",
    "from IPython.display import clear_output\n",
    "\n",
    "# 그래프 설정\n",
    "plt.rcParams['font.family'] = 'Malgun Gothic'\n",
    "# plt.rcParams['font.family'] = 'AppleGothic'\n",
    "plt.rcParams['font.size'] = 16\n",
    "plt.rcParams['figure.figsize'] = 20, 10\n",
    "plt.rcParams['axes.unicode_minus'] = False\n",
    "\n",
    "# 랜덤 모듈\n",
    "import random\n",
    "\n",
    "# 학습 모델 저장 및 복원\n",
    "import pickle\n",
    "\n",
    "# 딥러닝 라이브러리\n",
    "import tensorflow as tf\n",
    "from tensorflow.keras.models import Sequential\n",
    "from tensorflow.keras.layers import Dense\n",
    "from tensorflow.keras.layers import Activation\n",
    "\n",
    "# 평가함수\n",
    "# 분류용\n",
    "from sklearn.metrics import accuracy_score\n",
    "from sklearn.metrics import precision_score\n",
    "from sklearn.metrics import recall_score\n",
    "from sklearn.metrics import f1_score\n",
    "from sklearn.metrics import roc_auc_score\n",
    "\n",
    "# 회귀용\n",
    "from sklearn.metrics import r2_score\n",
    "from sklearn.metrics import mean_squared_error\n",
    "\n",
    "# 랜덤시드 설정\n",
    "# 데이터를 랜덤하게 섞거나 가중치를 랜덤하게 설정하는 등..\n",
    "# 작업에서 랜덤을 적용하는 경우가 더러 있다.\n",
    "# 이에, 시드를 고정시킨다.\n",
    "random_seed = 1\n",
    "np.random.seed(random_seed)\n",
    "random.seed(random_seed)\n",
    "tf.random.set_seed(random_seed)\n",
    "\n",
    "# 현재 프로젝트에서 GPU 메모리 사용을 필요한 만큼만 쓸 수 있도록 한다.\n",
    "# 컴퓨터에 있는 GPU 정보들을 가져온다.\n",
    "\n",
    "gpus = tf.config.experimental.list_physical_devices('GPU')\n",
    "# gpu가 있다면...\n",
    "if len(gpus) > 0 :\n",
    "    try :\n",
    "        for gpu in gpus :\n",
    "            tf.config.experimental.set_memory_growth(gpu, True)\n",
    "    except RuntimeError as e :\n",
    "        print(e)"
   ]
  },
  {
   "cell_type": "markdown",
   "id": "9697f4f1-cd12-4318-9d04-3aa6d7f6345c",
   "metadata": {},
   "source": [
    "### 경사하강법\n",
    "- 앞서 살펴본 오차 계산법을 통하면 오차를 구할 수 있다.\n",
    "- 최적의 기울기 보다 기울기가 크거나 작으면 오차는 커진다.\n",
    "- 최적의 y절편보다 y절편이 크거나 작으면 오차는 커진다.\n",
    "- 이에 오차와 기울기, 오차와 y절편간의 관계는 2차 함수 관계가 된다.\n",
    "- 이를 이용해 2차함수를 통한 오차그래프를 만들고 그래프의 접선의 기울기를 구해 접선의 기울기가 최소가 되는 지점을 찾게 된다.\n",
    "- 이 때, 접선의 기울기를 구하기 위해 미분을 사용한다."
   ]
  },
  {
   "cell_type": "code",
   "execution_count": 16,
   "id": "27fa0adc-d3b7-4bcd-bd3c-4e88dce861df",
   "metadata": {
    "execution": {
     "iopub.execute_input": "2022-08-02T04:33:54.709395Z",
     "iopub.status.busy": "2022-08-02T04:33:54.709395Z",
     "iopub.status.idle": "2022-08-02T04:33:54.721362Z",
     "shell.execute_reply": "2022-08-02T04:33:54.721362Z",
     "shell.execute_reply.started": "2022-08-02T04:33:54.709395Z"
    },
    "tags": []
   },
   "outputs": [],
   "source": [
    "# 학습할 데이터\n",
    "공부한시간 = [2, 4, 6, 8]\n",
    "성적 = [81, 93, 91, 97]"
   ]
  },
  {
   "cell_type": "code",
   "execution_count": 17,
   "id": "64ab8c4f-602c-4173-b894-45a79871a882",
   "metadata": {
    "execution": {
     "iopub.execute_input": "2022-08-02T04:33:54.998351Z",
     "iopub.status.busy": "2022-08-02T04:33:54.997352Z",
     "iopub.status.idle": "2022-08-02T04:33:55.018296Z",
     "shell.execute_reply": "2022-08-02T04:33:55.016303Z",
     "shell.execute_reply.started": "2022-08-02T04:33:54.998351Z"
    },
    "tags": []
   },
   "outputs": [],
   "source": [
    "# 계산의 용이성을 위해 ndarray를 생성한다.\n",
    "x_data = np.array(공부한시간)\n",
    "y_data = np.array(성적)"
   ]
  },
  {
   "cell_type": "code",
   "execution_count": 18,
   "id": "c3037691-539f-4ac3-b952-951686553a9a",
   "metadata": {
    "execution": {
     "iopub.execute_input": "2022-08-02T04:33:55.269113Z",
     "iopub.status.busy": "2022-08-02T04:33:55.269113Z",
     "iopub.status.idle": "2022-08-02T04:33:55.282077Z",
     "shell.execute_reply": "2022-08-02T04:33:55.280082Z",
     "shell.execute_reply.started": "2022-08-02T04:33:55.269113Z"
    },
    "tags": []
   },
   "outputs": [],
   "source": [
    "# 임의의 기울기와 절편\n",
    "기울기 = 0\n",
    "절편 = 0"
   ]
  },
  {
   "cell_type": "code",
   "execution_count": 19,
   "id": "52cee85d-cbc3-4fc4-b5a9-f17443fe6db0",
   "metadata": {
    "execution": {
     "iopub.execute_input": "2022-08-02T04:33:55.561163Z",
     "iopub.status.busy": "2022-08-02T04:33:55.560165Z",
     "iopub.status.idle": "2022-08-02T04:33:55.575125Z",
     "shell.execute_reply": "2022-08-02T04:33:55.573130Z",
     "shell.execute_reply.started": "2022-08-02T04:33:55.561163Z"
    },
    "tags": []
   },
   "outputs": [],
   "source": [
    "# 학습율\n",
    "학습율 = 0.001"
   ]
  },
  {
   "cell_type": "code",
   "execution_count": 20,
   "id": "596e3e59-844e-445a-ab15-ba4e70282111",
   "metadata": {
    "execution": {
     "iopub.execute_input": "2022-08-02T04:33:55.902007Z",
     "iopub.status.busy": "2022-08-02T04:33:55.901010Z",
     "iopub.status.idle": "2022-08-02T04:33:55.915967Z",
     "shell.execute_reply": "2022-08-02T04:33:55.915967Z",
     "shell.execute_reply.started": "2022-08-02T04:33:55.902007Z"
    },
    "tags": []
   },
   "outputs": [],
   "source": [
    "# 학습 횟수\n",
    "epochs = 50000"
   ]
  },
  {
   "cell_type": "code",
   "execution_count": 21,
   "id": "ca67dc78-a6f5-42a6-83ad-1204fb811846",
   "metadata": {
    "execution": {
     "iopub.execute_input": "2022-08-02T04:33:56.259933Z",
     "iopub.status.busy": "2022-08-02T04:33:56.258936Z",
     "iopub.status.idle": "2022-08-02T04:35:01.764311Z",
     "shell.execute_reply": "2022-08-02T04:35:01.764311Z",
     "shell.execute_reply.started": "2022-08-02T04:33:56.259933Z"
    },
    "tags": []
   },
   "outputs": [
    {
     "name": "stdout",
     "output_type": "stream",
     "text": [
      "epoch : 49900, 기울기 : 2.300001199228347, 절편 : 78.99999284351809\n"
     ]
    },
    {
     "data": {
      "image/png": "[encoded data removed]",
      "text/plain": [
       "<Figure size 1440x720 with 1 Axes>"
      ]
     },
     "metadata": {
      "needs_background": "light"
     },
     "output_type": "display_data"
    }
   ],
   "source": [
    "# 학습한다.\n",
    "# 학습 횟수 만큼 반복한다.\n",
    "for i in range(epochs):\n",
    "    # 현재의 기울기와 y절편을 이용하여 예측 결과를 가져온다.\n",
    "    y_pred = 기울기 * x_data + 절편\n",
    "    # print(y_pred)\n",
    "    \n",
    "    # 오차를 구한다.\n",
    "    error = y_data - y_pred\n",
    "    # print(error)\n",
    "    \n",
    "    # 기울기를 미분한다.\n",
    "    a_diff = -(2 / len(x_data)) * sum(x_data * error)\n",
    "    # 절편을 미분한다.\n",
    "    b_diff = -(2 / len(x_data)) * sum(error)\n",
    "    # print(a_diff)\n",
    "    # print(b_diff)\n",
    "    \n",
    "    # 미분 값과 학습율을 이용해 기울기과 절편을 업데이트 한다.\n",
    "    기울기 = 기울기 - (학습율 * a_diff)\n",
    "    절편 = 절편 - (학습율 * b_diff)\n",
    "    \n",
    "    if i % 100 == 0 :\n",
    "        clear_output(wait=True)\n",
    "        \n",
    "        print(f'epoch : {i}, 기울기 : {기울기}, 절편 : {절편}')\n",
    "        \n",
    "        plt.scatter(공부한시간, 성적, label='원본')\n",
    "        plt.scatter(공부한시간, y_pred, label='예측')\n",
    "        plt.plot([min(x_data), max(x_data)], [min(y_pred), max(y_pred)])\n",
    "        plt.xlim(0, 10)\n",
    "        plt.ylim(80, 120)\n",
    "        plt.show()"
   ]
  },
  {
   "cell_type": "code",
   "execution_count": 23,
   "id": "1cd001c7-643b-4cc7-b789-81d5eef6963c",
   "metadata": {
    "execution": {
     "iopub.execute_input": "2022-08-02T04:37:09.974001Z",
     "iopub.status.busy": "2022-08-02T04:37:09.974001Z",
     "iopub.status.idle": "2022-08-02T04:37:09.994944Z",
     "shell.execute_reply": "2022-08-02T04:37:09.992950Z",
     "shell.execute_reply.started": "2022-08-02T04:37:09.974001Z"
    },
    "tags": []
   },
   "outputs": [
    {
     "data": {
      "text/plain": [
       "array([83.59999539, 88.19999771, 92.80000004, 97.40000236])"
      ]
     },
     "execution_count": 23,
     "metadata": {},
     "output_type": "execute_result"
    }
   ],
   "source": [
    "# 구한 기울기외 절편으로 예측값을 계산한다.\n",
    "y_pred = 기울기 * x_data + 절편\n",
    "y_pred"
   ]
  },
  {
   "cell_type": "code",
   "execution_count": 25,
   "id": "23f116a3-7836-4056-a1bb-0f5baf70bf10",
   "metadata": {
    "execution": {
     "iopub.execute_input": "2022-08-02T04:37:21.013381Z",
     "iopub.status.busy": "2022-08-02T04:37:21.012384Z",
     "iopub.status.idle": "2022-08-02T04:37:21.025549Z",
     "shell.execute_reply": "2022-08-02T04:37:21.025549Z",
     "shell.execute_reply.started": "2022-08-02T04:37:21.013381Z"
    },
    "tags": []
   },
   "outputs": [
    {
     "data": {
      "text/plain": [
       "[81, 93, 91, 97]"
      ]
     },
     "execution_count": 25,
     "metadata": {},
     "output_type": "execute_result"
    }
   ],
   "source": [
    "# 실제결과\n",
    "성적"
   ]
  }
 ],
 "metadata": {
  "kernelspec": {
   "display_name": "Python 3 (ipykernel)",
   "language": "python",
   "name": "python3"
  },
  "language_info": {
   "codemirror_mode": {
    "name": "ipython",
    "version": 3
   },
   "file_extension": ".py",
   "mimetype": "text/x-python",
   "name": "python",
   "nbconvert_exporter": "python",
   "pygments_lexer": "ipython3",
   "version": "3.9.12"
  }
 },
 "nbformat": 4,
 "nbformat_minor": 5
}
