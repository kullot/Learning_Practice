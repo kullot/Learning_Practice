{
 "cells": [
  {
   "cell_type": "code",
   "execution_count": 1,
   "id": "9b0b36d0-66fd-46a5-a48c-65afe57adb80",
   "metadata": {
    "execution": {
     "iopub.execute_input": "2022-08-09T04:48:13.475977Z",
     "iopub.status.busy": "2022-08-09T04:48:13.475977Z",
     "iopub.status.idle": "2022-08-09T04:48:16.916927Z",
     "shell.execute_reply": "2022-08-09T04:48:16.916927Z",
     "shell.execute_reply.started": "2022-08-09T04:48:13.475977Z"
    },
    "tags": []
   },
   "outputs": [],
   "source": [
    "# 기본\n",
    "import pandas as pd\n",
    "import numpy as np\n",
    "import matplotlib.pyplot as plt\n",
    "import seaborn as sns\n",
    "\n",
    "import os\n",
    "import shutil\n",
    "\n",
    "# 경고 뜨지 않게...\n",
    "import warnings\n",
    "warnings.filterwarnings('ignore')\n",
    "\n",
    "# 그래프 설정\n",
    "plt.rcParams['font.family'] = 'Malgun Gothic'\n",
    "# plt.rcParams['font.family'] = 'AppleGothic'\n",
    "plt.rcParams['font.size'] = 16\n",
    "plt.rcParams['figure.figsize'] = 20, 10\n",
    "plt.rcParams['axes.unicode_minus'] = False\n",
    "# 매직명령어 => 쥬피터노트북에서 그래프 삽입 기능 \n",
    "%matplotlib inline\n",
    "# 글꼴 선명화 \n",
    "%config InlineBackend.figure_format = 'retina'\n",
    "\n",
    "# 랜덤 모듈\n",
    "import random\n",
    "\n",
    "# 학습 모델 저장 및 복원\n",
    "import pickle\n",
    "\n",
    "# 딥러닝 라이브러리\n",
    "import tensorflow as tf\n",
    "# 신경망 모델을 관리하는 객체\n",
    "from tensorflow.keras.models import Sequential\n",
    "# 선형 회귀 레이어\n",
    "from tensorflow.keras.layers import Dense\n",
    "# 활성화 함수를 정의하는 객체\n",
    "from tensorflow.keras.layers import Activation\n",
    "\n",
    "# CNN : 커널을 통해 합성곱을 구하는 것. 이미지의 특징이 두드러 지게 한다.\n",
    "from tensorflow.keras.layers import Conv2D\n",
    "\n",
    "# MaxPooling : 커널내에서 가장 큰 값을 추출하는 방식으로 불필요한 부분을 제거한다.\n",
    "from tensorflow.keras.layers import MaxPool2D\n",
    "\n",
    "# 1차원으로 변환하는 것\n",
    "from tensorflow.keras.layers import Flatten\n",
    "\n",
    "# Dropout : 이미자나 영상, 음파 등의 데이터는 오랫동안 학습을 진행 시켜야 한다.\n",
    "# 하지만 너무 빨리 과적합이 발생되면 조기 중단 때문에 학습 횟수가 줄어들 수 있다.\n",
    "# 이에 은닉의 노드를 일부 사용하지 않으므로써 과적합이 빨리 오는 것을 예방하고\n",
    "# 오랫동안 학습이 가능하다.\n",
    "from tensorflow.keras.layers import Dropout\n",
    "\n",
    "# 원핫 인코딩을 수행하는 함수\n",
    "from tensorflow.keras.utils import to_categorical\n",
    "\n",
    "# 저장된 학습모델을 복원한다.\n",
    "from tensorflow.keras.models import load_model\n",
    "\n",
    "# 모델을 자동 저장한다.\n",
    "from tensorflow.keras.callbacks import ModelCheckpoint\n",
    "# 성능이 더이상 좋아지지 않을 경우 중단 시킨다.\n",
    "from tensorflow.keras.callbacks import EarlyStopping, TensorBoard\n",
    "\n",
    "# 평가함수\n",
    "# 분류용\n",
    "from sklearn.metrics import accuracy_score\n",
    "from sklearn.metrics import precision_score\n",
    "from sklearn.metrics import recall_score\n",
    "from sklearn.metrics import f1_score\n",
    "from sklearn.metrics import roc_auc_score\n",
    "\n",
    "# 회귀용\n",
    "from sklearn.metrics import r2_score\n",
    "from sklearn.metrics import mean_squared_error\n",
    "\n",
    "# 표준화\n",
    "from sklearn.preprocessing import StandardScaler\n",
    "from sklearn.preprocessing import MinMaxScaler\n",
    "# 문자열 => 숫자\n",
    "from sklearn.preprocessing import LabelEncoder\n",
    "\n",
    "# 전체데이터를 학습용과 검증으로 나눈다.\n",
    "from sklearn.model_selection import train_test_split\n",
    "\n",
    "# 랜덤시드 설정\n",
    "# 데이터를 랜덤하게 섞거나 가중치를 랜덤하게 설정하는 등..\n",
    "# 작업에서 랜덤을 적용하는 경우가 더러 있다.\n",
    "# 이에, 시드를 고정시킨다.\n",
    "random_seed = 1\n",
    "np.random.seed(random_seed)\n",
    "random.seed(random_seed)\n",
    "tf.random.set_seed(random_seed)\n",
    "\n",
    "# 현재 프로젝트에서 GPU 메모리 사용을 필요한 만큼만 쓸 수 있도록 한다.\n",
    "# 컴퓨터에 있는 GPU 정보들을 가져온다.\n",
    "\n",
    "gpus = tf.config.experimental.list_physical_devices('GPU')\n",
    "# gpu가 있다면...\n",
    "if len(gpus) > 0 :\n",
    "    try :\n",
    "        for gpu in gpus :\n",
    "            tf.config.experimental.set_memory_growth(gpu, True)\n",
    "    except RuntimeError as e :\n",
    "        print(e)"
   ]
  },
  {
   "cell_type": "code",
   "execution_count": 2,
   "id": "d5684f2d-c86e-4893-a218-fbd803c522ac",
   "metadata": {
    "execution": {
     "iopub.execute_input": "2022-08-09T04:48:16.917926Z",
     "iopub.status.busy": "2022-08-09T04:48:16.917926Z",
     "iopub.status.idle": "2022-08-09T04:48:16.932889Z",
     "shell.execute_reply": "2022-08-09T04:48:16.932889Z",
     "shell.execute_reply.started": "2022-08-09T04:48:16.917926Z"
    },
    "tags": []
   },
   "outputs": [],
   "source": [
    "# MNIST\n",
    "from tensorflow.keras.datasets import mnist"
   ]
  },
  {
   "cell_type": "code",
   "execution_count": 3,
   "id": "2c10f857-b839-47c9-8207-bb32b49f0f1c",
   "metadata": {
    "execution": {
     "iopub.execute_input": "2022-08-09T04:48:16.934885Z",
     "iopub.status.busy": "2022-08-09T04:48:16.934885Z",
     "iopub.status.idle": "2022-08-09T04:48:17.141033Z",
     "shell.execute_reply": "2022-08-09T04:48:17.140046Z",
     "shell.execute_reply.started": "2022-08-09T04:48:16.934885Z"
    },
    "tags": []
   },
   "outputs": [],
   "source": [
    "# mnist 데이터를 불러온다.\n",
    "(X_train, y_train), (X_test, y_test) = mnist.load_data()"
   ]
  },
  {
   "cell_type": "code",
   "execution_count": 4,
   "id": "25689db6-2bd6-4a31-862b-17e19c0c3921",
   "metadata": {
    "execution": {
     "iopub.execute_input": "2022-08-09T04:48:17.142030Z",
     "iopub.status.busy": "2022-08-09T04:48:17.141033Z",
     "iopub.status.idle": "2022-08-09T04:48:17.297615Z",
     "shell.execute_reply": "2022-08-09T04:48:17.297615Z",
     "shell.execute_reply.started": "2022-08-09T04:48:17.142030Z"
    },
    "tags": []
   },
   "outputs": [],
   "source": [
    "# 이미지 전처리(이미지의 색상 데이터를 0~1 사이로 맞춘다.)\n",
    "# CNN은 이미지 인식을 위해 만든 은닉층이다.\n",
    "# 이 때문에 입력노드를 설정할 때 데이터의 개수가 아닌, 3차원 형태의\n",
    "# 세로길이, 가로길이, 채널 형태로 설정해야 한다.\n",
    "\n",
    "# 이미지의 개수\n",
    "cnt = X_train.shape[0]\n",
    "# 이미지의 높이 길이\n",
    "h = X_train.shape[1]\n",
    "# 이미지의 가로 길이\n",
    "w = X_train.shape[2]\n",
    "# 이미지의 채널(흑백 : 1, 컬러 : 3)\n",
    "channel = 1\n",
    "\n",
    "# 전체 데이터를 (이미지의 수, 이미지 높이, 이미지 너비, 채널수) 형태로 변환해준다.\n",
    "X_train = X_train.reshape(cnt, h, w, channel)\n",
    "# 값을 0~1사이로 변환한다(표준화, 이미지 데이터는 0~255까지 있으므로 255로 나눠준다.)\n",
    "X_train = X_train.astype('float64')\n",
    "X_train = X_train / 255\n",
    "# X_train[0]"
   ]
  },
  {
   "cell_type": "code",
   "execution_count": 5,
   "id": "2e3e9220-1df7-44e1-ae2b-b6b58004b399",
   "metadata": {
    "execution": {
     "iopub.execute_input": "2022-08-09T04:48:17.298616Z",
     "iopub.status.busy": "2022-08-09T04:48:17.298616Z",
     "iopub.status.idle": "2022-08-09T04:48:17.345993Z",
     "shell.execute_reply": "2022-08-09T04:48:17.345589Z",
     "shell.execute_reply.started": "2022-08-09T04:48:17.298616Z"
    },
    "tags": []
   },
   "outputs": [],
   "source": [
    "# 이미지 전처리(이미지의 색상 데이터를 0~1 사이로 맞춘다.)\n",
    "# CNN은 이미지 인식을 위해 만든 은닉층이다.\n",
    "# 이 때문에 입력노드를 설정할 때 데이터의 개수가 아닌, 3차원 형태의\n",
    "# 세로길이, 가로길이, 채널 형태로 설정해야 한다.\n",
    "\n",
    "# 이미지의 개수\n",
    "cnt = X_test.shape[0]\n",
    "# 이미지의 높이 길이\n",
    "h = X_test.shape[1]\n",
    "# 이미지의 가로 길이\n",
    "w = X_test.shape[2]\n",
    "# 이미지의 채널(흑백 : 1, 컬러 : 3)\n",
    "channel = 1\n",
    "\n",
    "# 전체 데이터를 (이미지의 수, 이미지 높이, 이미지 너비, 채널수) 형태로 변환해준다.\n",
    "X_test = X_test.reshape(cnt, h, w, channel)\n",
    "# 값을 0~1사이로 변환한다(표준화, 이미지 데이터는 0~255까지 있으므로 255로 나눠준다.)\n",
    "X_test = X_test.astype('float64')\n",
    "X_test = X_test / 255\n",
    "# X_test[0]"
   ]
  },
  {
   "cell_type": "code",
   "execution_count": 6,
   "id": "5271c878-3c02-4f90-8967-a36053372533",
   "metadata": {
    "execution": {
     "iopub.execute_input": "2022-08-09T04:48:17.346996Z",
     "iopub.status.busy": "2022-08-09T04:48:17.346996Z",
     "iopub.status.idle": "2022-08-09T04:48:17.359961Z",
     "shell.execute_reply": "2022-08-09T04:48:17.359961Z",
     "shell.execute_reply.started": "2022-08-09T04:48:17.346996Z"
    },
    "tags": []
   },
   "outputs": [],
   "source": [
    "# 결과 데이터 원핫 인코딩\n",
    "y_train = to_categorical(y_train)\n",
    "y_test = to_categorical(y_test)"
   ]
  },
  {
   "cell_type": "code",
   "execution_count": 7,
   "id": "24046fb1-3553-4f8c-8c4e-b3a4f8d135c6",
   "metadata": {
    "execution": {
     "iopub.execute_input": "2022-08-09T04:48:17.360954Z",
     "iopub.status.busy": "2022-08-09T04:48:17.360954Z",
     "iopub.status.idle": "2022-08-09T04:48:17.374921Z",
     "shell.execute_reply": "2022-08-09T04:48:17.374921Z",
     "shell.execute_reply.started": "2022-08-09T04:48:17.360954Z"
    },
    "tags": []
   },
   "outputs": [],
   "source": [
    "# 2진 분류 옵션들\n",
    "# out_nodes = 1\n",
    "# loss_function = 'binary_crossentropy'\n",
    "# activation_function = 'sigmoid'\n",
    "\n",
    "# 다중 분류 옵션들\n",
    "out_nodes = 10\n",
    "loss_function = 'categorical_crossentropy'\n",
    "activation_function = 'softmax'\n",
    "\n",
    "# 회귀\n",
    "# 출력 결과를 하나만 뽑아서 Series로 나왔다면...\n",
    "# 1로 설정한다.\n",
    "# if type(y) is pd.core.series.Series:\n",
    "#     out_nodes = 1\n",
    "# else : \n",
    "#     out_nodes = y.shape[1]\n",
    "    \n",
    "# loss_function = 'mean_squared_error'"
   ]
  },
  {
   "cell_type": "code",
   "execution_count": 8,
   "id": "7131c8d7-97e8-4c40-9393-a20004777003",
   "metadata": {
    "execution": {
     "iopub.execute_input": "2022-08-09T04:48:17.375914Z",
     "iopub.status.busy": "2022-08-09T04:48:17.375914Z",
     "iopub.status.idle": "2022-08-09T04:48:17.390988Z",
     "shell.execute_reply": "2022-08-09T04:48:17.390988Z",
     "shell.execute_reply.started": "2022-08-09T04:48:17.375914Z"
    },
    "tags": []
   },
   "outputs": [],
   "source": [
    "# 이미지의 세로길이\n",
    "h = X_train.shape[1]\n",
    "# 이미지의 가로길이\n",
    "w = X_train.shape[2]\n",
    "# 이미지의 채널\n",
    "channel = X_train.shape[3]"
   ]
  },
  {
   "cell_type": "code",
   "execution_count": 9,
   "id": "d7056ba8-49a2-482a-9124-ea30e74d0e59",
   "metadata": {
    "execution": {
     "iopub.execute_input": "2022-08-09T04:48:17.392979Z",
     "iopub.status.busy": "2022-08-09T04:48:17.391986Z",
     "iopub.status.idle": "2022-08-09T04:48:17.838024Z",
     "shell.execute_reply": "2022-08-09T04:48:17.838024Z",
     "shell.execute_reply.started": "2022-08-09T04:48:17.392979Z"
    },
    "tags": []
   },
   "outputs": [],
   "source": [
    "model = Sequential()\n",
    "# CNN : 이미지 데이터를 입력받아 합성곱을 수행한다.\n",
    "# 첫 번째 : 노드의 개수 = 커널의 개수\n",
    "# kernel_size : 커널 하나의 가로 세로 길이 2*2, 3*3 추천\n",
    "# input_shape : 입력되는 이미지의 세로길이 가로길이 채널수\n",
    "model.add(Conv2D(32, kernel_size=(3,3), input_shape=(h, w, channel)))\n",
    "model.add(Activation('relu'))\n",
    "\n",
    "model.add(Conv2D(64, kernel_size=(3,3)))\n",
    "model.add(Activation('relu'))\n",
    "\n",
    "# 커널내에서 가장큰 값만 추출하여 불필요한 부분을 제거한다.\n",
    "model.add(MaxPool2D(pool_size=2))\n",
    "\n",
    "# 과적합 방지\n",
    "model.add(Dropout(0.25))\n",
    "\n",
    "# 다차원의 이미지 데이터를 1차원으로 변화\n",
    "model.add(Flatten())\n",
    "\n",
    "model.add(Dense(128))\n",
    "model.add(Activation('relu'))\n",
    "          \n",
    "model.add(Dropout(0.5))\n",
    "\n",
    "# 출력층\n",
    "model.add(Dense(out_nodes))\n",
    "model.add(Activation(activation_function))"
   ]
  },
  {
   "cell_type": "code",
   "execution_count": 10,
   "id": "6c4c2fe4-464b-447f-90f0-6a50a9bbd2e0",
   "metadata": {
    "execution": {
     "iopub.execute_input": "2022-08-09T04:48:17.839015Z",
     "iopub.status.busy": "2022-08-09T04:48:17.839015Z",
     "iopub.status.idle": "2022-08-09T04:48:17.869932Z",
     "shell.execute_reply": "2022-08-09T04:48:17.869932Z",
     "shell.execute_reply.started": "2022-08-09T04:48:17.839015Z"
    },
    "tags": []
   },
   "outputs": [
    {
     "name": "stdout",
     "output_type": "stream",
     "text": [
      "Model: \"sequential\"\n",
      "_________________________________________________________________\n",
      " Layer (type)                Output Shape              Param #   \n",
      "=================================================================\n",
      " conv2d (Conv2D)             (None, 26, 26, 32)        320       \n",
      "                                                                 \n",
      " activation (Activation)     (None, 26, 26, 32)        0         \n",
      "                                                                 \n",
      " conv2d_1 (Conv2D)           (None, 24, 24, 64)        18496     \n",
      "                                                                 \n",
      " activation_1 (Activation)   (None, 24, 24, 64)        0         \n",
      "                                                                 \n",
      " max_pooling2d (MaxPooling2D  (None, 12, 12, 64)       0         \n",
      " )                                                               \n",
      "                                                                 \n",
      " dropout (Dropout)           (None, 12, 12, 64)        0         \n",
      "                                                                 \n",
      " flatten (Flatten)           (None, 9216)              0         \n",
      "                                                                 \n",
      " dense (Dense)               (None, 128)               1179776   \n",
      "                                                                 \n",
      " activation_2 (Activation)   (None, 128)               0         \n",
      "                                                                 \n",
      " dropout_1 (Dropout)         (None, 128)               0         \n",
      "                                                                 \n",
      " dense_1 (Dense)             (None, 10)                1290      \n",
      "                                                                 \n",
      " activation_3 (Activation)   (None, 10)                0         \n",
      "                                                                 \n",
      "=================================================================\n",
      "Total params: 1,199,882\n",
      "Trainable params: 1,199,882\n",
      "Non-trainable params: 0\n",
      "_________________________________________________________________\n"
     ]
    }
   ],
   "source": [
    "# 모델 컴파일\n",
    "model.compile(loss=loss_function, optimizer='adam', metrics=['accuracy'])\n",
    "model.summary()"
   ]
  },
  {
   "cell_type": "code",
   "execution_count": 11,
   "id": "17349236-5285-423a-9126-31f749ddba43",
   "metadata": {
    "execution": {
     "iopub.execute_input": "2022-08-09T04:48:17.870930Z",
     "iopub.status.busy": "2022-08-09T04:48:17.870930Z",
     "iopub.status.idle": "2022-08-09T04:48:17.884893Z",
     "shell.execute_reply": "2022-08-09T04:48:17.884893Z",
     "shell.execute_reply.started": "2022-08-09T04:48:17.870930Z"
    },
    "tags": []
   },
   "outputs": [],
   "source": [
    "# 학습모델을 저장할 경로\n",
    "path = './model/28'\n",
    "\n",
    "# 만약 폴더가 있다면 삭제한다.\n",
    "if os.path.isdir(path):\n",
    "    shutil.rmtree(path)\n",
    "\n",
    "# 폴더를 생성한다.\n",
    "os.makedirs(os.path.join(path))"
   ]
  },
  {
   "cell_type": "code",
   "execution_count": 12,
   "id": "aa9e1671-dc9c-41dc-85e3-235448a46b4d",
   "metadata": {
    "execution": {
     "iopub.execute_input": "2022-08-09T04:48:17.887886Z",
     "iopub.status.busy": "2022-08-09T04:48:17.887886Z",
     "iopub.status.idle": "2022-08-09T04:48:17.899867Z",
     "shell.execute_reply": "2022-08-09T04:48:17.899867Z",
     "shell.execute_reply.started": "2022-08-09T04:48:17.887886Z"
    },
    "tags": []
   },
   "outputs": [],
   "source": [
    "path1 = path + '/{epoch}-{val_loss}.h5'\n",
    "path2 = path + '/best_model.h5'\n",
    "\n",
    "# 저장콜백\n",
    "call1 = ModelCheckpoint(filepath=path1, monitor='val_loss', save_best_only=True)\n",
    "call2 = ModelCheckpoint(filepath=path2, monitor='val_loss', save_best_onlu=True)"
   ]
  },
  {
   "cell_type": "code",
   "execution_count": 37,
   "id": "49cb2d76-dd66-419c-918e-bad69120cac6",
   "metadata": {
    "execution": {
     "iopub.execute_input": "2022-08-09T04:59:30.072961Z",
     "iopub.status.busy": "2022-08-09T04:59:30.072961Z",
     "iopub.status.idle": "2022-08-09T04:59:30.078945Z",
     "shell.execute_reply": "2022-08-09T04:59:30.078945Z",
     "shell.execute_reply.started": "2022-08-09T04:59:30.072961Z"
    },
    "tags": []
   },
   "outputs": [],
   "source": [
    "# 조기 중단\n",
    "call3 = [EarlyStopping(monitor='val_loss', patience=50), TensorBoard(log_dir=path +'./logs', histogram_freq=1)]"
   ]
  },
  {
   "cell_type": "code",
   "execution_count": 14,
   "id": "42c21e0a-fbd5-4b53-83d2-4b2857673de8",
   "metadata": {
    "collapsed": true,
    "execution": {
     "iopub.execute_input": "2022-08-09T04:48:17.916807Z",
     "iopub.status.busy": "2022-08-09T04:48:17.916807Z",
     "iopub.status.idle": "2022-08-09T04:53:14.226278Z",
     "shell.execute_reply": "2022-08-09T04:53:14.226278Z",
     "shell.execute_reply.started": "2022-08-09T04:48:17.916807Z"
    },
    "jupyter": {
     "outputs_hidden": true
    },
    "tags": []
   },
   "outputs": [
    {
     "name": "stdout",
     "output_type": "stream",
     "text": [
      "Epoch 1/200000\n",
      "600/600 [==============================] - 7s 8ms/step - loss: 0.2331 - accuracy: 0.9283 - val_loss: 0.0464 - val_accuracy: 0.9860\n",
      "Epoch 2/200000\n",
      "600/600 [==============================] - 4s 7ms/step - loss: 0.0827 - accuracy: 0.9757 - val_loss: 0.0399 - val_accuracy: 0.9866\n",
      "Epoch 3/200000\n",
      "600/600 [==============================] - 4s 7ms/step - loss: 0.0634 - accuracy: 0.9810 - val_loss: 0.0329 - val_accuracy: 0.9884\n",
      "Epoch 4/200000\n",
      "600/600 [==============================] - 4s 7ms/step - loss: 0.0529 - accuracy: 0.9835 - val_loss: 0.0289 - val_accuracy: 0.9899\n",
      "Epoch 5/200000\n",
      "600/600 [==============================] - 5s 8ms/step - loss: 0.0458 - accuracy: 0.9854 - val_loss: 0.0274 - val_accuracy: 0.9903\n",
      "Epoch 6/200000\n",
      "600/600 [==============================] - 5s 8ms/step - loss: 0.0374 - accuracy: 0.9887 - val_loss: 0.0292 - val_accuracy: 0.9906\n",
      "Epoch 7/200000\n",
      "600/600 [==============================] - 5s 8ms/step - loss: 0.0327 - accuracy: 0.9896 - val_loss: 0.0255 - val_accuracy: 0.9920\n",
      "Epoch 8/200000\n",
      "600/600 [==============================] - 5s 8ms/step - loss: 0.0311 - accuracy: 0.9901 - val_loss: 0.0269 - val_accuracy: 0.9921\n",
      "Epoch 9/200000\n",
      "600/600 [==============================] - 5s 8ms/step - loss: 0.0266 - accuracy: 0.9912 - val_loss: 0.0268 - val_accuracy: 0.9924\n",
      "Epoch 10/200000\n",
      "600/600 [==============================] - 4s 7ms/step - loss: 0.0243 - accuracy: 0.9922 - val_loss: 0.0283 - val_accuracy: 0.9917\n",
      "Epoch 11/200000\n",
      "600/600 [==============================] - 4s 7ms/step - loss: 0.0227 - accuracy: 0.9926 - val_loss: 0.0284 - val_accuracy: 0.9924\n",
      "Epoch 12/200000\n",
      "600/600 [==============================] - 5s 8ms/step - loss: 0.0224 - accuracy: 0.9924 - val_loss: 0.0281 - val_accuracy: 0.9909\n",
      "Epoch 13/200000\n",
      "600/600 [==============================] - 5s 8ms/step - loss: 0.0201 - accuracy: 0.9933 - val_loss: 0.0287 - val_accuracy: 0.9921\n",
      "Epoch 14/200000\n",
      "600/600 [==============================] - 4s 7ms/step - loss: 0.0200 - accuracy: 0.9932 - val_loss: 0.0264 - val_accuracy: 0.9930\n",
      "Epoch 15/200000\n",
      "600/600 [==============================] - 5s 8ms/step - loss: 0.0182 - accuracy: 0.9942 - val_loss: 0.0239 - val_accuracy: 0.9936\n",
      "Epoch 16/200000\n",
      "600/600 [==============================] - 5s 8ms/step - loss: 0.0156 - accuracy: 0.9950 - val_loss: 0.0267 - val_accuracy: 0.9932\n",
      "Epoch 17/200000\n",
      "600/600 [==============================] - 5s 8ms/step - loss: 0.0149 - accuracy: 0.9952 - val_loss: 0.0264 - val_accuracy: 0.9935\n",
      "Epoch 18/200000\n",
      "600/600 [==============================] - 4s 7ms/step - loss: 0.0153 - accuracy: 0.9952 - val_loss: 0.0328 - val_accuracy: 0.9935\n",
      "Epoch 19/200000\n",
      "600/600 [==============================] - 4s 7ms/step - loss: 0.0144 - accuracy: 0.9951 - val_loss: 0.0305 - val_accuracy: 0.9930\n",
      "Epoch 20/200000\n",
      "600/600 [==============================] - 4s 7ms/step - loss: 0.0128 - accuracy: 0.9959 - val_loss: 0.0275 - val_accuracy: 0.9935\n",
      "Epoch 21/200000\n",
      "600/600 [==============================] - 4s 7ms/step - loss: 0.0121 - accuracy: 0.9958 - val_loss: 0.0317 - val_accuracy: 0.9934\n",
      "Epoch 22/200000\n",
      "600/600 [==============================] - 4s 7ms/step - loss: 0.0128 - accuracy: 0.9960 - val_loss: 0.0281 - val_accuracy: 0.9935\n",
      "Epoch 23/200000\n",
      "600/600 [==============================] - 4s 7ms/step - loss: 0.0113 - accuracy: 0.9967 - val_loss: 0.0316 - val_accuracy: 0.9924\n",
      "Epoch 24/200000\n",
      "600/600 [==============================] - 4s 7ms/step - loss: 0.0112 - accuracy: 0.9964 - val_loss: 0.0303 - val_accuracy: 0.9938\n",
      "Epoch 25/200000\n",
      "600/600 [==============================] - 5s 8ms/step - loss: 0.0097 - accuracy: 0.9969 - val_loss: 0.0306 - val_accuracy: 0.9933\n",
      "Epoch 26/200000\n",
      "600/600 [==============================] - 5s 8ms/step - loss: 0.0107 - accuracy: 0.9962 - val_loss: 0.0309 - val_accuracy: 0.9929\n",
      "Epoch 27/200000\n",
      "600/600 [==============================] - 4s 7ms/step - loss: 0.0097 - accuracy: 0.9965 - val_loss: 0.0385 - val_accuracy: 0.9923\n",
      "Epoch 28/200000\n",
      "600/600 [==============================] - 5s 8ms/step - loss: 0.0099 - accuracy: 0.9967 - val_loss: 0.0343 - val_accuracy: 0.9931\n",
      "Epoch 29/200000\n",
      "600/600 [==============================] - 4s 7ms/step - loss: 0.0102 - accuracy: 0.9963 - val_loss: 0.0321 - val_accuracy: 0.9929\n",
      "Epoch 30/200000\n",
      "600/600 [==============================] - 4s 7ms/step - loss: 0.0098 - accuracy: 0.9968 - val_loss: 0.0338 - val_accuracy: 0.9924\n",
      "Epoch 31/200000\n",
      "600/600 [==============================] - 4s 7ms/step - loss: 0.0083 - accuracy: 0.9973 - val_loss: 0.0327 - val_accuracy: 0.9931\n",
      "Epoch 32/200000\n",
      "600/600 [==============================] - 4s 7ms/step - loss: 0.0078 - accuracy: 0.9973 - val_loss: 0.0311 - val_accuracy: 0.9936\n",
      "Epoch 33/200000\n",
      "600/600 [==============================] - 5s 8ms/step - loss: 0.0077 - accuracy: 0.9974 - val_loss: 0.0365 - val_accuracy: 0.9922\n",
      "Epoch 34/200000\n",
      "600/600 [==============================] - 4s 7ms/step - loss: 0.0087 - accuracy: 0.9970 - val_loss: 0.0325 - val_accuracy: 0.9944\n",
      "Epoch 35/200000\n",
      "600/600 [==============================] - 5s 8ms/step - loss: 0.0084 - accuracy: 0.9972 - val_loss: 0.0336 - val_accuracy: 0.9932\n",
      "Epoch 36/200000\n",
      "600/600 [==============================] - 5s 8ms/step - loss: 0.0076 - accuracy: 0.9976 - val_loss: 0.0333 - val_accuracy: 0.9940\n",
      "Epoch 37/200000\n",
      "600/600 [==============================] - 5s 8ms/step - loss: 0.0093 - accuracy: 0.9970 - val_loss: 0.0326 - val_accuracy: 0.9934\n",
      "Epoch 38/200000\n",
      "600/600 [==============================] - 5s 8ms/step - loss: 0.0071 - accuracy: 0.9975 - val_loss: 0.0345 - val_accuracy: 0.9935\n",
      "Epoch 39/200000\n",
      "600/600 [==============================] - 5s 8ms/step - loss: 0.0074 - accuracy: 0.9976 - val_loss: 0.0336 - val_accuracy: 0.9937\n",
      "Epoch 40/200000\n",
      "600/600 [==============================] - 5s 8ms/step - loss: 0.0085 - accuracy: 0.9974 - val_loss: 0.0301 - val_accuracy: 0.9939\n",
      "Epoch 41/200000\n",
      "600/600 [==============================] - 5s 8ms/step - loss: 0.0082 - accuracy: 0.9976 - val_loss: 0.0293 - val_accuracy: 0.9943\n",
      "Epoch 42/200000\n",
      "600/600 [==============================] - 4s 7ms/step - loss: 0.0072 - accuracy: 0.9974 - val_loss: 0.0296 - val_accuracy: 0.9940\n",
      "Epoch 43/200000\n",
      "600/600 [==============================] - 4s 7ms/step - loss: 0.0083 - accuracy: 0.9973 - val_loss: 0.0308 - val_accuracy: 0.9943\n",
      "Epoch 44/200000\n",
      "600/600 [==============================] - 5s 8ms/step - loss: 0.0066 - accuracy: 0.9977 - val_loss: 0.0337 - val_accuracy: 0.9940\n",
      "Epoch 45/200000\n",
      "600/600 [==============================] - 5s 8ms/step - loss: 0.0058 - accuracy: 0.9980 - val_loss: 0.0343 - val_accuracy: 0.9937\n",
      "Epoch 46/200000\n",
      "600/600 [==============================] - 5s 8ms/step - loss: 0.0067 - accuracy: 0.9977 - val_loss: 0.0380 - val_accuracy: 0.9931\n",
      "Epoch 47/200000\n",
      "600/600 [==============================] - 5s 8ms/step - loss: 0.0068 - accuracy: 0.9979 - val_loss: 0.0349 - val_accuracy: 0.9935\n",
      "Epoch 48/200000\n",
      "600/600 [==============================] - 4s 7ms/step - loss: 0.0062 - accuracy: 0.9981 - val_loss: 0.0366 - val_accuracy: 0.9938\n",
      "Epoch 49/200000\n",
      "600/600 [==============================] - 4s 7ms/step - loss: 0.0064 - accuracy: 0.9980 - val_loss: 0.0408 - val_accuracy: 0.9931\n",
      "Epoch 50/200000\n",
      "600/600 [==============================] - 4s 7ms/step - loss: 0.0071 - accuracy: 0.9977 - val_loss: 0.0378 - val_accuracy: 0.9928\n",
      "Epoch 51/200000\n",
      "600/600 [==============================] - 5s 8ms/step - loss: 0.0070 - accuracy: 0.9977 - val_loss: 0.0377 - val_accuracy: 0.9934\n",
      "Epoch 52/200000\n",
      "600/600 [==============================] - 4s 7ms/step - loss: 0.0066 - accuracy: 0.9977 - val_loss: 0.0383 - val_accuracy: 0.9936\n",
      "Epoch 53/200000\n",
      "600/600 [==============================] - 5s 7ms/step - loss: 0.0049 - accuracy: 0.9982 - val_loss: 0.0401 - val_accuracy: 0.9932\n",
      "Epoch 54/200000\n",
      "600/600 [==============================] - 5s 8ms/step - loss: 0.0060 - accuracy: 0.9980 - val_loss: 0.0408 - val_accuracy: 0.9938\n",
      "Epoch 55/200000\n",
      "600/600 [==============================] - 5s 8ms/step - loss: 0.0062 - accuracy: 0.9980 - val_loss: 0.0430 - val_accuracy: 0.9935\n",
      "Epoch 56/200000\n",
      "600/600 [==============================] - 5s 8ms/step - loss: 0.0068 - accuracy: 0.9979 - val_loss: 0.0428 - val_accuracy: 0.9930\n",
      "Epoch 57/200000\n",
      "600/600 [==============================] - 5s 8ms/step - loss: 0.0049 - accuracy: 0.9983 - val_loss: 0.0397 - val_accuracy: 0.9933\n",
      "Epoch 58/200000\n",
      "600/600 [==============================] - 5s 8ms/step - loss: 0.0060 - accuracy: 0.9981 - val_loss: 0.0442 - val_accuracy: 0.9931\n",
      "Epoch 59/200000\n",
      "600/600 [==============================] - 5s 8ms/step - loss: 0.0065 - accuracy: 0.9980 - val_loss: 0.0337 - val_accuracy: 0.9938\n",
      "Epoch 60/200000\n",
      "600/600 [==============================] - 5s 8ms/step - loss: 0.0054 - accuracy: 0.9983 - val_loss: 0.0339 - val_accuracy: 0.9939\n",
      "Epoch 61/200000\n",
      "600/600 [==============================] - 5s 8ms/step - loss: 0.0068 - accuracy: 0.9978 - val_loss: 0.0355 - val_accuracy: 0.9939\n",
      "Epoch 62/200000\n",
      "600/600 [==============================] - 4s 7ms/step - loss: 0.0057 - accuracy: 0.9981 - val_loss: 0.0373 - val_accuracy: 0.9934\n",
      "Epoch 63/200000\n",
      "600/600 [==============================] - 5s 8ms/step - loss: 0.0058 - accuracy: 0.9981 - val_loss: 0.0410 - val_accuracy: 0.9934\n",
      "Epoch 64/200000\n",
      "600/600 [==============================] - 5s 8ms/step - loss: 0.0054 - accuracy: 0.9982 - val_loss: 0.0390 - val_accuracy: 0.9940\n",
      "Epoch 65/200000\n",
      "600/600 [==============================] - 5s 8ms/step - loss: 0.0047 - accuracy: 0.9986 - val_loss: 0.0394 - val_accuracy: 0.9939\n"
     ]
    }
   ],
   "source": [
    "# 학습\n",
    "# validation_split : 주어진 데이터에서 사용할 검증데이터 비율\n",
    "history = model.fit(X_train, y_train, epochs=200000, batch_size=100,\n",
    "                    validation_data=[X_test, y_test], callbacks=[call1, call2, call3])"
   ]
  },
  {
   "cell_type": "code",
   "execution_count": 18,
   "id": "180688c2-f409-496e-9712-09793d35d787",
   "metadata": {
    "execution": {
     "iopub.execute_input": "2022-08-09T04:55:22.212914Z",
     "iopub.status.busy": "2022-08-09T04:55:22.212914Z",
     "iopub.status.idle": "2022-08-09T04:55:22.227873Z",
     "shell.execute_reply": "2022-08-09T04:55:22.227873Z",
     "shell.execute_reply.started": "2022-08-09T04:55:22.212914Z"
    },
    "tags": []
   },
   "outputs": [],
   "source": [
    "# 리스트를 추출한다.\n",
    "loss_list = history.history['loss']\n",
    "accuracy_list = history.history['accuracy']\n",
    "val_loss_list = history.history['val_loss']\n",
    "val_accuracy_list = history.history['val_accuracy']"
   ]
  },
  {
   "cell_type": "code",
   "execution_count": 49,
   "id": "3134c24e-ced7-469d-84b8-eb93e9a5eead",
   "metadata": {
    "execution": {
     "iopub.execute_input": "2022-08-09T05:09:56.499230Z",
     "iopub.status.busy": "2022-08-09T05:09:56.499230Z",
     "iopub.status.idle": "2022-08-09T05:09:56.674760Z",
     "shell.execute_reply": "2022-08-09T05:09:56.673763Z",
     "shell.execute_reply.started": "2022-08-09T05:09:56.499230Z"
    },
    "tags": []
   },
   "outputs": [
    {
     "data": {
      "image/png": "[encoded data removed]",
      "text/plain": [
       "<Figure size 1440x720 with 1 Axes>"
      ]
     },
     "metadata": {
      "image/png": {
       "height": 579,
       "width": 1156
      },
      "needs_background": "light"
     },
     "output_type": "display_data"
    }
   ],
   "source": [
    "# 정확도 그래프\n",
    "plt.figure(figsize=(20,10))\n",
    "plt.plot(accuracy_list[:-50], label='accuracy')\n",
    "plt.plot(val_accuracy_list[:-50], label = 'val_accuracy')\n",
    "plt.legend()\n",
    "plt.ylim(0.8, 1.2)\n",
    "plt.show()"
   ]
  },
  {
   "cell_type": "code",
   "execution_count": 50,
   "id": "c0cfc83f-5ed2-4aee-b1af-4a458958d412",
   "metadata": {
    "execution": {
     "iopub.execute_input": "2022-08-09T05:10:19.906038Z",
     "iopub.status.busy": "2022-08-09T05:10:19.906038Z",
     "iopub.status.idle": "2022-08-09T05:10:20.085562Z",
     "shell.execute_reply": "2022-08-09T05:10:20.085562Z",
     "shell.execute_reply.started": "2022-08-09T05:10:19.906038Z"
    },
    "tags": []
   },
   "outputs": [
    {
     "data": {
      "image/png": "[encoded data removed]",
      "text/plain": [
       "<Figure size 1440x720 with 1 Axes>"
      ]
     },
     "metadata": {
      "image/png": {
       "height": 579,
       "width": 1150
      },
      "needs_background": "light"
     },
     "output_type": "display_data"
    }
   ],
   "source": [
    "# 손실율 그래프\n",
    "plt.figure(figsize=(20,10))\n",
    "plt.plot(loss_list[:-50], label='loss')\n",
    "plt.plot(val_loss_list[:-50], label = 'val_loss')\n",
    "plt.legend()\n",
    "plt.ylim(0, 3)\n",
    "plt.show()"
   ]
  },
  {
   "cell_type": "code",
   "execution_count": 43,
   "id": "6d953ead-4858-45ec-9a64-9e5009c934a7",
   "metadata": {
    "execution": {
     "iopub.execute_input": "2022-08-09T05:00:31.342046Z",
     "iopub.status.busy": "2022-08-09T05:00:31.342046Z",
     "iopub.status.idle": "2022-08-09T05:00:31.348030Z",
     "shell.execute_reply": "2022-08-09T05:00:31.348030Z",
     "shell.execute_reply.started": "2022-08-09T05:00:31.342046Z"
    },
    "tags": []
   },
   "outputs": [
    {
     "name": "stdout",
     "output_type": "stream",
     "text": [
      "The tensorboard extension is already loaded. To reload it, use:\n",
      "  %reload_ext tensorboard\n"
     ]
    }
   ],
   "source": [
    "%load_ext tensorboard"
   ]
  },
  {
   "cell_type": "code",
   "execution_count": 45,
   "id": "27aeffd3-e4f8-4a14-9a65-2c486f6b1d3e",
   "metadata": {
    "execution": {
     "iopub.execute_input": "2022-08-09T05:01:40.163838Z",
     "iopub.status.busy": "2022-08-09T05:01:40.162842Z",
     "iopub.status.idle": "2022-08-09T05:01:40.179796Z",
     "shell.execute_reply": "2022-08-09T05:01:40.179796Z",
     "shell.execute_reply.started": "2022-08-09T05:01:40.163838Z"
    },
    "tags": []
   },
   "outputs": [
    {
     "data": {
      "text/plain": [
       "Reusing TensorBoard on port 6006 (pid 5580), started 1 day, 4:33:06 ago. (Use '!kill 5580' to kill it.)"
      ]
     },
     "metadata": {},
     "output_type": "display_data"
    },
    {
     "data": {
      "text/html": [
       "\n",
       "      <iframe id=\"tensorboard-frame-7ce42c8218072e8c\" width=\"100%\" height=\"800\" frameborder=\"0\">\n",
       "      </iframe>\n",
       "      <script>\n",
       "        (function() {\n",
       "          const frame = document.getElementById(\"tensorboard-frame-7ce42c8218072e8c\");\n",
       "          const url = new URL(\"/\", window.location);\n",
       "          const port = 6006;\n",
       "          if (port) {\n",
       "            url.port = port;\n",
       "          }\n",
       "          frame.src = url;\n",
       "        })();\n",
       "      </script>\n",
       "    "
      ],
      "text/plain": [
       "<IPython.core.display.HTML object>"
      ]
     },
     "metadata": {},
     "output_type": "display_data"
    }
   ],
   "source": [
    "%tensorboard --logdir logs"
   ]
  },
  {
   "cell_type": "code",
   "execution_count": null,
   "id": "0523bc42-9898-41a6-93f7-b323ff3719b1",
   "metadata": {},
   "outputs": [],
   "source": []
  },
  {
   "cell_type": "code",
   "execution_count": null,
   "id": "054e21e4-44f6-4a96-98ed-8506f693f651",
   "metadata": {},
   "outputs": [],
   "source": []
  }
 ],
 "metadata": {
  "kernelspec": {
   "display_name": "Python 3 (ipykernel)",
   "language": "python",
   "name": "python3"
  },
  "language_info": {
   "codemirror_mode": {
    "name": "ipython",
    "version": 3
   },
   "file_extension": ".py",
   "mimetype": "text/x-python",
   "name": "python",
   "nbconvert_exporter": "python",
   "pygments_lexer": "ipython3",
   "version": "3.9.12"
  }
 },
 "nbformat": 4,
 "nbformat_minor": 5
}
