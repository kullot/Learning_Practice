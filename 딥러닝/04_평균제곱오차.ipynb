{
 "cells": [
  {
   "cell_type": "code",
   "execution_count": 1,
   "id": "19199d2f-702b-4b19-ad3e-8845c83e8796",
   "metadata": {
    "execution": {
     "iopub.execute_input": "2022-08-02T01:29:12.920346Z",
     "iopub.status.busy": "2022-08-02T01:29:12.919347Z",
     "iopub.status.idle": "2022-08-02T01:29:18.060372Z",
     "shell.execute_reply": "2022-08-02T01:29:18.060372Z",
     "shell.execute_reply.started": "2022-08-02T01:29:12.920346Z"
    },
    "tags": []
   },
   "outputs": [],
   "source": [
    "# 기본\n",
    "import pandas as pd\n",
    "import numpy as np\n",
    "import matplotlib.pyplot as plt\n",
    "import seaborn as sns\n",
    "\n",
    "# 경고 뜨지 않게...\n",
    "import warnings\n",
    "warnings.filterwarnings('ignore')\n",
    "\n",
    "# 그래프 설정\n",
    "plt.rcParams['font.family'] = 'Malgun Gothic'\n",
    "# plt.rcParams['font.family'] = 'AppleGothic'\n",
    "plt.rcParams['font.size'] = 16\n",
    "plt.rcParams['figure.figsize'] = 20, 10\n",
    "plt.rcParams['axes.unicode_minus'] = False\n",
    "\n",
    "# 랜덤 모듈\n",
    "import random\n",
    "\n",
    "# 학습 모델 저장 및 복원\n",
    "import pickle\n",
    "\n",
    "# 딥러닝 라이브러리\n",
    "import tensorflow as tf\n",
    "from tensorflow.keras.models import Sequential\n",
    "from tensorflow.keras.layers import Dense\n",
    "from tensorflow.keras.layers import Activation\n",
    "\n",
    "# 평가함수\n",
    "# 분류용\n",
    "from sklearn.metrics import accuracy_score\n",
    "from sklearn.metrics import precision_score\n",
    "from sklearn.metrics import recall_score\n",
    "from sklearn.metrics import f1_score\n",
    "from sklearn.metrics import roc_auc_score\n",
    "\n",
    "# 회귀용\n",
    "from sklearn.metrics import r2_score\n",
    "from sklearn.metrics import mean_squared_error\n",
    "\n",
    "# 랜덤시드 설정\n",
    "# 데이터를 랜덤하게 섞거나 가중치를 랜덤하게 설정하는 등..\n",
    "# 작업에서 랜덤을 적용하는 경우가 더러 있다.\n",
    "# 이에, 시드를 고정시킨다.\n",
    "random_seed = 1\n",
    "np.random.seed(random_seed)\n",
    "random.seed(random_seed)\n",
    "tf.random.set_seed(random_seed)\n",
    "\n",
    "# 현재 프로젝트에서 GPU 메모리 사용을 필요한 만큼만 쓸 수 있도록 한다.\n",
    "# 컴퓨터에 있는 GPU 정보들을 가져온다.\n",
    "\n",
    "gpus = tf.config.experimental.list_physical_devices('GPU')\n",
    "# gpu가 있다면...\n",
    "if len(gpus) > 0 :\n",
    "    try :\n",
    "        for gpu in gpus :\n",
    "            tf.config.experimental.set_memory_growth(gpu, True)\n",
    "    except RuntimeError as e :\n",
    "        print(e)\n",
    "\n",
    "# gpus = tf.config.experimental.list_logical_devices('GPU')\n",
    "# # GPU가 있다면...\n",
    "# if len(gpus) > 0:\n",
    "#     try :\n",
    "#         for gpu in gpus :\n",
    "#             tf.config.experimental.set_memory_growth(gpu, True)\n",
    "#     except RuntimeError as e :\n",
    "#         print(e)"
   ]
  },
  {
   "cell_type": "markdown",
   "id": "48176523-245a-4ac7-b393-fe1c289a8370",
   "metadata": {
    "execution": {
     "iopub.execute_input": "2022-08-02T01:31:41.740500Z",
     "iopub.status.busy": "2022-08-02T01:31:41.740500Z",
     "iopub.status.idle": "2022-08-02T01:31:41.754512Z",
     "shell.execute_reply": "2022-08-02T01:31:41.753465Z",
     "shell.execute_reply.started": "2022-08-02T01:31:41.740500Z"
    },
    "tags": []
   },
   "source": [
    "### 평균 제곱 오차\n",
    "- 앞서 살펴본 최소 제곱법을 이용하면 최적의 기울기와 y절편을 계산할 수 있다.\n",
    "- 최소 제곱법은 입력데이터의 컬럼이 하나일 경우 정확한 계산이 가능하다.\n",
    "- 허나 세상의 모든 데이터는 그 형태가 다르고 컬럼이 하나인 것만 존재하는 것은 아니다.\n",
    "- 이에 세상의 모든 데이터를 대응하기 위한 공식을 만들기가 어렵다.\n",
    "- 따라서 최적의 선을 찾기 위해 임의 선을 하나 그리고 진짜 데이터와 얼마나 오차가 발생하는지 파악한 다음 오차가 최소가 되는 선을 찾기 위해 기울기와 y절편을 조금씩 수정해 나가는 방식을 사용한다.\n",
    "- 이 때, 오차 정도를 구하기 위해서 평균 제곱 오차라는 공식을 사용한다."
   ]
  },
  {
   "cell_type": "code",
   "execution_count": 3,
   "id": "88a441a6-3e4c-4189-b892-297b87524a86",
   "metadata": {
    "execution": {
     "iopub.execute_input": "2022-08-02T01:33:48.027115Z",
     "iopub.status.busy": "2022-08-02T01:33:48.027115Z",
     "iopub.status.idle": "2022-08-02T01:33:48.035093Z",
     "shell.execute_reply": "2022-08-02T01:33:48.035093Z",
     "shell.execute_reply.started": "2022-08-02T01:33:48.027115Z"
    }
   },
   "outputs": [],
   "source": [
    "# 학습 데이터\n",
    "공부한시간 = [2, 4, 6, 8]\n",
    "성적 = [81, 93, 91, 97]"
   ]
  },
  {
   "cell_type": "code",
   "execution_count": 4,
   "id": "539e175a-6991-4e04-a071-ae0bb8c90f7b",
   "metadata": {
    "execution": {
     "iopub.execute_input": "2022-08-02T01:35:05.040808Z",
     "iopub.status.busy": "2022-08-02T01:35:05.039821Z",
     "iopub.status.idle": "2022-08-02T01:35:05.055762Z",
     "shell.execute_reply": "2022-08-02T01:35:05.055762Z",
     "shell.execute_reply.started": "2022-08-02T01:35:05.040808Z"
    }
   },
   "outputs": [],
   "source": [
    "# 기울기와 절편\n",
    "기울기 = 2.3\n",
    "y절편 = 79.0"
   ]
  },
  {
   "cell_type": "code",
   "execution_count": 6,
   "id": "3bbdfa21-131b-4737-b91e-fff1f58597ac",
   "metadata": {
    "execution": {
     "iopub.execute_input": "2022-08-02T01:36:36.825711Z",
     "iopub.status.busy": "2022-08-02T01:36:36.824718Z",
     "iopub.status.idle": "2022-08-02T01:36:36.842664Z",
     "shell.execute_reply": "2022-08-02T01:36:36.841667Z",
     "shell.execute_reply.started": "2022-08-02T01:36:36.825711Z"
    },
    "tags": []
   },
   "outputs": [
    {
     "data": {
      "text/plain": [
       "[83.6, 88.2, 92.8, 97.4]"
      ]
     },
     "execution_count": 6,
     "metadata": {},
     "output_type": "execute_result"
    }
   ],
   "source": [
    "# 예측 결과를 가져온다\n",
    "예측성적 = []\n",
    "for v1 in 공부한시간:\n",
    "    a1 = (기울기 * v1) + y절편\n",
    "    예측성적.append(a1)\n",
    "예측성적"
   ]
  },
  {
   "cell_type": "code",
   "execution_count": 7,
   "id": "494085e1-e17e-4f1d-9e53-46ac63b092d6",
   "metadata": {
    "execution": {
     "iopub.execute_input": "2022-08-02T01:37:54.091064Z",
     "iopub.status.busy": "2022-08-02T01:37:54.090074Z",
     "iopub.status.idle": "2022-08-02T01:37:54.105028Z",
     "shell.execute_reply": "2022-08-02T01:37:54.105028Z",
     "shell.execute_reply.started": "2022-08-02T01:37:54.091064Z"
    }
   },
   "outputs": [],
   "source": [
    "# 계산의 편리성을 위해 ndarray를 생성한다.\n",
    "array1 = np.array(성적)\n",
    "array2 = np.array(예측성적)"
   ]
  },
  {
   "cell_type": "code",
   "execution_count": 11,
   "id": "305ece90-69ab-40db-b9d8-e109b0b97fc4",
   "metadata": {
    "execution": {
     "iopub.execute_input": "2022-08-02T01:39:04.563233Z",
     "iopub.status.busy": "2022-08-02T01:39:04.563233Z",
     "iopub.status.idle": "2022-08-02T01:39:04.583180Z",
     "shell.execute_reply": "2022-08-02T01:39:04.583180Z",
     "shell.execute_reply.started": "2022-08-02T01:39:04.563233Z"
    },
    "tags": []
   },
   "outputs": [
    {
     "data": {
      "text/plain": [
       "array([-2.6,  4.8, -1.8, -0.4])"
      ]
     },
     "execution_count": 11,
     "metadata": {},
     "output_type": "execute_result"
    }
   ],
   "source": [
    "# 진짜 결과 예측 결과를 뺀다.\n",
    "array3 = array1 - array2\n",
    "array3"
   ]
  },
  {
   "cell_type": "code",
   "execution_count": 16,
   "id": "fcf160c9-3185-4abe-ac3d-d02924078a9f",
   "metadata": {
    "execution": {
     "iopub.execute_input": "2022-08-02T01:40:38.784018Z",
     "iopub.status.busy": "2022-08-02T01:40:38.783021Z",
     "iopub.status.idle": "2022-08-02T01:40:38.812941Z",
     "shell.execute_reply": "2022-08-02T01:40:38.810949Z",
     "shell.execute_reply.started": "2022-08-02T01:40:38.784018Z"
    },
    "tags": []
   },
   "outputs": [
    {
     "data": {
      "text/plain": [
       "array([ 6.76, 23.04,  3.24,  0.16])"
      ]
     },
     "execution_count": 16,
     "metadata": {},
     "output_type": "execute_result"
    }
   ],
   "source": [
    "# 각각의 제곱을 구한다.\n",
    "array4 = array3 ** 2\n",
    "array4"
   ]
  },
  {
   "cell_type": "code",
   "execution_count": 17,
   "id": "c4ee6ecd-ccc2-4dc2-ac01-95301c94ef4f",
   "metadata": {
    "execution": {
     "iopub.execute_input": "2022-08-02T01:41:16.794074Z",
     "iopub.status.busy": "2022-08-02T01:41:16.793077Z",
     "iopub.status.idle": "2022-08-02T01:41:16.799061Z",
     "shell.execute_reply": "2022-08-02T01:41:16.799061Z",
     "shell.execute_reply.started": "2022-08-02T01:41:16.793077Z"
    },
    "tags": []
   },
   "outputs": [
    {
     "data": {
      "text/plain": [
       "8.299999999999985"
      ]
     },
     "execution_count": 17,
     "metadata": {},
     "output_type": "execute_result"
    }
   ],
   "source": [
    "# 평균을 구한다.\n",
    "mse = array4.mean()\n",
    "mse"
   ]
  },
  {
   "cell_type": "code",
   "execution_count": null,
   "id": "b7083550-0540-43ea-a0da-67986b2a3eac",
   "metadata": {},
   "outputs": [],
   "source": []
  }
 ],
 "metadata": {
  "kernelspec": {
   "display_name": "Python 3 (ipykernel)",
   "language": "python",
   "name": "python3"
  },
  "language_info": {
   "codemirror_mode": {
    "name": "ipython",
    "version": 3
   },
   "file_extension": ".py",
   "mimetype": "text/x-python",
   "name": "python",
   "nbconvert_exporter": "python",
   "pygments_lexer": "ipython3",
   "version": "3.9.12"
  }
 },
 "nbformat": 4,
 "nbformat_minor": 5
}
