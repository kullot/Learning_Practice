{
 "cells": [
  {
   "cell_type": "code",
   "execution_count": 2,
   "id": "4d6b855e-397a-4412-8dc8-6fb3de7be745",
   "metadata": {
    "execution": {
     "iopub.execute_input": "2022-08-02T00:35:36.508601Z",
     "iopub.status.busy": "2022-08-02T00:35:36.508601Z",
     "iopub.status.idle": "2022-08-02T00:35:36.533812Z",
     "shell.execute_reply": "2022-08-02T00:35:36.532820Z",
     "shell.execute_reply.started": "2022-08-02T00:35:36.508601Z"
    },
    "tags": []
   },
   "outputs": [],
   "source": [
    "# 기본\n",
    "import pandas as pd\n",
    "import numpy as np\n",
    "import matplotlib.pyplot as plt\n",
    "import seaborn as sns\n",
    "\n",
    "# 경고 뜨지 않게...\n",
    "import warnings\n",
    "warnings.filterwarnings('ignore')\n",
    "\n",
    "# 그래프 설정\n",
    "plt.rcParams['font.family'] = 'Malgun Gothic'\n",
    "# plt.rcParams['font.family'] = 'AppleGothic'\n",
    "plt.rcParams['font.size'] = 16\n",
    "plt.rcParams['figure.figsize'] = 20, 10\n",
    "plt.rcParams['axes.unicode_minus'] = False\n",
    "\n",
    "# 랜덤 모듈\n",
    "import random\n",
    "\n",
    "# 학습 모델 저장 및 복원\n",
    "import pickle\n",
    "\n",
    "# 딥러닝 라이브러리\n",
    "import tensorflow as tf\n",
    "from tensorflow.keras.models import Sequential\n",
    "from tensorflow.keras.layers import Dense\n",
    "from tensorflow.keras.layers import Activation\n",
    "\n",
    "# 평가함수\n",
    "# 분류용\n",
    "from sklearn.metrics import accuracy_score\n",
    "from sklearn.metrics import precision_score\n",
    "from sklearn.metrics import recall_score\n",
    "from sklearn.metrics import f1_score\n",
    "from sklearn.metrics import roc_auc_score\n",
    "\n",
    "# 회귀용\n",
    "from sklearn.metrics import r2_score\n",
    "from sklearn.metrics import mean_squared_error\n",
    "\n",
    "# 랜덤시드 설정\n",
    "# 데이터를 랜덤하게 섞거나 가중치를 랜덤하게 설정하는 등..\n",
    "# 작업에서 랜덤을 적용하는 경우가 더러 있다.\n",
    "# 이에, 시드를 고정시킨다.\n",
    "random_seed = 1\n",
    "np.random.seed(random_seed)\n",
    "random.seed(random_seed)\n",
    "tf.random.set_seed(random_seed)\n",
    "\n",
    "# 현재 프로젝트에서 GPU 메모리 사용을 필요한 만큼만 쓸 수 있도록 한다.\n",
    "# 컴퓨터에 있는 GPU 정보들을 가져온다.\n",
    "\n",
    "gpus = tf.config.experimental.list_physical_devices('GPU')\n",
    "# gpu가 있다면...\n",
    "if len(gpus) > 0 :\n",
    "    try :\n",
    "        for gpu in gpus :\n",
    "            tf.config.experimental.set_memory_growth(gpu, True)\n",
    "    except RuntimeError as e :\n",
    "        print(e)\n",
    "\n",
    "# gpus = tf.config.experimental.list_physical_devices('GPU')\n",
    "# # GPU가 있다면...\n",
    "# if len(gpus) > 0:\n",
    "#     try :\n",
    "#         for gpu in gpus :\n",
    "#             tf.config.experimental.set_memory_growth(gpu, True)\n",
    "#     except RuntimeError as e :\n",
    "#         print(e)"
   ]
  },
  {
   "cell_type": "markdown",
   "id": "60f9435e-885e-4221-86bf-194091b8a8ee",
   "metadata": {},
   "source": [
    "최소 제곱법\n",
    "- 선형회귀는 정확한 예측선을 찾는 방법이다.\n",
    "- 예측선은 직선을 의미하며 y=ax+b라는 기본 공식을 사용한다.\n",
    "- 이 때 a는 기울기를 의미하며 b는 y 절편을 의미한다.\n",
    "- 즉 선형회귀는 정호가한 에측선을 찾기 위해 최적의 기울기 y와 절편을 찾는 것을 의미한다.\n",
    "- 이 때, 최소 제곱법이 제공하는 공식을 이용하면 기울기와 절편을 계산할 수 있다."
   ]
  },
  {
   "cell_type": "code",
   "execution_count": 3,
   "id": "a2c53db9-a6d5-4bed-9b64-a865951275fe",
   "metadata": {
    "execution": {
     "iopub.execute_input": "2022-08-02T00:38:40.115392Z",
     "iopub.status.busy": "2022-08-02T00:38:40.114394Z",
     "iopub.status.idle": "2022-08-02T00:38:40.124367Z",
     "shell.execute_reply": "2022-08-02T00:38:40.124367Z",
     "shell.execute_reply.started": "2022-08-02T00:38:40.115392Z"
    },
    "tags": []
   },
   "outputs": [],
   "source": [
    "# 학습 데이터\n",
    "공부한시간 = [2, 4, 6 ,8]\n",
    "성적 = [81, 93, 91, 97]"
   ]
  },
  {
   "cell_type": "code",
   "execution_count": 5,
   "id": "35fe97f0-6d08-423b-b250-d66485a07e2e",
   "metadata": {
    "execution": {
     "iopub.execute_input": "2022-08-02T00:39:14.210394Z",
     "iopub.status.busy": "2022-08-02T00:39:14.210394Z",
     "iopub.status.idle": "2022-08-02T00:39:14.353463Z",
     "shell.execute_reply": "2022-08-02T00:39:14.352477Z",
     "shell.execute_reply.started": "2022-08-02T00:39:14.210394Z"
    },
    "tags": []
   },
   "outputs": [
    {
     "data": {
      "image/png": "[encoded data removed]",
      "text/plain": [
       "<Figure size 1440x720 with 1 Axes>"
      ]
     },
     "metadata": {
      "needs_background": "light"
     },
     "output_type": "display_data"
    }
   ],
   "source": [
    "plt.scatter(공부한시간, 성적)\n",
    "plt.show()"
   ]
  },
  {
   "cell_type": "code",
   "execution_count": null,
   "id": "b29171fa-7f4b-4e98-96e8-7daf8cff9fa5",
   "metadata": {
    "execution": {
     "iopub.execute_input": "2022-08-02T00:40:31.801700Z",
     "iopub.status.busy": "2022-08-02T00:40:31.801700Z",
     "iopub.status.idle": "2022-08-02T00:40:31.808680Z",
     "shell.execute_reply": "2022-08-02T00:40:31.808680Z",
     "shell.execute_reply.started": "2022-08-02T00:40:31.801700Z"
    }
   },
   "outputs": [],
   "source": [
    "# 계산을 용이하기 하기 위해 ndarray를 생성한다.\n",
    "a1 = np.array(공부한시간)\n",
    "a2 = np.array(성적)"
   ]
  },
  {
   "cell_type": "code",
   "execution_count": 8,
   "id": "3ed49f2b-8236-44f0-a628-411bdab8c3e7",
   "metadata": {
    "execution": {
     "iopub.execute_input": "2022-08-02T00:42:52.842319Z",
     "iopub.status.busy": "2022-08-02T00:42:52.842319Z",
     "iopub.status.idle": "2022-08-02T00:42:52.860269Z",
     "shell.execute_reply": "2022-08-02T00:42:52.860269Z",
     "shell.execute_reply.started": "2022-08-02T00:42:52.842319Z"
    },
    "tags": []
   },
   "outputs": [
    {
     "name": "stdout",
     "output_type": "stream",
     "text": [
      "5.0\n",
      "90.5\n"
     ]
    }
   ],
   "source": [
    "# x의 평균과 y의 평균을 구한다.\n",
    "x_mean = a1.mean()\n",
    "y_mean = a2.mean()\n",
    "\n",
    "print(x_mean)\n",
    "print(y_mean)"
   ]
  },
  {
   "cell_type": "code",
   "execution_count": 34,
   "id": "ed8a7c18-1f74-4a0e-ad89-e70242d9d7c8",
   "metadata": {
    "execution": {
     "iopub.execute_input": "2022-08-02T01:02:58.623327Z",
     "iopub.status.busy": "2022-08-02T01:02:58.622330Z",
     "iopub.status.idle": "2022-08-02T01:02:58.640282Z",
     "shell.execute_reply": "2022-08-02T01:02:58.640282Z",
     "shell.execute_reply.started": "2022-08-02T01:02:58.623327Z"
    },
    "tags": []
   },
   "outputs": [
    {
     "name": "stdout",
     "output_type": "stream",
     "text": [
      "20.0\n"
     ]
    }
   ],
   "source": [
    "# 기울기 계산을 위한 분모를 구한다.\n",
    "a100 = 0\n",
    "\n",
    "for a200 in 공부한시간:\n",
    "    a100 = a100 + ((a200-x_mean)**2)\n",
    "    \n",
    "print(a100)"
   ]
  },
  {
   "cell_type": "code",
   "execution_count": 37,
   "id": "f820a457-81fa-4553-a0aa-aaf2bd7220c7",
   "metadata": {
    "execution": {
     "iopub.execute_input": "2022-08-02T01:05:09.365648Z",
     "iopub.status.busy": "2022-08-02T01:05:09.365648Z",
     "iopub.status.idle": "2022-08-02T01:05:09.372637Z",
     "shell.execute_reply": "2022-08-02T01:05:09.372637Z",
     "shell.execute_reply.started": "2022-08-02T01:05:09.365648Z"
    },
    "tags": []
   },
   "outputs": [
    {
     "name": "stdout",
     "output_type": "stream",
     "text": [
      "46.0\n"
     ]
    }
   ],
   "source": [
    "# 기울기 게산을 위한 분자를 구한다.\n",
    "a300 = 0\n",
    "for idx in range(len(공부한시간)):\n",
    "    a300 = a300+((공부한시간[idx]-x_mean)*(성적[idx]-y_mean))\n",
    "print(a300)"
   ]
  },
  {
   "cell_type": "code",
   "execution_count": 39,
   "id": "0b0adfdb-2eb8-4196-b028-e47dc02f7234",
   "metadata": {
    "execution": {
     "iopub.execute_input": "2022-08-02T01:06:19.118527Z",
     "iopub.status.busy": "2022-08-02T01:06:19.118527Z",
     "iopub.status.idle": "2022-08-02T01:06:19.137476Z",
     "shell.execute_reply": "2022-08-02T01:06:19.137476Z",
     "shell.execute_reply.started": "2022-08-02T01:06:19.118527Z"
    },
    "tags": []
   },
   "outputs": [
    {
     "data": {
      "text/plain": [
       "2.3"
      ]
     },
     "execution_count": 39,
     "metadata": {},
     "output_type": "execute_result"
    }
   ],
   "source": [
    "# 분자를 분모로 나눠서 기울기를 구한다.\n",
    "기울기 = a300 / a100\n",
    "기울기"
   ]
  },
  {
   "cell_type": "code",
   "execution_count": 40,
   "id": "9b6c077f-4f03-4d79-8c57-81d847b8c124",
   "metadata": {
    "execution": {
     "iopub.execute_input": "2022-08-02T01:07:28.191790Z",
     "iopub.status.busy": "2022-08-02T01:07:28.191790Z",
     "iopub.status.idle": "2022-08-02T01:07:28.220713Z",
     "shell.execute_reply": "2022-08-02T01:07:28.218719Z",
     "shell.execute_reply.started": "2022-08-02T01:07:28.191790Z"
    },
    "tags": []
   },
   "outputs": [
    {
     "data": {
      "text/plain": [
       "79.0"
      ]
     },
     "execution_count": 40,
     "metadata": {},
     "output_type": "execute_result"
    }
   ],
   "source": [
    "# y절편을 구한다.\n",
    "y절편 = y_mean - (x_mean * 기울기)\n",
    "y절편"
   ]
  },
  {
   "cell_type": "code",
   "execution_count": 45,
   "id": "931e2b58-e187-4e83-9dc4-11a762492592",
   "metadata": {
    "execution": {
     "iopub.execute_input": "2022-08-02T01:10:05.620187Z",
     "iopub.status.busy": "2022-08-02T01:10:05.619188Z",
     "iopub.status.idle": "2022-08-02T01:10:05.637144Z",
     "shell.execute_reply": "2022-08-02T01:10:05.635150Z",
     "shell.execute_reply.started": "2022-08-02T01:10:05.620187Z"
    },
    "tags": []
   },
   "outputs": [
    {
     "data": {
      "text/plain": [
       "[83.6, 88.2, 92.8, 97.4]"
      ]
     },
     "execution_count": 45,
     "metadata": {},
     "output_type": "execute_result"
    }
   ],
   "source": [
    "# 값을 에측해서 실제 값과 비교해본다.\n",
    "예측성적 = []\n",
    "for v1 in 공부한시간 :\n",
    "    a1 = (기울기* v1) + y절편\n",
    "    예측성적.append(a1)\n",
    "    \n",
    "예측성적"
   ]
  },
  {
   "cell_type": "code",
   "execution_count": 42,
   "id": "de7deff0-723f-4946-99de-5e7c4246e2ca",
   "metadata": {
    "execution": {
     "iopub.execute_input": "2022-08-02T01:09:43.801437Z",
     "iopub.status.busy": "2022-08-02T01:09:43.800440Z",
     "iopub.status.idle": "2022-08-02T01:09:43.823378Z",
     "shell.execute_reply": "2022-08-02T01:09:43.823378Z",
     "shell.execute_reply.started": "2022-08-02T01:09:43.801437Z"
    },
    "tags": []
   },
   "outputs": [
    {
     "data": {
      "text/plain": [
       "[81, 93, 91, 97]"
      ]
     },
     "execution_count": 42,
     "metadata": {},
     "output_type": "execute_result"
    }
   ],
   "source": [
    "성적"
   ]
  },
  {
   "cell_type": "code",
   "execution_count": 50,
   "id": "4c511485-ccd5-42b8-8b06-41a739cf3039",
   "metadata": {
    "execution": {
     "iopub.execute_input": "2022-08-02T03:16:34.984051Z",
     "iopub.status.busy": "2022-08-02T03:16:34.984051Z",
     "iopub.status.idle": "2022-08-02T03:16:35.166021Z",
     "shell.execute_reply": "2022-08-02T03:16:35.166021Z",
     "shell.execute_reply.started": "2022-08-02T03:16:34.984051Z"
    },
    "tags": []
   },
   "outputs": [
    {
     "data": {
      "image/png": "[encoded data removed]",
      "text/plain": [
       "<Figure size 1440x720 with 1 Axes>"
      ]
     },
     "metadata": {
      "needs_background": "light"
     },
     "output_type": "display_data"
    }
   ],
   "source": [
    "# 시각화 한다\n",
    "plt.scatter(공부한시간, 성적, label='원본')\n",
    "plt.scatter(공부한시간, 예측성적, label='예측')\n",
    "plt.plot(공부한시간, 예측성적)\n",
    "plt.legend()\n",
    "plt.show()"
   ]
  },
  {
   "cell_type": "code",
   "execution_count": 48,
   "id": "572438c8-6af8-4d64-955f-915c9ab9dd1c",
   "metadata": {
    "execution": {
     "iopub.execute_input": "2022-08-02T01:13:36.046842Z",
     "iopub.status.busy": "2022-08-02T01:13:36.045844Z",
     "iopub.status.idle": "2022-08-02T01:13:36.052827Z",
     "shell.execute_reply": "2022-08-02T01:13:36.052827Z",
     "shell.execute_reply.started": "2022-08-02T01:13:36.046842Z"
    },
    "tags": []
   },
   "outputs": [
    {
     "data": {
      "text/plain": [
       "102.0"
      ]
     },
     "execution_count": 48,
     "metadata": {},
     "output_type": "execute_result"
    }
   ],
   "source": [
    "# 10시간 공부한 경우\n",
    "pred = (기울기 * 10) + y절편\n",
    "pred"
   ]
  }
 ],
 "metadata": {
  "kernelspec": {
   "display_name": "Python 3 (ipykernel)",
   "language": "python",
   "name": "python3"
  },
  "language_info": {
   "codemirror_mode": {
    "name": "ipython",
    "version": 3
   },
   "file_extension": ".py",
   "mimetype": "text/x-python",
   "name": "python",
   "nbconvert_exporter": "python",
   "pygments_lexer": "ipython3",
   "version": "3.9.12"
  }
 },
 "nbformat": 4,
 "nbformat_minor": 5
}
