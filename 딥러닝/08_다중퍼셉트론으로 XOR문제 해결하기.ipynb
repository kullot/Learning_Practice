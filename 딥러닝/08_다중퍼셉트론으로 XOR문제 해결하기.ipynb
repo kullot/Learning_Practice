{
 "cells": [
  {
   "cell_type": "code",
   "execution_count": 21,
   "id": "f59544ac-c51e-41af-9491-80110c5473a5",
   "metadata": {
    "execution": {
     "iopub.execute_input": "2022-08-03T01:20:48.757046Z",
     "iopub.status.busy": "2022-08-03T01:20:48.757046Z",
     "iopub.status.idle": "2022-08-03T01:20:55.990369Z",
     "shell.execute_reply": "2022-08-03T01:20:55.990369Z",
     "shell.execute_reply.started": "2022-08-03T01:20:48.757046Z"
    },
    "tags": []
   },
   "outputs": [],
   "source": [
    "# 기본\n",
    "import pandas as pd\n",
    "import numpy as np\n",
    "import matplotlib.pyplot as plt\n",
    "import seaborn as sns\n",
    "\n",
    "# 경고 뜨지 않게...\n",
    "import warnings\n",
    "warnings.filterwarnings('ignore')\n",
    "\n",
    "# 출력한 내용 청소\n",
    "from IPython.display import clear_output\n",
    "\n",
    "# 그래프 설정\n",
    "plt.rcParams['font.family'] = 'Malgun Gothic'\n",
    "# plt.rcParams['font.family'] = 'AppleGothic'\n",
    "plt.rcParams['font.size'] = 16\n",
    "plt.rcParams['figure.figsize'] = 20, 10\n",
    "plt.rcParams['axes.unicode_minus'] = False\n",
    "\n",
    "# 랜덤 모듈\n",
    "import random\n",
    "\n",
    "# 학습 모델 저장 및 복원\n",
    "import pickle\n",
    "\n",
    "# 딥러닝 라이브러리\n",
    "import tensorflow as tf\n",
    "from tensorflow.keras.models import Sequential\n",
    "from tensorflow.keras.layers import Dense\n",
    "from tensorflow.keras.layers import Activation\n",
    "\n",
    "# 평가함수\n",
    "# 분류용\n",
    "from sklearn.metrics import accuracy_score\n",
    "from sklearn.metrics import precision_score\n",
    "from sklearn.metrics import recall_score\n",
    "from sklearn.metrics import f1_score\n",
    "from sklearn.metrics import roc_auc_score\n",
    "\n",
    "# 회귀용\n",
    "from sklearn.metrics import r2_score\n",
    "from sklearn.metrics import mean_squared_error\n",
    "\n",
    "# 랜덤시드 설정\n",
    "# 데이터를 랜덤하게 섞거나 가중치를 랜덤하게 설정하는 등..\n",
    "# 작업에서 랜덤을 적용하는 경우가 더러 있다.\n",
    "# 이에, 시드를 고정시킨다.\n",
    "random_seed = 1\n",
    "np.random.seed(random_seed)\n",
    "random.seed(random_seed)\n",
    "tf.random.set_seed(random_seed)\n",
    "\n",
    "# 현재 프로젝트에서 GPU 메모리 사용을 필요한 만큼만 쓸 수 있도록 한다.\n",
    "# 컴퓨터에 있는 GPU 정보들을 가져온다.\n",
    "\n",
    "gpus = tf.config.experimental.list_physical_devices('GPU')\n",
    "# gpu가 있다면...\n",
    "if len(gpus) > 0 :\n",
    "    try :\n",
    "        for gpu in gpus :\n",
    "            tf.config.experimental.set_memory_growth(gpu, True)\n",
    "    except RuntimeError as e :\n",
    "        print(e)"
   ]
  },
  {
   "cell_type": "code",
   "execution_count": 22,
   "id": "ae67630e-394c-4434-8237-2d778c24e538",
   "metadata": {
    "execution": {
     "iopub.execute_input": "2022-08-03T01:20:56.326462Z",
     "iopub.status.busy": "2022-08-03T01:20:56.325464Z",
     "iopub.status.idle": "2022-08-03T01:20:56.332446Z",
     "shell.execute_reply": "2022-08-03T01:20:56.332446Z",
     "shell.execute_reply.started": "2022-08-03T01:20:56.326462Z"
    },
    "tags": []
   },
   "outputs": [],
   "source": [
    "# 퍼셉트론\n",
    "def MLP(x, w, b):\n",
    "    y = np.sum(w * x) + b\n",
    "    y2 = 1 / (1 + np.e ** (-y))\n",
    "    return (y2 > 0.5).astype(int)"
   ]
  },
  {
   "cell_type": "code",
   "execution_count": 23,
   "id": "6ec197af-ee8e-45dd-a83b-fd3bef9e58e4",
   "metadata": {
    "execution": {
     "iopub.execute_input": "2022-08-03T01:20:56.584324Z",
     "iopub.status.busy": "2022-08-03T01:20:56.584324Z",
     "iopub.status.idle": "2022-08-03T01:20:56.598272Z",
     "shell.execute_reply": "2022-08-03T01:20:56.598272Z",
     "shell.execute_reply.started": "2022-08-03T01:20:56.584324Z"
    },
    "tags": []
   },
   "outputs": [],
   "source": [
    "# AND\n",
    "def AND(x1, x2) :\n",
    "    x = np.array([x1, x2])\n",
    "    w = np.array([1, 1])\n",
    "    b = -1\n",
    "    \n",
    "    pred = MLP(x, w, b)\n",
    "    return pred"
   ]
  },
  {
   "cell_type": "code",
   "execution_count": 24,
   "id": "e26b0a5c-7399-468f-aae4-ecb2dc8580ed",
   "metadata": {
    "execution": {
     "iopub.execute_input": "2022-08-03T01:20:56.874656Z",
     "iopub.status.busy": "2022-08-03T01:20:56.874656Z",
     "iopub.status.idle": "2022-08-03T01:20:56.891599Z",
     "shell.execute_reply": "2022-08-03T01:20:56.891599Z",
     "shell.execute_reply.started": "2022-08-03T01:20:56.874656Z"
    },
    "tags": []
   },
   "outputs": [
    {
     "name": "stdout",
     "output_type": "stream",
     "text": [
      "AND(0,0) : 0\n",
      "AND(0,1) : 0\n",
      "AND(1,0) : 0\n",
      "AND(1,1) : 1\n"
     ]
    }
   ],
   "source": [
    "a1 = AND(0,0)\n",
    "a2 = AND(0,1)\n",
    "a3 = AND(1,0)\n",
    "a4 = AND(1,1)\n",
    "\n",
    "print(f'AND(0,0) : {a1}')\n",
    "print(f'AND(0,1) : {a2}')\n",
    "print(f'AND(1,0) : {a3}')\n",
    "print(f'AND(1,1) : {a4}')"
   ]
  },
  {
   "cell_type": "code",
   "execution_count": 25,
   "id": "7914408f-8aba-410b-b71b-89de4e480e12",
   "metadata": {
    "execution": {
     "iopub.execute_input": "2022-08-03T01:22:51.695384Z",
     "iopub.status.busy": "2022-08-03T01:22:51.695384Z",
     "iopub.status.idle": "2022-08-03T01:22:51.711342Z",
     "shell.execute_reply": "2022-08-03T01:22:51.711342Z",
     "shell.execute_reply.started": "2022-08-03T01:22:51.695384Z"
    },
    "tags": []
   },
   "outputs": [],
   "source": [
    "# NAND\n",
    "def NAND(x1, x2) :\n",
    "    x = np.array([x1, x2])\n",
    "    w = np.array([-2, -2])\n",
    "    b = 3\n",
    "    \n",
    "    pred = MLP(x, w, b)\n",
    "    return pred"
   ]
  },
  {
   "cell_type": "code",
   "execution_count": 27,
   "id": "77fd2adf-fe60-455d-bd10-afdcc47b57f1",
   "metadata": {
    "execution": {
     "iopub.execute_input": "2022-08-03T01:24:22.916371Z",
     "iopub.status.busy": "2022-08-03T01:24:22.916371Z",
     "iopub.status.idle": "2022-08-03T01:24:22.925348Z",
     "shell.execute_reply": "2022-08-03T01:24:22.925348Z",
     "shell.execute_reply.started": "2022-08-03T01:24:22.916371Z"
    },
    "tags": []
   },
   "outputs": [
    {
     "name": "stdout",
     "output_type": "stream",
     "text": [
      "NAND(0, 0) : 1\n",
      "NAND(0, 1) : 1\n",
      "NAND(1, 0) : 1\n",
      "NAND(1, 1) : 0\n"
     ]
    }
   ],
   "source": [
    "a1 = NAND(0, 0)\n",
    "a2 = NAND(0, 1)\n",
    "a3 = NAND(1, 0)\n",
    "a4 = NAND(1, 1)\n",
    "\n",
    "print(f'NAND(0, 0) : {a1}')\n",
    "print(f'NAND(0, 1) : {a2}')\n",
    "print(f'NAND(1, 0) : {a3}')\n",
    "print(f'NAND(1, 1) : {a4}')"
   ]
  },
  {
   "cell_type": "code",
   "execution_count": 29,
   "id": "acc93829-bfae-480a-9968-d3ad8953bd66",
   "metadata": {
    "execution": {
     "iopub.execute_input": "2022-08-03T01:27:34.267328Z",
     "iopub.status.busy": "2022-08-03T01:27:34.266330Z",
     "iopub.status.idle": "2022-08-03T01:27:34.282288Z",
     "shell.execute_reply": "2022-08-03T01:27:34.282288Z",
     "shell.execute_reply.started": "2022-08-03T01:27:34.267328Z"
    },
    "tags": []
   },
   "outputs": [],
   "source": [
    "# OR\n",
    "def OR(x1, x2) :\n",
    "    x = np.array([x1, x2])\n",
    "    w = np.array([2, 2])\n",
    "    b = -1\n",
    "    \n",
    "    pred = MLP(x, w, b)\n",
    "    return pred"
   ]
  },
  {
   "cell_type": "code",
   "execution_count": 32,
   "id": "6dce63bf-039e-4827-9666-771eeb85cdb5",
   "metadata": {
    "execution": {
     "iopub.execute_input": "2022-08-03T01:29:21.781092Z",
     "iopub.status.busy": "2022-08-03T01:29:21.780095Z",
     "iopub.status.idle": "2022-08-03T01:29:21.799044Z",
     "shell.execute_reply": "2022-08-03T01:29:21.799044Z",
     "shell.execute_reply.started": "2022-08-03T01:29:21.781092Z"
    },
    "tags": []
   },
   "outputs": [
    {
     "name": "stdout",
     "output_type": "stream",
     "text": [
      "OR(0, 0) : 0\n",
      "OR(0, 1) : 1\n",
      "OR(1, 0) : 1\n",
      "OR(1, 1) : 1\n"
     ]
    }
   ],
   "source": [
    "a1 = OR(0, 0)\n",
    "a2 = OR(0, 1)\n",
    "a3 = OR(1, 0)\n",
    "a4 = OR(1, 1)\n",
    "\n",
    "print(f'OR(0, 0) : {a1}')\n",
    "print(f'OR(0, 1) : {a2}')\n",
    "print(f'OR(1, 0) : {a3}')\n",
    "print(f'OR(1, 1) : {a4}')"
   ]
  },
  {
   "cell_type": "code",
   "execution_count": 33,
   "id": "47934ae9-89b7-4973-83f4-8f4e41a34714",
   "metadata": {
    "execution": {
     "iopub.execute_input": "2022-08-03T01:31:39.054396Z",
     "iopub.status.busy": "2022-08-03T01:31:39.054396Z",
     "iopub.status.idle": "2022-08-03T01:31:39.066363Z",
     "shell.execute_reply": "2022-08-03T01:31:39.066363Z",
     "shell.execute_reply.started": "2022-08-03T01:31:39.054396Z"
    }
   },
   "outputs": [],
   "source": [
    "# XOR\n",
    "def XOR(x1, x2) :\n",
    "    pred1 = NAND(x1, x2)\n",
    "    pred2 = OR(x1, x2)\n",
    "    pred3 = AND(pred1, pred2)\n",
    "    return pred3"
   ]
  },
  {
   "cell_type": "code",
   "execution_count": 34,
   "id": "b0cd4f8a-5fd5-4d0f-870c-55c9d63a41df",
   "metadata": {
    "execution": {
     "iopub.execute_input": "2022-08-03T01:33:58.646459Z",
     "iopub.status.busy": "2022-08-03T01:33:58.645476Z",
     "iopub.status.idle": "2022-08-03T01:33:58.652443Z",
     "shell.execute_reply": "2022-08-03T01:33:58.652443Z",
     "shell.execute_reply.started": "2022-08-03T01:33:58.646459Z"
    }
   },
   "outputs": [
    {
     "name": "stdout",
     "output_type": "stream",
     "text": [
      "XOR(0, 0) : 0\n",
      "XOR(0, 1) : 1\n",
      "XOR(1, 0) : 1\n",
      "XOR(1, 1) : 0\n"
     ]
    }
   ],
   "source": [
    "a1 = XOR(0, 0)\n",
    "a2 = XOR(0, 1)\n",
    "a3 = XOR(1, 0)\n",
    "a4 = XOR(1, 1)\n",
    "\n",
    "print(f'XOR(0, 0) : {a1}')\n",
    "print(f'XOR(0, 1) : {a2}')\n",
    "print(f'XOR(1, 0) : {a3}')\n",
    "print(f'XOR(1, 1) : {a4}')"
   ]
  },
  {
   "cell_type": "code",
   "execution_count": null,
   "id": "ccc477c9-677c-44d7-9932-7367654e58f7",
   "metadata": {},
   "outputs": [],
   "source": []
  }
 ],
 "metadata": {
  "kernelspec": {
   "display_name": "Python 3 (ipykernel)",
   "language": "python",
   "name": "python3"
  },
  "language_info": {
   "codemirror_mode": {
    "name": "ipython",
    "version": 3
   },
   "file_extension": ".py",
   "mimetype": "text/x-python",
   "name": "python",
   "nbconvert_exporter": "python",
   "pygments_lexer": "ipython3",
   "version": "3.9.12"
  }
 },
 "nbformat": 4,
 "nbformat_minor": 5
}
