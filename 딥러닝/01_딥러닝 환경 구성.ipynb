{
 "cells": [
  {
   "cell_type": "markdown",
   "id": "c0bdb52e-4dbf-4611-9212-ff91529e2458",
   "metadata": {},
   "source": [
    "### 라이브러리 설치\n",
    "- 과거에는 tensorflow와 keras를 따로 설치해야 했지만 지금은 tensorflow 안에 포함되어 있다.\n",
    "- tensorflow : 딥러닝 수행을 위한 라이브러리\n",
    "- keras : tensorflow를 쉽게 사용할 수 있도록 만든 라이브러리"
   ]
  },
  {
   "cell_type": "code",
   "execution_count": 1,
   "id": "51d72693-7c43-498c-8cfd-d8f0e16c5ca8",
   "metadata": {
    "collapsed": true,
    "execution": {
     "iopub.execute_input": "2022-08-01T05:26:35.855874Z",
     "iopub.status.busy": "2022-08-01T05:26:35.854877Z",
     "iopub.status.idle": "2022-08-01T05:26:39.185414Z",
     "shell.execute_reply": "2022-08-01T05:26:39.185414Z",
     "shell.execute_reply.started": "2022-08-01T05:26:35.855874Z"
    },
    "jupyter": {
     "outputs_hidden": true
    },
    "tags": []
   },
   "outputs": [
    {
     "name": "stdout",
     "output_type": "stream",
     "text": [
      "Requirement already satisfied: tensorflow in c:\\users\\pusan\\anaconda3\\lib\\site-packages (2.9.1)\n",
      "Requirement already satisfied: libclang>=13.0.0 in c:\\users\\pusan\\anaconda3\\lib\\site-packages (from tensorflow) (14.0.1)\n",
      "Requirement already satisfied: h5py>=2.9.0 in c:\\users\\pusan\\anaconda3\\lib\\site-packages (from tensorflow) (3.6.0)\n",
      "Requirement already satisfied: termcolor>=1.1.0 in c:\\users\\pusan\\anaconda3\\lib\\site-packages (from tensorflow) (1.1.0)\n",
      "Requirement already satisfied: grpcio<2.0,>=1.24.3 in c:\\users\\pusan\\anaconda3\\lib\\site-packages (from tensorflow) (1.42.0)\n",
      "Requirement already satisfied: opt-einsum>=2.3.2 in c:\\users\\pusan\\anaconda3\\lib\\site-packages (from tensorflow) (3.3.0)\n",
      "Requirement already satisfied: numpy>=1.20 in c:\\users\\pusan\\anaconda3\\lib\\site-packages (from tensorflow) (1.21.5)\n",
      "Requirement already satisfied: packaging in c:\\users\\pusan\\anaconda3\\lib\\site-packages (from tensorflow) (21.3)\n",
      "Requirement already satisfied: setuptools in c:\\users\\pusan\\anaconda3\\lib\\site-packages (from tensorflow) (61.2.0)\n",
      "Requirement already satisfied: six>=1.12.0 in c:\\users\\pusan\\anaconda3\\lib\\site-packages (from tensorflow) (1.16.0)\n",
      "Requirement already satisfied: tensorflow-io-gcs-filesystem>=0.23.1 in c:\\users\\pusan\\anaconda3\\lib\\site-packages (from tensorflow) (0.26.0)\n",
      "Requirement already satisfied: tensorflow-estimator<2.10.0,>=2.9.0rc0 in c:\\users\\pusan\\anaconda3\\lib\\site-packages (from tensorflow) (2.9.0)\n",
      "Requirement already satisfied: keras-preprocessing>=1.1.1 in c:\\users\\pusan\\anaconda3\\lib\\site-packages (from tensorflow) (1.1.2)\n",
      "Requirement already satisfied: wrapt>=1.11.0 in c:\\users\\pusan\\anaconda3\\lib\\site-packages (from tensorflow) (1.12.1)\n",
      "Requirement already satisfied: astunparse>=1.6.0 in c:\\users\\pusan\\anaconda3\\lib\\site-packages (from tensorflow) (1.6.3)\n",
      "Requirement already satisfied: tensorboard<2.10,>=2.9 in c:\\users\\pusan\\anaconda3\\lib\\site-packages (from tensorflow) (2.9.1)\n",
      "Requirement already satisfied: absl-py>=1.0.0 in c:\\users\\pusan\\anaconda3\\lib\\site-packages (from tensorflow) (1.2.0)\n",
      "Requirement already satisfied: flatbuffers<2,>=1.12 in c:\\users\\pusan\\anaconda3\\lib\\site-packages (from tensorflow) (1.12)\n",
      "Requirement already satisfied: typing-extensions>=3.6.6 in c:\\users\\pusan\\anaconda3\\lib\\site-packages (from tensorflow) (4.1.1)\n",
      "Requirement already satisfied: gast<=0.4.0,>=0.2.1 in c:\\users\\pusan\\anaconda3\\lib\\site-packages (from tensorflow) (0.4.0)\n",
      "Requirement already satisfied: google-pasta>=0.1.1 in c:\\users\\pusan\\anaconda3\\lib\\site-packages (from tensorflow) (0.2.0)\n",
      "Requirement already satisfied: protobuf<3.20,>=3.9.2 in c:\\users\\pusan\\anaconda3\\lib\\site-packages (from tensorflow) (3.19.1)\n",
      "Requirement already satisfied: keras<2.10.0,>=2.9.0rc0 in c:\\users\\pusan\\anaconda3\\lib\\site-packages (from tensorflow) (2.9.0)\n",
      "Requirement already satisfied: wheel<1.0,>=0.23.0 in c:\\users\\pusan\\anaconda3\\lib\\site-packages (from astunparse>=1.6.0->tensorflow) (0.37.1)\n",
      "Requirement already satisfied: tensorboard-plugin-wit>=1.6.0 in c:\\users\\pusan\\anaconda3\\lib\\site-packages (from tensorboard<2.10,>=2.9->tensorflow) (1.8.1)\n",
      "Requirement already satisfied: markdown>=2.6.8 in c:\\users\\pusan\\anaconda3\\lib\\site-packages (from tensorboard<2.10,>=2.9->tensorflow) (3.3.4)\n",
      "Requirement already satisfied: google-auth-oauthlib<0.5,>=0.4.1 in c:\\users\\pusan\\anaconda3\\lib\\site-packages (from tensorboard<2.10,>=2.9->tensorflow) (0.4.6)\n",
      "Requirement already satisfied: google-auth<3,>=1.6.3 in c:\\users\\pusan\\anaconda3\\lib\\site-packages (from tensorboard<2.10,>=2.9->tensorflow) (1.33.0)\n",
      "Requirement already satisfied: tensorboard-data-server<0.7.0,>=0.6.0 in c:\\users\\pusan\\anaconda3\\lib\\site-packages (from tensorboard<2.10,>=2.9->tensorflow) (0.6.1)\n",
      "Requirement already satisfied: werkzeug>=1.0.1 in c:\\users\\pusan\\anaconda3\\lib\\site-packages (from tensorboard<2.10,>=2.9->tensorflow) (2.0.3)\n",
      "Requirement already satisfied: requests<3,>=2.21.0 in c:\\users\\pusan\\anaconda3\\lib\\site-packages (from tensorboard<2.10,>=2.9->tensorflow) (2.27.1)\n",
      "Requirement already satisfied: pyasn1-modules>=0.2.1 in c:\\users\\pusan\\anaconda3\\lib\\site-packages (from google-auth<3,>=1.6.3->tensorboard<2.10,>=2.9->tensorflow) (0.2.8)\n",
      "Requirement already satisfied: rsa<5,>=3.1.4 in c:\\users\\pusan\\anaconda3\\lib\\site-packages (from google-auth<3,>=1.6.3->tensorboard<2.10,>=2.9->tensorflow) (4.7.2)\n",
      "Requirement already satisfied: cachetools<5.0,>=2.0.0 in c:\\users\\pusan\\anaconda3\\lib\\site-packages (from google-auth<3,>=1.6.3->tensorboard<2.10,>=2.9->tensorflow) (4.2.2)\n",
      "Requirement already satisfied: requests-oauthlib>=0.7.0 in c:\\users\\pusan\\anaconda3\\lib\\site-packages (from google-auth-oauthlib<0.5,>=0.4.1->tensorboard<2.10,>=2.9->tensorflow) (1.3.1)\n",
      "Requirement already satisfied: pyasn1<0.5.0,>=0.4.6 in c:\\users\\pusan\\anaconda3\\lib\\site-packages (from pyasn1-modules>=0.2.1->google-auth<3,>=1.6.3->tensorboard<2.10,>=2.9->tensorflow) (0.4.8)\n",
      "Requirement already satisfied: charset-normalizer~=2.0.0 in c:\\users\\pusan\\anaconda3\\lib\\site-packages (from requests<3,>=2.21.0->tensorboard<2.10,>=2.9->tensorflow) (2.0.4)\n",
      "Requirement already satisfied: idna<4,>=2.5 in c:\\users\\pusan\\anaconda3\\lib\\site-packages (from requests<3,>=2.21.0->tensorboard<2.10,>=2.9->tensorflow) (3.3)\n",
      "Requirement already satisfied: urllib3<1.27,>=1.21.1 in c:\\users\\pusan\\anaconda3\\lib\\site-packages (from requests<3,>=2.21.0->tensorboard<2.10,>=2.9->tensorflow) (1.26.9)\n",
      "Requirement already satisfied: certifi>=2017.4.17 in c:\\users\\pusan\\anaconda3\\lib\\site-packages (from requests<3,>=2.21.0->tensorboard<2.10,>=2.9->tensorflow) (2021.10.8)\n",
      "Requirement already satisfied: oauthlib>=3.0.0 in c:\\users\\pusan\\anaconda3\\lib\\site-packages (from requests-oauthlib>=0.7.0->google-auth-oauthlib<0.5,>=0.4.1->tensorboard<2.10,>=2.9->tensorflow) (3.2.0)\n",
      "Requirement already satisfied: pyparsing!=3.0.5,>=2.0.2 in c:\\users\\pusan\\anaconda3\\lib\\site-packages (from packaging->tensorflow) (3.0.4)\n"
     ]
    }
   ],
   "source": [
    "!pip install tensorflow"
   ]
  },
  {
   "cell_type": "code",
   "execution_count": 1,
   "id": "e6c647e2-8695-4a38-b8bc-54df7b82ecd1",
   "metadata": {
    "execution": {
     "iopub.execute_input": "2022-08-01T05:27:31.279957Z",
     "iopub.status.busy": "2022-08-01T05:27:31.278959Z",
     "iopub.status.idle": "2022-08-01T05:27:34.865088Z",
     "shell.execute_reply": "2022-08-01T05:27:34.865088Z",
     "shell.execute_reply.started": "2022-08-01T05:27:31.279957Z"
    },
    "tags": []
   },
   "outputs": [],
   "source": [
    "import tensorflow as tf"
   ]
  },
  {
   "cell_type": "code",
   "execution_count": 2,
   "id": "dc470d07-8750-4693-be2b-135c09a686c4",
   "metadata": {
    "execution": {
     "iopub.execute_input": "2022-08-01T05:27:34.867082Z",
     "iopub.status.busy": "2022-08-01T05:27:34.866085Z",
     "iopub.status.idle": "2022-08-01T05:27:34.882044Z",
     "shell.execute_reply": "2022-08-01T05:27:34.881045Z",
     "shell.execute_reply.started": "2022-08-01T05:27:34.867082Z"
    },
    "tags": []
   },
   "outputs": [
    {
     "data": {
      "text/plain": [
       "'2.9.1'"
      ]
     },
     "execution_count": 2,
     "metadata": {},
     "output_type": "execute_result"
    }
   ],
   "source": [
    "# 버전 확인\n",
    "tf.__version__\n",
    "\n",
    "# 만약 원하는 버전으로 설치하고자 한다면..\n",
    "# pip unistall tensorflow\n",
    "# pip install tensorflow==version"
   ]
  },
  {
   "cell_type": "markdown",
   "id": "e853a58a-89bc-421f-a365-7ac220739331",
   "metadata": {},
   "source": [
    "### GPU 사용 여부 확인\n",
    "#### 1단계. GPU확인 및 최신 드라이버 설치\n",
    "- nvidia 그래픽 칩이 장착되어 있는 컴퓨터만 가능하다.\n",
    "- 최신 버전의 그래픽 드라이버를 설치한다.\n",
    "\n",
    "#### 2단계. CUDA Toolkit 설치\n",
    "- Cuda : 컴퓨터에 있는 소프트웨어가 GPU에게 전달하기  위해 사용하는 중간다리 역할을 하는 소프트웨어\n",
    "- Cuda Toolkit : Cuda를 이용할수 있도록 공개된 라이브러리 소프트웨어\n",
    "- 소프트웨어가 cuda toolkit을 이용해 공개된 라이브러리 소프트웨어\n",
    "- gpu 정보에서 cuda 버전을 확인한다.\n",
    "- 명령프롬프트에서 nvidia-smi\n",
    "- https://www.tensorflow.org/install/source_windows?hl=ko\n",
    "- 만약 최신 버전이 나와있지 않으면 구글링해서 찾기\n",
    "- tensorflow 버전에 맞는 cuda를 내려받아 설치한다.\n",
    "- https://developer.nvidia.com/cuda-toolkit-archive\n",
    "\n",
    "#### 3단계. cuDNN 라이브러리 설치\n",
    "- cuda를 이용해 딥러닝을 할 수 있도록 nvidia가 제공하는 라이브러리\n",
    "- cuDNN을 다운받으려면 nvidia에 회원가입을 해야 한다.\n",
    "- https://developer.nvidia.com/\n",
    "- 11.x 버전 말고 tensorflow 사이트에 나와있는 버전으로 내려받아야 한다.\n",
    "- 압축을 풀면 있는 bin, include, lib 세 개의 폴더를 다음 경로로 이동시킨다.\n",
    "- C:\\Program Files\\NVIDIA GPU Computing Toolkit\\CUDA\\v11.2"
   ]
  },
  {
   "cell_type": "code",
   "execution_count": 3,
   "id": "43e63320-6d30-40dc-9fb2-d6b7e42e483f",
   "metadata": {
    "execution": {
     "iopub.execute_input": "2022-08-01T05:28:44.206444Z",
     "iopub.status.busy": "2022-08-01T05:28:44.205446Z",
     "iopub.status.idle": "2022-08-01T05:28:44.228385Z",
     "shell.execute_reply": "2022-08-01T05:28:44.226390Z",
     "shell.execute_reply.started": "2022-08-01T05:28:44.206444Z"
    },
    "tags": []
   },
   "outputs": [],
   "source": [
    "from tensorflow.python.client import device_lib"
   ]
  },
  {
   "cell_type": "code",
   "execution_count": 4,
   "id": "de447798-11f6-49fa-8340-57a725c8f72b",
   "metadata": {
    "execution": {
     "iopub.execute_input": "2022-08-01T05:28:45.528992Z",
     "iopub.status.busy": "2022-08-01T05:28:45.527994Z",
     "iopub.status.idle": "2022-08-01T05:28:45.540960Z",
     "shell.execute_reply": "2022-08-01T05:28:45.540960Z",
     "shell.execute_reply.started": "2022-08-01T05:28:45.528992Z"
    },
    "tags": []
   },
   "outputs": [
    {
     "data": {
      "text/plain": [
       "[name: \"/device:CPU:0\"\n",
       " device_type: \"CPU\"\n",
       " memory_limit: 268435456\n",
       " locality {\n",
       " }\n",
       " incarnation: 18221437977363310496\n",
       " xla_global_id: -1,\n",
       " name: \"/device:GPU:0\"\n",
       " device_type: \"GPU\"\n",
       " memory_limit: 22713204736\n",
       " locality {\n",
       "   bus_id: 1\n",
       "   links {\n",
       "   }\n",
       " }\n",
       " incarnation: 3207323955888465753\n",
       " physical_device_desc: \"device: 0, name: NVIDIA GeForce RTX 3090, pci bus id: 0000:01:00.0, compute capability: 8.6\"\n",
       " xla_global_id: 416903419]"
      ]
     },
     "execution_count": 4,
     "metadata": {},
     "output_type": "execute_result"
    }
   ],
   "source": [
    "device_lib.list_local_devices()"
   ]
  },
  {
   "cell_type": "code",
   "execution_count": null,
   "id": "e894d971-7cbd-42b1-8b60-49be2a5a082c",
   "metadata": {},
   "outputs": [],
   "source": []
  }
 ],
 "metadata": {
  "kernelspec": {
   "display_name": "Python 3.9.12 ('base')",
   "language": "python",
   "name": "python3"
  },
  "language_info": {
   "codemirror_mode": {
    "name": "ipython",
    "version": 3
   },
   "file_extension": ".py",
   "mimetype": "text/x-python",
   "name": "python",
   "nbconvert_exporter": "python",
   "pygments_lexer": "ipython3",
   "version": "3.9.12"
  },
  "vscode": {
   "interpreter": {
    "hash": "98a2ba9a816aafb3854cf57a00f17401e76b72b0d295088efd39420139db58c5"
   }
  }
 },
 "nbformat": 4,
 "nbformat_minor": 5
}
