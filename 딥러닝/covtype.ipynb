{
 "cells": [
  {
   "cell_type": "code",
   "execution_count": 1,
   "id": "67dfae58-91f1-4043-8749-0d58f05e9f80",
   "metadata": {
    "execution": {
     "iopub.execute_input": "2022-08-08T01:44:42.238872Z",
     "iopub.status.busy": "2022-08-08T01:44:42.238872Z",
     "iopub.status.idle": "2022-08-08T01:44:45.606735Z",
     "shell.execute_reply": "2022-08-08T01:44:45.606735Z",
     "shell.execute_reply.started": "2022-08-08T01:44:42.238872Z"
    },
    "tags": []
   },
   "outputs": [],
   "source": [
    "# 기본\n",
    "import pandas as pd\n",
    "import numpy as np\n",
    "import matplotlib.pyplot as plt\n",
    "import seaborn as sns\n",
    "\n",
    "import os\n",
    "import shutil\n",
    "\n",
    "# 경고 뜨지 않게...\n",
    "import warnings\n",
    "warnings.filterwarnings('ignore')\n",
    "\n",
    "# 그래프 설정\n",
    "plt.rcParams['font.family'] = 'Malgun Gothic'\n",
    "# plt.rcParams['font.family'] = 'AppleGothic'\n",
    "plt.rcParams['font.size'] = 16\n",
    "plt.rcParams['figure.figsize'] = 20, 10\n",
    "plt.rcParams['axes.unicode_minus'] = False\n",
    "# 매직명령어 => 쥬피터노트북에서 그래프 삽입 기능 \n",
    "%matplotlib inline\n",
    "# 글꼴 선명화 \n",
    "%config InlineBackend.figure_format = 'retina'\n",
    "\n",
    "# 랜덤 모듈\n",
    "import random\n",
    "\n",
    "# 학습 모델 저장 및 복원\n",
    "import pickle\n",
    "\n",
    "# 딥러닝 라이브러리\n",
    "import tensorflow as tf\n",
    "# 신경망 모델을 관리하는 객체\n",
    "from tensorflow.keras.models import Sequential\n",
    "# 선형 회귀 레이어\n",
    "from tensorflow.keras.layers import Dense\n",
    "# 활성화 함수를 정의하는 객체\n",
    "from tensorflow.keras.layers import Activation\n",
    "# 원핫 인코딩을 수행하는 함수\n",
    "from tensorflow.keras.utils import to_categorical\n",
    "\n",
    "# 저장된 학습모델을 복원한다.\n",
    "from tensorflow.keras.models import load_model\n",
    "\n",
    "# 모델을 자동 저장한다.\n",
    "from tensorflow.keras.callbacks import ModelCheckpoint\n",
    "# 성능이 더이상 좋아지지 않을 경우 중단 시킨다.\n",
    "from tensorflow.keras.callbacks import EarlyStopping\n",
    "\n",
    "# 평가함수\n",
    "# 분류용\n",
    "from sklearn.metrics import accuracy_score\n",
    "from sklearn.metrics import precision_score\n",
    "from sklearn.metrics import recall_score\n",
    "from sklearn.metrics import f1_score\n",
    "from sklearn.metrics import roc_auc_score\n",
    "\n",
    "# 회귀용\n",
    "from sklearn.metrics import r2_score\n",
    "from sklearn.metrics import mean_squared_error\n",
    "\n",
    "# 표준화\n",
    "from sklearn.preprocessing import StandardScaler\n",
    "from sklearn.preprocessing import MinMaxScaler\n",
    "# 문자열 => 숫자\n",
    "from sklearn.preprocessing import LabelEncoder\n",
    "\n",
    "# 전체데이터를 학습용과 검증으로 나눈다.\n",
    "from sklearn.model_selection import train_test_split\n",
    "\n",
    "# 랜덤시드 설정\n",
    "# 데이터를 랜덤하게 섞거나 가중치를 랜덤하게 설정하는 등..\n",
    "# 작업에서 랜덤을 적용하는 경우가 더러 있다.\n",
    "# 이에, 시드를 고정시킨다.\n",
    "random_seed = 1\n",
    "np.random.seed(random_seed)\n",
    "random.seed(random_seed)\n",
    "tf.random.set_seed(random_seed)\n",
    "\n",
    "# 현재 프로젝트에서 GPU 메모리 사용을 필요한 만큼만 쓸 수 있도록 한다.\n",
    "# 컴퓨터에 있는 GPU 정보들을 가져온다.\n",
    "\n",
    "gpus = tf.config.experimental.list_physical_devices('GPU')\n",
    "# gpu가 있다면...\n",
    "if len(gpus) > 0 :\n",
    "    try :\n",
    "        for gpu in gpus :\n",
    "            tf.config.experimental.set_memory_growth(gpu, True)\n",
    "    except RuntimeError as e :\n",
    "        print(e)"
   ]
  },
  {
   "cell_type": "code",
   "execution_count": 2,
   "id": "64943215-7b54-430a-80a8-496f26830c9e",
   "metadata": {
    "execution": {
     "iopub.execute_input": "2022-08-08T01:44:45.607728Z",
     "iopub.status.busy": "2022-08-08T01:44:45.607728Z",
     "iopub.status.idle": "2022-08-08T01:44:46.333613Z",
     "shell.execute_reply": "2022-08-08T01:44:46.333613Z",
     "shell.execute_reply.started": "2022-08-08T01:44:45.607728Z"
    },
    "tags": []
   },
   "outputs": [
    {
     "data": {
      "text/html": [
       "<div>\n",
       "<style scoped>\n",
       "    .dataframe tbody tr th:only-of-type {\n",
       "        vertical-align: middle;\n",
       "    }\n",
       "\n",
       "    .dataframe tbody tr th {\n",
       "        vertical-align: top;\n",
       "    }\n",
       "\n",
       "    .dataframe thead th {\n",
       "        text-align: right;\n",
       "    }\n",
       "</style>\n",
       "<table border=\"1\" class=\"dataframe\">\n",
       "  <thead>\n",
       "    <tr style=\"text-align: right;\">\n",
       "      <th></th>\n",
       "      <th>0</th>\n",
       "      <th>1</th>\n",
       "      <th>2</th>\n",
       "      <th>3</th>\n",
       "      <th>4</th>\n",
       "      <th>5</th>\n",
       "      <th>6</th>\n",
       "      <th>7</th>\n",
       "      <th>8</th>\n",
       "      <th>9</th>\n",
       "      <th>...</th>\n",
       "      <th>45</th>\n",
       "      <th>46</th>\n",
       "      <th>47</th>\n",
       "      <th>48</th>\n",
       "      <th>49</th>\n",
       "      <th>50</th>\n",
       "      <th>51</th>\n",
       "      <th>52</th>\n",
       "      <th>53</th>\n",
       "      <th>54</th>\n",
       "    </tr>\n",
       "  </thead>\n",
       "  <tbody>\n",
       "    <tr>\n",
       "      <th>0</th>\n",
       "      <td>2596</td>\n",
       "      <td>51</td>\n",
       "      <td>3</td>\n",
       "      <td>258</td>\n",
       "      <td>0</td>\n",
       "      <td>510</td>\n",
       "      <td>221</td>\n",
       "      <td>232</td>\n",
       "      <td>148</td>\n",
       "      <td>6279</td>\n",
       "      <td>...</td>\n",
       "      <td>0</td>\n",
       "      <td>0</td>\n",
       "      <td>0</td>\n",
       "      <td>0</td>\n",
       "      <td>0</td>\n",
       "      <td>0</td>\n",
       "      <td>0</td>\n",
       "      <td>0</td>\n",
       "      <td>0</td>\n",
       "      <td>5</td>\n",
       "    </tr>\n",
       "    <tr>\n",
       "      <th>1</th>\n",
       "      <td>2590</td>\n",
       "      <td>56</td>\n",
       "      <td>2</td>\n",
       "      <td>212</td>\n",
       "      <td>-6</td>\n",
       "      <td>390</td>\n",
       "      <td>220</td>\n",
       "      <td>235</td>\n",
       "      <td>151</td>\n",
       "      <td>6225</td>\n",
       "      <td>...</td>\n",
       "      <td>0</td>\n",
       "      <td>0</td>\n",
       "      <td>0</td>\n",
       "      <td>0</td>\n",
       "      <td>0</td>\n",
       "      <td>0</td>\n",
       "      <td>0</td>\n",
       "      <td>0</td>\n",
       "      <td>0</td>\n",
       "      <td>5</td>\n",
       "    </tr>\n",
       "    <tr>\n",
       "      <th>2</th>\n",
       "      <td>2804</td>\n",
       "      <td>139</td>\n",
       "      <td>9</td>\n",
       "      <td>268</td>\n",
       "      <td>65</td>\n",
       "      <td>3180</td>\n",
       "      <td>234</td>\n",
       "      <td>238</td>\n",
       "      <td>135</td>\n",
       "      <td>6121</td>\n",
       "      <td>...</td>\n",
       "      <td>0</td>\n",
       "      <td>0</td>\n",
       "      <td>0</td>\n",
       "      <td>0</td>\n",
       "      <td>0</td>\n",
       "      <td>0</td>\n",
       "      <td>0</td>\n",
       "      <td>0</td>\n",
       "      <td>0</td>\n",
       "      <td>2</td>\n",
       "    </tr>\n",
       "    <tr>\n",
       "      <th>3</th>\n",
       "      <td>2785</td>\n",
       "      <td>155</td>\n",
       "      <td>18</td>\n",
       "      <td>242</td>\n",
       "      <td>118</td>\n",
       "      <td>3090</td>\n",
       "      <td>238</td>\n",
       "      <td>238</td>\n",
       "      <td>122</td>\n",
       "      <td>6211</td>\n",
       "      <td>...</td>\n",
       "      <td>0</td>\n",
       "      <td>0</td>\n",
       "      <td>0</td>\n",
       "      <td>0</td>\n",
       "      <td>0</td>\n",
       "      <td>0</td>\n",
       "      <td>0</td>\n",
       "      <td>0</td>\n",
       "      <td>0</td>\n",
       "      <td>2</td>\n",
       "    </tr>\n",
       "    <tr>\n",
       "      <th>4</th>\n",
       "      <td>2595</td>\n",
       "      <td>45</td>\n",
       "      <td>2</td>\n",
       "      <td>153</td>\n",
       "      <td>-1</td>\n",
       "      <td>391</td>\n",
       "      <td>220</td>\n",
       "      <td>234</td>\n",
       "      <td>150</td>\n",
       "      <td>6172</td>\n",
       "      <td>...</td>\n",
       "      <td>0</td>\n",
       "      <td>0</td>\n",
       "      <td>0</td>\n",
       "      <td>0</td>\n",
       "      <td>0</td>\n",
       "      <td>0</td>\n",
       "      <td>0</td>\n",
       "      <td>0</td>\n",
       "      <td>0</td>\n",
       "      <td>5</td>\n",
       "    </tr>\n",
       "  </tbody>\n",
       "</table>\n",
       "<p>5 rows × 55 columns</p>\n",
       "</div>"
      ],
      "text/plain": [
       "     0    1   2    3    4     5    6    7    8     9   ...  45  46  47  48  \\\n",
       "0  2596   51   3  258    0   510  221  232  148  6279  ...   0   0   0   0   \n",
       "1  2590   56   2  212   -6   390  220  235  151  6225  ...   0   0   0   0   \n",
       "2  2804  139   9  268   65  3180  234  238  135  6121  ...   0   0   0   0   \n",
       "3  2785  155  18  242  118  3090  238  238  122  6211  ...   0   0   0   0   \n",
       "4  2595   45   2  153   -1   391  220  234  150  6172  ...   0   0   0   0   \n",
       "\n",
       "   49  50  51  52  53  54  \n",
       "0   0   0   0   0   0   5  \n",
       "1   0   0   0   0   0   5  \n",
       "2   0   0   0   0   0   2  \n",
       "3   0   0   0   0   0   2  \n",
       "4   0   0   0   0   0   5  \n",
       "\n",
       "[5 rows x 55 columns]"
      ]
     },
     "execution_count": 2,
     "metadata": {},
     "output_type": "execute_result"
    }
   ],
   "source": [
    "# 데이터를 읽어온다.\n",
    "df1 = pd.read_csv('./data/covtype.csv', header=None)\n",
    "df1.head()"
   ]
  },
  {
   "cell_type": "code",
   "execution_count": 3,
   "id": "e4056b23-e8a9-444b-bc0e-f98a5d4052fb",
   "metadata": {
    "execution": {
     "iopub.execute_input": "2022-08-08T01:44:46.335607Z",
     "iopub.status.busy": "2022-08-08T01:44:46.335607Z",
     "iopub.status.idle": "2022-08-08T01:44:46.348572Z",
     "shell.execute_reply": "2022-08-08T01:44:46.348572Z",
     "shell.execute_reply.started": "2022-08-08T01:44:46.335607Z"
    },
    "tags": []
   },
   "outputs": [
    {
     "data": {
      "text/plain": [
       "55"
      ]
     },
     "execution_count": 3,
     "metadata": {},
     "output_type": "execute_result"
    }
   ],
   "source": [
    "len(df1.columns)"
   ]
  },
  {
   "cell_type": "code",
   "execution_count": 4,
   "id": "2239ffdb-f990-4607-bfec-1345d0ff594c",
   "metadata": {
    "collapsed": true,
    "execution": {
     "iopub.execute_input": "2022-08-08T01:44:46.350568Z",
     "iopub.status.busy": "2022-08-08T01:44:46.349570Z",
     "iopub.status.idle": "2022-08-08T01:44:46.410416Z",
     "shell.execute_reply": "2022-08-08T01:44:46.410416Z",
     "shell.execute_reply.started": "2022-08-08T01:44:46.350568Z"
    },
    "jupyter": {
     "outputs_hidden": true
    },
    "tags": []
   },
   "outputs": [
    {
     "name": "stdout",
     "output_type": "stream",
     "text": [
      "<class 'pandas.core.frame.DataFrame'>\n",
      "RangeIndex: 501285 entries, 0 to 501284\n",
      "Data columns (total 55 columns):\n",
      " #   Column  Non-Null Count   Dtype\n",
      "---  ------  --------------   -----\n",
      " 0   0       501285 non-null  int64\n",
      " 1   1       501285 non-null  int64\n",
      " 2   2       501285 non-null  int64\n",
      " 3   3       501285 non-null  int64\n",
      " 4   4       501285 non-null  int64\n",
      " 5   5       501285 non-null  int64\n",
      " 6   6       501285 non-null  int64\n",
      " 7   7       501285 non-null  int64\n",
      " 8   8       501285 non-null  int64\n",
      " 9   9       501285 non-null  int64\n",
      " 10  10      501285 non-null  int64\n",
      " 11  11      501285 non-null  int64\n",
      " 12  12      501285 non-null  int64\n",
      " 13  13      501285 non-null  int64\n",
      " 14  14      501285 non-null  int64\n",
      " 15  15      501285 non-null  int64\n",
      " 16  16      501285 non-null  int64\n",
      " 17  17      501285 non-null  int64\n",
      " 18  18      501285 non-null  int64\n",
      " 19  19      501285 non-null  int64\n",
      " 20  20      501285 non-null  int64\n",
      " 21  21      501285 non-null  int64\n",
      " 22  22      501285 non-null  int64\n",
      " 23  23      501285 non-null  int64\n",
      " 24  24      501285 non-null  int64\n",
      " 25  25      501285 non-null  int64\n",
      " 26  26      501285 non-null  int64\n",
      " 27  27      501285 non-null  int64\n",
      " 28  28      501285 non-null  int64\n",
      " 29  29      501285 non-null  int64\n",
      " 30  30      501285 non-null  int64\n",
      " 31  31      501285 non-null  int64\n",
      " 32  32      501285 non-null  int64\n",
      " 33  33      501285 non-null  int64\n",
      " 34  34      501285 non-null  int64\n",
      " 35  35      501285 non-null  int64\n",
      " 36  36      501285 non-null  int64\n",
      " 37  37      501285 non-null  int64\n",
      " 38  38      501285 non-null  int64\n",
      " 39  39      501285 non-null  int64\n",
      " 40  40      501285 non-null  int64\n",
      " 41  41      501285 non-null  int64\n",
      " 42  42      501285 non-null  int64\n",
      " 43  43      501285 non-null  int64\n",
      " 44  44      501285 non-null  int64\n",
      " 45  45      501285 non-null  int64\n",
      " 46  46      501285 non-null  int64\n",
      " 47  47      501285 non-null  int64\n",
      " 48  48      501285 non-null  int64\n",
      " 49  49      501285 non-null  int64\n",
      " 50  50      501285 non-null  int64\n",
      " 51  51      501285 non-null  int64\n",
      " 52  52      501285 non-null  int64\n",
      " 53  53      501285 non-null  int64\n",
      " 54  54      501285 non-null  int64\n",
      "dtypes: int64(55)\n",
      "memory usage: 210.3 MB\n"
     ]
    }
   ],
   "source": [
    "df1.info()"
   ]
  },
  {
   "cell_type": "code",
   "execution_count": 5,
   "id": "037bcc4a-3b72-460e-876e-f5477af811f2",
   "metadata": {
    "collapsed": true,
    "execution": {
     "iopub.execute_input": "2022-08-08T01:44:46.411412Z",
     "iopub.status.busy": "2022-08-08T01:44:46.411412Z",
     "iopub.status.idle": "2022-08-08T01:44:46.456297Z",
     "shell.execute_reply": "2022-08-08T01:44:46.456297Z",
     "shell.execute_reply.started": "2022-08-08T01:44:46.411412Z"
    },
    "jupyter": {
     "outputs_hidden": true
    },
    "tags": []
   },
   "outputs": [
    {
     "data": {
      "text/plain": [
       "0     0\n",
       "1     0\n",
       "2     0\n",
       "3     0\n",
       "4     0\n",
       "5     0\n",
       "6     0\n",
       "7     0\n",
       "8     0\n",
       "9     0\n",
       "10    0\n",
       "11    0\n",
       "12    0\n",
       "13    0\n",
       "14    0\n",
       "15    0\n",
       "16    0\n",
       "17    0\n",
       "18    0\n",
       "19    0\n",
       "20    0\n",
       "21    0\n",
       "22    0\n",
       "23    0\n",
       "24    0\n",
       "25    0\n",
       "26    0\n",
       "27    0\n",
       "28    0\n",
       "29    0\n",
       "30    0\n",
       "31    0\n",
       "32    0\n",
       "33    0\n",
       "34    0\n",
       "35    0\n",
       "36    0\n",
       "37    0\n",
       "38    0\n",
       "39    0\n",
       "40    0\n",
       "41    0\n",
       "42    0\n",
       "43    0\n",
       "44    0\n",
       "45    0\n",
       "46    0\n",
       "47    0\n",
       "48    0\n",
       "49    0\n",
       "50    0\n",
       "51    0\n",
       "52    0\n",
       "53    0\n",
       "54    0\n",
       "dtype: int64"
      ]
     },
     "execution_count": 5,
     "metadata": {},
     "output_type": "execute_result"
    }
   ],
   "source": [
    "df1.isna().sum()"
   ]
  },
  {
   "cell_type": "code",
   "execution_count": 6,
   "id": "3e115f29-5bda-4cb6-90f4-75024f09158a",
   "metadata": {
    "execution": {
     "iopub.execute_input": "2022-08-08T01:44:46.457291Z",
     "iopub.status.busy": "2022-08-08T01:44:46.457291Z",
     "iopub.status.idle": "2022-08-08T01:44:46.502765Z",
     "shell.execute_reply": "2022-08-08T01:44:46.502765Z",
     "shell.execute_reply.started": "2022-08-08T01:44:46.457291Z"
    },
    "tags": []
   },
   "outputs": [],
   "source": [
    "# 입력과 결과로 나눈다.\n",
    "X = df1.drop(54, axis=1)\n",
    "y = df1[54]"
   ]
  },
  {
   "cell_type": "code",
   "execution_count": 7,
   "id": "cc08c83a-aa4d-41bf-b5ec-0e2186c717dc",
   "metadata": {
    "execution": {
     "iopub.execute_input": "2022-08-08T01:44:46.503758Z",
     "iopub.status.busy": "2022-08-08T01:44:46.503758Z",
     "iopub.status.idle": "2022-08-08T01:44:46.519762Z",
     "shell.execute_reply": "2022-08-08T01:44:46.518767Z",
     "shell.execute_reply.started": "2022-08-08T01:44:46.503758Z"
    },
    "tags": []
   },
   "outputs": [
    {
     "data": {
      "text/plain": [
       "(array([5, 2, 1, 7, 3, 6, 4], dtype=int64), 7)"
      ]
     },
     "execution_count": 7,
     "metadata": {},
     "output_type": "execute_result"
    }
   ],
   "source": [
    "y.unique(), len(y.value_counts())"
   ]
  },
  {
   "cell_type": "code",
   "execution_count": 8,
   "id": "87cd33a9-fc81-43fe-9d17-37dd608fce9c",
   "metadata": {
    "execution": {
     "iopub.execute_input": "2022-08-08T01:44:46.519762Z",
     "iopub.status.busy": "2022-08-08T01:44:46.519762Z",
     "iopub.status.idle": "2022-08-08T01:44:46.534722Z",
     "shell.execute_reply": "2022-08-08T01:44:46.534722Z",
     "shell.execute_reply.started": "2022-08-08T01:44:46.519762Z"
    },
    "tags": []
   },
   "outputs": [
    {
     "data": {
      "text/plain": [
       "array([5, 5, 2, ..., 1, 1, 1], dtype=int64)"
      ]
     },
     "execution_count": 8,
     "metadata": {},
     "output_type": "execute_result"
    }
   ],
   "source": [
    "y.values"
   ]
  },
  {
   "cell_type": "code",
   "execution_count": 9,
   "id": "c4469677-b55c-45b6-bcb1-a2de9c873cd4",
   "metadata": {
    "execution": {
     "iopub.execute_input": "2022-08-08T01:44:46.535718Z",
     "iopub.status.busy": "2022-08-08T01:44:46.535718Z",
     "iopub.status.idle": "2022-08-08T01:44:46.596695Z",
     "shell.execute_reply": "2022-08-08T01:44:46.596695Z",
     "shell.execute_reply.started": "2022-08-08T01:44:46.535718Z"
    },
    "tags": []
   },
   "outputs": [],
   "source": [
    "encoder1 = LabelEncoder()\n",
    "df1[54] = encoder1.fit_transform(y)\n",
    "y = df1[54]"
   ]
  },
  {
   "cell_type": "code",
   "execution_count": 10,
   "id": "6b4b8c35-ea40-42dc-8478-44917fd06df2",
   "metadata": {
    "execution": {
     "iopub.execute_input": "2022-08-08T01:44:46.597691Z",
     "iopub.status.busy": "2022-08-08T01:44:46.597691Z",
     "iopub.status.idle": "2022-08-08T01:44:46.966704Z",
     "shell.execute_reply": "2022-08-08T01:44:46.966704Z",
     "shell.execute_reply.started": "2022-08-08T01:44:46.597691Z"
    },
    "tags": []
   },
   "outputs": [
    {
     "data": {
      "text/plain": [
       "array([[-1.28404903, -0.92314176, -1.43813607, ..., -0.16648171,\n",
       "        -0.14438577, -0.11711887],\n",
       "       [-1.305791  , -0.87869205, -1.57195572, ..., -0.16648171,\n",
       "        -0.14438577, -0.11711887],\n",
       "       [-0.53032733, -0.1408269 , -0.63521816, ..., -0.16648171,\n",
       "        -0.14438577, -0.11711887],\n",
       "       ...,\n",
       "       [ 0.74882536,  1.18377439, -0.36757885, ..., -0.16648171,\n",
       "        -0.14438577, -0.11711887],\n",
       "       [ 0.74882536,  1.04153533, -1.17049676, ..., -0.16648171,\n",
       "        -0.14438577, -0.11711887],\n",
       "       [ 0.76694367,  0.94374597,  1.10443732, ..., -0.16648171,\n",
       "        -0.14438577, -0.11711887]])"
      ]
     },
     "metadata": {},
     "output_type": "display_data"
    }
   ],
   "source": [
    "# 표준화\n",
    "scaler1 = StandardScaler()\n",
    "X = scaler1.fit_transform(X)\n",
    "display(X)"
   ]
  },
  {
   "cell_type": "code",
   "execution_count": 11,
   "id": "32dd4496-b3ba-461d-8729-b305ffdb9668",
   "metadata": {
    "execution": {
     "iopub.execute_input": "2022-08-08T01:44:46.968698Z",
     "iopub.status.busy": "2022-08-08T01:44:46.967703Z",
     "iopub.status.idle": "2022-08-08T01:44:46.981664Z",
     "shell.execute_reply": "2022-08-08T01:44:46.981664Z",
     "shell.execute_reply.started": "2022-08-08T01:44:46.968698Z"
    },
    "tags": []
   },
   "outputs": [],
   "source": [
    "# 2진 분류 옵션들\n",
    "# out_nodes = 1\n",
    "# loss_function = 'binary_crossentropy'\n",
    "# activation_function = 'sigmoid'\n",
    "\n",
    "# 다중 분류 옵션들\n",
    "out_nodes = len(y.value_counts())\n",
    "loss_function = 'categorical_crossentropy'\n",
    "activation_function = 'softmax'\n",
    "\n",
    "# 회귀\n",
    "# 출력 결과를 하나만 뽑아서 Series로 나왔다면...\n",
    "# 1로 설정한다.\n",
    "# if type(y) is pd.core.series.Series:\n",
    "#     out_nodes = 1\n",
    "# else : \n",
    "#     out_nodes = y.shape[1]\n",
    "    \n",
    "# loss_function = 'mean_squared_error'"
   ]
  },
  {
   "cell_type": "code",
   "execution_count": 12,
   "id": "e0745c0c-8dcc-4e79-acdc-3c1b2286b810",
   "metadata": {
    "execution": {
     "iopub.execute_input": "2022-08-08T01:44:46.983659Z",
     "iopub.status.busy": "2022-08-08T01:44:46.983659Z",
     "iopub.status.idle": "2022-08-08T01:44:46.997621Z",
     "shell.execute_reply": "2022-08-08T01:44:46.997621Z",
     "shell.execute_reply.started": "2022-08-08T01:44:46.983659Z"
    },
    "tags": []
   },
   "outputs": [
    {
     "data": {
      "text/plain": [
       "array([[0., 0., 0., ..., 1., 0., 0.],\n",
       "       [0., 0., 0., ..., 1., 0., 0.],\n",
       "       [0., 1., 0., ..., 0., 0., 0.],\n",
       "       ...,\n",
       "       [1., 0., 0., ..., 0., 0., 0.],\n",
       "       [1., 0., 0., ..., 0., 0., 0.],\n",
       "       [1., 0., 0., ..., 0., 0., 0.]], dtype=float32)"
      ]
     },
     "execution_count": 12,
     "metadata": {},
     "output_type": "execute_result"
    }
   ],
   "source": [
    "# 원 핫 인코딩\n",
    "# 결과데이터가 0, 1, 2라면...\n",
    "# 0 => 1, 0, 0\n",
    "# 1 => 0, 1, 0\n",
    "# 2 => 0, 0, 1\n",
    "# 로 환산하여 학습을 한다.\n",
    "# 예측된 결과는 가장 값이 큰 자리의 순서 값으로 결정한다.\n",
    "y = to_categorical(y)\n",
    "y"
   ]
  },
  {
   "cell_type": "code",
   "execution_count": 13,
   "id": "f3537ba7-d815-4367-a2f8-0cab1c7cb95b",
   "metadata": {
    "execution": {
     "iopub.execute_input": "2022-08-08T01:44:46.998618Z",
     "iopub.status.busy": "2022-08-08T01:44:46.998618Z",
     "iopub.status.idle": "2022-08-08T01:44:47.013578Z",
     "shell.execute_reply": "2022-08-08T01:44:47.013578Z",
     "shell.execute_reply.started": "2022-08-08T01:44:46.998618Z"
    },
    "tags": []
   },
   "outputs": [
    {
     "data": {
      "text/plain": [
       "(7,)"
      ]
     },
     "execution_count": 13,
     "metadata": {},
     "output_type": "execute_result"
    }
   ],
   "source": [
    "y[0].shape"
   ]
  },
  {
   "cell_type": "code",
   "execution_count": 14,
   "id": "8c727a40-ef84-4a64-87bf-8427d4d06c69",
   "metadata": {
    "execution": {
     "iopub.execute_input": "2022-08-08T01:44:47.014575Z",
     "iopub.status.busy": "2022-08-08T01:44:47.014575Z",
     "iopub.status.idle": "2022-08-08T01:44:47.028538Z",
     "shell.execute_reply": "2022-08-08T01:44:47.028538Z",
     "shell.execute_reply.started": "2022-08-08T01:44:47.014575Z"
    },
    "tags": []
   },
   "outputs": [
    {
     "data": {
      "text/plain": [
       "54"
      ]
     },
     "execution_count": 14,
     "metadata": {},
     "output_type": "execute_result"
    }
   ],
   "source": [
    "# 입력노드의 개수\n",
    "# 입력 데이터 행 하나의 컬럼의 개수\n",
    "input_size = X.shape[1]\n",
    "input_size"
   ]
  },
  {
   "cell_type": "code",
   "execution_count": 15,
   "id": "b2f91e1f-3233-4815-a3c3-421830e714ca",
   "metadata": {
    "execution": {
     "iopub.execute_input": "2022-08-08T01:44:47.029536Z",
     "iopub.status.busy": "2022-08-08T01:44:47.029536Z",
     "iopub.status.idle": "2022-08-08T01:44:47.472938Z",
     "shell.execute_reply": "2022-08-08T01:44:47.472938Z",
     "shell.execute_reply.started": "2022-08-08T01:44:47.029536Z"
    },
    "tags": []
   },
   "outputs": [],
   "source": [
    "# 신경망 설계\n",
    "model = Sequential()\n",
    "\n",
    "model.add(Dense(108, input_dim=input_size))\n",
    "model.add(Activation('relu'))\n",
    "\n",
    "model.add(Dense(54))\n",
    "model.add(Activation('relu'))\n",
    "\n",
    "model.add(Dense(27))\n",
    "model.add(Activation('relu'))\n",
    "\n",
    "model.add(Dense(out_nodes))\n",
    "model.add(Activation(activation_function))"
   ]
  },
  {
   "cell_type": "code",
   "execution_count": 16,
   "id": "a463669b-fb1f-49e8-b843-3efd2ae95f6e",
   "metadata": {
    "execution": {
     "iopub.execute_input": "2022-08-08T01:44:47.473928Z",
     "iopub.status.busy": "2022-08-08T01:44:47.473928Z",
     "iopub.status.idle": "2022-08-08T01:44:47.504848Z",
     "shell.execute_reply": "2022-08-08T01:44:47.504848Z",
     "shell.execute_reply.started": "2022-08-08T01:44:47.473928Z"
    },
    "tags": []
   },
   "outputs": [
    {
     "name": "stdout",
     "output_type": "stream",
     "text": [
      "Model: \"sequential\"\n",
      "_________________________________________________________________\n",
      " Layer (type)                Output Shape              Param #   \n",
      "=================================================================\n",
      " dense (Dense)               (None, 108)               5940      \n",
      "                                                                 \n",
      " activation (Activation)     (None, 108)               0         \n",
      "                                                                 \n",
      " dense_1 (Dense)             (None, 54)                5886      \n",
      "                                                                 \n",
      " activation_1 (Activation)   (None, 54)                0         \n",
      "                                                                 \n",
      " dense_2 (Dense)             (None, 27)                1485      \n",
      "                                                                 \n",
      " activation_2 (Activation)   (None, 27)                0         \n",
      "                                                                 \n",
      " dense_3 (Dense)             (None, 7)                 196       \n",
      "                                                                 \n",
      " activation_3 (Activation)   (None, 7)                 0         \n",
      "                                                                 \n",
      "=================================================================\n",
      "Total params: 13,507\n",
      "Trainable params: 13,507\n",
      "Non-trainable params: 0\n",
      "_________________________________________________________________\n"
     ]
    }
   ],
   "source": [
    "# 모델 컴파일\n",
    "model.compile(loss=loss_function, optimizer='adam', metrics=['accuracy'])\n",
    "model.summary()"
   ]
  },
  {
   "cell_type": "code",
   "execution_count": 17,
   "id": "f91b9e3e-ace3-4ac3-be0e-dfee67f657ca",
   "metadata": {
    "execution": {
     "iopub.execute_input": "2022-08-08T01:44:47.506842Z",
     "iopub.status.busy": "2022-08-08T01:44:47.506842Z",
     "iopub.status.idle": "2022-08-08T01:44:47.519807Z",
     "shell.execute_reply": "2022-08-08T01:44:47.519807Z",
     "shell.execute_reply.started": "2022-08-08T01:44:47.506842Z"
    },
    "tags": []
   },
   "outputs": [],
   "source": [
    "# 학습모델을 저장할 경로\n",
    "path = './model/covtype'\n",
    "\n",
    "# 만약 폴더가 있다면 삭제한다.\n",
    "if os.path.isdir(path):\n",
    "    shutil.rmtree(path)\n",
    "\n",
    "# 폴더를 생성한다.\n",
    "os.makedirs(os.path.join(path))"
   ]
  },
  {
   "cell_type": "code",
   "execution_count": 18,
   "id": "41d1d872-6c8d-4621-8514-f21e7cb6db3d",
   "metadata": {
    "execution": {
     "iopub.execute_input": "2022-08-08T01:44:47.520803Z",
     "iopub.status.busy": "2022-08-08T01:44:47.520803Z",
     "iopub.status.idle": "2022-08-08T01:44:47.534762Z",
     "shell.execute_reply": "2022-08-08T01:44:47.534762Z",
     "shell.execute_reply.started": "2022-08-08T01:44:47.520803Z"
    },
    "tags": []
   },
   "outputs": [],
   "source": [
    "path1 = path + '/{epoch}-{val_loss}.h5'\n",
    "path2 = path + '/best_model.h5'\n",
    "\n",
    "# 저장콜백\n",
    "call1 = ModelCheckpoint(filepath=path1, monitor='val_loss', save_best_only=True)\n",
    "call2 = ModelCheckpoint(filepath=path2, monitor='val_loss', save_best_onlu=True)"
   ]
  },
  {
   "cell_type": "code",
   "execution_count": 19,
   "id": "e23de31b-48b0-4a88-b30c-408602842628",
   "metadata": {
    "execution": {
     "iopub.execute_input": "2022-08-08T01:44:47.535755Z",
     "iopub.status.busy": "2022-08-08T01:44:47.535755Z",
     "iopub.status.idle": "2022-08-08T01:44:47.550719Z",
     "shell.execute_reply": "2022-08-08T01:44:47.550719Z",
     "shell.execute_reply.started": "2022-08-08T01:44:47.535755Z"
    },
    "tags": []
   },
   "outputs": [],
   "source": [
    "# 조기 중단\n",
    "call3 = EarlyStopping(monitor='val_loss', patience=100)"
   ]
  },
  {
   "cell_type": "code",
   "execution_count": 20,
   "id": "0cf22433-d989-4061-a794-7c54825fc110",
   "metadata": {
    "collapsed": true,
    "execution": {
     "iopub.execute_input": "2022-08-08T01:44:47.551713Z",
     "iopub.status.busy": "2022-08-08T01:44:47.551713Z",
     "iopub.status.idle": "2022-08-08T01:49:35.562365Z",
     "shell.execute_reply": "2022-08-08T01:49:35.561418Z",
     "shell.execute_reply.started": "2022-08-08T01:44:47.551713Z"
    },
    "jupyter": {
     "outputs_hidden": true
    },
    "tags": []
   },
   "outputs": [
    {
     "name": "stdout",
     "output_type": "stream",
     "text": [
      "Epoch 1/200000\n",
      "803/803 [==============================] - 3s 3ms/step - loss: 0.6114 - accuracy: 0.7502 - val_loss: 0.8678 - val_accuracy: 0.6333\n",
      "Epoch 2/200000\n",
      "803/803 [==============================] - 2s 3ms/step - loss: 0.4815 - accuracy: 0.7950 - val_loss: 0.9296 - val_accuracy: 0.6275\n",
      "Epoch 3/200000\n",
      "803/803 [==============================] - 2s 3ms/step - loss: 0.4393 - accuracy: 0.8150 - val_loss: 0.9070 - val_accuracy: 0.6421\n",
      "Epoch 4/200000\n",
      "803/803 [==============================] - 3s 3ms/step - loss: 0.4089 - accuracy: 0.8299 - val_loss: 0.8524 - val_accuracy: 0.6623\n",
      "Epoch 5/200000\n",
      "803/803 [==============================] - 3s 3ms/step - loss: 0.3876 - accuracy: 0.8398 - val_loss: 0.9512 - val_accuracy: 0.6489\n",
      "Epoch 6/200000\n",
      "803/803 [==============================] - 3s 3ms/step - loss: 0.3716 - accuracy: 0.8473 - val_loss: 0.9889 - val_accuracy: 0.6323\n",
      "Epoch 7/200000\n",
      "803/803 [==============================] - 3s 3ms/step - loss: 0.3578 - accuracy: 0.8538 - val_loss: 1.2068 - val_accuracy: 0.6155\n",
      "Epoch 8/200000\n",
      "803/803 [==============================] - 3s 3ms/step - loss: 0.3476 - accuracy: 0.8579 - val_loss: 0.8811 - val_accuracy: 0.6798\n",
      "Epoch 9/200000\n",
      "803/803 [==============================] - 3s 3ms/step - loss: 0.3396 - accuracy: 0.8618 - val_loss: 1.0533 - val_accuracy: 0.6511\n",
      "Epoch 10/200000\n",
      "803/803 [==============================] - 3s 3ms/step - loss: 0.3304 - accuracy: 0.8651 - val_loss: 0.9946 - val_accuracy: 0.6806\n",
      "Epoch 11/200000\n",
      "803/803 [==============================] - 3s 3ms/step - loss: 0.3233 - accuracy: 0.8684 - val_loss: 0.9961 - val_accuracy: 0.6747\n",
      "Epoch 12/200000\n",
      "803/803 [==============================] - 3s 3ms/step - loss: 0.3184 - accuracy: 0.8702 - val_loss: 1.0331 - val_accuracy: 0.6714\n",
      "Epoch 13/200000\n",
      "803/803 [==============================] - 3s 3ms/step - loss: 0.3109 - accuracy: 0.8734 - val_loss: 1.1041 - val_accuracy: 0.6517\n",
      "Epoch 14/200000\n",
      "803/803 [==============================] - 3s 3ms/step - loss: 0.3074 - accuracy: 0.8749 - val_loss: 0.9951 - val_accuracy: 0.6812\n",
      "Epoch 15/200000\n",
      "803/803 [==============================] - 3s 4ms/step - loss: 0.3012 - accuracy: 0.8774 - val_loss: 0.9900 - val_accuracy: 0.6849\n",
      "Epoch 16/200000\n",
      "803/803 [==============================] - 3s 3ms/step - loss: 0.2970 - accuracy: 0.8788 - val_loss: 0.9918 - val_accuracy: 0.6844\n",
      "Epoch 17/200000\n",
      "803/803 [==============================] - 3s 3ms/step - loss: 0.2928 - accuracy: 0.8809 - val_loss: 1.0818 - val_accuracy: 0.6640\n",
      "Epoch 18/200000\n",
      "803/803 [==============================] - 3s 3ms/step - loss: 0.2899 - accuracy: 0.8821 - val_loss: 1.0757 - val_accuracy: 0.6683\n",
      "Epoch 19/200000\n",
      "803/803 [==============================] - 3s 3ms/step - loss: 0.2855 - accuracy: 0.8838 - val_loss: 1.1151 - val_accuracy: 0.6693\n",
      "Epoch 20/200000\n",
      "803/803 [==============================] - 3s 3ms/step - loss: 0.2830 - accuracy: 0.8852 - val_loss: 1.0335 - val_accuracy: 0.6914\n",
      "Epoch 21/200000\n",
      "803/803 [==============================] - 3s 4ms/step - loss: 0.2801 - accuracy: 0.8859 - val_loss: 1.1642 - val_accuracy: 0.6629\n",
      "Epoch 22/200000\n",
      "803/803 [==============================] - 3s 3ms/step - loss: 0.2772 - accuracy: 0.8873 - val_loss: 1.0547 - val_accuracy: 0.6721\n",
      "Epoch 23/200000\n",
      "803/803 [==============================] - 3s 4ms/step - loss: 0.2741 - accuracy: 0.8887 - val_loss: 1.1641 - val_accuracy: 0.6499\n",
      "Epoch 24/200000\n",
      "803/803 [==============================] - 3s 3ms/step - loss: 0.2717 - accuracy: 0.8897 - val_loss: 1.1144 - val_accuracy: 0.6790\n",
      "Epoch 25/200000\n",
      "803/803 [==============================] - 3s 3ms/step - loss: 0.2691 - accuracy: 0.8905 - val_loss: 1.0958 - val_accuracy: 0.6733\n",
      "Epoch 26/200000\n",
      "803/803 [==============================] - 3s 3ms/step - loss: 0.2684 - accuracy: 0.8917 - val_loss: 1.0814 - val_accuracy: 0.6738\n",
      "Epoch 27/200000\n",
      "803/803 [==============================] - 3s 3ms/step - loss: 0.2640 - accuracy: 0.8930 - val_loss: 1.0787 - val_accuracy: 0.6800\n",
      "Epoch 28/200000\n",
      "803/803 [==============================] - 3s 3ms/step - loss: 0.2620 - accuracy: 0.8933 - val_loss: 1.4035 - val_accuracy: 0.6241\n",
      "Epoch 29/200000\n",
      "803/803 [==============================] - 3s 3ms/step - loss: 0.2610 - accuracy: 0.8938 - val_loss: 1.1330 - val_accuracy: 0.6610\n",
      "Epoch 30/200000\n",
      "803/803 [==============================] - 3s 3ms/step - loss: 0.2583 - accuracy: 0.8956 - val_loss: 1.1092 - val_accuracy: 0.6701\n",
      "Epoch 31/200000\n",
      "803/803 [==============================] - 3s 3ms/step - loss: 0.2560 - accuracy: 0.8959 - val_loss: 1.2064 - val_accuracy: 0.6587\n",
      "Epoch 32/200000\n",
      "803/803 [==============================] - 3s 4ms/step - loss: 0.2554 - accuracy: 0.8965 - val_loss: 1.1035 - val_accuracy: 0.6831\n",
      "Epoch 33/200000\n",
      "803/803 [==============================] - 3s 4ms/step - loss: 0.2533 - accuracy: 0.8973 - val_loss: 1.1131 - val_accuracy: 0.6812\n",
      "Epoch 34/200000\n",
      "803/803 [==============================] - 3s 4ms/step - loss: 0.2506 - accuracy: 0.8988 - val_loss: 1.2001 - val_accuracy: 0.6635\n",
      "Epoch 35/200000\n",
      "803/803 [==============================] - 3s 3ms/step - loss: 0.2497 - accuracy: 0.8992 - val_loss: 1.1700 - val_accuracy: 0.6608\n",
      "Epoch 36/200000\n",
      "803/803 [==============================] - 3s 3ms/step - loss: 0.2476 - accuracy: 0.8996 - val_loss: 1.1420 - val_accuracy: 0.6739\n",
      "Epoch 37/200000\n",
      "803/803 [==============================] - 3s 3ms/step - loss: 0.2451 - accuracy: 0.9012 - val_loss: 1.1950 - val_accuracy: 0.6664\n",
      "Epoch 38/200000\n",
      "803/803 [==============================] - 3s 4ms/step - loss: 0.2455 - accuracy: 0.9009 - val_loss: 1.1444 - val_accuracy: 0.6653\n",
      "Epoch 39/200000\n",
      "803/803 [==============================] - 3s 3ms/step - loss: 0.2439 - accuracy: 0.9015 - val_loss: 1.3064 - val_accuracy: 0.6519\n",
      "Epoch 40/200000\n",
      "803/803 [==============================] - 3s 3ms/step - loss: 0.2425 - accuracy: 0.9019 - val_loss: 1.1515 - val_accuracy: 0.6769\n",
      "Epoch 41/200000\n",
      "803/803 [==============================] - 3s 3ms/step - loss: 0.2399 - accuracy: 0.9030 - val_loss: 1.1612 - val_accuracy: 0.6685\n",
      "Epoch 42/200000\n",
      "803/803 [==============================] - 3s 3ms/step - loss: 0.2399 - accuracy: 0.9031 - val_loss: 1.2582 - val_accuracy: 0.6597\n",
      "Epoch 43/200000\n",
      "803/803 [==============================] - 3s 3ms/step - loss: 0.2373 - accuracy: 0.9045 - val_loss: 1.1734 - val_accuracy: 0.6627\n",
      "Epoch 44/200000\n",
      "803/803 [==============================] - 3s 4ms/step - loss: 0.2374 - accuracy: 0.9046 - val_loss: 1.2022 - val_accuracy: 0.6680\n",
      "Epoch 45/200000\n",
      "803/803 [==============================] - 3s 3ms/step - loss: 0.2342 - accuracy: 0.9053 - val_loss: 1.1528 - val_accuracy: 0.6741\n",
      "Epoch 46/200000\n",
      "803/803 [==============================] - 3s 3ms/step - loss: 0.2337 - accuracy: 0.9055 - val_loss: 1.2707 - val_accuracy: 0.6609\n",
      "Epoch 47/200000\n",
      "803/803 [==============================] - 3s 3ms/step - loss: 0.2343 - accuracy: 0.9056 - val_loss: 1.1347 - val_accuracy: 0.6763\n",
      "Epoch 48/200000\n",
      "803/803 [==============================] - 3s 3ms/step - loss: 0.2327 - accuracy: 0.9062 - val_loss: 1.2342 - val_accuracy: 0.6600\n",
      "Epoch 49/200000\n",
      "803/803 [==============================] - 3s 3ms/step - loss: 0.2307 - accuracy: 0.9073 - val_loss: 1.2980 - val_accuracy: 0.6455\n",
      "Epoch 50/200000\n",
      "803/803 [==============================] - 3s 3ms/step - loss: 0.2294 - accuracy: 0.9079 - val_loss: 1.2019 - val_accuracy: 0.6741\n",
      "Epoch 51/200000\n",
      "803/803 [==============================] - 3s 3ms/step - loss: 0.2287 - accuracy: 0.9080 - val_loss: 1.2927 - val_accuracy: 0.6595\n",
      "Epoch 52/200000\n",
      "803/803 [==============================] - 3s 3ms/step - loss: 0.2278 - accuracy: 0.9083 - val_loss: 1.1989 - val_accuracy: 0.6688\n",
      "Epoch 53/200000\n",
      "803/803 [==============================] - 3s 3ms/step - loss: 0.2263 - accuracy: 0.9091 - val_loss: 1.1976 - val_accuracy: 0.6752\n",
      "Epoch 54/200000\n",
      "803/803 [==============================] - 3s 3ms/step - loss: 0.2258 - accuracy: 0.9088 - val_loss: 1.1417 - val_accuracy: 0.6750\n",
      "Epoch 55/200000\n",
      "803/803 [==============================] - 3s 3ms/step - loss: 0.2246 - accuracy: 0.9098 - val_loss: 1.2794 - val_accuracy: 0.6599\n",
      "Epoch 56/200000\n",
      "803/803 [==============================] - 3s 4ms/step - loss: 0.2244 - accuracy: 0.9099 - val_loss: 1.2177 - val_accuracy: 0.6842\n",
      "Epoch 57/200000\n",
      "803/803 [==============================] - 3s 3ms/step - loss: 0.2228 - accuracy: 0.9108 - val_loss: 1.2239 - val_accuracy: 0.6706\n",
      "Epoch 58/200000\n",
      "803/803 [==============================] - 3s 3ms/step - loss: 0.2218 - accuracy: 0.9104 - val_loss: 1.1775 - val_accuracy: 0.6816\n",
      "Epoch 59/200000\n",
      "803/803 [==============================] - 3s 3ms/step - loss: 0.2206 - accuracy: 0.9111 - val_loss: 1.2152 - val_accuracy: 0.6694\n",
      "Epoch 60/200000\n",
      "803/803 [==============================] - 3s 3ms/step - loss: 0.2190 - accuracy: 0.9118 - val_loss: 1.1586 - val_accuracy: 0.6811\n",
      "Epoch 61/200000\n",
      "803/803 [==============================] - 3s 3ms/step - loss: 0.2208 - accuracy: 0.9113 - val_loss: 1.2248 - val_accuracy: 0.6748\n",
      "Epoch 62/200000\n",
      "803/803 [==============================] - 3s 4ms/step - loss: 0.2191 - accuracy: 0.9121 - val_loss: 1.2383 - val_accuracy: 0.6642\n",
      "Epoch 63/200000\n",
      "803/803 [==============================] - 3s 4ms/step - loss: 0.2177 - accuracy: 0.9124 - val_loss: 1.1978 - val_accuracy: 0.6822\n",
      "Epoch 64/200000\n",
      "803/803 [==============================] - 3s 3ms/step - loss: 0.2177 - accuracy: 0.9128 - val_loss: 1.2262 - val_accuracy: 0.6765\n",
      "Epoch 65/200000\n",
      "803/803 [==============================] - 3s 3ms/step - loss: 0.2158 - accuracy: 0.9134 - val_loss: 1.2060 - val_accuracy: 0.6746\n",
      "Epoch 66/200000\n",
      "803/803 [==============================] - 3s 3ms/step - loss: 0.2151 - accuracy: 0.9137 - val_loss: 1.2191 - val_accuracy: 0.6717\n",
      "Epoch 67/200000\n",
      "803/803 [==============================] - 3s 4ms/step - loss: 0.2149 - accuracy: 0.9136 - val_loss: 1.1876 - val_accuracy: 0.6795\n",
      "Epoch 68/200000\n",
      "803/803 [==============================] - 3s 3ms/step - loss: 0.2144 - accuracy: 0.9136 - val_loss: 1.2992 - val_accuracy: 0.6712\n",
      "Epoch 69/200000\n",
      "803/803 [==============================] - 3s 3ms/step - loss: 0.2132 - accuracy: 0.9143 - val_loss: 1.2451 - val_accuracy: 0.6714\n",
      "Epoch 70/200000\n",
      "803/803 [==============================] - 3s 3ms/step - loss: 0.2125 - accuracy: 0.9145 - val_loss: 1.3006 - val_accuracy: 0.6603\n",
      "Epoch 71/200000\n",
      "803/803 [==============================] - 3s 3ms/step - loss: 0.2123 - accuracy: 0.9150 - val_loss: 1.2143 - val_accuracy: 0.6800\n",
      "Epoch 72/200000\n",
      "803/803 [==============================] - 3s 3ms/step - loss: 0.2108 - accuracy: 0.9153 - val_loss: 1.1761 - val_accuracy: 0.6845\n",
      "Epoch 73/200000\n",
      "803/803 [==============================] - 3s 4ms/step - loss: 0.2103 - accuracy: 0.9155 - val_loss: 1.2759 - val_accuracy: 0.6732\n",
      "Epoch 74/200000\n",
      "803/803 [==============================] - 3s 3ms/step - loss: 0.2107 - accuracy: 0.9151 - val_loss: 1.2590 - val_accuracy: 0.6716\n",
      "Epoch 75/200000\n",
      "803/803 [==============================] - 3s 4ms/step - loss: 0.2098 - accuracy: 0.9159 - val_loss: 1.2366 - val_accuracy: 0.6742\n",
      "Epoch 76/200000\n",
      "803/803 [==============================] - 3s 3ms/step - loss: 0.2086 - accuracy: 0.9165 - val_loss: 1.3110 - val_accuracy: 0.6781\n",
      "Epoch 77/200000\n",
      "803/803 [==============================] - 3s 3ms/step - loss: 0.2097 - accuracy: 0.9157 - val_loss: 1.2203 - val_accuracy: 0.6735\n",
      "Epoch 78/200000\n",
      "803/803 [==============================] - 3s 4ms/step - loss: 0.2069 - accuracy: 0.9173 - val_loss: 1.2509 - val_accuracy: 0.6733\n",
      "Epoch 79/200000\n",
      "803/803 [==============================] - 3s 3ms/step - loss: 0.2076 - accuracy: 0.9166 - val_loss: 1.2708 - val_accuracy: 0.6798\n",
      "Epoch 80/200000\n",
      "803/803 [==============================] - 3s 3ms/step - loss: 0.2069 - accuracy: 0.9166 - val_loss: 1.3791 - val_accuracy: 0.6603\n",
      "Epoch 81/200000\n",
      "803/803 [==============================] - 3s 4ms/step - loss: 0.2061 - accuracy: 0.9174 - val_loss: 1.1611 - val_accuracy: 0.6928\n",
      "Epoch 82/200000\n",
      "803/803 [==============================] - 3s 4ms/step - loss: 0.2052 - accuracy: 0.9177 - val_loss: 1.2536 - val_accuracy: 0.6824\n",
      "Epoch 83/200000\n",
      "803/803 [==============================] - 3s 3ms/step - loss: 0.2053 - accuracy: 0.9179 - val_loss: 1.3164 - val_accuracy: 0.6668\n",
      "Epoch 84/200000\n",
      "803/803 [==============================] - 3s 4ms/step - loss: 0.2034 - accuracy: 0.9182 - val_loss: 1.3683 - val_accuracy: 0.6589\n",
      "Epoch 85/200000\n",
      "803/803 [==============================] - 3s 3ms/step - loss: 0.2039 - accuracy: 0.9179 - val_loss: 1.1814 - val_accuracy: 0.6918\n",
      "Epoch 86/200000\n",
      "803/803 [==============================] - 3s 3ms/step - loss: 0.2033 - accuracy: 0.9184 - val_loss: 1.2337 - val_accuracy: 0.6847\n",
      "Epoch 87/200000\n",
      "803/803 [==============================] - 3s 3ms/step - loss: 0.2031 - accuracy: 0.9187 - val_loss: 1.2936 - val_accuracy: 0.6650\n",
      "Epoch 88/200000\n",
      "803/803 [==============================] - 3s 3ms/step - loss: 0.2026 - accuracy: 0.9184 - val_loss: 1.3554 - val_accuracy: 0.6559\n",
      "Epoch 89/200000\n",
      "803/803 [==============================] - 3s 3ms/step - loss: 0.2022 - accuracy: 0.9186 - val_loss: 1.3446 - val_accuracy: 0.6720\n",
      "Epoch 90/200000\n",
      "803/803 [==============================] - 3s 4ms/step - loss: 0.2022 - accuracy: 0.9189 - val_loss: 1.2798 - val_accuracy: 0.6816\n",
      "Epoch 91/200000\n",
      "803/803 [==============================] - 3s 3ms/step - loss: 0.2001 - accuracy: 0.9198 - val_loss: 1.2621 - val_accuracy: 0.6829\n",
      "Epoch 92/200000\n",
      "803/803 [==============================] - 3s 3ms/step - loss: 0.2002 - accuracy: 0.9199 - val_loss: 1.3752 - val_accuracy: 0.6607\n",
      "Epoch 93/200000\n",
      "803/803 [==============================] - 3s 3ms/step - loss: 0.2008 - accuracy: 0.9191 - val_loss: 1.3874 - val_accuracy: 0.6611\n",
      "Epoch 94/200000\n",
      "803/803 [==============================] - 3s 3ms/step - loss: 0.2007 - accuracy: 0.9198 - val_loss: 1.3877 - val_accuracy: 0.6611\n",
      "Epoch 95/200000\n",
      "803/803 [==============================] - 3s 3ms/step - loss: 0.1998 - accuracy: 0.9199 - val_loss: 1.2569 - val_accuracy: 0.6793\n",
      "Epoch 96/200000\n",
      "803/803 [==============================] - 3s 3ms/step - loss: 0.1984 - accuracy: 0.9202 - val_loss: 1.3215 - val_accuracy: 0.6764\n",
      "Epoch 97/200000\n",
      "803/803 [==============================] - 3s 3ms/step - loss: 0.1988 - accuracy: 0.9204 - val_loss: 1.3962 - val_accuracy: 0.6509\n",
      "Epoch 98/200000\n",
      "803/803 [==============================] - 3s 3ms/step - loss: 0.1973 - accuracy: 0.9207 - val_loss: 1.2819 - val_accuracy: 0.6716\n",
      "Epoch 99/200000\n",
      "803/803 [==============================] - 3s 3ms/step - loss: 0.1975 - accuracy: 0.9208 - val_loss: 1.3241 - val_accuracy: 0.6732\n",
      "Epoch 100/200000\n",
      "803/803 [==============================] - 3s 3ms/step - loss: 0.1959 - accuracy: 0.9219 - val_loss: 1.3549 - val_accuracy: 0.6715\n",
      "Epoch 101/200000\n",
      "803/803 [==============================] - 3s 3ms/step - loss: 0.1979 - accuracy: 0.9208 - val_loss: 1.2895 - val_accuracy: 0.6801\n",
      "Epoch 102/200000\n",
      "803/803 [==============================] - 3s 4ms/step - loss: 0.1975 - accuracy: 0.9208 - val_loss: 1.2847 - val_accuracy: 0.6881\n",
      "Epoch 103/200000\n",
      "803/803 [==============================] - 3s 3ms/step - loss: 0.1955 - accuracy: 0.9214 - val_loss: 1.3250 - val_accuracy: 0.6823\n",
      "Epoch 104/200000\n",
      "803/803 [==============================] - 3s 3ms/step - loss: 0.1958 - accuracy: 0.9214 - val_loss: 1.2229 - val_accuracy: 0.7009\n"
     ]
    }
   ],
   "source": [
    "# 학습\n",
    "# validation_split : 주어진 데이터에서 사용할 검증데이터 비율\n",
    "history = model.fit(X, y, epochs=200000, batch_size=500, validation_split=0.2, callbacks=[call1, call2, call3])"
   ]
  },
  {
   "cell_type": "code",
   "execution_count": 21,
   "id": "cb321853-4f2d-424e-8cc7-49865d760f1d",
   "metadata": {
    "execution": {
     "iopub.execute_input": "2022-08-08T01:49:35.563362Z",
     "iopub.status.busy": "2022-08-08T01:49:35.563362Z",
     "iopub.status.idle": "2022-08-08T01:49:35.577325Z",
     "shell.execute_reply": "2022-08-08T01:49:35.576328Z",
     "shell.execute_reply.started": "2022-08-08T01:49:35.563362Z"
    },
    "tags": []
   },
   "outputs": [],
   "source": [
    "# 리스트를 추출한다.\n",
    "loss_list = history.history['loss']\n",
    "accuracy_list = history.history['accuracy']\n",
    "val_loss_list = history.history['val_loss']\n",
    "val_accuracy_list = history.history['val_accuracy']"
   ]
  },
  {
   "cell_type": "code",
   "execution_count": 22,
   "id": "72773fa2-368c-4271-9347-01d49042d65f",
   "metadata": {
    "execution": {
     "iopub.execute_input": "2022-08-08T01:49:35.578322Z",
     "iopub.status.busy": "2022-08-08T01:49:35.577325Z",
     "iopub.status.idle": "2022-08-08T01:49:35.790761Z",
     "shell.execute_reply": "2022-08-08T01:49:35.790761Z",
     "shell.execute_reply.started": "2022-08-08T01:49:35.578322Z"
    },
    "tags": []
   },
   "outputs": [
    {
     "data": {
      "image/png": "[encoded data removed]",
      "text/plain": [
       "<Figure size 1440x720 with 1 Axes>"
      ]
     },
     "metadata": {
      "image/png": {
       "height": 575,
       "width": 1156
      },
      "needs_background": "light"
     },
     "output_type": "display_data"
    }
   ],
   "source": [
    "# 정확도 그래프\n",
    "plt.figure(figsize=(20,10))\n",
    "plt.plot(accuracy_list[:-50], label='accuracy')\n",
    "plt.plot(val_accuracy_list[:-50], label = 'val_accuracy')\n",
    "plt.legend()\n",
    "plt.show()"
   ]
  },
  {
   "cell_type": "code",
   "execution_count": 23,
   "id": "89e9e0b7-7db1-41dc-809f-9e62ab8c84b1",
   "metadata": {
    "execution": {
     "iopub.execute_input": "2022-08-08T01:49:35.791759Z",
     "iopub.status.busy": "2022-08-08T01:49:35.791759Z",
     "iopub.status.idle": "2022-08-08T01:49:35.991225Z",
     "shell.execute_reply": "2022-08-08T01:49:35.991225Z",
     "shell.execute_reply.started": "2022-08-08T01:49:35.791759Z"
    },
    "tags": []
   },
   "outputs": [
    {
     "data": {
      "image/png": "[encoded data removed]",
      "text/plain": [
       "<Figure size 1440x720 with 1 Axes>"
      ]
     },
     "metadata": {
      "image/png": {
       "height": 575,
       "width": 1150
      },
      "needs_background": "light"
     },
     "output_type": "display_data"
    }
   ],
   "source": [
    "# 정확도 그래프\n",
    "plt.figure(figsize=(20,10))\n",
    "plt.plot(loss_list[:-50], label='loss')\n",
    "plt.plot(val_loss_list[:-50], label = 'val_loss')\n",
    "plt.legend()\n",
    "plt.show()"
   ]
  },
  {
   "cell_type": "code",
   "execution_count": 24,
   "id": "e4480632-fca6-4a8a-b3c6-3f4ba6ff2f09",
   "metadata": {
    "execution": {
     "iopub.execute_input": "2022-08-08T01:52:29.679743Z",
     "iopub.status.busy": "2022-08-08T01:52:29.679743Z",
     "iopub.status.idle": "2022-08-08T01:52:29.791765Z",
     "shell.execute_reply": "2022-08-08T01:52:29.790767Z",
     "shell.execute_reply.started": "2022-08-08T01:52:29.679743Z"
    },
    "tags": []
   },
   "outputs": [
    {
     "data": {
      "text/plain": [
       "<keras.engine.sequential.Sequential at 0x1881a8265b0>"
      ]
     },
     "execution_count": 24,
     "metadata": {},
     "output_type": "execute_result"
    }
   ],
   "source": [
    "# 모델을 가져온다.\n",
    "best_model = load_model(path + '/best_model.h5')\n",
    "best_model"
   ]
  },
  {
   "cell_type": "code",
   "execution_count": 25,
   "id": "d4b79897-464e-4d03-813e-d9dffcf71b99",
   "metadata": {
    "execution": {
     "iopub.execute_input": "2022-08-08T01:52:29.928753Z",
     "iopub.status.busy": "2022-08-08T01:52:29.928753Z",
     "iopub.status.idle": "2022-08-08T01:53:01.076758Z",
     "shell.execute_reply": "2022-08-08T01:53:01.076758Z",
     "shell.execute_reply.started": "2022-08-08T01:52:29.928753Z"
    },
    "tags": []
   },
   "outputs": [
    {
     "name": "stdout",
     "output_type": "stream",
     "text": [
      "15666/15666 [==============================] - 31s 2ms/step - loss: 0.3981 - accuracy: 0.8786\n",
      "손실률 : 0.39809927344322205\n",
      "정확도 : 0.8786478638648987\n"
     ]
    }
   ],
   "source": [
    "a1 = best_model.evaluate(X, y)\n",
    "print(f'손실률 : {a1[0]}')\n",
    "print(f'정확도 : {a1[1]}')"
   ]
  },
  {
   "cell_type": "code",
   "execution_count": 26,
   "id": "75433778-b598-4e50-b25f-c4d43e2d925c",
   "metadata": {
    "execution": {
     "iopub.execute_input": "2022-08-08T01:53:27.945452Z",
     "iopub.status.busy": "2022-08-08T01:53:27.945452Z",
     "iopub.status.idle": "2022-08-08T01:53:28.113003Z",
     "shell.execute_reply": "2022-08-08T01:53:28.113003Z",
     "shell.execute_reply.started": "2022-08-08T01:53:27.945452Z"
    },
    "tags": []
   },
   "outputs": [
    {
     "data": {
      "text/html": [
       "<div>\n",
       "<style scoped>\n",
       "    .dataframe tbody tr th:only-of-type {\n",
       "        vertical-align: middle;\n",
       "    }\n",
       "\n",
       "    .dataframe tbody tr th {\n",
       "        vertical-align: top;\n",
       "    }\n",
       "\n",
       "    .dataframe thead th {\n",
       "        text-align: right;\n",
       "    }\n",
       "</style>\n",
       "<table border=\"1\" class=\"dataframe\">\n",
       "  <thead>\n",
       "    <tr style=\"text-align: right;\">\n",
       "      <th></th>\n",
       "      <th>0</th>\n",
       "      <th>1</th>\n",
       "      <th>2</th>\n",
       "      <th>3</th>\n",
       "      <th>4</th>\n",
       "      <th>5</th>\n",
       "      <th>6</th>\n",
       "      <th>7</th>\n",
       "      <th>8</th>\n",
       "      <th>9</th>\n",
       "      <th>...</th>\n",
       "      <th>44</th>\n",
       "      <th>45</th>\n",
       "      <th>46</th>\n",
       "      <th>47</th>\n",
       "      <th>48</th>\n",
       "      <th>49</th>\n",
       "      <th>50</th>\n",
       "      <th>51</th>\n",
       "      <th>52</th>\n",
       "      <th>53</th>\n",
       "    </tr>\n",
       "  </thead>\n",
       "  <tbody>\n",
       "    <tr>\n",
       "      <th>0</th>\n",
       "      <td>3182</td>\n",
       "      <td>261</td>\n",
       "      <td>32</td>\n",
       "      <td>800</td>\n",
       "      <td>261</td>\n",
       "      <td>3246</td>\n",
       "      <td>125</td>\n",
       "      <td>236</td>\n",
       "      <td>239</td>\n",
       "      <td>2532</td>\n",
       "      <td>...</td>\n",
       "      <td>0</td>\n",
       "      <td>0</td>\n",
       "      <td>0</td>\n",
       "      <td>0</td>\n",
       "      <td>0</td>\n",
       "      <td>0</td>\n",
       "      <td>0</td>\n",
       "      <td>0</td>\n",
       "      <td>0</td>\n",
       "      <td>0</td>\n",
       "    </tr>\n",
       "    <tr>\n",
       "      <th>1</th>\n",
       "      <td>3201</td>\n",
       "      <td>258</td>\n",
       "      <td>29</td>\n",
       "      <td>830</td>\n",
       "      <td>280</td>\n",
       "      <td>3267</td>\n",
       "      <td>138</td>\n",
       "      <td>241</td>\n",
       "      <td>233</td>\n",
       "      <td>2550</td>\n",
       "      <td>...</td>\n",
       "      <td>0</td>\n",
       "      <td>0</td>\n",
       "      <td>0</td>\n",
       "      <td>0</td>\n",
       "      <td>0</td>\n",
       "      <td>0</td>\n",
       "      <td>0</td>\n",
       "      <td>0</td>\n",
       "      <td>0</td>\n",
       "      <td>0</td>\n",
       "    </tr>\n",
       "    <tr>\n",
       "      <th>2</th>\n",
       "      <td>3216</td>\n",
       "      <td>256</td>\n",
       "      <td>26</td>\n",
       "      <td>859</td>\n",
       "      <td>295</td>\n",
       "      <td>3288</td>\n",
       "      <td>150</td>\n",
       "      <td>245</td>\n",
       "      <td>227</td>\n",
       "      <td>2568</td>\n",
       "      <td>...</td>\n",
       "      <td>0</td>\n",
       "      <td>0</td>\n",
       "      <td>0</td>\n",
       "      <td>0</td>\n",
       "      <td>0</td>\n",
       "      <td>0</td>\n",
       "      <td>0</td>\n",
       "      <td>0</td>\n",
       "      <td>0</td>\n",
       "      <td>0</td>\n",
       "    </tr>\n",
       "    <tr>\n",
       "      <th>3</th>\n",
       "      <td>3230</td>\n",
       "      <td>256</td>\n",
       "      <td>25</td>\n",
       "      <td>888</td>\n",
       "      <td>309</td>\n",
       "      <td>3310</td>\n",
       "      <td>152</td>\n",
       "      <td>245</td>\n",
       "      <td>226</td>\n",
       "      <td>2586</td>\n",
       "      <td>...</td>\n",
       "      <td>0</td>\n",
       "      <td>0</td>\n",
       "      <td>0</td>\n",
       "      <td>0</td>\n",
       "      <td>0</td>\n",
       "      <td>0</td>\n",
       "      <td>0</td>\n",
       "      <td>0</td>\n",
       "      <td>0</td>\n",
       "      <td>0</td>\n",
       "    </tr>\n",
       "    <tr>\n",
       "      <th>4</th>\n",
       "      <td>3243</td>\n",
       "      <td>255</td>\n",
       "      <td>25</td>\n",
       "      <td>918</td>\n",
       "      <td>322</td>\n",
       "      <td>3331</td>\n",
       "      <td>156</td>\n",
       "      <td>246</td>\n",
       "      <td>223</td>\n",
       "      <td>2605</td>\n",
       "      <td>...</td>\n",
       "      <td>0</td>\n",
       "      <td>0</td>\n",
       "      <td>0</td>\n",
       "      <td>0</td>\n",
       "      <td>0</td>\n",
       "      <td>0</td>\n",
       "      <td>0</td>\n",
       "      <td>0</td>\n",
       "      <td>0</td>\n",
       "      <td>0</td>\n",
       "    </tr>\n",
       "  </tbody>\n",
       "</table>\n",
       "<p>5 rows × 54 columns</p>\n",
       "</div>"
      ],
      "text/plain": [
       "     0    1   2    3    4     5    6    7    8     9   ...  44  45  46  47  \\\n",
       "0  3182  261  32  800  261  3246  125  236  239  2532  ...   0   0   0   0   \n",
       "1  3201  258  29  830  280  3267  138  241  233  2550  ...   0   0   0   0   \n",
       "2  3216  256  26  859  295  3288  150  245  227  2568  ...   0   0   0   0   \n",
       "3  3230  256  25  888  309  3310  152  245  226  2586  ...   0   0   0   0   \n",
       "4  3243  255  25  918  322  3331  156  246  223  2605  ...   0   0   0   0   \n",
       "\n",
       "   48  49  50  51  52  53  \n",
       "0   0   0   0   0   0   0  \n",
       "1   0   0   0   0   0   0  \n",
       "2   0   0   0   0   0   0  \n",
       "3   0   0   0   0   0   0  \n",
       "4   0   0   0   0   0   0  \n",
       "\n",
       "[5 rows x 54 columns]"
      ]
     },
     "execution_count": 26,
     "metadata": {},
     "output_type": "execute_result"
    }
   ],
   "source": [
    "# 예측할 데이터를 가져온다.\n",
    "df2 = pd.read_csv('./data/covtype_new.csv', header=None)\n",
    "df2.head()"
   ]
  },
  {
   "cell_type": "code",
   "execution_count": 29,
   "id": "a8415308-91b6-48bc-ab00-ddac94811285",
   "metadata": {
    "collapsed": true,
    "execution": {
     "iopub.execute_input": "2022-08-08T01:53:45.219718Z",
     "iopub.status.busy": "2022-08-08T01:53:45.219718Z",
     "iopub.status.idle": "2022-08-08T01:53:45.245647Z",
     "shell.execute_reply": "2022-08-08T01:53:45.245647Z",
     "shell.execute_reply.started": "2022-08-08T01:53:45.219718Z"
    },
    "jupyter": {
     "outputs_hidden": true
    },
    "tags": []
   },
   "outputs": [
    {
     "name": "stdout",
     "output_type": "stream",
     "text": [
      "<class 'pandas.core.frame.DataFrame'>\n",
      "RangeIndex: 79727 entries, 0 to 79726\n",
      "Data columns (total 54 columns):\n",
      " #   Column  Non-Null Count  Dtype\n",
      "---  ------  --------------  -----\n",
      " 0   0       79727 non-null  int64\n",
      " 1   1       79727 non-null  int64\n",
      " 2   2       79727 non-null  int64\n",
      " 3   3       79727 non-null  int64\n",
      " 4   4       79727 non-null  int64\n",
      " 5   5       79727 non-null  int64\n",
      " 6   6       79727 non-null  int64\n",
      " 7   7       79727 non-null  int64\n",
      " 8   8       79727 non-null  int64\n",
      " 9   9       79727 non-null  int64\n",
      " 10  10      79727 non-null  int64\n",
      " 11  11      79727 non-null  int64\n",
      " 12  12      79727 non-null  int64\n",
      " 13  13      79727 non-null  int64\n",
      " 14  14      79727 non-null  int64\n",
      " 15  15      79727 non-null  int64\n",
      " 16  16      79727 non-null  int64\n",
      " 17  17      79727 non-null  int64\n",
      " 18  18      79727 non-null  int64\n",
      " 19  19      79727 non-null  int64\n",
      " 20  20      79727 non-null  int64\n",
      " 21  21      79727 non-null  int64\n",
      " 22  22      79727 non-null  int64\n",
      " 23  23      79727 non-null  int64\n",
      " 24  24      79727 non-null  int64\n",
      " 25  25      79727 non-null  int64\n",
      " 26  26      79727 non-null  int64\n",
      " 27  27      79727 non-null  int64\n",
      " 28  28      79727 non-null  int64\n",
      " 29  29      79727 non-null  int64\n",
      " 30  30      79727 non-null  int64\n",
      " 31  31      79727 non-null  int64\n",
      " 32  32      79727 non-null  int64\n",
      " 33  33      79727 non-null  int64\n",
      " 34  34      79727 non-null  int64\n",
      " 35  35      79727 non-null  int64\n",
      " 36  36      79727 non-null  int64\n",
      " 37  37      79727 non-null  int64\n",
      " 38  38      79727 non-null  int64\n",
      " 39  39      79727 non-null  int64\n",
      " 40  40      79727 non-null  int64\n",
      " 41  41      79727 non-null  int64\n",
      " 42  42      79727 non-null  int64\n",
      " 43  43      79727 non-null  int64\n",
      " 44  44      79727 non-null  int64\n",
      " 45  45      79727 non-null  int64\n",
      " 46  46      79727 non-null  int64\n",
      " 47  47      79727 non-null  int64\n",
      " 48  48      79727 non-null  int64\n",
      " 49  49      79727 non-null  int64\n",
      " 50  50      79727 non-null  int64\n",
      " 51  51      79727 non-null  int64\n",
      " 52  52      79727 non-null  int64\n",
      " 53  53      79727 non-null  int64\n",
      "dtypes: int64(54)\n",
      "memory usage: 32.8 MB\n"
     ]
    }
   ],
   "source": [
    "df2.info()"
   ]
  },
  {
   "cell_type": "code",
   "execution_count": 28,
   "id": "4766952e-26b9-42d1-96a9-745b57408c87",
   "metadata": {
    "collapsed": true,
    "execution": {
     "iopub.execute_input": "2022-08-08T01:53:39.036755Z",
     "iopub.status.busy": "2022-08-08T01:53:39.036755Z",
     "iopub.status.idle": "2022-08-08T01:53:39.047726Z",
     "shell.execute_reply": "2022-08-08T01:53:39.047726Z",
     "shell.execute_reply.started": "2022-08-08T01:53:39.036755Z"
    },
    "jupyter": {
     "outputs_hidden": true
    },
    "tags": []
   },
   "outputs": [
    {
     "data": {
      "text/plain": [
       "0     0\n",
       "1     0\n",
       "2     0\n",
       "3     0\n",
       "4     0\n",
       "5     0\n",
       "6     0\n",
       "7     0\n",
       "8     0\n",
       "9     0\n",
       "10    0\n",
       "11    0\n",
       "12    0\n",
       "13    0\n",
       "14    0\n",
       "15    0\n",
       "16    0\n",
       "17    0\n",
       "18    0\n",
       "19    0\n",
       "20    0\n",
       "21    0\n",
       "22    0\n",
       "23    0\n",
       "24    0\n",
       "25    0\n",
       "26    0\n",
       "27    0\n",
       "28    0\n",
       "29    0\n",
       "30    0\n",
       "31    0\n",
       "32    0\n",
       "33    0\n",
       "34    0\n",
       "35    0\n",
       "36    0\n",
       "37    0\n",
       "38    0\n",
       "39    0\n",
       "40    0\n",
       "41    0\n",
       "42    0\n",
       "43    0\n",
       "44    0\n",
       "45    0\n",
       "46    0\n",
       "47    0\n",
       "48    0\n",
       "49    0\n",
       "50    0\n",
       "51    0\n",
       "52    0\n",
       "53    0\n",
       "dtype: int64"
      ]
     },
     "execution_count": 28,
     "metadata": {},
     "output_type": "execute_result"
    }
   ],
   "source": [
    "df2.isna().sum()"
   ]
  },
  {
   "cell_type": "code",
   "execution_count": 30,
   "id": "b840198a-e34c-44ac-9c9b-92ca48358b0b",
   "metadata": {
    "execution": {
     "iopub.execute_input": "2022-08-08T01:54:06.646945Z",
     "iopub.status.busy": "2022-08-08T01:54:06.646945Z",
     "iopub.status.idle": "2022-08-08T01:54:06.724737Z",
     "shell.execute_reply": "2022-08-08T01:54:06.723739Z",
     "shell.execute_reply.started": "2022-08-08T01:54:06.646945Z"
    },
    "tags": []
   },
   "outputs": [
    {
     "data": {
      "text/plain": [
       "array([[ 0.55716403,  0.92705456,  2.17699063, ..., -0.16261671,\n",
       "        -0.21647887, -0.15904648],\n",
       "       [ 0.62095178,  0.89930251,  1.75974016, ..., -0.16261671,\n",
       "        -0.21647887, -0.15904648],\n",
       "       [ 0.67131053,  0.88080115,  1.34248968, ..., -0.16261671,\n",
       "        -0.21647887, -0.15904648],\n",
       "       ...,\n",
       "       [-2.11520696, -0.01651494,  0.09073825, ..., -0.16261671,\n",
       "        -0.21647887, -0.15904648],\n",
       "       [-2.12192146,  0.08524256, -0.18742873, ..., -0.16261671,\n",
       "        -0.21647887, -0.15904648],\n",
       "       [-2.12527871,  0.03898915, -0.46559571, ..., -0.16261671,\n",
       "        -0.21647887, -0.15904648]])"
      ]
     },
     "metadata": {},
     "output_type": "display_data"
    }
   ],
   "source": [
    "# 표준화\n",
    "X = scaler1.fit_transform(df2)\n",
    "display(X)"
   ]
  },
  {
   "cell_type": "code",
   "execution_count": 38,
   "id": "9a8c4a77-6d31-4937-90ce-8bfb49c10b0e",
   "metadata": {
    "execution": {
     "iopub.execute_input": "2022-08-08T02:00:15.587751Z",
     "iopub.status.busy": "2022-08-08T02:00:15.587751Z",
     "iopub.status.idle": "2022-08-08T02:00:18.415339Z",
     "shell.execute_reply": "2022-08-08T02:00:18.415339Z",
     "shell.execute_reply.started": "2022-08-08T02:00:15.587751Z"
    },
    "tags": []
   },
   "outputs": [
    {
     "name": "stdout",
     "output_type": "stream",
     "text": [
      "2492/2492 [==============================] - 2s 882us/step\n"
     ]
    },
    {
     "data": {
      "text/plain": [
       "array([[0, 1, 0, ..., 0, 0, 0],\n",
       "       [0, 1, 0, ..., 0, 0, 0],\n",
       "       [0, 1, 0, ..., 0, 0, 0],\n",
       "       ...,\n",
       "       [0, 0, 1, ..., 0, 0, 0],\n",
       "       [0, 0, 1, ..., 0, 0, 0],\n",
       "       [0, 0, 1, ..., 0, 0, 0]])"
      ]
     },
     "execution_count": 38,
     "metadata": {},
     "output_type": "execute_result"
    }
   ],
   "source": [
    "# 예측한다.\n",
    "pred = best_model.predict(X)\n",
    "pred = (pred > 0.5).astype('int')\n",
    "# pred = pred.reshape(-1)\n",
    "pred"
   ]
  },
  {
   "cell_type": "code",
   "execution_count": 40,
   "id": "6f264b4d-ea0f-459b-a8ea-29dcc5098da5",
   "metadata": {
    "execution": {
     "iopub.execute_input": "2022-08-08T02:00:33.655612Z",
     "iopub.status.busy": "2022-08-08T02:00:33.655612Z",
     "iopub.status.idle": "2022-08-08T02:00:33.661595Z",
     "shell.execute_reply": "2022-08-08T02:00:33.661595Z",
     "shell.execute_reply.started": "2022-08-08T02:00:33.655612Z"
    },
    "tags": []
   },
   "outputs": [
    {
     "data": {
      "text/plain": [
       "array([1, 1, 1, ..., 2, 2, 2], dtype=int64)"
      ]
     },
     "execution_count": 40,
     "metadata": {},
     "output_type": "execute_result"
    }
   ],
   "source": [
    "np.argmax(pred, axis=1, out=None)"
   ]
  },
  {
   "cell_type": "code",
   "execution_count": null,
   "id": "215e7fc7-9e99-48e9-ac44-ceb7cdb59350",
   "metadata": {},
   "outputs": [],
   "source": [
    "y = to_categorical(y)\n",
    "y"
   ]
  },
  {
   "cell_type": "code",
   "execution_count": 35,
   "id": "e374b5c9-f26e-4a5f-9a0d-7de4ed5346ed",
   "metadata": {
    "execution": {
     "iopub.execute_input": "2022-08-08T01:55:27.270747Z",
     "iopub.status.busy": "2022-08-08T01:55:27.269749Z",
     "iopub.status.idle": "2022-08-08T01:55:27.465537Z",
     "shell.execute_reply": "2022-08-08T01:55:27.465537Z",
     "shell.execute_reply.started": "2022-08-08T01:55:27.270747Z"
    },
    "tags": []
   },
   "outputs": [
    {
     "ename": "ValueError",
     "evalue": "y should be a 1d array, got an array of shape (79727, 7) instead.",
     "output_type": "error",
     "traceback": [
      "\u001b[1;31m---------------------------------------------------------------------------\u001b[0m",
      "\u001b[1;31mValueError\u001b[0m                                Traceback (most recent call last)",
      "Input \u001b[1;32mIn [35]\u001b[0m, in \u001b[0;36m<cell line: 1>\u001b[1;34m()\u001b[0m\n\u001b[1;32m----> 1\u001b[0m target \u001b[38;5;241m=\u001b[39m \u001b[43mencoder1\u001b[49m\u001b[38;5;241;43m.\u001b[39;49m\u001b[43minverse_transform\u001b[49m\u001b[43m(\u001b[49m\u001b[43mpred\u001b[49m\u001b[43m)\u001b[49m\n\u001b[0;32m      2\u001b[0m target\n",
      "File \u001b[1;32m~\\anaconda3\\lib\\site-packages\\sklearn\\preprocessing\\_label.py:154\u001b[0m, in \u001b[0;36mLabelEncoder.inverse_transform\u001b[1;34m(self, y)\u001b[0m\n\u001b[0;32m    141\u001b[0m \u001b[38;5;124;03m\"\"\"Transform labels back to original encoding.\u001b[39;00m\n\u001b[0;32m    142\u001b[0m \n\u001b[0;32m    143\u001b[0m \u001b[38;5;124;03mParameters\u001b[39;00m\n\u001b[1;32m   (...)\u001b[0m\n\u001b[0;32m    151\u001b[0m \u001b[38;5;124;03m    Original encoding.\u001b[39;00m\n\u001b[0;32m    152\u001b[0m \u001b[38;5;124;03m\"\"\"\u001b[39;00m\n\u001b[0;32m    153\u001b[0m check_is_fitted(\u001b[38;5;28mself\u001b[39m)\n\u001b[1;32m--> 154\u001b[0m y \u001b[38;5;241m=\u001b[39m \u001b[43mcolumn_or_1d\u001b[49m\u001b[43m(\u001b[49m\u001b[43my\u001b[49m\u001b[43m,\u001b[49m\u001b[43m \u001b[49m\u001b[43mwarn\u001b[49m\u001b[38;5;241;43m=\u001b[39;49m\u001b[38;5;28;43;01mTrue\u001b[39;49;00m\u001b[43m)\u001b[49m\n\u001b[0;32m    155\u001b[0m \u001b[38;5;66;03m# inverse transform of empty array is empty array\u001b[39;00m\n\u001b[0;32m    156\u001b[0m \u001b[38;5;28;01mif\u001b[39;00m _num_samples(y) \u001b[38;5;241m==\u001b[39m \u001b[38;5;241m0\u001b[39m:\n",
      "File \u001b[1;32m~\\anaconda3\\lib\\site-packages\\sklearn\\utils\\validation.py:1038\u001b[0m, in \u001b[0;36mcolumn_or_1d\u001b[1;34m(y, warn)\u001b[0m\n\u001b[0;32m   1029\u001b[0m         warnings\u001b[38;5;241m.\u001b[39mwarn(\n\u001b[0;32m   1030\u001b[0m             \u001b[38;5;124m\"\u001b[39m\u001b[38;5;124mA column-vector y was passed when a 1d array was\u001b[39m\u001b[38;5;124m\"\u001b[39m\n\u001b[0;32m   1031\u001b[0m             \u001b[38;5;124m\"\u001b[39m\u001b[38;5;124m expected. Please change the shape of y to \u001b[39m\u001b[38;5;124m\"\u001b[39m\n\u001b[1;32m   (...)\u001b[0m\n\u001b[0;32m   1034\u001b[0m             stacklevel\u001b[38;5;241m=\u001b[39m\u001b[38;5;241m2\u001b[39m,\n\u001b[0;32m   1035\u001b[0m         )\n\u001b[0;32m   1036\u001b[0m     \u001b[38;5;28;01mreturn\u001b[39;00m np\u001b[38;5;241m.\u001b[39mravel(y)\n\u001b[1;32m-> 1038\u001b[0m \u001b[38;5;28;01mraise\u001b[39;00m \u001b[38;5;167;01mValueError\u001b[39;00m(\n\u001b[0;32m   1039\u001b[0m     \u001b[38;5;124m\"\u001b[39m\u001b[38;5;124my should be a 1d array, got an array of shape \u001b[39m\u001b[38;5;132;01m{}\u001b[39;00m\u001b[38;5;124m instead.\u001b[39m\u001b[38;5;124m\"\u001b[39m\u001b[38;5;241m.\u001b[39mformat(shape)\n\u001b[0;32m   1040\u001b[0m )\n",
      "\u001b[1;31mValueError\u001b[0m: y should be a 1d array, got an array of shape (79727, 7) instead."
     ]
    }
   ],
   "source": [
    "target = encoder1.inverse_transform(pred)\n",
    "target"
   ]
  },
  {
   "cell_type": "code",
   "execution_count": 33,
   "id": "facaaa2b-062a-4809-a9d4-f674e9416f49",
   "metadata": {
    "execution": {
     "iopub.execute_input": "2022-08-08T01:54:56.236442Z",
     "iopub.status.busy": "2022-08-08T01:54:56.235446Z",
     "iopub.status.idle": "2022-08-08T01:54:57.394535Z",
     "shell.execute_reply": "2022-08-08T01:54:57.394535Z",
     "shell.execute_reply.started": "2022-08-08T01:54:56.236442Z"
    },
    "tags": []
   },
   "outputs": [
    {
     "ename": "ValueError",
     "evalue": "Length of values (558089) does not match length of index (79727)",
     "output_type": "error",
     "traceback": [
      "\u001b[1;31m---------------------------------------------------------------------------\u001b[0m",
      "\u001b[1;31mValueError\u001b[0m                                Traceback (most recent call last)",
      "Input \u001b[1;32mIn [33]\u001b[0m, in \u001b[0;36m<cell line: 1>\u001b[1;34m()\u001b[0m\n\u001b[1;32m----> 1\u001b[0m df2[\u001b[38;5;241m54\u001b[39m] \u001b[38;5;241m=\u001b[39m target\n\u001b[0;32m      2\u001b[0m df2\u001b[38;5;241m.\u001b[39mhead()\n",
      "File \u001b[1;32m~\\anaconda3\\lib\\site-packages\\pandas\\core\\frame.py:3655\u001b[0m, in \u001b[0;36mDataFrame.__setitem__\u001b[1;34m(self, key, value)\u001b[0m\n\u001b[0;32m   3652\u001b[0m     \u001b[38;5;28mself\u001b[39m\u001b[38;5;241m.\u001b[39m_setitem_array([key], value)\n\u001b[0;32m   3653\u001b[0m \u001b[38;5;28;01melse\u001b[39;00m:\n\u001b[0;32m   3654\u001b[0m     \u001b[38;5;66;03m# set column\u001b[39;00m\n\u001b[1;32m-> 3655\u001b[0m     \u001b[38;5;28;43mself\u001b[39;49m\u001b[38;5;241;43m.\u001b[39;49m\u001b[43m_set_item\u001b[49m\u001b[43m(\u001b[49m\u001b[43mkey\u001b[49m\u001b[43m,\u001b[49m\u001b[43m \u001b[49m\u001b[43mvalue\u001b[49m\u001b[43m)\u001b[49m\n",
      "File \u001b[1;32m~\\anaconda3\\lib\\site-packages\\pandas\\core\\frame.py:3832\u001b[0m, in \u001b[0;36mDataFrame._set_item\u001b[1;34m(self, key, value)\u001b[0m\n\u001b[0;32m   3822\u001b[0m \u001b[38;5;28;01mdef\u001b[39;00m \u001b[38;5;21m_set_item\u001b[39m(\u001b[38;5;28mself\u001b[39m, key, value) \u001b[38;5;241m-\u001b[39m\u001b[38;5;241m>\u001b[39m \u001b[38;5;28;01mNone\u001b[39;00m:\n\u001b[0;32m   3823\u001b[0m     \u001b[38;5;124;03m\"\"\"\u001b[39;00m\n\u001b[0;32m   3824\u001b[0m \u001b[38;5;124;03m    Add series to DataFrame in specified column.\u001b[39;00m\n\u001b[0;32m   3825\u001b[0m \n\u001b[1;32m   (...)\u001b[0m\n\u001b[0;32m   3830\u001b[0m \u001b[38;5;124;03m    ensure homogeneity.\u001b[39;00m\n\u001b[0;32m   3831\u001b[0m \u001b[38;5;124;03m    \"\"\"\u001b[39;00m\n\u001b[1;32m-> 3832\u001b[0m     value \u001b[38;5;241m=\u001b[39m \u001b[38;5;28;43mself\u001b[39;49m\u001b[38;5;241;43m.\u001b[39;49m\u001b[43m_sanitize_column\u001b[49m\u001b[43m(\u001b[49m\u001b[43mvalue\u001b[49m\u001b[43m)\u001b[49m\n\u001b[0;32m   3834\u001b[0m     \u001b[38;5;28;01mif\u001b[39;00m (\n\u001b[0;32m   3835\u001b[0m         key \u001b[38;5;129;01min\u001b[39;00m \u001b[38;5;28mself\u001b[39m\u001b[38;5;241m.\u001b[39mcolumns\n\u001b[0;32m   3836\u001b[0m         \u001b[38;5;129;01mand\u001b[39;00m value\u001b[38;5;241m.\u001b[39mndim \u001b[38;5;241m==\u001b[39m \u001b[38;5;241m1\u001b[39m\n\u001b[0;32m   3837\u001b[0m         \u001b[38;5;129;01mand\u001b[39;00m \u001b[38;5;129;01mnot\u001b[39;00m is_extension_array_dtype(value)\n\u001b[0;32m   3838\u001b[0m     ):\n\u001b[0;32m   3839\u001b[0m         \u001b[38;5;66;03m# broadcast across multiple columns if necessary\u001b[39;00m\n\u001b[0;32m   3840\u001b[0m         \u001b[38;5;28;01mif\u001b[39;00m \u001b[38;5;129;01mnot\u001b[39;00m \u001b[38;5;28mself\u001b[39m\u001b[38;5;241m.\u001b[39mcolumns\u001b[38;5;241m.\u001b[39mis_unique \u001b[38;5;129;01mor\u001b[39;00m \u001b[38;5;28misinstance\u001b[39m(\u001b[38;5;28mself\u001b[39m\u001b[38;5;241m.\u001b[39mcolumns, MultiIndex):\n",
      "File \u001b[1;32m~\\anaconda3\\lib\\site-packages\\pandas\\core\\frame.py:4535\u001b[0m, in \u001b[0;36mDataFrame._sanitize_column\u001b[1;34m(self, value)\u001b[0m\n\u001b[0;32m   4532\u001b[0m     \u001b[38;5;28;01mreturn\u001b[39;00m _reindex_for_setitem(value, \u001b[38;5;28mself\u001b[39m\u001b[38;5;241m.\u001b[39mindex)\n\u001b[0;32m   4534\u001b[0m \u001b[38;5;28;01mif\u001b[39;00m is_list_like(value):\n\u001b[1;32m-> 4535\u001b[0m     \u001b[43mcom\u001b[49m\u001b[38;5;241;43m.\u001b[39;49m\u001b[43mrequire_length_match\u001b[49m\u001b[43m(\u001b[49m\u001b[43mvalue\u001b[49m\u001b[43m,\u001b[49m\u001b[43m \u001b[49m\u001b[38;5;28;43mself\u001b[39;49m\u001b[38;5;241;43m.\u001b[39;49m\u001b[43mindex\u001b[49m\u001b[43m)\u001b[49m\n\u001b[0;32m   4536\u001b[0m \u001b[38;5;28;01mreturn\u001b[39;00m sanitize_array(value, \u001b[38;5;28mself\u001b[39m\u001b[38;5;241m.\u001b[39mindex, copy\u001b[38;5;241m=\u001b[39m\u001b[38;5;28;01mTrue\u001b[39;00m, allow_2d\u001b[38;5;241m=\u001b[39m\u001b[38;5;28;01mTrue\u001b[39;00m)\n",
      "File \u001b[1;32m~\\anaconda3\\lib\\site-packages\\pandas\\core\\common.py:557\u001b[0m, in \u001b[0;36mrequire_length_match\u001b[1;34m(data, index)\u001b[0m\n\u001b[0;32m    553\u001b[0m \u001b[38;5;124;03m\"\"\"\u001b[39;00m\n\u001b[0;32m    554\u001b[0m \u001b[38;5;124;03mCheck the length of data matches the length of the index.\u001b[39;00m\n\u001b[0;32m    555\u001b[0m \u001b[38;5;124;03m\"\"\"\u001b[39;00m\n\u001b[0;32m    556\u001b[0m \u001b[38;5;28;01mif\u001b[39;00m \u001b[38;5;28mlen\u001b[39m(data) \u001b[38;5;241m!=\u001b[39m \u001b[38;5;28mlen\u001b[39m(index):\n\u001b[1;32m--> 557\u001b[0m     \u001b[38;5;28;01mraise\u001b[39;00m \u001b[38;5;167;01mValueError\u001b[39;00m(\n\u001b[0;32m    558\u001b[0m         \u001b[38;5;124m\"\u001b[39m\u001b[38;5;124mLength of values \u001b[39m\u001b[38;5;124m\"\u001b[39m\n\u001b[0;32m    559\u001b[0m         \u001b[38;5;124mf\u001b[39m\u001b[38;5;124m\"\u001b[39m\u001b[38;5;124m(\u001b[39m\u001b[38;5;132;01m{\u001b[39;00m\u001b[38;5;28mlen\u001b[39m(data)\u001b[38;5;132;01m}\u001b[39;00m\u001b[38;5;124m) \u001b[39m\u001b[38;5;124m\"\u001b[39m\n\u001b[0;32m    560\u001b[0m         \u001b[38;5;124m\"\u001b[39m\u001b[38;5;124mdoes not match length of index \u001b[39m\u001b[38;5;124m\"\u001b[39m\n\u001b[0;32m    561\u001b[0m         \u001b[38;5;124mf\u001b[39m\u001b[38;5;124m\"\u001b[39m\u001b[38;5;124m(\u001b[39m\u001b[38;5;132;01m{\u001b[39;00m\u001b[38;5;28mlen\u001b[39m(index)\u001b[38;5;132;01m}\u001b[39;00m\u001b[38;5;124m)\u001b[39m\u001b[38;5;124m\"\u001b[39m\n\u001b[0;32m    562\u001b[0m     )\n",
      "\u001b[1;31mValueError\u001b[0m: Length of values (558089) does not match length of index (79727)"
     ]
    }
   ],
   "source": [
    "df2[54] = target\n",
    "df2.head()"
   ]
  },
  {
   "cell_type": "code",
   "execution_count": 69,
   "id": "0ce639b7-4117-4c19-b3f8-2575735cc6aa",
   "metadata": {
    "execution": {
     "iopub.execute_input": "2022-08-08T00:39:27.272724Z",
     "iopub.status.busy": "2022-08-08T00:39:27.271725Z",
     "iopub.status.idle": "2022-08-08T00:39:27.290678Z",
     "shell.execute_reply": "2022-08-08T00:39:27.290678Z",
     "shell.execute_reply.started": "2022-08-08T00:39:27.272724Z"
    },
    "tags": []
   },
   "outputs": [],
   "source": [
    "# 저장한다.\n",
    "df2.to_csv('./data/breast_canner_result.csv', index=False)"
   ]
  },
  {
   "cell_type": "code",
   "execution_count": null,
   "id": "7d8b2e73-9e4f-4df1-bcb9-25e5935557d5",
   "metadata": {},
   "outputs": [],
   "source": []
  }
 ],
 "metadata": {
  "kernelspec": {
   "display_name": "Python 3 (ipykernel)",
   "language": "python",
   "name": "python3"
  },
  "language_info": {
   "codemirror_mode": {
    "name": "ipython",
    "version": 3
   },
   "file_extension": ".py",
   "mimetype": "text/x-python",
   "name": "python",
   "nbconvert_exporter": "python",
   "pygments_lexer": "ipython3",
   "version": "3.9.12"
  }
 },
 "nbformat": 4,
 "nbformat_minor": 5
}
